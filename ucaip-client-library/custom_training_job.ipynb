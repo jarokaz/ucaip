{
 "cells": [
  {
   "cell_type": "markdown",
   "metadata": {},
   "source": [
    "# Starting and monitoring AI Platform Training jobs."
   ]
  },
  {
   "cell_type": "code",
   "execution_count": 1,
   "metadata": {},
   "outputs": [],
   "source": [
    "import base64\n",
    "import os\n",
    "import json\n",
    "import time\n",
    "import numpy as np\n",
    "import tensorflow as tf\n",
    "\n",
    "import google.auth\n",
    "\n",
    "from google.auth.credentials import Credentials\n",
    "from google.auth.transport.requests import AuthorizedSession\n",
    "\n",
    "from typing import List, Optional, Text, Tuple\n"
   ]
  },
  {
   "cell_type": "markdown",
   "metadata": {},
   "source": [
    "## Setting the notebook's parameters"
   ]
  },
  {
   "cell_type": "code",
   "execution_count": 2,
   "metadata": {},
   "outputs": [],
   "source": [
    "CAIP_ENDPOINT = \"us-central1-aiplatform.googleapis.com\"\n",
    "CAIP_REGION = \"us-central1\"\n",
    "TENSORBOARD_NAME = \"demo-tensorboard\"\n",
    "TENSORBOARD_LOG_DIR = \"gs://jk-mlops-dev-tensorboard-logs-us-central1/test1\""
   ]
  },
  {
   "cell_type": "markdown",
   "metadata": {},
   "source": [
    "## Preparing Managed TensorBoard "
   ]
  },
  {
   "cell_type": "markdown",
   "metadata": {},
   "source": [
    "### Create an authorized session"
   ]
  },
  {
   "cell_type": "code",
   "execution_count": null,
   "metadata": {},
   "outputs": [],
   "source": [
    "credentials, project_id = google.auth.default()\n",
    "authed_session = AuthorizedSession(credentials)\n",
    "\n",
    "caip_api_prefix = f'https://{CAIP_ENDPOINT}/v1alpha1/projects/{project_id}/locations/{CAIP_REGION}'"
   ]
  },
  {
   "cell_type": "markdown",
   "metadata": {},
   "source": [
    "### Create a TensorBoard resources"
   ]
  },
  {
   "cell_type": "code",
   "execution_count": null,
   "metadata": {},
   "outputs": [],
   "source": [
    "api_url = f'{caip_api_prefix}/tensorboards'\n",
    "\n",
    "request_body = {\n",
    "    \"display_name\": TENSORBOARD_NAME\n",
    "}\n",
    "\n",
    "response = authed_session.post(api_url, data=json.dumps(request_body))\n",
    "response.json()"
   ]
  },
  {
   "cell_type": "markdown",
   "metadata": {},
   "source": [
    "### List all tensorboards with a set name"
   ]
  },
  {
   "cell_type": "code",
   "execution_count": null,
   "metadata": {},
   "outputs": [],
   "source": [
    "api_url = f'{caip_api_prefix}/tensorboards?filter=display_name={TENSORBOARD_NAME}'\n",
    "\n",
    "response = authed_session.get(api_url)\n",
    "response.json()"
   ]
  },
  {
   "cell_type": "markdown",
   "metadata": {},
   "source": [
    "## Preparing a training container"
   ]
  },
  {
   "cell_type": "code",
   "execution_count": 42,
   "metadata": {},
   "outputs": [
    {
     "name": "stdout",
     "output_type": "stream",
     "text": [
      "Writing train.py\n"
     ]
    }
   ],
   "source": [
    "%%writefile train.py\n",
    "\n",
    "# Copyright 2020 Google Inc. All Rights Reserved.\n",
    "#\n",
    "# Licensed under the Apache License, Version 2.0 (the \"License\");\n",
    "# you may not use this file except in compliance with the License.\n",
    "# You may obtain a copy of the License at\n",
    "#\n",
    "#            http://www.apache.org/licenses/LICENSE-2.0\n",
    "#\n",
    "# Unless required by applicable law or agreed to in writing, software\n",
    "# distributed under the License is distributed on an \"AS IS\" BASIS,\n",
    "# WITHOUT WARRANTIES OR CONDITIONS OF ANY KIND, either express or implied.\n",
    "# See the License for the specific language governing permissions and\n",
    "# limitations under the License.\n",
    "\n",
    "import argparse\n",
    "from datetime import datetime\n",
    "import hypertune\n",
    "import tensorflow as tf\n",
    "import sys\n",
    "import os\n",
    "import time\n",
    "\n",
    "\n",
    "\n",
    "def _get_model(input_shape, num_classes):\n",
    "    \"\"\"\n",
    "    Creates a simple convolutional network.\n",
    "    \"\"\"\n",
    "    \n",
    "    model = tf.keras.Sequential()\n",
    "    model.add(\n",
    "        tf.keras.layers.Conv2D(32, kernel_size=(3, 3), activation='relu', input_shape=input_shape))\n",
    "    model.add(tf.keras.layers.Conv2D(64, (3, 3), activation='relu'))\n",
    "    model.add(tf.keras.layers.MaxPooling2D(pool_size=(2, 2)))\n",
    "    model.add(tf.keras.layers.Dropout(0.25))\n",
    "    model.add(tf.keras.layers.Flatten())\n",
    "    model.add(tf.keras.layers.Dense(128, activation='relu'))\n",
    "    model.add(tf.keras.layers.Dropout(0.5))\n",
    "    model.add(tf.keras.layers.Dense(num_classes, activation='softmax'))\n",
    "\n",
    "    model.compile(\n",
    "        loss=tf.keras.losses.categorical_crossentropy,\n",
    "        optimizer=tf.keras.optimizers.Adadelta(),\n",
    "        metrics=['accuracy'])\n",
    "    \n",
    "    return model\n",
    "  \n",
    "\n",
    "def _get_datasets():\n",
    "    \"\"\"\n",
    "    Creates MNIST training and validation splits.\n",
    "    \"\"\"\n",
    "    \n",
    "    (x_train, y_train), (x_test, y_test) = tf.keras.datasets.mnist.load_data()\n",
    "    \n",
    "    img_rows, img_cols = 28, 28\n",
    "    num_classes = 10\n",
    "    \n",
    "    x_train = x_train.reshape(x_train.shape[0], img_rows, img_cols, 1)\n",
    "    x_test = x_test.reshape(x_test.shape[0], img_rows, img_cols, 1)\n",
    "    input_shape = (img_rows, img_cols, 1)\n",
    "        \n",
    "    x_train = x_train.astype('float32')\n",
    "    x_test = x_test.astype('float32')\n",
    "    x_train /= 255\n",
    "    x_test /= 255\n",
    "    \n",
    "    y_train = tf.keras.utils.to_categorical(y_train, num_classes)\n",
    "    y_test = tf.keras.utils.to_categorical(y_test, num_classes)\n",
    "    \n",
    "    return input_shape, num_classes, x_train, y_train, x_test, y_test\n",
    "\n",
    "\n",
    "class _HptuneCallback(tf.keras.callbacks.Callback):\n",
    "    \"\"\"\n",
    "    A custom Keras callback class that reports a metric to hypertuner\n",
    "    at the end of each epoch.\n",
    "    \"\"\"\n",
    "    \n",
    "    def __init__(self, metric_tag, metric_value):\n",
    "        super(_HptuneCallback, self).__init__()\n",
    "        self.metric_tag = metric_tag\n",
    "        self.metric_value = metric_value\n",
    "        self.hpt = hypertune.HyperTune()\n",
    "        \n",
    "    def on_epoch_end(self, epoch, logs=None):\n",
    "        self.hpt.report_hyperparameter_tuning_metric(\n",
    "            hyperparameter_metric_tag=self.metric_tag,\n",
    "            metric_value=logs[self.metric_value],\n",
    "            global_step=epoch)\n",
    "\n",
    "\n",
    "def train(batch_size, epochs, verbosity):\n",
    "    \"\"\"\n",
    "    Trains the mnist model.\n",
    "    \"\"\"\n",
    "    \n",
    "    # Prepare datasets\n",
    "    input_shape, num_classes, x_train, y_train, x_test, y_test = _get_datasets()\n",
    "    \n",
    "    # Create model\n",
    "    model = _get_model(input_shape, num_classes)\n",
    "    \n",
    "    # Configure Hypertuner callback\n",
    "    callbacks = [_HptuneCallback('accuracy', 'val_accuracy')]\n",
    "            \n",
    "    # Configure TensorBoard callback\n",
    "    if 'AIP_TENSORBOARD_LOG_DIR' in os.environ:\n",
    "        log_dir = os.environ['AIP_TENSORBOARD_LOG_DIR']\n",
    "        callbacks.append(tf.keras.callbacks.TensorBoard(log_dir=log_dir))\n",
    "    \n",
    "    # Start training\n",
    "    history = model.fit(\n",
    "        x_train,\n",
    "        y_train,\n",
    "        batch_size=batch_size,\n",
    "        epochs=epochs,\n",
    "        verbose=1,\n",
    "        validation_data=(x_test, y_test),\n",
    "        callbacks=callbacks,\n",
    "    )\n",
    "    \n",
    "\n",
    "    \n",
    "def get_args():\n",
    "  \"\"\"\n",
    "  Returns an argument parser.\n",
    "  \"\"\"\n",
    "\n",
    "  parser = argparse.ArgumentParser()\n",
    "  parser.add_argument(\n",
    "      '--num-epochs',\n",
    "      type=int,\n",
    "      default=20,\n",
    "      help='number of times to go through the data, default=20')\n",
    "  parser.add_argument(\n",
    "      '--batch-size',\n",
    "      default=128,\n",
    "      type=int,\n",
    "      help='number of records to read during each training step, default=128')\n",
    "  parser.add_argument(\n",
    "      '--verbosity',\n",
    "      choices=['DEBUG', 'ERROR', 'FATAL', 'INFO', 'WARN'],\n",
    "      default='INFO')\n",
    "  args, _ = parser.parse_known_args()\n",
    "  return args\n",
    "\n",
    "\n",
    "\n",
    "if __name__ == \"__main__\":\n",
    "    args = get_args()\n",
    "    train(args.batch_size, args.num_epochs, args.verbosity)"
   ]
  },
  {
   "cell_type": "code",
   "execution_count": 41,
   "metadata": {},
   "outputs": [
    {
     "name": "stdout",
     "output_type": "stream",
     "text": [
      "env: AIP_TENSORBOARD_LOG_DIR=gs://jk-mlops-dev-tensorboard-logs-us-central1/test1\n",
      "Epoch 1/3\n",
      "   2/1875 [..............................] - ETA: 31:54 - loss: 2.3050 - accuracy: 0.0625WARNING:tensorflow:Callbacks method `on_train_batch_end` is slow compared to the batch time (batch time: 0.0071s vs `on_train_batch_end` time: 2.0371s). Check your callbacks.\n",
      "1875/1875 [==============================] - 13s 7ms/step - loss: 2.2347 - accuracy: 0.2139 - val_loss: 2.1344 - val_accuracy: 0.5012\n",
      "Epoch 2/3\n",
      "1875/1875 [==============================] - 10s 5ms/step - loss: 2.0302 - accuracy: 0.4443 - val_loss: 1.8328 - val_accuracy: 0.7045\n",
      "Epoch 3/3\n",
      "1875/1875 [==============================] - 10s 6ms/step - loss: 1.7001 - accuracy: 0.5816 - val_loss: 1.4087 - val_accuracy: 0.7631\n"
     ]
    }
   ],
   "source": [
    "%env AIP_TENSORBOARD_LOG_DIR={TENSORBOARD_LOG_DIR}\n",
    "#%env AIP_TENSORBOARD_LOG_DIR\n",
    "\n",
    "history = train(batch_size=32, epochs=3, verbosity=1)"
   ]
  },
  {
   "cell_type": "code",
   "execution_count": 17,
   "metadata": {},
   "outputs": [
    {
     "data": {
      "text/plain": [
       "<tensorflow.python.keras.callbacks.History at 0x7f0a28c9ae90>"
      ]
     },
     "execution_count": 17,
     "metadata": {},
     "output_type": "execute_result"
    }
   ],
   "source": [
    "history"
   ]
  },
  {
   "cell_type": "code",
   "execution_count": 20,
   "metadata": {},
   "outputs": [
    {
     "data": {
      "text/plain": [
       "{'loss': [2.2472245693206787, 2.065563201904297, 1.7723687887191772],\n",
       " 'accuracy': [0.22290000319480896, 0.4487000107765198, 0.5751500129699707],\n",
       " 'val_loss': [2.156482696533203, 1.8973174095153809, 1.5119750499725342],\n",
       " 'val_accuracy': [0.5813000202178955, 0.7179999947547913, 0.7728000283241272]}"
      ]
     },
     "execution_count": 20,
     "metadata": {},
     "output_type": "execute_result"
    }
   ],
   "source": [
    "history.history"
   ]
  },
  {
   "cell_type": "markdown",
   "metadata": {},
   "source": [
    "## Cleaning up"
   ]
  },
  {
   "cell_type": "markdown",
   "metadata": {},
   "source": [
    "### List all tensorboards in the project"
   ]
  },
  {
   "cell_type": "code",
   "execution_count": null,
   "metadata": {},
   "outputs": [],
   "source": [
    "api_url = f'{caip_api_prefix}/tensorboards'\n",
    "\n",
    "response = authed_session.get(api_url)\n",
    "response.json()"
   ]
  },
  {
   "cell_type": "markdown",
   "metadata": {},
   "source": [
    "### Delete a TensorBoard resource"
   ]
  },
  {
   "cell_type": "code",
   "execution_count": null,
   "metadata": {},
   "outputs": [],
   "source": [
    "tensorboard_id = '4655314639817539584'\n",
    "\n",
    "api_url = f'{caip_api_prefix}/tensorboards/{tensorboard_id}'\n",
    "\n",
    "response = authed_session.delete(api_url)\n",
    "response.json()"
   ]
  },
  {
   "cell_type": "code",
   "execution_count": null,
   "metadata": {},
   "outputs": [],
   "source": []
  }
 ],
 "metadata": {
  "environment": {
   "name": "tf2-2-3-gpu.2-3.m59",
   "type": "gcloud",
   "uri": "gcr.io/deeplearning-platform-release/tf2-2-3-gpu.2-3:m59"
  },
  "kernelspec": {
   "display_name": "Python 3",
   "language": "python",
   "name": "python3"
  },
  "language_info": {
   "codemirror_mode": {
    "name": "ipython",
    "version": 3
   },
   "file_extension": ".py",
   "mimetype": "text/x-python",
   "name": "python",
   "nbconvert_exporter": "python",
   "pygments_lexer": "ipython3",
   "version": "3.7.8"
  }
 },
 "nbformat": 4,
 "nbformat_minor": 4
}
