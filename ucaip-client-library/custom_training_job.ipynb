{
 "cells": [
  {
   "cell_type": "markdown",
   "metadata": {},
   "source": [
    "# Starting and monitoring AI Platform Training jobs."
   ]
  },
  {
   "cell_type": "code",
   "execution_count": 1,
   "metadata": {},
   "outputs": [],
   "source": [
    "import base64\n",
    "import os\n",
    "import json\n",
    "import time\n",
    "import numpy as np\n",
    "import tensorflow as tf\n",
    "\n",
    "import google.auth\n",
    "\n",
    "from google.auth.credentials import Credentials\n",
    "from google.auth.transport.requests import AuthorizedSession\n",
    "\n",
    "from typing import List, Optional, Text, Tuple\n"
   ]
  },
  {
   "cell_type": "markdown",
   "metadata": {},
   "source": [
    "## Setting the notebook parameters"
   ]
  },
  {
   "cell_type": "code",
   "execution_count": 2,
   "metadata": {},
   "outputs": [],
   "source": [
    "CAIP_ENDPOINT = \"us-central1-aiplatform.googleapis.com\"\n",
    "CAIP_REGION = \"us-central1\"\n",
    "TENSORBOARD_NAME = \"demo-tensorboard\""
   ]
  },
  {
   "cell_type": "markdown",
   "metadata": {},
   "source": [
    "## Preparing Managed TensorBoard "
   ]
  },
  {
   "cell_type": "markdown",
   "metadata": {},
   "source": [
    "### Create an authorized session"
   ]
  },
  {
   "cell_type": "code",
   "execution_count": 22,
   "metadata": {},
   "outputs": [],
   "source": [
    "credentials, project_id = google.auth.default()\n",
    "authed_session = AuthorizedSession(credentials)\n",
    "\n",
    "caip_api_prefix = f'https://{CAIP_ENDPOINT}/v1alpha1/projects/{project_id}/locations/{CAIP_REGION}'"
   ]
  },
  {
   "cell_type": "markdown",
   "metadata": {},
   "source": [
    "### Create a TensorBoard resources"
   ]
  },
  {
   "cell_type": "code",
   "execution_count": 23,
   "metadata": {},
   "outputs": [
    {
     "data": {
      "text/plain": [
       "{'name': 'projects/895222332033/locations/us-central1/tensorboards/7024208043814420480/operations/1694551927565582336',\n",
       " 'metadata': {'@type': 'type.googleapis.com/google.cloud.aiplatform.v1alpha1.CreateTensorboardOperationMetadata',\n",
       "  'genericMetadata': {'createTime': '2020-11-23T23:19:52.693614Z',\n",
       "   'updateTime': '2020-11-23T23:19:52.693614Z'}}}"
      ]
     },
     "execution_count": 23,
     "metadata": {},
     "output_type": "execute_result"
    }
   ],
   "source": [
    "api_url = f'{caip_api_prefix}/tensorboards'\n",
    "\n",
    "request_body = {\n",
    "    \"display_name\": TENSORBOARD_NAME\n",
    "}\n",
    "\n",
    "response = authed_session.post(api_url, data=json.dumps(request_body))\n",
    "response.json()"
   ]
  },
  {
   "cell_type": "markdown",
   "metadata": {},
   "source": [
    "### List all tensorboards with a set name"
   ]
  },
  {
   "cell_type": "code",
   "execution_count": 24,
   "metadata": {},
   "outputs": [
    {
     "data": {
      "text/plain": [
       "{'tensorboards': [{'name': 'projects/895222332033/locations/us-central1/tensorboards/5236278991748333568',\n",
       "   'displayName': 'demo-tensorboard',\n",
       "   'createTime': '2020-11-23T23:18:52.933004Z',\n",
       "   'updateTime': '2020-11-23T23:18:53.057311Z',\n",
       "   'etag': 'AMEw9yMdG_TtJVIxyM1hiIOShO3Dv56z2xkhrh0Kyx6bY4Co6az0Zkg9BShGMcQYIdE='},\n",
       "  {'name': 'projects/895222332033/locations/us-central1/tensorboards/7024208043814420480',\n",
       "   'displayName': 'demo-tensorboard',\n",
       "   'createTime': '2020-11-23T23:19:52.693614Z',\n",
       "   'updateTime': '2020-11-23T23:19:52.891089Z',\n",
       "   'etag': 'AMEw9yNR3ZgB_szVbo0ydVp8pA-byJLdfbzBIyLDTzvlUGePJC2BN8cofVVXUVo1-5j8'}]}"
      ]
     },
     "execution_count": 24,
     "metadata": {},
     "output_type": "execute_result"
    }
   ],
   "source": [
    "api_url = f'{caip_api_prefix}/tensorboards?filter=display_name={TENSORBOARD_NAME}'\n",
    "\n",
    "response = authed_session.get(api_url)\n",
    "response.json()"
   ]
  },
  {
   "cell_type": "code",
   "execution_count": null,
   "metadata": {},
   "outputs": [],
   "source": []
  },
  {
   "cell_type": "code",
   "execution_count": null,
   "metadata": {},
   "outputs": [],
   "source": []
  },
  {
   "cell_type": "code",
   "execution_count": null,
   "metadata": {},
   "outputs": [],
   "source": []
  },
  {
   "cell_type": "code",
   "execution_count": null,
   "metadata": {},
   "outputs": [],
   "source": []
  },
  {
   "cell_type": "code",
   "execution_count": null,
   "metadata": {},
   "outputs": [],
   "source": []
  },
  {
   "cell_type": "markdown",
   "metadata": {},
   "source": [
    "## Cleaning up"
   ]
  },
  {
   "cell_type": "markdown",
   "metadata": {},
   "source": [
    "### List all tensorboards in the project"
   ]
  },
  {
   "cell_type": "code",
   "execution_count": 25,
   "metadata": {},
   "outputs": [
    {
     "data": {
      "text/plain": [
       "{'tensorboards': [{'name': 'projects/895222332033/locations/us-central1/tensorboards/1215127474459901952',\n",
       "   'displayName': 'tensorboard-1',\n",
       "   'createTime': '2020-11-19T15:34:52.470258Z',\n",
       "   'updateTime': '2020-11-19T15:34:52.601288Z',\n",
       "   'etag': 'AMEw9yMQ9nP3PEDWq4stSpOLyE82wzUvCaGrBLzKW1w0IxiyBA2NRl8ho19RlYJmFty-'},\n",
       "  {'name': 'projects/895222332033/locations/us-central1/tensorboards/5236278991748333568',\n",
       "   'displayName': 'demo-tensorboard',\n",
       "   'createTime': '2020-11-23T23:18:52.933004Z',\n",
       "   'updateTime': '2020-11-23T23:18:53.057311Z',\n",
       "   'etag': 'AMEw9yOiSaoPMMPtBSA5NNCL3FF7I5vdSiIRogUGR9h5TgpA5bEc2e7lnFIsF4xw5fg='},\n",
       "  {'name': 'projects/895222332033/locations/us-central1/tensorboards/7024208043814420480',\n",
       "   'displayName': 'demo-tensorboard',\n",
       "   'createTime': '2020-11-23T23:19:52.693614Z',\n",
       "   'updateTime': '2020-11-23T23:19:52.891089Z',\n",
       "   'etag': 'AMEw9yN1qeePzJpcAYwyggzg_Sq3KFG2hhYO0Y1_M7i7CWWPF3BwNcW7y4iLZf0v3xHX'}]}"
      ]
     },
     "execution_count": 25,
     "metadata": {},
     "output_type": "execute_result"
    }
   ],
   "source": [
    "api_url = f'{caip_api_prefix}/tensorboards'\n",
    "\n",
    "response = authed_session.get(api_url)\n",
    "response.json()"
   ]
  },
  {
   "cell_type": "markdown",
   "metadata": {},
   "source": [
    "### Delete a TensorBoard resource"
   ]
  },
  {
   "cell_type": "code",
   "execution_count": 20,
   "metadata": {},
   "outputs": [
    {
     "data": {
      "text/plain": [
       "{'error': {'code': 404,\n",
       "  'message': 'The tensorboard projects/jk-mlops-dev/locations/us-central1/tensorboards/4655314639817539584 does not exist.',\n",
       "  'status': 'NOT_FOUND'}}"
      ]
     },
     "execution_count": 20,
     "metadata": {},
     "output_type": "execute_result"
    }
   ],
   "source": [
    "tensorboard_id = '4655314639817539584'\n",
    "\n",
    "api_url = f'{caip_api_prefix}/tensorboards/{tensorboard_id}'\n",
    "\n",
    "response = authed_session.delete(api_url)\n",
    "response.json()"
   ]
  },
  {
   "cell_type": "code",
   "execution_count": null,
   "metadata": {},
   "outputs": [],
   "source": []
  }
 ],
 "metadata": {
  "environment": {
   "name": "tf2-2-3-gpu.2-3.m59",
   "type": "gcloud",
   "uri": "gcr.io/deeplearning-platform-release/tf2-2-3-gpu.2-3:m59"
  },
  "kernelspec": {
   "display_name": "Python 3",
   "language": "python",
   "name": "python3"
  },
  "language_info": {
   "codemirror_mode": {
    "name": "ipython",
    "version": 3
   },
   "file_extension": ".py",
   "mimetype": "text/x-python",
   "name": "python",
   "nbconvert_exporter": "python",
   "pygments_lexer": "ipython3",
   "version": "3.7.8"
  }
 },
 "nbformat": 4,
 "nbformat_minor": 4
}
