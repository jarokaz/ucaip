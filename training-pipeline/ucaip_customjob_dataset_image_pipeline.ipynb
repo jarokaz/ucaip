{
 "cells": [
  {
   "cell_type": "code",
   "execution_count": null,
   "metadata": {
    "id": "ur8xi4C7S06n"
   },
   "outputs": [],
   "source": [
    "# Copyright 2020 Google LLC\n",
    "#\n",
    "# Licensed under the Apache License, Version 2.0 (the \"License\");\n",
    "# you may not use this file except in compliance with the License.\n",
    "# You may obtain a copy of the License at\n",
    "#\n",
    "#     https://www.apache.org/licenses/LICENSE-2.0\n",
    "#\n",
    "# Unless required by applicable law or agreed to in writing, software\n",
    "# distributed under the License is distributed on an \"AS IS\" BASIS,\n",
    "# WITHOUT WARRANTIES OR CONDITIONS OF ANY KIND, either express or implied.\n",
    "# See the License for the specific language governing permissions and\n",
    "# limitations under the License."
   ]
  },
  {
   "cell_type": "markdown",
   "metadata": {
    "id": "eHLV0D7Y5jtU"
   },
   "source": [
    "# AI Platform (Unified) SDK: Custom image classification model using a training pipeline with a managed dataset input\n",
    "\n",
    "<table align=\"left\">\n",
    "  <td>\n",
    "    <a href=\"https://colab.research.google.com/github/GoogleCloudPlatform/ai-platform-samples/blob/master/notebooks/deepdive/custom/ucaip_customjob_image_pipeline.ipynb\">\n",
    "      <img src=\"https://cloud.google.com/ml-engine/images/colab-logo-32px.png\" alt=\"Colab logo\"> Run in Colab\n",
    "    </a>\n",
    "  </td>\n",
    "  <td>\n",
    "    <a href=\"https://github.com/GoogleCloudPlatform/ai-platform-samples/blob/master/notebooks/deepdive/custom/ucaip_customjob_image_pipeline.ipynb\">\n",
    "      <img src=\"https://cloud.google.com/ml-engine/images/github-logo-32px.png\" alt=\"GitHub logo\">\n",
    "      View on GitHub\n",
    "    </a>\n",
    "  </td>\n",
    "</table>"
   ]
  },
  {
   "cell_type": "markdown",
   "metadata": {
    "id": "tvgnzT1CKxrO"
   },
   "source": [
    "# Overview\n",
    "\n",
    "\n",
    "This tutorial demonstrates how to use the AI Platform (Unified) Python SDK to train a custom image classification model with a [training pipeline](https://cloud.google.com/ai-platform-unified/docs/training/create-training-pipeline).\n",
    "\n",
    "### Dataset\n",
    "\n",
    "The dataset used for this tutorial is the [Flowers dataset](https://www.tensorflow.org/datasets/catalog/tf_flowers) from [TensorFlow Datasets](https://www.tensorflow.org/datasets/catalog/overview). The version of the dataset you will use in this tutorial is stored in a public Cloud Storage bucket. The trained model predicts the type of flower an image is from a class of five flowers: daisy, dandelion, rose, sunflower, tulip.\n",
    "\n",
    "### Objective\n",
    "\n",
    "In this notebook, you will learn how to create a custom image classification model, using a training pipeline that that uses a managed dataset as the input and a custom container for the training step.\n",
    "\n",
    "The steps performed include: \n",
    "\n",
    "- Creating a AI Platform (Unified) datasets.\n",
    "- Creating a AI Platform (Unified) custom job that uses a custom training container.\n",
    "- Creating a training pipeline.\n",
    "- Starting the training pipeline job.\n",
    "- Monitoring the training pipeline job.\n",
    "- Retrieve and load the trained model artifacts.\n",
    "- View the model evaluation.\n",
    "- Deploy the model to a serving endpoint.\n",
    "- Make a prediction(s).\n",
    "- Undeploy the model.\n",
    "\n",
    "### Costs \n",
    "\n",
    "This tutorial uses billable components of Google Cloud Platform (GCP):\n",
    "\n",
    "* Cloud AI Platform\n",
    "* Cloud Storage\n",
    "\n",
    "Learn about [Cloud AI Platform\n",
    "pricing](https://cloud.google.com/ml-engine/docs/pricing) and [Cloud Storage\n",
    "pricing](https://cloud.google.com/storage/pricing), and use the [Pricing\n",
    "Calculator](https://cloud.google.com/products/calculator/)\n",
    "to generate a cost estimate based on your projected usage."
   ]
  },
  {
   "cell_type": "markdown",
   "metadata": {
    "id": "i7EUnXsZhAGF"
   },
   "source": [
    "## Installation\n",
    "\n",
    "Install the latest (preview) version of AI Platform (Unified) SDK."
   ]
  },
  {
   "cell_type": "code",
   "execution_count": null,
   "metadata": {
    "id": "wyy5Lbnzg5fi"
   },
   "outputs": [],
   "source": [
    "%pip install -U google-cloud-aiplatform"
   ]
  },
  {
   "cell_type": "markdown",
   "metadata": {
    "id": "tOBHUEB_GKBA"
   },
   "source": [
    "Install cloudstorage as well."
   ]
  },
  {
   "cell_type": "code",
   "execution_count": null,
   "metadata": {
    "id": "NJs01_I8GKBA"
   },
   "outputs": [],
   "source": [
    "%pip install -U google-cloud-storage"
   ]
  },
  {
   "cell_type": "markdown",
   "metadata": {
    "id": "OhUF6LyjGKBA"
   },
   "source": [
    "Install openCV, which will be used for creating test images."
   ]
  },
  {
   "cell_type": "code",
   "execution_count": null,
   "metadata": {
    "id": "J6W99Jg-GKBA"
   },
   "outputs": [],
   "source": [
    "%pip install -U opencv-python"
   ]
  },
  {
   "cell_type": "markdown",
   "metadata": {
    "id": "KZmKrWRsGKBA"
   },
   "source": [
    "### Restart the Kernel\n",
    "\n",
    "Once you've installed the AI Platform (Unified) SDK, you need to restart the notebook kernel so it can find the packages."
   ]
  },
  {
   "cell_type": "code",
   "execution_count": null,
   "metadata": {
    "id": "9luQpONrzPb6"
   },
   "outputs": [],
   "source": [
    "# Automatically restart kernel after installs\n",
    "import IPython\n",
    "app = IPython.Application.instance()\n",
    "app.kernel.do_shutdown(True)"
   ]
  },
  {
   "cell_type": "markdown",
   "metadata": {
    "id": "DgswXLrzGKBA"
   },
   "source": [
    "## Before you begin\n",
    "\n",
    "### GPU run-time\n",
    "\n",
    "**Make sure you're running this notebook in a GPU runtime if you have that option. In Colab, select Runtime --> Change runtime type**"
   ]
  },
  {
   "cell_type": "markdown",
   "metadata": {
    "id": "BF1j6f9HApxa"
   },
   "source": [
    "### Set up your GCP project\n",
    "\n",
    "**The following steps are required, regardless of your notebook environment.**\n",
    "\n",
    "1. [Select or create a GCP project](https://console.cloud.google.com/cloud-resource-manager). When you first create an account, you get a $300 free credit towards your compute/storage costs.\n",
    "\n",
    "2. [Make sure that billing is enabled for your project.](https://cloud.google.com/billing/docs/how-to/modify-project)\n",
    "\n",
    "3. [Enable the AI Platform APIs, Compute Engine APIs and Container Registry API.](https://console.cloud.google.com/flows/enableapi?apiid=ml.googleapis.com,compute_component,containerregistry.googleapis.com)\n",
    "\n",
    "4. [Google Cloud SDK](https://cloud.google.com/sdk) is already installed in AI Platform Notebooks.\n",
    "\n",
    "5. Enter your project ID in the cell below. Then run the  cell to make sure the\n",
    "Cloud SDK uses the right project for all the commands in this notebook.\n",
    "\n",
    "**Note**: Jupyter runs lines prefixed with `!` as shell commands, and it interpolates Python variables prefixed with `$` into these commands."
   ]
  },
  {
   "cell_type": "markdown",
   "metadata": {
    "id": "MnPgkOPYGKBA"
   },
   "source": [
    "#### Project ID\n",
    "\n",
    "**If you don't know your project ID**, you might be able to get your project ID using `gcloud` command by executing the second cell below."
   ]
  },
  {
   "cell_type": "code",
   "execution_count": 1,
   "metadata": {
    "id": "RZwz94fXGKBA"
   },
   "outputs": [],
   "source": [
    "PROJECT_ID = \"jk-mlops-dev\" #@param {type:\"string\"}"
   ]
  },
  {
   "cell_type": "code",
   "execution_count": 2,
   "metadata": {
    "id": "oM1iC_MfAts1"
   },
   "outputs": [],
   "source": [
    "if PROJECT_ID == \"\" or PROJECT_ID is None or PROJECT_ID == \"[your-project-id]\":\n",
    "    # Get your GCP project id from gcloud\n",
    "    shell_output = ! gcloud config list --format 'value(core.project)' 2>/dev/null\n",
    "    PROJECT_ID = shell_output[0]\n",
    "    print(\"Project ID:\", PROJECT_ID)"
   ]
  },
  {
   "cell_type": "code",
   "execution_count": 3,
   "metadata": {
    "id": "zRcWSNx5GKBA"
   },
   "outputs": [
    {
     "name": "stdout",
     "output_type": "stream",
     "text": [
      "Updated property [core/project].\n"
     ]
    }
   ],
   "source": [
    "! gcloud config set project $PROJECT_ID"
   ]
  },
  {
   "cell_type": "markdown",
   "metadata": {
    "id": "v5n9X7yJGKBA"
   },
   "source": [
    "#### Region\n",
    "\n",
    "You can also change the `REGION` variable, which is used for operations\n",
    "throughout the rest of this notebook. Make sure to [choose a region where Cloud\n",
    "AI Platform services are\n",
    "available](https://cloud.google.com/ml-engine/docs/tensorflow/regions). You can\n",
    "not use a Multi-Regional Storage bucket for training with AI Platform."
   ]
  },
  {
   "cell_type": "code",
   "execution_count": 4,
   "metadata": {
    "id": "bgKerUMPGKBA"
   },
   "outputs": [],
   "source": [
    "REGION = 'us-central1' #@param {type: \"string\"}"
   ]
  },
  {
   "cell_type": "markdown",
   "metadata": {
    "id": "HfszBDA8GKBA"
   },
   "source": [
    "#### Timestamp\n",
    "\n",
    "If you are in a live tutorial session, you might be using a shared test account or project. To avoid name collisions between users on resources created, you create a timestamp for each instance session, and append onto the name of resources which will be created in this tutorial."
   ]
  },
  {
   "cell_type": "code",
   "execution_count": 5,
   "metadata": {
    "id": "iQMqdrM9GKBA"
   },
   "outputs": [],
   "source": [
    "from datetime import datetime\n",
    "\n",
    "TIMESTAMP = datetime.now().strftime(\"%Y%m%d%H%M%S\")"
   ]
  },
  {
   "cell_type": "markdown",
   "metadata": {
    "id": "dr--iN2kAylZ"
   },
   "source": [
    "### Authenticate your GCP account\n",
    "\n",
    "**If you are using AI Platform Notebooks**, your environment is already\n",
    "authenticated. Skip this step."
   ]
  },
  {
   "cell_type": "code",
   "execution_count": 6,
   "metadata": {
    "id": "Ej0vdRmvGKBA"
   },
   "outputs": [],
   "source": [
    "import os\n",
    "import sys\n",
    "\n",
    "# If you are running this notebook in Colab, run this cell and follow the\n",
    "# instructions to authenticate your Google Cloud account. This provides access\n",
    "# to your Cloud Storage bucket and lets you submit training jobs and prediction\n",
    "# requests.\n",
    "\n",
    "# If on AI Platform, then don't execute this code\n",
    "if not os.path.exists('/opt/deeplearning/metadata/env_version'):\n",
    "    if 'google.colab' in sys.modules:\n",
    "        from google.colab import auth as google_auth\n",
    "        google_auth.authenticate_user()\n",
    "\n",
    "    # If you are running this tutorial in a notebook locally, replace the string\n",
    "    # below with the path to your service account key and run this cell to\n",
    "    # authenticate your Google Cloud account.\n",
    "    else:\n",
    "        %env GOOGLE_APPLICATION_CREDENTIALS your_path_to_credentials.json"
   ]
  },
  {
   "cell_type": "markdown",
   "metadata": {
    "id": "zgPO1eR3CYjk"
   },
   "source": [
    "### Create a Cloud Storage bucket\n",
    "\n",
    "**The following steps are required, regardless of your notebook environment.**\n",
    "\n",
    "When you submit a custom training job using the Cloud SDK, you upload a Python package\n",
    "containing your training code to a Cloud Storage bucket. AI Platform runs\n",
    "the code from this package. In this tutorial, AI Platform also saves the\n",
    "trained model that results from your job in the same bucket. You can then\n",
    "create an AI Platform endpoint based on this output in order to serve\n",
    "online predictions.\n",
    "\n",
    "Set the name of your Cloud Storage bucket below. It must be unique across all\n",
    "Cloud Storage buckets. "
   ]
  },
  {
   "cell_type": "code",
   "execution_count": 7,
   "metadata": {
    "id": "MzGDU7TWdts_"
   },
   "outputs": [],
   "source": [
    "BUCKET_NAME = \"jk-ucaip-demos\" #@param {type:\"string\"}"
   ]
  },
  {
   "cell_type": "code",
   "execution_count": 8,
   "metadata": {
    "id": "pOU0WuFyGKBA"
   },
   "outputs": [],
   "source": [
    "if BUCKET_NAME == \"\" or BUCKET_NAME is None or BUCKET_NAME == \"[your-bucket-name]\":\n",
    "    BUCKET_NAME = PROJECT_ID + \"ucaip-custom-\" + TIMESTAMP"
   ]
  },
  {
   "cell_type": "markdown",
   "metadata": {
    "id": "-EcIXiGsCePi"
   },
   "source": [
    "**Only if your bucket doesn't already exist**: Run the following cell to create your Cloud Storage bucket."
   ]
  },
  {
   "cell_type": "code",
   "execution_count": 9,
   "metadata": {
    "id": "NIq7R4HZCfIc"
   },
   "outputs": [
    {
     "name": "stdout",
     "output_type": "stream",
     "text": [
      "Creating gs://jk-ucaip-demos/...\n",
      "ServiceException: 409 Bucket jk-ucaip-demos already exists.\n"
     ]
    }
   ],
   "source": [
    "! gsutil mb -l $REGION gs://$BUCKET_NAME"
   ]
  },
  {
   "cell_type": "markdown",
   "metadata": {
    "id": "ucvCsknMCims"
   },
   "source": [
    "Finally, validate access to your Cloud Storage bucket by examining its contents:"
   ]
  },
  {
   "cell_type": "code",
   "execution_count": 10,
   "metadata": {
    "id": "vhOb7YnwClBb"
   },
   "outputs": [
    {
     "name": "stdout",
     "output_type": "stream",
     "text": [
      "      1895  2020-12-04T16:09:14Z  gs://jk-ucaip-demos/trainer_cifar.tar.gz#1607098154322441  metageneration=1\n",
      "                                 gs://jk-ucaip-demos/custom_job_20201204142829/\n",
      "                                 gs://jk-ucaip-demos/training_data/\n",
      "TOTAL: 1 objects, 1895 bytes (1.85 KiB)\n"
     ]
    }
   ],
   "source": [
    "! gsutil ls -al gs://$BUCKET_NAME"
   ]
  },
  {
   "cell_type": "markdown",
   "metadata": {
    "id": "XoEqT2Y4DJmf"
   },
   "source": [
    "### Import libraries and define constants"
   ]
  },
  {
   "cell_type": "code",
   "execution_count": null,
   "metadata": {},
   "outputs": [],
   "source": [
    "%load_ext autoreload"
   ]
  },
  {
   "cell_type": "markdown",
   "metadata": {
    "id": "Y9Uo3tifg1kx"
   },
   "source": [
    "#### Import AI Platform (Unified) SDK\n",
    "\n",
    "Import the AI Platform (Unified) SDK into our python environment."
   ]
  },
  {
   "cell_type": "code",
   "execution_count": 27,
   "metadata": {
    "id": "pRUOFELefqf1"
   },
   "outputs": [],
   "source": [
    "import json\n",
    "import os\n",
    "import sys\n",
    "import time\n",
    "\n",
    "import tensorflow as tf\n",
    "import tensorflow_io as tfio\n",
    "\n",
    "from google.cloud.aiplatform import gapic as aip\n",
    "\n",
    "from google.protobuf import json_format\n",
    "from google.protobuf.struct_pb2 import Value"
   ]
  },
  {
   "cell_type": "markdown",
   "metadata": {
    "id": "vqKm-raaGKBA"
   },
   "source": [
    "#### AI Platform (Unified) constants\n",
    "\n",
    "Let's now setup some constants for AI Platform (Unified):\n",
    "\n",
    "- `API_ENDPOINT`: The AI Platform (Unified) API service endpoint for dataset, model, job, pipeline and endpoint services.\n",
    "- `API_PREDICT_ENDPOINT`: The AI Platform (Unified) API service endpoint for prediction.\n",
    "- `PARENT`: The AI Platform (Unified) location root path for dataset, model and endpoint resources."
   ]
  },
  {
   "cell_type": "code",
   "execution_count": 12,
   "metadata": {
    "id": "py2v2Ig0GKBA"
   },
   "outputs": [],
   "source": [
    "# API Endpoint\n",
    "API_ENDPOINT = \"us-central1-aiplatform.googleapis.com\"\n",
    "API_PREDICT_ENDPOINT = \"us-central1-prediction-aiplatform.googleapis.com\"\n",
    "\n",
    "# AI Platform (Unified) location root path for your dataset, model and endpoint resources\n",
    "PARENT = \"projects/\" + PROJECT_ID + \"/locations/\" + REGION\n",
    "\n",
    "# Default timeout for API calls\n",
    "TIMEOUT = 60\n",
    "\n",
    "# Image dataset type\n",
    "IMAGE_SCHEMA = 'google-cloud-aiplatform/schema/dataset/metadata/image_1.0.0.yaml'\n",
    "ANNOTATION_SCHEMA = 'gs://google-cloud-aiplatform/schema/dataset/annotation/image_classification_1.0.0.yaml'\n",
    "\n",
    "#Image labeling type\n",
    "IMPORT_SCHEMA_IMAGE_CLASSIFICATION = 'gs://google-cloud-aiplatform/schema/dataset/ioformat/image_classification_single_label_io_format_1.0.0.yaml'\n",
    "\n",
    "\n",
    "# Training pipeline custom task defintion\n",
    "CUSTOM_TASK_GCS_PATH = \"gs://google-cloud-aiplatform/schema/trainingjob/definition/custom_task_1.0.0.yaml\""
   ]
  },
  {
   "cell_type": "markdown",
   "metadata": {
    "id": "rhD498UuGKBA"
   },
   "source": [
    "#### Custom Job constants\n",
    "\n",
    "##### Hardware Accelerators\n",
    "\n",
    "Let's now set the hardware accelerators (e.g., GPU), if any, for training and prediction.\n",
    "\n",
    "Set the variable `TRAIN_GPU/TRAIN_NGPU` and `DEPLOY_GPU/DEPLOY_NGPU` to use a container image supporting a GPU and the number of GPUs allocated to the compute instance. For example, to use a GPU container image with 4 Nvidia Telsa K80 GPUs allocated to each compute instance, you would specify:\n",
    "\n",
    "    (aip.AcceleratorType.NVIDIA_TESLA_K80, 4)\n",
    "\n",
    "For GPU, available accelerators include:\n",
    "   - aip.AcceleratorType.NVIDIA_TESLA_K80\n",
    "   - aip.AcceleratorType.NVIDIA_TESLA_P100\n",
    "   - aip.AcceleratorType.NVIDIA_TESLA_P4\n",
    "   - aip.AcceleratorType.NVIDIA_TESLA_T4\n",
    "   - aip.AcceleratorType.NVIDIA_TESLA_V100\n",
    "\n",
    "   \n",
    "Otherwise specify (`None, None`) for the container image for a CPU.\n",
    "   \n",
    "*Note*, TF releases before 2.3 for GPU support will fail to load the custom model in this tutorial. It is a known issue and fixed in TF 2.3 -- which is caused by static graph ops that are generated in the serving function. If you encounter this issue on your own custom models, the workaround is to create your own docker container image for TF 2.3 with GPU support."
   ]
  },
  {
   "cell_type": "code",
   "execution_count": 13,
   "metadata": {
    "id": "D_Z7xsd1GKBA"
   },
   "outputs": [],
   "source": [
    "TRAIN_GPU, TRAIN_NGPU = (aip.AcceleratorType.NVIDIA_TESLA_K80, 1)\n",
    "DEPLOY_GPU, DEPLOY_NGPU = (None, None)"
   ]
  },
  {
   "cell_type": "markdown",
   "metadata": {
    "id": "YKX_6-E8GKBA"
   },
   "source": [
    "##### Custom container image \n"
   ]
  },
  {
   "cell_type": "code",
   "execution_count": 14,
   "metadata": {
    "id": "LSMibFmOGKBA"
   },
   "outputs": [
    {
     "name": "stdout",
     "output_type": "stream",
     "text": [
      "Training: gcr.io/jk-mlops-dev/image_classifier:v1 AcceleratorType.NVIDIA_TESLA_K80 1\n"
     ]
    }
   ],
   "source": [
    "TRAIN_IMAGE = f'gcr.io/{PROJECT_ID}/image_classifier:v1'\n",
    "print(\"Training:\", TRAIN_IMAGE, TRAIN_GPU, TRAIN_NGPU)\n",
    "#print(\"Deployment:\", DEPLOY_IMAGE, DEPLOY_GPU, DEPLOY_NGPU)"
   ]
  },
  {
   "cell_type": "markdown",
   "metadata": {
    "id": "5zmgUyehGKBA"
   },
   "source": [
    "#### Machine Type\n",
    "\n",
    "Next, you will set the machine type (compute instance) you will use for training and prediction.\n",
    "\n",
    "- Set the variables `TRAIN_COMPUTE` and `DEPLOY_COMPUTE` to the compute instance you will use for training and prediction.\n",
    " - `machine type`\n",
    "     - `n1-standard`: 3.75GB of memory per vCPU.\n",
    "     - `n1-highmem`: 6.5GB of memory per vCPU\n",
    "     - `n1-highcpu`: 0.9 GB of memoryn per vCPU\n",
    " - `vCPUs`: number of \\[2, 4, 8, 16, 32, 64, 96 \\]\n",
    " \n",
    "*Note, the following is not supported for training*\n",
    " \n",
    " - `standard`: 2 vCPUs\n",
    " - `highcpu`: 2, 4 and 8 vCPUs\n",
    " \n",
    "*Note, you may also use n2 and e2 machine types for training and deployment, but they do not support GPUs*"
   ]
  },
  {
   "cell_type": "code",
   "execution_count": 15,
   "metadata": {
    "id": "K9Ar7Z-qGKBA"
   },
   "outputs": [
    {
     "name": "stdout",
     "output_type": "stream",
     "text": [
      "Train Compute Instance n1-standard-4\n",
      "Deploy Compute Instance n1-standard-4\n"
     ]
    }
   ],
   "source": [
    "MACHINE_TYPE = 'n1-standard'\n",
    "VCPU='4'\n",
    "TRAIN_COMPUTE = MACHINE_TYPE + '-' + VCPU\n",
    "print('Train Compute Instance', TRAIN_COMPUTE)\n",
    "\n",
    "MACHINE_TYPE = 'n1-standard'\n",
    "VCPU='4'\n",
    "DEPLOY_COMPUTE = MACHINE_TYPE + '-' + VCPU\n",
    "print('Deploy Compute Instance', DEPLOY_COMPUTE)"
   ]
  },
  {
   "cell_type": "markdown",
   "metadata": {
    "id": "E6ppE7imft-y"
   },
   "source": [
    "# Tutorial\n",
    "\n",
    "Now you are ready to start creating your own custom model and training using a pipeline for CIFAR10.\n",
    "\n"
   ]
  },
  {
   "cell_type": "markdown",
   "metadata": {},
   "source": [
    "## Creating a dataset\n"
   ]
  },
  {
   "cell_type": "markdown",
   "metadata": {},
   "source": [
    "Create a dataset client"
   ]
  },
  {
   "cell_type": "code",
   "execution_count": 16,
   "metadata": {},
   "outputs": [],
   "source": [
    "client_options = {\"api_endpoint\": API_ENDPOINT}\n",
    "\n",
    "dataset_client = aip.DatasetServiceClient(\n",
    "        client_options=client_options\n",
    "    )"
   ]
  },
  {
   "cell_type": "markdown",
   "metadata": {},
   "source": [
    "### Create a dataset resource"
   ]
  },
  {
   "cell_type": "code",
   "execution_count": 19,
   "metadata": {},
   "outputs": [],
   "source": [
    "display_name = 'flowers-full'"
   ]
  },
  {
   "cell_type": "code",
   "execution_count": null,
   "metadata": {},
   "outputs": [],
   "source": [
    "dataset = aip.Dataset(\n",
    "    display_name=display_name,\n",
    "    metadata_schema_uri=f'gs://{DATA_SCHEMA}',\n",
    "    labels=None\n",
    ")\n",
    "\n",
    "operation = dataset_client.create_dataset(parent=PARENT, dataset=dataset)\n",
    "print(\"Long running operation:\", operation.operation.name)\n",
    "response = operation.result(timeout=TIMEOUT)\n",
    "response"
   ]
  },
  {
   "cell_type": "markdown",
   "metadata": {},
   "source": [
    "### List all datasets with a given display name"
   ]
  },
  {
   "cell_type": "code",
   "execution_count": 20,
   "metadata": {},
   "outputs": [
    {
     "name": "stdout",
     "output_type": "stream",
     "text": [
      "Display name: flowers-full, Full name: projects/895222332033/locations/us-central1/datasets/1172730306092859392\n"
     ]
    }
   ],
   "source": [
    "filter = f'display_name=\"{display_name}\"'\n",
    "\n",
    "request = {\n",
    "    'filter': filter,\n",
    "    'parent': PARENT\n",
    "}\n",
    "\n",
    "for dataset in dataset_client.list_datasets(request):\n",
    "    print(f'Display name: {dataset.display_name}, Full name: {dataset.name}')\n",
    "  "
   ]
  },
  {
   "cell_type": "markdown",
   "metadata": {},
   "source": [
    "### Import data"
   ]
  },
  {
   "cell_type": "code",
   "execution_count": null,
   "metadata": {},
   "outputs": [],
   "source": [
    "config = [{\n",
    "    'gcs_source': {'uris': [IMPORT_FILE]},\n",
    "    'import_schema_uri': IMPORT_SCHEMA_IMAGE_CLASSIFICATION\n",
    "}]\n",
    "\n",
    "operation = dataset_client.import_data(name=dataset.name, import_configs=config)\n",
    "print(\"Long running operation:\", operation.operation.name)\n",
    "result = operation.result()"
   ]
  },
  {
   "cell_type": "markdown",
   "metadata": {},
   "source": [
    "### List data items"
   ]
  },
  {
   "cell_type": "code",
   "execution_count": null,
   "metadata": {},
   "outputs": [],
   "source": [
    "count = 0\n",
    "response = dataset_client.list_data_items(parent=dataset.name)\n",
    "    \n",
    "for data_item in response:\n",
    "    count += 1\n",
    "\n",
    "print('Number of images: {}'.format(count))\n",
    "print('An example of item specification:')\n",
    "print(data_item)\n"
   ]
  },
  {
   "cell_type": "markdown",
   "metadata": {
    "id": "NTTuoxOfGKBA"
   },
   "source": [
    "## Training a model \n",
    "\n",
    "\n",
    "Now that you have seen the basic steps for custom training, you will do a new custom job to train a model. There are two ways you can train a custom model using a container image:\n",
    "\n",
    "- **Use a Google Cloud prebuilt container**. If you use a prebuilt container, you will additionally specify a Python package to install into the container image. This Python package contains your code for training a custom model.\n",
    "\n",
    "- **Use your own custom container image**. If you use your own container, the container needs to contain your code for training a custom model.\n",
    "\n",
    "\n",
    "In this tutorial, you will train a CIFAR10 model using a Google Cloud prebuilt container.You will need to update the worker pool specification by adding a description for `python_package_spec`. This section will tell the custom job the Python training package to install and which Python module to invoke, along with command line arguments for the Python module.\n",
    "\n",
    "Let's dive deeper now into the python package specification:\n",
    "\n",
    "-`executor_image_spec`: This is the docker image which is configured for your custom training job. You will continue to use the same one we used earlier for demonstration.\n",
    "\n",
    "-`package_uris`: This is a list of the locations (URIs) of your python training packages to install on the provisioned instance. The locations need to be in a Cloud Storage bucket. These can be either individual python files or a zip (archive) of an entire package. In the later case, the job service will unzip (unarchive) the contents into the docker image.\n",
    "\n",
    "-`python_module`: The python module (script) to invoke for running the custom training job. In this example, you will be invoking `trainer.task.py` -- note that it was not neccessary to append the `.py` suffix.\n",
    "\n",
    "-`args`: The command line arguments to pass to the corresponding pythom module. In this example, you will be:\n",
    "  - `\"--model-dir=\" + MODEL_DIR` : The Cloud Storage location where to store the model artifacts.\n",
    "  - `\"--epochs=\" + EPOCHS`: The number of epochs for training.\n",
    "  - `\"--steps=\" + STEPS`: The number of steps (batches) per epoch.\n",
    "  - `\"--distribute=\" + TRAIN_STRATEGY\"` : The training distribution strategy to use for single or distributed training.\n",
    "     - `\"single\"`: single device.\n",
    "     - `\"mirror\"`: all GPU devices on a single compute instance.\n",
    "     - `\"multi\"`: all GPU devices on all compute instances."
   ]
  },
  {
   "cell_type": "markdown",
   "metadata": {},
   "source": [
    "### Preparing a training container"
   ]
  },
  {
   "cell_type": "markdown",
   "metadata": {},
   "source": [
    "#### Create a training package\n",
    "\n",
    "Make the training subfolder."
   ]
  },
  {
   "cell_type": "code",
   "execution_count": 21,
   "metadata": {},
   "outputs": [],
   "source": [
    "! rm -fr trainer; mkdir trainer\n",
    "! touch trainer/__init__.py"
   ]
  },
  {
   "cell_type": "markdown",
   "metadata": {},
   "source": [
    "Write the training module."
   ]
  },
  {
   "cell_type": "code",
   "execution_count": 22,
   "metadata": {},
   "outputs": [
    {
     "name": "stdout",
     "output_type": "stream",
     "text": [
      "Writing trainer/task.py\n"
     ]
    }
   ],
   "source": [
    "%%writefile trainer/task.py\n",
    "# Copyright 2020 Google Inc. All Rights Reserved.\n",
    "#\n",
    "# Licensed under the Apache License, Version 2.0 (the \"License\");\n",
    "# you may not use this file except in compliance with the License.\n",
    "# You may obtain a copy of the License at\n",
    "#\n",
    "#            http://www.apache.org/licenses/LICENSE-2.0\n",
    "#\n",
    "# Unless required by applicable law or agreed to in writing, software\n",
    "# distributed under the License is distributed on an \"AS IS\" BASIS,\n",
    "# WITHOUT WARRANTIES OR CONDITIONS OF ANY KIND, either express or implied.\n",
    "# See the License for the specific language governing permissions and\n",
    "\n",
    "import argparse\n",
    "import os\n",
    "import time\n",
    "\n",
    "#import hypertune\n",
    "import numpy as np\n",
    "import pandas as pd\n",
    "import tensorflow as tf\n",
    "\n",
    "\n",
    "IMG_HEIGHT = 224\n",
    "IMG_WIDTH = 224\n",
    "AUTOTUNE = tf.data.experimental.AUTOTUNE\n",
    "\n",
    "    \n",
    "def build_model(num_layers, dropout_ratio, num_classes):\n",
    "    \"\"\"\n",
    "    Creates a custom image classificatin model using ResNet50 \n",
    "    as a base model.\n",
    "    \"\"\"\n",
    "    \n",
    "    # Create the base model\n",
    "    IMG_SHAPE = (IMG_HEIGHT, IMG_WIDTH, 3)\n",
    "    base_model = tf.keras.applications.MobileNetV2(input_shape=IMG_SHAPE,\n",
    "                                                   include_top=False,\n",
    "                                                   weights='imagenet',\n",
    "                                                   pooling='avg')\n",
    "    base_model.trainable = False\n",
    "    \n",
    "    # Add preprocessing and classification head\n",
    "    inputs = tf.keras.Input(shape=IMG_SHAPE)\n",
    "    x = tf.keras.applications.mobilenet_v2.preprocess_input(inputs)\n",
    "    x = base_model(x)\n",
    "    x = tf.keras.layers.Dense(num_layers, activation='relu')(x)\n",
    "    x = tf.keras.layers.Dropout(dropout_ratio)(x)\n",
    "    outputs = tf.keras.layers.Dense(num_classes)(x)\n",
    "    \n",
    "    # Assemble the model\n",
    "    model = tf.keras.Model(inputs, outputs)\n",
    "    \n",
    "    # Compile the model\n",
    "    base_learning_rate = 0.0001\n",
    "    model.compile(optimizer=tf.keras.optimizers.Adam(lr=base_learning_rate),\n",
    "                  loss=tf.keras.losses.SparseCategoricalCrossentropy(from_logits=True),\n",
    "                  metrics=['accuracy'])\n",
    "    \n",
    "    return model\n",
    "\n",
    "\n",
    "def image_dataset_from_aip_jsonl(pattern, class_names=None, img_height=224, img_width=224):\n",
    "        \"\"\"\n",
    "        Generates a `tf.data.Dataset` from a set of JSONL files\n",
    "        in the AI Platform image dataset index format. \n",
    "        \n",
    "        Arguments:\n",
    "            pattern: A wildcard pattern for a list of JSONL files.\n",
    "                E.g. gs://bucket/folder/training-*.\n",
    "            class_names: the list of class names that are expected\n",
    "                in the passed index. \n",
    "            img_height: The height of a generated image\n",
    "            img_width: The width of a generated image\n",
    "            \n",
    "        \"\"\"\n",
    "        \n",
    "        def _get_label(class_name):\n",
    "            \"\"\"\n",
    "            Converts a string class name to an integer label.\n",
    "            \"\"\"\n",
    "            one_hot = class_name == class_names\n",
    "            return tf.argmax(one_hot)\n",
    "        \n",
    "        def _decode_img(file_path):\n",
    "            \"\"\"\n",
    "            Loads an image and converts it to a resized 3D tensor.\n",
    "            \"\"\"\n",
    "            \n",
    "            img = tf.io.read_file(file_path)\n",
    "            img = tf.io.decode_image(img, \n",
    "                                     expand_animations=False)\n",
    "            img = tf.image.resize(img, [img_height, img_width])\n",
    "            \n",
    "            return img\n",
    "            \n",
    "        def _process_example(file_path, class_name):\n",
    "            \"\"\"\n",
    "            Creates a converted image and a class label from\n",
    "            an image path and class name.\n",
    "            \"\"\"\n",
    "            \n",
    "            label = _get_label(class_name)\n",
    "            img = _decode_img(file_path)\n",
    "            \n",
    "            return img, label\n",
    "        \n",
    "        # Read the JSONL index to a pandas DataFrame\n",
    "        df = pd.concat(\n",
    "            [pd.read_json(path, lines=True) for path in tf.io.gfile.glob(pattern)],\n",
    "            ignore_index=True\n",
    "        )\n",
    "        \n",
    "        # Parse classifcationAnnotations field\n",
    "        df = pd.concat(\n",
    "            [df, pd.json_normalize(df['classificationAnnotations'].apply(pd.Series)[0])], axis=1)\n",
    "        \n",
    "        paths = df['imageGcsUri'].values\n",
    "        labels = df['displayName'].values\n",
    "        inferred_class_names = np.unique(labels)\n",
    "        \n",
    "        if class_names is not None:\n",
    "            class_names = np.array(class_names).astype(str)\n",
    "            if set(inferred_class_names) != set(class_names):\n",
    "                raise ValueError(\n",
    "                    'The `class_names` passed does not match the '\n",
    "                    'names in the image index '\n",
    "                    'Expected: %s, received %s' %\n",
    "                    (inferred_class_names, class_names))\n",
    "            \n",
    "        class_names = tf.constant(inferred_class_names)\n",
    "        \n",
    "        dataset = tf.data.Dataset.from_tensor_slices((paths, labels))\n",
    "        dataset = dataset.shuffle(len(labels), reshuffle_each_iteration=False)\n",
    "        dataset = dataset.map(_process_example, num_parallel_calls=AUTOTUNE)\n",
    "        dataset.class_names = class_names\n",
    "        \n",
    "        return dataset\n",
    "\n",
    "\n",
    "def get_datasets(batch_size, img_height, img_width):\n",
    "    \"\"\"\n",
    "    Creates training and validation splits as tf.data datasets\n",
    "    from an AI Platform Dataset passed by the training pipeline.\n",
    "    \"\"\"\n",
    "    \n",
    "    def _configure_for_performance(ds):\n",
    "        \"\"\"\n",
    "        Optimizes the performance of a dataset.\n",
    "        \"\"\"\n",
    "        ds = ds.cache()\n",
    "        ds = ds.prefetch(buffer_size=AUTOTUNE)\n",
    "        return ds\n",
    "    \n",
    "    if  os.environ['AIP_DATA_FORMAT'] != 'jsonl':\n",
    "        raise RuntimeError('Wrong dataset format: {}. Expecting - jsonl'.format(\n",
    "            os.environ['AIP_DATA_FORMAT']))\n",
    "        \n",
    "    train_ds = image_dataset_from_aip_jsonl(\n",
    "        pattern=os.environ['AIP_TRAINING_DATA_URI'],\n",
    "        img_height=img_height,\n",
    "        img_width=img_width)\n",
    "    \n",
    "    class_names = train_ds.class_names.numpy()\n",
    "        \n",
    "    valid_ds = image_dataset_from_aip_jsonl(\n",
    "        pattern=os.environ['AIP_VALIDATION_DATA_URI'],\n",
    "        class_names=class_names,\n",
    "        img_height=img_height,\n",
    "        img_width=img_width)\n",
    "    \n",
    "    train_ds = _configure_for_performance(train_ds.batch(batch_size))\n",
    "    valid_ds = _configure_for_performance(valid_ds.batch(batch_size))\n",
    "    \n",
    "    return train_ds, valid_ds, class_names\n",
    "        \n",
    "    \n",
    "def get_args():\n",
    "    \"\"\"\n",
    "    Returns parsed command line arguments\n",
    "    \"\"\"\n",
    "    \n",
    "    parser = argparse.ArgumentParser()\n",
    "    parser.add_argument(\n",
    "        '--num-epochs',\n",
    "        type=int,\n",
    "        default=20,\n",
    "        help='number of times to go through the data, default=20')\n",
    "    parser.add_argument(\n",
    "        '--batch-size',\n",
    "        default=32,\n",
    "        type=int,\n",
    "        help='number of records to read during each training step, default=32')\n",
    "    parser.add_argument(\n",
    "        '--num-layers',\n",
    "        default=64,\n",
    "        type=int,\n",
    "        help='number of hidden layers in the classification head , default=64')\n",
    "    parser.add_argument(\n",
    "        '--dropout-ratio',\n",
    "        default=0.5,\n",
    "        type=float,\n",
    "        help='dropout ration in the classification head , default=128')\n",
    "    parser.add_argument(\n",
    "        '--model-dir',\n",
    "        type=str,\n",
    "        default='/tmp/saved_model',\n",
    "        help='model dir , default=/tmp/saved_model')\n",
    "\n",
    "    args, _ = parser.parse_known_args()\n",
    "    return args\n",
    "\n",
    "\n",
    "if __name__ == \"__main__\":\n",
    "    \n",
    "    if 'AIP_DATA_FORMAT' not in os.environ:\n",
    "        raise RuntimeError('No dataset information available.')\n",
    "   \n",
    "    args = get_args()\n",
    "    \n",
    "    # Create the datasets and the model\n",
    "    train_ds, valid_ds, class_names = get_datasets(args.batch_size, IMG_HEIGHT, IMG_WIDTH)\n",
    "    model = build_model(args.num_layers, args.dropout_ratio, len(class_names))\n",
    "    print(model.summary())\n",
    "    \n",
    "    # Start training\n",
    "    history = model.fit(x=train_ds, \n",
    "                        validation_data=valid_ds, \n",
    "                        epochs=args.num_epochs)\n",
    "    \n",
    "    # Save the model\n",
    "    print('Saving the model to: {}'.format(args.model_dir))\n",
    "    model.save(args.model_dir)\n",
    "\n"
   ]
  },
  {
   "cell_type": "markdown",
   "metadata": {},
   "source": [
    "#### Create a Dockefile"
   ]
  },
  {
   "cell_type": "code",
   "execution_count": 23,
   "metadata": {},
   "outputs": [
    {
     "name": "stdout",
     "output_type": "stream",
     "text": [
      "Overwriting Dockerfile\n"
     ]
    }
   ],
   "source": [
    "%%writefile Dockerfile\n",
    "\n",
    "FROM gcr.io/deeplearning-platform-release/tf2-gpu.2-3\n",
    "\n",
    "RUN pip install -U 'h5py<3.0.0'\n",
    "\n",
    "WORKDIR /\n",
    "\n",
    "# Copies the trainer code to the docker image.\n",
    "COPY trainer /trainer\n",
    "\n",
    "# Sets up the entry point to invoke the trainer.\n",
    "ENTRYPOINT [\"python\", \"-m\", \"trainer.task\"]"
   ]
  },
  {
   "cell_type": "markdown",
   "metadata": {},
   "source": [
    "#### Build the container image"
   ]
  },
  {
   "cell_type": "code",
   "execution_count": 24,
   "metadata": {},
   "outputs": [
    {
     "name": "stdout",
     "output_type": "stream",
     "text": [
      "Sending build context to Docker daemon  1.293MB\n",
      "Step 1/5 : FROM gcr.io/deeplearning-platform-release/tf2-gpu.2-3\n",
      " ---> 63032190efb7\n",
      "Step 2/5 : RUN pip install -U 'h5py<3.0.0'\n",
      " ---> Using cache\n",
      " ---> 2f87e48af20c\n",
      "Step 3/5 : WORKDIR /\n",
      " ---> Using cache\n",
      " ---> 9a72a4702fe6\n",
      "Step 4/5 : COPY trainer /trainer\n",
      " ---> 51c35d04959b\n",
      "Step 5/5 : ENTRYPOINT [\"python\", \"-m\", \"trainer.task\"]\n",
      " ---> Running in c9b9672a1fb1\n",
      "Removing intermediate container c9b9672a1fb1\n",
      " ---> 4bd4e36840c4\n",
      "Successfully built 4bd4e36840c4\n",
      "Successfully tagged gcr.io/jk-mlops-dev/image_classifier:v1\n"
     ]
    }
   ],
   "source": [
    "! docker build -t {TRAIN_IMAGE} ."
   ]
  },
  {
   "cell_type": "markdown",
   "metadata": {},
   "source": [
    "#### Push the image to Container Registry"
   ]
  },
  {
   "cell_type": "code",
   "execution_count": 26,
   "metadata": {},
   "outputs": [
    {
     "name": "stdout",
     "output_type": "stream",
     "text": [
      "The push refers to repository [gcr.io/jk-mlops-dev/image_classifier]\n",
      "\n",
      "\u001b[1Bcc258495: Preparing \n",
      "\u001b[1Badb78a68: Preparing \n",
      "\u001b[1Bcc594c09: Preparing \n",
      "\u001b[1B4fcc8c16: Preparing \n",
      "\u001b[1B97440069: Preparing \n",
      "\u001b[1B609e8d31: Preparing \n",
      "\u001b[1B53f3ad5d: Preparing \n",
      "\u001b[1B8a31e4c1: Preparing \n",
      "\u001b[1B095938e9: Preparing \n",
      "\u001b[1B09c34bb9: Preparing \n",
      "\u001b[1Bcc1dc001: Preparing \n",
      "\u001b[1B9efefae2: Preparing \n",
      "\u001b[1B43b4c186: Preparing \n",
      "\u001b[1B6960264e: Preparing \n",
      "\u001b[1B1da8642f: Preparing \n",
      "\u001b[1B5025454f: Preparing \n",
      "\u001b[1B088bc1ab: Preparing \n",
      "\u001b[1Ba9b591f5: Preparing \n",
      "\u001b[1B2e80fdc9: Preparing \n",
      "\u001b[1B00c31be3: Preparing \n",
      "\u001b[1B18b890fc: Preparing \n",
      "\u001b[1Ba7c9e3d1: Preparing \n",
      "\u001b[1B4dce1444: Preparing \n",
      "\u001b[1B30bcc944: Preparing \n",
      "\u001b[1Be116c0c0: Preparing \n",
      "\u001b[1B4df0ad6c: Preparing \n",
      "\u001b[1Bdf553184: Preparing \n",
      "\u001b[28Bc258495: Pushed lready exists 8kB\u001b[26A\u001b[2K\u001b[24A\u001b[2K\u001b[21A\u001b[2K\u001b[14A\u001b[2K\u001b[15A\u001b[2K\u001b[8A\u001b[2K\u001b[5A\u001b[2K\u001b[2A\u001b[2K\u001b[28A\u001b[2Kv1: digest: sha256:339a7dcad889e48e96b7e6fe5aa9a64a04407cfb9d5276b9b8cd3e357d876f8e size: 6197\n"
     ]
    }
   ],
   "source": [
    "! docker push {TRAIN_IMAGE}"
   ]
  },
  {
   "cell_type": "markdown",
   "metadata": {},
   "source": [
    "### Creating a training pipeline"
   ]
  },
  {
   "cell_type": "markdown",
   "metadata": {},
   "source": [
    "#### Define the container specification"
   ]
  },
  {
   "cell_type": "code",
   "execution_count": 29,
   "metadata": {},
   "outputs": [
    {
     "data": {
      "text/plain": [
       "{'image_uri': 'gcr.io/jk-mlops-dev/image_classifier:v1',\n",
       " 'args': ['--num_epochs=20']}"
      ]
     },
     "execution_count": 29,
     "metadata": {},
     "output_type": "execute_result"
    }
   ],
   "source": [
    "job_name = \"custom_container_\" + TIMESTAMP\n",
    "model_dir = 'gs://{}/{}'.format(BUCKET_NAME, job_name)\n",
    "epochs = 20\n",
    "\n",
    "container_spec = {\n",
    "    \"image_uri\": TRAIN_IMAGE, \n",
    "    \"args\": [\n",
    "        \"--num_epochs=\" + str(epochs),\n",
    "    ],\n",
    "}\n",
    "\n",
    "container_spec"
   ]
  },
  {
   "cell_type": "markdown",
   "metadata": {},
   "source": [
    "#### Define the worker pool specification"
   ]
  },
  {
   "cell_type": "code",
   "execution_count": 30,
   "metadata": {},
   "outputs": [
    {
     "data": {
      "text/plain": [
       "[{'replica_count': 1,\n",
       "  'machine_spec': {'machine_type': 'n1-standard-4',\n",
       "   'accelerator_type': <AcceleratorType.NVIDIA_TESLA_K80: 1>,\n",
       "   'accelerator_count': 1},\n",
       "  'container_spec': {'image_uri': 'gcr.io/jk-mlops-dev/image_classifier:v1',\n",
       "   'args': ['--num_epochs=20']}}]"
      ]
     },
     "execution_count": 30,
     "metadata": {},
     "output_type": "execute_result"
    }
   ],
   "source": [
    "if TRAIN_GPU:\n",
    "    machine_spec = {\n",
    "        \"machine_type\": TRAIN_COMPUTE,\n",
    "        \"accelerator_type\": TRAIN_GPU,\n",
    "        \"accelerator_count\": TRAIN_NGPU\n",
    "    }\n",
    "else:\n",
    "    machine_spec = {\n",
    "        \"machine_type\": TRAIN_COMPUTE,\n",
    "        \"accelerator_count\": 0\n",
    "    }\n",
    "\n",
    "\n",
    "worker_pool_spec = [\n",
    "    {\n",
    "        \"replica_count\": 1,\n",
    "        \"machine_spec\": machine_spec,\n",
    "        \"container_spec\": container_spec\n",
    "    }\n",
    "]\n",
    "\n",
    "worker_pool_spec"
   ]
  },
  {
   "cell_type": "markdown",
   "metadata": {},
   "source": [
    "#### Define the training pipeline specification"
   ]
  },
  {
   "cell_type": "code",
   "execution_count": 33,
   "metadata": {},
   "outputs": [],
   "source": [
    "pipeline_display_name = 'custom-pipeline-' + TIMESTAMP\n",
    "#dataset_id = dataset.name.split('/')[-1]\n",
    "dataset_id = '1172730306092859392'\n",
    "#dataset_id = '1047755416433328128'\n",
    "output_uri_prefix = f'gs://{BUCKET_NAME}/training_data/'\n",
    "training_task_inputs = json_format.ParseDict({'workerPoolSpecs': worker_pool_spec},\n",
    "                                             Value())\n",
    "training_pipeline_spec = {\n",
    "    'display_name': pipeline_display_name,\n",
    "    'input_data_config': {\n",
    "        'dataset_id': dataset_id,\n",
    "        'annotation_schema_uri': ANNOTATION_SCHEMA,\n",
    "        'gcs_destination': {\n",
    "            'output_uri_prefix': output_uri_prefix\n",
    "        },\n",
    "        'fraction_split': {\n",
    "            'training_fraction': 0.5,\n",
    "            'validation_fraction': 0.2\n",
    "        },\n",
    "    },\n",
    "    'training_task_definition': CUSTOM_TASK_GCS_PATH,\n",
    "    'training_task_inputs': training_task_inputs\n",
    "}\n"
   ]
  },
  {
   "cell_type": "code",
   "execution_count": 34,
   "metadata": {},
   "outputs": [
    {
     "data": {
      "text/plain": [
       "{'display_name': 'custom-pipeline-20201207170818',\n",
       " 'input_data_config': {'dataset_id': '1172730306092859392',\n",
       "  'annotation_schema_uri': 'gs://google-cloud-aiplatform/schema/dataset/annotation/image_classification_1.0.0.yaml',\n",
       "  'gcs_destination': {'output_uri_prefix': 'gs://jk-ucaip-demos/training_data/'},\n",
       "  'fraction_split': {'training_fraction': 0.5, 'validation_fraction': 0.2}},\n",
       " 'training_task_definition': 'gs://google-cloud-aiplatform/schema/trainingjob/definition/custom_task_1.0.0.yaml',\n",
       " 'training_task_inputs': struct_value {\n",
       "   fields {\n",
       "     key: \"workerPoolSpecs\"\n",
       "     value {\n",
       "       list_value {\n",
       "         values {\n",
       "           struct_value {\n",
       "             fields {\n",
       "               key: \"container_spec\"\n",
       "               value {\n",
       "                 struct_value {\n",
       "                   fields {\n",
       "                     key: \"args\"\n",
       "                     value {\n",
       "                       list_value {\n",
       "                         values {\n",
       "                           string_value: \"--num_epochs=20\"\n",
       "                         }\n",
       "                       }\n",
       "                     }\n",
       "                   }\n",
       "                   fields {\n",
       "                     key: \"image_uri\"\n",
       "                     value {\n",
       "                       string_value: \"gcr.io/jk-mlops-dev/image_classifier:v1\"\n",
       "                     }\n",
       "                   }\n",
       "                 }\n",
       "               }\n",
       "             }\n",
       "             fields {\n",
       "               key: \"machine_spec\"\n",
       "               value {\n",
       "                 struct_value {\n",
       "                   fields {\n",
       "                     key: \"accelerator_count\"\n",
       "                     value {\n",
       "                       number_value: 1.0\n",
       "                     }\n",
       "                   }\n",
       "                   fields {\n",
       "                     key: \"accelerator_type\"\n",
       "                     value {\n",
       "                       number_value: 1.0\n",
       "                     }\n",
       "                   }\n",
       "                   fields {\n",
       "                     key: \"machine_type\"\n",
       "                     value {\n",
       "                       string_value: \"n1-standard-4\"\n",
       "                     }\n",
       "                   }\n",
       "                 }\n",
       "               }\n",
       "             }\n",
       "             fields {\n",
       "               key: \"replica_count\"\n",
       "               value {\n",
       "                 number_value: 1.0\n",
       "               }\n",
       "             }\n",
       "           }\n",
       "         }\n",
       "       }\n",
       "     }\n",
       "   }\n",
       " }}"
      ]
     },
     "execution_count": 34,
     "metadata": {},
     "output_type": "execute_result"
    }
   ],
   "source": [
    "training_pipeline_spec"
   ]
  },
  {
   "cell_type": "markdown",
   "metadata": {},
   "source": [
    "#### Start the training pipeline \n",
    "\n",
    "Create a training pipeline client"
   ]
  },
  {
   "cell_type": "code",
   "execution_count": 35,
   "metadata": {},
   "outputs": [],
   "source": [
    "client_options = {\"api_endpoint\": API_ENDPOINT}\n",
    "\n",
    "pipeline_client = aip.PipelineServiceClient(\n",
    "    client_options=client_options)"
   ]
  },
  {
   "cell_type": "code",
   "execution_count": 36,
   "metadata": {},
   "outputs": [],
   "source": [
    "pipeline = pipeline_client.create_training_pipeline(\n",
    "    parent=PARENT, training_pipeline=training_pipeline_spec)"
   ]
  },
  {
   "cell_type": "code",
   "execution_count": 37,
   "metadata": {},
   "outputs": [
    {
     "data": {
      "text/plain": [
       "name: \"projects/895222332033/locations/us-central1/trainingPipelines/2731169291209539584\"\n",
       "display_name: \"custom-pipeline-20201207170818\"\n",
       "input_data_config {\n",
       "  dataset_id: \"1172730306092859392\"\n",
       "  fraction_split {\n",
       "    training_fraction: 0.5\n",
       "    validation_fraction: 0.2\n",
       "  }\n",
       "  gcs_destination {\n",
       "    output_uri_prefix: \"gs://jk-ucaip-demos/training_data/\"\n",
       "  }\n",
       "  annotation_schema_uri: \"gs://google-cloud-aiplatform/schema/dataset/annotation/image_classification_1.0.0.yaml\"\n",
       "}\n",
       "training_task_definition: \"gs://google-cloud-aiplatform/schema/trainingjob/definition/custom_task_1.0.0.yaml\"\n",
       "training_task_inputs {\n",
       "  struct_value {\n",
       "    fields {\n",
       "      key: \"workerPoolSpecs\"\n",
       "      value {\n",
       "        list_value {\n",
       "          values {\n",
       "            struct_value {\n",
       "              fields {\n",
       "                key: \"containerSpec\"\n",
       "                value {\n",
       "                  struct_value {\n",
       "                    fields {\n",
       "                      key: \"args\"\n",
       "                      value {\n",
       "                        list_value {\n",
       "                          values {\n",
       "                            string_value: \"--num_epochs=20\"\n",
       "                          }\n",
       "                        }\n",
       "                      }\n",
       "                    }\n",
       "                    fields {\n",
       "                      key: \"imageUri\"\n",
       "                      value {\n",
       "                        string_value: \"gcr.io/jk-mlops-dev/image_classifier:v1\"\n",
       "                      }\n",
       "                    }\n",
       "                  }\n",
       "                }\n",
       "              }\n",
       "              fields {\n",
       "                key: \"diskSpec\"\n",
       "                value {\n",
       "                  struct_value {\n",
       "                    fields {\n",
       "                      key: \"bootDiskSizeGb\"\n",
       "                      value {\n",
       "                        number_value: 100.0\n",
       "                      }\n",
       "                    }\n",
       "                    fields {\n",
       "                      key: \"bootDiskType\"\n",
       "                      value {\n",
       "                        string_value: \"pd-standard\"\n",
       "                      }\n",
       "                    }\n",
       "                  }\n",
       "                }\n",
       "              }\n",
       "              fields {\n",
       "                key: \"machineSpec\"\n",
       "                value {\n",
       "                  struct_value {\n",
       "                    fields {\n",
       "                      key: \"acceleratorCount\"\n",
       "                      value {\n",
       "                        number_value: 1.0\n",
       "                      }\n",
       "                    }\n",
       "                    fields {\n",
       "                      key: \"acceleratorType\"\n",
       "                      value {\n",
       "                        string_value: \"NVIDIA_TESLA_K80\"\n",
       "                      }\n",
       "                    }\n",
       "                    fields {\n",
       "                      key: \"machineType\"\n",
       "                      value {\n",
       "                        string_value: \"n1-standard-4\"\n",
       "                      }\n",
       "                    }\n",
       "                  }\n",
       "                }\n",
       "              }\n",
       "              fields {\n",
       "                key: \"replicaCount\"\n",
       "                value {\n",
       "                  string_value: \"1\"\n",
       "                }\n",
       "              }\n",
       "            }\n",
       "          }\n",
       "        }\n",
       "      }\n",
       "    }\n",
       "  }\n",
       "}\n",
       "state: PIPELINE_STATE_PENDING\n",
       "create_time {\n",
       "  seconds: 1607361451\n",
       "  nanos: 409671000\n",
       "}\n",
       "update_time {\n",
       "  seconds: 1607361451\n",
       "  nanos: 409671000\n",
       "}"
      ]
     },
     "execution_count": 37,
     "metadata": {},
     "output_type": "execute_result"
    }
   ],
   "source": [
    "pipeline"
   ]
  },
  {
   "cell_type": "code",
   "execution_count": null,
   "metadata": {},
   "outputs": [],
   "source": []
  },
  {
   "cell_type": "code",
   "execution_count": null,
   "metadata": {
    "id": "tV5TOLooGKBA"
   },
   "outputs": [],
   "source": [
    "! rm -f custom.tar custom.tar.gz\n",
    "! tar cvf custom.tar custom\n",
    "! gzip custom.tar\n",
    "! gsutil cp custom.tar.gz gs://$BUCKET_NAME/trainer_cifar.tar.gz"
   ]
  },
  {
   "cell_type": "markdown",
   "metadata": {
    "id": "chMRhmWmGKBA"
   },
   "source": [
    "#### Create the training pipeline\n",
    "\n",
    "Let's now create a training pipeline for your CIFAR10 custom training job."
   ]
  },
  {
   "cell_type": "code",
   "execution_count": null,
   "metadata": {
    "id": "xxYXKL8LGKBA"
   },
   "outputs": [],
   "source": [
    "MODEL_NAME = 'cifar10_pipeline-' + TIMESTAMP\n",
    "PIPELINE_DISPLAY_NAME = 'cifar10-training-pipeline-' + TIMESTAMP\n",
    "\n",
    "training_task_inputs = json_format.ParseDict({\"workerPoolSpecs\": WORKER_POOL_SPEC},\n",
    "                                             Value())\n",
    "pipeline = {\n",
    "    \"display_name\": PIPELINE_DISPLAY_NAME,\n",
    "    \"training_task_definition\": CUSTOM_TASK_GCS_PATH,\n",
    "    \"training_task_inputs\": training_task_inputs,\n",
    "    \"model_to_upload\": {\n",
    "        \"display_name\": PIPELINE_DISPLAY_NAME + '-model',\n",
    "        \"artifact_uri\": MODEL_DIR,\n",
    "        \"container_spec\": {\n",
    "            \"image_uri\": DEPLOY_IMAGE,\n",
    "            \"command\": [\"/bin/tensorflow_model_server\"],\n",
    "            \"args\": [\n",
    "                \"--model_name=\" + MODEL_NAME,\n",
    "                \"--model_base_path=\" + MODEL_DIR,\n",
    "                \"--rest_api_port=8080\",\n",
    "                \"--port=8500\",\n",
    "                \"--file_system_poll_wait_seconds=31540000\"\n",
    "            ],\n",
    "        }\n",
    "    },\n",
    "}"
   ]
  },
  {
   "cell_type": "code",
   "execution_count": null,
   "metadata": {
    "id": "92yYKgrYGKBA"
   },
   "outputs": [],
   "source": [
    "PIPELINE_NAME = create_pipeline(pipeline)"
   ]
  },
  {
   "cell_type": "markdown",
   "metadata": {
    "id": "CQpoLCi3GKBA"
   },
   "source": [
    "### Get information on the training pipeline\n",
    "\n",
    "Let's get the status on our custom training pipeline for CIFAR10 using the helper function we defined earlier `get_training_pipelime`. The job most likely will still be either PENDING or RUNNING.\n"
   ]
  },
  {
   "cell_type": "code",
   "execution_count": null,
   "metadata": {
    "id": "lXadee9vGKBA"
   },
   "outputs": [],
   "source": [
    "pipeline_response = get_training_pipeline(PIPELINE_NAME)"
   ]
  },
  {
   "cell_type": "markdown",
   "metadata": {
    "id": "P9NsMP_5GKBA"
   },
   "source": [
    "# Deployment\n",
    "\n",
    "## Pre-Cooked\n",
    "\n",
    "Training the above model may take upwards of ~5 minutes time. For expendiency, we have a pre-cooked (already trained) version of this model you can use for the next steps, while you wait for your model to finish training. \n",
    "\n",
    "Once your model is done training, you can repeat these steps for your trained model. You can calcuate the actual time it took to train the model by subtracting `end_time` from `start_time`. For your model, we will need to know the location of the saved model, which the Python script saved in your local Cloud Storage bucket at `MODEL_DIR + '/saved_model.pb'`.\n",
    "\n",
    "\n",
    "You can choose between the precooked model or your trained model with the python variable `precooked` in the cell below."
   ]
  },
  {
   "cell_type": "code",
   "execution_count": null,
   "metadata": {
    "id": "YmhKC8KwGKBB"
   },
   "outputs": [],
   "source": [
    "# Precooked flag\n",
    "precook = False\n",
    "\n",
    "if precook:\n",
    "    model_path_to_deploy = \"[not-implemented-yet]\"\n",
    "else:\n",
    "    pipeline_response = get_training_pipeline(PIPELINE_NAME, True)\n",
    "    if pipeline_response.state != aip.PipelineState.PIPELINE_STATE_SUCCEEDED:\n",
    "        print(\"Training job has not completed\")\n",
    "        model_path_to_deploy = None\n",
    "    else:\n",
    "        model_path_to_deploy = MODEL_DIR\n",
    "\n",
    "print(\"model_to_deploy:\", model_path_to_deploy)"
   ]
  },
  {
   "cell_type": "markdown",
   "metadata": {
    "id": "3mvV0LEoGKBB"
   },
   "source": [
    "## Upload the model for serving\n",
    "\n",
    "Your model is stored in a TF SavedModel format in a Cloud Storage bucket. Let's go ahead and load it from the Cloud Storage bucket, and then you can do some things, like evaluate the model, and do a prediction.\n",
    "\n",
    "To load, we will use the TF.Keras `model.load_model()` method passing it the Cloud Storage path where the model is saved -- specified by `MODEL_DIR`."
   ]
  },
  {
   "cell_type": "code",
   "execution_count": null,
   "metadata": {
    "id": "PIDR3GdUGKBB"
   },
   "outputs": [],
   "source": [
    "import tensorflow as tf\n",
    "\n",
    "model = tf.keras.models.load_model(MODEL_DIR)"
   ]
  },
  {
   "cell_type": "markdown",
   "metadata": {
    "id": "UdIZwlx2GKBB"
   },
   "source": [
    "## Evaluate the model\n",
    "\n",
    "Now let's find out how good the model is. \n",
    "\n",
    "### Load evaluation data\n",
    "\n",
    "We will load the CIFAR10 test (holdout) data from `tf.keras.datasets`, using the method `load_data()`. This will return the dataset as a tuple of two elements. The first element is the training data and the second is the test data. Each element is also a tuple of two elements: the image data, and the corresponding labels.\n",
    "\n",
    "You don't need the training data, and hence why we loaded it as `(_, _)`.\n",
    "\n",
    "Before you can run the data through evaluation, you need to preprocess it:\n",
    "\n",
    "x_test:\n",
    "1. Normalize (rescaling) the pixel data by dividing each pixel by 255. This will replace each single byte integer pixel with a 32-bit floating point number between 0 and 1.\n",
    "\n",
    "y_test:<br/>\n",
    "2. The labels are currently scalar (sparse). If you look back at the `compile()` step in the `trainer/task.py` script, you will find that it was compiled for sparse labels. So we don't need to do anything more."
   ]
  },
  {
   "cell_type": "code",
   "execution_count": null,
   "metadata": {
    "id": "YGu4k5JIGKBB"
   },
   "outputs": [],
   "source": [
    "from tensorflow.keras.datasets import cifar10\n",
    "import numpy as np\n",
    "\n",
    "(_, _), (x_test, y_test) = cifar10.load_data()\n",
    "x_test = (x_test / 255.0).astype(np.float32)\n",
    "\n",
    "print(x_test.shape, y_test.shape)"
   ]
  },
  {
   "cell_type": "markdown",
   "metadata": {
    "id": "zWmRlIPhGKBB"
   },
   "source": [
    "### Evaluate the model\n",
    "\n",
    "Let's evaluate how well the ConvNet model in the custom job did. Wahaha -- ~30%, not so good. Well, what does one expect with just 10 epochs and 200 steps per epoch -- see the `task.py fit() call`."
   ]
  },
  {
   "cell_type": "code",
   "execution_count": null,
   "metadata": {
    "id": "bQA73xxkGKBB"
   },
   "outputs": [],
   "source": [
    "model.evaluate(x_test, y_test)"
   ]
  },
  {
   "cell_type": "markdown",
   "metadata": {
    "id": "asLQ6ZJGGKBB"
   },
   "source": [
    "## Upload the model for serving\n",
    "\n",
    "Next, you will upload your TF.Keras model from the custom job to AI Platform (Unified) model service, which will create a AI Platform (Unified) model resource for your custom model. During upload, you need to define a serving function to convert data to the format your model expects. If you send encoded data to AI Platform, your serving function ensures that the data is decoded on the model server before it is passed as input to your model.\n",
    "\n",
    "### Serving function for image data\n",
    "\n",
    "To pass images to the prediction service, you encode the bytes into base 64 -- which makes the content safe from modification while transmitting binary data over the network. Since this deployed model expects input data as raw bytes, you need to ensure that the base 64 encoded data gets converted back to raw bytes before it is passed as input to the deployed model.\n",
    "\n",
    "To resolve this, define a serving function (`serving_fn`) and attach it to the model as a preprocessing step. Add a `@tf.function` decorator so the serving function is part of the model's graph (instead of upstream on a CPU).\n",
    "\n",
    "When you send a prediction or explanation request, the content of the request is base 64 decoded into a Tensorflow string, which is passed to the serving function (`serving_fn`). The serving function preprocesses the tf.string into raw numpy bytes (`preprocess_fn`) to match the input requirements of the model:\n",
    "- `io.decode_jpeg`- Decompresses the JPG image which is returned as a Tensorflow vector with three channels (RGB).\n",
    "- `image.convert_image_dtype` - Changes integer pixel values to float 32 and normalizes the values between the range 0 and 1.\n",
    "- `image.resize` - Resizes the image to match the input shape for the model.\n",
    "- `resized / 255.0` - Rescales (normalization) the pixel data between 0 and 1.\n",
    "\n",
    "At this point, the data can be passed to the model (`m_call`)."
   ]
  },
  {
   "cell_type": "code",
   "execution_count": null,
   "metadata": {
    "id": "hUsf3rq2GKBB"
   },
   "outputs": [],
   "source": [
    "CONCRETE_INPUT = \"numpy_inputs\"\n",
    "\n",
    "def _preprocess(bytes_input):\n",
    "    decoded = tf.io.decode_jpeg(bytes_input, channels=3)\n",
    "    decoded = tf.image.convert_image_dtype(decoded, tf.float32)\n",
    "    resized = tf.image.resize(decoded, size=(32, 32))\n",
    "    rescale = tf.cast(resized / 255.0, tf.float32)\n",
    "    return rescale\n",
    "\n",
    "\n",
    "@tf.function(input_signature=[tf.TensorSpec([None], tf.string)])\n",
    "def preprocess_fn(bytes_inputs):\n",
    "    decoded_images = tf.map_fn(_preprocess, bytes_inputs, dtype=tf.float32, back_prop=False)\n",
    "    return {CONCRETE_INPUT: decoded_images}  # User needs to make sure the key matches model's input\n",
    "\n",
    "\n",
    "m_call = tf.function(model.call).get_concrete_function([tf.TensorSpec(shape=[None, 32, 32, 3], dtype=tf.float32, name=CONCRETE_INPUT)])\n",
    "\n",
    "\n",
    "@tf.function(input_signature=[tf.TensorSpec([None], tf.string)])\n",
    "def serving_fn(bytes_inputs):\n",
    "    images = preprocess_fn(bytes_inputs)\n",
    "    prob = m_call(**images)\n",
    "    return prob\n",
    "\n",
    "\n",
    "tf.saved_model.save(model, model_path_to_deploy, signatures={\n",
    "    'serving_default': serving_fn,\n",
    "})"
   ]
  },
  {
   "cell_type": "markdown",
   "metadata": {
    "id": "stgDuN_aGKBB"
   },
   "source": [
    "## Get the serving function signature\n",
    "\n",
    "You can get the signatures of your model's input and output layers by reloading the model into memory, and querying it for the signatures corresponding to each layer.\n",
    "\n",
    "For your purpose, you need the signature of the serving function. Why? Well, when we send our data for prediction as a HTTP request packet, the image data is base 64 encoded, and our TF.Keras model takes numpy input. Your serving function will do the conversion from base 64 to a numpy array. \n",
    "\n",
    "When making a prediction request, you need to route the request to the serving function instead of the model, so you need to know the input layer name of the serving function -- which you will use later when you make a prediction request."
   ]
  },
  {
   "cell_type": "code",
   "execution_count": null,
   "metadata": {
    "id": "95fV26pHGKBB"
   },
   "outputs": [],
   "source": [
    "loaded = tf.saved_model.load(model_path_to_deploy)\n",
    "\n",
    "input_name = list(loaded.signatures['serving_default'].structured_input_signature[1].keys())[0]\n",
    "print('Serving function input:', input_name)"
   ]
  },
  {
   "cell_type": "markdown",
   "metadata": {
    "id": "sdDhUAoIGKBB"
   },
   "source": [
    "### Upload the Model\n",
    "\n",
    "Use this helper function `upload_model` to upload your model, stored in SavedModel format, upto the model service, which will instantiate a AI Platform (Unified) model instance for our model. Once you've done that, you can use the model in the same way as any other AI Platform (Unified) model instance, such as deploying to an endpoint for serving predictions.\n",
    "\n",
    "The helper function takes the parameters:\n",
    "\n",
    "- `display_name`: A human readable name for the endpoint.\n",
    "- `image_uri`: The container image for the model deployment.\n",
    "- `model_uri`: The Cloud Storage path to our SavedModel artificat. For this tutorial, this is the Cloud Storage location where the `trainer/task.py` saved the model, which we specified in the variable `MODEL_DIR`.\n",
    "\n",
    "The helper function uses the model client service and calls the method `upload_model`, which takes the parameters:\n",
    "\n",
    "- `parent`: The AI Platform (Unified) location root path for dataset, model and endpoint resources. \n",
    "- `model`: The specification for the AI Platform (Unified) model instance.\n",
    "\n",
    "Let's now dive deeper into the AI Platform (Unified) model specification `model`. This is a dictionary object that consists of the following fields:\n",
    "\n",
    "- `display_name`: A human readable name for the model.\n",
    "- `metadata_schema_uri`: Since our model was built without a AI Platform (Unified) managed dataset, we will leave this blank (`''`).\n",
    "- `artificat_uri`: The Cloud Storage path where the model is stored in SavedModel format. \n",
    "- `container_spec`: This is the specification for the docker container that will be installed on the endpoint, from which the model will serve predictions.\n",
    "\n",
    "Uploading a model into a AI Platform (Unified) model resource returns a long running operation, since it may take a few moments. You call `response.result()`, which is a synchronous call and will return when the AI Platform (Unified) model resource is ready. \n",
    "\n",
    "The helper function returns the AI Platform (Unified) fully qualified identifier for the corresponding AI Platform (Unified) model instance `upload_model_response.model`. You will save the identifier for subsequent steps in the variable `model_to_upload_name`.\n"
   ]
  },
  {
   "cell_type": "code",
   "execution_count": null,
   "metadata": {
    "id": "aSyMAh7nGKBB"
   },
   "outputs": [],
   "source": [
    "IMAGE_URI = DEPLOY_IMAGE\n",
    "\n",
    "\n",
    "def upload_model(display_name, image_uri, model_uri):\n",
    "    model = {\n",
    "        \"display_name\": display_name,\n",
    "        \"metadata_schema_uri\": \"\",\n",
    "        \"artifact_uri\": model_uri,\n",
    "        \"container_spec\": {\n",
    "            \"image_uri\": image_uri\n",
    "        },\n",
    "    }\n",
    "    response = clients['model'].upload_model(parent=PARENT, model=model)\n",
    "    print(\"Long running operation:\", response.operation.name)\n",
    "    upload_model_response = response.result(timeout=180)\n",
    "    print(\"upload_model_response\")\n",
    "    print(\" model:\", upload_model_response.model)\n",
    "    return upload_model_response.model\n",
    "\n",
    "\n",
    "model_to_deploy_name = upload_model(\"cifar10-\" + TIMESTAMP, IMAGE_URI, model_path_to_deploy)"
   ]
  },
  {
   "cell_type": "markdown",
   "metadata": {
    "id": "r-uJp-FnGKBB"
   },
   "source": [
    "### List all models\n",
    "\n",
    "Now that your custom model is uploaded as a AI Platform (Unified) managed model, let's get a list of all your AI Platform (Unified) managed models. Use this helper function `list_models`. This helper function uses the AI Platform (Unified) model client service, and calls the method `list_models`, with the parameter:\n",
    "\n",
    "- `parent`: The AI Platform (Unified) location root path for your dataset, model and endpoint resources.\n",
    "\n",
    "The response object from the call is a list, where each element is a AI Platform (Unified) managed model. For each model, you will display a few fields:\n",
    "\n",
    "- `name`: The AI Platform (Unified) unique identifier for the managed model.\n",
    "- `display_name`: The human readable name assigned to the model.\n",
    "- `create_time`': Timestamp when the model resource was created.\n",
    "- `update_time`: Timestamp when the model resource was last updated.\n",
    "- `container`: The container image used for training the model.\n",
    "- `artifact_uri`': The Cloud Storage location of the model artifact."
   ]
  },
  {
   "cell_type": "code",
   "execution_count": null,
   "metadata": {
    "id": "UIp61AgqGKBB"
   },
   "outputs": [],
   "source": [
    "def list_models():\n",
    "    response = clients['model'].list_models(parent=PARENT)\n",
    "    for model in response:\n",
    "        print(\"name\", model.name)\n",
    "        print(\"display_name\", model.display_name)\n",
    "        print(\"create_time\", model.create_time)\n",
    "        print(\"update_time\", model.update_time)\n",
    "        print(\"container\", model.container_spec.image_uri)\n",
    "        print(\"artifact_uri\", model.artifact_uri)\n",
    "        print('\\n')\n",
    "\n",
    "\n",
    "list_models()"
   ]
  },
  {
   "cell_type": "markdown",
   "metadata": {
    "id": "pzsPNDORGKBB"
   },
   "source": [
    "### Get model information\n",
    "\n",
    "Now let's get the model information for just your model. Use this helper function `get_model`, with the parameter:\n",
    "\n",
    "- `name`: The AI Platform (Unified) unique identifier for the managed model.\n",
    "\n",
    "This helper function uses the AI Platform (Unified) model client service, and calls the method `get_model`, with the parameter:\n",
    "\n",
    "- `name`: The AI Platform (Unified) unique identifier for the managed model."
   ]
  },
  {
   "cell_type": "code",
   "execution_count": null,
   "metadata": {
    "id": "-wOE_l4FGKBB"
   },
   "outputs": [],
   "source": [
    "def get_model(name):\n",
    "    response = clients['model'].get_model(name=name)\n",
    "    print(response)\n",
    "\n",
    "\n",
    "get_model(model_to_deploy_name)"
   ]
  },
  {
   "cell_type": "markdown",
   "metadata": {
    "id": "_0GV5MwiGKBB"
   },
   "source": [
    "### Create an endpoint\n",
    "\n",
    "Use this helper function `create_endpoint` to create an endpoint to deploy the model to for serving predictions, with the parameter:\n",
    "\n",
    "- `display_name`: A human readable name for the endpoint.\n",
    "\n",
    "The helper function uses the endpoint client service and calls the method `create_endpoint`, which takes the parameter:\n",
    "\n",
    "- `display_name`: A human readable name for the endpoint.\n",
    "\n",
    "Creating an endpoint returns a long running operation, since it may take a few moments to provision the endpoint for serving. You call `response.result()`, which is a synchronous call and will return when the endpoint is ready. The helper function will return the AI Platform (Unified) fully qualified identifier for the endpoint -- `response.name`.\n"
   ]
  },
  {
   "cell_type": "code",
   "execution_count": null,
   "metadata": {
    "id": "FejA5SbcGKBB"
   },
   "outputs": [],
   "source": [
    "ENDPOINT_NAME = \"cifar10_endpoint-\" + TIMESTAMP\n",
    "\n",
    "\n",
    "def create_endpoint(display_name):\n",
    "    endpoint = {\"display_name\": display_name}\n",
    "    response = clients['endpoint'].create_endpoint(parent=PARENT, endpoint=endpoint)\n",
    "    print(\"Long running operation:\", response.operation.name)\n",
    "\n",
    "    result = response.result(timeout=300)\n",
    "    print(\"result\")\n",
    "    print(\" name:\", result.name)\n",
    "    print(\" display_name:\", result.display_name)\n",
    "    print(\" description:\", result.description)\n",
    "    print(\" labels:\", result.labels)\n",
    "    print(\" create_time:\", result.create_time)\n",
    "    print(\" update_time:\", result.update_time)\n",
    "    return result.name\n",
    "\n",
    "\n",
    "endpoint_name = create_endpoint(ENDPOINT_NAME)"
   ]
  },
  {
   "cell_type": "markdown",
   "metadata": {
    "id": "XmlxD_iXGKBB"
   },
   "source": [
    "### Deploy model to the endpoint\n",
    "\n",
    "Use this helper function `deploy_model` to deploy the model to the endpoint you created for serving predictions, with the parameters:\n",
    "\n",
    "- `model`: The AI Platform (Unified) fully qualified model identifier of the model to upload (deploy) from the training pipeline.\n",
    "- `deploy_mopdel_display_name`: A human readable name for the deployed model.\n",
    "- `endpoint`: The AI Platform (Unified) fully qualified endpoint identifier to deploy the model to.\n",
    "\n",
    "The helper function uses the endpoint client service and calls the method `deploy_model`, which takes the parameters:\n",
    "\n",
    "- `endpoint`: The AI Platform (Unified) fully qualified endpoint identifier to deploy the model to.\n",
    "- `deployed_model`: The requirements for deploying the model.\n",
    "- `traffic_split`: Percent of traffic at endpoint that goes to this model, which is specified as a dictioney of one or more key/value pairs.\n",
    "   - If only one model, then specify as { \"0\": 100 }, where \"0\" refers to this model being uploaded and 100 means 100% of the traffic.\n",
    "   - If there are existing models on the endpoint, for which the traffic will be split, then specify as, where `model_id` is the model id of an existing model to the deployed endpoint. The percents must add up to 100.\n",
    "   \n",
    "           { \"0\": percent, model_id: percent, ... }\n",
    "\n",
    "Let's now dive deeper into the `deployed_model` parameter. This parameter is specified as a Python dictionary with the minimum required fields:\n",
    "\n",
    "- `model`: The AI Platform (Unified) fully qualified model identifier of the (upload) model to deploy.\n",
    "- `display_name`: A human readable name for the deployed model.\n",
    "- `dedicated_resources`: This refers to how many redundant compute instances (replicas) and type of compute instance (machine_spec). For this example, we set it to one (no replication). If using a GPU, the corresponding container image must support a GPU.\n",
    "\n",
    "Let's now dive deeper into the `traffic_split` parameter. This parameter is specified as a python dictionary. This might at first be a tad bit confusing. Let me explain, you can deploy more than one instance of your model to an endpoint, and then set how much (percent) goes to each instance. \n",
    "\n",
    "Why would you do that? Perhaps you already have a previous version deployed in production -- let's call that v1. You got better model evaluation on v2, but you don't know for certain that it is really better until you deploy to production. So in the case of traffic split, you might want to deploy v2 to the same endpoint as v1, but it only get's say 10% of the traffic. That way, you can monitor how well it does without disrupting the majority of users -- until you make a final decision."
   ]
  },
  {
   "cell_type": "code",
   "execution_count": null,
   "metadata": {
    "id": "0lQPJUtfGKBB"
   },
   "outputs": [],
   "source": [
    "DEPLOYED_NAME = \"cifar10_deployed-\" + TIMESTAMP\n",
    "\n",
    "\n",
    "def deploy_model(model, deployed_model_display_name, endpoint, traffic_split={\"0\": 100}):\n",
    "    # Accelerators can be used only if the model specifies a GPU image.\n",
    "    if DEPLOY_GPU:\n",
    "        machine_spec = {\n",
    "            \"machine_type\": DEPLOY_COMPUTE,\n",
    "            \"accelerator_type\": DEPLOY_GPU,\n",
    "            \"accelerator_count\": DEPLOY_NGPU,\n",
    "        }\n",
    "    else:\n",
    "        machine_spec = {\n",
    "            \"machine_type\": DEPLOY_COMPUTE,\n",
    "            \"accelerator_count\": 0,\n",
    "        }\n",
    "\n",
    "    deployed_model = {\n",
    "        \"model\": model,\n",
    "        \"display_name\": deployed_model_display_name,\n",
    "        # `dedicated_resources` must be used for non-AutoML models\n",
    "        \"dedicated_resources\": {\n",
    "            \"min_replica_count\": 1,\n",
    "            \"machine_spec\": machine_spec\n",
    "        },\n",
    "    }\n",
    "\n",
    "    response = clients['endpoint'].deploy_model(\n",
    "        endpoint=endpoint, deployed_model=deployed_model, traffic_split=traffic_split)\n",
    "\n",
    "    print(\"Long running operation:\", response.operation.name)\n",
    "    result = response.result()\n",
    "    print(\"result\")\n",
    "    deployed_model = result.deployed_model\n",
    "    print(\" deployed_model\")\n",
    "    print(\"  id:\", deployed_model.id)\n",
    "    print(\"  model:\", deployed_model.model)\n",
    "    print(\"  display_name:\", deployed_model.display_name)\n",
    "    print(\"  create_time:\", deployed_model.create_time)\n",
    "\n",
    "    return deployed_model.id\n",
    "\n",
    "\n",
    "deployed_model_id = deploy_model(model_to_deploy_name, DEPLOYED_NAME, endpoint_name)"
   ]
  },
  {
   "cell_type": "markdown",
   "metadata": {
    "id": "JfEQKXKGGKBB"
   },
   "source": [
    "### List all endpoints\n",
    "\n",
    "Let's now get a list of all your endpoints. Use this helper function `list_endpoints`. \n",
    "\n",
    "The helper function uses the endpoint client service and calls the method `list_endpoints`. The returned response object is a list, with an element for each endpoint. The helper function lists a few example fields for each endpoint:\n",
    "\n",
    "- `name`: The AI Platform (Unified) identifier for the managed endpoint.\n",
    "- `display_name`: The human readable name you assigned to the endpoint.\n",
    "- `create_time`: When the endpoint was created.\n",
    "- `deployed_models`: The models and associated information that are deployed to this endpoint."
   ]
  },
  {
   "cell_type": "code",
   "execution_count": null,
   "metadata": {
    "id": "p9yOc0kqGKBB"
   },
   "outputs": [],
   "source": [
    "def list_endpoints():\n",
    "    response = clients['endpoint'].list_endpoints(parent=PARENT)\n",
    "    for endpoint in response:\n",
    "        print(\"name:\", endpoint.name)\n",
    "        print(\"display name:\", endpoint.display_name)\n",
    "        print(\"create_time:\", endpoint.create_time)\n",
    "        print(\"deployed_models\", endpoint.deployed_models)\n",
    "        print(\"\\n\")\n",
    "        \n",
    "list_endpoints()"
   ]
  },
  {
   "cell_type": "markdown",
   "metadata": {
    "id": "7Y2GqCEhGKBB"
   },
   "source": [
    "### Get information on this endpoint\n",
    "\n",
    "Now let's get the endpoint information for just your endpoint. Use this helper function `get_endpoint`, with the parameter:\n",
    "\n",
    "- `name`: The AI Platform (Unified) unique identifier for the managed endpoint.\n",
    "\n",
    "This helper function uses the AI Platform (Unified) endpoint client service, and calls the method `get_endpoint`, with the parameter:\n",
    "\n",
    "- `name`: The AI Platform (Unified) unique identifier for the managed endpoint."
   ]
  },
  {
   "cell_type": "code",
   "execution_count": null,
   "metadata": {
    "id": "cSeRns24GKBB"
   },
   "outputs": [],
   "source": [
    "def get_endpoint(name):\n",
    "    response = clients['endpoint'].get_endpoint(name=name)\n",
    "    print(response)\n",
    "    \n",
    "get_endpoint(endpoint_name)"
   ]
  },
  {
   "cell_type": "markdown",
   "metadata": {
    "id": "-BsM8f53GKBB"
   },
   "source": [
    "## Make a prediction request\n",
    "\n",
    "Let's now do a prediction to your deployed model. You will use an arbitrary image out of the test (holdout) portion of the dataset as a test image. "
   ]
  },
  {
   "cell_type": "code",
   "execution_count": null,
   "metadata": {
    "id": "8MW2KeUTGKBB"
   },
   "outputs": [],
   "source": [
    "test_image = x_test[0]\n",
    "test_label = y_test[0]\n",
    "print(test_image.shape)"
   ]
  },
  {
   "cell_type": "markdown",
   "metadata": {
    "id": "_6g0zre1GKBB"
   },
   "source": [
    "### Prepare the request content\n",
    "You are going to send the CIFAR10 image as compressed JPG image, instead of the raw uncompressed bytes:\n",
    "\n",
    "- `cv2.imwrite`: Use openCV to write the uncompressed image to disk as a compressed JPEG image.\n",
    "- `tf.io.read_file`: Read the compressed JPG images back into memory as raw bytes.\n",
    "- `base64.b64encode`: Encode the raw bytes into a base 64 encoded string."
   ]
  },
  {
   "cell_type": "code",
   "execution_count": null,
   "metadata": {
    "id": "yxeiUGjEGKBB"
   },
   "outputs": [],
   "source": [
    "import base64\n",
    "import cv2\n",
    "cv2.imwrite('tmp.jpg', (test_image * 255).astype(np.uint8))\n",
    "\n",
    "bytes = tf.io.read_file('tmp.jpg')\n",
    "b64str = base64.b64encode(bytes.numpy()).decode('utf-8')"
   ]
  },
  {
   "cell_type": "markdown",
   "metadata": {
    "id": "QwQQGakpGKBB"
   },
   "source": [
    "### Send the prediction request\n",
    "\n",
    "Ok, now you have a test image. Use this helper function `predict_image`, which takes the parameters:\n",
    "\n",
    "- `image`: The test image data as a numpy array.\n",
    "- `endpoint`: The AI Platform (Unified) fully qualified identifier for the endpoint where the model was deployed.\n",
    "- `parameters_dict`: Additional parameters for serving -- in our case we will pass None.\n",
    "\n",
    "This function uses the prediction client service and calls the `predict` method with the parameters:\n",
    "\n",
    "- `endpoint`: The AI Platform (Unified) fully qualified identifier for the endpoint where the model was deployed.\n",
    "- `instances`: A list of instances (encoded images) to predict.\n",
    "- `parameters`: Additional parameters for serving -- in our case we will pass None.\n",
    "\n",
    "To pass the image data to the prediction service, in the previous step you encoded the bytes into base 64 -- which makes the content safe from modification when transmitting binary data over the network. You need to tell the serving binary where your model is deployed to, that the content has been base 64 encoded, so it will decode it on the other end in the serving binary. \n",
    "\n",
    "Each instance in the prediction request is a dictionary entry of the form:\n",
    "\n",
    "                        {input_name: {'b64': content }}\n",
    "                        \n",
    "- `input_name`: the name of the input layer of the underlying model.\n",
    "- `'b64'`: A key that indicates the content is base 64 encoded.\n",
    "- `content`: The compressed JPG image bytes as a base 64 encoded string.\n",
    "\n",
    "Since the `predict()` service can take multiple images (instances), you will send your single image as a list of one image. As a final step, you package the instances list into Google's protobuf format -- which is what we pass to the `predict()` service.\n",
    "\n",
    "The `response` object returns a list, where each element in the list corresponds to the corresponding image in the request. You will see in the output for each prediction:\n",
    "\n",
    "- Confidence level for the prediction (`predictions`, between 0 and 1, for each of the ten classes."
   ]
  },
  {
   "cell_type": "code",
   "execution_count": null,
   "metadata": {
    "id": "NFoHyPjgGKBB"
   },
   "outputs": [],
   "source": [
    "def predict_image(image, endpoint, parameters_dict):\n",
    "    # The format of each instance should conform to the deployed model's prediction input schema.\n",
    "    instances_list = [{input_name: {'b64': image}}]\n",
    "    instances = [json_format.ParseDict(s, Value()) for s in instances_list]\n",
    "\n",
    "    response = clients['prediction'].predict(endpoint=endpoint, instances=instances, parameters=parameters_dict)\n",
    "    print(\"response\")\n",
    "    print(\" deployed_model_id:\", response.deployed_model_id)\n",
    "    predictions = response.predictions\n",
    "    print(\"predictions\")\n",
    "    for prediction in predictions:\n",
    "        # See gs://google-cloud-aiplatform/schema/predict/prediction/classification.yaml for the format of the predictions.\n",
    "        print(\" prediction:\", prediction)\n",
    "\n",
    "\n",
    "predict_image(b64str, endpoint_name, None)"
   ]
  },
  {
   "cell_type": "markdown",
   "metadata": {
    "id": "_4gjQGMSGKBB"
   },
   "source": [
    "## Undeploy the model\n",
    "\n",
    "Let's now undeploy your model from the serving endpoint. Use this helper function `undeploy_model`, which takes the parameters:\n",
    "\n",
    "- `deployed_model_id`: The model deployment identifier returned by the endpoint service when the model was deployed.\n",
    "- `endpoint`: The AI Platform (Unified) fully qualified identifier for the endpoint where the model is deployed.\n",
    "\n",
    "This function uses the endpoint client service and calls the method `undeploy_model`, with the parameters:\n",
    "\n",
    "- `deployed_model_id`: The model deployment identifier returned by the endpoint service when the model was deployed.\n",
    "- `endpoint`: The AI Platform (Unified) fully qualified identifier for the endpoint where the model is deployed.\n",
    "- `traffic_split`: How to split traffic among the remaining deployed models on the endpoint.\n",
    "\n",
    "Since this is the only deployed model on the endpoint, we simply can leave `traffic_split` empty by setting it to {}."
   ]
  },
  {
   "cell_type": "code",
   "execution_count": null,
   "metadata": {
    "id": "VhKWPHgYGKBB"
   },
   "outputs": [],
   "source": [
    "def undeploy_model(deployed_model_id, endpoint):\n",
    "    response = clients['endpoint'].undeploy_model(endpoint=endpoint, deployed_model_id=deployed_model_id, traffic_split={})\n",
    "    print(response)\n",
    "\n",
    "\n",
    "undeploy_model(deployed_model_id, endpoint_name)"
   ]
  },
  {
   "cell_type": "markdown",
   "metadata": {
    "id": "TpV-iwP9qw9c"
   },
   "source": [
    "# Cleaning up\n",
    "\n",
    "To clean up all GCP resources used in this project, you can [delete the GCP\n",
    "project](https://cloud.google.com/resource-manager/docs/creating-managing-projects#shutting_down_projects) you used for the tutorial.\n",
    "\n",
    "Otherwise, you can delete the individual resources you created in this tutorial:\n",
    "\n",
    "- Dataset\n",
    "- Model\n",
    "- Endpoint\n",
    "- Cloud Storage Bucket"
   ]
  },
  {
   "cell_type": "code",
   "execution_count": null,
   "metadata": {
    "id": "sx_vKniMq9ZX"
   },
   "outputs": [],
   "source": [
    "delete_dataset = True\n",
    "delete_model = True\n",
    "delete_endpoint = True\n",
    "delete_bucket = True\n",
    "\n",
    "# Delete the dataset using the AI Platform (Unified) fully qualified identifier for the dataset\n",
    "try:\n",
    "    if delete_dataset:\n",
    "        clients['dataset'].delete_dataset(name=dataset['name'])\n",
    "except Exception as e:\n",
    "    print(e)\n",
    "\n",
    "# Delete the model using the AI Platform (Unified) fully qualified identifier for the model\n",
    "try:\n",
    "    if delete_model:\n",
    "        clients['model'].delete_model(name=model_to_deploy_name)\n",
    "except Exception as e:\n",
    "    print(e)\n",
    "\n",
    "# Delete the endpoint using the AI Platform (Unified) fully qualified identifier for the endpoint\n",
    "try:\n",
    "    if delete_endpoint:\n",
    "        clients['endpoint'].delete_endpoint(name=endpoint_name)\n",
    "except Exception as e:\n",
    "    print(e)\n",
    "\n",
    "if delete_bucket and 'BUCKET_NAME' in globals():\n",
    "    ! gsutil rm -r gs://$BUCKET_NAME"
   ]
  }
 ],
 "metadata": {
  "colab": {
   "collapsed_sections": [],
   "name": "ucaip_customjob_image_pipeline.ipynb",
   "provenance": [],
   "toc_visible": true
  },
  "environment": {
   "name": "tf2-2-3-gpu.2-3.m59",
   "type": "gcloud",
   "uri": "gcr.io/deeplearning-platform-release/tf2-2-3-gpu.2-3:m59"
  },
  "kernelspec": {
   "display_name": "Python 3",
   "language": "python",
   "name": "python3"
  },
  "language_info": {
   "codemirror_mode": {
    "name": "ipython",
    "version": 3
   },
   "file_extension": ".py",
   "mimetype": "text/x-python",
   "name": "python",
   "nbconvert_exporter": "python",
   "pygments_lexer": "ipython3",
   "version": "3.7.8"
  }
 },
 "nbformat": 4,
 "nbformat_minor": 4
}
