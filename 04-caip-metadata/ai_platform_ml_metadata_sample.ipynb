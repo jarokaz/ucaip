{
  "cells": [
    {
      "cell_type": "markdown",
      "metadata": {
        "id": "OqISGw4J5xbj"
      },
      "source": [
        "# AI Platform ML Metadata -- Sample Notebook"
      ]
    },
    {
      "cell_type": "markdown",
      "metadata": {
        "id": "Lp9D98pp1QGp"
      },
      "source": [
        "# Prerequisites\n",
        "\n",
        "Please follow the \"Getting Started\" section of the [User Guide](https://docs.google.com/document/d/1WNEFvjZbki0GTG2oB5JS7D2JVaQjH8PUlVSTt9xPSjQ/edit?usp=sharing) to be able to use the service."
      ]
    },
    {
      "cell_type": "markdown",
      "metadata": {
        "id": "2ndQzHTveAMm"
      },
      "source": [
        "# Installation"
      ]
    },
    {
      "cell_type": "markdown",
      "metadata": {
        "id": "onEHrmhd1QGr"
      },
      "source": [
        "You will need to be authenticated with gcloud as a user with valid permissions in a properly prepared project."
      ]
    },
    {
      "cell_type": "code",
      "execution_count": null,
      "metadata": {
        "id": "BD2XnzLMeGrf"
      },
      "outputs": [],
      "source": [
        "!gcloud auth application-default login"
      ]
    },
    {
      "cell_type": "markdown",
      "metadata": {
        "id": "eXFNlF2VeJ-Q"
      },
      "source": [
        "Get packages and install them. You may need to restart the kernel after this step."
      ]
    },
    {
      "cell_type": "code",
      "execution_count": null,
      "metadata": {
        "id": "xyPjCF5weK8A"
      },
      "outputs": [],
      "source": [
        "!gsutil cp gs://ai-platform-metadata/python/google-cloud-aiplatform-metadata-0.0.1.tar.gz .\n",
        "!pip3 install google-cloud-aiplatform-metadata-0.0.1.tar.gz\n",
        "!pip3 install tensorflow\n",
        "!pip3 install networkx\n",
        "!sudo apt-get install graphviz libgraphviz-dev pkg-config\n",
        "!pip3 install pygraphviz"
      ]
    },
    {
      "cell_type": "markdown",
      "metadata": {
        "id": "vgbL1sn9Zj63"
      },
      "source": [
        "Ref: https://www.tensorflow.org/tutorials/keras/regression\n",
        "\n",
        "## Steps\n",
        "1. Read data\n",
        "2. Clean data\n",
        "3. Train test split data\n",
        "4. Normalize data\n",
        "5. Train\n",
        "6. Evaluate"
      ]
    },
    {
      "cell_type": "code",
      "execution_count": null,
      "metadata": {
        "id": "Jtx_PHifZj65"
      },
      "outputs": [],
      "source": [
        "import pathlib\n",
        "import numpy as np\n",
        "import pandas as pd\n",
        "from tensorflow.python.keras import layers, Sequential\n",
        "from tensorflow.python.keras.utils import data_utils\n",
        "from google.cloud import aiplatform\n",
        "\n",
        "aiplatform.connect(project='YOUR-PROJECT-NAME-HERE', location='us-central1')\n",
        "aiplatform.set_experiment('automobile-fuel-economy-prediction')"
      ]
    },
    {
      "cell_type": "code",
      "execution_count": null,
      "metadata": {
        "id": "JpxA9xLtZj7R"
      },
      "outputs": [],
      "source": [
        "@aiplatform.execution(name=\"Data Reader\")\n",
        "def read_data(uri):\n",
        "    aiplatform.log_parameter('data uri', uri)\n",
        "    dataset_path = data_utils.get_file(\"auto-mpg.data\", uri)\n",
        "    column_names = ['MPG','Cylinders','Displacement','Horsepower','Weight',\n",
        "                    'Acceleration', 'Model Year', 'Origin']\n",
        "    raw_dataset = pd.read_csv(dataset_path, names=column_names, na_values = \"?\",\n",
        "                              comment='\\t', sep=\" \", skipinitialspace=True)\n",
        "    \n",
        "    aiplatform.log_dataset(raw_dataset, \"Raw Auto MPG Data\")\n",
        "    return raw_dataset\n",
        "\n",
        "dataset = read_data(\"http://archive.ics.uci.edu/ml/machine-learning-databases/auto-mpg/auto-mpg.data\")"
      ]
    },
    {
      "cell_type": "code",
      "execution_count": null,
      "metadata": {
        "id": "8xt8nTOj1QHE"
      },
      "outputs": [],
      "source": [
        "aiplatform.graph_experiment()"
      ]
    },
    {
      "cell_type": "code",
      "execution_count": null,
      "metadata": {
        "id": "OLv6Qs_HZj7Z"
      },
      "outputs": [],
      "source": [
        "@aiplatform.execution(name=\"Data Cleaner\")\n",
        "def clean_data(dataset):\n",
        "    dataset = dataset.dropna()\n",
        "    dataset['Origin'] = dataset['Origin'].map(\n",
        "        lambda x: {1: 'USA', 2: 'Europe', 3: 'Japan'}.get(x))\n",
        "    dataset = pd.get_dummies(dataset, prefix='', prefix_sep='')        \n",
        "    aiplatform.log_dataset(dataset, \"Cleaned Auto MPG Data\")\n",
        "    aiplatform.log_metric('num_records', dataset.shape[0])\n",
        "    return dataset\n",
        "\n",
        "clean_dataset = clean_data(dataset)"
      ]
    },
    {
      "cell_type": "code",
      "execution_count": null,
      "metadata": {
        "id": "kH8_dNnd1QHO"
      },
      "outputs": [],
      "source": [
        "aiplatform.graph_experiment()"
      ]
    },
    {
      "cell_type": "code",
      "execution_count": null,
      "metadata": {
        "id": "mmBe9FuOZj7i"
      },
      "outputs": [],
      "source": [
        "@aiplatform.execution(name=\"Data Splitter\")\n",
        "def train_test_split(dataset, split_frac=0.8, random_state=0):\n",
        "    aiplatform.log_parameters(split_fraction=split_frac,\n",
        "                            random_state=random_state)\n",
        "    \n",
        "    train_dataset = dataset.sample(frac=split_frac, random_state=random_state)\n",
        "    test_dataset = dataset.drop(train_dataset.index)\n",
        "    train_labels = train_dataset.pop('MPG')\n",
        "    test_labels = test_dataset.pop('MPG')\n",
        "    \n",
        "    aiplatform.log_dataset(train_dataset, \"Train Data\")\n",
        "    aiplatform.log_dataset(test_dataset, \"Test Data\")\n",
        "    aiplatform.log_dataset(train_labels, \"Train Labels\")\n",
        "    aiplatform.log_dataset(test_labels, \"Test Labels\")\n",
        "    \n",
        "    return train_dataset, test_dataset, train_labels, test_labels\n",
        "\n",
        "train_dataset, test_dataset, train_labels, test_labels = train_test_split(clean_dataset)"
      ]
    },
    {
      "cell_type": "code",
      "execution_count": null,
      "metadata": {
        "id": "SAKAYtYQ1QHZ"
      },
      "outputs": [],
      "source": [
        "aiplatform.graph_experiment()"
      ]
    },
    {
      "cell_type": "code",
      "execution_count": null,
      "metadata": {
        "id": "JbU1Lm59Zj7n"
      },
      "outputs": [],
      "source": [
        "@aiplatform.execution(name=\"Data Normalizer\")\n",
        "def normalize_dataset(train_dataset, test_dataset):\n",
        "    train_stats = train_dataset.describe()\n",
        "    train_stats = train_stats.transpose()\n",
        "    def norm(x):\n",
        "        return (x - train_stats['mean']) / train_stats['std']\n",
        "    normed_train_data = norm(train_dataset)\n",
        "    normed_test_data = norm(test_dataset)\n",
        "    aiplatform.log_dataset(normed_train_data, \"Normalized Train Data\")\n",
        "    aiplatform.log_dataset(normed_test_data, \"Normalized Test Data\")\n",
        "    \n",
        "    return normed_train_data, normed_test_data\n",
        "\n",
        "normed_train_data, normed_test_data = normalize_dataset(train_dataset,\n",
        "                                                        test_dataset)"
      ]
    },
    {
      "cell_type": "code",
      "execution_count": null,
      "metadata": {
        "id": "rgPXA_7O1QHh"
      },
      "outputs": [],
      "source": [
        "aiplatform.graph_experiment()"
      ]
    },
    {
      "cell_type": "code",
      "execution_count": null,
      "metadata": {
        "id": "3NxjMy6DZj7v"
      },
      "outputs": [],
      "source": [
        "@aiplatform.execution(name=\"Trainer\")\n",
        "def train(train_data, train_labels, num_units=64, activation='relu',\n",
        "          dropout_rate=0.0, validation_split = 0.2, epochs=1000):\n",
        "    aiplatform.log_parameters(num_units=num_units, activation=activation,\n",
        "                            dropout_rate=dropout_rate,\n",
        "                            validation_split=validation_split, epochs=epochs)\n",
        "    \n",
        "    model = Sequential([\n",
        "        layers.Dense(num_units, activation=activation,\n",
        "                     input_shape=[len(train_dataset.keys())]),\n",
        "        layers.Dropout(rate=dropout_rate),\n",
        "        layers.Dense(num_units, activation=activation),\n",
        "        layers.Dense(1)\n",
        "    ])\n",
        "\n",
        "\n",
        "    model.compile(loss='mse',\n",
        "                optimizer='adam',\n",
        "                metrics=['mae', 'mse'])\n",
        "    print(model.summary())\n",
        "    \n",
        "    history = model.fit(\n",
        "      train_data, train_labels,\n",
        "      epochs=epochs, validation_split=validation_split)\n",
        "    \n",
        "    aiplatform.log_model(model,'MPG DNN Model')\n",
        "    aiplatform.log_metrics(**{metric: values[-1]\n",
        "                            for metric, values in history.history.items()})\n",
        "\n",
        "    return model, history\n",
        "\n",
        "model, history = train(normed_train_data, train_labels, num_units=16,\n",
        "                       activation='relu', epochs=3, dropout_rate=0.1)"
      ]
    },
    {
      "cell_type": "code",
      "execution_count": null,
      "metadata": {
        "id": "cUa63L6G1QHp"
      },
      "outputs": [],
      "source": [
        "aiplatform.graph_experiment()"
      ]
    },
    {
      "cell_type": "code",
      "execution_count": null,
      "metadata": {
        "id": "3Mg0e4AeZj72"
      },
      "outputs": [],
      "source": [
        "@aiplatform.execution(name=\"Evaluator\")\n",
        "def evaluate(model, test_data, test_labels):\n",
        "    loss, mae, mse = model.evaluate(test_data, test_labels, verbose=2) \n",
        "    aiplatform.log_metrics(test_loss=loss, test_mae=mae, test_mse=mse)\n",
        "    return loss, mae, mse\n",
        "\n",
        "test_loss, test_mae, test_mse = evaluate(model, normed_test_data, test_labels)"
      ]
    },
    {
      "cell_type": "code",
      "execution_count": null,
      "metadata": {
        "id": "F72yT8gn1QHv"
      },
      "outputs": [],
      "source": [
        "aiplatform.graph_experiment()"
      ]
    },
    {
      "cell_type": "code",
      "execution_count": null,
      "metadata": {
        "id": "E8kt0pTaZj78"
      },
      "outputs": [],
      "source": [
        "with aiplatform.experiment('second-experiment'):\n",
        "  model, history = train(normed_train_data, train_labels, num_units=32,\n",
        "                         epochs=6, dropout_rate=0.3)\n",
        "  evaluate(model, normed_test_data, test_labels)\n",
        "\n",
        "with aiplatform.experiment('third-experiment'):\n",
        "  model, history = train(normed_train_data, train_labels, epochs=12)\n",
        "  evaluate(model, normed_test_data, test_labels)\n",
        "\n",
        "with aiplatform.experiment('fourth-experiment'):\n",
        "  model, history = train(normed_train_data, train_labels, num_units=8,\n",
        "                         epochs=12)\n",
        "  evaluate(model, normed_test_data, test_labels)"
      ]
    },
    {
      "cell_type": "code",
      "execution_count": null,
      "metadata": {
        "id": "2UnFqyrssd7N"
      },
      "outputs": [],
      "source": [
        "experiments_df = aiplatform.get_experiments_dataframe()"
      ]
    },
    {
      "cell_type": "code",
      "execution_count": null,
      "metadata": {
        "id": "QFl3ADU-Zj7M"
      },
      "outputs": [],
      "source": [
        "experiments_df.dropna(subset=['metric.val_loss']).plot.bar(x='experiment_name',\n",
        "                                                           y='metric.val_loss')"
      ]
    },
    {
      "cell_type": "code",
      "execution_count": null,
      "metadata": {
        "id": "DtJfNK28Zj8D"
      },
      "outputs": [],
      "source": [
        "col_names = ['experiment_name', 'param.num_units', 'param.epochs', 'metric.val_mae']\n",
        "experiments_df[experiments_df.execution_name == 'Trainer'][col_names]\n",
        "                                                           "
      ]
    },
    {
      "cell_type": "markdown",
      "metadata": {
        "id": "ck-ekGO7FlWF"
      },
      "source": [
        "## Pivot Dataframe to view at Experiment cross section."
      ]
    },
    {
      "cell_type": "code",
      "execution_count": null,
      "metadata": {
        "id": "f7Ba5feI4-P2"
      },
      "outputs": [],
      "source": [
        "def select_first(col):\n",
        "  col = col.dropna()\n",
        "  if len(col):\n",
        "    return col.iloc[0]\n",
        "\n",
        "experiments_pivot = experiments_df.drop(['execution_resource_name', 'execution_name'],axis=1) \\\n",
        "                        .pivot_table(index='experiment_name', aggfunc=select_first)\n",
        "experiments_pivot.T"
      ]
    },
    {
      "cell_type": "markdown",
      "metadata": {
        "id": "G50ut1h9NehA"
      },
      "source": [
        "## Parallel Coordinates Example"
      ]
    },
    {
      "cell_type": "code",
      "execution_count": null,
      "metadata": {
        "id": "wVOs-XCIGPj9"
      },
      "outputs": [],
      "source": [
        "import matplotlib.pyplot as plt\n",
        "plt.rcParams[\"figure.figsize\"] = [15, 5]\n",
        "\n",
        "ax = pd.plotting.parallel_coordinates(\n",
        "    experiments_pivot.reset_index(level=0),\n",
        "    'experiment_name', cols=['param.num_units', 'param.dropout_rate',\n",
        "                             'param.epochs', 'metric.loss',\n",
        "                             'metric.val_loss', 'metric.test_loss'],\n",
        "    color=['blue', 'green', 'pink', 'red'])\n",
        "ax.set_yscale('symlog')\n",
        "ax.legend(bbox_to_anchor=(1.0, 0.5))"
      ]
    }
  ],
  "metadata": {
    "colab": {
      "collapsed_sections": [],
      "last_runtime": {
        "build_target": "",
        "kind": "local"
      },
      "name": "ai_platform_ml_metadata_sample.ipynb",
      "provenance": [
        {
          "file_id": "1JPzXAsOKKYnAY4H6xdHHU3oXDtUCc3rm",
          "timestamp": 1602104870853
        }
      ]
    },
    "kernelspec": {
      "display_name": "Python 3",
      "language": "python",
      "name": "python3"
    },
    "language_info": {
      "codemirror_mode": {
        "name": "ipython",
        "version": 3
      },
      "file_extension": ".py",
      "mimetype": "text/x-python",
      "name": "python",
      "nbconvert_exporter": "python",
      "pygments_lexer": "ipython3",
      "version": "3.8.5"
    }
  },
  "nbformat": 4,
  "nbformat_minor": 0
}