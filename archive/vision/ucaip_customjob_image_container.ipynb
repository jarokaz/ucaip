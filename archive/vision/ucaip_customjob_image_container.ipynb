{
 "cells": [
  {
   "cell_type": "code",
   "execution_count": null,
   "metadata": {
    "id": "ur8xi4C7S06n"
   },
   "outputs": [],
   "source": [
    "# Copyright 2020 Google LLC\n",
    "#\n",
    "# Licensed under the Apache License, Version 2.0 (the \"License\");\n",
    "# you may not use this file except in compliance with the License.\n",
    "# You may obtain a copy of the License at\n",
    "#\n",
    "#     https://www.apache.org/licenses/LICENSE-2.0\n",
    "#\n",
    "# Unless required by applicable law or agreed to in writing, software\n",
    "# distributed under the License is distributed on an \"AS IS\" BASIS,\n",
    "# WITHOUT WARRANTIES OR CONDITIONS OF ANY KIND, either express or implied.\n",
    "# See the License for the specific language governing permissions and\n",
    "# limitations under the License."
   ]
  },
  {
   "cell_type": "markdown",
   "metadata": {
    "id": "eHLV0D7Y5jtU"
   },
   "source": [
    "# AI Platform (Unified) SDK: Custom image classification model for online prediction using custom training container\n",
    "\n",
    "<table align=\"left\">\n",
    "  <td>\n",
    "    <a href=\"https://colab.research.google.com/github/GoogleCloudPlatform/ai-platform-samples/master/notebooks/deepdive/custom/ucaip_customjob_image_container.ipynb\">\n",
    "      <img src=\"https://cloud.google.com/ml-engine/images/colab-logo-32px.png\" alt=\"Colab logo\"> Run in Colab\n",
    "    </a>\n",
    "  </td>\n",
    "  <td>\n",
    "    <a href=\"https://github.com/GoogleCloudPlatform/ai-platform-samples/master/notebooks/deepdive/custom/ucaip_customjob_image_container.ipynb\">\n",
    "      <img src=\"https://cloud.google.com/ml-engine/images/github-logo-32px.png\" alt=\"GitHub logo\">\n",
    "      View on GitHub\n",
    "    </a>\n",
    "  </td>\n",
    "</table>"
   ]
  },
  {
   "cell_type": "markdown",
   "metadata": {
    "id": "tvgnzT1CKxrO"
   },
   "source": [
    "# Overview\n",
    "\n",
    "\n",
    "This tutorial demonstrates how to use the AI Platform (Unified) Python SDK to train using a custom container and deploy a custom image classification model for online prediction.\n",
    "\n",
    "### Dataset\n",
    "\n",
    "The dataset used for this tutorial is the [cifar10 dataset](https://www.tensorflow.org/datasets/catalog/cifar10) from [TensorFlow Datasets](https://www.tensorflow.org/datasets/catalog/overview). The version of the dataset you will use is built into Tensorflow. The trained model predicts which type of class an image is from ten classes: airplane, automobile, bird, cat, deer, dog, frog, horse, ship, truck.\n",
    "\n",
    "### Objective\n",
    "\n",
    "In this notebook, you will learn how to create a custom model from a Python script in a custom docker container using the AI Platform (Unified) SDK, and then do a prediction on the deployed model. You can alternatively create custom models from the command line using `gcloud` or online using Google Cloud Console.\n",
    "\n",
    "The steps performed include: \n",
    "\n",
    "- Create a custom docker container for training.\n",
    "- Create an AI Platform (Unified) custom job for training a model.\n",
    "- Train the model using the custom container.\n",
    "- Retrieve and load the model (artifacts).\n",
    "- View the model evaluation.\n",
    "- Upload the model as a AI Platform (Unified) model.\n",
    "- Deploy the model to a serving endpoint.\n",
    "- Make a prediction.\n",
    "- Undeploy the model.\n",
    "\n",
    "### Costs \n",
    "\n",
    "This tutorial uses billable components of Google Cloud Platform (GCP):\n",
    "\n",
    "* Cloud AI Platform\n",
    "* Cloud Storage\n",
    "\n",
    "Learn about [Cloud AI Platform\n",
    "pricing](https://cloud.google.com/ml-engine/docs/pricing) and [Cloud Storage\n",
    "pricing](https://cloud.google.com/storage/pricing), and use the [Pricing\n",
    "Calculator](https://cloud.google.com/products/calculator/)\n",
    "to generate a cost estimate based on your projected usage."
   ]
  },
  {
   "cell_type": "markdown",
   "metadata": {
    "id": "i7EUnXsZhAGF"
   },
   "source": [
    "## Installation\n",
    "\n",
    "Install the latest (preview) version of AI Platform (Unified) SDK."
   ]
  },
  {
   "cell_type": "code",
   "execution_count": null,
   "metadata": {
    "id": "wyy5Lbnzg5fi"
   },
   "outputs": [],
   "source": [
    "! pip3 install -U google-cloud-aiplatform --user"
   ]
  },
  {
   "cell_type": "markdown",
   "metadata": {
    "id": "sEx12GWYcQQi"
   },
   "source": [
    "Install the Google `cloud-storage` as well."
   ]
  },
  {
   "cell_type": "code",
   "execution_count": null,
   "metadata": {
    "id": "4UaUQLZ9cQQi"
   },
   "outputs": [],
   "source": [
    "! pip3 install google-cloud-storage"
   ]
  },
  {
   "cell_type": "markdown",
   "metadata": {
    "id": "P6qc7fsUcQQi"
   },
   "source": [
    "Install openCV, which will be used for creating test images."
   ]
  },
  {
   "cell_type": "code",
   "execution_count": null,
   "metadata": {
    "id": "1H20040fcQQj"
   },
   "outputs": [],
   "source": [
    "! pip install opencv-python"
   ]
  },
  {
   "cell_type": "markdown",
   "metadata": {
    "id": "zy9Iy3vUcQQj"
   },
   "source": [
    "### Restart the Kernel\n",
    "\n",
    "Once you've installed the AI Platform (Unified) SDK, you need to restart the notebook kernel so it can find the packages."
   ]
  },
  {
   "cell_type": "code",
   "execution_count": null,
   "metadata": {
    "id": "9luQpONrzPb6"
   },
   "outputs": [],
   "source": [
    "import os\n",
    "if not os.getenv(\"AUTORUN\"):\n",
    "    # Automatically restart kernel after installs\n",
    "    import IPython\n",
    "    app = IPython.Application.instance()\n",
    "    app.kernel.do_shutdown(True)"
   ]
  },
  {
   "cell_type": "markdown",
   "metadata": {
    "id": "mzeK3ZjlcQQj"
   },
   "source": [
    "## Before you begin\n",
    "\n",
    "### GPU run-time\n",
    "\n",
    "**Make sure you're running this notebook in a GPU runtime if you have that option. In Colab, select Runtime > Change runtime type > GPU**"
   ]
  },
  {
   "cell_type": "markdown",
   "metadata": {
    "id": "BF1j6f9HApxa"
   },
   "source": [
    "### Set up your GCP project\n",
    "\n",
    "**The following steps are required, regardless of your notebook environment.**\n",
    "\n",
    "1. [Select or create a GCP project](https://console.cloud.google.com/cloud-resource-manager). When you first create an account, you get a $300 free credit towards your compute/storage costs.\n",
    "\n",
    "2. [Make sure that billing is enabled for your project.](https://cloud.google.com/billing/docs/how-to/modify-project)\n",
    "\n",
    "3. [Enable the AI Platform APIs, Compute Engine APIs and Container Registry API.](https://console.cloud.google.com/flows/enableapi?apiid=ml.googleapis.com,compute_component,containerregistry.googleapis.com)\n",
    "\n",
    "4. [Google Cloud SDK](https://cloud.google.com/sdk) is already installed in AI Platform Notebooks.\n",
    "\n",
    "5. Enter your project ID in the cell below. Then run the  cell to make sure the\n",
    "Cloud SDK uses the right project for all the commands in this notebook.\n",
    "\n",
    "**Note**: Jupyter runs lines prefixed with `!` as shell commands, and it interpolates Python variables prefixed with `$` into these commands."
   ]
  },
  {
   "cell_type": "markdown",
   "metadata": {
    "id": "4Jp410nwcQQk"
   },
   "source": [
    "#### Project ID\n",
    "\n",
    "**If you don't know your project ID**, you might be able to get your project ID using `gcloud` command by executing the second cell below."
   ]
  },
  {
   "cell_type": "code",
   "execution_count": 1,
   "metadata": {
    "id": "99so5KQAcQQk"
   },
   "outputs": [],
   "source": [
    "PROJECT_ID = \"jk-mlops-dev\" #@param {type:\"string\"}"
   ]
  },
  {
   "cell_type": "code",
   "execution_count": 2,
   "metadata": {
    "id": "oM1iC_MfAts1"
   },
   "outputs": [],
   "source": [
    "if PROJECT_ID == \"\" or PROJECT_ID is None or PROJECT_ID == \"[your-project-id]\":\n",
    "    # Get your GCP project id from gcloud\n",
    "    shell_output = !gcloud config list --format 'value(core.project)' 2>/dev/null\n",
    "    PROJECT_ID = shell_output[0]\n",
    "    print(\"Project ID:\", PROJECT_ID)"
   ]
  },
  {
   "cell_type": "code",
   "execution_count": 3,
   "metadata": {
    "id": "TDfc5uqRcQQl"
   },
   "outputs": [
    {
     "name": "stdout",
     "output_type": "stream",
     "text": [
      "Updated property [core/project].\n"
     ]
    }
   ],
   "source": [
    "! gcloud config set project $PROJECT_ID"
   ]
  },
  {
   "cell_type": "markdown",
   "metadata": {
    "id": "O9P1x0BRcQQl"
   },
   "source": [
    "#### Region\n",
    "\n",
    "You can also change the `REGION` variable, which is used for operations\n",
    "throughout the rest of this notebook.  Below are regions supported for AI Platform (Unified). We recommend when possible, to choose the region closest to you. \n",
    "\n",
    "- Americas: `us-central1`\n",
    "- Europe: `europe-west4`\n",
    "- Asia Pacific: `asia-east1`\n",
    "\n",
    "You can not use a Multi-Regional Storage bucket for training with AI Platform. Not all regions provide support for all AI Platform services. For the lastest support per region, see [Region support for AI Platform (Unified) services](https://cloud.google.com/ai-platform-unified/docs/general/locations)"
   ]
  },
  {
   "cell_type": "code",
   "execution_count": 4,
   "metadata": {
    "id": "bwGi79o5cQQl"
   },
   "outputs": [],
   "source": [
    "REGION = 'us-central1' #@param {type: \"string\"}"
   ]
  },
  {
   "cell_type": "markdown",
   "metadata": {
    "id": "2E6kqxRZcQQm"
   },
   "source": [
    "#### Timestamp\n",
    "\n",
    "If you are in a live tutorial session, you might be using a shared test account or project. To avoid name collisions between users on resources created, you create a timestamp for each instance session, and append onto the name of resources which will be created in this tutorial."
   ]
  },
  {
   "cell_type": "code",
   "execution_count": 5,
   "metadata": {
    "id": "d4AMd7ewcQQm"
   },
   "outputs": [],
   "source": [
    "from datetime import datetime\n",
    "\n",
    "TIMESTAMP = datetime.now().strftime(\"%Y%m%d%H%M%S\")"
   ]
  },
  {
   "cell_type": "markdown",
   "metadata": {
    "id": "dr--iN2kAylZ"
   },
   "source": [
    "### Authenticate your GCP account\n",
    "\n",
    "**If you are using AI Platform Notebooks**, your environment is already\n",
    "authenticated. Skip this step."
   ]
  },
  {
   "cell_type": "code",
   "execution_count": 6,
   "metadata": {
    "id": "W5cmooA6cQQm"
   },
   "outputs": [],
   "source": [
    "import os\n",
    "import sys\n",
    "\n",
    "# If you are running this notebook in Colab, run this cell and follow the\n",
    "# instructions to authenticate your Google Cloud account. This provides access\n",
    "# to your Cloud Storage bucket and lets you submit training jobs and prediction\n",
    "# requests.\n",
    "\n",
    "# If on AI Platform, then don't execute this code\n",
    "if not os.path.exists('/opt/deeplearning/metadata/env_version'):\n",
    "    if 'google.colab' in sys.modules:\n",
    "        from google.colab import auth as google_auth\n",
    "        google_auth.authenticate_user()\n",
    "\n",
    "    # If you are running this tutorial in a notebook locally, replace the string\n",
    "    # below with the path to your service account key and run this cell to\n",
    "    # authenticate your Google Cloud account.\n",
    "    else:\n",
    "        %env GOOGLE_APPLICATION_CREDENTIALS your_path_to_credentials.json"
   ]
  },
  {
   "cell_type": "markdown",
   "metadata": {
    "id": "zgPO1eR3CYjk"
   },
   "source": [
    "### Create a Cloud Storage bucket\n",
    "\n",
    "**The following steps are required, regardless of your notebook environment.**\n",
    "\n",
    "When you submit a custom training job using the Cloud SDK, you upload a Python package\n",
    "containing your training code to a Cloud Storage bucket. AI Platform runs\n",
    "the code from this package. In this tutorial, AI Platform also saves the\n",
    "trained model that results from your job in the same bucket. You can then\n",
    "create an AI Platform endpoint based on this output in order to serve\n",
    "online predictions.\n",
    "\n",
    "Set the name of your Cloud Storage bucket below. It must be unique across all\n",
    "Cloud Storage buckets. "
   ]
  },
  {
   "cell_type": "code",
   "execution_count": 7,
   "metadata": {
    "id": "MzGDU7TWdts_"
   },
   "outputs": [],
   "source": [
    "BUCKET_NAME = \"jk-ucaip-labs\" #@param {type:\"string\"}"
   ]
  },
  {
   "cell_type": "code",
   "execution_count": 8,
   "metadata": {
    "id": "Zu-qvSS5cQQn"
   },
   "outputs": [],
   "source": [
    "if BUCKET_NAME == \"\" or BUCKET_NAME is None or BUCKET_NAME == \"[your-bucket-name]\":\n",
    "    BUCKET_NAME = PROJECT_ID + \"ucaip-custom-\" + TIMESTAMP"
   ]
  },
  {
   "cell_type": "markdown",
   "metadata": {
    "id": "-EcIXiGsCePi"
   },
   "source": [
    "**Only if your bucket doesn't already exist**: Run the following cell to create your Cloud Storage bucket."
   ]
  },
  {
   "cell_type": "code",
   "execution_count": 9,
   "metadata": {
    "id": "NIq7R4HZCfIc"
   },
   "outputs": [
    {
     "name": "stdout",
     "output_type": "stream",
     "text": [
      "Creating gs://jk-ucaip-labs/...\n"
     ]
    }
   ],
   "source": [
    "! gsutil mb -l $REGION gs://$BUCKET_NAME"
   ]
  },
  {
   "cell_type": "markdown",
   "metadata": {
    "id": "ucvCsknMCims"
   },
   "source": [
    "Finally, validate access to your Cloud Storage bucket by examining its contents:"
   ]
  },
  {
   "cell_type": "code",
   "execution_count": 10,
   "metadata": {
    "id": "vhOb7YnwClBb"
   },
   "outputs": [],
   "source": [
    "! gsutil ls -al gs://$BUCKET_NAME"
   ]
  },
  {
   "cell_type": "markdown",
   "metadata": {
    "id": "XoEqT2Y4DJmf"
   },
   "source": [
    "### Import libraries and define constants"
   ]
  },
  {
   "cell_type": "markdown",
   "metadata": {
    "id": "Y9Uo3tifg1kx"
   },
   "source": [
    "#### Import AI Platform (Unified) SDK\n",
    "\n",
    "Import the AI Platform (Unified) SDK into our python environment."
   ]
  },
  {
   "cell_type": "code",
   "execution_count": 11,
   "metadata": {
    "id": "pRUOFELefqf1"
   },
   "outputs": [],
   "source": [
    "import os\n",
    "import sys\n",
    "import time\n",
    "from google.protobuf import json_format\n",
    "from google.protobuf.struct_pb2 import Value\n",
    "\n",
    "from google.cloud.aiplatform import gapic as aip"
   ]
  },
  {
   "cell_type": "markdown",
   "metadata": {
    "id": "-r03RUXZcQQp"
   },
   "source": [
    "### Install Docker (Colab or Local)\n",
    "\n",
    "If you are using AI Platform Notebooks, docker is already installed. Skip these steps.\n",
    "\n",
    "By default, docker is not installed on colab. If you're running colab, then you need to do the following to install docker."
   ]
  },
  {
   "cell_type": "code",
   "execution_count": 12,
   "metadata": {
    "id": "nvqF9FimcQQp"
   },
   "outputs": [],
   "source": [
    "import sys\n",
    "\n",
    "if 'google.colab' in sys.modules:\n",
    "    ! sudo apt update\n",
    "    ! sudo apt install apt-transport-https ca-certificates curl software-properties-common\n",
    "    ! curl -fsSL https://download.docker.com/linux/ubuntu/gpg | sudo apt-key add -\n",
    "    ! sudo add-apt-repository \"deb [arch=amd64] https://download.docker.com/linux/ubuntu bionic stable\"\n",
    "    ! sudo apt update\n",
    "    ! sudo apt install docker-ce"
   ]
  },
  {
   "cell_type": "markdown",
   "metadata": {
    "id": "69iZycPpcQQp"
   },
   "source": [
    "Start the docker service."
   ]
  },
  {
   "cell_type": "code",
   "execution_count": 13,
   "metadata": {
    "id": "vFgKVgXqcQQp"
   },
   "outputs": [],
   "source": [
    "if 'google.colab' in sys.modules:\n",
    "    ! sudo service docker start"
   ]
  },
  {
   "cell_type": "markdown",
   "metadata": {
    "id": "roTizeH9cQQq"
   },
   "source": [
    "#### AI Platform (Unified) constants\n",
    "\n",
    "Let's now setup some constants for AI Platform (Unified):\n",
    "\n",
    "- `API_ENDPOINT`: The AI Platform (Unified) API service endpoint for dataset, model, job, pipeline and endpoint services.\n",
    "- `API_PREDICT_ENDPOINT`: The AI Platform (Unified) API service endpoint for prediction.\n",
    "- `PARENT`: The AI Platform (Unified) location root path for dataset, model and endpoint resources."
   ]
  },
  {
   "cell_type": "code",
   "execution_count": 14,
   "metadata": {
    "id": "Espq1OZCcQQq"
   },
   "outputs": [],
   "source": [
    "# API Endpoint\n",
    "API_ENDPOINT = \"{}-aiplatform.googleapis.com\".format(REGION)\n",
    "API_PREDICT_ENDPOINT = \"{}-prediction-aiplatform.googleapis.com\".format(REGION)\n",
    "\n",
    "# AI Platform (Unified) location root path for your dataset, model and endpoint resources\n",
    "PARENT = \"projects/\" + PROJECT_ID + \"/locations/\" + REGION"
   ]
  },
  {
   "cell_type": "markdown",
   "metadata": {
    "id": "TAVpzAeIcQQq"
   },
   "source": [
    "#### Hardware Accelerators\n",
    "\n",
    "Let's now set the hardware accelerators (e.g., GPU), if any, for training and prediction.\n",
    "\n",
    "Set the variables `TRAIN_GPU/TRAIN_NGPU` and `DEPLOY_GPU/DEPLOY_NGPU` to use a container image supporting a GPU and the number of GPUs allocated to the compute instance. For example, to use a GPU container image with 4 Nvidia Telsa K80 GPUs allocated to each compute instance, you would specify:\n",
    "\n",
    "    (aip.AcceleratorType.NVIDIA_TESLA_K80, 4)\n",
    "\n",
    "For GPU, available accelerators include:\n",
    "   - aip.AcceleratorType.NVIDIA_TESLA_K80\n",
    "   - aip.AcceleratorType.NVIDIA_TESLA_P100\n",
    "   - aip.AcceleratorType.NVIDIA_TESLA_P4\n",
    "   - aip.AcceleratorType.NVIDIA_TESLA_T4\n",
    "   - aip.AcceleratorType.NVIDIA_TESLA_V100\n",
    "\n",
    "   \n",
    "Otherwise specify `(None, None)` for the container image for a CPU.\n",
    "   \n",
    "*Note*: TF releases before 2.3 for GPU support will fail to load the custom model in this tutorial. It is a known issue and fixed in TF 2.3 -- which is caused by static graph ops that are generated in the serving function. If you encounter this issue on your own custom models, the workaround is to create your own docker container image for TF 2.3 with GPU support."
   ]
  },
  {
   "cell_type": "code",
   "execution_count": 15,
   "metadata": {
    "id": "mHBGBjIBcQQq"
   },
   "outputs": [],
   "source": [
    "TRAIN_GPU, TRAIN_NGPU = (aip.AcceleratorType.NVIDIA_TESLA_K80, 1)\n",
    "DEPLOY_GPU, DEPLOY_NGPU = (None, None)"
   ]
  },
  {
   "cell_type": "markdown",
   "metadata": {
    "id": "y1g35f5vcQQq"
   },
   "source": [
    "#### Container (Docker) image\n",
    "\n",
    "Next, we will set the docker container images for prediction.\n",
    "\n",
    "- Set the variable `TF` to the Tensorflow version of the container image. For example, `2-1` would be version 2.1, and `1-15` would be version 1.15. Google Cloud continuously adds prebuilt training and prediction container images, below are some of the prebuilt images available:\n",
    "\n",
    " - Tensorflow 1.15\n",
    "   - `gcr.io/cloud-aiplatform/prediction/tf-cpu.1-15:latest`\n",
    "   - `gcr.io/cloud-aiplatform/prediction/tf-gpu.1-15:latest`\n",
    " - Tensorflow 2.1\n",
    "   - `gcr.io/cloud-aiplatform/prediction/tf2-cpu.2-1:latest`\n",
    "   - `gcr.io/cloud-aiplatform/prediction/tf2-gpu.2-1:latest`\n",
    " - Tensorflow 2.2\n",
    "   - `gcr.io/cloud-aiplatform/prediction/tf2-cpu.2-2:latest`\n",
    "   - `gcr.io/cloud-aiplatform/prediction/tf2-gpu.2-2:latest`\n",
    " - XGBoost\n",
    "   - `gcr.io/cloud-aiplatform/prediction/xgboost-cpu.1-1`\n",
    " - Scikit-learn\n",
    "   - `gcr.io/cloud-aiplatform/prediction/scikit-learn-cpu.0-23`\n",
    "\n",
    "   \n",
    "Google Cloud AI continously adds new training and prediction container images. For the lastest list, see [Pre-built containers for training](https://cloud.google.com/ai-platform-unified/docs/training/pre-built-containers) and [Pre-built containers for prediction](https://cloud.google.com/ai-platform-unified/docs/predictions/pre-built-containers)"
   ]
  },
  {
   "cell_type": "code",
   "execution_count": 16,
   "metadata": {
    "id": "6VxZlXQDcQQq"
   },
   "outputs": [
    {
     "name": "stdout",
     "output_type": "stream",
     "text": [
      "Training: AcceleratorType.NVIDIA_TESLA_K80 1\n",
      "Deployment: gcr.io/cloud-aiplatform/prediction/tf2-cpu.2-2:latest None None\n"
     ]
    }
   ],
   "source": [
    "TF = '2-2'\n",
    "if TF[0] == '2':\n",
    "    if DEPLOY_GPU:\n",
    "        DEPLOY_VERSION = 'tf2-gpu.{}'.format(TF)\n",
    "    else:\n",
    "        DEPLOY_VERSION = 'tf2-cpu.{}'.format(TF)\n",
    "else:\n",
    "    if DEPLOY_GPU:\n",
    "        DEPLOY_VERSION = 'tf-gpu.{}'.format(TF)\n",
    "    else:\n",
    "        DEPLOY_VERSION = 'tf-cpu.{}'.format(TF)\n",
    "\n",
    "DEPLOY_IMAGE = \"gcr.io/cloud-aiplatform/prediction/{}:latest\".format(DEPLOY_VERSION)\n",
    "\n",
    "print(\"Training:\", TRAIN_GPU, TRAIN_NGPU)\n",
    "print(\"Deployment:\", DEPLOY_IMAGE, DEPLOY_GPU, DEPLOY_NGPU)"
   ]
  },
  {
   "cell_type": "markdown",
   "metadata": {
    "id": "mntTAH8YcQQr"
   },
   "source": [
    "#### Machine Type\n",
    "\n",
    "Next, you will set the machine type (compute instance) you will use for training and prediction.\n",
    "\n",
    "- Set the variables `TRAIN_COMPUTE` and `DEPLOY_COMPUTE` to the compute instance you will use for training and prediction.\n",
    " - `machine type`\n",
    "     - `n1-standard`: 3.75GB of memory per vCPU.\n",
    "     - `n1-highmem`: 6.5GB of memory per vCPU\n",
    "     - `n1-highcpu`: 0.9 GB of memory per vCPU\n",
    " - `vCPUs`: number of \\[2, 4, 8, 16, 32, 64, 96 \\]\n",
    "  \n",
    "*Note, the following is not supported for training*\n",
    " \n",
    " - `standard`: 2 vCPUs\n",
    " - `highcpu`: 2, 4 and 8 vCPUs\n",
    " \n",
    "*Note: You may also use n2 and e2 machine types for training and deployment, but they do not support GPUs*"
   ]
  },
  {
   "cell_type": "code",
   "execution_count": 17,
   "metadata": {
    "id": "ZUUdRCpHcQQr"
   },
   "outputs": [
    {
     "name": "stdout",
     "output_type": "stream",
     "text": [
      "Train Compute Instance n1-standard-4\n",
      "Deploy Compute Instance n1-standard-4\n"
     ]
    }
   ],
   "source": [
    "MACHINE_TYPE = 'n1-standard'\n",
    "VCPU = '4'\n",
    "TRAIN_COMPUTE = MACHINE_TYPE + '-' + VCPU\n",
    "print('Train Compute Instance', TRAIN_COMPUTE)\n",
    "\n",
    "MACHINE_TYPE = 'n1-standard'\n",
    "VCPU = '4'\n",
    "DEPLOY_COMPUTE = MACHINE_TYPE + '-' + VCPU\n",
    "print('Deploy Compute Instance', DEPLOY_COMPUTE)"
   ]
  },
  {
   "cell_type": "markdown",
   "metadata": {
    "id": "E6ppE7imft-y"
   },
   "source": [
    "# Tutorial\n",
    "\n",
    "Now you are ready to start creating your own custom model and training for CIFAR10.\n",
    "\n",
    "## Clients\n",
    "\n",
    "The AI Platform (Unified) SDK works as a client/server model. On your side, the Python script, you will create a client that sends requests and receives responses from the server -- AI Platform.\n",
    "\n",
    "Use several clients in this tutorial, so you will set them all up upfront.\n",
    "\n",
    "- Job Service for custom jobs.\n",
    "- Model Service for managed models.\n",
    "- Endpoint Service for deployment.\n",
    "- Prediction Service for serving. *Note*, prediction has a different service endpoint."
   ]
  },
  {
   "cell_type": "code",
   "execution_count": 18,
   "metadata": {
    "id": "0znWqNyucQQr"
   },
   "outputs": [
    {
     "name": "stdout",
     "output_type": "stream",
     "text": [
      "('job', <google.cloud.aiplatform_v1beta1.services.job_service.client.JobServiceClient object at 0x7f7902600110>)\n",
      "('model', <google.cloud.aiplatform_v1beta1.services.model_service.client.ModelServiceClient object at 0x7f7902600150>)\n",
      "('endpoint', <google.cloud.aiplatform_v1beta1.services.endpoint_service.client.EndpointServiceClient object at 0x7f7902600190>)\n",
      "('prediction', <google.cloud.aiplatform_v1beta1.services.prediction_service.client.PredictionServiceClient object at 0x7f7902664a50>)\n"
     ]
    }
   ],
   "source": [
    "# client options same for all services\n",
    "client_options = {\"api_endpoint\": API_ENDPOINT}\n",
    "predict_client_options = {\"api_endpoint\": API_PREDICT_ENDPOINT}\n",
    "\n",
    "\n",
    "def create_job_client():\n",
    "    client = aip.JobServiceClient(\n",
    "        client_options=client_options\n",
    "    )\n",
    "    return client\n",
    "\n",
    "\n",
    "def create_model_client():\n",
    "    client = aip.ModelServiceClient(\n",
    "        client_options=client_options\n",
    "    )\n",
    "    return client\n",
    "\n",
    "\n",
    "def create_endpoint_client():\n",
    "    client = aip.EndpointServiceClient(\n",
    "        client_options=client_options\n",
    "    )\n",
    "    return client\n",
    "\n",
    "\n",
    "def create_prediction_client():\n",
    "    client = aip.PredictionServiceClient(\n",
    "        client_options=predict_client_options\n",
    "    )\n",
    "    return client\n",
    "\n",
    "\n",
    "clients = {}\n",
    "clients['job'] = create_job_client()\n",
    "clients['model'] = create_model_client()\n",
    "clients['endpoint'] = create_endpoint_client()\n",
    "clients['prediction'] = create_prediction_client()\n",
    "\n",
    "for client in clients.items():\n",
    "    print(client)"
   ]
  },
  {
   "cell_type": "markdown",
   "metadata": {
    "id": "ZeEG9UKKcQQr"
   },
   "source": [
    "## Train a model - CIFAR10\n",
    "\n",
    "There are two ways you can train a custom model using a container image:\n",
    "\n",
    "- **Use a Google Cloud prebuilt container**. If you use a prebuilt container, you will additionally specify a Python package to install into the container image. This Python package contains your code for training a custom model.\n",
    "\n",
    "- **Use your own custom container image**. If you use your own container, the container needs to contain your code for training a custom model.\n",
    "\n",
    "In this tutorial, you will train a CIFAR10 model using your own custom container. \n",
    "\n",
    "### Create a docker file\n",
    "\n",
    "To use your own custom container, you will build a docker file. First, you will create a directory for the container components."
   ]
  },
  {
   "cell_type": "code",
   "execution_count": 19,
   "metadata": {
    "id": "mu5UdY_9cQQr"
   },
   "outputs": [],
   "source": [
    "! rm -rf cifar\n",
    "! mkdir cifar\n",
    "! mkdir cifar/trainer\n",
    "! touch cifar/trainer/__init__.py"
   ]
  },
  {
   "cell_type": "markdown",
   "metadata": {
    "id": "50B0PTTEcQQs"
   },
   "source": [
    "#### Write the docker file contents\n",
    "\n",
    "Your first step in containerizing your code is to create a Dockerfile. In your Dockerfile you’ll include all the commands needed to run your container image. It’ll install all the libraries you’re using and set up the entry point for your training code.\n",
    "\n",
    "1. Install a pre-defined container image from Tensorflow repository for deep learning images.\n",
    "2. Copies in the Python training code, to be shown subsequently.\n",
    "3. Sets the entry into the Python training script as `trainer/task.py`. Note, the `.py` is dropped in the ENTRYPOINT command, as it is implied."
   ]
  },
  {
   "cell_type": "code",
   "execution_count": 20,
   "metadata": {
    "id": "equQ1CyLcQQs"
   },
   "outputs": [
    {
     "name": "stdout",
     "output_type": "stream",
     "text": [
      "Writing cifar/Dockerfile\n"
     ]
    }
   ],
   "source": [
    "%%writefile cifar/Dockerfile\n",
    "\n",
    "FROM gcr.io/deeplearning-platform-release/tf2-gpu.2-2\n",
    "WORKDIR /root\n",
    "\n",
    "WORKDIR /\n",
    "\n",
    "# Copies the trainer code to the docker image.\n",
    "COPY trainer /trainer\n",
    "\n",
    "# Sets up the entry point to invoke the trainer.\n",
    "ENTRYPOINT [\"python\", \"-m\", \"trainer.task\"]"
   ]
  },
  {
   "cell_type": "markdown",
   "metadata": {
    "id": "xrdQ8q2ncQQu"
   },
   "source": [
    "#### Task.py contents\n",
    "\n",
    "In the next cell, you will write the contents of the training script task.py. I won't go into detail, it's just there for you to browse. In summary:\n",
    "\n",
    "- Get the directory where to save the model artifacts from the command line (`--model_dir`), and if not specified, then from the environment variable `AIP_MODEL_DIR`.\n",
    "- Loads CIFAR10 dataset from TF Datasets (tfds).\n",
    "- Builds a simple ConvNet model using TF.Keras model API.\n",
    "- Compiles the model (`compile()`).\n",
    "- Sets a training distribution strategy according to the argument `args.distribute`.\n",
    "- Trains the model (`fit()`) with epochs and steps according to the arguments `args.epochs` and `args.steps`\n",
    "- Saves the trained model (`save(args.model_dir)`) to the specified model directory."
   ]
  },
  {
   "cell_type": "code",
   "execution_count": 21,
   "metadata": {
    "id": "wUIq-59VcQQu"
   },
   "outputs": [
    {
     "name": "stdout",
     "output_type": "stream",
     "text": [
      "Writing cifar/trainer/task.py\n"
     ]
    }
   ],
   "source": [
    "%%writefile cifar/trainer/task.py\n",
    "import tensorflow_datasets as tfds\n",
    "import tensorflow as tf\n",
    "from tensorflow.python.client import device_lib\n",
    "import argparse\n",
    "import os\n",
    "import sys\n",
    "\n",
    "tfds.disable_progress_bar()\n",
    "\n",
    "parser = argparse.ArgumentParser()\n",
    "parser.add_argument('--model-dir', dest='model_dir',\n",
    "                    default=os.getenv('AIP_MODEL_DIR'), type=str, help='Model dir.')\n",
    "parser.add_argument('--lr', dest='lr',\n",
    "                    default=0.01, type=float,\n",
    "                    help='Learning rate.')\n",
    "parser.add_argument('--epochs', dest='epochs',\n",
    "                    default=10, type=int,\n",
    "                    help='Number of epochs.')\n",
    "parser.add_argument('--steps', dest='steps',\n",
    "                    default=200, type=int,\n",
    "                    help='Number of steps per epoch.')\n",
    "parser.add_argument('--distribute', dest='distribute', type=str, default='single',\n",
    "                    help='distributed training strategy')\n",
    "args = parser.parse_args()\n",
    "\n",
    "print('Python Version = {}'.format(sys.version))\n",
    "print('TensorFlow Version = {}'.format(tf.__version__))\n",
    "print('TF_CONFIG = {}'.format(os.environ.get('TF_CONFIG', 'Not found')))\n",
    "print('DEVICES', device_lib.list_local_devices())\n",
    "\n",
    "# Single Machine, single compute device\n",
    "if args.distribute == 'single':\n",
    "    if tf.test.is_gpu_available():\n",
    "        strategy = tf.distribute.OneDeviceStrategy(device=\"/gpu:0\")\n",
    "    else:\n",
    "        strategy = tf.distribute.OneDeviceStrategy(device=\"/cpu:0\")\n",
    "# Single Machine, multiple compute device\n",
    "elif args.distribute == 'mirror':\n",
    "    strategy = tf.distribute.MirroredStrategy()\n",
    "# Multiple Machine, multiple compute device\n",
    "elif args.distribute == 'multi':\n",
    "    strategy = tf.distribute.experimental.MultiWorkerMirroredStrategy()\n",
    "\n",
    "# Multi-worker configuration\n",
    "print('num_replicas_in_sync = {}'.format(strategy.num_replicas_in_sync))\n",
    "\n",
    "# Preparing dataset\n",
    "BUFFER_SIZE = 10000\n",
    "BATCH_SIZE = 64\n",
    "\n",
    "def make_datasets_unbatched():\n",
    "  # Scaling CIFAR10 data from (0, 255] to (0., 1.]\n",
    "  def scale(image, label):\n",
    "    image = tf.cast(image, tf.float32)\n",
    "    image /= 255.0\n",
    "    return image, label\n",
    "\n",
    "  datasets, info = tfds.load(name='cifar10',\n",
    "                            with_info=True,\n",
    "                            as_supervised=True)\n",
    "  return datasets['train'].map(scale).cache().shuffle(BUFFER_SIZE).repeat()\n",
    "\n",
    "\n",
    "# Build the Keras model\n",
    "def build_and_compile_cnn_model():\n",
    "  model = tf.keras.Sequential([\n",
    "      tf.keras.layers.Conv2D(32, 3, activation='relu', input_shape=(32, 32, 3)),\n",
    "      tf.keras.layers.MaxPooling2D(),\n",
    "      tf.keras.layers.Conv2D(32, 3, activation='relu'),\n",
    "      tf.keras.layers.MaxPooling2D(),\n",
    "      tf.keras.layers.Flatten(),\n",
    "      tf.keras.layers.Dense(10, activation='softmax')\n",
    "  ])\n",
    "  model.compile(\n",
    "      loss=tf.keras.losses.sparse_categorical_crossentropy,\n",
    "      optimizer=tf.keras.optimizers.SGD(learning_rate=args.lr),\n",
    "      metrics=['accuracy'])\n",
    "  return model\n",
    "\n",
    "# Train the model\n",
    "NUM_WORKERS = strategy.num_replicas_in_sync\n",
    "# Here the batch size scales up by number of workers since\n",
    "# `tf.data.Dataset.batch` expects the global batch size.\n",
    "GLOBAL_BATCH_SIZE = BATCH_SIZE * NUM_WORKERS\n",
    "train_dataset = make_datasets_unbatched().batch(GLOBAL_BATCH_SIZE)\n",
    "\n",
    "with strategy.scope():\n",
    "  # Creation of dataset, and model building/compiling need to be within\n",
    "  # `strategy.scope()`.\n",
    "  model = build_and_compile_cnn_model()\n",
    "\n",
    "model.fit(x=train_dataset, epochs=args.epochs, steps_per_epoch=args.steps)\n",
    "model.save(args.model_dir)"
   ]
  },
  {
   "cell_type": "markdown",
   "metadata": {
    "id": "ueZc3PuncQQu"
   },
   "source": [
    "#### Build the container locally\n",
    "\n",
    "Next, you will provide a name for your customer container that you will use when you submit it to the Google Container Registry."
   ]
  },
  {
   "cell_type": "code",
   "execution_count": 22,
   "metadata": {
    "id": "UQY9FzjqcQQu"
   },
   "outputs": [],
   "source": [
    "TRAIN_IMAGE = \"gcr.io/\" + PROJECT_ID + \"/cifar:v1\""
   ]
  },
  {
   "cell_type": "markdown",
   "metadata": {
    "id": "JM8npDBvcQQu"
   },
   "source": [
    "Next, build the container."
   ]
  },
  {
   "cell_type": "code",
   "execution_count": 23,
   "metadata": {
    "id": "PAr3l3GdcQQu"
   },
   "outputs": [
    {
     "name": "stdout",
     "output_type": "stream",
     "text": [
      "Sending build context to Docker daemon  7.168kB\n",
      "Step 1/5 : FROM gcr.io/deeplearning-platform-release/tf2-gpu.2-2\n",
      " ---> 23dcdfc38204\n",
      "Step 2/5 : WORKDIR /root\n",
      " ---> Using cache\n",
      " ---> ba13cc2ef4d3\n",
      "Step 3/5 : WORKDIR /\n",
      " ---> Using cache\n",
      " ---> ec6ad23c6f95\n",
      "Step 4/5 : COPY trainer /trainer\n",
      " ---> Using cache\n",
      " ---> a77a17f6f35f\n",
      "Step 5/5 : ENTRYPOINT [\"python\", \"-m\", \"trainer.task\"]\n",
      " ---> Using cache\n",
      " ---> f3b9b1f50655\n",
      "Successfully built f3b9b1f50655\n",
      "Successfully tagged gcr.io/jk-mlops-dev/cifar:v1\n"
     ]
    }
   ],
   "source": [
    "! docker build cifar -t $TRAIN_IMAGE"
   ]
  },
  {
   "cell_type": "markdown",
   "metadata": {
    "id": "LgstSZT7cQQv"
   },
   "source": [
    "#### Test the container locally\n",
    "\n",
    "Run the container within your notebook instance to ensure it’s working correctly. You will run it for 5 epochs."
   ]
  },
  {
   "cell_type": "code",
   "execution_count": 24,
   "metadata": {
    "id": "1BV5RehMcQQv"
   },
   "outputs": [
    {
     "name": "stdout",
     "output_type": "stream",
     "text": [
      "2021-01-19 22:28:06.011768: I tensorflow/stream_executor/platform/default/dso_loader.cc:44] Successfully opened dynamic library libcudart.so.10.1\n",
      "2021-01-19 22:28:11.898415: I tensorflow/core/platform/profile_utils/cpu_utils.cc:102] CPU Frequency: 2199995000 Hz\n",
      "2021-01-19 22:28:11.898924: I tensorflow/compiler/xla/service/service.cc:168] XLA service 0x7f3cb0000b20 initialized for platform Host (this does not guarantee that XLA will be used). Devices:\n",
      "2021-01-19 22:28:11.898963: I tensorflow/compiler/xla/service/service.cc:176]   StreamExecutor device (0): Host, Default Version\n",
      "2021-01-19 22:28:11.901429: W tensorflow/stream_executor/platform/default/dso_loader.cc:55] Could not load dynamic library 'libcuda.so.1'; dlerror: libcuda.so.1: cannot open shared object file: No such file or directory; LD_LIBRARY_PATH: /usr/local/nvidia/lib:/usr/local/nvidia/lib64\n",
      "2021-01-19 22:28:11.901463: E tensorflow/stream_executor/cuda/cuda_driver.cc:313] failed call to cuInit: UNKNOWN ERROR (303)\n",
      "2021-01-19 22:28:11.901495: I tensorflow/stream_executor/cuda/cuda_diagnostics.cc:163] no NVIDIA GPU device is present: /dev/nvidia0 does not exist\n",
      "WARNING:tensorflow:From /trainer/task.py:33: is_gpu_available (from tensorflow.python.framework.test_util) is deprecated and will be removed in a future version.\n",
      "Instructions for updating:\n",
      "Use `tf.config.list_physical_devices('GPU')` instead.\n",
      "Python Version = 3.7.6 | packaged by conda-forge | (default, Jun  1 2020, 18:57:50) \n",
      "[GCC 7.5.0]\n",
      "TensorFlow Version = 2.2.0-dlenv\n",
      "TF_CONFIG = Not found\n",
      "DEVICES [name: \"/device:CPU:0\"\n",
      "device_type: \"CPU\"\n",
      "memory_limit: 268435456\n",
      "locality {\n",
      "}\n",
      "incarnation: 4343937932718148119\n",
      ", name: \"/device:XLA_CPU:0\"\n",
      "device_type: \"XLA_CPU\"\n",
      "memory_limit: 17179869184\n",
      "locality {\n",
      "}\n",
      "incarnation: 9574448123988632711\n",
      "physical_device_desc: \"device: XLA_CPU device\"\n",
      "]\n",
      "num_replicas_in_sync = 1\n",
      "\u001b[1mDownloading and preparing dataset cifar10/3.0.2 (download: 162.17 MiB, generated: 132.40 MiB, total: 294.58 MiB) to /root/tensorflow_datasets/cifar10/3.0.2...\u001b[0m\n",
      "Shuffling and writing examples to /root/tensorflow_datasets/cifar10/3.0.2.incompleteYI47CG/cifar10-train.tfrecord\n",
      "Shuffling and writing examples to /root/tensorflow_datasets/cifar10/3.0.2.incompleteYI47CG/cifar10-test.tfrecord\n",
      "\u001b[1mDataset cifar10 downloaded and prepared to /root/tensorflow_datasets/cifar10/3.0.2. Subsequent calls will reuse this data.\u001b[0m\n",
      "Epoch 1/5\n",
      "200/200 [==============================] - 7s 33ms/step - loss: 2.2905 - accuracy: 0.1255\n",
      "Epoch 2/5\n",
      "200/200 [==============================] - 7s 35ms/step - loss: 2.2175 - accuracy: 0.2135\n",
      "Epoch 3/5\n",
      "200/200 [==============================] - 7s 33ms/step - loss: 2.0667 - accuracy: 0.2587\n",
      "Epoch 4/5\n",
      "200/200 [==============================] - 5s 27ms/step - loss: 2.0008 - accuracy: 0.2823\n",
      "Epoch 5/5\n",
      "200/200 [==============================] - 5s 25ms/step - loss: 1.9637 - accuracy: 0.2966\n",
      "2021-01-19 22:29:29.665148: W tensorflow/python/util/util.cc:329] Sets are not currently considered sequences, but this may change in the future, so consider avoiding using them.\n",
      "/opt/conda/lib/python3.7/site-packages/urllib3/connectionpool.py:986: InsecureRequestWarning: Unverified HTTPS request is being made to host 'www.cs.toronto.edu'. Adding certificate verification is strongly advised. See: https://urllib3.readthedocs.io/en/latest/advanced-usage.html#ssl-warnings\n",
      "  InsecureRequestWarning,\n",
      "WARNING:tensorflow:From /opt/conda/lib/python3.7/site-packages/tensorflow/python/ops/resource_variable_ops.py:1817: calling BaseResourceVariable.__init__ (from tensorflow.python.ops.resource_variable_ops) with constraint is deprecated and will be removed in a future version.\n",
      "Instructions for updating:\n",
      "If using Keras pass *_constraint arguments to layers.\n",
      "WARNING:tensorflow:From /opt/conda/lib/python3.7/site-packages/tensorflow/python/ops/resource_variable_ops.py:1817: calling BaseResourceVariable.__init__ (from tensorflow.python.ops.resource_variable_ops) with constraint is deprecated and will be removed in a future version.\n",
      "Instructions for updating:\n",
      "If using Keras pass *_constraint arguments to layers.\n"
     ]
    }
   ],
   "source": [
    "! docker run \\\n",
    "--rm \\\n",
    "$TRAIN_IMAGE \\\n",
    "--epochs=5 \\\n",
    "--model-dir=/tmp"
   ]
  },
  {
   "cell_type": "markdown",
   "metadata": {
    "id": "8etFMfcWcQQv"
   },
   "source": [
    "#### Register your custom container\n",
    "\n",
    "When you’ve finished running the container locally, push it to Google Container Registry."
   ]
  },
  {
   "cell_type": "code",
   "execution_count": 25,
   "metadata": {
    "id": "qn1SQAxNcQQv"
   },
   "outputs": [
    {
     "name": "stdout",
     "output_type": "stream",
     "text": [
      "The push refers to repository [gcr.io/jk-mlops-dev/cifar]\n",
      "\n",
      "\u001b[1Bf494f3be: Preparing \n",
      "\u001b[1B37bc5714: Preparing \n",
      "\u001b[1B46fef5f1: Preparing \n",
      "\u001b[1Be853fb6d: Preparing \n",
      "\u001b[1B8c40bd60: Preparing \n",
      "\u001b[1Bc737c56a: Preparing \n",
      "\u001b[1B59643149: Preparing \n",
      "\u001b[1Bf1bc8335: Preparing \n",
      "\u001b[1B7fce4bef: Preparing \n",
      "\u001b[1B25416dd1: Preparing \n",
      "\u001b[1B13949874: Preparing \n",
      "\u001b[1B895b3805: Preparing \n",
      "\u001b[1B982c963f: Preparing \n",
      "\u001b[1B76b61250: Preparing \n",
      "\u001b[1B2eee43eb: Preparing \n",
      "\u001b[1B45180005: Preparing \n",
      "\u001b[1B21e5b6c8: Preparing \n",
      "\u001b[1B5892deed: Preparing \n",
      "\u001b[1B9913a256: Preparing \n",
      "\u001b[1B2f599fd6: Preparing \n",
      "\u001b[1B74f76be4: Preparing \n",
      "\u001b[1Bd332a58a: Preparing \n",
      "\u001b[1Bf11cbf29: Preparing \n",
      "\u001b[1Ba4b22186: Preparing \n",
      "\u001b[1Bafb09dc3: Preparing \n",
      "\u001b[1Bb5a53aac: Preparing \n",
      "\u001b[1Bc8e5063e: Preparing \n",
      "\u001b[1B7c529ced: Layer already exists ning-platform-release/tf2-gpu.2-2 \u001b[27A\u001b[2K\u001b[24A\u001b[2K\u001b[25A\u001b[2K\u001b[22A\u001b[2K\u001b[21A\u001b[2K\u001b[20A\u001b[2K\u001b[18A\u001b[2K\u001b[16A\u001b[2K\u001b[13A\u001b[2K\u001b[15A\u001b[2K\u001b[12A\u001b[2K\u001b[10A\u001b[2K\u001b[9A\u001b[2K\u001b[7A\u001b[2K\u001b[4A\u001b[2K\u001b[6A\u001b[2K\u001b[3A\u001b[2K\u001b[5A\u001b[2K\u001b[1A\u001b[2Kv1: digest: sha256:e5c64fcb154486f90afe37a035b1c3ff6d9b42b2e32de9c61d27e371fb4dc4cb size: 6191\n"
     ]
    }
   ],
   "source": [
    "! docker push $TRAIN_IMAGE"
   ]
  },
  {
   "cell_type": "markdown",
   "metadata": {
    "id": "K3BRLGTocQQv"
   },
   "source": [
    "### Define the container specification\n",
    "\n",
    "First, you need to define a specification for your custom container. You will need to specify a location where to store the model artifacts in your Cloud Storage bucket -- `MODEL_DIR`.\n",
    "\n",
    "For the container specification, you will set the fields for:\n",
    "\n",
    "- `image_uri`: This is your custom training docker image which you created and registered for your custom training job.\n",
    "- `args`: These are the command line arguments you will pass to your Python custom training script. In this example, you will be:\n",
    "  - `\"--model-dir=\" + MODEL_DIR` : The Cloud Storage location where to store the model artifacts. There are two ways to tell the training script where to save the model artifacts:\n",
    "      - direct: You pass the Cloud Storage location as a command line argument to your training script (set variable `DIRECT = True`), or\n",
    "      - indirect: The service passes the Cloud Storage location as the environment variable `AIP_MODEL_DIR` to your training script (set variable `DIRECT = False`). In this case, you tell the service the model artifact location in the job specification.\n",
    "  - `\"--epochs=\" + EPOCHS`: The number of epochs for training.\n",
    "  - `\"--steps=\" + STEPS`: The number of steps per epoch."
   ]
  },
  {
   "cell_type": "code",
   "execution_count": 26,
   "metadata": {
    "id": "rhpTj045cQQv"
   },
   "outputs": [],
   "source": [
    "JOB_NAME = \"_custom_container\" + TIMESTAMP\n",
    "MODEL_DIR = 'gs://{}/{}'.format(BUCKET_NAME, JOB_NAME)\n",
    "    \n",
    "EPOCHS = 20\n",
    "STEPS = 100\n",
    "\n",
    "DIRECT = True\n",
    "if DIRECT:\n",
    "    CMDARGS = [\n",
    "                \"--model-dir=\" + MODEL_DIR,\n",
    "                \"--epochs=\" + str(EPOCHS),\n",
    "                \"--steps=\" + str(STEPS),\n",
    "              ]\n",
    "else:\n",
    "    CMDARGS = [\n",
    "                \"--epochs=\" + str(EPOCHS),\n",
    "                \"--steps=\" + str(STEPS),\n",
    "              ]\n",
    "\n",
    "CONTAINER_SPEC = {\n",
    "    \"image_uri\": TRAIN_IMAGE, \n",
    "    \"args\": CMDARGS,\n",
    "}"
   ]
  },
  {
   "cell_type": "markdown",
   "metadata": {
    "id": "EdaAv14TcQQw"
   },
   "source": [
    "### Define the worker pool specification\n",
    "\n",
    "\n",
    "Next, you define the worker pool specification for your custom training job. This tells AI Platform what type and how many instances of machines to provision for the training.\n",
    "\n",
    "For this tutorial, you will use a single instance (node). \n",
    "\n",
    "Let's dive deeper now into the worker pool specification:\n",
    "\n",
    "- `replica_count`: The number of instances to provision of this machine type.\n",
    "- `machine_type`: The type of GCP instance to provision -- e.g., n1-standard-8.\n",
    "- `accelerator_type`: The type, if any, of hardware accelerator. In this tutorial if you previously set the variable `TRAIN_GPU != None`, you are using a GPU; otherwise you will use a CPU. \n",
    "- `accelerator_count`: The number of accelerators.\n",
    "- `container_spec`: The docker container to install on the instance(s)."
   ]
  },
  {
   "cell_type": "code",
   "execution_count": 27,
   "metadata": {
    "id": "qPOCG1DTcQQw"
   },
   "outputs": [],
   "source": [
    "if TRAIN_GPU:\n",
    "    machine_spec = {\n",
    "        \"machine_type\": TRAIN_COMPUTE,\n",
    "        \"accelerator_type\": TRAIN_GPU,\n",
    "        \"accelerator_count\": TRAIN_NGPU\n",
    "    }\n",
    "else:\n",
    "    machine_spec = {\n",
    "        \"machine_type\": TRAIN_COMPUTE,\n",
    "        \"accelerator_count\": 0\n",
    "    }\n",
    "\n",
    "\n",
    "WORKER_POOL_SPEC = [\n",
    "    {\n",
    "        \"replica_count\": 1,\n",
    "        \"machine_spec\": machine_spec,\n",
    "        \"container_spec\": CONTAINER_SPEC\n",
    "    }\n",
    "]"
   ]
  },
  {
   "cell_type": "markdown",
   "metadata": {
    "id": "nyF21B_OcQQw"
   },
   "source": [
    "### Assemble a job specification\n",
    "\n",
    "Let's now assemble the description for the custom job specification.\n",
    "\n",
    "- `display_name: JOB_NAME`: A unique name for your custom training job. For convenience, we appended the name with the current datetime to make the name unique.\n",
    "- `job_spec`: The specification for the custom job.\n",
    "    - `base_output_directory`: This tells the service the Cloud Storage location where to save the model artifacts (when variable `DIRECT = False`). The service will then pass the location to the training script as the environment variable `AIP_MODEL_DIR`, and the path will be of the form:\n",
    "    \n",
    "                <output_uri_prefix>/model"
   ]
  },
  {
   "cell_type": "code",
   "execution_count": 28,
   "metadata": {
    "id": "Zqjae4KBcQQw"
   },
   "outputs": [],
   "source": [
    "if DIRECT:\n",
    "    JOB_SPEC = {\n",
    "        \"worker_pool_specs\": WORKER_POOL_SPEC\n",
    "    }\n",
    "else:\n",
    "    JOB_SPEC = {\n",
    "        \"worker_pool_specs\": WORKER_POOL_SPEC,\n",
    "        \"base_output_directory\": {\"output_uri_prefix\": MODEL_DIR}\n",
    "    }\n",
    "\n",
    "CUSTOM_JOB = {\n",
    "    \"display_name\": JOB_NAME,\n",
    "    \"job_spec\": JOB_SPEC\n",
    "}"
   ]
  },
  {
   "cell_type": "code",
   "execution_count": 29,
   "metadata": {},
   "outputs": [
    {
     "data": {
      "text/plain": [
       "{'display_name': '_custom_container20210119222622',\n",
       " 'job_spec': {'worker_pool_specs': [{'replica_count': 1,\n",
       "    'machine_spec': {'machine_type': 'n1-standard-4',\n",
       "     'accelerator_type': <AcceleratorType.NVIDIA_TESLA_K80: 1>,\n",
       "     'accelerator_count': 1},\n",
       "    'container_spec': {'image_uri': 'gcr.io/jk-mlops-dev/cifar:v1',\n",
       "     'args': ['--model-dir=gs://jk-ucaip-labs/_custom_container20210119222622',\n",
       "      '--epochs=20',\n",
       "      '--steps=100']}}]}}"
      ]
     },
     "execution_count": 29,
     "metadata": {},
     "output_type": "execute_result"
    }
   ],
   "source": [
    "CUSTOM_JOB"
   ]
  },
  {
   "cell_type": "markdown",
   "metadata": {
    "id": "hVlJs3m0cQQw"
   },
   "source": [
    "### Train the model\n",
    "\n",
    "\n",
    "Let's now start the training of your custom training job on AI Platform. Use this helper function `create_custom_job`, which takes the parameter:\n",
    "\n",
    "-`custom_job`: The specification for the custom job.\n",
    "\n",
    "The helper function uses the job client service and calls the method `create_custom_job`, with the parameters:\n",
    "\n",
    "-`parent`: The AI Platform (Unified) location path to dataset, model and endpoint resources.\n",
    "-`custom_job`: The specification for the custom job.\n",
    "\n",
    "You will display a handful of the fields returned in `response` object, with the two that are of most interest are:\n",
    "\n",
    "`response.name`: The AI Platform (Unified) fully qualified identifier assigned to this custom job. We will save this identifier for using in subsequent steps.\n",
    "\n",
    "`response.state`: The current state of the custom job. "
   ]
  },
  {
   "cell_type": "code",
   "execution_count": 30,
   "metadata": {
    "id": "0nIeURMgcQQw"
   },
   "outputs": [
    {
     "name": "stdout",
     "output_type": "stream",
     "text": [
      "name: projects/895222332033/locations/us-central1/customJobs/7518812354453176320\n",
      "display_name: _custom_container20210119222622\n",
      "state: JobState.JOB_STATE_PENDING\n",
      "create_time: 2021-01-19 22:30:41.547797+00:00\n",
      "update_time: 2021-01-19 22:30:41.547797+00:00\n"
     ]
    }
   ],
   "source": [
    "def create_custom_job(custom_job):\n",
    "    response = clients['job'].create_custom_job(parent=PARENT, custom_job=CUSTOM_JOB)\n",
    "    print(\"name:\", response.name)\n",
    "    print(\"display_name:\", response.display_name)\n",
    "    print(\"state:\", response.state)\n",
    "    print(\"create_time:\", response.create_time)\n",
    "    print(\"update_time:\", response.update_time)\n",
    "    return response.name\n",
    "\n",
    "\n",
    "# Save the job name\n",
    "JOB_ID = create_custom_job(CUSTOM_JOB)"
   ]
  },
  {
   "cell_type": "markdown",
   "metadata": {
    "id": "1fzGftmGcQQw"
   },
   "source": [
    "### Get information on a custom job\n",
    "\n",
    "Next, use this helper function `get_custom_job`, which takes the parameter:\n",
    "\n",
    "- `name`: The AI Platform (Unified) fully qualified identifier for the custom job.\n",
    "\n",
    "The helper function uses the job client service to get the job information for just this job by calling the method `get_custom_job`, with the parameter:\n",
    "\n",
    "- `name`: The AI Platform (Unified) fully qualified identifier for the custom job.\n",
    "\n",
    "If you recall, you got the AI Platform (Unified) fully qualified identifier for the custom job in the `response.name` field when you called the `create_custom_job` method, and saved the identifier in the variable `JOB_ID`."
   ]
  },
  {
   "cell_type": "code",
   "execution_count": 31,
   "metadata": {
    "id": "_V4bg67dcQQx"
   },
   "outputs": [
    {
     "name": "stdout",
     "output_type": "stream",
     "text": [
      "name: projects/895222332033/locations/us-central1/customJobs/7518812354453176320\n",
      "display_name: _custom_container20210119222622\n",
      "state: JobState.JOB_STATE_PENDING\n",
      "create_time: 2021-01-19 22:30:41.547797+00:00\n",
      "update_time: 2021-01-19 22:30:41.547797+00:00\n"
     ]
    }
   ],
   "source": [
    "def get_custom_job(name, silent=False):\n",
    "    response = clients['job'].get_custom_job(name=name)\n",
    "    if silent:\n",
    "        return response\n",
    "\n",
    "    print(\"name:\", response.name)\n",
    "    print(\"display_name:\", response.display_name)\n",
    "    print(\"state:\", response.state)\n",
    "    print(\"create_time:\", response.create_time)\n",
    "    print(\"update_time:\", response.update_time)\n",
    "    return response\n",
    "\n",
    "\n",
    "response = get_custom_job(JOB_ID)"
   ]
  },
  {
   "cell_type": "markdown",
   "metadata": {
    "id": "VjSups89cQQx"
   },
   "source": [
    "# Deployment\n",
    "\n",
    "## Pre-Cooked\n",
    "\n",
    "Training the above model may take upwards of ~5 minutes time. For expendiency, we have a pre-cooked (already trained) version of this model you can use for the next steps, while you wait for your model to finish training. \n",
    "\n",
    "Once your model is done training, you can repeat these steps for your trained model. You can calcuate the actual time it took to train the model by subtracting `end_time` from `start_time`. For your model, we will need to know the location of the saved model, which the python script saved in your local Cloud Storage bucket at `MODEL_DIR + '/saved_model.pb'`.\n",
    "\n",
    "\n",
    "You can choose between the precooked model or your trained model with the python variable `precooked` in the cell below."
   ]
  },
  {
   "cell_type": "code",
   "execution_count": 32,
   "metadata": {
    "id": "7vxWJHONcQQx"
   },
   "outputs": [
    {
     "name": "stdout",
     "output_type": "stream",
     "text": [
      "Training job has not completed: JobState.JOB_STATE_PENDING\n",
      "Training job has not completed: JobState.JOB_STATE_PENDING\n",
      "Training job has not completed: JobState.JOB_STATE_PENDING\n",
      "Training job has not completed: JobState.JOB_STATE_PENDING\n",
      "Training job has not completed: JobState.JOB_STATE_RUNNING\n",
      "Training job has not completed: JobState.JOB_STATE_PENDING\n",
      "Training job has not completed: JobState.JOB_STATE_PENDING\n",
      "Training job has not completed: JobState.JOB_STATE_PENDING\n",
      "Training job has not completed: JobState.JOB_STATE_PENDING\n",
      "Training job has not completed: JobState.JOB_STATE_PENDING\n",
      "Training job has not completed: JobState.JOB_STATE_PENDING\n",
      "Training job has not completed: JobState.JOB_STATE_PENDING\n",
      "Training job has not completed: JobState.JOB_STATE_PENDING\n",
      "Training job has not completed: JobState.JOB_STATE_PENDING\n",
      "Training job has not completed: JobState.JOB_STATE_PENDING\n",
      "Training job has not completed: JobState.JOB_STATE_PENDING\n",
      "Training job has not completed: JobState.JOB_STATE_RUNNING\n",
      "Training job has not completed: JobState.JOB_STATE_RUNNING\n",
      "Training Time: 0:17:26.913634\n",
      "model_to_deploy: gs://jk-ucaip-labs/_custom_container20210119222622\n"
     ]
    }
   ],
   "source": [
    "# Precooked flag\n",
    "precook = False\n",
    "\n",
    "if precook:\n",
    "    model_path_to_deploy = \"gs://jk-ucaip-labs/models/precooked-custom\"\n",
    "else:\n",
    "    while True:\n",
    "        response = get_custom_job(JOB_ID, True)\n",
    "        if response.state != aip.JobState.JOB_STATE_SUCCEEDED: \n",
    "            print(\"Training job has not completed:\", response.state)\n",
    "            if response.state == aip.JobState.JOB_STATE_FAILED:\n",
    "                break\n",
    "            model_path_to_deploy = None\n",
    "        else:\n",
    "            if not DIRECT:\n",
    "                MODEL_DIR = MODEL_DIR + \"/model\"\n",
    "            model_path_to_deploy = MODEL_DIR\n",
    "            print(\"Training Time:\", response.update_time - response.create_time)\n",
    "            break\n",
    "        time.sleep(60)\n",
    "\n",
    "print(\"model_to_deploy:\", model_path_to_deploy)"
   ]
  },
  {
   "cell_type": "markdown",
   "metadata": {
    "id": "6Ebf7WRBcQQx"
   },
   "source": [
    "## Load the saved model\n",
    "\n",
    "Your model is stored in a TF SavedModel format in a Cloud Storage bucket. Let's go ahead and load it from the Cloud Storage bucket, and then you can do some things, like evaluate the model, and do a prediction.\n",
    "\n",
    "To load, you use the TF.Keras `model.load_model()` method passing it the Cloud Storage path where the model is saved -- specified by `MODEL_DIR`."
   ]
  },
  {
   "cell_type": "code",
   "execution_count": 33,
   "metadata": {
    "id": "hbu15nMpcQQx"
   },
   "outputs": [],
   "source": [
    "import tensorflow as tf\n",
    "\n",
    "model = tf.keras.models.load_model(MODEL_DIR)"
   ]
  },
  {
   "cell_type": "markdown",
   "metadata": {
    "id": "x5NTLiQ5cQQx"
   },
   "source": [
    "## Evaluate the model\n",
    "\n",
    "Now let's find out how good the model is. \n",
    "\n",
    "### Load evaluation data\n",
    "\n",
    "You will load the CIFAR10 test (holdout) data from `tf.keras.datasets`, using the method `load_data()`. This will return the dataset as a tuple of two elements. The first element is the training data and the second is the test data. Each element is also a tuple of two elements: the image data, and the corresponding labels.\n",
    "\n",
    "You don't need the training data, and hence why we loaded it as `(_, _)`.\n",
    "\n",
    "Before you can run the data through evaluation, you need to preprocess it:\n",
    "\n",
    "x_test:\n",
    "1. Normalize (rescaling) the pixel data by dividing each pixel by 255. This will replace each single byte integer pixel with a 32-bit floating point number between 0 and 1.\n",
    "\n",
    "y_test:<br/>\n",
    "2. The labels are currently scalar (sparse). If you look back at the `compile()` step in the `trainer/task.py` script, you will find that it was compiled for sparse labels. So we don't need to do anything more."
   ]
  },
  {
   "cell_type": "code",
   "execution_count": 34,
   "metadata": {
    "id": "sEzMkmDmcQQx"
   },
   "outputs": [
    {
     "name": "stdout",
     "output_type": "stream",
     "text": [
      "(10000, 32, 32, 3) (10000, 1)\n"
     ]
    }
   ],
   "source": [
    "from tensorflow.keras.datasets import cifar10\n",
    "import numpy as np\n",
    "\n",
    "(_, _), (x_test, y_test) = cifar10.load_data()\n",
    "x_test = (x_test / 255.0).astype(np.float32)\n",
    "\n",
    "print(x_test.shape, y_test.shape)"
   ]
  },
  {
   "cell_type": "markdown",
   "metadata": {
    "id": "cST8fA-GcQQy"
   },
   "source": [
    "### Evaluate the model\n",
    "\n",
    "Let's evaluate how well the ConvNet model in the custom job did. Wahaha -- ~37%, not so good. Well, what does one expect with just 20 epochs and 100 steps per epoch -- see the `task.py fit() call`."
   ]
  },
  {
   "cell_type": "code",
   "execution_count": 35,
   "metadata": {
    "id": "Y_QxIoDScQQy"
   },
   "outputs": [
    {
     "name": "stdout",
     "output_type": "stream",
     "text": [
      "313/313 [==============================] - 1s 2ms/step - loss: 1.6815 - accuracy: 0.1497\n"
     ]
    },
    {
     "data": {
      "text/plain": [
       "[1.6814929246902466, 0.14970000088214874]"
      ]
     },
     "execution_count": 35,
     "metadata": {},
     "output_type": "execute_result"
    }
   ],
   "source": [
    "model.evaluate(x_test, y_test)"
   ]
  },
  {
   "cell_type": "markdown",
   "metadata": {
    "id": "KRCJfulBcQQy"
   },
   "source": [
    "## Upload the model for serving\n",
    "\n",
    "Next, you will upload your TF.Keras model from the custom job to AI Platform (Unified) model service, which will create a AI Platform (Unified) model resource for your custom model. During upload, you need to define a serving function to convert data to the format your model expects. If you send encoded data to AI Platform, your serving function ensures that the data is decoded on the model server before it is passed as input to your model.\n",
    "\n",
    "### How does the serving function work\n",
    "\n",
    "When you send a request to an online prediction server, the request is received by a HTTP server. The HTTP server\n",
    "extracts the prediction request from the HTTP request content body. The extracted prediction request is forwarded to the serving function. For Google pre-built prediction containers, the request content is passed to the serving function as a `tf.string`.\n",
    "\n",
    "The serving function consists of two parts:\n",
    "\n",
    "- `preprocessing function`:  \n",
    "  - Converts the input (`tf.string`) to the input shape and data type of the underlying model (dynamic graph).\n",
    "  - Performs the same preprocessing of the data that was done during training the underlying model -- e.g., normalizing, scaling, etc.\n",
    "- `post-processing function`:  \n",
    "  - Converts the model output to format expected by the receiving application -- e.q., compresses the output.\n",
    "  - Packages the output for the the receiving application -- e.g., add headings, make JSON object, etc.\n",
    "  \n",
    "Both the preprocessing and post-processing functions are converted to static graphs which are fused to the model. The output from the underlying model is passed to the post-processing function. The post-processing function passes the converted/packaged output back to the HTTP server. The HTTP server returns the output as the HTTP response content.\n",
    "\n",
    "One consideration you need to consider when building serving functions for TF.Keras models is that they run as static graphs. That means, you cannot use TF graph operations that require a dynamic graph. If you do, you will get an error during the compile of the serving function which will indicate that you are using an EagerTensor which is not supported.\n",
    "\n",
    "### Serving function for image data\n",
    "\n",
    "To pass images to the prediction service, you encode the compressed (e.g., JPEG) image bytes into base 64 -- which makes the content safe from modification while transmitting binary data over the network. Since this deployed model expects input data as raw (uncompressed) bytes, you need to ensure that the base 64 encoded data gets converted back to raw bytes before it is passed as input to the deployed model.\n",
    "\n",
    "To resolve this, define a serving function (`serving_fn`) and attach it to the model as a preprocessing step. Add a `@tf.function` decorator so the serving function is fused to the underlying model (instead of upstream on a CPU).\n",
    "\n",
    "When you send a prediction or explanation request, the content of the request is base 64 decoded into a Tensorflow string (`tf.string`), which is passed to the serving function (`serving_fn`). The serving function preprocesses the `tf.string` into raw (uncompressed) numpy bytes (`preprocess_fn`) to match the input requirements of the model:\n",
    "- `io.decode_jpeg`- Decompresses the JPG image which is returned as a Tensorflow tensor with three channels (RGB).\n",
    "- `image.convert_image_dtype` - Changes integer pixel values to float 32.\n",
    "- `image.resize` - Resizes the image to match the input shape for the model.\n",
    "- `resized / 255.0` - Rescales (normalization) the pixel data between 0 and 1.\n",
    "\n",
    "At this point, the data can be passed to the model (`m_call`)."
   ]
  },
  {
   "cell_type": "code",
   "execution_count": 36,
   "metadata": {
    "id": "W8sBnDzIcQQy"
   },
   "outputs": [
    {
     "name": "stdout",
     "output_type": "stream",
     "text": [
      "WARNING:tensorflow:From <ipython-input-36-456dc5cbf38c>:13: calling map_fn_v2 (from tensorflow.python.ops.map_fn) with back_prop=False is deprecated and will be removed in a future version.\n",
      "Instructions for updating:\n",
      "back_prop=False is deprecated. Consider using tf.stop_gradient instead.\n",
      "Instead of:\n",
      "results = tf.map_fn(fn, elems, back_prop=False)\n",
      "Use:\n",
      "results = tf.nest.map_structure(tf.stop_gradient, tf.map_fn(fn, elems))\n",
      "WARNING:tensorflow:From /opt/conda/lib/python3.7/site-packages/tensorflow/python/util/deprecation.py:574: calling map_fn_v2 (from tensorflow.python.ops.map_fn) with dtype is deprecated and will be removed in a future version.\n",
      "Instructions for updating:\n",
      "Use fn_output_signature instead\n",
      "WARNING:tensorflow:From /opt/conda/lib/python3.7/site-packages/tensorflow/python/training/tracking/tracking.py:111: Model.state_updates (from tensorflow.python.keras.engine.training) is deprecated and will be removed in a future version.\n",
      "Instructions for updating:\n",
      "This property should not be used in TensorFlow 2.0, as updates are applied automatically.\n",
      "WARNING:tensorflow:From /opt/conda/lib/python3.7/site-packages/tensorflow/python/training/tracking/tracking.py:111: Layer.updates (from tensorflow.python.keras.engine.base_layer) is deprecated and will be removed in a future version.\n",
      "Instructions for updating:\n",
      "This property should not be used in TensorFlow 2.0, as updates are applied automatically.\n",
      "INFO:tensorflow:Assets written to: gs://jk-ucaip-labs/_custom_container20210119222622/assets\n"
     ]
    }
   ],
   "source": [
    "CONCRETE_INPUT = \"numpy_inputs\"\n",
    "\n",
    "def _preprocess(bytes_input):\n",
    "    decoded = tf.io.decode_jpeg(bytes_input, channels=3)\n",
    "    decoded = tf.image.convert_image_dtype(decoded, tf.float32)\n",
    "    resized = tf.image.resize(decoded, size=(32, 32))\n",
    "    rescale = tf.cast(resized / 255.0, tf.float32)\n",
    "    return rescale\n",
    "\n",
    "\n",
    "@tf.function(input_signature=[tf.TensorSpec([None], tf.string)])\n",
    "def preprocess_fn(bytes_inputs):\n",
    "    decoded_images = tf.map_fn(_preprocess, bytes_inputs, dtype=tf.float32, back_prop=False)\n",
    "    return {CONCRETE_INPUT: decoded_images}  # User needs to make sure the key matches model's input\n",
    "\n",
    "\n",
    "m_call = tf.function(model.call).get_concrete_function([tf.TensorSpec(shape=[None, 32, 32, 3], dtype=tf.float32, name=CONCRETE_INPUT)])\n",
    "\n",
    "\n",
    "@tf.function(input_signature=[tf.TensorSpec([None], tf.string)])\n",
    "def serving_fn(bytes_inputs):\n",
    "    images = preprocess_fn(bytes_inputs)\n",
    "    prob = m_call(**images)\n",
    "    return prob\n",
    "\n",
    "\n",
    "tf.saved_model.save(model, model_path_to_deploy, signatures={\n",
    "    'serving_default': serving_fn,\n",
    "})"
   ]
  },
  {
   "cell_type": "markdown",
   "metadata": {
    "id": "TF1eOUPLcQQy"
   },
   "source": [
    "## Get the serving function signature\n",
    "\n",
    "You can get the signatures of your model's input and output layers by reloading the model into memory, and querying it for the signatures corresponding to each layer.\n",
    "\n",
    "For your purpose, you need the signature of the serving function. Why? Well, when we send our data for prediction as a HTTP request packet, the image data is base 64 encoded, and our TF.Keras model takes numpy input. Your serving function will do the conversion from base 64 to a numpy array. \n",
    "\n",
    "When making a prediction request, you need to route the request to the serving function instead of the model, so you need to know the input layer name of the serving function -- which you will use later when you make a prediction request."
   ]
  },
  {
   "cell_type": "code",
   "execution_count": 37,
   "metadata": {
    "id": "0fkYu5lUcQQy"
   },
   "outputs": [
    {
     "name": "stdout",
     "output_type": "stream",
     "text": [
      "Serving function input: bytes_inputs\n"
     ]
    }
   ],
   "source": [
    "loaded = tf.saved_model.load(model_path_to_deploy)\n",
    "\n",
    "input_name = list(loaded.signatures['serving_default'].structured_input_signature[1].keys())[0]\n",
    "print('Serving function input:', input_name)"
   ]
  },
  {
   "cell_type": "markdown",
   "metadata": {
    "id": "egVzWVAmcQQz"
   },
   "source": [
    "### Debugging the serving function\n",
    "\n",
    "Now that you've downloaded the model with the serving function, you can debug the serving function locally before deploying to a prediction server.\n",
    "\n",
    "#### Test Instance\n",
    "\n",
    "Let's first make a test instance that would be in the form passed by the HTTP server in the server binary to the serving function.\n",
    "\n",
    "We start by taking an arbitrary raw (uncompressed) image from our test data (`x_test[0]`). We know that when the request is sent to the prediction server, it will be sent as a non-preprocessed compressed JPEG image.\n",
    "\n",
    "- Reverse the preprocessing: `(x_test[0] * 255).astype(np.uint8)`\n",
    "- Compress into JPEG format: `cv2.imwrite('tmp.jpg', raw)`\n",
    "- Get the raw bytes: `bytes = tf.io.read_file('tmp.jpg')`\n",
    "- Convert the raw bytes to a tf.string: tf.convert_to_tensor( [bytes], tf.string)"
   ]
  },
  {
   "cell_type": "code",
   "execution_count": 38,
   "metadata": {
    "id": "K1u3MKNhcQQz"
   },
   "outputs": [],
   "source": [
    "import base64\n",
    "import cv2\n",
    "raw = (x_test[0] * 255).astype(np.uint8)\n",
    "cv2.imwrite('tmp.jpg', raw)\n",
    "\n",
    "bytes = tf.io.read_file('tmp.jpg')\n",
    "tensor = tf.convert_to_tensor( [bytes], tf.string)"
   ]
  },
  {
   "cell_type": "markdown",
   "metadata": {
    "id": "MSQNmHy0cQQz"
   },
   "source": [
    "#### Call the serving function\n",
    "\n",
    "Now, we have the input data in the format that will be passed to the serving function from the HTTP server. Let's now pass the data to the serving function and get the response.\n",
    "\n",
    "- Get the serving function from the fused model: `loaded.signatures[\"serving_default\"]`\n",
    "- Run the serving function on the local CPU: `with tf.device(\"cpu:0\")`\n",
    "- Invoke the serving function: `serving_function(bytes_inputs=tensor)`"
   ]
  },
  {
   "cell_type": "code",
   "execution_count": 39,
   "metadata": {
    "id": "dMK-v2OhcQQz"
   },
   "outputs": [],
   "source": [
    "serving_function = loaded.signatures[\"serving_default\"]\n",
    "with tf.device(\"cpu:0\"):\n",
    "    response = serving_function(tensor)"
   ]
  },
  {
   "cell_type": "markdown",
   "metadata": {
    "id": "GdZC2KMxcQQz"
   },
   "source": [
    "Let's now print the response. You will see in the response the probability values for the ten CIFAR10 classes."
   ]
  },
  {
   "cell_type": "code",
   "execution_count": 40,
   "metadata": {
    "id": "jwsECHMpcQQz"
   },
   "outputs": [
    {
     "name": "stdout",
     "output_type": "stream",
     "text": [
      "{'output_0': <tf.Tensor: shape=(1, 10), dtype=float32, numpy=\n",
      "array([[0.05155839, 0.07438386, 0.14511007, 0.09791576, 0.15527464,\n",
      "        0.07695603, 0.19684182, 0.10689121, 0.03090897, 0.06415923]],\n",
      "      dtype=float32)>}\n"
     ]
    }
   ],
   "source": [
    "print(response)"
   ]
  },
  {
   "cell_type": "markdown",
   "metadata": {
    "id": "4AQQJty2cQQz"
   },
   "source": [
    "### Upload the model\n",
    "\n",
    "Use this helper function `upload_model` to upload your model, stored in SavedModel format, up to the model service, which will instantiate a AI Platform (Unified) model instance for your model. Once you've done that, you can use the model in the same way as any other AI Platform (Unified) model instance, such as deploying to an endpoint for serving predictions.\n",
    "\n",
    "The helper function takes the parameters:\n",
    "\n",
    "- `display_name`: A human readable name for the endpoint.\n",
    "- `image_uri`: The container image for the model deployment.\n",
    "- `model_uri`: The Cloud Storage path to our SavedModel artificat. For this tutorial, this is the Cloud Storage location where the `trainer/task.py` saved the model, which we specified in the variable `MODEL_DIR`.\n",
    "\n",
    "The helper function uses the model client service and calls the method `upload_model`, which takes the parameters:\n",
    "\n",
    "- `parent`: The AI Platform (Unified) location root path for dataset, model and endpoint resources. \n",
    "- `model`: The specification for the AI Platform (Unified) model instance.\n",
    "\n",
    "Let's now dive deeper into the AI Platform (Unified) model specification `model`. This is a dictionary object that consists of the following fields:\n",
    "\n",
    "- `display_name`: A human readable name for the model.\n",
    "- `metadata_schema_uri`: Since our model was built without a AI Platform (Unified) managed dataset, we will leave this blank (`''`).\n",
    "- `artificat_uri`: The Cloud Storage path where the model is stored in SavedModel format. \n",
    "- `container_spec`: This is the specification for the docker container that will be installed on the endpoint, from which the model will serve predictions. Use the variable you set earlier `DEPLOY_GPU != None` to use a GPU; otherwise only a CPU is allocated.\n",
    "\n",
    "Uploading a model into a AI Platform (Unified) model resource returns a long running operation, since it may take a few moments. You call `response.result()`, which is a synchronous call and will return when the AI Platform (Unified) model resource is ready. \n",
    "\n",
    "The helper function returns the AI Platform (Unified) fully qualified identifier for the corresponding AI Platform (Unified) model instance `upload_model_response.model`. You will save the identifier for subsequent steps in the variable `model_to_deploy_name`."
   ]
  },
  {
   "cell_type": "code",
   "execution_count": 41,
   "metadata": {
    "id": "U5pxWQdEcQQ0"
   },
   "outputs": [
    {
     "name": "stdout",
     "output_type": "stream",
     "text": [
      "Long running operation: projects/895222332033/locations/us-central1/models/4850060139329224704/operations/1553664905628876800\n",
      "upload_model_response\n",
      " model: projects/895222332033/locations/us-central1/models/4850060139329224704\n"
     ]
    }
   ],
   "source": [
    "IMAGE_URI = DEPLOY_IMAGE\n",
    "\n",
    "\n",
    "def upload_model(display_name, image_uri, model_uri):\n",
    "    model = {\n",
    "        \"display_name\": display_name,\n",
    "        \"metadata_schema_uri\": \"\",\n",
    "        \"artifact_uri\": model_uri,\n",
    "        \"container_spec\": {\n",
    "            \"image_uri\": image_uri,\n",
    "            \"command\": [],\n",
    "            \"args\": [],\n",
    "            \"env\": [{\"name\": \"env_name\", \"value\": \"env_value\"}],\n",
    "            \"ports\": [{\"container_port\": 8080}],\n",
    "            \"predict_route\": \"\",\n",
    "            \"health_route\": \"\",\n",
    "        },\n",
    "    }\n",
    "    response = clients['model'].upload_model(parent=PARENT, model=model)\n",
    "    print(\"Long running operation:\", response.operation.name)\n",
    "    upload_model_response = response.result(timeout=180)\n",
    "    print(\"upload_model_response\")\n",
    "    print(\" model:\", upload_model_response.model)\n",
    "    return upload_model_response.model\n",
    "\n",
    "\n",
    "model_to_deploy_name = upload_model(\"cifar10-\" + TIMESTAMP, IMAGE_URI, model_path_to_deploy)"
   ]
  },
  {
   "cell_type": "markdown",
   "metadata": {
    "id": "jR8hLRQTcQQ0"
   },
   "source": [
    "### List all models\n",
    "\n",
    "Now that your custom model is uploaded as a AI Platform (Unified) managed model, let's get a list of all your AI Platform (Unified) managed models. Use this helper function `list_models`. This helper function uses the AI Platform (Unified) model client service, and calls the method `list_models`, with the parameter:\n",
    "\n",
    "- `parent`: The AI Platform (Unified) location root path for your dataset, model and endpoint resources.\n",
    "\n",
    "The response object from the call is a list, where each element is a AI Platform (Unified) managed model. For each model, you will display a few fields:\n",
    "\n",
    "- `name`: The AI Platform (Unified) unique identifier for the managed model.\n",
    "- `display_name`: The human readable name assigned to the model.\n",
    "- `create_time`': Timestamp when the model resource was created.\n",
    "- `update_time`: Timestamp when the model resource was last updated.\n",
    "- `container`: The container image used for training the model.\n",
    "- `artifact_uri`': The Cloud Storage location of the model artifact."
   ]
  },
  {
   "cell_type": "code",
   "execution_count": 42,
   "metadata": {
    "id": "15-zuOKlcQQ0"
   },
   "outputs": [
    {
     "name": "stdout",
     "output_type": "stream",
     "text": [
      "name projects/895222332033/locations/us-central1/models/4850060139329224704\n",
      "display_name cifar10-20210119222622\n",
      "create_time 2021-01-19 22:55:27.604597+00:00\n",
      "update_time 2021-01-19 22:55:42.532310+00:00\n",
      "container gcr.io/cloud-aiplatform/prediction/tf2-cpu.2-2:latest\n",
      "artifact_uri gs://jk-ucaip-labs/_custom_container20210119222622\n",
      "\n",
      "\n",
      "name projects/895222332033/locations/us-central1/models/9115180092681617408\n",
      "display_name custom-pipeline-20201207202948-model\n",
      "create_time 2020-12-07 20:56:01.300299+00:00\n",
      "update_time 2020-12-07 21:12:23.132470+00:00\n",
      "container gcr.io/cloud-aiplatform/prediction/tf2-cpu.2-2:latest\n",
      "artifact_uri gs://jk-ucaip-demos/custom_container_20201207202948/model\n",
      "\n",
      "\n"
     ]
    }
   ],
   "source": [
    "def list_models():\n",
    "    response = clients['model'].list_models(parent=PARENT)\n",
    "    for model in response:\n",
    "        print(\"name\", model.name)\n",
    "        print(\"display_name\", model.display_name)\n",
    "        print(\"create_time\", model.create_time)\n",
    "        print(\"update_time\", model.update_time)\n",
    "        print(\"container\", model.container_spec.image_uri)\n",
    "        print(\"artifact_uri\", model.artifact_uri)\n",
    "        print('\\n')\n",
    "\n",
    "\n",
    "list_models()"
   ]
  },
  {
   "cell_type": "markdown",
   "metadata": {
    "id": "Jawm4nYccQQ0"
   },
   "source": [
    "### Get model information\n",
    "\n",
    "Now let's get the model information for just your model. Use this helper function `get_model`, with the parameter:\n",
    "\n",
    "- `name`: The AI Platform (Unified) unique identifier for the managed model.\n",
    "\n",
    "This helper function uses the AI Platform (Unified) model client service, and calls the method `get_model`, with the parameter:\n",
    "\n",
    "- `name`: The AI Platform (Unified) unique identifier for the managed model."
   ]
  },
  {
   "cell_type": "code",
   "execution_count": 43,
   "metadata": {
    "id": "xaYCOT_NcQQ0"
   },
   "outputs": [
    {
     "name": "stdout",
     "output_type": "stream",
     "text": [
      "name: \"projects/895222332033/locations/us-central1/models/4850060139329224704\"\n",
      "display_name: \"cifar10-20210119222622\"\n",
      "predict_schemata {\n",
      "}\n",
      "metadata {\n",
      "}\n",
      "container_spec {\n",
      "  image_uri: \"gcr.io/cloud-aiplatform/prediction/tf2-cpu.2-2:latest\"\n",
      "  env {\n",
      "    name: \"env_name\"\n",
      "    value: \"env_value\"\n",
      "  }\n",
      "  ports {\n",
      "    container_port: 8080\n",
      "  }\n",
      "}\n",
      "supported_deployment_resources_types: DEDICATED_RESOURCES\n",
      "supported_input_storage_formats: \"jsonl\"\n",
      "supported_input_storage_formats: \"csv\"\n",
      "supported_input_storage_formats: \"tf-record\"\n",
      "supported_input_storage_formats: \"tf-record-gzip\"\n",
      "supported_input_storage_formats: \"file-list\"\n",
      "supported_output_storage_formats: \"jsonl\"\n",
      "create_time {\n",
      "  seconds: 1611096927\n",
      "  nanos: 604597000\n",
      "}\n",
      "update_time {\n",
      "  seconds: 1611096942\n",
      "  nanos: 532310000\n",
      "}\n",
      "etag: \"AMEw9yN10nyISh0hDTehuIO1K2fzmXsXBP6gtq85eVaEbn8xNOPcqvlG2gdEsNX7_gNp\"\n",
      "supported_export_formats {\n",
      "  id: \"custom-trained\"\n",
      "  exportable_contents: ARTIFACT\n",
      "}\n",
      "artifact_uri: \"gs://jk-ucaip-labs/_custom_container20210119222622\"\n",
      "\n"
     ]
    }
   ],
   "source": [
    "def get_model(name):\n",
    "    response = clients['model'].get_model(name=name)\n",
    "    print(response)\n",
    "\n",
    "\n",
    "get_model(model_to_deploy_name)"
   ]
  },
  {
   "cell_type": "markdown",
   "metadata": {
    "id": "f1aoqlMscQQ0"
   },
   "source": [
    "### Create an endpoint\n",
    "\n",
    "Use this helper function `create_endpoint` to create an endpoint to deploy the model to for serving predictions, with the parameter:\n",
    "\n",
    "- `display_name`: A human readable name for the endpoint.\n",
    "\n",
    "The helper function uses the endpoint client service and calls the method `create_endpoint`, which takes the parameter:\n",
    "\n",
    "- `display_name`: A human readable name for the endpoint.\n",
    "\n",
    "Creating an endpoint returns a long running operation, since it may take a few moments to provision the endpoint for serving. You will call `response.result()`, which is a synchronous call and will return when the endpoint is ready. The helper function returns the AI Platform (Unified) fully qualified identifier for the endpoint -- `response.name`.\n"
   ]
  },
  {
   "cell_type": "code",
   "execution_count": 44,
   "metadata": {
    "id": "I_lcP761cQQ0"
   },
   "outputs": [
    {
     "name": "stdout",
     "output_type": "stream",
     "text": [
      "Long running operation: projects/895222332033/locations/us-central1/endpoints/7003202973677387776/operations/6381523706170048512\n",
      "result\n",
      " name: projects/895222332033/locations/us-central1/endpoints/7003202973677387776\n",
      " display_name: \n",
      " description: \n",
      " labels: {}\n",
      " create_time: None\n",
      " update_time: None\n"
     ]
    }
   ],
   "source": [
    "ENDPOINT_NAME = \"cifar10_endpoint-\" + TIMESTAMP\n",
    "\n",
    "\n",
    "def create_endpoint(display_name):\n",
    "    endpoint = {\"display_name\": display_name}\n",
    "    response = clients['endpoint'].create_endpoint(parent=PARENT, endpoint=endpoint)\n",
    "    print(\"Long running operation:\", response.operation.name)\n",
    "\n",
    "    result = response.result(timeout=300)\n",
    "    print(\"result\")\n",
    "    print(\" name:\", result.name)\n",
    "    print(\" display_name:\", result.display_name)\n",
    "    print(\" description:\", result.description)\n",
    "    print(\" labels:\", result.labels)\n",
    "    print(\" create_time:\", result.create_time)\n",
    "    print(\" update_time:\", result.update_time)\n",
    "    return result.name\n",
    "\n",
    "\n",
    "endpoint_name = create_endpoint(ENDPOINT_NAME)"
   ]
  },
  {
   "cell_type": "markdown",
   "metadata": {
    "id": "hmSe6eLxcQQ1"
   },
   "source": [
    "### Compute instance scaling\n",
    "\n",
    "You have several choices on scaling the compute instances for handling your online prediction requests:\n",
    "\n",
    "- Single Instance: The online prediction requests are processed on a single compute instance.\n",
    "  - Set the minimum (`MIN_NODES`) and maximum (`MAX_NODES`) number of compute instances to one. \n",
    "\n",
    "\n",
    "- Manual Scaling: The online prediction requests are split across a fixed number of compute instances that you manually specified.\n",
    "  - Set the minimum (`MIN_NODES`) and maximum (`MAX_NODES`) number of compute instances to the same number of nodes. When a model is first deployed to the instanxe, the fixed number of compute instances are provisioned and online prediction requests are evenly distributed across them.\n",
    "  \n",
    "  \n",
    "- Auto Scaling: The online prediction requests are streamed across an initial number of compute instances and then based on time and compute tradeoff may be automatically scaled to provision and deprovision compute instances.\n",
    "  - Set the minimum (`MIN_NODES`) to the initial number of compute instances and the maximum (`MAX_NODES`) to the maximum number of nodes the service could auto-scale to.\n",
    "  \n",
    "The minimum number of compute instances corresponds to the field `min_replica_count` and the maximum number of compute instances corresponds to the field `max_replica_count`, in your subsequent deployment request."
   ]
  },
  {
   "cell_type": "code",
   "execution_count": 46,
   "metadata": {
    "id": "CbYgNtrqcQQ1"
   },
   "outputs": [],
   "source": [
    "MIN_NODES = 1\n",
    "MAX_NODES = 1"
   ]
  },
  {
   "cell_type": "markdown",
   "metadata": {
    "id": "0Q9u1AA8cQQ1"
   },
   "source": [
    "### Deploy model to the endpoint\n",
    "\n",
    "Use this helper function `deploy_model` to deploy the model to the endpoint you created for serving predictions, with the parameters:\n",
    "\n",
    "- `model`: The AI Platform (Unified) fully qualified model identifier of the model to upload (deploy) from the training pipeline.\n",
    "- `deploy_mopdel_display_name`: A human readable name for the deployed model.\n",
    "- `endpoint`: The AI Platform (Unified) fully qualified endpoint identifier to deploy the model to.\n",
    "\n",
    "The helper function uses the endpoint client service and calls the method `deploy_model`, which takes the parameters:\n",
    "\n",
    "- `endpoint`: The AI Platform (Unified) fully qualified endpoint identifier to deploy the model to.\n",
    "- `deployed_model`: The requirements for deploying the model.\n",
    "- `traffic_split`: Percent of traffic at endpoint that goes to this model, which is specified as a dictionary of one or more key/value pairs.\n",
    "   - If only one model, then specify as **{ \"0\": 100 }**, where \"0\" refers to this model being uploaded and 100 means 100% of the traffic.\n",
    "   - If there are existing models on the endpoint, for which the traffic will be split, then specify as, where `model_id` is the model id of an existing model to the deployed endpoint. The percents must add up to 100.\n",
    "   \n",
    "           { \"0\": percent, model_id: percent, ... }\n",
    "\n",
    "Let's now dive deeper into the `deployed_model` parameter. This parameter is specified as a python dictionary with the minimum required fields:\n",
    "\n",
    "- `model`: The AI Platform (Unified) fully qualified model identifier of the (upload) model to deploy.\n",
    "- `display_name`: A human readable name for the deployed model.\n",
    "- `dedicated_resources`: This refers to how many compute instances (replicas) that are scaled for serving prediction requests.  \n",
    "  - `machine_spec`: The compute instance to provision. Use the variable you set earlier `DEPLOY_GPU != None` to use a GPU; otherwise only a CPU is allocated.  \n",
    "  - `min_replica_count`: The number of compute instances to initially provision, which you set earlier as the variable `MIN_NODES`.\n",
    "  - `max_replica_count`: The maximum number of compute instances to scale to, which you set earlier as the variable `MAX_NODES`.\n",
    "- `enable_container_logging`: This enables logging of container events, such as execution failures (default is False). This is typically set to True when debugging the deployment and then set to False when deployed for production.\n",
    "\n",
    "Let's now dive deeper into the `traffic_split` parameter. This parameter is specified as a python dictionary. This might at first be a tad bit confusing. Let me explain, you can deploy more than one instance of your model to an endpoint, and then set how much (percent) goes to each instance. \n",
    "\n",
    "Why would you do that? Perhaps you already have a previous version deployed in production -- let's call that v1. You got better model evaluation on v2, but you don't know for certain that it is really better until you deploy to production. So in the case of traffic split, you might want to deploy v2 to the same endpoint as v1, but it only get's say 10% of the traffic. That way, you can monitor how well it does without disrupting the majority of users -- until you make a final decision."
   ]
  },
  {
   "cell_type": "code",
   "execution_count": 47,
   "metadata": {
    "id": "JDFo8zNQcQQ1"
   },
   "outputs": [
    {
     "name": "stdout",
     "output_type": "stream",
     "text": [
      "Long running operation: projects/895222332033/locations/us-central1/endpoints/7003202973677387776/operations/3181716170923311104\n",
      "result\n",
      " deployed_model\n",
      "  id: 4603347322242334720\n",
      "  model: \n",
      "  display_name: \n",
      "  create_time: None\n"
     ]
    }
   ],
   "source": [
    "DEPLOYED_NAME = \"cifar10_deployed-\" + TIMESTAMP\n",
    "\n",
    "\n",
    "def deploy_model(model, deployed_model_display_name, endpoint, traffic_split={\"0\": 100}):\n",
    "\n",
    "    if DEPLOY_GPU:\n",
    "        machine_spec = {\n",
    "            \"machine_type\": DEPLOY_COMPUTE,\n",
    "            \"accelerator_type\": DEPLOY_GPU,\n",
    "            \"accelerator_count\": DEPLOY_NGPU,\n",
    "        }\n",
    "    else:\n",
    "        machine_spec = {\n",
    "            \"machine_type\": DEPLOY_COMPUTE,\n",
    "            \"accelerator_count\": 0,\n",
    "        }\n",
    "\n",
    "    deployed_model = {\n",
    "        \"model\": model,\n",
    "        \"display_name\": deployed_model_display_name,\n",
    "        \"dedicated_resources\": {\n",
    "            \"min_replica_count\": MIN_NODES,\n",
    "            \"max_replica_count\": MAX_NODES,\n",
    "            \"machine_spec\": machine_spec\n",
    "        },\n",
    "        \"enable_container_logging\": False\n",
    "    }\n",
    "\n",
    "    response = clients['endpoint'].deploy_model(\n",
    "        endpoint=endpoint, deployed_model=deployed_model, traffic_split=traffic_split)\n",
    "\n",
    "    print(\"Long running operation:\", response.operation.name)\n",
    "    result = response.result()\n",
    "    print(\"result\")\n",
    "    deployed_model = result.deployed_model\n",
    "    print(\" deployed_model\")\n",
    "    print(\"  id:\", deployed_model.id)\n",
    "    print(\"  model:\", deployed_model.model)\n",
    "    print(\"  display_name:\", deployed_model.display_name)\n",
    "    print(\"  create_time:\", deployed_model.create_time)\n",
    "\n",
    "    return deployed_model.id\n",
    "\n",
    "\n",
    "deployed_model_id = deploy_model(model_to_deploy_name, DEPLOYED_NAME, endpoint_name)"
   ]
  },
  {
   "cell_type": "markdown",
   "metadata": {
    "id": "J2DDQ6d6cQQ1"
   },
   "source": [
    "### List all endpoints\n",
    "\n",
    "Let's now get a list of all your endpoints. Use this helper function `list_endpoints`. \n",
    "\n",
    "The helper function uses the endpoint client service and calls the method `list_endpoints`. The returned response object is a list, with an element for each endpoint. The helper function lists a few example fields for each endpoint:\n",
    "\n",
    "- `name`: The AI Platform (Unified) identifier for the managed endpoint.\n",
    "- `display_name`: The human readable name you assigned to the endpoint.\n",
    "- `create_time`: When the endpoint was created.\n",
    "- `deployed_models`: The models and associated information that are deployed to this endpoint."
   ]
  },
  {
   "cell_type": "code",
   "execution_count": 48,
   "metadata": {
    "id": "AK2zww_9cQQ1"
   },
   "outputs": [
    {
     "name": "stdout",
     "output_type": "stream",
     "text": [
      "name: projects/895222332033/locations/us-central1/endpoints/7003202973677387776\n",
      "display name: cifar10_endpoint-20210119222622\n",
      "create_time: 2021-01-19 22:56:01.868768+00:00\n",
      "deployed_models [id: \"4603347322242334720\"\n",
      "model: \"projects/895222332033/locations/us-central1/models/4850060139329224704\"\n",
      "display_name: \"cifar10_deployed-20210119222622\"\n",
      "create_time {\n",
      "  seconds: 1611096998\n",
      "  nanos: 274154000\n",
      "}\n",
      "dedicated_resources {\n",
      "  machine_spec {\n",
      "    machine_type: \"n1-standard-4\"\n",
      "  }\n",
      "  min_replica_count: 1\n",
      "  max_replica_count: 1\n",
      "}\n",
      "]\n",
      "\n",
      "\n"
     ]
    }
   ],
   "source": [
    "def list_endpoints():\n",
    "    response = clients['endpoint'].list_endpoints(parent=PARENT)\n",
    "    for endpoint in response:\n",
    "        print(\"name:\", endpoint.name)\n",
    "        print(\"display name:\", endpoint.display_name)\n",
    "        print(\"create_time:\", endpoint.create_time)\n",
    "        print(\"deployed_models\", endpoint.deployed_models)\n",
    "        print(\"\\n\")\n",
    "        \n",
    "list_endpoints()"
   ]
  },
  {
   "cell_type": "markdown",
   "metadata": {
    "id": "SnWI1y-TcQQ2"
   },
   "source": [
    "### Get information on this endpoint\n",
    "\n",
    "Now let's get the endpoint information for just your endpoint. Use this helper function `get_endpoint`, with the parameter:\n",
    "\n",
    "- `name`: The AI Platform (Unified) unique identifier for the managed endpoint.\n",
    "\n",
    "This helper function uses the AI Platform (Unified) endpoint client service, and calls the method `get_endpoint`, with the parameter:\n",
    "\n",
    "- `name`: The AI Platform (Unified) unique identifier for the managed endpoint."
   ]
  },
  {
   "cell_type": "code",
   "execution_count": 49,
   "metadata": {
    "id": "TelGU7VdcQQ2"
   },
   "outputs": [
    {
     "name": "stdout",
     "output_type": "stream",
     "text": [
      "name: \"projects/895222332033/locations/us-central1/endpoints/7003202973677387776\"\n",
      "display_name: \"cifar10_endpoint-20210119222622\"\n",
      "deployed_models {\n",
      "  id: \"4603347322242334720\"\n",
      "  model: \"projects/895222332033/locations/us-central1/models/4850060139329224704\"\n",
      "  display_name: \"cifar10_deployed-20210119222622\"\n",
      "  create_time {\n",
      "    seconds: 1611096998\n",
      "    nanos: 274154000\n",
      "  }\n",
      "  dedicated_resources {\n",
      "    machine_spec {\n",
      "      machine_type: \"n1-standard-4\"\n",
      "    }\n",
      "    min_replica_count: 1\n",
      "    max_replica_count: 1\n",
      "  }\n",
      "}\n",
      "traffic_split {\n",
      "  key: \"4603347322242334720\"\n",
      "  value: 100\n",
      "}\n",
      "etag: \"AMEw9yOTTlUaPh0ECwWhYQR3OUVpqypv6k1fKM27rx0L-6BHD4531RezhyDljAsxo4Gn\"\n",
      "create_time {\n",
      "  seconds: 1611096961\n",
      "  nanos: 868768000\n",
      "}\n",
      "update_time {\n",
      "  seconds: 1611097594\n",
      "  nanos: 726509000\n",
      "}\n",
      "\n"
     ]
    }
   ],
   "source": [
    "def get_endpoint(name):\n",
    "    response = clients['endpoint'].get_endpoint(name=name)\n",
    "    print(response)\n",
    "    \n",
    "get_endpoint(endpoint_name)"
   ]
  },
  {
   "cell_type": "markdown",
   "metadata": {
    "id": "6C6eeVxocQQ2"
   },
   "source": [
    "## Make a prediction request\n",
    "\n",
    "Let's now do a prediction to your deployed model. You will use an arbitrary image out of the test (holdout) portion of the dataset as a test image. "
   ]
  },
  {
   "cell_type": "code",
   "execution_count": 50,
   "metadata": {
    "id": "adn6Wtm1cQQ2"
   },
   "outputs": [
    {
     "name": "stdout",
     "output_type": "stream",
     "text": [
      "(32, 32, 3)\n"
     ]
    }
   ],
   "source": [
    "test_image = x_test[0]\n",
    "test_label = y_test[0]\n",
    "print(test_image.shape)"
   ]
  },
  {
   "cell_type": "markdown",
   "metadata": {
    "id": "oen5zVb_cQQ2"
   },
   "source": [
    "### Prepare the request content\n",
    "You are going to send the CIFAR10 image as compressed JPG image, instead of the raw uncompressed bytes:\n",
    "\n",
    "- `cv2.imwrite`: Use openCV to write the uncompressed image to disk as a compressed JPEG image.\n",
    "- `tf.io.read_file`: Read the compressed JPG images back into memory as raw bytes.\n",
    "- `base64.b64encode`: Encode the raw bytes into a base 64 encoded string."
   ]
  },
  {
   "cell_type": "code",
   "execution_count": 51,
   "metadata": {
    "id": "gGoBuSH7cQQ2"
   },
   "outputs": [],
   "source": [
    "import base64\n",
    "import cv2\n",
    "cv2.imwrite('tmp.jpg', (test_image * 255).astype(np.uint8))\n",
    "\n",
    "bytes = tf.io.read_file('tmp.jpg')\n",
    "b64str = base64.b64encode(bytes.numpy()).decode('utf-8')"
   ]
  },
  {
   "cell_type": "markdown",
   "metadata": {
    "id": "8zFYavmscQQ2"
   },
   "source": [
    "### Send the prediction request\n",
    "\n",
    "Ok, now you have a test image. Use this helper function `predict_image`, which takes the parameters:\n",
    "\n",
    "- `image`: The test image data as a numpy array.\n",
    "- `endpoint`: The AI Platform (Unified) fully qualified identifier for the endpoint where the model was deployed.\n",
    "- `parameters_dict`: Additional parameters for serving -- in our case we will pass None.\n",
    "\n",
    "This function uses the prediction client service and calls the `predict` method with the parameters:\n",
    "\n",
    "- `endpoint`: The AI Platform (Unified) fully qualified identifier for the endpoint where the model was deployed.\n",
    "- `instances`: A list of instances (encoded images) to predict.\n",
    "- `parameters`: Additional parameters for serving -- in our case we will pass None.\n",
    "\n",
    "To pass the image data to the prediction service, in the previous step you encoded the bytes into base 64 -- which makes the content safe from modification when transmitting binary data over the network. You need to tell the serving binary where your model is deployed to, that the content has been base 64 encoded, so it will decode it on the other end in the serving binary. \n",
    "\n",
    "Each instance in the prediction request is a dictionary entry of the form:\n",
    "\n",
    "                        {input_name: {'b64': content}}\n",
    "                        \n",
    "- `input_name`: the name of the input layer of the underlying model.\n",
    "- `'b64'`: A key that indicates the content is base 64 encoded.\n",
    "- `content`: The compressed JPG image bytes as a base 64 encoded string.\n",
    "\n",
    "Since the `predict()` service can take multiple images (instances), you will send your single image as a list of one image. As a final step, you package the instances list into Google's protobuf format -- which is what we pass to the `predict()` service.\n",
    "\n",
    "The `response` object returns a list, where each element in the list corresponds to the corresponding image in the request. You will see in the output for each prediction:\n",
    "\n",
    "- Confidence level for the prediction (`predictions`), between 0 and 1, for each of the ten classes."
   ]
  },
  {
   "cell_type": "code",
   "execution_count": 52,
   "metadata": {
    "id": "fVOlAY7PcQQ3"
   },
   "outputs": [
    {
     "name": "stdout",
     "output_type": "stream",
     "text": [
      "response\n",
      " deployed_model_id: 4603347322242334720\n",
      "predictions\n",
      " prediction: [number_value: 0.051558394\n",
      ", number_value: 0.0743838623\n",
      ", number_value: 0.145110071\n",
      ", number_value: 0.0979157612\n",
      ", number_value: 0.155274644\n",
      ", number_value: 0.0769560337\n",
      ", number_value: 0.196841821\n",
      ", number_value: 0.106891207\n",
      ", number_value: 0.030908972\n",
      ", number_value: 0.0641592443\n",
      "]\n"
     ]
    }
   ],
   "source": [
    "def predict_image(image, endpoint, parameters_dict):\n",
    "    # The format of each instance should conform to the deployed model's prediction input schema.\n",
    "    instances_list = [{input_name: {'b64': image}}]\n",
    "    instances = [json_format.ParseDict(s, Value()) for s in instances_list]\n",
    "\n",
    "    response = clients['prediction'].predict(endpoint=endpoint, instances=instances, parameters=parameters_dict)\n",
    "    print(\"response\")\n",
    "    print(\" deployed_model_id:\", response.deployed_model_id)\n",
    "    predictions = response.predictions\n",
    "    print(\"predictions\")\n",
    "    for prediction in predictions:\n",
    "        # See gs://google-cloud-aiplatform/schema/predict/prediction/classification.yaml for the format of the predictions.\n",
    "        print(\" prediction:\", prediction)\n",
    "\n",
    "\n",
    "predict_image(b64str, endpoint_name, None)"
   ]
  },
  {
   "cell_type": "markdown",
   "metadata": {
    "id": "YWyNS6fncQQ3"
   },
   "source": [
    "## Undeploy the model\n",
    "\n",
    "Let's now undeploy your model from the serving endpoint. Use this helper function `undeploy_model`, which takes the parameters:\n",
    "\n",
    "- `deployed_model_id`: The model deployment identifier returned by the endpoint service when the model was deployed.\n",
    "- `endpoint`: The AI Platform (Unified) fully qualified identifier for the endpoint where the model is deployed.\n",
    "\n",
    "This function uses the endpoint client service and calls the method `undeploy_model`, with the parameters:\n",
    "\n",
    "- `deployed_model_id`: The model deployment identifier returned by the endpoint service when the model was deployed.\n",
    "- `endpoint`: The AI Platform (Unified) fully qualified identifier for the endpoint where the model is deployed.\n",
    "- `traffic_split`: How to split traffic among the remaining deployed models on the endpoint.\n",
    "\n",
    "Since this is the only deployed model on the endpoint, you simply can leave `traffic_split` empty by setting it to {}."
   ]
  },
  {
   "cell_type": "code",
   "execution_count": 53,
   "metadata": {
    "id": "F55s25C4cQQ3"
   },
   "outputs": [
    {
     "name": "stdout",
     "output_type": "stream",
     "text": [
      "<google.api_core.operation.Operation object at 0x7f7401a8cc10>\n"
     ]
    }
   ],
   "source": [
    "def undeploy_model(deployed_model_id, endpoint):\n",
    "    response = clients['endpoint'].undeploy_model(endpoint=endpoint, deployed_model_id=deployed_model_id, traffic_split={})\n",
    "    print(response)\n",
    "\n",
    "\n",
    "undeploy_model(deployed_model_id, endpoint_name)"
   ]
  },
  {
   "cell_type": "markdown",
   "metadata": {
    "id": "TpV-iwP9qw9c"
   },
   "source": [
    "# Cleaning up\n",
    "\n",
    "To clean up all GCP resources used in this project, you can [delete the GCP\n",
    "project](https://cloud.google.com/resource-manager/docs/creating-managing-projects#shutting_down_projects) you used for the tutorial.\n",
    "\n",
    "Otherwise, you can delete the individual resources you created in this tutorial:\n",
    "\n",
    "- Dataset\n",
    "- Model\n",
    "- Endpoint\n",
    "- Cloud Storage Bucket"
   ]
  },
  {
   "cell_type": "code",
   "execution_count": 54,
   "metadata": {
    "id": "sx_vKniMq9ZX"
   },
   "outputs": [
    {
     "name": "stdout",
     "output_type": "stream",
     "text": [
      "'dataset'\n",
      "Removing gs://jk-ucaip-labs/_custom_container20210119222622/#1611096452350257...\n",
      "Removing gs://jk-ucaip-labs/_custom_container20210119222622/assets/#1611096456288878...\n",
      "Removing gs://jk-ucaip-labs/_custom_container20210119222622/saved_model.pb#1611096844877015...\n",
      "Removing gs://jk-ucaip-labs/_custom_container20210119222622/variables/#1611096452598782...\n",
      "/ [4 objects]                                                                   \n",
      "==> NOTE: You are performing a sequence of gsutil operations that may\n",
      "run significantly faster if you instead use gsutil -m rm ... Please\n",
      "see the -m section under \"gsutil help options\" for further information\n",
      "about when gsutil -m can be advantageous.\n",
      "\n",
      "Removing gs://jk-ucaip-labs/_custom_container20210119222622/variables/variables.data-00000-of-00001#1611096843109912...\n",
      "Removing gs://jk-ucaip-labs/_custom_container20210119222622/variables/variables.data-00000-of-00002#1611096455427509...\n",
      "Removing gs://jk-ucaip-labs/_custom_container20210119222622/variables/variables.data-00001-of-00002#1611096455221418...\n",
      "Removing gs://jk-ucaip-labs/_custom_container20210119222622/variables/variables.index#1611096843646139...\n",
      "/ [8 objects]                                                                   \n",
      "Operation completed over 8 objects.                                              \n",
      "Removing gs://jk-ucaip-labs/...\n"
     ]
    },
    {
     "data": {
      "text/plain": [
       "8471"
      ]
     },
     "execution_count": 54,
     "metadata": {},
     "output_type": "execute_result"
    }
   ],
   "source": [
    "delete_dataset = True\n",
    "delete_model = True\n",
    "delete_endpoint = True\n",
    "delete_bucket = True\n",
    "\n",
    "# Delete the dataset using the AI Platform (Unified) fully qualified identifier for the dataset\n",
    "try:\n",
    "    if delete_dataset:\n",
    "        clients['dataset'].delete_dataset(name=dataset['name'])\n",
    "except Exception as e:\n",
    "    print(e)\n",
    "\n",
    "# Delete the model using the AI Platform (Unified) fully qualified identifier for the model\n",
    "try:\n",
    "    if delete_model:\n",
    "        clients['model'].delete_model(name=model_to_deploy_name)\n",
    "except Exception as e:\n",
    "    print(e)\n",
    "\n",
    "# Delete the endpoint using the AI Platform (Unified) fully qualified identifier for the endpoint\n",
    "try:\n",
    "    if delete_endpoint:\n",
    "        clients['endpoint'].delete_endpoint(name=endpoint_name)\n",
    "except Exception as e:\n",
    "    print(e)\n",
    "\n",
    "if delete_bucket and 'BUCKET_NAME' in globals():\n",
    "    ! gsutil rm -r gs://$BUCKET_NAME\n",
    "        \n",
    "# Collect any unclaimed memory\n",
    "import gc\n",
    "gc.collect()"
   ]
  },
  {
   "cell_type": "code",
   "execution_count": null,
   "metadata": {},
   "outputs": [],
   "source": []
  }
 ],
 "metadata": {
  "colab": {
   "collapsed_sections": [],
   "name": "ucaip_customjob_image_container.ipynb",
   "provenance": [],
   "toc_visible": true
  },
  "environment": {
   "name": "tf2-gpu.2-3.m61",
   "type": "gcloud",
   "uri": "gcr.io/deeplearning-platform-release/tf2-gpu.2-3:m61"
  },
  "kernelspec": {
   "display_name": "Python 3",
   "language": "python",
   "name": "python3"
  },
  "language_info": {
   "codemirror_mode": {
    "name": "ipython",
    "version": 3
   },
   "file_extension": ".py",
   "mimetype": "text/x-python",
   "name": "python",
   "nbconvert_exporter": "python",
   "pygments_lexer": "ipython3",
   "version": "3.7.9"
  }
 },
 "nbformat": 4,
 "nbformat_minor": 4
}
