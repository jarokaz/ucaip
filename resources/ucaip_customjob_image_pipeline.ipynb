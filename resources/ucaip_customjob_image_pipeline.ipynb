{
 "cells": [
  {
   "cell_type": "code",
   "execution_count": null,
   "metadata": {
    "id": "ur8xi4C7S06n"
   },
   "outputs": [],
   "source": [
    "# Copyright 2020 Google LLC\n",
    "#\n",
    "# Licensed under the Apache License, Version 2.0 (the \"License\");\n",
    "# you may not use this file except in compliance with the License.\n",
    "# You may obtain a copy of the License at\n",
    "#\n",
    "#     https://www.apache.org/licenses/LICENSE-2.0\n",
    "#\n",
    "# Unless required by applicable law or agreed to in writing, software\n",
    "# distributed under the License is distributed on an \"AS IS\" BASIS,\n",
    "# WITHOUT WARRANTIES OR CONDITIONS OF ANY KIND, either express or implied.\n",
    "# See the License for the specific language governing permissions and\n",
    "# limitations under the License."
   ]
  },
  {
   "cell_type": "markdown",
   "metadata": {
    "id": "eHLV0D7Y5jtU"
   },
   "source": [
    "# AI Platform (Unified) SDK: Custom image classification model using a training pipeline\n",
    "\n",
    "<table align=\"left\">\n",
    "  <td>\n",
    "    <a href=\"https://colab.research.google.com/github/GoogleCloudPlatform/ai-platform-samples/blob/master/notebooks/deepdive/custom/ucaip_customjob_image_pipeline.ipynb\">\n",
    "      <img src=\"https://cloud.google.com/ml-engine/images/colab-logo-32px.png\" alt=\"Colab logo\"> Run in Colab\n",
    "    </a>\n",
    "  </td>\n",
    "  <td>\n",
    "    <a href=\"https://github.com/GoogleCloudPlatform/ai-platform-samples/blob/master/notebooks/deepdive/custom/ucaip_customjob_image_pipeline.ipynb\">\n",
    "      <img src=\"https://cloud.google.com/ml-engine/images/github-logo-32px.png\" alt=\"GitHub logo\">\n",
    "      View on GitHub\n",
    "    </a>\n",
    "  </td>\n",
    "</table>"
   ]
  },
  {
   "cell_type": "markdown",
   "metadata": {
    "id": "tvgnzT1CKxrO"
   },
   "source": [
    "# Overview\n",
    "\n",
    "\n",
    "This tutorial demonstrates how to use the AI Platform (Unified) Python SDK to train a custom image classification model with a training pipeline, and deploy for online prediction.\n",
    "\n",
    "### Dataset\n",
    "\n",
    "The dataset used for this tutorial is the [cifar10 dataset](https://www.tensorflow.org/datasets/catalog/cifar10) from [TensorFlow Datasets](https://www.tensorflow.org/datasets/catalog/overview). The version of the dataset you will use is built into Tensorflow. The trained model predicts which type of class an image is from ten classes: airplane, automobile, bird, cat, deer, dog, frog, horse, ship, truck.\n",
    "\n",
    "### Objective\n",
    "\n",
    "In this notebook, you will learn how to create a custom model, using a training pipelime, from a Python script in a docker container using the AI Platform (Unified) SDK, and then do a prediction on the deployed model. You can alternatively create custom models from the command line using `gcloud` or online using Google Cloud Console.\n",
    "\n",
    "The steps performed include: \n",
    "\n",
    "- Create a AI Platform (Unified) custom job for training a model.\n",
    "- Create a training pipeline.\n",
    "- Train the model.\n",
    "- Retrieve and load the model (artifacts).\n",
    "- View the model evaluation.\n",
    "- Deploy the model to a serving endpoint.\n",
    "- Make a prediction(s).\n",
    "- Undeploy the model.\n",
    "\n",
    "### Costs \n",
    "\n",
    "This tutorial uses billable components of Google Cloud Platform (GCP):\n",
    "\n",
    "* Cloud AI Platform\n",
    "* Cloud Storage\n",
    "\n",
    "Learn about [Cloud AI Platform\n",
    "pricing](https://cloud.google.com/ml-engine/docs/pricing) and [Cloud Storage\n",
    "pricing](https://cloud.google.com/storage/pricing), and use the [Pricing\n",
    "Calculator](https://cloud.google.com/products/calculator/)\n",
    "to generate a cost estimate based on your projected usage."
   ]
  },
  {
   "cell_type": "markdown",
   "metadata": {
    "id": "i7EUnXsZhAGF"
   },
   "source": [
    "## Installation\n",
    "\n",
    "Install the latest (preview) version of AI Platform (Unified) SDK from a tar file we have in a GCP storage bucket."
   ]
  },
  {
   "cell_type": "code",
   "execution_count": null,
   "metadata": {
    "colab": {
     "base_uri": "https://localhost:8080/",
     "height": 1000
    },
    "id": "wyy5Lbnzg5fi",
    "outputId": "52f72fa2-a00a-4ac9-eea3-0d16fe90877c"
   },
   "outputs": [],
   "source": [
    "! pip3 install google-cloud-aiplatform"
   ]
  },
  {
   "cell_type": "markdown",
   "metadata": {
    "id": "aXjX-bqsuPKC"
   },
   "source": [
    "Install cloudstorage as well."
   ]
  },
  {
   "cell_type": "code",
   "execution_count": null,
   "metadata": {
    "colab": {
     "base_uri": "https://localhost:8080/"
    },
    "id": "XLHnoTEOuPKD",
    "outputId": "75cf7ce4-73f6-432a-9809-e282b47f93d2"
   },
   "outputs": [],
   "source": [
    "! pip3 install google-cloud-storage"
   ]
  },
  {
   "cell_type": "markdown",
   "metadata": {
    "id": "WBNhr6DZuPKD"
   },
   "source": [
    "Install openCV, which will be used for creating test images."
   ]
  },
  {
   "cell_type": "code",
   "execution_count": null,
   "metadata": {
    "colab": {
     "base_uri": "https://localhost:8080/"
    },
    "id": "SQz4KurouPKD",
    "outputId": "efa123ab-e753-4bdd-f118-4f527a58b228"
   },
   "outputs": [],
   "source": [
    "! pip install opencv-python"
   ]
  },
  {
   "cell_type": "markdown",
   "metadata": {
    "id": "dlx9tarnuPKD"
   },
   "source": [
    "### Restart the Kernel\n",
    "\n",
    "Once you've installed the AI Platform (Unified) SDK, you need to restart the notebook kernel so it can find the packages."
   ]
  },
  {
   "cell_type": "code",
   "execution_count": null,
   "metadata": {
    "colab": {
     "base_uri": "https://localhost:8080/"
    },
    "id": "9luQpONrzPb6",
    "outputId": "79ca40c8-5124-47ab-85d6-f31c861b5f1e"
   },
   "outputs": [],
   "source": [
    "# Automatically restart kernel after installs\n",
    "import IPython\n",
    "app = IPython.Application.instance()\n",
    "app.kernel.do_shutdown(True)"
   ]
  },
  {
   "cell_type": "markdown",
   "metadata": {
    "id": "9pl8bs5BuPKE"
   },
   "source": [
    "## Before you begin\n",
    "\n",
    "### GPU run-time\n",
    "\n",
    "**Make sure you're running this notebook in a GPU runtime if you have that option. In Colab, select Runtime --> Change runtime type**"
   ]
  },
  {
   "cell_type": "markdown",
   "metadata": {
    "id": "BF1j6f9HApxa"
   },
   "source": [
    "### Set up your GCP project\n",
    "\n",
    "**The following steps are required, regardless of your notebook environment.**\n",
    "\n",
    "1. [Select or create a GCP project](https://console.cloud.google.com/cloud-resource-manager). When you first create an account, you get a $300 free credit towards your compute/storage costs.\n",
    "\n",
    "2. [Make sure that billing is enabled for your project.](https://cloud.google.com/billing/docs/how-to/modify-project)\n",
    "\n",
    "3. [Enable the AI Platform APIs, Compute Engine APIs and Container Registry API.](https://console.cloud.google.com/flows/enableapi?apiid=ml.googleapis.com,compute_component,containerregistry.googleapis.com)\n",
    "\n",
    "4. [Google Cloud SDK](https://cloud.google.com/sdk) is already installed in AI Platform Notebooks.\n",
    "\n",
    "5. Enter your project ID in the cell below. Then run the  cell to make sure the\n",
    "Cloud SDK uses the right project for all the commands in this notebook.\n",
    "\n",
    "**Note**: Jupyter runs lines prefixed with `!` as shell commands, and it interpolates Python variables prefixed with `$` into these commands."
   ]
  },
  {
   "cell_type": "markdown",
   "metadata": {
    "id": "plVlLHCYuPKF"
   },
   "source": [
    "#### Project ID\n",
    "\n",
    "**If you don't know your project ID**, you might be able to get your project ID using `gcloud` command by executing the second cell below."
   ]
  },
  {
   "cell_type": "code",
   "execution_count": 1,
   "metadata": {
    "id": "YuOJkvtGuPKF"
   },
   "outputs": [],
   "source": [
    "PROJECT_ID = \"jk-mlops-dev\" #@param {type:\"string\"}"
   ]
  },
  {
   "cell_type": "code",
   "execution_count": 2,
   "metadata": {
    "id": "oM1iC_MfAts1"
   },
   "outputs": [],
   "source": [
    "if PROJECT_ID == \"\" or PROJECT_ID is None or PROJECT_ID == \"[your-project-id]\":\n",
    "    # Get your GCP project id from gcloud\n",
    "    shell_output = ! gcloud config list --format 'value(core.project)' 2>/dev/null\n",
    "    PROJECT_ID = shell_output[0]\n",
    "    print(\"Project ID:\", PROJECT_ID)"
   ]
  },
  {
   "cell_type": "code",
   "execution_count": 3,
   "metadata": {
    "colab": {
     "base_uri": "https://localhost:8080/"
    },
    "id": "s_PDBKFfuPKF",
    "outputId": "8646b9a9-9bb9-409c-826a-4c0199895149"
   },
   "outputs": [
    {
     "name": "stdout",
     "output_type": "stream",
     "text": [
      "Updated property [core/project].\n"
     ]
    }
   ],
   "source": [
    "! gcloud config set project $PROJECT_ID"
   ]
  },
  {
   "cell_type": "markdown",
   "metadata": {
    "id": "CRCGZd_PuPKF"
   },
   "source": [
    "#### Region\n",
    "\n",
    "You can also change the `REGION` variable, which is used for operations\n",
    "throughout the rest of this notebook. Make sure to [choose a region where Cloud\n",
    "AI Platform services are\n",
    "available](https://cloud.google.com/ml-engine/docs/tensorflow/regions). You can\n",
    "not use a Multi-Regional Storage bucket for training with AI Platform."
   ]
  },
  {
   "cell_type": "code",
   "execution_count": 4,
   "metadata": {
    "id": "ttyunMrPuPKG"
   },
   "outputs": [],
   "source": [
    "REGION = 'us-central1' #@param {type: \"string\"}"
   ]
  },
  {
   "cell_type": "markdown",
   "metadata": {
    "id": "LiYUYXJEuPKG"
   },
   "source": [
    "#### Timestamp\n",
    "\n",
    "If you are in a live tutorial session, you might be using a shared test account or project. To avoid name collisions between users on resources created, you create a timestamp for each instance session, and append onto the name of resources which will be created in this tutorial."
   ]
  },
  {
   "cell_type": "code",
   "execution_count": 5,
   "metadata": {
    "id": "l0-cFvWGuPKG"
   },
   "outputs": [],
   "source": [
    "from datetime import datetime\n",
    "\n",
    "TIMESTAMP = datetime.now().strftime(\"%Y%m%d%H%M%S\")"
   ]
  },
  {
   "cell_type": "markdown",
   "metadata": {
    "id": "dr--iN2kAylZ"
   },
   "source": [
    "### Authenticate your GCP account\n",
    "\n",
    "**If you are using AI Platform Notebooks**, your environment is already\n",
    "authenticated. Skip this step."
   ]
  },
  {
   "cell_type": "code",
   "execution_count": 6,
   "metadata": {
    "id": "bMpU7qvAuPKH"
   },
   "outputs": [],
   "source": [
    "import os\n",
    "import sys\n",
    "\n",
    "# If you are running this notebook in Colab, run this cell and follow the\n",
    "# instructions to authenticate your Google Cloud account. This provides access\n",
    "# to your Cloud Storage bucket and lets you submit training jobs and prediction\n",
    "# requests.\n",
    "\n",
    "# If on AI Platform, then don't execute this code\n",
    "if not os.path.exists('/opt/deeplearning/metadata/env_version'):\n",
    "    if 'google.colab' in sys.modules:\n",
    "        from google.colab import auth as google_auth\n",
    "        google_auth.authenticate_user()\n",
    "\n",
    "    # If you are running this tutorial in a notebook locally, replace the string\n",
    "    # below with the path to your service account key and run this cell to\n",
    "    # authenticate your Google Cloud account.\n",
    "    else:\n",
    "        %env GOOGLE_APPLICATION_CREDENTIALS your_path_to_credentials.json"
   ]
  },
  {
   "cell_type": "markdown",
   "metadata": {
    "id": "zgPO1eR3CYjk"
   },
   "source": [
    "### Create a Cloud Storage bucket\n",
    "\n",
    "**The following steps are required, regardless of your notebook environment.**\n",
    "\n",
    "When you submit a custom training job using the Cloud SDK, you upload a Python package\n",
    "containing your training code to a Cloud Storage bucket. AI Platform runs\n",
    "the code from this package. In this tutorial, AI Platform also saves the\n",
    "trained model that results from your job in the same bucket. You can then\n",
    "create an AI Platform endpoint based on this output in order to serve\n",
    "online predictions.\n",
    "\n",
    "Set the name of your Cloud Storage bucket below. It must be unique across all\n",
    "Cloud Storage buckets. "
   ]
  },
  {
   "cell_type": "code",
   "execution_count": 7,
   "metadata": {
    "id": "MzGDU7TWdts_"
   },
   "outputs": [],
   "source": [
    "BUCKET_NAME = \"jk-ucaip-demos\" #@param {type:\"string\"}"
   ]
  },
  {
   "cell_type": "code",
   "execution_count": 8,
   "metadata": {
    "id": "pJ16ahNLuPKI"
   },
   "outputs": [],
   "source": [
    "if BUCKET_NAME == \"\" or BUCKET_NAME is None or BUCKET_NAME == \"[your-bucket-name]\":\n",
    "    BUCKET_NAME = PROJECT_ID + \"ucaip-custom-\" + TIMESTAMP"
   ]
  },
  {
   "cell_type": "markdown",
   "metadata": {
    "id": "-EcIXiGsCePi"
   },
   "source": [
    "**Only if your bucket doesn't already exist**: Run the following cell to create your Cloud Storage bucket."
   ]
  },
  {
   "cell_type": "code",
   "execution_count": 9,
   "metadata": {
    "colab": {
     "base_uri": "https://localhost:8080/"
    },
    "id": "NIq7R4HZCfIc",
    "outputId": "2561a4a3-cb8f-4758-c317-b75f9b78fa1d"
   },
   "outputs": [
    {
     "name": "stdout",
     "output_type": "stream",
     "text": [
      "Creating gs://jk-ucaip-demos/...\n",
      "ServiceException: 409 Bucket jk-ucaip-demos already exists.\n"
     ]
    }
   ],
   "source": [
    "! gsutil mb -l $REGION gs://$BUCKET_NAME"
   ]
  },
  {
   "cell_type": "markdown",
   "metadata": {
    "id": "ucvCsknMCims"
   },
   "source": [
    "Finally, validate access to your Cloud Storage bucket by examining its contents:"
   ]
  },
  {
   "cell_type": "code",
   "execution_count": 10,
   "metadata": {
    "id": "vhOb7YnwClBb"
   },
   "outputs": [
    {
     "name": "stdout",
     "output_type": "stream",
     "text": [
      "                                 gs://jk-ucaip-demos/image-classifier-pipeline/\n"
     ]
    }
   ],
   "source": [
    "! gsutil ls -al gs://$BUCKET_NAME"
   ]
  },
  {
   "cell_type": "markdown",
   "metadata": {
    "id": "XoEqT2Y4DJmf"
   },
   "source": [
    "### Import libraries and define constants"
   ]
  },
  {
   "cell_type": "markdown",
   "metadata": {
    "id": "Y9Uo3tifg1kx"
   },
   "source": [
    "#### Import AI Platform (Unified) SDK\n",
    "\n",
    "Import the AI Platform (Unified) SDK into our python environment."
   ]
  },
  {
   "cell_type": "code",
   "execution_count": 11,
   "metadata": {
    "id": "pRUOFELefqf1"
   },
   "outputs": [],
   "source": [
    "import os\n",
    "import sys\n",
    "from google.protobuf import json_format\n",
    "\n",
    "from google.cloud.aiplatform import gapic as aip"
   ]
  },
  {
   "cell_type": "markdown",
   "metadata": {
    "id": "FQQMEjdMuPKJ"
   },
   "source": [
    "#### AI Platform (Unified) constants\n",
    "\n",
    "Let's now setup some constants for AI Platform (Unified):\n",
    "\n",
    "- `API_ENDPOINT`: The AI Platform (Unified) API service endpoint for dataset, model, job, pipeline and endpoint services.\n",
    "- `API_PREDICT_ENDPOINT`: The AI Platform (Unified) API service endpoint for prediction.\n",
    "- `PARENT`: The AI Platform (Unified) location root path for dataset, model and endpoint resources."
   ]
  },
  {
   "cell_type": "code",
   "execution_count": 12,
   "metadata": {
    "id": "PFGIer4cuPKJ"
   },
   "outputs": [],
   "source": [
    "# API Endpoint\n",
    "API_ENDPOINT = \"us-central1-aiplatform.googleapis.com\"\n",
    "API_PREDICT_ENDPOINT = \"us-central1-prediction-aiplatform.googleapis.com\"\n",
    "\n",
    "# AI Platform (Unified) location root path for your dataset, model and endpoint resources\n",
    "PARENT = \"projects/\" + PROJECT_ID + \"/locations/\" + REGION"
   ]
  },
  {
   "cell_type": "markdown",
   "metadata": {
    "id": "x6ZH-WzBuPKK"
   },
   "source": [
    "#### Custom Job constants\n",
    "\n",
    "#### Hardware Accelerators\n",
    "\n",
    "Let's now set the hardware accelerators (e.g., GPU), if any, for training and prediction.\n",
    "\n",
    "Set the variable `TRAIN_GPU/TRAIN_NGPU` and `DEPLOY_GPU/DEPLOY_NGPU` to use a container image supporting a GPU and the number of GPUs allocated to the compute instance. For example, to use a GPU container image with 4 Nvidia Telsa K80 GPUs allocated to each compute instance, you would specify:\n",
    "\n",
    "    (aip.AcceleratorType.NVIDIA_TESLA_K80, 4)\n",
    "\n",
    "For GPU, available accelerators include:\n",
    "   - aip.AcceleratorType.NVIDIA_TESLA_K80\n",
    "   - aip.AcceleratorType.NVIDIA_TESLA_P100\n",
    "   - aip.AcceleratorType.NVIDIA_TESLA_P4\n",
    "   - aip.AcceleratorType.NVIDIA_TESLA_T4\n",
    "   - aip.AcceleratorType.NVIDIA_TESLA_V100\n",
    "\n",
    "   \n",
    "Otherwise specify (`None, None`) for the container image for a CPU.\n",
    "   \n",
    "*Note*, TF releases before 2.3 for GPU support will fail to load the custom model in this tutorial. It is a known issue and fixed in TF 2.3 -- which is caused by static graph ops that are generated in the serving function. If you encounter this issue on your own custom models, the workaround is to create your own docker container image for TF 2.3 with GPU support."
   ]
  },
  {
   "cell_type": "code",
   "execution_count": 13,
   "metadata": {
    "id": "XW_0d4OPuPKK"
   },
   "outputs": [],
   "source": [
    "TRAIN_GPU, TRAIN_NGPU = (aip.AcceleratorType.NVIDIA_TESLA_K80, 1)\n",
    "DEPLOY_GPU, DEPLOY_NGPU = (None, None)"
   ]
  },
  {
   "cell_type": "markdown",
   "metadata": {
    "id": "2PzmnVByuPKK"
   },
   "source": [
    "#### Container (Docker) image\n",
    "\n",
    "Next, we will set the docker container images for training and prediction.\n",
    "\n",
    "- Set the variable `TF` to the Tensorflow version of the container image. For example, `2-1` would be version 2.1, and `1-15` would be version 1.15. Google Cloud continuously adds prebuilt training and prediction container images, below are some of the prebuilt images available:\n",
    "\n",
    " - Tensorflow 1.15\n",
    "   - `gcr.io/cloud-aiplatform/training/tf-cpu.1-15:latest`\n",
    "   - `gcr.io/cloud-aiplatform/training/tf-gpu.1-15:latest`\n",
    "   - `gcr.io/cloud-aiplatform/prediction/tf-cpu.1-15:latest`\n",
    "   - `gcr.io/cloud-aiplatform/prediction/tf-gpu.1-15:latest`\n",
    " - Tensorflow 2.1\n",
    "   - `gcr.io/cloud-aiplatform/training/tf-cpu.2-1:latest`\n",
    "   - `gcr.io/cloud-aiplatform/training/tf-gpu.2-1:latest`\n",
    "   - `gcr.io/cloud-aiplatform/prediction/tf2-cpu.2-1:latest`\n",
    "   - `gcr.io/cloud-aiplatform/predictiin/tf2-gpu.2-1:latest`\n",
    " - Tensorflow 2.2\n",
    "   - `gcr.io/cloud-aiplatform/training/tf-cpu.2-2:latest`\n",
    "   - `gcr.io/cloud-aiplatform/training/tf-gpu.2-2:latest`\n",
    "   - `gcr.io/cloud-aiplatform/prediction/tf2-cpu.2-2:latest`\n",
    "   - `gcr.io/cloud-aiplatform/predictiin/tf2-gpu.2-2:latest`\n",
    " - XGBoost\n",
    "   - `gcr.io/cloud-aiplatform/training/xgboost-cpu.1-1`\n",
    "   - `gcr.io/cloud-aiplatform/prediction/xgboost-cpu.1-1`\n",
    " - Scikit-learn\n",
    "   - `gcr.io/cloud-aiplatform/training/scikit-learn-cpu.0-23`\n",
    "   - `gcr.io/cloud-aiplatform/prediction/scikit-learn-cpu.0-23`\n",
    " - Pytorch\n",
    "   - `gcr.io/cloud-aiplatform/training/pytorch-cpu.1-4:latest`\n",
    "   - `gcr.io/cloud-aiplatform/training/pytorch-gpu.1-4:latest`\n",
    "   \n",
    "Google Cloud AI continously adds new training and prediction container images. For the lastest list, see [Pre-built containers for training](https://cloud.google.com/ai-platform-unified/docs/training/pre-built-containers) and [Pre-built containers for prediction](https://cloud.google.com/ai-platform-unified/docs/predictions/pre-built-containers)"
   ]
  },
  {
   "cell_type": "code",
   "execution_count": 14,
   "metadata": {
    "colab": {
     "base_uri": "https://localhost:8080/"
    },
    "id": "fAAlu1QZuPKK",
    "outputId": "50a346c7-96cd-4717-d0df-b86d5bbcb665"
   },
   "outputs": [
    {
     "name": "stdout",
     "output_type": "stream",
     "text": [
      "Training: gcr.io/cloud-aiplatform/training/tf-gpu.2-1:latest AcceleratorType.NVIDIA_TESLA_K80 1\n",
      "Deployment: gcr.io/cloud-aiplatform/prediction/tf2-cpu.2-1:latest None None\n"
     ]
    }
   ],
   "source": [
    "CUSTOM_TASK_GCS_PATH = \"gs://google-cloud-aiplatform/schema/trainingjob/definition/custom_task_1.0.0.yaml\"\n",
    "\n",
    "TF = '2-1'\n",
    "if TF[0] == '2':\n",
    "    if TRAIN_GPU:\n",
    "        TRAIN_VERSION = 'tf-gpu.{}'.format(TF)\n",
    "    else:\n",
    "        TRAIN_VERSION = 'tf-cpu.{}'.format(TF)\n",
    "    if DEPLOY_GPU:\n",
    "        DEPLOY_VERSION = 'tf2-gpu.{}'.format(TF)\n",
    "    else:\n",
    "        DEPLOY_VERSION = 'tf2-cpu.{}'.format(TF)\n",
    "else:\n",
    "    if TRAIN_GPU:\n",
    "        TRAIN_VERSION = 'tf-gpu.{}'.format(TF)\n",
    "    else:\n",
    "        TRAIN_VERSION = 'tf-cpu.{}'.format(TF)\n",
    "    if DEPLOY_GPU:\n",
    "        DEPLOY_VERSION = 'tf-gpu.{}'.format(TF)\n",
    "    else:\n",
    "        DEPLOY_VERSION = 'tf-cpu.{}'.format(TF)\n",
    "\n",
    "TRAIN_IMAGE  = \"gcr.io/cloud-aiplatform/training/{}:latest\".format(TRAIN_VERSION)\n",
    "DEPLOY_IMAGE = \"gcr.io/cloud-aiplatform/prediction/{}:latest\".format(DEPLOY_VERSION)\n",
    "\n",
    "print(\"Training:\", TRAIN_IMAGE, TRAIN_GPU, TRAIN_NGPU)\n",
    "print(\"Deployment:\", DEPLOY_IMAGE, DEPLOY_GPU, DEPLOY_NGPU)"
   ]
  },
  {
   "cell_type": "markdown",
   "metadata": {
    "id": "K-sgLp2EuPKL"
   },
   "source": [
    "#### Machine Type\n",
    "\n",
    "Next, you will set the machine type (compute instance) you will use for training and prediction.\n",
    "\n",
    "- Set the variables `TRAIN_COMPUTE` and `DEPLOY_COMPUTE` to the compute instance you will use for training and prediction.\n",
    " - `machine type`\n",
    "     - `n1-standard`: 3.75GB of memory per vCPU.\n",
    "     - `n1-highmem`: 6.5GB of memory per vCPU\n",
    "     - `n1-highcpu`: 0.9 GB of memoryn per vCPU\n",
    " - `vCPUs`: number of \\[2, 4, 8, 16, 32, 64, 96 \\]\n",
    " \n",
    "*Note, the following is not supported for training*\n",
    " \n",
    " - `standard`: 2 vCPUs\n",
    " - `highcpu`: 2, 4 and 8 vCPUs\n",
    " \n",
    "*Note, you may also use n2 and e2 machine types for training and deployment, but they do not support GPUs*"
   ]
  },
  {
   "cell_type": "code",
   "execution_count": 15,
   "metadata": {
    "colab": {
     "base_uri": "https://localhost:8080/"
    },
    "id": "h6Km0D_euPKL",
    "outputId": "d0870fe7-3cf6-4608-fbb5-676200b7682a"
   },
   "outputs": [
    {
     "name": "stdout",
     "output_type": "stream",
     "text": [
      "Train Compute Instance n1-standard-4\n",
      "Deploy Compute Instance n1-standard-4\n"
     ]
    }
   ],
   "source": [
    "MACHINE_TYPE = 'n1-standard'\n",
    "VCPU='4'\n",
    "TRAIN_COMPUTE = MACHINE_TYPE + '-' + VCPU\n",
    "print('Train Compute Instance', TRAIN_COMPUTE)\n",
    "\n",
    "MACHINE_TYPE = 'n1-standard'\n",
    "VCPU='4'\n",
    "DEPLOY_COMPUTE = MACHINE_TYPE + '-' + VCPU\n",
    "print('Deploy Compute Instance', DEPLOY_COMPUTE)"
   ]
  },
  {
   "cell_type": "markdown",
   "metadata": {
    "id": "E6ppE7imft-y"
   },
   "source": [
    "# Tutorial\n",
    "\n",
    "Now you are ready to start creating your own custom model and training using a pipeline for CIFAR10.\n",
    "\n",
    "## Clients\n",
    "\n",
    "The AI Platform (Unified) SDK works as a client/server model. On your side, the Python script, you will create a client that sends requests and receives responses from the server -- AI Platform.\n",
    "\n",
    "You will use several clients in this tutorial, so you will set them all up upfront.\n",
    "\n",
    "- Model Service for managed models.\n",
    "- Pipeline Service for training.\n",
    "- Endpoint Service for deployment.\n",
    "- Prediction Service for serving. *Note*, prediction has a different service endpoint."
   ]
  },
  {
   "cell_type": "code",
   "execution_count": 16,
   "metadata": {
    "colab": {
     "base_uri": "https://localhost:8080/"
    },
    "id": "AaRnhAMOuPKL",
    "outputId": "e7688e34-7462-4bdf-ab8d-54939aabdc02"
   },
   "outputs": [
    {
     "name": "stdout",
     "output_type": "stream",
     "text": [
      "('model', <google.cloud.aiplatform_v1beta1.services.model_service.client.ModelServiceClient object at 0x7febb070d3d0>)\n",
      "('pipeline', <google.cloud.aiplatform_v1beta1.services.pipeline_service.client.PipelineServiceClient object at 0x7febb070d410>)\n",
      "('endpoint', <google.cloud.aiplatform_v1beta1.services.endpoint_service.client.EndpointServiceClient object at 0x7febb070d450>)\n",
      "('prediction', <google.cloud.aiplatform_v1beta1.services.prediction_service.client.PredictionServiceClient object at 0x7feb58d4e750>)\n"
     ]
    }
   ],
   "source": [
    "# client options same for all services\n",
    "client_options = {\"api_endpoint\": API_ENDPOINT}\n",
    "predict_client_options = {\"api_endpoint\": API_PREDICT_ENDPOINT}\n",
    "\n",
    "\n",
    "def create_model_client():\n",
    "    client = aip.ModelServiceClient(\n",
    "        client_options=client_options\n",
    "    )\n",
    "    return client\n",
    "\n",
    "\n",
    "def create_pipeline_client():\n",
    "    client = aip.PipelineServiceClient(\n",
    "        client_options=client_options\n",
    "    )\n",
    "    return client\n",
    "\n",
    "\n",
    "def create_endpoint_client():\n",
    "    client = aip.EndpointServiceClient(\n",
    "        client_options=client_options\n",
    "    )\n",
    "    return client\n",
    "\n",
    "\n",
    "def create_prediction_client():\n",
    "    client = aip.PredictionServiceClient(\n",
    "        client_options=predict_client_options\n",
    "    )\n",
    "    return client\n",
    "\n",
    "\n",
    "clients = {}\n",
    "clients['model'] = create_model_client()\n",
    "clients['pipeline'] = create_pipeline_client()\n",
    "clients['endpoint'] = create_endpoint_client()\n",
    "clients['prediction'] = create_prediction_client()\n",
    "\n",
    "for client in clients.items():\n",
    "    print(client)"
   ]
  },
  {
   "cell_type": "markdown",
   "metadata": {
    "id": "MiekuyO3uPKL"
   },
   "source": [
    "## Prepare your custom job specification\n",
    "\n",
    "Now that your clients are ready, your first step is to create a Job Specification for your custom training job.\n",
    "\n",
    "You are going to start by constructing a training job what we can call an **empty job**. That is, you will create a job specification that provisions resources for training a job. \n",
    "\n",
    "You do this so you can first focus on understanding the basic steps. Afterwards, you will repeat again with a focus on adding the Python training package for training a CIFAR10 custom model.\n",
    "\n",
    "### Define the container specification\n",
    "\n",
    "Let's first start by defining a job name and then a container specification:\n",
    "\n",
    "- `JOB_NAME`: A unique name for your custom training job. For convenience, we appended the name with the current datetime to make the name unique.\n",
    "- `MODEL_DIR`: A location in your Cloud Storage bucket for storing the model artificats.\n",
    "- `image_uri`: The location of the container image in your local Cloud Storage bucket. This can be either a Google Cloud prebuilt image or your own custom container.\n",
    "- `--model-dir`: A command line parameter to the container indicating the location to store the model."
   ]
  },
  {
   "cell_type": "code",
   "execution_count": 17,
   "metadata": {
    "id": "cIhvQEwhuPKL"
   },
   "outputs": [],
   "source": [
    "JOB_NAME = \"custom_job_\" + TIMESTAMP\n",
    "MODEL_DIR = 'gs://{}/{}'.format(BUCKET_NAME, JOB_NAME)\n",
    "CONTAINER_SPEC = {\n",
    "    \"image_uri\": TRAIN_IMAGE, \n",
    "    \"args\": [\n",
    "        \"--model-dir=\" + MODEL_DIR\n",
    "    ],\n",
    "}"
   ]
  },
  {
   "cell_type": "markdown",
   "metadata": {
    "id": "lXznEk87uPKM"
   },
   "source": [
    "### Define the worker pool specification\n",
    "\n",
    "\n",
    "Next, you define the worker pool specification for your custom training job. This tells AI Platform what type and how many instances of machines to provision for the training.\n",
    "\n",
    "For this tutorial, you will use a single instance (node). \n",
    "\n",
    "- `replica_count`: The number of instances to provision of this machine type.\n",
    "- `machine_type`: The type of GCP instance to provision -- e.g., n1-standard-8.\n",
    "- `accelerator_type`: The type, if any, of hardware accelerator. \n",
    "- `accelerator_count`: The number of accelerators.\n",
    "- `container_spec`: The docker container to install on the instance(s)."
   ]
  },
  {
   "cell_type": "code",
   "execution_count": 18,
   "metadata": {
    "id": "9YLB9XIVuPKM"
   },
   "outputs": [],
   "source": [
    "if TRAIN_GPU:\n",
    "    machine_spec = {\n",
    "        \"machine_type\": TRAIN_COMPUTE,\n",
    "        \"accelerator_type\": TRAIN_GPU,\n",
    "        \"accelerator_count\": TRAIN_NGPU\n",
    "    }\n",
    "else:\n",
    "    machine_spec = {\n",
    "        \"machine_type\": TRAIN_COMPUTE,\n",
    "        \"accelerator_count\": 0\n",
    "    }\n",
    "\n",
    "WORKER_POOL_SPEC = [\n",
    "    {\n",
    "        \"replica_count\": 1,\n",
    "        \"machine_spec\": machine_spec,\n",
    "        \"container_spec\": CONTAINER_SPEC,\n",
    "    }\n",
    "]"
   ]
  },
  {
   "cell_type": "markdown",
   "metadata": {
    "id": "i65gaFCMuPKM"
   },
   "source": [
    "If you were doing distributed training, you would add a second machine description and set the replica count accordingly. In the example below, the first machine descrption is the primary (coordinator), and the second ones are the machines the training is distributed to.\n",
    "\n",
    "```\n",
    "WORKER_POOL_SPEC=[\n",
    "     {\n",
    "        \"replica_count\": 1,\n",
    "        \"machine_spec\": {\n",
    "          \"machine_type\": \"n1-standard-8\"\n",
    "        },\n",
    "        \"container_spec\":  CONTAINER_SPEC,\n",
    "      },\n",
    "      {\n",
    "        \"replica_count\": 6,\n",
    "        \"machine_spec\": {\n",
    "          \"machine_type\": \"n1-standard-8\"\n",
    "        },\n",
    "        \"container_spec\": CONTAINER_SPEC\n",
    "      }\n",
    "]\n",
    "```"
   ]
  },
  {
   "cell_type": "markdown",
   "metadata": {
    "id": "QJAa9H4OuPKM"
   },
   "source": [
    "### Assemble the job specification\n",
    "\n",
    "Let's now assemble the description for the custom job specification.\n",
    "\n",
    "- `display_name`: The human readable name you assign to this custom job.\n",
    "- `job_spec`: The specification for the custom job. Since this is an empty job, you only specified the resource requirements."
   ]
  },
  {
   "cell_type": "code",
   "execution_count": 19,
   "metadata": {
    "id": "OwvIBy2ouPKM"
   },
   "outputs": [],
   "source": [
    "CUSTOM_JOB = {\n",
    "    \"display_name\": JOB_NAME,\n",
    "    \"job_spec\": {\n",
    "        \"worker_pool_specs\": WORKER_POOL_SPEC\n",
    "    }\n",
    "}"
   ]
  },
  {
   "cell_type": "markdown",
   "metadata": {
    "id": "GC-IDM7ouPKM"
   },
   "source": [
    "## Train the model using a training pipeline\n",
    "\n",
    "Let's now start the training of your custom training job using a training pipeline on AI Platform. To train the your custom model, do the following steps:\n",
    "\n",
    "1. Create a AI Platform (Unified) managed training pipeline for the dataset.\n",
    "2. Execute the pipeline to start the training -- *we skip this step for the empty job*.\n",
    "\n",
    "### Create a training pipeline\n",
    "\n",
    "You may ask, what do we use a pipeline for? We typically use pipelines when the job (such as training) has multiple steps, generally in sequential order: do step A, do step B, etc. By putting the steps into a pipeline, we gain the benefits of:\n",
    "\n",
    "1. Reusable for subsequent training jobs.\n",
    "2. Can be containerized and ran as a batch job.\n",
    "3. Can be distributed.\n",
    "4. All the steps are associated with the same pipeline job for tracking progress.\n",
    "\n",
    "#### The training pipeline specification\n",
    "\n",
    "First, you need to describe a pipeline specification. Let's look into the *minimal* requirements for constructing a `training_pipeline` specification for a custom job:\n",
    "\n",
    "- `display_name`: A human readable name for the pipeline job.\n",
    "- `training_task_definition`: The dataset labeling (annotation) schema.\n",
    "- `training_task_inputs`: A dictionary describing the requirements for the training job.\n",
    "- `model_to_upload`: A dictionary describing the specification for the (uploaded) AI Platform (Unified) model.\n",
    " - `display_name`: A human readable name for the model.\n",
    " - `artificat_uri`: The Cloud Storage path where the model is stored in SavedModel format. \n",
    " - `container_spec`: This is the specification for the docker container that will be installed on the endpoint, from which the model will serve predictions.\n"
   ]
  },
  {
   "cell_type": "code",
   "execution_count": 20,
   "metadata": {
    "colab": {
     "base_uri": "https://localhost:8080/"
    },
    "id": "HijBYVICuPKM",
    "outputId": "87d3cd82-45c1-4602-bffe-4a335941dd97"
   },
   "outputs": [
    {
     "name": "stdout",
     "output_type": "stream",
     "text": [
      "{'display_name': 'custom-training-pipeline20210209062832', 'training_task_definition': 'gs://google-cloud-aiplatform/schema/trainingjob/definition/custom_task_1.0.0.yaml', 'training_task_inputs': struct_value {\n",
      "  fields {\n",
      "    key: \"workerPoolSpecs\"\n",
      "    value {\n",
      "      list_value {\n",
      "        values {\n",
      "          struct_value {\n",
      "            fields {\n",
      "              key: \"container_spec\"\n",
      "              value {\n",
      "                struct_value {\n",
      "                  fields {\n",
      "                    key: \"args\"\n",
      "                    value {\n",
      "                      list_value {\n",
      "                        values {\n",
      "                          string_value: \"--model-dir=gs://jk-ucaip-demos/custom_job_20210209062832\"\n",
      "                        }\n",
      "                      }\n",
      "                    }\n",
      "                  }\n",
      "                  fields {\n",
      "                    key: \"image_uri\"\n",
      "                    value {\n",
      "                      string_value: \"gcr.io/cloud-aiplatform/training/tf-gpu.2-1:latest\"\n",
      "                    }\n",
      "                  }\n",
      "                }\n",
      "              }\n",
      "            }\n",
      "            fields {\n",
      "              key: \"machine_spec\"\n",
      "              value {\n",
      "                struct_value {\n",
      "                  fields {\n",
      "                    key: \"accelerator_count\"\n",
      "                    value {\n",
      "                      number_value: 1.0\n",
      "                    }\n",
      "                  }\n",
      "                  fields {\n",
      "                    key: \"accelerator_type\"\n",
      "                    value {\n",
      "                      number_value: 1.0\n",
      "                    }\n",
      "                  }\n",
      "                  fields {\n",
      "                    key: \"machine_type\"\n",
      "                    value {\n",
      "                      string_value: \"n1-standard-4\"\n",
      "                    }\n",
      "                  }\n",
      "                }\n",
      "              }\n",
      "            }\n",
      "            fields {\n",
      "              key: \"replica_count\"\n",
      "              value {\n",
      "                number_value: 1.0\n",
      "              }\n",
      "            }\n",
      "          }\n",
      "        }\n",
      "      }\n",
      "    }\n",
      "  }\n",
      "}\n",
      ", 'model_to_upload': {'display_name': 'custom-training-pipeline20210209062832-model', 'artifact_uri': 'gs://jk-ucaip-demos/custom_job_20210209062832', 'container_spec': {'image_uri': 'gcr.io/cloud-aiplatform/prediction/tf2-cpu.2-1:latest', 'command': ['/bin/tensorflow_model_server'], 'args': ['--model_name=custom_pipeline-20210209062832', '--model_base_path=gs://jk-ucaip-demos/custom_job_20210209062832', '--rest_api_port=8080', '--port=8500', '--file_system_poll_wait_seconds=31540000']}}}\n"
     ]
    }
   ],
   "source": [
    "from google.protobuf import json_format\n",
    "from google.protobuf.struct_pb2 import Value\n",
    "\n",
    "MODEL_NAME = 'custom_pipeline-' + TIMESTAMP\n",
    "PIPELINE_DISPLAY_NAME = 'custom-training-pipeline' + TIMESTAMP\n",
    "\n",
    "training_task_inputs = json_format.ParseDict({\"workerPoolSpecs\": WORKER_POOL_SPEC},\n",
    "                                             Value())\n",
    "pipeline = {\n",
    "    \"display_name\": PIPELINE_DISPLAY_NAME,\n",
    "    \"training_task_definition\": CUSTOM_TASK_GCS_PATH,\n",
    "    \"training_task_inputs\": training_task_inputs,\n",
    "    \"model_to_upload\": {\n",
    "        \"display_name\": PIPELINE_DISPLAY_NAME + '-model',\n",
    "        \"artifact_uri\": MODEL_DIR,\n",
    "        \"container_spec\": {\n",
    "            \"image_uri\": DEPLOY_IMAGE,\n",
    "            \"command\": [\"/bin/tensorflow_model_server\"],\n",
    "            \"args\": [\n",
    "                \"--model_name=\" + MODEL_NAME,\n",
    "                \"--model_base_path=\" + MODEL_DIR,\n",
    "                \"--rest_api_port=8080\",\n",
    "                \"--port=8500\",\n",
    "                \"--file_system_poll_wait_seconds=31540000\"\n",
    "            ],\n",
    "        }\n",
    "    },\n",
    "}\n",
    "\n",
    "print(pipeline)"
   ]
  },
  {
   "cell_type": "markdown",
   "metadata": {
    "id": "2LFKm_IkuPKN"
   },
   "source": [
    "#### Create the training pipeline\n",
    "\n",
    "Use this helper function `create_pipeline`, which takes the parameter:\n",
    "\n",
    "- `training_pipeline`: the full specification for the pipeline training job.\n",
    "\n",
    "The helper function uses the AI Platform (Unified) pipeline client service, calling the method `create_pipeline`, which takes the parameters:\n",
    "\n",
    "- `parent`: The AI Platform (Unified) location root path for your dataset, model and endpoint resources.\n",
    "- `training_pipeline`: the full specification for the pipeline training job.\n",
    "\n",
    "The helper function will return the AI Platform (Unified) fully qualified identifier assigned to the training pipeline, which is saved as `PIPELINE_NAME`."
   ]
  },
  {
   "cell_type": "code",
   "execution_count": 21,
   "metadata": {
    "colab": {
     "base_uri": "https://localhost:8080/"
    },
    "id": "HTfcRGUNuPKN",
    "outputId": "8a55cb7d-91f7-4a8f-c2f1-17154cb5bcfe"
   },
   "outputs": [
    {
     "name": "stdout",
     "output_type": "stream",
     "text": [
      "name: \"projects/895222332033/locations/us-central1/trainingPipelines/3659649686261727232\"\n",
      "display_name: \"custom-training-pipeline20210209062832\"\n",
      "training_task_definition: \"gs://google-cloud-aiplatform/schema/trainingjob/definition/custom_task_1.0.0.yaml\"\n",
      "training_task_inputs {\n",
      "  struct_value {\n",
      "    fields {\n",
      "      key: \"workerPoolSpecs\"\n",
      "      value {\n",
      "        list_value {\n",
      "          values {\n",
      "            struct_value {\n",
      "              fields {\n",
      "                key: \"containerSpec\"\n",
      "                value {\n",
      "                  struct_value {\n",
      "                    fields {\n",
      "                      key: \"args\"\n",
      "                      value {\n",
      "                        list_value {\n",
      "                          values {\n",
      "                            string_value: \"--model-dir=gs://jk-ucaip-demos/custom_job_20210209062832\"\n",
      "                          }\n",
      "                        }\n",
      "                      }\n",
      "                    }\n",
      "                    fields {\n",
      "                      key: \"imageUri\"\n",
      "                      value {\n",
      "                        string_value: \"gcr.io/cloud-aiplatform/training/tf-gpu.2-1:latest\"\n",
      "                      }\n",
      "                    }\n",
      "                  }\n",
      "                }\n",
      "              }\n",
      "              fields {\n",
      "                key: \"diskSpec\"\n",
      "                value {\n",
      "                  struct_value {\n",
      "                    fields {\n",
      "                      key: \"bootDiskSizeGb\"\n",
      "                      value {\n",
      "                        number_value: 100.0\n",
      "                      }\n",
      "                    }\n",
      "                    fields {\n",
      "                      key: \"bootDiskType\"\n",
      "                      value {\n",
      "                        string_value: \"pd-ssd\"\n",
      "                      }\n",
      "                    }\n",
      "                  }\n",
      "                }\n",
      "              }\n",
      "              fields {\n",
      "                key: \"machineSpec\"\n",
      "                value {\n",
      "                  struct_value {\n",
      "                    fields {\n",
      "                      key: \"acceleratorCount\"\n",
      "                      value {\n",
      "                        number_value: 1.0\n",
      "                      }\n",
      "                    }\n",
      "                    fields {\n",
      "                      key: \"acceleratorType\"\n",
      "                      value {\n",
      "                        string_value: \"NVIDIA_TESLA_K80\"\n",
      "                      }\n",
      "                    }\n",
      "                    fields {\n",
      "                      key: \"machineType\"\n",
      "                      value {\n",
      "                        string_value: \"n1-standard-4\"\n",
      "                      }\n",
      "                    }\n",
      "                  }\n",
      "                }\n",
      "              }\n",
      "              fields {\n",
      "                key: \"replicaCount\"\n",
      "                value {\n",
      "                  string_value: \"1\"\n",
      "                }\n",
      "              }\n",
      "            }\n",
      "          }\n",
      "        }\n",
      "      }\n",
      "    }\n",
      "  }\n",
      "}\n",
      "model_to_upload {\n",
      "  display_name: \"custom-training-pipeline20210209062832-model\"\n",
      "  predict_schemata {\n",
      "  }\n",
      "  container_spec {\n",
      "    image_uri: \"gcr.io/cloud-aiplatform/prediction/tf2-cpu.2-1:latest\"\n",
      "    command: \"/bin/tensorflow_model_server\"\n",
      "    args: \"--model_name=custom_pipeline-20210209062832\"\n",
      "    args: \"--model_base_path=gs://jk-ucaip-demos/custom_job_20210209062832\"\n",
      "    args: \"--rest_api_port=8080\"\n",
      "    args: \"--port=8500\"\n",
      "    args: \"--file_system_poll_wait_seconds=31540000\"\n",
      "  }\n",
      "  artifact_uri: \"gs://jk-ucaip-demos/custom_job_20210209062832\"\n",
      "}\n",
      "state: PIPELINE_STATE_PENDING\n",
      "create_time {\n",
      "  seconds: 1612852132\n",
      "  nanos: 129582000\n",
      "}\n",
      "update_time {\n",
      "  seconds: 1612852132\n",
      "  nanos: 129582000\n",
      "}\n",
      "\n"
     ]
    }
   ],
   "source": [
    "def create_pipeline(training_pipeline):\n",
    "\n",
    "    try:\n",
    "        pipeline = clients['pipeline'].create_training_pipeline(parent=PARENT, training_pipeline=training_pipeline)\n",
    "        print(pipeline)\n",
    "    except Exception as e:\n",
    "        print(\"exception:\", e)\n",
    "        return None\n",
    "    return pipeline.name\n",
    "\n",
    "\n",
    "PIPELINE_NAME = create_pipeline(pipeline)"
   ]
  },
  {
   "cell_type": "markdown",
   "metadata": {
    "id": "Yt66Jt9duPKN"
   },
   "source": [
    "### List all training pipelines\n",
    "\n",
    "Your training pipeline is now executing on Google Cloud AI Platform. Let's start by getting a list of all your pipelines and corresponding execution state. You likely only have one, but if you been experimenting with this tutorial or otherwise have used AI Platform (Unified) pipelines previously, you will see those as well.\n",
    "\n",
    "Use this helper function `list_training_pipeline`. This function uses the pipeline client service and calls the method `list_training_pipelines`, with the parameter:\n",
    "\n",
    "- `parent`: The AI Platform (Unified) location root path for your dataset, model and endpoint resources.\n",
    "\n",
    "The method returns a `response object` as a list, where every element in the list is a pipeline object instance. The field we are most interest in is `response.state`, which should be at this early point: `PIPELINE_STATE_RUNNING` -- which means the model is being trained, but not completed. \n",
    "\n",
    "You could also see `PIPELINE_STATE_PENDING`, which indicates either the service has not yet finished provisioning the resources for the training job, or that the training job is momentarily been paused."
   ]
  },
  {
   "cell_type": "code",
   "execution_count": 22,
   "metadata": {
    "colab": {
     "base_uri": "https://localhost:8080/"
    },
    "id": "A1TQshA-uPKO",
    "outputId": "46c4b8de-d510-457b-d49a-f33c2312923b"
   },
   "outputs": [
    {
     "name": "stdout",
     "output_type": "stream",
     "text": [
      "pipeline\n",
      " name: projects/895222332033/locations/us-central1/trainingPipelines/3659649686261727232\n",
      " display_name: custom-training-pipeline20210209062832\n",
      " training_task_definition: gs://google-cloud-aiplatform/schema/trainingjob/definition/custom_task_1.0.0.yaml\n",
      " training_task_inputs: {'workerPoolSpecs': [struct_value {\n",
      "  fields {\n",
      "    key: \"containerSpec\"\n",
      "    value {\n",
      "      struct_value {\n",
      "        fields {\n",
      "          key: \"args\"\n",
      "          value {\n",
      "            list_value {\n",
      "              values {\n",
      "                string_value: \"--model-dir=gs://jk-ucaip-demos/custom_job_20210209062832\"\n",
      "              }\n",
      "            }\n",
      "          }\n",
      "        }\n",
      "        fields {\n",
      "          key: \"imageUri\"\n",
      "          value {\n",
      "            string_value: \"gcr.io/cloud-aiplatform/training/tf-gpu.2-1:latest\"\n",
      "          }\n",
      "        }\n",
      "      }\n",
      "    }\n",
      "  }\n",
      "  fields {\n",
      "    key: \"diskSpec\"\n",
      "    value {\n",
      "      struct_value {\n",
      "        fields {\n",
      "          key: \"bootDiskSizeGb\"\n",
      "          value {\n",
      "            number_value: 100.0\n",
      "          }\n",
      "        }\n",
      "        fields {\n",
      "          key: \"bootDiskType\"\n",
      "          value {\n",
      "            string_value: \"pd-ssd\"\n",
      "          }\n",
      "        }\n",
      "      }\n",
      "    }\n",
      "  }\n",
      "  fields {\n",
      "    key: \"machineSpec\"\n",
      "    value {\n",
      "      struct_value {\n",
      "        fields {\n",
      "          key: \"acceleratorCount\"\n",
      "          value {\n",
      "            number_value: 1.0\n",
      "          }\n",
      "        }\n",
      "        fields {\n",
      "          key: \"acceleratorType\"\n",
      "          value {\n",
      "            string_value: \"NVIDIA_TESLA_K80\"\n",
      "          }\n",
      "        }\n",
      "        fields {\n",
      "          key: \"machineType\"\n",
      "          value {\n",
      "            string_value: \"n1-standard-4\"\n",
      "          }\n",
      "        }\n",
      "      }\n",
      "    }\n",
      "  }\n",
      "  fields {\n",
      "    key: \"replicaCount\"\n",
      "    value {\n",
      "      string_value: \"1\"\n",
      "    }\n",
      "  }\n",
      "}\n",
      "]}\n",
      " state: PipelineState.PIPELINE_STATE_RUNNING\n",
      " create_time: 2021-02-09 06:28:52.129582+00:00\n",
      " start_time: 2021-02-09 06:28:52.265762+00:00\n",
      " end_time: None\n",
      " update_time: 2021-02-09 06:28:52.410126+00:00\n",
      " labels: {}\n",
      "pipeline\n",
      " name: projects/895222332033/locations/us-central1/trainingPipelines/1245720285991141376\n",
      " display_name: image-classifier-pipeline\n",
      " training_task_definition: gs://google-cloud-aiplatform/schema/trainingjob/definition/custom_task_1.0.0.yaml\n",
      " training_task_inputs: {'baseOutputDirectory': <proto.marshal.collections.maps.MapComposite object at 0x7febb06cd050>, 'workerPoolSpecs': [struct_value {\n",
      "  fields {\n",
      "    key: \"containerSpec\"\n",
      "    value {\n",
      "      struct_value {\n",
      "        fields {\n",
      "          key: \"args\"\n",
      "          value {\n",
      "            list_value {\n",
      "              values {\n",
      "                string_value: \"--num-epochs=10\"\n",
      "              }\n",
      "            }\n",
      "          }\n",
      "        }\n",
      "        fields {\n",
      "          key: \"imageUri\"\n",
      "          value {\n",
      "            string_value: \"gcr.io/jk-mlops-dev/image_classifier\"\n",
      "          }\n",
      "        }\n",
      "      }\n",
      "    }\n",
      "  }\n",
      "  fields {\n",
      "    key: \"diskSpec\"\n",
      "    value {\n",
      "      struct_value {\n",
      "        fields {\n",
      "          key: \"bootDiskSizeGb\"\n",
      "          value {\n",
      "            number_value: 100.0\n",
      "          }\n",
      "        }\n",
      "        fields {\n",
      "          key: \"bootDiskType\"\n",
      "          value {\n",
      "            string_value: \"pd-ssd\"\n",
      "          }\n",
      "        }\n",
      "      }\n",
      "    }\n",
      "  }\n",
      "  fields {\n",
      "    key: \"machineSpec\"\n",
      "    value {\n",
      "      struct_value {\n",
      "        fields {\n",
      "          key: \"acceleratorCount\"\n",
      "          value {\n",
      "            number_value: 1.0\n",
      "          }\n",
      "        }\n",
      "        fields {\n",
      "          key: \"acceleratorType\"\n",
      "          value {\n",
      "            string_value: \"NVIDIA_TESLA_K80\"\n",
      "          }\n",
      "        }\n",
      "        fields {\n",
      "          key: \"machineType\"\n",
      "          value {\n",
      "            string_value: \"n1-standard-4\"\n",
      "          }\n",
      "        }\n",
      "      }\n",
      "    }\n",
      "  }\n",
      "  fields {\n",
      "    key: \"replicaCount\"\n",
      "    value {\n",
      "      string_value: \"1\"\n",
      "    }\n",
      "  }\n",
      "}\n",
      "]}\n",
      " state: PipelineState.PIPELINE_STATE_SUCCEEDED\n",
      " create_time: 2021-02-09 04:45:04.753475+00:00\n",
      " start_time: 2021-02-09 04:45:04.946786+00:00\n",
      " end_time: 2021-02-09 05:04:32.858826+00:00\n",
      " update_time: 2021-02-09 05:04:32.858826+00:00\n",
      " labels: {}\n",
      "pipeline\n",
      " name: projects/895222332033/locations/us-central1/trainingPipelines/3020982964105248768\n",
      " display_name: flowers-dataset_20212415951\n",
      " training_task_definition: gs://google-cloud-aiplatform/schema/trainingjob/definition/automl_image_classification_1.0.0.yaml\n",
      " training_task_inputs: {'modelType': 'CLOUD', 'budgetMilliNodeHours': '8000'}\n",
      " state: PipelineState.PIPELINE_STATE_SUCCEEDED\n",
      " create_time: 2021-02-04 15:10:13.336765+00:00\n",
      " start_time: 2021-02-04 15:10:13.676034+00:00\n",
      " end_time: 2021-02-04 15:39:12.448339+00:00\n",
      " update_time: 2021-02-04 15:39:12.448339+00:00\n",
      " labels: {}\n",
      "pipeline\n",
      " name: projects/895222332033/locations/us-central1/trainingPipelines/2340939420372303872\n",
      " display_name: flowers-dataset_20212434156\n",
      " training_task_definition: gs://google-cloud-aiplatform/schema/trainingjob/definition/automl_image_classification_1.0.0.yaml\n",
      " training_task_inputs: {'modelType': 'CLOUD', 'budgetMilliNodeHours': '8000'}\n",
      " state: PipelineState.PIPELINE_STATE_SUCCEEDED\n",
      " create_time: 2021-02-04 03:42:32.969988+00:00\n",
      " start_time: 2021-02-04 03:42:33.508852+00:00\n",
      " end_time: 2021-02-04 04:06:35.536417+00:00\n",
      " update_time: 2021-02-04 04:06:35.536417+00:00\n",
      " labels: {}\n",
      "pipeline\n",
      " name: projects/895222332033/locations/us-central1/trainingPipelines/2705168040235892736\n",
      " display_name: image-classifier-pipeline\n",
      " training_task_definition: gs://google-cloud-aiplatform/schema/trainingjob/definition/custom_task_1.0.0.yaml\n",
      " training_task_inputs: {'baseOutputDirectory': <proto.marshal.collections.maps.MapComposite object at 0x7febb06cd5d0>, 'workerPoolSpecs': [struct_value {\n",
      "  fields {\n",
      "    key: \"containerSpec\"\n",
      "    value {\n",
      "      struct_value {\n",
      "        fields {\n",
      "          key: \"args\"\n",
      "          value {\n",
      "            list_value {\n",
      "              values {\n",
      "                string_value: \"--num-epochs=5\"\n",
      "              }\n",
      "            }\n",
      "          }\n",
      "        }\n",
      "        fields {\n",
      "          key: \"imageUri\"\n",
      "          value {\n",
      "            string_value: \"gcr.io/jk-mlops-dev/image_classifier\"\n",
      "          }\n",
      "        }\n",
      "      }\n",
      "    }\n",
      "  }\n",
      "  fields {\n",
      "    key: \"diskSpec\"\n",
      "    value {\n",
      "      struct_value {\n",
      "        fields {\n",
      "          key: \"bootDiskSizeGb\"\n",
      "          value {\n",
      "            number_value: 100.0\n",
      "          }\n",
      "        }\n",
      "        fields {\n",
      "          key: \"bootDiskType\"\n",
      "          value {\n",
      "            string_value: \"pd-ssd\"\n",
      "          }\n",
      "        }\n",
      "      }\n",
      "    }\n",
      "  }\n",
      "  fields {\n",
      "    key: \"machineSpec\"\n",
      "    value {\n",
      "      struct_value {\n",
      "        fields {\n",
      "          key: \"acceleratorCount\"\n",
      "          value {\n",
      "            number_value: 1.0\n",
      "          }\n",
      "        }\n",
      "        fields {\n",
      "          key: \"acceleratorType\"\n",
      "          value {\n",
      "            string_value: \"NVIDIA_TESLA_K80\"\n",
      "          }\n",
      "        }\n",
      "        fields {\n",
      "          key: \"machineType\"\n",
      "          value {\n",
      "            string_value: \"n1-standard-4\"\n",
      "          }\n",
      "        }\n",
      "      }\n",
      "    }\n",
      "  }\n",
      "  fields {\n",
      "    key: \"replicaCount\"\n",
      "    value {\n",
      "      string_value: \"1\"\n",
      "    }\n",
      "  }\n",
      "}\n",
      "]}\n",
      " state: PipelineState.PIPELINE_STATE_SUCCEEDED\n",
      " create_time: 2021-02-04 03:28:32.345213+00:00\n",
      " start_time: 2021-02-04 03:28:32.422049+00:00\n",
      " end_time: 2021-02-04 03:46:57.592312+00:00\n",
      " update_time: 2021-02-04 03:46:57.592312+00:00\n",
      " labels: {}\n",
      "pipeline\n",
      " name: projects/895222332033/locations/us-central1/trainingPipelines/4232451263867912192\n",
      " display_name: flowers_202122211927-edge\n",
      " training_task_definition: gs://google-cloud-aiplatform/schema/trainingjob/definition/automl_image_classification_1.0.0.yaml\n",
      " training_task_inputs: {'budgetMilliNodeHours': '8000', 'modelType': 'MOBILE_TF_VERSATILE_1'}\n",
      " state: PipelineState.PIPELINE_STATE_SUCCEEDED\n",
      " create_time: 2021-02-02 21:19:48.268682+00:00\n",
      " start_time: 2021-02-02 21:19:48.474307+00:00\n",
      " end_time: 2021-02-02 22:53:52.572883+00:00\n",
      " update_time: 2021-02-02 22:53:52.572883+00:00\n",
      " labels: {}\n",
      "pipeline\n",
      " name: projects/895222332033/locations/us-central1/trainingPipelines/2411871114503389184\n",
      " display_name: flowers_20212220720\n",
      " training_task_definition: gs://google-cloud-aiplatform/schema/trainingjob/definition/automl_image_classification_1.0.0.yaml\n",
      " training_task_inputs: {'budgetMilliNodeHours': '8000', 'modelType': 'CLOUD'}\n",
      " state: PipelineState.PIPELINE_STATE_SUCCEEDED\n",
      " create_time: 2021-02-02 20:07:45.425025+00:00\n",
      " start_time: 2021-02-02 20:07:54.551476+00:00\n",
      " end_time: 2021-02-02 20:36:53.454021+00:00\n",
      " update_time: 2021-02-02 20:36:53.454021+00:00\n",
      " labels: {}\n"
     ]
    }
   ],
   "source": [
    "def list_training_pipeline():\n",
    "\n",
    "    response = clients['pipeline'].list_training_pipelines(parent=PARENT)\n",
    "    for pipeline in response:\n",
    "        print(\"pipeline\")\n",
    "        print(\" name:\", pipeline.name)\n",
    "        print(\" display_name:\", pipeline.display_name)\n",
    "        print(\" training_task_definition:\", pipeline.training_task_definition)\n",
    "        print(\" training_task_inputs:\", dict(pipeline.training_task_inputs))\n",
    "        print(\" state:\", pipeline.state)\n",
    "        print(\" create_time:\", pipeline.create_time)\n",
    "        print(\" start_time:\", pipeline.start_time)\n",
    "        print(\" end_time:\", pipeline.end_time)\n",
    "        print(\" update_time:\", pipeline.update_time)\n",
    "        print(\" labels:\", dict(pipeline.labels))\n",
    "\n",
    "\n",
    "list_training_pipeline()"
   ]
  },
  {
   "cell_type": "markdown",
   "metadata": {
    "id": "XYgzWeCcuPKO"
   },
   "source": [
    "### Get information on a training Pipeline\n",
    "\n",
    "Let's now get pipeline information for just this training pipeline instance. Use the pipeline client service and invoke the `get_training_pipeline` method, with the parameter:\n",
    "\n",
    "- `name`: The AI Platform (Unified) fully qualified pipeline identifier.\n",
    "\n",
    "When the model is done training, the pipeline state will be `PIPELINE_STATE_SUCCEEDED`.\n",
    "\n",
    "Because no model is being training, your *empty job* will return status `PIPELINE_STATE_FAILED`, due to no produced model artificat."
   ]
  },
  {
   "cell_type": "code",
   "execution_count": 23,
   "metadata": {
    "colab": {
     "base_uri": "https://localhost:8080/"
    },
    "id": "xb3HBI2kuPKO",
    "outputId": "f6712caa-1d2d-4c52-eda5-22482f3f3635"
   },
   "outputs": [
    {
     "name": "stdout",
     "output_type": "stream",
     "text": [
      "pipeline\n",
      " name: projects/895222332033/locations/us-central1/trainingPipelines/3659649686261727232\n",
      " display_name: custom-training-pipeline20210209062832\n",
      " state: PipelineState.PIPELINE_STATE_RUNNING\n",
      " training_task_definition: gs://google-cloud-aiplatform/schema/trainingjob/definition/custom_task_1.0.0.yaml\n",
      " training_task_inputs: {'workerPoolSpecs': [struct_value {\n",
      "  fields {\n",
      "    key: \"containerSpec\"\n",
      "    value {\n",
      "      struct_value {\n",
      "        fields {\n",
      "          key: \"args\"\n",
      "          value {\n",
      "            list_value {\n",
      "              values {\n",
      "                string_value: \"--model-dir=gs://jk-ucaip-demos/custom_job_20210209062832\"\n",
      "              }\n",
      "            }\n",
      "          }\n",
      "        }\n",
      "        fields {\n",
      "          key: \"imageUri\"\n",
      "          value {\n",
      "            string_value: \"gcr.io/cloud-aiplatform/training/tf-gpu.2-1:latest\"\n",
      "          }\n",
      "        }\n",
      "      }\n",
      "    }\n",
      "  }\n",
      "  fields {\n",
      "    key: \"diskSpec\"\n",
      "    value {\n",
      "      struct_value {\n",
      "        fields {\n",
      "          key: \"bootDiskSizeGb\"\n",
      "          value {\n",
      "            number_value: 100.0\n",
      "          }\n",
      "        }\n",
      "        fields {\n",
      "          key: \"bootDiskType\"\n",
      "          value {\n",
      "            string_value: \"pd-ssd\"\n",
      "          }\n",
      "        }\n",
      "      }\n",
      "    }\n",
      "  }\n",
      "  fields {\n",
      "    key: \"machineSpec\"\n",
      "    value {\n",
      "      struct_value {\n",
      "        fields {\n",
      "          key: \"acceleratorCount\"\n",
      "          value {\n",
      "            number_value: 1.0\n",
      "          }\n",
      "        }\n",
      "        fields {\n",
      "          key: \"acceleratorType\"\n",
      "          value {\n",
      "            string_value: \"NVIDIA_TESLA_K80\"\n",
      "          }\n",
      "        }\n",
      "        fields {\n",
      "          key: \"machineType\"\n",
      "          value {\n",
      "            string_value: \"n1-standard-4\"\n",
      "          }\n",
      "        }\n",
      "      }\n",
      "    }\n",
      "  }\n",
      "  fields {\n",
      "    key: \"replicaCount\"\n",
      "    value {\n",
      "      string_value: \"1\"\n",
      "    }\n",
      "  }\n",
      "}\n",
      "]}\n",
      " create_time: 2021-02-09 06:28:52.129582+00:00\n",
      " start_time: 2021-02-09 06:28:52.265762+00:00\n",
      " end_time: None\n",
      " update_time: 2021-02-09 06:28:52.410126+00:00\n",
      " labels: {}\n"
     ]
    }
   ],
   "source": [
    "def get_training_pipeline(name, silent=False):\n",
    "    response = clients['pipeline'].get_training_pipeline(name=name)\n",
    "    if silent:\n",
    "        return response\n",
    "\n",
    "    print(\"pipeline\")\n",
    "    print(\" name:\", response.name)\n",
    "    print(\" display_name:\", response.display_name)\n",
    "    print(\" state:\", response.state)\n",
    "    print(\" training_task_definition:\", response.training_task_definition)\n",
    "    print(\" training_task_inputs:\", dict(response.training_task_inputs))\n",
    "    print(\" create_time:\", response.create_time)\n",
    "    print(\" start_time:\", response.start_time)\n",
    "    print(\" end_time:\", response.end_time)\n",
    "    print(\" update_time:\", response.update_time)\n",
    "    print(\" labels:\", dict(response.labels))\n",
    "    return response\n",
    "\n",
    "\n",
    "pipeline_response = get_training_pipeline(PIPELINE_NAME)"
   ]
  },
  {
   "cell_type": "markdown",
   "metadata": {
    "id": "9cSRPypQuPKO"
   },
   "source": [
    "## Train a model - CIFAR10\n",
    "\n",
    "Now that you have seen the basic steps for custom training, you will do a new custom job to train a model. There are two ways you can train a custom model using a container image:\n",
    "\n",
    "- **Use a Google Cloud prebuilt container**. If you use a prebuilt container, you will additionally specify a Python package to install into the container image. This Python package contains your code for training a custom model.\n",
    "\n",
    "- **Use your own custom container image**. If you use your own container, the container needs to contain your code for training a custom model.\n",
    "\n",
    "\n",
    "In this tutorial, you will train a CIFAR10 model using a Google Cloud prebuilt container.You will need to update the worker pool specification by adding a description for `python_package_spec`. This section will tell the custom job the Python training package to install and which Python module to invoke, along with command line arguments for the Python module.\n",
    "\n",
    "Let's dive deeper now into the python package specification:\n",
    "\n",
    "-`executor_image_spec`: This is the docker image which is configured for your custom training job. You will continue to use the same one we used earlier for demonstration.\n",
    "\n",
    "-`package_uris`: This is a list of the locations (URIs) of your python training packages to install on the provisioned instance. The locations need to be in a Cloud Storage bucket. These can be either individual python files or a zip (archive) of an entire package. In the later case, the job service will unzip (unarchive) the contents into the docker image.\n",
    "\n",
    "-`python_module`: The python module (script) to invoke for running the custom training job. In this example, you will be invoking `trainer.task.py` -- note that it was not neccessary to append the `.py` suffix.\n",
    "\n",
    "-`args`: The command line arguments to pass to the corresponding pythom module. In this example, you will be:\n",
    "  - `\"--model-dir=\" + MODEL_DIR` : The Cloud Storage location where to store the model artifacts.\n",
    "  - `\"--epochs=\" + EPOCHS`: The number of epochs for training.\n",
    "  - `\"--steps=\" + STEPS`: The number of steps (batches) per epoch.\n",
    "  - `\"--distribute=\" + TRAIN_STRATEGY\"` : The training distribution strategy to use for single or distributed training.\n",
    "     - `\"single\"`: single device.\n",
    "     - `\"mirror\"`: all GPU devices on a single compute instance.\n",
    "     - `\"multi\"`: all GPU devices on all compute instances."
   ]
  },
  {
   "cell_type": "code",
   "execution_count": 24,
   "metadata": {
    "id": "mykoFgRVuPKP"
   },
   "outputs": [],
   "source": [
    "if TRAIN_GPU:\n",
    "    machine_spec = {\n",
    "        \"machine_type\": TRAIN_COMPUTE,\n",
    "        \"accelerator_type\": TRAIN_GPU,\n",
    "        \"accelerator_count\": TRAIN_NGPU\n",
    "    }\n",
    "else:\n",
    "    machine_spec = {\n",
    "        \"machine_type\": TRAIN_COMPUTE,\n",
    "        \"accelerator_count\": 0\n",
    "    }\n",
    "        \n",
    "if not TRAIN_NGPU or TRAIN_NGPU < 2:\n",
    "    TRAIN_STRATEGY = \"single\"\n",
    "else:\n",
    "    TRAIN_STRATEGY = \"mirror\"\n",
    "    \n",
    "EPOCHS = 20\n",
    "STEPS = 100\n",
    "\n",
    "WORKER_POOL_SPEC = [\n",
    "    {\n",
    "        \"replica_count\": 1,\n",
    "        \"machine_spec\": machine_spec,\n",
    "        \"python_package_spec\": {\n",
    "            \"executor_image_uri\": TRAIN_IMAGE,\n",
    "            \"package_uris\": [\"gs://\" + BUCKET_NAME + \"/trainer_cifar.tar.gz\"],\n",
    "            \"python_module\": \"trainer.task\",\n",
    "            \"args\": [\n",
    "                \"--model-dir=\" + MODEL_DIR,\n",
    "                \"--epochs=\" + str(EPOCHS),\n",
    "                \"--steps=\" + str(STEPS),\n",
    "                \"--distribute=\" + TRAIN_STRATEGY\n",
    "            ],\n",
    "        }\n",
    "    }\n",
    "]"
   ]
  },
  {
   "cell_type": "markdown",
   "metadata": {
    "id": "mcxzq2pLuPKP"
   },
   "source": [
    "### Assemble the job specification\n",
    "\n",
    "Let's now assemble the description for the custom job specification."
   ]
  },
  {
   "cell_type": "code",
   "execution_count": 25,
   "metadata": {
    "id": "Mf5d7jFpuPKP"
   },
   "outputs": [],
   "source": [
    "CUSTOM_JOB = {\n",
    "    \"display_name\": JOB_NAME,\n",
    "    \"job_spec\": {\n",
    "        \"worker_pool_specs\": WORKER_POOL_SPEC\n",
    "    }\n",
    "}"
   ]
  },
  {
   "cell_type": "markdown",
   "metadata": {
    "id": "dWotAl2KuPKP"
   },
   "source": [
    "### Examine the training package\n",
    "\n",
    "#### Package layout\n",
    "\n",
    "Before you start the training, let's look at how a Python package is assembled for a custom training job. When unarchived, the package contains the following directory/file layout.\n",
    "\n",
    "- PKG-INFO\n",
    "- README.md\n",
    "- setup.cfg\n",
    "- setup.py\n",
    "- trainer\n",
    "  - \\_\\_init\\_\\_.py\n",
    "  - task.py\n",
    "\n",
    "The files `setup.cfg` and `setup.py` are the instructions for installing the package into the operating environment of the docker image.\n",
    "\n",
    "The file `trainer/task.py` is the python script for executing the custom job. *Note*, when we referred to it in the worker pool specification, we replace the directory slash with a dot (`trainer.task`) and dropped the file suffix (`.py`)."
   ]
  },
  {
   "cell_type": "markdown",
   "metadata": {
    "id": "bixq-c8luPKP"
   },
   "source": [
    "#### Package Assembly\n",
    "\n",
    "In the following cells, you will assemble the training package."
   ]
  },
  {
   "cell_type": "code",
   "execution_count": 26,
   "metadata": {
    "id": "OEYskex9uPKP"
   },
   "outputs": [],
   "source": [
    "# Make folder for python training script\n",
    "! rm -rf custom\n",
    "! mkdir custom\n",
    "\n",
    "# Add package information\n",
    "! touch custom/README.md\n",
    "\n",
    "setup_cfg = \"[egg_info]\\n\\\n",
    "tag_build =\\n\\\n",
    "tag_date = 0\"\n",
    "! echo \"$setup_cfg\" > custom/setup.cfg\n",
    "\n",
    "setup_py = \"import setuptools\\n\\\n",
    "# Requires TensorFlow Datasets\\n\\\n",
    "setuptools.setup(\\n\\\n",
    "    install_requires=[\\n\\\n",
    "        'tensorflow_datasets==1.3.0',\\n\\\n",
    "    ],\\n\\\n",
    "    packages=setuptools.find_packages())\" \n",
    "! echo \"$setup_py\" > custom/setup.py\n",
    "\n",
    "pkg_info = \"Metadata-Version: 1.0\\n\\\n",
    "Name: UNKNOWN\\n\\\n",
    "Version: 0.0.0\\n\\\n",
    "Summary: Demostration training script\\n\\\n",
    "Home-page: www.google.com\\n\\\n",
    "Author: Google\\n\\\n",
    "Author-email: UNKNOWN\\n\\\n",
    "License: Public\\n\\\n",
    "Description: Demo\\n\\\n",
    "Platform: AI Platform (Unified)\"\n",
    "! echo \"$pkg_info\" > custom/PKG-INFO\n",
    "\n",
    "# Make the training subfolder\n",
    "! mkdir custom/trainer\n",
    "! touch custom/trainer/__init__.py"
   ]
  },
  {
   "cell_type": "markdown",
   "metadata": {
    "id": "tLirZLSsuPKQ"
   },
   "source": [
    "#### Task.py Contents\n",
    "\n",
    "In the next cell, you will write the contents of the training script task.py. I won't go into detail, it's just there for you to browse. In summary:\n",
    "\n",
    "- Loads CIFAR10 dataset from TF Datasets (tfds).\n",
    "- Builds a simple ConvNet model using TF.Keras model API.\n",
    "- Compiles the model (`compile()`).\n",
    "- Sets a training distribution strategy according to the argument `args.distribute`.\n",
    "- Trains the model (`fit()`) with epochs and steps according to the arguments `args.epochs` and `args.steps`\n",
    "- Saves the trained model (`save(args.model_dir)`) to the specified model directory."
   ]
  },
  {
   "cell_type": "code",
   "execution_count": 27,
   "metadata": {
    "colab": {
     "base_uri": "https://localhost:8080/"
    },
    "id": "VgNLmVmBuPKQ",
    "outputId": "e9de4910-3671-4a32-85db-6b2b44f55825"
   },
   "outputs": [
    {
     "name": "stdout",
     "output_type": "stream",
     "text": [
      "Writing custom/trainer/task.py\n"
     ]
    }
   ],
   "source": [
    "%%writefile custom/trainer/task.py\n",
    "# Single, Mirror and Multi-Machine Distributed Training for CIFAR-10\n",
    "\n",
    "import tensorflow_datasets as tfds\n",
    "import tensorflow as tf\n",
    "from tensorflow.python.client import device_lib\n",
    "import argparse\n",
    "import os\n",
    "import sys\n",
    "tfds.disable_progress_bar()\n",
    "\n",
    "parser = argparse.ArgumentParser()\n",
    "parser.add_argument('--model-dir', dest='model_dir',\n",
    "                    default='/tmp/saved_model', type=str, help='Model dir.')\n",
    "parser.add_argument('--lr', dest='lr',\n",
    "                    default=0.01, type=float,\n",
    "                    help='Learning rate.')\n",
    "parser.add_argument('--epochs', dest='epochs',\n",
    "                    default=10, type=int,\n",
    "                    help='Number of epochs.')\n",
    "parser.add_argument('--steps', dest='steps',\n",
    "                    default=200, type=int,\n",
    "                    help='Number of steps per epoch.')\n",
    "parser.add_argument('--distribute', dest='distribute', type=str, default='single',\n",
    "                    help='distributed training strategy')\n",
    "args = parser.parse_args()\n",
    "\n",
    "print('Python Version = {}'.format(sys.version))\n",
    "print('TensorFlow Version = {}'.format(tf.__version__))\n",
    "print('TF_CONFIG = {}'.format(os.environ.get('TF_CONFIG', 'Not found')))\n",
    "print('DEVICES', device_lib.list_local_devices())\n",
    "\n",
    "# Single Machine, single compute device\n",
    "if args.distribute == 'single':\n",
    "    if tf.test.is_gpu_available():\n",
    "        strategy = tf.distribute.OneDeviceStrategy(device=\"/gpu:0\")\n",
    "    else:\n",
    "        strategy = tf.distribute.OneDeviceStrategy(device=\"/cpu:0\")\n",
    "# Single Machine, multiple compute device\n",
    "elif args.distribute == 'mirror':\n",
    "    strategy = tf.distribute.MirroredStrategy()\n",
    "# Multiple Machine, multiple compute device\n",
    "elif args.distribute == 'multi':\n",
    "    strategy = tf.distribute.experimental.MultiWorkerMirroredStrategy()\n",
    "\n",
    "# Multi-worker configuration\n",
    "print('num_replicas_in_sync = {}'.format(strategy.num_replicas_in_sync))\n",
    "\n",
    "# Preparing dataset\n",
    "BUFFER_SIZE = 10000\n",
    "BATCH_SIZE = 64\n",
    "\n",
    "def make_datasets_unbatched():\n",
    "  # Scaling CIFAR10 data from (0, 255] to (0., 1.]\n",
    "  def scale(image, label):\n",
    "    image = tf.cast(image, tf.float32)\n",
    "    image /= 255.0\n",
    "    return image, label\n",
    "\n",
    "  datasets, info = tfds.load(name='cifar10',\n",
    "                            with_info=True,\n",
    "                            as_supervised=True)\n",
    "  return datasets['train'].map(scale).cache().shuffle(BUFFER_SIZE).repeat()\n",
    "\n",
    "\n",
    "# Build the Keras model\n",
    "def build_and_compile_cnn_model():\n",
    "  model = tf.keras.Sequential([\n",
    "      tf.keras.layers.Conv2D(32, 3, activation='relu', input_shape=(32, 32, 3)),\n",
    "      tf.keras.layers.MaxPooling2D(),\n",
    "      tf.keras.layers.Conv2D(32, 3, activation='relu'),\n",
    "      tf.keras.layers.MaxPooling2D(),\n",
    "      tf.keras.layers.Flatten(),\n",
    "      tf.keras.layers.Dense(10, activation='softmax')\n",
    "  ])\n",
    "  model.compile(\n",
    "      loss=tf.keras.losses.sparse_categorical_crossentropy,\n",
    "      optimizer=tf.keras.optimizers.SGD(learning_rate=args.lr),\n",
    "      metrics=['accuracy'])\n",
    "  return model\n",
    "\n",
    "# Train the model\n",
    "NUM_WORKERS = strategy.num_replicas_in_sync\n",
    "# Here the batch size scales up by number of workers since\n",
    "# `tf.data.Dataset.batch` expects the global batch size.\n",
    "GLOBAL_BATCH_SIZE = BATCH_SIZE * NUM_WORKERS\n",
    "train_dataset = make_datasets_unbatched().batch(GLOBAL_BATCH_SIZE)\n",
    "\n",
    "with strategy.scope():\n",
    "  # Creation of dataset, and model building/compiling need to be within\n",
    "  # `strategy.scope()`.\n",
    "  model = build_and_compile_cnn_model()\n",
    "\n",
    "model.fit(x=train_dataset, epochs=args.epochs, steps_per_epoch=args.steps)\n",
    "model.save(args.model_dir)"
   ]
  },
  {
   "cell_type": "markdown",
   "metadata": {
    "id": "zzgIdgmpuPKQ"
   },
   "source": [
    "#### Store training script on your Cloud Storage bucket\n",
    "\n",
    "Next, we package the training folder into a compressed tar ball, and then store it in your Cloud Storage bucket."
   ]
  },
  {
   "cell_type": "code",
   "execution_count": 28,
   "metadata": {
    "colab": {
     "base_uri": "https://localhost:8080/"
    },
    "id": "0rQNv8GRuPKQ",
    "outputId": "bb65d266-7175-4c53-afcb-c15245bc4e61"
   },
   "outputs": [
    {
     "name": "stdout",
     "output_type": "stream",
     "text": [
      "custom/\n",
      "custom/trainer/\n",
      "custom/trainer/task.py\n",
      "custom/trainer/__init__.py\n",
      "custom/README.md\n",
      "custom/setup.cfg\n",
      "custom/setup.py\n",
      "custom/PKG-INFO\n",
      "Copying file://custom.tar.gz [Content-Type=application/x-tar]...\n",
      "/ [1 files][  1.8 KiB/  1.8 KiB]                                                \n",
      "Operation completed over 1 objects/1.8 KiB.                                      \n"
     ]
    }
   ],
   "source": [
    "! rm -f custom.tar custom.tar.gz\n",
    "! tar cvf custom.tar custom\n",
    "! gzip custom.tar\n",
    "! gsutil cp custom.tar.gz gs://$BUCKET_NAME/trainer_cifar.tar.gz"
   ]
  },
  {
   "cell_type": "markdown",
   "metadata": {
    "id": "DDUT0dW3uPKQ"
   },
   "source": [
    "#### Create the training pipeline\n",
    "\n",
    "Let's now create a training pipeline for your CIFAR10 custom training job."
   ]
  },
  {
   "cell_type": "code",
   "execution_count": 29,
   "metadata": {
    "id": "P0oiJaAKuPKR"
   },
   "outputs": [],
   "source": [
    "MODEL_NAME = 'cifar10_pipeline-' + TIMESTAMP\n",
    "PIPELINE_DISPLAY_NAME = 'cifar10-training-pipeline-' + TIMESTAMP\n",
    "\n",
    "training_task_inputs = json_format.ParseDict({\"workerPoolSpecs\": WORKER_POOL_SPEC},\n",
    "                                             Value())\n",
    "pipeline = {\n",
    "    \"display_name\": PIPELINE_DISPLAY_NAME,\n",
    "    \"training_task_definition\": CUSTOM_TASK_GCS_PATH,\n",
    "    \"training_task_inputs\": training_task_inputs,\n",
    "    \"model_to_upload\": {\n",
    "        \"display_name\": PIPELINE_DISPLAY_NAME + '-model',\n",
    "        \"artifact_uri\": MODEL_DIR,\n",
    "        \"container_spec\": {\n",
    "            \"image_uri\": DEPLOY_IMAGE,\n",
    "            \"command\": [\"/bin/tensorflow_model_server\"],\n",
    "            \"args\": [\n",
    "                \"--model_name=\" + MODEL_NAME,\n",
    "                \"--model_base_path=\" + MODEL_DIR,\n",
    "                \"--rest_api_port=8080\",\n",
    "                \"--port=8500\",\n",
    "                \"--file_system_poll_wait_seconds=31540000\"\n",
    "            ],\n",
    "        }\n",
    "    },\n",
    "}"
   ]
  },
  {
   "cell_type": "code",
   "execution_count": 30,
   "metadata": {
    "colab": {
     "base_uri": "https://localhost:8080/"
    },
    "id": "w3lNWXxbuPKR",
    "outputId": "a6c8add8-b989-45d6-846a-8f68e283b9cf"
   },
   "outputs": [
    {
     "name": "stdout",
     "output_type": "stream",
     "text": [
      "name: \"projects/895222332033/locations/us-central1/trainingPipelines/6751370830451572736\"\n",
      "display_name: \"cifar10-training-pipeline-20210209062832\"\n",
      "training_task_definition: \"gs://google-cloud-aiplatform/schema/trainingjob/definition/custom_task_1.0.0.yaml\"\n",
      "training_task_inputs {\n",
      "  struct_value {\n",
      "    fields {\n",
      "      key: \"workerPoolSpecs\"\n",
      "      value {\n",
      "        list_value {\n",
      "          values {\n",
      "            struct_value {\n",
      "              fields {\n",
      "                key: \"diskSpec\"\n",
      "                value {\n",
      "                  struct_value {\n",
      "                    fields {\n",
      "                      key: \"bootDiskSizeGb\"\n",
      "                      value {\n",
      "                        number_value: 100.0\n",
      "                      }\n",
      "                    }\n",
      "                    fields {\n",
      "                      key: \"bootDiskType\"\n",
      "                      value {\n",
      "                        string_value: \"pd-ssd\"\n",
      "                      }\n",
      "                    }\n",
      "                  }\n",
      "                }\n",
      "              }\n",
      "              fields {\n",
      "                key: \"machineSpec\"\n",
      "                value {\n",
      "                  struct_value {\n",
      "                    fields {\n",
      "                      key: \"acceleratorCount\"\n",
      "                      value {\n",
      "                        number_value: 1.0\n",
      "                      }\n",
      "                    }\n",
      "                    fields {\n",
      "                      key: \"acceleratorType\"\n",
      "                      value {\n",
      "                        string_value: \"NVIDIA_TESLA_K80\"\n",
      "                      }\n",
      "                    }\n",
      "                    fields {\n",
      "                      key: \"machineType\"\n",
      "                      value {\n",
      "                        string_value: \"n1-standard-4\"\n",
      "                      }\n",
      "                    }\n",
      "                  }\n",
      "                }\n",
      "              }\n",
      "              fields {\n",
      "                key: \"pythonPackageSpec\"\n",
      "                value {\n",
      "                  struct_value {\n",
      "                    fields {\n",
      "                      key: \"args\"\n",
      "                      value {\n",
      "                        list_value {\n",
      "                          values {\n",
      "                            string_value: \"--model-dir=gs://jk-ucaip-demos/custom_job_20210209062832\"\n",
      "                          }\n",
      "                          values {\n",
      "                            string_value: \"--epochs=20\"\n",
      "                          }\n",
      "                          values {\n",
      "                            string_value: \"--steps=100\"\n",
      "                          }\n",
      "                          values {\n",
      "                            string_value: \"--distribute=single\"\n",
      "                          }\n",
      "                        }\n",
      "                      }\n",
      "                    }\n",
      "                    fields {\n",
      "                      key: \"executorImageUri\"\n",
      "                      value {\n",
      "                        string_value: \"gcr.io/cloud-aiplatform/training/tf-gpu.2-1:latest\"\n",
      "                      }\n",
      "                    }\n",
      "                    fields {\n",
      "                      key: \"packageUris\"\n",
      "                      value {\n",
      "                        list_value {\n",
      "                          values {\n",
      "                            string_value: \"gs://jk-ucaip-demos/trainer_cifar.tar.gz\"\n",
      "                          }\n",
      "                        }\n",
      "                      }\n",
      "                    }\n",
      "                    fields {\n",
      "                      key: \"pythonModule\"\n",
      "                      value {\n",
      "                        string_value: \"trainer.task\"\n",
      "                      }\n",
      "                    }\n",
      "                  }\n",
      "                }\n",
      "              }\n",
      "              fields {\n",
      "                key: \"replicaCount\"\n",
      "                value {\n",
      "                  string_value: \"1\"\n",
      "                }\n",
      "              }\n",
      "            }\n",
      "          }\n",
      "        }\n",
      "      }\n",
      "    }\n",
      "  }\n",
      "}\n",
      "model_to_upload {\n",
      "  display_name: \"cifar10-training-pipeline-20210209062832-model\"\n",
      "  predict_schemata {\n",
      "  }\n",
      "  container_spec {\n",
      "    image_uri: \"gcr.io/cloud-aiplatform/prediction/tf2-cpu.2-1:latest\"\n",
      "    command: \"/bin/tensorflow_model_server\"\n",
      "    args: \"--model_name=cifar10_pipeline-20210209062832\"\n",
      "    args: \"--model_base_path=gs://jk-ucaip-demos/custom_job_20210209062832\"\n",
      "    args: \"--rest_api_port=8080\"\n",
      "    args: \"--port=8500\"\n",
      "    args: \"--file_system_poll_wait_seconds=31540000\"\n",
      "  }\n",
      "  artifact_uri: \"gs://jk-ucaip-demos/custom_job_20210209062832\"\n",
      "}\n",
      "state: PIPELINE_STATE_PENDING\n",
      "create_time {\n",
      "  seconds: 1612852147\n",
      "  nanos: 95510000\n",
      "}\n",
      "update_time {\n",
      "  seconds: 1612852147\n",
      "  nanos: 95510000\n",
      "}\n",
      "\n"
     ]
    }
   ],
   "source": [
    "PIPELINE_NAME = create_pipeline(pipeline)"
   ]
  },
  {
   "cell_type": "markdown",
   "metadata": {
    "id": "IZTFFuS4uPKR"
   },
   "source": [
    "### Get information on the training pipeline\n",
    "\n",
    "Let's get the status on our custom training pipeline for CIFAR10 using the helper function we defined earlier `get_training_pipelime`. The job most likely will still be either PENDING or RUNNING.\n"
   ]
  },
  {
   "cell_type": "code",
   "execution_count": 31,
   "metadata": {
    "colab": {
     "base_uri": "https://localhost:8080/"
    },
    "id": "hifoZQCFuPKR",
    "outputId": "cd17a7f2-fb94-4fc0-e8e7-3f414adfd744"
   },
   "outputs": [
    {
     "name": "stdout",
     "output_type": "stream",
     "text": [
      "pipeline\n",
      " name: projects/895222332033/locations/us-central1/trainingPipelines/6751370830451572736\n",
      " display_name: cifar10-training-pipeline-20210209062832\n",
      " state: PipelineState.PIPELINE_STATE_RUNNING\n",
      " training_task_definition: gs://google-cloud-aiplatform/schema/trainingjob/definition/custom_task_1.0.0.yaml\n",
      " training_task_inputs: {'workerPoolSpecs': [struct_value {\n",
      "  fields {\n",
      "    key: \"diskSpec\"\n",
      "    value {\n",
      "      struct_value {\n",
      "        fields {\n",
      "          key: \"bootDiskSizeGb\"\n",
      "          value {\n",
      "            number_value: 100.0\n",
      "          }\n",
      "        }\n",
      "        fields {\n",
      "          key: \"bootDiskType\"\n",
      "          value {\n",
      "            string_value: \"pd-ssd\"\n",
      "          }\n",
      "        }\n",
      "      }\n",
      "    }\n",
      "  }\n",
      "  fields {\n",
      "    key: \"machineSpec\"\n",
      "    value {\n",
      "      struct_value {\n",
      "        fields {\n",
      "          key: \"acceleratorCount\"\n",
      "          value {\n",
      "            number_value: 1.0\n",
      "          }\n",
      "        }\n",
      "        fields {\n",
      "          key: \"acceleratorType\"\n",
      "          value {\n",
      "            string_value: \"NVIDIA_TESLA_K80\"\n",
      "          }\n",
      "        }\n",
      "        fields {\n",
      "          key: \"machineType\"\n",
      "          value {\n",
      "            string_value: \"n1-standard-4\"\n",
      "          }\n",
      "        }\n",
      "      }\n",
      "    }\n",
      "  }\n",
      "  fields {\n",
      "    key: \"pythonPackageSpec\"\n",
      "    value {\n",
      "      struct_value {\n",
      "        fields {\n",
      "          key: \"args\"\n",
      "          value {\n",
      "            list_value {\n",
      "              values {\n",
      "                string_value: \"--model-dir=gs://jk-ucaip-demos/custom_job_20210209062832\"\n",
      "              }\n",
      "              values {\n",
      "                string_value: \"--epochs=20\"\n",
      "              }\n",
      "              values {\n",
      "                string_value: \"--steps=100\"\n",
      "              }\n",
      "              values {\n",
      "                string_value: \"--distribute=single\"\n",
      "              }\n",
      "            }\n",
      "          }\n",
      "        }\n",
      "        fields {\n",
      "          key: \"executorImageUri\"\n",
      "          value {\n",
      "            string_value: \"gcr.io/cloud-aiplatform/training/tf-gpu.2-1:latest\"\n",
      "          }\n",
      "        }\n",
      "        fields {\n",
      "          key: \"packageUris\"\n",
      "          value {\n",
      "            list_value {\n",
      "              values {\n",
      "                string_value: \"gs://jk-ucaip-demos/trainer_cifar.tar.gz\"\n",
      "              }\n",
      "            }\n",
      "          }\n",
      "        }\n",
      "        fields {\n",
      "          key: \"pythonModule\"\n",
      "          value {\n",
      "            string_value: \"trainer.task\"\n",
      "          }\n",
      "        }\n",
      "      }\n",
      "    }\n",
      "  }\n",
      "  fields {\n",
      "    key: \"replicaCount\"\n",
      "    value {\n",
      "      string_value: \"1\"\n",
      "    }\n",
      "  }\n",
      "}\n",
      "]}\n",
      " create_time: 2021-02-09 06:29:07.095510+00:00\n",
      " start_time: 2021-02-09 06:29:07.298124+00:00\n",
      " end_time: None\n",
      " update_time: 2021-02-09 06:29:07.809346+00:00\n",
      " labels: {}\n"
     ]
    }
   ],
   "source": [
    "pipeline_response = get_training_pipeline(PIPELINE_NAME)"
   ]
  },
  {
   "cell_type": "markdown",
   "metadata": {
    "id": "kevkdCWTuPKR"
   },
   "source": [
    "# Deployment\n",
    "\n",
    "## Pre-Cooked\n",
    "\n",
    "Training the above model may take upwards of ~5 minutes time. For expendiency, we have a pre-cooked (already trained) version of this model you can use for the next steps, while you wait for your model to finish training. \n",
    "\n",
    "Once your model is done training, you can repeat these steps for your trained model. You can calcuate the actual time it took to train the model by subtracting `end_time` from `start_time`. For your model, we will need to know the location of the saved model, which the Python script saved in your local Cloud Storage bucket at `MODEL_DIR + '/saved_model.pb'`.\n",
    "\n",
    "\n",
    "You can choose between the precooked model or your trained model with the python variable `precooked` in the cell below."
   ]
  },
  {
   "cell_type": "code",
   "execution_count": 35,
   "metadata": {
    "colab": {
     "base_uri": "https://localhost:8080/"
    },
    "id": "eXhnnwV2uPKR",
    "outputId": "6da3b78c-9558-4345-e96e-73aff12e14f6"
   },
   "outputs": [
    {
     "name": "stdout",
     "output_type": "stream",
     "text": [
      "model_to_deploy: gs://jk-ucaip-demos/custom_job_20210209062832\n"
     ]
    }
   ],
   "source": [
    "# Precooked flag\n",
    "precook = False\n",
    "\n",
    "if precook:\n",
    "    model_path_to_deploy = \"[not-implemented-yet]\"\n",
    "else:\n",
    "    pipeline_response = get_training_pipeline(PIPELINE_NAME, True)\n",
    "    if pipeline_response.state != aip.PipelineState.PIPELINE_STATE_SUCCEEDED:\n",
    "        print(\"Training job has not completed\")\n",
    "        model_path_to_deploy = None\n",
    "    else:\n",
    "        model_path_to_deploy = MODEL_DIR\n",
    "\n",
    "print(\"model_to_deploy:\", model_path_to_deploy)"
   ]
  },
  {
   "cell_type": "markdown",
   "metadata": {
    "id": "DLpbLPwhuPKS"
   },
   "source": [
    "## Upload the model for serving\n",
    "\n",
    "Your model is stored in a TF SavedModel format in a Cloud Storage bucket. Let's go ahead and load it from the Cloud Storage bucket, and then you can do some things, like evaluate the model, and do a prediction.\n",
    "\n",
    "To load, we will use the TF.Keras `model.load_model()` method passing it the Cloud Storage path where the model is saved -- specified by `MODEL_DIR`."
   ]
  },
  {
   "cell_type": "code",
   "execution_count": 36,
   "metadata": {
    "colab": {
     "base_uri": "https://localhost:8080/"
    },
    "id": "Azu_8lF6uPKS",
    "outputId": "fbe3d52b-2f69-4fc7-955a-736c02f42b46"
   },
   "outputs": [],
   "source": [
    "import tensorflow as tf\n",
    "\n",
    "model = tf.keras.models.load_model(MODEL_DIR)"
   ]
  },
  {
   "cell_type": "markdown",
   "metadata": {
    "id": "tU1jQoeSuPKS"
   },
   "source": [
    "## Evaluate the model\n",
    "\n",
    "Now let's find out how good the model is. \n",
    "\n",
    "### Load evaluation data\n",
    "\n",
    "We will load the CIFAR10 test (holdout) data from `tf.keras.datasets`, using the method `load_data()`. This will return the dataset as a tuple of two elements. The first element is the training data and the second is the test data. Each element is also a tuple of two elements: the image data, and the corresponding labels.\n",
    "\n",
    "You don't need the training data, and hence why we loaded it as `(_, _)`.\n",
    "\n",
    "Before you can run the data through evaluation, you need to preprocess it:\n",
    "\n",
    "x_test:\n",
    "1. Normalize (rescaling) the pixel data by dividing each pixel by 255. This will replace each single byte integer pixel with a 32-bit floating point number between 0 and 1.\n",
    "\n",
    "y_test:<br/>\n",
    "2. The labels are currently scalar (sparse). If you look back at the `compile()` step in the `trainer/task.py` script, you will find that it was compiled for sparse labels. So we don't need to do anything more."
   ]
  },
  {
   "cell_type": "code",
   "execution_count": 37,
   "metadata": {
    "colab": {
     "base_uri": "https://localhost:8080/"
    },
    "id": "AqsSGk1iuPKS",
    "outputId": "5d0857b1-b927-4fa8-806c-3c4dc7da39b8"
   },
   "outputs": [
    {
     "name": "stdout",
     "output_type": "stream",
     "text": [
      "Downloading data from https://www.cs.toronto.edu/~kriz/cifar-10-python.tar.gz\n",
      "170500096/170498071 [==============================] - 7s 0us/step\n",
      "(10000, 32, 32, 3) (10000, 1)\n"
     ]
    }
   ],
   "source": [
    "from tensorflow.keras.datasets import cifar10\n",
    "import numpy as np\n",
    "\n",
    "(_, _), (x_test, y_test) = cifar10.load_data()\n",
    "x_test = (x_test / 255.0).astype(np.float32)\n",
    "\n",
    "print(x_test.shape, y_test.shape)"
   ]
  },
  {
   "cell_type": "markdown",
   "metadata": {
    "id": "0YC-n07buPKS"
   },
   "source": [
    "### Evaluate the model\n",
    "\n",
    "Let's evaluate how well the ConvNet model in the custom job did. Wahaha -- ~30%, not so good. Well, what does one expect with just 10 epochs and 200 steps per epoch -- see the `task.py fit() call`."
   ]
  },
  {
   "cell_type": "code",
   "execution_count": 38,
   "metadata": {
    "colab": {
     "base_uri": "https://localhost:8080/"
    },
    "id": "ILno7TICuPKS",
    "outputId": "3ad95603-46eb-471b-c230-1759d9d6c33c"
   },
   "outputs": [
    {
     "name": "stdout",
     "output_type": "stream",
     "text": [
      "313/313 [==============================] - 13s 2ms/step - loss: 1.6971 - accuracy: 0.0888\n"
     ]
    },
    {
     "data": {
      "text/plain": [
       "[1.6971064805984497, 0.08879999816417694]"
      ]
     },
     "execution_count": 38,
     "metadata": {},
     "output_type": "execute_result"
    }
   ],
   "source": [
    "model.evaluate(x_test, y_test)"
   ]
  },
  {
   "cell_type": "markdown",
   "metadata": {
    "id": "dSvyGnQsuPKS"
   },
   "source": [
    "## Upload the model for serving\n",
    "\n",
    "Next, you will upload your TF.Keras model from the custom job to AI Platform (Unified) model service, which will create a AI Platform (Unified) model resource for your custom model. During upload, you need to define a serving function to convert data to the format your model expects. If you send encoded data to AI Platform, your serving function ensures that the data is decoded on the model server before it is passed as input to your model.\n",
    "\n",
    "### Serving function for image data\n",
    "\n",
    "To pass images to the prediction service, you encode the bytes into base 64 -- which makes the content safe from modification while transmitting binary data over the network. Since this deployed model expects input data as raw bytes, you need to ensure that the base 64 encoded data gets converted back to raw bytes before it is passed as input to the deployed model.\n",
    "\n",
    "To resolve this, define a serving function (`serving_fn`) and attach it to the model as a preprocessing step. Add a `@tf.function` decorator so the serving function is part of the model's graph (instead of upstream on a CPU).\n",
    "\n",
    "When you send a prediction or explanation request, the content of the request is base 64 decoded into a Tensorflow string, which is passed to the serving function (`serving_fn`). The serving function preprocesses the tf.string into raw numpy bytes (`preprocess_fn`) to match the input requirements of the model:\n",
    "- `io.decode_jpeg`- Decompresses the JPG image which is returned as a Tensorflow vector with three channels (RGB).\n",
    "- `image.convert_image_dtype` - Changes integer pixel values to float 32 and normalizes the values between the range 0 and 1.\n",
    "- `image.resize` - Resizes the image to match the input shape for the model.\n",
    "- `resized / 255.0` - Rescales (normalization) the pixel data between 0 and 1.\n",
    "\n",
    "At this point, the data can be passed to the model (`m_call`)."
   ]
  },
  {
   "cell_type": "code",
   "execution_count": 39,
   "metadata": {
    "colab": {
     "base_uri": "https://localhost:8080/"
    },
    "id": "QrpjCTwhuPKT",
    "outputId": "12e0658c-08db-42cd-c830-ce1ef7fa8eed"
   },
   "outputs": [
    {
     "name": "stdout",
     "output_type": "stream",
     "text": [
      "WARNING:tensorflow:From <ipython-input-39-456dc5cbf38c>:13: calling map_fn_v2 (from tensorflow.python.ops.map_fn) with back_prop=False is deprecated and will be removed in a future version.\n",
      "Instructions for updating:\n",
      "back_prop=False is deprecated. Consider using tf.stop_gradient instead.\n",
      "Instead of:\n",
      "results = tf.map_fn(fn, elems, back_prop=False)\n",
      "Use:\n",
      "results = tf.nest.map_structure(tf.stop_gradient, tf.map_fn(fn, elems))\n",
      "WARNING:tensorflow:From /opt/conda/lib/python3.7/site-packages/tensorflow/python/util/deprecation.py:605: calling map_fn_v2 (from tensorflow.python.ops.map_fn) with dtype is deprecated and will be removed in a future version.\n",
      "Instructions for updating:\n",
      "Use fn_output_signature instead\n",
      "INFO:tensorflow:Assets written to: gs://jk-ucaip-demos/custom_job_20210209062832/assets\n"
     ]
    }
   ],
   "source": [
    "CONCRETE_INPUT = \"numpy_inputs\"\n",
    "\n",
    "def _preprocess(bytes_input):\n",
    "    decoded = tf.io.decode_jpeg(bytes_input, channels=3)\n",
    "    decoded = tf.image.convert_image_dtype(decoded, tf.float32)\n",
    "    resized = tf.image.resize(decoded, size=(32, 32))\n",
    "    rescale = tf.cast(resized / 255.0, tf.float32)\n",
    "    return rescale\n",
    "\n",
    "\n",
    "@tf.function(input_signature=[tf.TensorSpec([None], tf.string)])\n",
    "def preprocess_fn(bytes_inputs):\n",
    "    decoded_images = tf.map_fn(_preprocess, bytes_inputs, dtype=tf.float32, back_prop=False)\n",
    "    return {CONCRETE_INPUT: decoded_images}  # User needs to make sure the key matches model's input\n",
    "\n",
    "\n",
    "m_call = tf.function(model.call).get_concrete_function([tf.TensorSpec(shape=[None, 32, 32, 3], dtype=tf.float32, name=CONCRETE_INPUT)])\n",
    "\n",
    "\n",
    "@tf.function(input_signature=[tf.TensorSpec([None], tf.string)])\n",
    "def serving_fn(bytes_inputs):\n",
    "    images = preprocess_fn(bytes_inputs)\n",
    "    prob = m_call(**images)\n",
    "    return prob\n",
    "\n",
    "\n",
    "tf.saved_model.save(model, model_path_to_deploy, signatures={\n",
    "    'serving_default': serving_fn,\n",
    "})"
   ]
  },
  {
   "cell_type": "markdown",
   "metadata": {
    "id": "-BUlB-ktuPKT"
   },
   "source": [
    "## Get the serving function signature\n",
    "\n",
    "You can get the signatures of your model's input and output layers by reloading the model into memory, and querying it for the signatures corresponding to each layer.\n",
    "\n",
    "For your purpose, you need the signature of the serving function. Why? Well, when we send our data for prediction as a HTTP request packet, the image data is base 64 encoded, and our TF.Keras model takes numpy input. Your serving function will do the conversion from base 64 to a numpy array. \n",
    "\n",
    "When making a prediction request, you need to route the request to the serving function instead of the model, so you need to know the input layer name of the serving function -- which you will use later when you make a prediction request."
   ]
  },
  {
   "cell_type": "code",
   "execution_count": 40,
   "metadata": {
    "colab": {
     "base_uri": "https://localhost:8080/"
    },
    "id": "wRyKJMHQuPKT",
    "outputId": "39b17121-5d48-4367-8bf4-7f0cb2cff94a"
   },
   "outputs": [
    {
     "name": "stdout",
     "output_type": "stream",
     "text": [
      "Serving function input: bytes_inputs\n"
     ]
    }
   ],
   "source": [
    "loaded = tf.saved_model.load(model_path_to_deploy)\n",
    "\n",
    "input_name = list(loaded.signatures['serving_default'].structured_input_signature[1].keys())[0]\n",
    "print('Serving function input:', input_name)"
   ]
  },
  {
   "cell_type": "markdown",
   "metadata": {
    "id": "iUEKQDxquPKT"
   },
   "source": [
    "### Upload the Model\n",
    "\n",
    "Use this helper function `upload_model` to upload your model, stored in SavedModel format, upto the model service, which will instantiate a AI Platform (Unified) model instance for our model. Once you've done that, you can use the model in the same way as any other AI Platform (Unified) model instance, such as deploying to an endpoint for serving predictions.\n",
    "\n",
    "The helper function takes the parameters:\n",
    "\n",
    "- `display_name`: A human readable name for the endpoint.\n",
    "- `image_uri`: The container image for the model deployment.\n",
    "- `model_uri`: The Cloud Storage path to our SavedModel artificat. For this tutorial, this is the Cloud Storage location where the `trainer/task.py` saved the model, which we specified in the variable `MODEL_DIR`.\n",
    "\n",
    "The helper function uses the model client service and calls the method `upload_model`, which takes the parameters:\n",
    "\n",
    "- `parent`: The AI Platform (Unified) location root path for dataset, model and endpoint resources. \n",
    "- `model`: The specification for the AI Platform (Unified) model instance.\n",
    "\n",
    "Let's now dive deeper into the AI Platform (Unified) model specification `model`. This is a dictionary object that consists of the following fields:\n",
    "\n",
    "- `display_name`: A human readable name for the model.\n",
    "- `metadata_schema_uri`: Since our model was built without a AI Platform (Unified) managed dataset, we will leave this blank (`''`).\n",
    "- `artificat_uri`: The Cloud Storage path where the model is stored in SavedModel format. \n",
    "- `container_spec`: This is the specification for the docker container that will be installed on the endpoint, from which the model will serve predictions.\n",
    "\n",
    "Uploading a model into a AI Platform (Unified) model resource returns a long running operation, since it may take a few moments. You call `response.result()`, which is a synchronous call and will return when the AI Platform (Unified) model resource is ready. \n",
    "\n",
    "The helper function returns the AI Platform (Unified) fully qualified identifier for the corresponding AI Platform (Unified) model instance `upload_model_response.model`. You will save the identifier for subsequent steps in the variable `model_to_upload_name`.\n"
   ]
  },
  {
   "cell_type": "code",
   "execution_count": 41,
   "metadata": {
    "colab": {
     "base_uri": "https://localhost:8080/"
    },
    "id": "xpB02_NsuPKT",
    "outputId": "703f4208-9275-4eb3-8f00-5602f1348fac"
   },
   "outputs": [
    {
     "name": "stdout",
     "output_type": "stream",
     "text": [
      "Long running operation: projects/895222332033/locations/us-central1/models/9213256529879236608/operations/5526987667109052416\n",
      "upload_model_response\n",
      " model: projects/895222332033/locations/us-central1/models/9213256529879236608\n"
     ]
    }
   ],
   "source": [
    "IMAGE_URI = DEPLOY_IMAGE\n",
    "\n",
    "\n",
    "def upload_model(display_name, image_uri, model_uri):\n",
    "    model = {\n",
    "        \"display_name\": display_name,\n",
    "        \"metadata_schema_uri\": \"\",\n",
    "        \"artifact_uri\": model_uri,\n",
    "        \"container_spec\": {\n",
    "            \"image_uri\": image_uri\n",
    "        },\n",
    "    }\n",
    "    response = clients['model'].upload_model(parent=PARENT, model=model)\n",
    "    print(\"Long running operation:\", response.operation.name)\n",
    "    upload_model_response = response.result(timeout=180)\n",
    "    print(\"upload_model_response\")\n",
    "    print(\" model:\", upload_model_response.model)\n",
    "    return upload_model_response.model\n",
    "\n",
    "\n",
    "model_to_deploy_name = upload_model(\"cifar10-\" + TIMESTAMP, IMAGE_URI, model_path_to_deploy)"
   ]
  },
  {
   "cell_type": "markdown",
   "metadata": {
    "id": "jyzzpI9ruPKT"
   },
   "source": [
    "### List all models\n",
    "\n",
    "Now that your custom model is uploaded as a AI Platform (Unified) managed model, let's get a list of all your AI Platform (Unified) managed models. Use this helper function `list_models`. This helper function uses the AI Platform (Unified) model client service, and calls the method `list_models`, with the parameter:\n",
    "\n",
    "- `parent`: The AI Platform (Unified) location root path for your dataset, model and endpoint resources.\n",
    "\n",
    "The response object from the call is a list, where each element is a AI Platform (Unified) managed model. For each model, you will display a few fields:\n",
    "\n",
    "- `name`: The AI Platform (Unified) unique identifier for the managed model.\n",
    "- `display_name`: The human readable name assigned to the model.\n",
    "- `create_time`': Timestamp when the model resource was created.\n",
    "- `update_time`: Timestamp when the model resource was last updated.\n",
    "- `container`: The container image used for training the model.\n",
    "- `artifact_uri`': The Cloud Storage location of the model artifact."
   ]
  },
  {
   "cell_type": "code",
   "execution_count": 42,
   "metadata": {
    "colab": {
     "base_uri": "https://localhost:8080/"
    },
    "id": "Vl3PwdaJuPKT",
    "outputId": "d09e5a9e-6f1b-4563-8a64-a0ec63b50fde"
   },
   "outputs": [
    {
     "name": "stdout",
     "output_type": "stream",
     "text": [
      "name projects/895222332033/locations/us-central1/models/9213256529879236608\n",
      "display_name cifar10-20210209062832\n",
      "create_time 2021-02-09 06:45:06.158228+00:00\n",
      "update_time 2021-02-09 06:45:21.811328+00:00\n",
      "container gcr.io/cloud-aiplatform/prediction/tf2-cpu.2-1:latest\n",
      "artifact_uri gs://jk-ucaip-demos/custom_job_20210209062832\n",
      "\n",
      "\n",
      "name projects/895222332033/locations/us-central1/models/6114779986248335360\n",
      "display_name cifar10-training-pipeline-20210209062832-model\n",
      "create_time 2021-02-09 06:29:07.095510+00:00\n",
      "update_time 2021-02-09 06:43:36.716112+00:00\n",
      "container gcr.io/cloud-aiplatform/prediction/tf2-cpu.2-1:latest\n",
      "artifact_uri gs://jk-ucaip-demos/custom_job_20210209062832\n",
      "\n",
      "\n",
      "name projects/895222332033/locations/us-central1/models/5650909224629174272\n",
      "display_name image-classifier-pipeline-model\n",
      "create_time 2021-02-09 04:45:04.753475+00:00\n",
      "update_time 2021-02-09 05:04:32.716811+00:00\n",
      "container gcr.io/cloud-aiplatform/prediction/tf2-cpu.2-2:latest\n",
      "artifact_uri gs://jk-ucaip-demos/image-classifier-pipeline/model\n",
      "\n",
      "\n",
      "name projects/895222332033/locations/us-central1/models/9115180092681617408\n",
      "display_name custom-pipeline-20201207202948-model\n",
      "create_time 2020-12-07 20:56:01.300299+00:00\n",
      "update_time 2020-12-07 21:12:23.132470+00:00\n",
      "container gcr.io/cloud-aiplatform/prediction/tf2-cpu.2-2:latest\n",
      "artifact_uri gs://jk-ucaip-demos/custom_container_20201207202948/model\n",
      "\n",
      "\n"
     ]
    }
   ],
   "source": [
    "def list_models():\n",
    "    response = clients['model'].list_models(parent=PARENT)\n",
    "    for model in response:\n",
    "        print(\"name\", model.name)\n",
    "        print(\"display_name\", model.display_name)\n",
    "        print(\"create_time\", model.create_time)\n",
    "        print(\"update_time\", model.update_time)\n",
    "        print(\"container\", model.container_spec.image_uri)\n",
    "        print(\"artifact_uri\", model.artifact_uri)\n",
    "        print('\\n')\n",
    "\n",
    "\n",
    "list_models()"
   ]
  },
  {
   "cell_type": "markdown",
   "metadata": {
    "id": "MzBA6nFCuPKU"
   },
   "source": [
    "### Get model information\n",
    "\n",
    "Now let's get the model information for just your model. Use this helper function `get_model`, with the parameter:\n",
    "\n",
    "- `name`: The AI Platform (Unified) unique identifier for the managed model.\n",
    "\n",
    "This helper function uses the AI Platform (Unified) model client service, and calls the method `get_model`, with the parameter:\n",
    "\n",
    "- `name`: The AI Platform (Unified) unique identifier for the managed model."
   ]
  },
  {
   "cell_type": "code",
   "execution_count": 45,
   "metadata": {},
   "outputs": [],
   "source": [
    "model_to_deploy_name = 'projects/895222332033/locations/us-central1/models/9213256529879236608'"
   ]
  },
  {
   "cell_type": "code",
   "execution_count": 46,
   "metadata": {
    "colab": {
     "base_uri": "https://localhost:8080/"
    },
    "id": "1TCNSkKTuPKU",
    "outputId": "3529849d-6281-4ba2-80af-7eff998e8862"
   },
   "outputs": [
    {
     "name": "stdout",
     "output_type": "stream",
     "text": [
      "name: \"projects/895222332033/locations/us-central1/models/9213256529879236608\"\n",
      "display_name: \"cifar10-20210209062832\"\n",
      "predict_schemata {\n",
      "}\n",
      "metadata {\n",
      "}\n",
      "container_spec {\n",
      "  image_uri: \"gcr.io/cloud-aiplatform/prediction/tf2-cpu.2-1:latest\"\n",
      "}\n",
      "supported_deployment_resources_types: DEDICATED_RESOURCES\n",
      "supported_input_storage_formats: \"jsonl\"\n",
      "supported_input_storage_formats: \"csv\"\n",
      "supported_input_storage_formats: \"tf-record\"\n",
      "supported_input_storage_formats: \"tf-record-gzip\"\n",
      "supported_input_storage_formats: \"file-list\"\n",
      "supported_output_storage_formats: \"jsonl\"\n",
      "create_time {\n",
      "  seconds: 1612853106\n",
      "  nanos: 158228000\n",
      "}\n",
      "update_time {\n",
      "  seconds: 1612853121\n",
      "  nanos: 811328000\n",
      "}\n",
      "etag: \"AMEw9yM3WavqjS99QoqzWvA5_o_PUHqHaqN2gm86u18P8mQ1u6ZMHxCBwZMZp2raoZve\"\n",
      "supported_export_formats {\n",
      "  id: \"custom-trained\"\n",
      "  exportable_contents: ARTIFACT\n",
      "}\n",
      "artifact_uri: \"gs://jk-ucaip-demos/custom_job_20210209062832\"\n",
      "\n"
     ]
    }
   ],
   "source": [
    "def get_model(name):\n",
    "    response = clients['model'].get_model(name=name)\n",
    "    print(response)\n",
    "\n",
    "\n",
    "get_model(model_to_deploy_name)"
   ]
  },
  {
   "cell_type": "code",
   "execution_count": 47,
   "metadata": {},
   "outputs": [
    {
     "name": "stdout",
     "output_type": "stream",
     "text": [
      "2021-02-09 06:48:35.082368: I tensorflow/stream_executor/platform/default/dso_loader.cc:49] Successfully opened dynamic library libcudart.so.11.0\n",
      "The given SavedModel SignatureDef contains the following input(s):\n",
      "  inputs['bytes_inputs'] tensor_info:\n",
      "      dtype: DT_STRING\n",
      "      shape: (-1)\n",
      "      name: serving_default_bytes_inputs:0\n",
      "The given SavedModel SignatureDef contains the following output(s):\n",
      "  outputs['output_0'] tensor_info:\n",
      "      dtype: DT_FLOAT\n",
      "      shape: (-1, 10)\n",
      "      name: StatefulPartitionedCall:0\n",
      "Method name is: tensorflow/serving/predict\n"
     ]
    }
   ],
   "source": [
    "!saved_model_cli show --dir gs://jk-ucaip-demos/custom_job_20210209062832 --tag_set serve --signature_def serving_default"
   ]
  },
  {
   "cell_type": "markdown",
   "metadata": {
    "id": "nCubQml9uPKU"
   },
   "source": [
    "### Create an endpoint\n",
    "\n",
    "Use this helper function `create_endpoint` to create an endpoint to deploy the model to for serving predictions, with the parameter:\n",
    "\n",
    "- `display_name`: A human readable name for the endpoint.\n",
    "\n",
    "The helper function uses the endpoint client service and calls the method `create_endpoint`, which takes the parameter:\n",
    "\n",
    "- `display_name`: A human readable name for the endpoint.\n",
    "\n",
    "Creating an endpoint returns a long running operation, since it may take a few moments to provision the endpoint for serving. You call `response.result()`, which is a synchronous call and will return when the endpoint is ready. The helper function will return the AI Platform (Unified) fully qualified identifier for the endpoint -- `response.name`.\n"
   ]
  },
  {
   "cell_type": "code",
   "execution_count": 48,
   "metadata": {
    "colab": {
     "base_uri": "https://localhost:8080/"
    },
    "id": "4f59jD0juPKU",
    "outputId": "09ea6495-2d73-4b97-fcbd-49cf371f4c47"
   },
   "outputs": [
    {
     "name": "stdout",
     "output_type": "stream",
     "text": [
      "Long running operation: projects/895222332033/locations/us-central1/endpoints/7178280409191415808/operations/8607449812230471680\n",
      "result\n",
      " name: projects/895222332033/locations/us-central1/endpoints/7178280409191415808\n",
      " display_name: \n",
      " description: \n",
      " labels: {}\n",
      " create_time: None\n",
      " update_time: None\n"
     ]
    }
   ],
   "source": [
    "ENDPOINT_NAME = \"cifar10_endpoint-\" + TIMESTAMP\n",
    "\n",
    "\n",
    "def create_endpoint(display_name):\n",
    "    endpoint = {\"display_name\": display_name}\n",
    "    response = clients['endpoint'].create_endpoint(parent=PARENT, endpoint=endpoint)\n",
    "    print(\"Long running operation:\", response.operation.name)\n",
    "\n",
    "    result = response.result(timeout=300)\n",
    "    print(\"result\")\n",
    "    print(\" name:\", result.name)\n",
    "    print(\" display_name:\", result.display_name)\n",
    "    print(\" description:\", result.description)\n",
    "    print(\" labels:\", result.labels)\n",
    "    print(\" create_time:\", result.create_time)\n",
    "    print(\" update_time:\", result.update_time)\n",
    "    return result.name\n",
    "\n",
    "\n",
    "endpoint_name = create_endpoint(ENDPOINT_NAME)"
   ]
  },
  {
   "cell_type": "markdown",
   "metadata": {
    "id": "rgQkTBcAuPKU"
   },
   "source": [
    "### Deploy model to the endpoint\n",
    "\n",
    "Use this helper function `deploy_model` to deploy the model to the endpoint you created for serving predictions, with the parameters:\n",
    "\n",
    "- `model`: The AI Platform (Unified) fully qualified model identifier of the model to upload (deploy) from the training pipeline.\n",
    "- `deploy_mopdel_display_name`: A human readable name for the deployed model.\n",
    "- `endpoint`: The AI Platform (Unified) fully qualified endpoint identifier to deploy the model to.\n",
    "\n",
    "The helper function uses the endpoint client service and calls the method `deploy_model`, which takes the parameters:\n",
    "\n",
    "- `endpoint`: The AI Platform (Unified) fully qualified endpoint identifier to deploy the model to.\n",
    "- `deployed_model`: The requirements for deploying the model.\n",
    "- `traffic_split`: Percent of traffic at endpoint that goes to this model, which is specified as a dictioney of one or more key/value pairs.\n",
    "   - If only one model, then specify as { \"0\": 100 }, where \"0\" refers to this model being uploaded and 100 means 100% of the traffic.\n",
    "   - If there are existing models on the endpoint, for which the traffic will be split, then specify as, where `model_id` is the model id of an existing model to the deployed endpoint. The percents must add up to 100.\n",
    "   \n",
    "           { \"0\": percent, model_id: percent, ... }\n",
    "\n",
    "Let's now dive deeper into the `deployed_model` parameter. This parameter is specified as a Python dictionary with the minimum required fields:\n",
    "\n",
    "- `model`: The AI Platform (Unified) fully qualified model identifier of the (upload) model to deploy.\n",
    "- `display_name`: A human readable name for the deployed model.\n",
    "- `dedicated_resources`: This refers to how many redundant compute instances (replicas) and type of compute instance (machine_spec). For this example, we set it to one (no replication). If using a GPU, the corresponding container image must support a GPU.\n",
    "\n",
    "Let's now dive deeper into the `traffic_split` parameter. This parameter is specified as a python dictionary. This might at first be a tad bit confusing. Let me explain, you can deploy more than one instance of your model to an endpoint, and then set how much (percent) goes to each instance. \n",
    "\n",
    "Why would you do that? Perhaps you already have a previous version deployed in production -- let's call that v1. You got better model evaluation on v2, but you don't know for certain that it is really better until you deploy to production. So in the case of traffic split, you might want to deploy v2 to the same endpoint as v1, but it only get's say 10% of the traffic. That way, you can monitor how well it does without disrupting the majority of users -- until you make a final decision."
   ]
  },
  {
   "cell_type": "code",
   "execution_count": 49,
   "metadata": {
    "colab": {
     "base_uri": "https://localhost:8080/"
    },
    "id": "vesbYp_BuPKU",
    "outputId": "77ec11a3-e4f5-401c-ff9e-77fb3084e2e5"
   },
   "outputs": [
    {
     "name": "stdout",
     "output_type": "stream",
     "text": [
      "Long running operation: projects/895222332033/locations/us-central1/endpoints/7178280409191415808/operations/2293403134657036288\n",
      "result\n",
      " deployed_model\n",
      "  id: 9068947827756892160\n",
      "  model: \n",
      "  display_name: \n",
      "  create_time: None\n"
     ]
    }
   ],
   "source": [
    "DEPLOYED_NAME = \"cifar10_deployed-\" + TIMESTAMP\n",
    "\n",
    "\n",
    "def deploy_model(model, deployed_model_display_name, endpoint, traffic_split={\"0\": 100}):\n",
    "    # Accelerators can be used only if the model specifies a GPU image.\n",
    "    if DEPLOY_GPU:\n",
    "        machine_spec = {\n",
    "            \"machine_type\": DEPLOY_COMPUTE,\n",
    "            \"accelerator_type\": DEPLOY_GPU,\n",
    "            \"accelerator_count\": DEPLOY_NGPU,\n",
    "        }\n",
    "    else:\n",
    "        machine_spec = {\n",
    "            \"machine_type\": DEPLOY_COMPUTE,\n",
    "            \"accelerator_count\": 0,\n",
    "        }\n",
    "\n",
    "    deployed_model = {\n",
    "        \"model\": model,\n",
    "        \"display_name\": deployed_model_display_name,\n",
    "        # `dedicated_resources` must be used for non-AutoML models\n",
    "        \"dedicated_resources\": {\n",
    "            \"min_replica_count\": 1,\n",
    "            \"machine_spec\": machine_spec\n",
    "        },\n",
    "    }\n",
    "\n",
    "    response = clients['endpoint'].deploy_model(\n",
    "        endpoint=endpoint, deployed_model=deployed_model, traffic_split=traffic_split)\n",
    "\n",
    "    print(\"Long running operation:\", response.operation.name)\n",
    "    result = response.result()\n",
    "    print(\"result\")\n",
    "    deployed_model = result.deployed_model\n",
    "    print(\" deployed_model\")\n",
    "    print(\"  id:\", deployed_model.id)\n",
    "    print(\"  model:\", deployed_model.model)\n",
    "    print(\"  display_name:\", deployed_model.display_name)\n",
    "    print(\"  create_time:\", deployed_model.create_time)\n",
    "\n",
    "    return deployed_model.id\n",
    "\n",
    "\n",
    "deployed_model_id = deploy_model(model_to_deploy_name, DEPLOYED_NAME, endpoint_name)"
   ]
  },
  {
   "cell_type": "markdown",
   "metadata": {
    "id": "LFvyW25wuPKU"
   },
   "source": [
    "### List all endpoints\n",
    "\n",
    "Let's now get a list of all your endpoints. Use this helper function `list_endpoints`. \n",
    "\n",
    "The helper function uses the endpoint client service and calls the method `list_endpoints`. The returned response object is a list, with an element for each endpoint. The helper function lists a few example fields for each endpoint:\n",
    "\n",
    "- `name`: The AI Platform (Unified) identifier for the managed endpoint.\n",
    "- `display_name`: The human readable name you assigned to the endpoint.\n",
    "- `create_time`: When the endpoint was created.\n",
    "- `deployed_models`: The models and associated information that are deployed to this endpoint."
   ]
  },
  {
   "cell_type": "code",
   "execution_count": 50,
   "metadata": {
    "colab": {
     "base_uri": "https://localhost:8080/"
    },
    "id": "SblRzfxBuPKV",
    "outputId": "dc29e32b-5dc6-41c3-fddc-39da0e4adf47"
   },
   "outputs": [
    {
     "name": "stdout",
     "output_type": "stream",
     "text": [
      "name: projects/895222332033/locations/us-central1/endpoints/7178280409191415808\n",
      "display name: cifar10_endpoint-20210209062832\n",
      "create_time: 2021-02-09 06:48:51.641832+00:00\n",
      "deployed_models [id: \"9068947827756892160\"\n",
      "model: \"projects/895222332033/locations/us-central1/models/9213256529879236608\"\n",
      "display_name: \"cifar10_deployed-20210209062832\"\n",
      "create_time {\n",
      "  seconds: 1612853371\n",
      "  nanos: 781338000\n",
      "}\n",
      "dedicated_resources {\n",
      "  machine_spec {\n",
      "    machine_type: \"n1-standard-4\"\n",
      "  }\n",
      "  min_replica_count: 1\n",
      "  max_replica_count: 1\n",
      "}\n",
      "]\n",
      "\n",
      "\n",
      "name: projects/895222332033/locations/us-central1/endpoints/4138350660716331008\n",
      "display name: flower_classifier_endpoint\n",
      "create_time: 2021-02-09 05:09:11.854545+00:00\n",
      "deployed_models [id: \"5735158203595882496\"\n",
      "model: \"projects/895222332033/locations/us-central1/models/5650909224629174272\"\n",
      "display_name: \"flower_classifier\"\n",
      "create_time {\n",
      "  seconds: 1612847378\n",
      "  nanos: 180624000\n",
      "}\n",
      "dedicated_resources {\n",
      "  machine_spec {\n",
      "    machine_type: \"n1-standard-4\"\n",
      "  }\n",
      "  min_replica_count: 1\n",
      "  max_replica_count: 1\n",
      "}\n",
      "]\n",
      "\n",
      "\n"
     ]
    }
   ],
   "source": [
    "def list_endpoints():\n",
    "    response = clients['endpoint'].list_endpoints(parent=PARENT)\n",
    "    for endpoint in response:\n",
    "        print(\"name:\", endpoint.name)\n",
    "        print(\"display name:\", endpoint.display_name)\n",
    "        print(\"create_time:\", endpoint.create_time)\n",
    "        print(\"deployed_models\", endpoint.deployed_models)\n",
    "        print(\"\\n\")\n",
    "        \n",
    "list_endpoints()"
   ]
  },
  {
   "cell_type": "markdown",
   "metadata": {
    "id": "9YgaUsFpuPKV"
   },
   "source": [
    "### Get information on this endpoint\n",
    "\n",
    "Now let's get the endpoint information for just your endpoint. Use this helper function `get_endpoint`, with the parameter:\n",
    "\n",
    "- `name`: The AI Platform (Unified) unique identifier for the managed endpoint.\n",
    "\n",
    "This helper function uses the AI Platform (Unified) endpoint client service, and calls the method `get_endpoint`, with the parameter:\n",
    "\n",
    "- `name`: The AI Platform (Unified) unique identifier for the managed endpoint."
   ]
  },
  {
   "cell_type": "code",
   "execution_count": 51,
   "metadata": {
    "colab": {
     "base_uri": "https://localhost:8080/"
    },
    "id": "woZp6hHBuPKV",
    "outputId": "2bb660ed-d688-405b-c1cd-6e9b2868c8e9"
   },
   "outputs": [
    {
     "name": "stdout",
     "output_type": "stream",
     "text": [
      "name: \"projects/895222332033/locations/us-central1/endpoints/7178280409191415808\"\n",
      "display_name: \"cifar10_endpoint-20210209062832\"\n",
      "deployed_models {\n",
      "  id: \"9068947827756892160\"\n",
      "  model: \"projects/895222332033/locations/us-central1/models/9213256529879236608\"\n",
      "  display_name: \"cifar10_deployed-20210209062832\"\n",
      "  create_time {\n",
      "    seconds: 1612853371\n",
      "    nanos: 781338000\n",
      "  }\n",
      "  dedicated_resources {\n",
      "    machine_spec {\n",
      "      machine_type: \"n1-standard-4\"\n",
      "    }\n",
      "    min_replica_count: 1\n",
      "    max_replica_count: 1\n",
      "  }\n",
      "}\n",
      "traffic_split {\n",
      "  key: \"9068947827756892160\"\n",
      "  value: 100\n",
      "}\n",
      "etag: \"AMEw9yOD5zUeGsqbYgh52EDwSJyeHQ2bkUsSJbTcWcoYUL0ZkEMKja9C4-h6VgrMWrxL\"\n",
      "create_time {\n",
      "  seconds: 1612853331\n",
      "  nanos: 641832000\n",
      "}\n",
      "update_time {\n",
      "  seconds: 1612853571\n",
      "  nanos: 570848000\n",
      "}\n",
      "\n"
     ]
    }
   ],
   "source": [
    "def get_endpoint(name):\n",
    "    response = clients['endpoint'].get_endpoint(name=name)\n",
    "    print(response)\n",
    "    \n",
    "get_endpoint(endpoint_name)"
   ]
  },
  {
   "cell_type": "markdown",
   "metadata": {
    "id": "E_brO1GYuPKV"
   },
   "source": [
    "## Make a prediction request\n",
    "\n",
    "Let's now do a prediction to your deployed model. You will use an arbitrary image out of the test (holdout) portion of the dataset as a test image. "
   ]
  },
  {
   "cell_type": "code",
   "execution_count": 55,
   "metadata": {
    "colab": {
     "base_uri": "https://localhost:8080/"
    },
    "id": "nieA8ZbTuPKV",
    "outputId": "7421430c-98fc-4893-a29b-1bbaf7eb96a6"
   },
   "outputs": [
    {
     "name": "stdout",
     "output_type": "stream",
     "text": [
      "(32, 32, 3)\n"
     ]
    }
   ],
   "source": [
    "test_image = x_test[0]\n",
    "test_label = y_test[0]\n",
    "print(test_image.shape)"
   ]
  },
  {
   "cell_type": "markdown",
   "metadata": {
    "id": "ZRffeFzJuPKV"
   },
   "source": [
    "### Prepare the request content\n",
    "You are going to send the CIFAR10 image as compressed JPG image, instead of the raw uncompressed bytes:\n",
    "\n",
    "- `cv2.imwrite`: Use openCV to write the uncompressed image to disk as a compressed JPEG image.\n",
    "- `tf.io.read_file`: Read the compressed JPG images back into memory as raw bytes.\n",
    "- `base64.b64encode`: Encode the raw bytes into a base 64 encoded string."
   ]
  },
  {
   "cell_type": "code",
   "execution_count": 56,
   "metadata": {
    "id": "k_6PRECbuPKW"
   },
   "outputs": [],
   "source": [
    "import base64\n",
    "import cv2\n",
    "cv2.imwrite('tmp.jpg', (test_image * 255).astype(np.uint8))\n",
    "\n",
    "bytes = tf.io.read_file('tmp.jpg')\n",
    "b64str = base64.b64encode(bytes.numpy()).decode('utf-8')"
   ]
  },
  {
   "cell_type": "markdown",
   "metadata": {
    "id": "t2sF983quPKW"
   },
   "source": [
    "### Send the prediction request\n",
    "\n",
    "Ok, now you have a test image. Use this helper function `predict_image`, which takes the parameters:\n",
    "\n",
    "- `image`: The test image data as a numpy array.\n",
    "- `endpoint`: The AI Platform (Unified) fully qualified identifier for the endpoint where the model was deployed.\n",
    "- `parameters_dict`: Additional parameters for serving -- in our case we will pass None.\n",
    "\n",
    "This function uses the prediction client service and calls the `predict` method with the parameters:\n",
    "\n",
    "- `endpoint`: The AI Platform (Unified) fully qualified identifier for the endpoint where the model was deployed.\n",
    "- `instances`: A list of instances (encoded images) to predict.\n",
    "- `parameters`: Additional parameters for serving -- in our case we will pass None.\n",
    "\n",
    "To pass the image data to the prediction service, in the previous step you encoded the bytes into base 64 -- which makes the content safe from modification when transmitting binary data over the network. You need to tell the serving binary where your model is deployed to, that the content has been base 64 encoded, so it will decode it on the other end in the serving binary. \n",
    "\n",
    "Each instance in the prediction request is a dictionary entry of the form:\n",
    "\n",
    "                        {input_name: {'b64': content }}\n",
    "                        \n",
    "- `input_name`: the name of the input layer of the underlying model.\n",
    "- `'b64'`: A key that indicates the content is base 64 encoded.\n",
    "- `content`: The compressed JPG image bytes as a base 64 encoded string.\n",
    "\n",
    "Since the `predict()` service can take multiple images (instances), you will send your single image as a list of one image. As a final step, you package the instances list into Google's protobuf format -- which is what we pass to the `predict()` service.\n",
    "\n",
    "The `response` object returns a list, where each element in the list corresponds to the corresponding image in the request. You will see in the output for each prediction:\n",
    "\n",
    "- Confidence level for the prediction (`predictions`, between 0 and 1, for each of the ten classes."
   ]
  },
  {
   "cell_type": "code",
   "execution_count": 54,
   "metadata": {
    "colab": {
     "base_uri": "https://localhost:8080/"
    },
    "id": "d9BzOi4ouPKW",
    "outputId": "680b5af3-034c-4b5c-b058-d889565ff4c2"
   },
   "outputs": [
    {
     "name": "stdout",
     "output_type": "stream",
     "text": [
      "response\n",
      " deployed_model_id: 9068947827756892160\n",
      "predictions\n",
      " prediction: [number_value: 0.0542071238\n",
      ", number_value: 0.123890653\n",
      ", number_value: 0.13018699\n",
      ", number_value: 0.101057075\n",
      ", number_value: 0.126441136\n",
      ", number_value: 0.0624700896\n",
      ", number_value: 0.165409654\n",
      ", number_value: 0.0998696536\n",
      ", number_value: 0.0431430601\n",
      ", number_value: 0.0933246538\n",
      "]\n"
     ]
    }
   ],
   "source": [
    "def predict_image(image, endpoint, parameters_dict):\n",
    "    # The format of each instance should conform to the deployed model's prediction input schema.\n",
    "    instances_list = [{input_name: {'b64': image}}]\n",
    "    instances = [json_format.ParseDict(s, Value()) for s in instances_list]\n",
    "\n",
    "    response = clients['prediction'].predict(endpoint=endpoint, instances=instances, parameters=parameters_dict)\n",
    "    print(\"response\")\n",
    "    print(\" deployed_model_id:\", response.deployed_model_id)\n",
    "    predictions = response.predictions\n",
    "    print(\"predictions\")\n",
    "    for prediction in predictions:\n",
    "        # See gs://google-cloud-aiplatform/schema/predict/prediction/classification.yaml for the format of the predictions.\n",
    "        print(\" prediction:\", prediction)\n",
    "\n",
    "\n",
    "predict_image(b64str, endpoint_name, None)"
   ]
  },
  {
   "cell_type": "markdown",
   "metadata": {
    "id": "47-jR-9kuPKW"
   },
   "source": [
    "## Undeploy the model\n",
    "\n",
    "Let's now undeploy your model from the serving endpoint. Use this helper function `undeploy_model`, which takes the parameters:\n",
    "\n",
    "- `deployed_model_id`: The model deployment identifier returned by the endpoint service when the model was deployed.\n",
    "- `endpoint`: The AI Platform (Unified) fully qualified identifier for the endpoint where the model is deployed.\n",
    "\n",
    "This function uses the endpoint client service and calls the method `undeploy_model`, with the parameters:\n",
    "\n",
    "- `deployed_model_id`: The model deployment identifier returned by the endpoint service when the model was deployed.\n",
    "- `endpoint`: The AI Platform (Unified) fully qualified identifier for the endpoint where the model is deployed.\n",
    "- `traffic_split`: How to split traffic among the remaining deployed models on the endpoint.\n",
    "\n",
    "Since this is the only deployed model on the endpoint, we simply can leave `traffic_split` empty by setting it to {}."
   ]
  },
  {
   "cell_type": "code",
   "execution_count": null,
   "metadata": {
    "id": "cXZRYonuuPKW"
   },
   "outputs": [],
   "source": [
    "def undeploy_model(deployed_model_id, endpoint):\n",
    "    response = clients['endpoint'].undeploy_model(endpoint=endpoint, deployed_model_id=deployed_model_id, traffic_split={})\n",
    "    print(response)\n",
    "\n",
    "\n",
    "undeploy_model(deployed_model_id, endpoint_name)"
   ]
  },
  {
   "cell_type": "markdown",
   "metadata": {
    "id": "TpV-iwP9qw9c"
   },
   "source": [
    "# Cleaning up\n",
    "\n",
    "To clean up all GCP resources used in this project, you can [delete the GCP\n",
    "project](https://cloud.google.com/resource-manager/docs/creating-managing-projects#shutting_down_projects) you used for the tutorial.\n",
    "\n",
    "Otherwise, you can delete the individual resources you created in this tutorial:\n",
    "\n",
    "- Dataset\n",
    "- Model\n",
    "- Endpoint\n",
    "- Cloud Storage Bucket"
   ]
  },
  {
   "cell_type": "code",
   "execution_count": null,
   "metadata": {
    "id": "sx_vKniMq9ZX"
   },
   "outputs": [],
   "source": [
    "delete_dataset = True\n",
    "delete_model = True\n",
    "delete_endpoint = True\n",
    "delete_bucket = True\n",
    "\n",
    "# Delete the dataset using the AI Platform (Unified) fully qualified identifier for the dataset\n",
    "try:\n",
    "    if delete_dataset:\n",
    "        clients['dataset'].delete_dataset(name=dataset['name'])\n",
    "except Exception as e:\n",
    "    print(e)\n",
    "\n",
    "# Delete the model using the AI Platform (Unified) fully qualified identifier for the model\n",
    "try:\n",
    "    if delete_model:\n",
    "        clients['model'].delete_model(name=model_to_deploy_name)\n",
    "except Exception as e:\n",
    "    print(e)\n",
    "\n",
    "# Delete the endpoint using the AI Platform (Unified) fully qualified identifier for the endpoint\n",
    "try:\n",
    "    if delete_endpoint:\n",
    "        clients['endpoint'].delete_endpoint(name=endpoint_name)\n",
    "except Exception as e:\n",
    "    print(e)\n",
    "\n",
    "if delete_bucket and 'BUCKET_NAME' in globals():\n",
    "    ! gsutil rm -r gs://$BUCKET_NAME"
   ]
  }
 ],
 "metadata": {
  "colab": {
   "collapsed_sections": [],
   "name": "ucaip_customjob_image_pipeline.ipynb",
   "provenance": [],
   "toc_visible": true
  },
  "environment": {
   "name": "tf2-gpu.2-4.mnightly-2021-01-20-debian-10-test",
   "type": "gcloud",
   "uri": "gcr.io/deeplearning-platform-release/tf2-gpu.2-4:mnightly-2021-01-20-debian-10-test"
  },
  "kernelspec": {
   "display_name": "Python 3",
   "language": "python",
   "name": "python3"
  },
  "language_info": {
   "codemirror_mode": {
    "name": "ipython",
    "version": 3
   },
   "file_extension": ".py",
   "mimetype": "text/x-python",
   "name": "python",
   "nbconvert_exporter": "python",
   "pygments_lexer": "ipython3",
   "version": "3.7.9"
  }
 },
 "nbformat": 4,
 "nbformat_minor": 4
}
