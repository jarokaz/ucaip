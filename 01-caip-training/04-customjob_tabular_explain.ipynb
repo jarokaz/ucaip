{
 "cells": [
  {
   "cell_type": "code",
   "execution_count": null,
   "metadata": {
    "id": "ur8xi4C7S06n"
   },
   "outputs": [],
   "source": [
    "# Copyright 2020 Google LLC\n",
    "#\n",
    "# Licensed under the Apache License, Version 2.0 (the \"License\");\n",
    "# you may not use this file except in compliance with the License.\n",
    "# You may obtain a copy of the License at\n",
    "#\n",
    "#     https://www.apache.org/licenses/LICENSE-2.0\n",
    "#\n",
    "# Unless required by applicable law or agreed to in writing, software\n",
    "# distributed under the License is distributed on an \"AS IS\" BASIS,\n",
    "# WITHOUT WARRANTIES OR CONDITIONS OF ANY KIND, either express or implied.\n",
    "# See the License for the specific language governing permissions and\n",
    "# limitations under the License."
   ]
  },
  {
   "cell_type": "markdown",
   "metadata": {
    "id": "eHLV0D7Y5jtU"
   },
   "source": [
    "# AI Platform (Unified) SDK: Custom tabular regression model for online prediction with explainability\n",
    "\n",
    "<table align=\"left\">\n",
    "  <td>\n",
    "    <a href=\"https://colab.research.google.com/github/GoogleCloudPlatform/ai-platform-samples/master/notebooks/deepdive/custom/ucaip_customjob_tabular_explain.ipynb\">\n",
    "      <img src=\"https://cloud.google.com/ml-engine/images/colab-logo-32px.png\" alt=\"Colab logo\"> Run in Colab\n",
    "    </a>\n",
    "  </td>\n",
    "  <td>\n",
    "    <a href=\"https://github.com/GoogleCloudPlatform/ai-platform-samples/master/notebooks/deepdive/custom/ucaip_customjob_tabular_explain.ipynb\">\n",
    "      <img src=\"https://cloud.google.com/ml-engine/images/github-logo-32px.png\" alt=\"GitHub logo\">\n",
    "      View on GitHub\n",
    "    </a>\n",
    "  </td>\n",
    "</table>"
   ]
  },
  {
   "cell_type": "markdown",
   "metadata": {
    "id": "tvgnzT1CKxrO"
   },
   "source": [
    "# Overview\n",
    "\n",
    "\n",
    "This tutorial demonstrates how to use the AI Platform (Unified) Python SDK to train and deploy a custom tabular regression model for online prediction with explanations.\n",
    "\n",
    "### Dataset\n",
    "\n",
    "The dataset used for this tutorial is the [Boston Housing Prices dataset](https://www.cs.toronto.edu/~delve/data/boston/bostonDetail.html). The version of the dataset you will use in this tutorial is built into Tensorflow. The trained model predicts the median price of a house in units of 1K USD.\n",
    "\n",
    "### Objective\n",
    "\n",
    "In this notebook, you will learn how to create a custom model from a Python script in a docker container using the AI Platform (Unified) SDK, and then do a prediction with explainability on the deployed model. You can alternatively create custom models from the command line using `gcloud` or online using Google Cloud Console.\n",
    "\n",
    "The steps performed include: \n",
    "\n",
    "- Create an AI Platform (Unified) custom job for training a model.\n",
    "- Train the model.\n",
    "- Retrieve and load the model (artifacts).\n",
    "- View the model evaluation.\n",
    "- Upload the model as a AI Platform (Unified) model.\n",
    "- Deploy the model to a serving endpoint.\n",
    "- Make a prediction with explanations.\n",
    "- Undeploy the model.\n",
    "\n",
    "### Costs \n",
    "\n",
    "This tutorial uses billable components of Google Cloud Platform (GCP):\n",
    "\n",
    "* Cloud AI Platform\n",
    "* Cloud Storage\n",
    "\n",
    "Learn about [Cloud AI Platform\n",
    "pricing](https://cloud.google.com/ml-engine/docs/pricing) and [Cloud Storage\n",
    "pricing](https://cloud.google.com/storage/pricing), and use the [Pricing\n",
    "Calculator](https://cloud.google.com/products/calculator/)\n",
    "to generate a cost estimate based on your projected usage."
   ]
  },
  {
   "cell_type": "markdown",
   "metadata": {
    "id": "i7EUnXsZhAGF"
   },
   "source": [
    "## Installation\n",
    "\n",
    "Install the latest (preview) version of AI Platform (Unified) SDK."
   ]
  },
  {
   "cell_type": "code",
   "execution_count": 1,
   "metadata": {
    "id": "wyy5Lbnzg5fi"
   },
   "outputs": [
    {
     "name": "stdout",
     "output_type": "stream",
     "text": [
      "Requirement already satisfied: google-cloud-aiplatform in /home/jupyter/.local/lib/python3.7/site-packages (0.4.0)\n",
      "Collecting google-cloud-aiplatform\n",
      "  Downloading google_cloud_aiplatform-0.5.1-py2.py3-none-any.whl (1.1 MB)\n",
      "\u001b[K     |████████████████████████████████| 1.1 MB 8.2 MB/s eta 0:00:01\n",
      "\u001b[?25hRequirement already satisfied: google-api-core[grpc]<2.0.0dev,>=1.22.2 in /opt/conda/lib/python3.7/site-packages (from google-cloud-aiplatform) (1.22.4)\n",
      "Requirement already satisfied: google-cloud-storage<2.0.0dev,>=1.26.0 in /opt/conda/lib/python3.7/site-packages (from google-cloud-aiplatform) (1.30.0)\n",
      "Requirement already satisfied: proto-plus>=1.10.1 in /opt/conda/lib/python3.7/site-packages (from google-cloud-aiplatform) (1.13.0)\n",
      "Requirement already satisfied: setuptools>=34.0.0 in /opt/conda/lib/python3.7/site-packages (from google-api-core[grpc]<2.0.0dev,>=1.22.2->google-cloud-aiplatform) (51.3.3)\n",
      "Requirement already satisfied: six>=1.13.0 in /opt/conda/lib/python3.7/site-packages (from google-api-core[grpc]<2.0.0dev,>=1.22.2->google-cloud-aiplatform) (1.15.0)\n",
      "Requirement already satisfied: protobuf>=3.12.0 in /opt/conda/lib/python3.7/site-packages (from google-api-core[grpc]<2.0.0dev,>=1.22.2->google-cloud-aiplatform) (3.14.0)\n",
      "Requirement already satisfied: pytz in /opt/conda/lib/python3.7/site-packages (from google-api-core[grpc]<2.0.0dev,>=1.22.2->google-cloud-aiplatform) (2020.5)\n",
      "Requirement already satisfied: google-auth<2.0dev,>=1.21.1 in /opt/conda/lib/python3.7/site-packages (from google-api-core[grpc]<2.0.0dev,>=1.22.2->google-cloud-aiplatform) (1.24.0)\n",
      "Requirement already satisfied: requests<3.0.0dev,>=2.18.0 in /opt/conda/lib/python3.7/site-packages (from google-api-core[grpc]<2.0.0dev,>=1.22.2->google-cloud-aiplatform) (2.25.1)\n",
      "Requirement already satisfied: googleapis-common-protos<2.0dev,>=1.6.0 in /opt/conda/lib/python3.7/site-packages (from google-api-core[grpc]<2.0.0dev,>=1.22.2->google-cloud-aiplatform) (1.52.0)\n",
      "Requirement already satisfied: grpcio<2.0dev,>=1.29.0 in /opt/conda/lib/python3.7/site-packages (from google-api-core[grpc]<2.0.0dev,>=1.22.2->google-cloud-aiplatform) (1.34.1)\n",
      "Requirement already satisfied: rsa<5,>=3.1.4 in /opt/conda/lib/python3.7/site-packages (from google-auth<2.0dev,>=1.21.1->google-api-core[grpc]<2.0.0dev,>=1.22.2->google-cloud-aiplatform) (4.7)\n",
      "Requirement already satisfied: pyasn1-modules>=0.2.1 in /opt/conda/lib/python3.7/site-packages (from google-auth<2.0dev,>=1.21.1->google-api-core[grpc]<2.0.0dev,>=1.22.2->google-cloud-aiplatform) (0.2.8)\n",
      "Requirement already satisfied: cachetools<5.0,>=2.0.0 in /opt/conda/lib/python3.7/site-packages (from google-auth<2.0dev,>=1.21.1->google-api-core[grpc]<2.0.0dev,>=1.22.2->google-cloud-aiplatform) (4.2.0)\n",
      "Requirement already satisfied: google-resumable-media<2.0dev,>=0.6.0 in /opt/conda/lib/python3.7/site-packages (from google-cloud-storage<2.0.0dev,>=1.26.0->google-cloud-aiplatform) (1.2.0)\n",
      "Requirement already satisfied: google-cloud-core<2.0dev,>=1.2.0 in /opt/conda/lib/python3.7/site-packages (from google-cloud-storage<2.0.0dev,>=1.26.0->google-cloud-aiplatform) (1.3.0)\n",
      "Requirement already satisfied: google-crc32c<2.0dev,>=1.0 in /opt/conda/lib/python3.7/site-packages (from google-resumable-media<2.0dev,>=0.6.0->google-cloud-storage<2.0.0dev,>=1.26.0->google-cloud-aiplatform) (1.1.2)\n",
      "Requirement already satisfied: cffi>=1.0.0 in /opt/conda/lib/python3.7/site-packages (from google-crc32c<2.0dev,>=1.0->google-resumable-media<2.0dev,>=0.6.0->google-cloud-storage<2.0.0dev,>=1.26.0->google-cloud-aiplatform) (1.14.4)\n",
      "Requirement already satisfied: pycparser in /opt/conda/lib/python3.7/site-packages (from cffi>=1.0.0->google-crc32c<2.0dev,>=1.0->google-resumable-media<2.0dev,>=0.6.0->google-cloud-storage<2.0.0dev,>=1.26.0->google-cloud-aiplatform) (2.20)\n",
      "Requirement already satisfied: pyasn1<0.5.0,>=0.4.6 in /opt/conda/lib/python3.7/site-packages (from pyasn1-modules>=0.2.1->google-auth<2.0dev,>=1.21.1->google-api-core[grpc]<2.0.0dev,>=1.22.2->google-cloud-aiplatform) (0.4.8)\n",
      "Requirement already satisfied: chardet<5,>=3.0.2 in /opt/conda/lib/python3.7/site-packages (from requests<3.0.0dev,>=2.18.0->google-api-core[grpc]<2.0.0dev,>=1.22.2->google-cloud-aiplatform) (4.0.0)\n",
      "Requirement already satisfied: idna<3,>=2.5 in /opt/conda/lib/python3.7/site-packages (from requests<3.0.0dev,>=2.18.0->google-api-core[grpc]<2.0.0dev,>=1.22.2->google-cloud-aiplatform) (2.10)\n",
      "Requirement already satisfied: certifi>=2017.4.17 in /opt/conda/lib/python3.7/site-packages (from requests<3.0.0dev,>=2.18.0->google-api-core[grpc]<2.0.0dev,>=1.22.2->google-cloud-aiplatform) (2020.12.5)\n",
      "Requirement already satisfied: urllib3<1.27,>=1.21.1 in /opt/conda/lib/python3.7/site-packages (from requests<3.0.0dev,>=2.18.0->google-api-core[grpc]<2.0.0dev,>=1.22.2->google-cloud-aiplatform) (1.26.2)\n",
      "Installing collected packages: google-cloud-aiplatform\n",
      "  Attempting uninstall: google-cloud-aiplatform\n",
      "    Found existing installation: google-cloud-aiplatform 0.4.0\n",
      "    Uninstalling google-cloud-aiplatform-0.4.0:\n",
      "      Successfully uninstalled google-cloud-aiplatform-0.4.0\n",
      "Successfully installed google-cloud-aiplatform-0.5.1\n"
     ]
    }
   ],
   "source": [
    "! pip3 install -U google-cloud-aiplatform --user"
   ]
  },
  {
   "cell_type": "markdown",
   "metadata": {
    "id": "o74xQbsQ46vP"
   },
   "source": [
    "Install the Google `cloud-storage` as well."
   ]
  },
  {
   "cell_type": "code",
   "execution_count": 2,
   "metadata": {
    "id": "edUyOtmc46vQ"
   },
   "outputs": [
    {
     "name": "stdout",
     "output_type": "stream",
     "text": [
      "Requirement already satisfied: google-cloud-storage in /opt/conda/lib/python3.7/site-packages (1.30.0)\n",
      "Requirement already satisfied: google-cloud-core<2.0dev,>=1.2.0 in /opt/conda/lib/python3.7/site-packages (from google-cloud-storage) (1.3.0)\n",
      "Requirement already satisfied: google-auth<2.0dev,>=1.11.0 in /opt/conda/lib/python3.7/site-packages (from google-cloud-storage) (1.24.0)\n",
      "Requirement already satisfied: google-resumable-media<2.0dev,>=0.6.0 in /opt/conda/lib/python3.7/site-packages (from google-cloud-storage) (1.2.0)\n",
      "Requirement already satisfied: pyasn1-modules>=0.2.1 in /opt/conda/lib/python3.7/site-packages (from google-auth<2.0dev,>=1.11.0->google-cloud-storage) (0.2.8)\n",
      "Requirement already satisfied: setuptools>=40.3.0 in /opt/conda/lib/python3.7/site-packages (from google-auth<2.0dev,>=1.11.0->google-cloud-storage) (51.3.3)\n",
      "Requirement already satisfied: cachetools<5.0,>=2.0.0 in /opt/conda/lib/python3.7/site-packages (from google-auth<2.0dev,>=1.11.0->google-cloud-storage) (4.2.0)\n",
      "Requirement already satisfied: rsa<5,>=3.1.4 in /opt/conda/lib/python3.7/site-packages (from google-auth<2.0dev,>=1.11.0->google-cloud-storage) (4.7)\n",
      "Requirement already satisfied: six>=1.9.0 in /opt/conda/lib/python3.7/site-packages (from google-auth<2.0dev,>=1.11.0->google-cloud-storage) (1.15.0)\n",
      "Requirement already satisfied: google-api-core<2.0.0dev,>=1.16.0 in /opt/conda/lib/python3.7/site-packages (from google-cloud-core<2.0dev,>=1.2.0->google-cloud-storage) (1.22.4)\n",
      "Requirement already satisfied: protobuf>=3.12.0 in /opt/conda/lib/python3.7/site-packages (from google-api-core<2.0.0dev,>=1.16.0->google-cloud-core<2.0dev,>=1.2.0->google-cloud-storage) (3.14.0)\n",
      "Requirement already satisfied: pytz in /opt/conda/lib/python3.7/site-packages (from google-api-core<2.0.0dev,>=1.16.0->google-cloud-core<2.0dev,>=1.2.0->google-cloud-storage) (2020.5)\n",
      "Requirement already satisfied: requests<3.0.0dev,>=2.18.0 in /opt/conda/lib/python3.7/site-packages (from google-api-core<2.0.0dev,>=1.16.0->google-cloud-core<2.0dev,>=1.2.0->google-cloud-storage) (2.25.1)\n",
      "Requirement already satisfied: googleapis-common-protos<2.0dev,>=1.6.0 in /opt/conda/lib/python3.7/site-packages (from google-api-core<2.0.0dev,>=1.16.0->google-cloud-core<2.0dev,>=1.2.0->google-cloud-storage) (1.52.0)\n",
      "Requirement already satisfied: google-crc32c<2.0dev,>=1.0 in /opt/conda/lib/python3.7/site-packages (from google-resumable-media<2.0dev,>=0.6.0->google-cloud-storage) (1.1.2)\n",
      "Requirement already satisfied: cffi>=1.0.0 in /opt/conda/lib/python3.7/site-packages (from google-crc32c<2.0dev,>=1.0->google-resumable-media<2.0dev,>=0.6.0->google-cloud-storage) (1.14.4)\n",
      "Requirement already satisfied: pycparser in /opt/conda/lib/python3.7/site-packages (from cffi>=1.0.0->google-crc32c<2.0dev,>=1.0->google-resumable-media<2.0dev,>=0.6.0->google-cloud-storage) (2.20)\n",
      "Requirement already satisfied: pyasn1<0.5.0,>=0.4.6 in /opt/conda/lib/python3.7/site-packages (from pyasn1-modules>=0.2.1->google-auth<2.0dev,>=1.11.0->google-cloud-storage) (0.4.8)\n",
      "Requirement already satisfied: chardet<5,>=3.0.2 in /opt/conda/lib/python3.7/site-packages (from requests<3.0.0dev,>=2.18.0->google-api-core<2.0.0dev,>=1.16.0->google-cloud-core<2.0dev,>=1.2.0->google-cloud-storage) (4.0.0)\n",
      "Requirement already satisfied: urllib3<1.27,>=1.21.1 in /opt/conda/lib/python3.7/site-packages (from requests<3.0.0dev,>=2.18.0->google-api-core<2.0.0dev,>=1.16.0->google-cloud-core<2.0dev,>=1.2.0->google-cloud-storage) (1.26.2)\n",
      "Requirement already satisfied: idna<3,>=2.5 in /opt/conda/lib/python3.7/site-packages (from requests<3.0.0dev,>=2.18.0->google-api-core<2.0.0dev,>=1.16.0->google-cloud-core<2.0dev,>=1.2.0->google-cloud-storage) (2.10)\n",
      "Requirement already satisfied: certifi>=2017.4.17 in /opt/conda/lib/python3.7/site-packages (from requests<3.0.0dev,>=2.18.0->google-api-core<2.0.0dev,>=1.16.0->google-cloud-core<2.0dev,>=1.2.0->google-cloud-storage) (2020.12.5)\n"
     ]
    }
   ],
   "source": [
    "! pip3 install google-cloud-storage"
   ]
  },
  {
   "cell_type": "markdown",
   "metadata": {
    "id": "a38MsAap46vQ"
   },
   "source": [
    "Install tabulate for visualizing the explainabilty results."
   ]
  },
  {
   "cell_type": "code",
   "execution_count": 3,
   "metadata": {
    "id": "zMtMn9_L46vQ"
   },
   "outputs": [
    {
     "name": "stdout",
     "output_type": "stream",
     "text": [
      "Requirement already satisfied: tabulate in /opt/conda/lib/python3.7/site-packages (0.8.7)\n"
     ]
    }
   ],
   "source": [
    "! pip install tabulate"
   ]
  },
  {
   "cell_type": "markdown",
   "metadata": {
    "id": "xXqLcg7s46vQ"
   },
   "source": [
    "### Restart the Kernel\n",
    "\n",
    "Once you've installed the AI Platform (Unified) SDK, you need to restart the notebook kernel so it can find the packages."
   ]
  },
  {
   "cell_type": "code",
   "execution_count": 4,
   "metadata": {
    "id": "9luQpONrzPb6"
   },
   "outputs": [],
   "source": [
    "import os\n",
    "if not os.getenv(\"AUTORUN\"):\n",
    "    # Automatically restart kernel after installs\n",
    "    import IPython\n",
    "    app = IPython.Application.instance()\n",
    "    app.kernel.do_shutdown(True)"
   ]
  },
  {
   "cell_type": "markdown",
   "metadata": {
    "id": "mcTsCDB646vR"
   },
   "source": [
    "## Before you begin\n",
    "\n",
    "### GPU run-time\n",
    "\n",
    "**Make sure you're running this notebook in a GPU runtime if you have that option. In Colab, select Runtime > Change runtime type > GPU**"
   ]
  },
  {
   "cell_type": "markdown",
   "metadata": {
    "id": "BF1j6f9HApxa"
   },
   "source": [
    "### Set up your GCP project\n",
    "\n",
    "**The following steps are required, regardless of your notebook environment.**\n",
    "\n",
    "1. [Select or create a GCP project](https://console.cloud.google.com/cloud-resource-manager). When you first create an account, you get a $300 free credit towards your compute/storage costs.\n",
    "\n",
    "2. [Make sure that billing is enabled for your project.](https://cloud.google.com/billing/docs/how-to/modify-project)\n",
    "\n",
    "3. [Enable the AI Platform APIs, Compute Engine APIs and Container Registry API.](https://console.cloud.google.com/flows/enableapi?apiid=ml.googleapis.com,compute_component,containerregistry.googleapis.com)\n",
    "\n",
    "4. [Google Cloud SDK](https://cloud.google.com/sdk) is already installed in AI Platform Notebooks.\n",
    "\n",
    "5. Enter your project ID in the cell below. Then run the  cell to make sure the\n",
    "Cloud SDK uses the right project for all the commands in this notebook.\n",
    "\n",
    "**Note**: Jupyter runs lines prefixed with `!` as shell commands, and it interpolates Python variables prefixed with `$` into these commands."
   ]
  },
  {
   "cell_type": "markdown",
   "metadata": {
    "id": "9LfxWwH446vR"
   },
   "source": [
    "#### Project ID\n",
    "\n",
    "**If you don't know your project ID**, you might be able to get your project ID using `gcloud` command by executing the second cell below."
   ]
  },
  {
   "cell_type": "code",
   "execution_count": 1,
   "metadata": {
    "id": "bubN-WaX46vR"
   },
   "outputs": [],
   "source": [
    "PROJECT_ID = \"jk-mlops-dev\" #@param {type:\"string\"}"
   ]
  },
  {
   "cell_type": "code",
   "execution_count": 2,
   "metadata": {
    "id": "oM1iC_MfAts1"
   },
   "outputs": [],
   "source": [
    "if PROJECT_ID == \"\" or PROJECT_ID is None or PROJECT_ID == \"[your-project-id]\":\n",
    "    # Get your GCP project id from gcloud\n",
    "    shell_output = !gcloud config list --format 'value(core.project)' 2>/dev/null\n",
    "    PROJECT_ID = shell_output[0]\n",
    "    print(\"Project ID:\", PROJECT_ID)"
   ]
  },
  {
   "cell_type": "code",
   "execution_count": 3,
   "metadata": {
    "id": "qH0XJ5Of46vS"
   },
   "outputs": [
    {
     "name": "stdout",
     "output_type": "stream",
     "text": [
      "Updated property [core/project].\n"
     ]
    }
   ],
   "source": [
    "! gcloud config set project $PROJECT_ID"
   ]
  },
  {
   "cell_type": "markdown",
   "metadata": {
    "id": "1Nl9dhOM46vS"
   },
   "source": [
    "#### Region\n",
    "\n",
    "You can also change the `REGION` variable, which is used for operations\n",
    "throughout the rest of this notebook.  Below are regions supported for AI Platform (Unified). We recommend when possible, to choose the region closest to you. \n",
    "\n",
    "- Americas: `us-central1`\n",
    "- Europe: `europe-west4`\n",
    "- Asia Pacific: `asia-east1`\n",
    "\n",
    "You can not use a Multi-Regional Storage bucket for training with AI Platform. Not all regions provide support for all AI Platform services. For the lastest support per region, see [Region support for AI Platform (Unified) services](https://cloud.google.com/ai-platform-unified/docs/general/locations)"
   ]
  },
  {
   "cell_type": "code",
   "execution_count": 4,
   "metadata": {
    "id": "9rK5ec-a46vS"
   },
   "outputs": [],
   "source": [
    "REGION = 'us-central1' #@param {type: \"string\"}"
   ]
  },
  {
   "cell_type": "markdown",
   "metadata": {
    "id": "-H8p3GfK46vS"
   },
   "source": [
    "#### Timestamp\n",
    "\n",
    "If you are in a live tutorial session, you might be using a shared test account or project. To avoid name collisions between users on resources created, you create a timestamp for each instance session, and append onto the name of resources which will be created in this tutorial."
   ]
  },
  {
   "cell_type": "code",
   "execution_count": 5,
   "metadata": {
    "id": "UctyFfMK46vT"
   },
   "outputs": [],
   "source": [
    "from datetime import datetime\n",
    "\n",
    "TIMESTAMP = datetime.now().strftime(\"%Y%m%d%H%M%S\")"
   ]
  },
  {
   "cell_type": "markdown",
   "metadata": {
    "id": "dr--iN2kAylZ"
   },
   "source": [
    "### Authenticate your GCP account\n",
    "\n",
    "**If you are using AI Platform Notebooks**, your environment is already\n",
    "authenticated. Skip this step."
   ]
  },
  {
   "cell_type": "code",
   "execution_count": null,
   "metadata": {
    "id": "Cd4fYfjA46vT"
   },
   "outputs": [],
   "source": [
    "import os\n",
    "import sys\n",
    "\n",
    "# If you are running this notebook in Colab, run this cell and follow the\n",
    "# instructions to authenticate your Google Cloud account. This provides access\n",
    "# to your Cloud Storage bucket and lets you submit training jobs and prediction\n",
    "# requests.\n",
    "\n",
    "# If on AI Platform, then don't execute this code\n",
    "if not os.path.exists('/opt/deeplearning/metadata/env_version'):\n",
    "    if 'google.colab' in sys.modules:\n",
    "        from google.colab import auth as google_auth\n",
    "        google_auth.authenticate_user()\n",
    "\n",
    "    # If you are running this tutorial in a notebook locally, replace the string\n",
    "    # below with the path to your service account key and run this cell to\n",
    "    # authenticate your Google Cloud account.\n",
    "    else:\n",
    "        %env GOOGLE_APPLICATION_CREDENTIALS your_path_to_credentials.json"
   ]
  },
  {
   "cell_type": "markdown",
   "metadata": {
    "id": "zgPO1eR3CYjk"
   },
   "source": [
    "### Create a Cloud Storage bucket\n",
    "\n",
    "**The following steps are required, regardless of your notebook environment.**\n",
    "\n",
    "When you submit a custom training job using the Cloud SDK, you upload a Python package\n",
    "containing your training code to a Cloud Storage bucket. AI Platform runs\n",
    "the code from this package. In this tutorial, AI Platform also saves the\n",
    "trained model that results from your job in the same bucket. You can then\n",
    "create an AI Platform endpoint based on this output in order to serve\n",
    "online predictions.\n",
    "\n",
    "Set the name of your Cloud Storage bucket below. It must be unique across all\n",
    "Cloud Storage buckets. "
   ]
  },
  {
   "cell_type": "code",
   "execution_count": 6,
   "metadata": {
    "id": "MzGDU7TWdts_"
   },
   "outputs": [],
   "source": [
    "BUCKET_NAME = \"jk-ucaip-demos\" "
   ]
  },
  {
   "cell_type": "code",
   "execution_count": 7,
   "metadata": {
    "id": "n3G4UG7E46vU"
   },
   "outputs": [],
   "source": [
    "if BUCKET_NAME == \"\" or BUCKET_NAME is None or BUCKET_NAME == \"[your-bucket-name]\":\n",
    "    BUCKET_NAME = PROJECT_ID + \"ucaip-custom-\" + TIMESTAMP"
   ]
  },
  {
   "cell_type": "markdown",
   "metadata": {
    "id": "-EcIXiGsCePi"
   },
   "source": [
    "**Only if your bucket doesn't already exist**: Run the following cell to create your Cloud Storage bucket."
   ]
  },
  {
   "cell_type": "code",
   "execution_count": 8,
   "metadata": {
    "id": "NIq7R4HZCfIc"
   },
   "outputs": [
    {
     "name": "stdout",
     "output_type": "stream",
     "text": [
      "Creating gs://jk-ucaip-demos/...\n",
      "ServiceException: 409 Bucket jk-ucaip-demos already exists.\n"
     ]
    }
   ],
   "source": [
    "! gsutil mb -l $REGION gs://$BUCKET_NAME"
   ]
  },
  {
   "cell_type": "markdown",
   "metadata": {
    "id": "ucvCsknMCims"
   },
   "source": [
    "Finally, validate access to your Cloud Storage bucket by examining its contents:"
   ]
  },
  {
   "cell_type": "code",
   "execution_count": 9,
   "metadata": {
    "id": "vhOb7YnwClBb"
   },
   "outputs": [
    {
     "name": "stdout",
     "output_type": "stream",
     "text": [
      "      1821  2021-03-05T01:05:03Z  gs://jk-ucaip-demos/boston_housing.tar.gz#1614906303801068  metageneration=1\n",
      "       250  2021-03-05T01:17:25Z  gs://jk-ucaip-demos/test.jsonl#1614907045727715  metageneration=1\n",
      "                                 gs://jk-ucaip-demos/custom_job_20210305010145/\n",
      "                                 gs://jk-ucaip-demos/image-classifier-pipeline/\n",
      "                                 gs://jk-ucaip-demos/pipeline_root/\n",
      "                                 gs://jk-ucaip-demos/prediction-boston-20210305010145-2021_03_04T17_17_47_784Z/\n",
      "TOTAL: 2 objects, 2071 bytes (2.02 KiB)\n"
     ]
    }
   ],
   "source": [
    "! gsutil ls -al gs://$BUCKET_NAME"
   ]
  },
  {
   "cell_type": "markdown",
   "metadata": {
    "id": "XoEqT2Y4DJmf"
   },
   "source": [
    "### Import libraries and define constants"
   ]
  },
  {
   "cell_type": "markdown",
   "metadata": {
    "id": "Y9Uo3tifg1kx"
   },
   "source": [
    "#### Import AI Platform (Unified) SDK\n",
    "\n",
    "Import the AI Platform (Unified) SDK into your Python environment."
   ]
  },
  {
   "cell_type": "code",
   "execution_count": 10,
   "metadata": {
    "id": "pRUOFELefqf1"
   },
   "outputs": [],
   "source": [
    "import os\n",
    "import sys\n",
    "import time\n",
    "from google.protobuf import json_format\n",
    "from google.protobuf.struct_pb2 import Value\n",
    "\n",
    "from google.cloud.aiplatform import gapic as aip"
   ]
  },
  {
   "cell_type": "markdown",
   "metadata": {
    "id": "vLvl87JF46vV"
   },
   "source": [
    "#### AI Platform (Unified) constants\n",
    "\n",
    "Let's now setup some constants for AI Platform (Unified):\n",
    "\n",
    "- `API_ENDPOINT`: The AI Platform (Unified) API service endpoint for dataset, model, job, pipeline and endpoint services.\n",
    "- `API_PREDICT_ENDPOINT`: The AI Platform (Unified) API service endpoint for prediction.\n",
    "- `PARENT`: The AI Platform (Unified) location root path for dataset, model and endpoint resources."
   ]
  },
  {
   "cell_type": "code",
   "execution_count": 11,
   "metadata": {
    "id": "DCHTTqtu46vV"
   },
   "outputs": [],
   "source": [
    "# API Endpoint\n",
    "API_ENDPOINT = \"{}-aiplatform.googleapis.com\".format(REGION)\n",
    "API_PREDICT_ENDPOINT = \"{}-prediction-aiplatform.googleapis.com\".format(REGION)\n",
    "\n",
    "# AI Platform (Unified) location root path for your dataset, model and endpoint resources\n",
    "PARENT = \"projects/\" + PROJECT_ID + \"/locations/\" + REGION"
   ]
  },
  {
   "cell_type": "markdown",
   "metadata": {
    "id": "YIZN60IH46vV"
   },
   "source": [
    "#### Hardware Accelerators\n",
    "\n",
    "Let's now set the hardware accelerators (e.g., GPU), if any, for training and prediction.\n",
    "\n",
    "Set the variables `TRAIN_GPU/TRAIN_NGPU` and `DEPLOY_GPU/DEPLOY_NGPU` to use a container image supporting a GPU and the number of GPUs allocated to the compute instance. For example, to use a GPU container image with 4 Nvidia Telsa K80 GPUs allocated to each compute instance, you would specify:\n",
    "\n",
    "    (aip.AcceleratorType.NVIDIA_TESLA_K80, 4)\n",
    "\n",
    "For GPU, available accelerators include:\n",
    "   - aip.AcceleratorType.NVIDIA_TESLA_K80\n",
    "   - aip.AcceleratorType.NVIDIA_TESLA_P100\n",
    "   - aip.AcceleratorType.NVIDIA_TESLA_P4\n",
    "   - aip.AcceleratorType.NVIDIA_TESLA_T4\n",
    "   - aip.AcceleratorType.NVIDIA_TESLA_V100\n",
    "\n",
    "   \n",
    "Otherwise specify `(None, None)` for the container image for a CPU."
   ]
  },
  {
   "cell_type": "code",
   "execution_count": 12,
   "metadata": {
    "id": "-0fDUZY346vV"
   },
   "outputs": [],
   "source": [
    "TRAIN_GPU, TRAIN_NGPU = (None, None)\n",
    "DEPLOY_GPU, DEPLOY_NGPU = (aip.AcceleratorType.NVIDIA_TESLA_K80, 1)"
   ]
  },
  {
   "cell_type": "markdown",
   "metadata": {
    "id": "JMrQxmVZ46vV"
   },
   "source": [
    "#### Container (Docker) image\n",
    "\n",
    "Next, we will set the docker container images for training and prediction.\n",
    "\n",
    "- Set the variable `TF` to the Tensorflow version of the container image. For example, `2-1` would be version 2.1, and `1-15` would be version 1.15. Google Cloud continuously adds prebuilt training and prediction container images, below are some of the prebuilt images available:\n",
    "\n",
    " - Tensorflow 1.15\n",
    "   - `gcr.io/cloud-aiplatform/training/tf-cpu.1-15:latest`\n",
    "   - `gcr.io/cloud-aiplatform/training/tf-gpu.1-15:latest`\n",
    "   - `gcr.io/cloud-aiplatform/prediction/tf-cpu.1-15:latest`\n",
    "   - `gcr.io/cloud-aiplatform/prediction/tf-gpu.1-15:latest`\n",
    " - Tensorflow 2.1\n",
    "   - `gcr.io/cloud-aiplatform/training/tf-cpu.2-1:latest`\n",
    "   - `gcr.io/cloud-aiplatform/training/tf-gpu.2-1:latest`\n",
    "   - `gcr.io/cloud-aiplatform/prediction/tf2-cpu.2-1:latest`\n",
    "   - `gcr.io/cloud-aiplatform/prediction/tf2-gpu.2-1:latest`\n",
    " - Tensorflow 2.2\n",
    "   - `gcr.io/cloud-aiplatform/training/tf-cpu.2-2:latest`\n",
    "   - `gcr.io/cloud-aiplatform/training/tf-gpu.2-2:latest`\n",
    "   - `gcr.io/cloud-aiplatform/prediction/tf2-cpu.2-2:latest`\n",
    "   - `gcr.io/cloud-aiplatform/prediction/tf2-gpu.2-2:latest`\n",
    " - XGBoost\n",
    "   - `gcr.io/cloud-aiplatform/training/xgboost-cpu.1-1`\n",
    "   - `gcr.io/cloud-aiplatform/prediction/xgboost-cpu.1-1`\n",
    " - Scikit-learn\n",
    "   - `gcr.io/cloud-aiplatform/training/scikit-learn-cpu.0-23`\n",
    "   - `gcr.io/cloud-aiplatform/prediction/scikit-learn-cpu.0-23`\n",
    " - Pytorch\n",
    "   - `gcr.io/cloud-aiplatform/training/pytorch-cpu.1-4:latest`\n",
    "   - `gcr.io/cloud-aiplatform/training/pytorch-gpu.1-4:latest`\n",
    "   \n",
    "Google Cloud AI continously adds new training and prediction container images. For the lastest list, see [Pre-built containers for training](https://cloud.google.com/ai-platform-unified/docs/training/pre-built-containers) and [Pre-built containers for prediction](https://cloud.google.com/ai-platform-unified/docs/predictions/pre-built-containers)"
   ]
  },
  {
   "cell_type": "code",
   "execution_count": 13,
   "metadata": {
    "id": "XxeoofMc46vW"
   },
   "outputs": [
    {
     "name": "stdout",
     "output_type": "stream",
     "text": [
      "Training: gcr.io/cloud-aiplatform/training/tf-cpu.2-1:latest None None\n",
      "Deployment: gcr.io/cloud-aiplatform/prediction/tf2-gpu.2-1:latest AcceleratorType.NVIDIA_TESLA_K80 1\n"
     ]
    }
   ],
   "source": [
    "#ANDY 2-1\n",
    "TF = '2-1'\n",
    "if TF[0] == '2':\n",
    "    if TRAIN_GPU:\n",
    "        TRAIN_VERSION = 'tf-gpu.{}'.format(TF)\n",
    "    else:\n",
    "        TRAIN_VERSION = 'tf-cpu.{}'.format(TF)\n",
    "    if DEPLOY_GPU:\n",
    "        DEPLOY_VERSION = 'tf2-gpu.{}'.format(TF)\n",
    "    else:\n",
    "        DEPLOY_VERSION = 'tf2-cpu.{}'.format(TF)\n",
    "else:\n",
    "    if TRAIN_GPU:\n",
    "        TRAIN_VERSION = 'tf-gpu.{}'.format(TF)\n",
    "    else:\n",
    "        TRAIN_VERSION = 'tf-cpu.{}'.format(TF)\n",
    "    if DEPLOY_GPU:\n",
    "        DEPLOY_VERSION = 'tf-gpu.{}'.format(TF)\n",
    "    else:\n",
    "        DEPLOY_VERSION = 'tf-cpu.{}'.format(TF)\n",
    "\n",
    "TRAIN_IMAGE  = \"gcr.io/cloud-aiplatform/training/{}:latest\".format(TRAIN_VERSION)\n",
    "DEPLOY_IMAGE = \"gcr.io/cloud-aiplatform/prediction/{}:latest\".format(DEPLOY_VERSION)\n",
    "\n",
    "print(\"Training:\", TRAIN_IMAGE, TRAIN_GPU, TRAIN_NGPU)\n",
    "print(\"Deployment:\", DEPLOY_IMAGE, DEPLOY_GPU, DEPLOY_NGPU)"
   ]
  },
  {
   "cell_type": "markdown",
   "metadata": {
    "id": "JH4jglCB46vW"
   },
   "source": [
    "#### Machine Type\n",
    "\n",
    "Next, you will set the machine type (compute instance) you will use for training and prediction.\n",
    "\n",
    "- Set the variables `TRAIN_COMPUTE` and `DEPLOY_COMPUTE` to the compute instance you will use for training and prediction.\n",
    " - `machine type`\n",
    "     - `n1-standard`: 3.75GB of memory per vCPU.\n",
    "     - `n1-highmem`: 6.5GB of memory per vCPU\n",
    "     - `n1-highcpu`: 0.9 GB of memory per vCPU\n",
    " - `vCPUs`: number of \\[2, 4, 8, 16, 32, 64, 96 \\]\n",
    "  \n",
    "*Note: The following is not supported for training*\n",
    " \n",
    " - `standard`: 2 vCPUs\n",
    " - `highcpu`: 2, 4 and 8 vCPUs\n",
    " \n",
    "*Note: You may also use n2 and e2 machine types for training and deployment, but they do not support GPUs*"
   ]
  },
  {
   "cell_type": "code",
   "execution_count": 14,
   "metadata": {
    "id": "_PGgzv_g46vW"
   },
   "outputs": [
    {
     "name": "stdout",
     "output_type": "stream",
     "text": [
      "Train Compute Instance n1-standard-4\n",
      "Deploy Compute Instance n1-standard-4\n"
     ]
    }
   ],
   "source": [
    "MACHINE_TYPE = 'n1-standard'\n",
    "VCPU = '4'\n",
    "TRAIN_COMPUTE = MACHINE_TYPE + '-' + VCPU\n",
    "print('Train Compute Instance', TRAIN_COMPUTE)\n",
    "\n",
    "MACHINE_TYPE = 'n1-standard'\n",
    "VCPU = '4'\n",
    "DEPLOY_COMPUTE = MACHINE_TYPE + '-' + VCPU\n",
    "print('Deploy Compute Instance', DEPLOY_COMPUTE)"
   ]
  },
  {
   "cell_type": "markdown",
   "metadata": {
    "id": "E6ppE7imft-y"
   },
   "source": [
    "# Tutorial\n",
    "\n",
    "Now you are ready to start creating your own custom model and training for the Boston Housing data.\n",
    "\n",
    "## Clients\n",
    "\n",
    "The AI Platform (Unified) SDK works as a client/server model. On your side, the Python script, you will create a client that sends requests and receives responses from the server -- AI Platform.\n",
    "\n",
    "Use several clients in this tutorial, so you will set them all up upfront.\n",
    "\n",
    "- Job Service for custom jobs.\n",
    "- Model Service for managed models.\n",
    "- Endpoint Service for deployment.\n",
    "- Prediction Service for serving. *Note*, prediction has a different service endpoint."
   ]
  },
  {
   "cell_type": "code",
   "execution_count": 15,
   "metadata": {
    "id": "b2mMsmGc46vW"
   },
   "outputs": [
    {
     "name": "stdout",
     "output_type": "stream",
     "text": [
      "('job', <google.cloud.aiplatform_v1.services.job_service.client.JobServiceClient object at 0x7f617f9ec190>)\n",
      "('model', <google.cloud.aiplatform_v1.services.model_service.client.ModelServiceClient object at 0x7f617f9ec1d0>)\n",
      "('endpoint', <google.cloud.aiplatform_v1.services.endpoint_service.client.EndpointServiceClient object at 0x7f617f9ec210>)\n",
      "('prediction', <google.cloud.aiplatform_v1.services.prediction_service.client.PredictionServiceClient object at 0x7f613d177750>)\n"
     ]
    }
   ],
   "source": [
    "# client options same for all services\n",
    "client_options = {\"api_endpoint\": API_ENDPOINT}\n",
    "predict_client_options = {\"api_endpoint\": API_PREDICT_ENDPOINT}\n",
    "\n",
    "\n",
    "def create_job_client():\n",
    "    client = aip.JobServiceClient(\n",
    "        client_options=client_options\n",
    "    )\n",
    "    return client\n",
    "\n",
    "\n",
    "def create_model_client():\n",
    "    client = aip.ModelServiceClient(\n",
    "        client_options=client_options\n",
    "    )\n",
    "    return client\n",
    "\n",
    "\n",
    "def create_endpoint_client():\n",
    "    client = aip.EndpointServiceClient(\n",
    "        client_options=client_options\n",
    "    )\n",
    "    return client\n",
    "\n",
    "\n",
    "def create_prediction_client():\n",
    "    client = aip.PredictionServiceClient(\n",
    "        client_options=predict_client_options\n",
    "    )\n",
    "    return client\n",
    "\n",
    "\n",
    "clients = {}\n",
    "clients['job'] = create_job_client()\n",
    "clients['model'] = create_model_client()\n",
    "clients['endpoint'] = create_endpoint_client()\n",
    "clients['prediction'] = create_prediction_client()\n",
    "\n",
    "for client in clients.items():\n",
    "    print(client)"
   ]
  },
  {
   "cell_type": "markdown",
   "metadata": {
    "id": "s_DOLQ9T46vW"
   },
   "source": [
    "## Prepare your custom job specification\n",
    "\n",
    "Now that your clients are ready, your first step is to create a Job Specification for your custom training job.\n",
    "\n",
    "You are going to start with training what we can call an **empty job**. That is, you will create a job specification that provisions resources for training a job, and initiate the job using the client job service -- but the job itself will be empty (i.e., no model is being trained). \n",
    "\n",
    "We do this so you can first focus on understanding the basic steps. Afterwards, you will repeat again with a focus on adding the Python training package for training a Boston Housing data custom model.\n",
    "\n",
    "### Define a container specification\n",
    "\n",
    "Let's first start by defining a job name and then a container specification:\n",
    "\n",
    "- `JOB_NAME`: A unique name for your custom training job. For convenience, we appended the name with the current datetime to make the name unique.\n",
    "- `MODEL_DIR`: A location in your Cloud Storage bucket for storing the model artificats.\n",
    "- `image_uri`: The location of the container image in your local Cloud Storage bucket. This can be either a Google Cloud prebuilt image or your own custom container.\n",
    "- `--model-dir`: A command line parameter to the container indicating the location to store the model."
   ]
  },
  {
   "cell_type": "code",
   "execution_count": 16,
   "metadata": {
    "id": "OwIgKrD246vW"
   },
   "outputs": [],
   "source": [
    "JOB_NAME = \"custom_job_\" + TIMESTAMP\n",
    "MODEL_DIR = 'gs://{}/{}'.format(BUCKET_NAME, JOB_NAME)\n",
    "CONTAINER_SPEC = {\n",
    "    \"image_uri\": TRAIN_IMAGE, \n",
    "    \"args\": [\n",
    "        \"--model-dir=\" + MODEL_DIR\n",
    "    ],\n",
    "}"
   ]
  },
  {
   "cell_type": "markdown",
   "metadata": {
    "id": "8UvEOP3046vX"
   },
   "source": [
    "### Define the worker pool specification\n",
    "\n",
    "\n",
    "Next, you define the worker pool specification for your custom training job. This tells AI Platform what type and how many instances of machines to provision for the training.\n",
    "\n",
    "For this tutorial, you will use a single instance (node). \n",
    "\n",
    "- `replica_count`: The number of instances to provision of this machine type.\n",
    "- `machine_type`: The type of GCP instance to provision -- e.g., n1-standard-8.\n",
    "- `accelerator_type`: The type, if any, of hardware accelerator. In this tutorial if you previously set the variable `TRAIN_GPU != None`, you are using a GPU; otherwise you will use a CPU. \n",
    "- `accelerator_count`: The number of accelerators.\n",
    "- `container_spec`: The docker container to install on the instance(s)."
   ]
  },
  {
   "cell_type": "code",
   "execution_count": 17,
   "metadata": {
    "id": "-qTkZ2Op46vX"
   },
   "outputs": [],
   "source": [
    "if TRAIN_GPU:\n",
    "    machine_spec = {\n",
    "        \"machine_type\": TRAIN_COMPUTE,\n",
    "        \"accelerator_type\": TRAIN_GPU,\n",
    "        \"accelerator_count\": TRAIN_NGPU\n",
    "    }\n",
    "else:\n",
    "    machine_spec = {\n",
    "        \"machine_type\": TRAIN_COMPUTE,\n",
    "        \"accelerator_count\": 0\n",
    "    }\n",
    "\n",
    "WORKER_POOL_SPEC = [\n",
    "    {\n",
    "        \"replica_count\": 1,\n",
    "        \"machine_spec\": machine_spec,\n",
    "        \"container_spec\": CONTAINER_SPEC,\n",
    "    }\n",
    "]"
   ]
  },
  {
   "cell_type": "markdown",
   "metadata": {
    "id": "yO7XOmlC46vX"
   },
   "source": [
    "If you were doing distributed training, you would add a second machine description and set the replica count accordingly. In the example below, the first machine descrption is the primary (coordinator), and the second ones are the machines the training is distributed to.\n",
    "\n",
    "```\n",
    "WORKER_POOL_SPEC=[\n",
    "     {\n",
    "        \"replica_count\": 1,\n",
    "        \"machine_spec\": {\n",
    "          \"machine_type\": \"n1-standard-8\"\n",
    "        },\n",
    "        \"container_spec\":  CONTAINER_SPEC,\n",
    "      },\n",
    "      {\n",
    "        \"replica_count\": 6,\n",
    "        \"machine_spec\": {\n",
    "          \"machine_type\": \"n1-standard-8\"\n",
    "        },\n",
    "        \"container_spec\": CONTAINER_SPEC\n",
    "      }\n",
    "]\n",
    "```"
   ]
  },
  {
   "cell_type": "markdown",
   "metadata": {
    "id": "zKXBMPEp46vX"
   },
   "source": [
    "### Assemble the job specification\n",
    "\n",
    "Let's now assemble the description for the custom job specification.\n",
    "\n",
    "- `display_name`: The human readable name you assign to this custom job.\n",
    "- `job_spec`: The specification for the custom job. Since this is an empty job, you only specified the resource requirements."
   ]
  },
  {
   "cell_type": "code",
   "execution_count": 18,
   "metadata": {
    "id": "IIwimb_a46vX"
   },
   "outputs": [],
   "source": [
    "CUSTOM_JOB = {\n",
    "    \"display_name\": JOB_NAME,\n",
    "    \"job_spec\": {\n",
    "        \"worker_pool_specs\": WORKER_POOL_SPEC\n",
    "    }\n",
    "}"
   ]
  },
  {
   "cell_type": "markdown",
   "metadata": {
    "id": "D6YZAHSA46vX"
   },
   "source": [
    "## Train the model\n",
    "\n",
    "Let's now start the training of your custom training job on AI Platform. Use this helper function `create_custom_job`, which takes the parameter:\n",
    "\n",
    "-`custom_job`: The specification for the custom job.\n",
    "\n",
    "The helper function uses the job client service and calls the method `create_custom_job`, with the parameters:\n",
    "\n",
    "-`parent`: The AI Platform (Unified) location path to dataset, model and endpoint resources.\n",
    "-`custom_job`: The specification for the custom job.\n",
    "\n",
    "You will display a handful of the fields returned in `response` object, with the two that are of most interest are:\n",
    "\n",
    "`response.name`: The AI Platform (Unified) fully qualified identifier assigned to this custom job. We will save this identifier for using in subsequent steps.\n",
    "\n",
    "`response.state`: The current state of the custom job. "
   ]
  },
  {
   "cell_type": "code",
   "execution_count": 19,
   "metadata": {
    "id": "k464_skT46vX"
   },
   "outputs": [
    {
     "name": "stdout",
     "output_type": "stream",
     "text": [
      "name: projects/895222332033/locations/us-central1/customJobs/4273080417537490944\n",
      "display_name: custom_job_20210305172716\n",
      "state: JobState.JOB_STATE_PENDING\n",
      "create_time: 2021-03-05 17:29:27.163883+00:00\n",
      "update_time: 2021-03-05 17:29:27.163883+00:00\n"
     ]
    }
   ],
   "source": [
    "def create_custom_job(custom_job):\n",
    "    response = clients['job'].create_custom_job(parent=PARENT, custom_job=CUSTOM_JOB)\n",
    "    print(\"name:\", response.name)\n",
    "    print(\"display_name:\", response.display_name)\n",
    "    print(\"state:\", response.state)\n",
    "    print(\"create_time:\", response.create_time)\n",
    "    print(\"update_time:\", response.update_time)\n",
    "    return response.name\n",
    "\n",
    "\n",
    "# Save the job name\n",
    "JOB_ID = create_custom_job(CUSTOM_JOB)"
   ]
  },
  {
   "cell_type": "markdown",
   "metadata": {
    "id": "2AW2LNID46vX"
   },
   "source": [
    "### List all custom jobs\n",
    "\n",
    "Now that your custom job is running, let's get a list for all your custom jobs -- specific to your `PROJECT_ID`. This will probably be just one job, unless you've been running this tutorial multiple times or otherwise been using the AI Platform (Unified) job service.\n",
    "\n",
    "Use the helper function `list_custom_jobs`, which uses the job client service and calls the method `list_custom_jobs`. The response object is a list, where each element in the list is a separate job.  \n",
    "\n",
    "The `response` object for each custom job contains:\n",
    "\n",
    "- `name`: The AI Platform (Unified) fully qualified identifier for your custom training job.\n",
    "- `display_name`: The human readable name you assigned to your custom training job.\n",
    "- `job_spec`: The job specification you provided for your custom training job.\n",
    "- `state`: The current status of the custom job:\n",
    "- `start_time`: When the custom training job was created.\n",
    "- `end_time`: When the execution of the custom job ended.\n",
    "- `update_time`: When the last time there was a status update to the custom job."
   ]
  },
  {
   "cell_type": "code",
   "execution_count": 21,
   "metadata": {
    "id": "0syidZUw46vY"
   },
   "outputs": [
    {
     "name": "stderr",
     "output_type": "stream",
     "text": [
      "IOPub data rate exceeded.\n",
      "The notebook server will temporarily stop sending output\n",
      "to the client in order to avoid crashing it.\n",
      "To change this limit, set the config variable\n",
      "`--NotebookApp.iopub_data_rate_limit`.\n",
      "\n",
      "Current values:\n",
      "NotebookApp.iopub_data_rate_limit=1000000.0 (bytes/sec)\n",
      "NotebookApp.rate_limit_window=3.0 (secs)\n",
      "\n"
     ]
    }
   ],
   "source": [
    "def list_custom_jobs():\n",
    "    response = clients['job'].list_custom_jobs(parent=PARENT)\n",
    "    for job in response:\n",
    "        print(response)\n",
    "\n",
    "\n",
    "list_custom_jobs()"
   ]
  },
  {
   "cell_type": "markdown",
   "metadata": {
    "id": "WaaVdsaK46vY"
   },
   "source": [
    "### Get information on a custom job\n",
    "\n",
    "Next, use this helper function `get_custom_job`, which takes the parameter:\n",
    "\n",
    "- `name`: The AI Platform (Unified) fully qualified identifier for the custom job.\n",
    "\n",
    "The helper function uses the job client service to get the job information for just this job by calling the method `get_custom_job`, with the parameter:\n",
    "\n",
    "- `name`: The AI Platform (Unified) fully qualified identifier for the custom job.\n",
    "\n",
    "If you recall, you got the AI Platform (Unified) fully qualified identifier for the custom job in the `response.name` field when you called the `create_custom_job` method, and saved the identifier in the variable `JOB_ID`."
   ]
  },
  {
   "cell_type": "code",
   "execution_count": 22,
   "metadata": {
    "id": "GiMT7xox46vY"
   },
   "outputs": [
    {
     "name": "stdout",
     "output_type": "stream",
     "text": [
      "name: projects/895222332033/locations/us-central1/customJobs/4273080417537490944\n",
      "display_name: custom_job_20210305172716\n",
      "state: JobState.JOB_STATE_PENDING\n",
      "create_time: 2021-03-05 17:29:27.163883+00:00\n",
      "update_time: 2021-03-05 17:30:59.959332+00:00\n"
     ]
    },
    {
     "data": {
      "text/plain": [
       "name: \"projects/895222332033/locations/us-central1/customJobs/4273080417537490944\"\n",
       "display_name: \"custom_job_20210305172716\"\n",
       "job_spec {\n",
       "  worker_pool_specs {\n",
       "    machine_spec {\n",
       "      machine_type: \"n1-standard-4\"\n",
       "    }\n",
       "    replica_count: 1\n",
       "    disk_spec {\n",
       "      boot_disk_type: \"pd-ssd\"\n",
       "      boot_disk_size_gb: 100\n",
       "    }\n",
       "    container_spec {\n",
       "      image_uri: \"gcr.io/cloud-aiplatform/training/tf-cpu.2-1:latest\"\n",
       "      args: \"--model-dir=gs://jk-ucaip-demos/custom_job_20210305172716\"\n",
       "    }\n",
       "  }\n",
       "}\n",
       "state: JOB_STATE_PENDING\n",
       "create_time {\n",
       "  seconds: 1614965367\n",
       "  nanos: 163883000\n",
       "}\n",
       "start_time {\n",
       "  seconds: 1614965367\n",
       "  nanos: 429092000\n",
       "}\n",
       "update_time {\n",
       "  seconds: 1614965459\n",
       "  nanos: 959332000\n",
       "}"
      ]
     },
     "execution_count": 22,
     "metadata": {},
     "output_type": "execute_result"
    }
   ],
   "source": [
    "def get_custom_job(name, silent=False):\n",
    "    response = clients['job'].get_custom_job(name=name)\n",
    "    if silent:\n",
    "        return response\n",
    "\n",
    "    print(\"name:\", response.name)\n",
    "    print(\"display_name:\", response.display_name)\n",
    "    print(\"state:\", response.state)\n",
    "    print(\"create_time:\", response.create_time)\n",
    "    print(\"update_time:\", response.update_time)\n",
    "    return response\n",
    "\n",
    "\n",
    "get_custom_job(JOB_ID)"
   ]
  },
  {
   "cell_type": "markdown",
   "metadata": {
    "id": "_Ik1PQcr46vY"
   },
   "source": [
    "### View logs\n",
    "\n",
    "In addition to the aforementioned state information on the job information, you could also look at logs associated with the custom job.\n",
    "\n",
    "#### View logs on AI Platform Console\n",
    "\n",
    "Let's first look at logs generated for AI Platform Console. The cell below will display a link. Paste the link in the address bar of another tab in your browser. It will display information about your job."
   ]
  },
  {
   "cell_type": "code",
   "execution_count": 23,
   "metadata": {
    "id": "2L_GUKIL46vY"
   },
   "outputs": [
    {
     "name": "stdout",
     "output_type": "stream",
     "text": [
      "https://console.cloud.google.com/ai/platform/locations/us-central1/training/4273080417537490944?project=jk-mlops-dev\n"
     ]
    }
   ],
   "source": [
    "print('https://console.cloud.google.com/ai/platform/locations/{region}/training/{job_id}?project={project_id}'.format(\n",
    "    region=REGION, job_id=JOB_ID.split('/')[-1],\n",
    "    project_id=PROJECT_ID))"
   ]
  },
  {
   "cell_type": "markdown",
   "metadata": {
    "id": "ieDafQ5M46vY"
   },
   "source": [
    "#### View logs on Cloud Logging\n",
    "\n",
    "Next, let's look at logs generated for Cloud Logging. The cell below will display a link. Paste the link in the address bar of another tab in your browser. It will display logs for your job."
   ]
  },
  {
   "cell_type": "code",
   "execution_count": 24,
   "metadata": {
    "id": "-sUyNnRl46vY"
   },
   "outputs": [
    {
     "name": "stdout",
     "output_type": "stream",
     "text": [
      "https://console.cloud.google.com/logs/viewer?resource=ml_job%2Fjob_id%2F4273080417537490944&project=jk-mlops-dev\n"
     ]
    }
   ],
   "source": [
    "print('https://console.cloud.google.com/logs/viewer?resource=ml_job%2Fjob_id%2F{job_id}&project={project_id}'.format(\n",
    "    job_id=JOB_ID.split('/')[-1], project_id=PROJECT_ID))"
   ]
  },
  {
   "cell_type": "markdown",
   "metadata": {
    "id": "M3qQZPJh46vY"
   },
   "source": [
    "### Cancel a custom job\n",
    "\n",
    "Next, we will show you how to cancel a custom training job. You will go ahead and cancel your \"empty\" training job. Use this helper function `cancel_job`, with the parameter:\n",
    "\n",
    "- `name`: The AI Platform (Unified) fully qualified identifier for your custom training job.\n",
    "\n",
    "The helper function will use the job service client and call the method `cancel_custom_job`, with the parameter:\n",
    "\n",
    "- `name`: The AI Platform (Unified) fully qualified identifier for your custom training job.\n",
    "\n",
    "We put a try/except around the call since it will throw an exception if the job is already completed (succeeded) -- which most likely it is."
   ]
  },
  {
   "cell_type": "code",
   "execution_count": 25,
   "metadata": {
    "id": "sbDFO49Y46vY"
   },
   "outputs": [
    {
     "name": "stdout",
     "output_type": "stream",
     "text": [
      "None\n"
     ]
    }
   ],
   "source": [
    "def cancel_job(name):\n",
    "    try:\n",
    "        response = clients['job'].cancel_custom_job(name=name)\n",
    "        print(response)\n",
    "    except Exception as e:\n",
    "        print(e)\n",
    "\n",
    "\n",
    "time.sleep(10)\n",
    "cancel_job(JOB_ID)"
   ]
  },
  {
   "cell_type": "markdown",
   "metadata": {
    "id": "PBxfLmgr46vZ"
   },
   "source": [
    "### Delete a custom job\n",
    "\n",
    "Next, we will show you how to delete a custom training job. You will go ahead and delete your \"empty\" training job. Use the helper function `delete_job`, with the parameter:\n",
    "\n",
    "- `name`: The AI Platform (Unified) fully qualified identifier for your custom training job.\n",
    "\n",
    "The helper function will use the job service client and call the method `delete_custom_job`, with the parameter:\n",
    "\n",
    "- `name`: The AI Platform (Unified) fully qualified identifier for your custom training job.\n",
    "\n",
    "Afterwards, you will verify that the job has been deleted by calling the method `get_custom_job` for the same job. We put a try/except around the call since it will throw an exception if the job is already deleted -- which most likely it is."
   ]
  },
  {
   "cell_type": "code",
   "execution_count": 26,
   "metadata": {
    "id": "2eJdPfRL46vZ"
   },
   "outputs": [
    {
     "name": "stdout",
     "output_type": "stream",
     "text": [
      "Delete <google.api_core.operation.Operation object at 0x7f617fe23190>\n",
      "404 The CustomJob does not exist.\n"
     ]
    }
   ],
   "source": [
    "def delete_job(name):\n",
    "    try:\n",
    "        response = clients['job'].delete_custom_job(name=name)\n",
    "        print(\"Delete\", response)\n",
    "    except Exception as e:\n",
    "        print(e)\n",
    "\n",
    "    try:\n",
    "        response = clients['job'].get_custom_job(name=name)\n",
    "    except Exception as e:\n",
    "        print(e)\n",
    "\n",
    "\n",
    "time.sleep(10)\n",
    "delete_job(JOB_ID)"
   ]
  },
  {
   "cell_type": "markdown",
   "metadata": {
    "id": "DuHWqzeD46vZ"
   },
   "source": [
    "## Train a model - Boston Housing\n",
    "\n",
    "Now that you have seen the basic steps for custom training, you will do a new custom job to train a model. There are two ways you can train a custom model using a container image:\n",
    "\n",
    "- **Use a Google Cloud prebuilt container**. If you use a prebuilt container, you will additionally specify a Python package to install into the container image. This Python package contains your code for training a custom model.\n",
    "\n",
    "- **Use your own custom container image**. If you use your own container, the container needs to contain your code for training a custom model.\n",
    "\n",
    "In this tutorial, you will train a Boston Housing model using a Google Cloud prebuilt container. You need to update the worker pool specification by adding a description for `python_package_spec`. This section will tell the custom job the Python training package to install and which Python module to invoke, along with command line arguments for the Python module.\n",
    "\n",
    "Let's dive deeper now into the python package specification:\n",
    "\n",
    "-`executor_image_spec`: This is the docker image which is configured for your custom training job. You will continue to use the same one we used earlier for demonstration.\n",
    "\n",
    "-`package_uris`: This is a list of the locations (URIs) of your python training packages to install on the provisioned instance. The locations need to be in a Cloud Storage bucket. These can be either individual python files or a zip (archive) of an entire package. In the later case, the job service will unzip (unarchive) the contents into the docker image.\n",
    "\n",
    "-`python_module`: The python module (script) to invoke for running the custom training job. In this example, you will be invoking `trainer.task.py` -- note that it was not neccessary to append the `.py` suffix.\n",
    "\n",
    "-`args`: The command line arguments to pass to the corresponding pythom module. In this example, you will be:\n",
    "  - `\"--model-dir=\" + MODEL_DIR` : The Cloud Storage location where to store the model artifacts. There are two ways to tell the training script where to save the model artifacts:\n",
    "      - direct: You pass the Cloud Storage location as a command line argument to your training script (set variable `DIRECT = True`), or\n",
    "      - indirect: The service passes the Cloud Storage location as the environment variable `AIP_MODEL_DIR` to your training script (set variable `DIRECT = False`). In this case, you tell the service the model artifact location in the job specification.  \n",
    "  - `\"--epochs=\" + EPOCHS`: The number of epochs for training.\n",
    "  - `\"--distribute=\" + TRAIN_STRATEGY\"` : The training distribution strategy to use for single or distributed training.\n",
    "     - `\"single\"`: single device.\n",
    "     - `\"mirror\"`: all GPU devices on a single compute instance.\n",
    "     - `\"multi\"`: all GPU devices on all compute instances."
   ]
  },
  {
   "cell_type": "code",
   "execution_count": 27,
   "metadata": {
    "id": "7hdfIvLP46vZ"
   },
   "outputs": [],
   "source": [
    "if TRAIN_GPU:\n",
    "    machine_spec = {\n",
    "        \"machine_type\": TRAIN_COMPUTE,\n",
    "        \"accelerator_type\": TRAIN_GPU,\n",
    "        \"accelerator_count\": TRAIN_NGPU\n",
    "    }\n",
    "else:\n",
    "    machine_spec = {\n",
    "        \"machine_type\": TRAIN_COMPUTE,\n",
    "        \"accelerator_count\": 0\n",
    "    }\n",
    "    \n",
    "if not TRAIN_NGPU or TRAIN_NGPU < 2:\n",
    "    TRAIN_STRATEGY = \"single\"\n",
    "else:\n",
    "    TRAIN_STRATEGY = \"mirror\"\n",
    "    \n",
    "EPOCHS = 50\n",
    "\n",
    "DIRECT = True\n",
    "if DIRECT:\n",
    "    CMDARGS = [\n",
    "                \"--model-dir=\" + MODEL_DIR,\n",
    "                \"--epochs=\" + str(EPOCHS),\n",
    "                \"--distribute=\" + TRAIN_STRATEGY\n",
    "              ]\n",
    "else:\n",
    "    CMDARGS = [\n",
    "                \"--epochs=\" + str(EPOCHS),\n",
    "                \"--distribute=\" + TRAIN_STRATEGY\n",
    "              ]\n",
    "\n",
    "WORKER_POOL_SPEC = [\n",
    "    {\n",
    "        \"replica_count\": 1,\n",
    "        \"machine_spec\": machine_spec,\n",
    "        \"python_package_spec\": {\n",
    "            \"executor_image_uri\": TRAIN_IMAGE,\n",
    "            \"package_uris\": [\"gs://\" + BUCKET_NAME + \"/boston_housing.tar.gz\"],\n",
    "            \"python_module\": \"trainer.task\",\n",
    "            \"args\": CMDARGS,\n",
    "        }\n",
    "    }\n",
    "]"
   ]
  },
  {
   "cell_type": "markdown",
   "metadata": {
    "id": "s9_ia4aR46vZ"
   },
   "source": [
    "### Assemble a job specification\n",
    "\n",
    "Let's now assemble the description for the custom job specification:\n",
    "\n",
    "- `display_name`: The human readable name you assign to this custom job.\n",
    "- `job_spec`: The specification for the custom job. \n",
    "    - `base_output_directory`: This tells the service the Cloud Storage location where to save the model artifacts (when variable `DIRECT = False`). The service will then pass the location to the training script as the environment variable `AIP_MODEL_DIR`, and the path will be of the form:\n",
    "    \n",
    "                <output_uri_prefix>/model"
   ]
  },
  {
   "cell_type": "code",
   "execution_count": 28,
   "metadata": {
    "id": "6B7LBEnk46vZ"
   },
   "outputs": [],
   "source": [
    "if DIRECT:\n",
    "    JOB_SPEC = {\n",
    "        \"worker_pool_specs\": WORKER_POOL_SPEC\n",
    "    }\n",
    "else:\n",
    "    JOB_SPEC = {\n",
    "        \"worker_pool_specs\": WORKER_POOL_SPEC,\n",
    "        \"base_output_directory\": {\"output_uri_prefix\": MODEL_DIR}\n",
    "    }\n",
    "        \n",
    "CUSTOM_JOB = {\n",
    "    \"display_name\": JOB_NAME,\n",
    "    \"job_spec\": JOB_SPEC\n",
    "}"
   ]
  },
  {
   "cell_type": "markdown",
   "metadata": {
    "id": "15yEdXb546vZ"
   },
   "source": [
    "### Examine the training package\n",
    "\n",
    "#### Package layout\n",
    "\n",
    "Before you start the training, let's look at how a Python package is assembled for a custom training job. When unarchived, the package contains the following directory/file layout.\n",
    "\n",
    "- PKG-INFO\n",
    "- README.md\n",
    "- setup.cfg\n",
    "- setup.py\n",
    "- trainer\n",
    "  - \\_\\_init\\_\\_.py\n",
    "  - task.py\n",
    "\n",
    "The files `setup.cfg` and `setup.py` are the instructions for installing the package into the operating environment of the docker image.\n",
    "\n",
    "The file `trainer/task.py` is the python script for executing the custom job. *Note*, when we referred to it in the worker pool specification, we replace the directory slash with a dot (`trainer.task`) and dropped the file suffix (`.py`)."
   ]
  },
  {
   "cell_type": "markdown",
   "metadata": {
    "id": "bJfsqonJ46vZ"
   },
   "source": [
    "#### Package Assembly\n",
    "\n",
    "In the following cells, you will assemble the training package."
   ]
  },
  {
   "cell_type": "code",
   "execution_count": 29,
   "metadata": {
    "id": "HCExm0Uz46va"
   },
   "outputs": [],
   "source": [
    "# Make folder for python training script\n",
    "! rm -rf custom\n",
    "! mkdir custom\n",
    "\n",
    "# Add package information\n",
    "! touch custom/README.md\n",
    "\n",
    "setup_cfg = \"[egg_info]\\n\\\n",
    "tag_build =\\n\\\n",
    "tag_date = 0\"\n",
    "! echo \"$setup_cfg\" > custom/setup.cfg\n",
    "\n",
    "setup_py = \"import setuptools\\n\\\n",
    "# Requires TensorFlow Datasets\\n\\\n",
    "setuptools.setup(\\n\\\n",
    "    install_requires=[\\n\\\n",
    "        'tensorflow_datasets==1.3.0',\\n\\\n",
    "    ],\\n\\\n",
    "    packages=setuptools.find_packages())\" \n",
    "! echo \"$setup_py\" > custom/setup.py\n",
    "\n",
    "pkg_info = \"Metadata-Version: 1.0\\n\\\n",
    "Name: Custom Training Boston Housing\\n\\\n",
    "Version: 0.0.0\\n\\\n",
    "Summary: Demostration training script\\n\\\n",
    "Home-page: www.google.com\\n\\\n",
    "Author: Google\\n\\\n",
    "Author-email: aferlitsch@google.com\\n\\\n",
    "License: Public\\n\\\n",
    "Description: Demo\\n\\\n",
    "Platform: AI Platform (Unified)\"\n",
    "! echo \"$pkg_info\" > custom/PKG-INFO\n",
    "\n",
    "# Make the training subfolder\n",
    "! mkdir custom/trainer\n",
    "! touch custom/trainer/__init__.py"
   ]
  },
  {
   "cell_type": "markdown",
   "metadata": {
    "id": "1J97guyU46va"
   },
   "source": [
    "#### Task.py contents\n",
    "\n",
    "In the next cell, you will write the contents of the training script task.py. I won't go into detail, it's just there for you to browse. In summary:\n",
    "\n",
    "- Get the directory where to save the model artifacts from the command line (`--model_dir`), and if not specified, then from the environment variable `AIP_MODEL_DIR`.\n",
    "- Loads Boston Housing Prices dataset from tf.keras builtin datasets\n",
    "- Builds a simple deep neural network model using TF.Keras model API.\n",
    "- Compiles the model (`compile()`).\n",
    "- Sets a training distribution strategy according to the argument `args.distribute`.\n",
    "- Trains the model (`fit()`) with epochs specified by `args.epochs`.\n",
    "- Saves the trained model (`save(args.model_dir)`) to the specified model directory."
   ]
  },
  {
   "cell_type": "code",
   "execution_count": 30,
   "metadata": {
    "id": "Yv7X07yp46va"
   },
   "outputs": [
    {
     "name": "stdout",
     "output_type": "stream",
     "text": [
      "Writing custom/trainer/task.py\n"
     ]
    }
   ],
   "source": [
    "%%writefile custom/trainer/task.py\n",
    "# Single, Mirror and Multi-Machine Distributed Training for CIFAR-10\n",
    "  \n",
    "import tensorflow_datasets as tfds\n",
    "import tensorflow as tf\n",
    "from tensorflow.python.client import device_lib\n",
    "import numpy as np\n",
    "import argparse\n",
    "import os\n",
    "import sys\n",
    "tfds.disable_progress_bar()\n",
    "\n",
    "parser = argparse.ArgumentParser()\n",
    "parser.add_argument('--model-dir', dest='model_dir',\n",
    "                    default=os.getenv('AIP_MODEL_DIR'), type=str, help='Model dir.')\n",
    "parser.add_argument('--lr', dest='lr',\n",
    "                    default=0.001, type=float,\n",
    "                    help='Learning rate.')\n",
    "parser.add_argument('--epochs', dest='epochs',\n",
    "                    default=20, type=int,\n",
    "                    help='Number of epochs.')\n",
    "parser.add_argument('--steps', dest='steps',\n",
    "                    default=100, type=int,\n",
    "                    help='Number of steps per epoch.')\n",
    "parser.add_argument('--distribute', dest='distribute', type=str, default='single',\n",
    "                    help='distributed training strategy')\n",
    "args = parser.parse_args()\n",
    "\n",
    "print('Python Version = {}'.format(sys.version))\n",
    "print('TensorFlow Version = {}'.format(tf.__version__))\n",
    "print('TF_CONFIG = {}'.format(os.environ.get('TF_CONFIG', 'Not found')))\n",
    "\n",
    "# Single Machine, single compute device\n",
    "if args.distribute == 'single':\n",
    "    if tf.test.is_gpu_available():\n",
    "        strategy = tf.distribute.OneDeviceStrategy(device=\"/gpu:0\")\n",
    "    else:\n",
    "        strategy = tf.distribute.OneDeviceStrategy(device=\"/cpu:0\")\n",
    "# Single Machine, multiple compute device\n",
    "elif args.distribute == 'mirror':\n",
    "    strategy = tf.distribute.MirroredStrategy()\n",
    "# Multiple Machine, multiple compute device\n",
    "elif args.distribute == 'multi':\n",
    "    strategy = tf.distribute.experimental.MultiWorkerMirroredStrategy()\n",
    "\n",
    "# Multi-worker configuration\n",
    "print('num_replicas_in_sync = {}'.format(strategy.num_replicas_in_sync))\n",
    "\n",
    "def make_dataset():\n",
    "  # Scaling Boston Housing data features\n",
    "  def scale(feature):\n",
    "    max = np.max(feature)\n",
    "    feature = (feature / max).astype(np.float)\n",
    "    return feature\n",
    "\n",
    "  (x_train, y_train), (x_test, y_test) = tf.keras.datasets.boston_housing.load_data(\n",
    "    path=\"boston_housing.npz\", test_split=0.2, seed=113\n",
    "  )\n",
    "  for _ in range(13):\n",
    "    x_train[_] = scale(x_train[_])\n",
    "    x_test[_] = scale(x_test[_])\n",
    "  return (x_train, y_train), (x_test, y_test)\n",
    "\n",
    "# Build the Keras model\n",
    "def build_and_compile_dnn_model():\n",
    "  model = tf.keras.Sequential([\n",
    "      tf.keras.layers.Dense(128, activation='relu', input_shape=(13,)),\n",
    "      tf.keras.layers.Dense(128, activation='relu'),\n",
    "      tf.keras.layers.Dense(1, activation='linear')\n",
    "  ])\n",
    "  model.compile(\n",
    "      loss='mse',\n",
    "      optimizer=tf.keras.optimizers.RMSprop(learning_rate=args.lr))\n",
    "  return model\n",
    "\n",
    "# Train the model\n",
    "NUM_WORKERS = strategy.num_replicas_in_sync\n",
    "# Here the batch size scales up by number of workers since\n",
    "# `tf.data.Dataset.batch` expects the global batch size.\n",
    "BATCH_SIZE = 16\n",
    "GLOBAL_BATCH_SIZE = BATCH_SIZE * NUM_WORKERS\n",
    "\n",
    "with strategy.scope():\n",
    "  # Creation of dataset, and model building/compiling need to be within\n",
    "  # `strategy.scope()`.\n",
    "  model = build_and_compile_dnn_model()\n",
    "\n",
    "# Train the model\n",
    "(x_train, y_train), (x_test, y_test) = make_dataset()\n",
    "model.fit(x_train, y_train, epochs=args.epochs, batch_size=GLOBAL_BATCH_SIZE)\n",
    "model.save(args.model_dir)\n"
   ]
  },
  {
   "cell_type": "markdown",
   "metadata": {
    "id": "khWhtl-X46va"
   },
   "source": [
    "#### Store training script on your Cloud Storage bucket\n",
    "\n",
    "Next, we package the training folder into a compressed tar ball, and then store it in your Cloud Storage bucket."
   ]
  },
  {
   "cell_type": "code",
   "execution_count": 31,
   "metadata": {
    "id": "EaEvbW1046va"
   },
   "outputs": [
    {
     "name": "stdout",
     "output_type": "stream",
     "text": [
      "custom/\n",
      "custom/trainer/\n",
      "custom/trainer/task.py\n",
      "custom/trainer/__init__.py\n",
      "custom/README.md\n",
      "custom/setup.cfg\n",
      "custom/setup.py\n",
      "custom/PKG-INFO\n",
      "Copying file://custom.tar.gz [Content-Type=application/x-tar]...\n",
      "/ [1 files][  1.8 KiB/  1.8 KiB]                                                \n",
      "Operation completed over 1 objects/1.8 KiB.                                      \n"
     ]
    }
   ],
   "source": [
    "! rm -f custom.tar custom.tar.gz\n",
    "! tar cvf custom.tar custom\n",
    "! gzip custom.tar\n",
    "! gsutil cp custom.tar.gz gs://$BUCKET_NAME/boston_housing.tar.gz"
   ]
  },
  {
   "cell_type": "markdown",
   "metadata": {
    "id": "3gq6Vogp46va"
   },
   "source": [
    "### Train the model\n",
    "\n",
    "Let's now start the training of your custom training job on AI Platform. Use our helper function we defined earlier `create_custom_job`, which will return the AI Platform (Unified) fully qualified identifier assigned to the custom job."
   ]
  },
  {
   "cell_type": "code",
   "execution_count": 32,
   "metadata": {
    "id": "kAzRZ0fy46va"
   },
   "outputs": [
    {
     "name": "stdout",
     "output_type": "stream",
     "text": [
      "name: projects/895222332033/locations/us-central1/customJobs/4687411583255576576\n",
      "display_name: custom_job_20210305172716\n",
      "state: JobState.JOB_STATE_PENDING\n",
      "create_time: 2021-03-05 17:32:13.842715+00:00\n",
      "update_time: 2021-03-05 17:32:13.842715+00:00\n"
     ]
    }
   ],
   "source": [
    "# Save the job name\n",
    "JOB_ID = create_custom_job(CUSTOM_JOB)"
   ]
  },
  {
   "cell_type": "markdown",
   "metadata": {
    "id": "YLRyEZj946va"
   },
   "source": [
    "### Get information on a custom job\n",
    "\n",
    "Let's get the status on your custom training job for Boston Housing data using the helper function defined earlier `get_custom_job`. The job most likely will still be either PENDING or RUNNING."
   ]
  },
  {
   "cell_type": "code",
   "execution_count": 33,
   "metadata": {
    "id": "d56K1Hw-46va"
   },
   "outputs": [
    {
     "name": "stdout",
     "output_type": "stream",
     "text": [
      "name: projects/895222332033/locations/us-central1/customJobs/4687411583255576576\n",
      "display_name: custom_job_20210305172716\n",
      "state: JobState.JOB_STATE_PENDING\n",
      "create_time: 2021-03-05 17:32:13.842715+00:00\n",
      "update_time: 2021-03-05 17:32:13.842715+00:00\n"
     ]
    }
   ],
   "source": [
    "result = get_custom_job(JOB_ID)"
   ]
  },
  {
   "cell_type": "markdown",
   "metadata": {
    "id": "3nPjrjsH46vb"
   },
   "source": [
    "# Deployment\n",
    "\n",
    "## Pre-Cooked\n",
    "\n",
    "Training the above model may take upwards of ~5 minutes time. For expendiency, we have a pre-cooked (already trained) version of this model you can use for the next steps, while you wait for your model to finish training. \n",
    "\n",
    "Once your model is done training, you can repeat these steps for your trained model. You can calcuate the actual time it took to train the model by subtracting `end_time` from `start_time`. For your model, we will need to know the location of the saved model, which the python script saved in your local Cloud Storage bucket at `MODEL_DIR + '/saved_model.pb'`.\n",
    "\n",
    "\n",
    "You can choose between the precooked model or your trained model with the python variable `precooked` in the cell below."
   ]
  },
  {
   "cell_type": "code",
   "execution_count": 36,
   "metadata": {
    "id": "cFnueZrQ46vb"
   },
   "outputs": [
    {
     "name": "stdout",
     "output_type": "stream",
     "text": [
      "Training Time: 0:05:34.083976\n",
      "model_to_deploy: gs://jk-ucaip-demos/custom_job_20210305172716\n"
     ]
    }
   ],
   "source": [
    "# Precooked flag\n",
    "precook = False\n",
    "\n",
    "if precook:\n",
    "    model_path_to_deploy = \"[not-yet-implemented]\"\n",
    "else:\n",
    "    while True:\n",
    "        response = get_custom_job(JOB_ID, True)\n",
    "        if response.state != aip.JobState.JOB_STATE_SUCCEEDED: \n",
    "            print(\"Training job has not completed:\", response.state)\n",
    "            model_path_to_deploy = None\n",
    "            if response.state == aip.JobState.JOB_STATE_FAILED:\n",
    "                break\n",
    "        else:\n",
    "            if not DIRECT:\n",
    "                MODEL_DIR = MODEL_DIR + \"/model\"\n",
    "            model_path_to_deploy = MODEL_DIR\n",
    "            print(\"Training Time:\", response.update_time - response.create_time)\n",
    "            break\n",
    "        time.sleep(60)\n",
    "\n",
    "print(\"model_to_deploy:\", model_path_to_deploy)"
   ]
  },
  {
   "cell_type": "markdown",
   "metadata": {
    "id": "NCOtfd5O46vb"
   },
   "source": [
    "## Load the saved model\n",
    "\n",
    "Your model is stored in a TF SavedModel format in a Cloud Storage bucket. Let's go ahead and load it from the Cloud Storage bucket, and then you can do some things, like evaluate the model, and do a prediction.\n",
    "\n",
    "To load, you use the TF.Keras `model.load_model()` method passing it the Cloud Storage path where the model is saved -- specified by `MODEL_DIR`."
   ]
  },
  {
   "cell_type": "code",
   "execution_count": 37,
   "metadata": {
    "id": "6GH1v6Vi46vb"
   },
   "outputs": [],
   "source": [
    "import tensorflow as tf\n",
    "\n",
    "model = tf.keras.models.load_model(MODEL_DIR)"
   ]
  },
  {
   "cell_type": "markdown",
   "metadata": {
    "id": "x_pb5Fh-46vb"
   },
   "source": [
    "## Evaluate the model\n",
    "\n",
    "Now let's find out how good the model is. \n",
    "\n",
    "### Load evaluation data\n",
    "\n",
    "You will load the Boston Housing test (holdout) data from `tf.keras.datasets`, using the method `load_data()`. This will return the dataset as a tuple of two elements. The first element is the training data and the second is the test data. Each element is also a tuple of two elements: the feature data, and the corresponding labels (median value of owner-occupied home).\n",
    "\n",
    "You don't need the training data, and hence why we loaded it as `(_, _)`.\n",
    "\n",
    "Before you can run the data through evaluation, you need to preprocess it:\n",
    "\n",
    "x_test:\n",
    "1. Normalize (rescaling) the data in each column by dividing each value by the maximum value of that column. This will replace each single value with a 32-bit floating point number between 0 and 1."
   ]
  },
  {
   "cell_type": "code",
   "execution_count": 38,
   "metadata": {
    "id": "254RzXgn46vb"
   },
   "outputs": [
    {
     "name": "stdout",
     "output_type": "stream",
     "text": [
      "(102, 13) float32 (102,)\n"
     ]
    }
   ],
   "source": [
    "from tensorflow.keras.datasets import boston_housing\n",
    "import numpy as np\n",
    "\n",
    "(_, _), (x_test, y_test) = boston_housing.load_data(\n",
    "    path=\"boston_housing.npz\", test_split=0.2, seed=113)\n",
    "\n",
    "def scale(feature):\n",
    "    max = np.max(feature)\n",
    "    feature = (feature / max).astype(np.float32)\n",
    "    return feature\n",
    "\n",
    "for _ in range(13):\n",
    "    x_test[_] = scale(x_test[_])\n",
    "x_test = x_test.astype(np.float32)\n",
    "\n",
    "print(x_test.shape, x_test.dtype, y_test.shape)"
   ]
  },
  {
   "cell_type": "markdown",
   "metadata": {
    "id": "C0vQ514z46vb"
   },
   "source": [
    "### Evaluate the model\n",
    "\n",
    "Let's evaluate how well the DNN model in the custom job did. "
   ]
  },
  {
   "cell_type": "code",
   "execution_count": 39,
   "metadata": {
    "id": "bec7lS1d46vb"
   },
   "outputs": [
    {
     "name": "stdout",
     "output_type": "stream",
     "text": [
      "4/4 [==============================] - 1s 5ms/step - loss: 48.0975\n"
     ]
    },
    {
     "data": {
      "text/plain": [
       "48.097450256347656"
      ]
     },
     "execution_count": 39,
     "metadata": {},
     "output_type": "execute_result"
    }
   ],
   "source": [
    "model.evaluate(x_test, y_test)"
   ]
  },
  {
   "cell_type": "markdown",
   "metadata": {
    "id": "7TJm5-L146vc"
   },
   "source": [
    "Let's try a prediction with the local model instance."
   ]
  },
  {
   "cell_type": "code",
   "execution_count": 40,
   "metadata": {
    "id": "tyJmAvxI46vc"
   },
   "outputs": [
    {
     "data": {
      "text/plain": [
       "array([[12.200012]], dtype=float32)"
      ]
     },
     "execution_count": 40,
     "metadata": {},
     "output_type": "execute_result"
    }
   ],
   "source": [
    "model.predict(np.asarray([x_test[7]]))"
   ]
  },
  {
   "cell_type": "markdown",
   "metadata": {
    "id": "ray-H-5h46vc"
   },
   "source": [
    "## Upload the model for serving\n",
    "\n",
    "\n",
    "Next, you will upload your TF.Keras model from the custom job to AI Platform (Unified) model service, which will create a AI Platform (Unified) model resource for your custom model. You will also need to know the name (signature) of the model's serving input layer. You will use this subsequently when making a prediction request.\n"
   ]
  },
  {
   "cell_type": "markdown",
   "metadata": {
    "id": "9XtbADNF46vc"
   },
   "source": [
    "## Get the serving function signature\n",
    "\n",
    "You can get the signatures of your model's input and output layers by reloading the model into memory, and querying it for the signatures corresponding to each layer.\n",
    "\n",
    "When making a prediction request, you need to route the request to the serving function instead of the model, so you need to know the input layer name of the serving function -- which you will use later when you make a prediction request.\n",
    "\n",
    "You will also need to know the name of the serving function's input and output layer for constructing the explanation metadata -- which is discussed subsequently."
   ]
  },
  {
   "cell_type": "code",
   "execution_count": 41,
   "metadata": {
    "id": "fkp2rJJQ46vc"
   },
   "outputs": [
    {
     "name": "stdout",
     "output_type": "stream",
     "text": [
      "Serving function input: dense_input\n",
      "Serving function output: dense_2\n",
      "Model input name: dense_input\n",
      "Model output name: dense_2/BiasAdd:0\n"
     ]
    }
   ],
   "source": [
    "loaded = tf.saved_model.load(model_path_to_deploy)\n",
    "\n",
    "serving_input = list(loaded.signatures['serving_default'].structured_input_signature[1].keys())[0]\n",
    "print('Serving function input:', serving_input)\n",
    "serving_output = list(loaded.signatures['serving_default'].structured_outputs.keys())[0]\n",
    "print('Serving function output:', serving_output)\n",
    "\n",
    "input_name = model.input.name\n",
    "print('Model input name:', input_name)\n",
    "output_name = model.output.name\n",
    "print('Model output name:', output_name)"
   ]
  },
  {
   "cell_type": "markdown",
   "metadata": {
    "id": "IvJUo27x46vc"
   },
   "source": [
    "### Explanation Specification\n",
    "\n",
    "To get explanations when doing a prediction, you must enable the explanation capability and set corresponding settings when you upload your custom model to a AI Platform (Unified) managed model. These settings are referred to as the explanation metadata, which consists of:\n",
    "\n",
    "- `parameters`: This is the specification for the explainability algorithm to use for explanations on your model. You can choose between:\n",
    "  - Shapley - *Note*, not recommended for image data -- can be very long running\n",
    "  - XRAI\n",
    "  - Integrated Gradients\n",
    "- `metadata`: This is the specification for how the algoithm is applied on your custom model.\n",
    "\n",
    "#### Explanation Parameters\n",
    "\n",
    "Let's first dive deeper into the settings for the explainability algorithm.\n",
    "\n",
    "#### Shapley\n",
    "\n",
    "Assigns credit for the outcome to each feature, and considers different permutations of the features. This method provides a sampling approximation of exact Shapley values.\n",
    "\n",
    "Use Cases: \n",
    "  - Classification and regression on tabular data.\n",
    "\n",
    "Parameters:\n",
    "\n",
    "- `path_count`: This is the number of paths over the features that will be processed by the algorithm. An exact approximation of the Shapley values requires M! paths, where M is the number of features. For the Boston Housing dataset, this would be 13.\n",
    "\n",
    "For any non-trival number of features, this is too compute expensive. You can reduce the number of paths over the features to M * `path_count`.\n",
    "\n",
    "#### Integrated Gradients\n",
    "\n",
    "A gradients-based method to efficiently compute feature attributions with the same axiomatic properties as the Shapley value.\n",
    "\n",
    "Use Cases: \n",
    "  - Classification and regression on tabular data. \n",
    "  - Classification on image data.\n",
    "\n",
    "Parameters:\n",
    "\n",
    "- `step_count`: This is the number of steps to approximate the remaining sum. The more steps, the more accurate the integral approximation. The general rule of thumb is 50 steps, but as you increase so does the compute time.\n",
    "\n",
    "#### XRAI\n",
    "\n",
    "Based on the integrated gradients method, XRAI assesses overlapping regions of the image to create a saliency map, which highlights relevant regions of the image rather than pixels.\n",
    "\n",
    "Use Cases: \n",
    "\n",
    "  - Classification on image data.\n",
    "\n",
    "Parameters:\n",
    "\n",
    "- `step_count`: This is the number of steps to approximate the remaining sum. The more steps, the more accurate the integral approximation. The general rule of thumb is 50 steps, but as you increase so does the compute time.\n",
    "\n",
    "In the next code cell, set the variable `XAI` to which explainabilty algorithm you will use on your custom model."
   ]
  },
  {
   "cell_type": "code",
   "execution_count": 42,
   "metadata": {
    "id": "WdlFgIX-46vc"
   },
   "outputs": [
    {
     "ename": "AttributeError",
     "evalue": "module 'google.cloud.aiplatform.gapic' has no attribute 'ExplanationParameters'",
     "output_type": "error",
     "traceback": [
      "\u001b[0;31m---------------------------------------------------------------------------\u001b[0m",
      "\u001b[0;31mAttributeError\u001b[0m                            Traceback (most recent call last)",
      "\u001b[0;32m<ipython-input-42-c05b99000815>\u001b[0m in \u001b[0;36m<module>\u001b[0;34m\u001b[0m\n\u001b[1;32m     14\u001b[0m     }\n\u001b[1;32m     15\u001b[0m \u001b[0;34m\u001b[0m\u001b[0m\n\u001b[0;32m---> 16\u001b[0;31m \u001b[0mparameters\u001b[0m \u001b[0;34m=\u001b[0m \u001b[0maip\u001b[0m\u001b[0;34m.\u001b[0m\u001b[0mExplanationParameters\u001b[0m\u001b[0;34m(\u001b[0m\u001b[0mPARAMETERS\u001b[0m\u001b[0;34m)\u001b[0m\u001b[0;34m\u001b[0m\u001b[0;34m\u001b[0m\u001b[0m\n\u001b[0m",
      "\u001b[0;31mAttributeError\u001b[0m: module 'google.cloud.aiplatform.gapic' has no attribute 'ExplanationParameters'"
     ]
    }
   ],
   "source": [
    "XAI = \"shapley\"  # [ shapley, ig, xrai ]\n",
    "\n",
    "if XAI == \"shapley\":\n",
    "    PARAMETERS = {\n",
    "        \"sampled_shapley_attribution\": { 'path_count': 10 }\n",
    "    }\n",
    "elif XAI == \"ig\":\n",
    "    PARAMETERS = {\n",
    "        \"integrated_gradients_attribution\": { \"step_count\": 50 }\n",
    "    }\n",
    "elif XAI == \"xrai\":\n",
    "    PARAMETERS = {\n",
    "        \"xrai\": { \"step_count\": 50 }\n",
    "    }\n",
    "    \n",
    "parameters = aip.ExplanationParameters(PARAMETERS)"
   ]
  },
  {
   "cell_type": "markdown",
   "metadata": {
    "id": "Bel8xUFU46vc"
   },
   "source": [
    "#### Explanation Metadata\n",
    "\n",
    "Let's first dive deeper into the explanation metadata, which consists of:\n",
    "\n",
    "- `outputs`: A scalar value in the output to attribute -- what to explain. For example, in a probability output \\[0.1, 0.2, 0.7\\] for classification, one wants an explanation for 0.7. Consider the following formulae, where the output is `y` and that is what we want to explain.\n",
    "\n",
    "    y = f(x)\n",
    "    \n",
    "Consider the following formulae, where the outputs are `y` and `z`. Since we can only do attribution for one scalar value, we have to pick whether we want to explain the output `y` or `z`. Assume in this example the model is object detection and y and z are the bounding box and the object classification. You would want to pick which of the two outputs to explain.\n",
    "\n",
    "    y, z = f(x)\n",
    "    \n",
    "The dictionary format for `outputs` is:\n",
    "\n",
    "    { \"outputs\": { \"<your_display_name>\": \n",
    "                        \"output_tensor_name\": <layer>\n",
    "                 }\n",
    "    }\n",
    "  \n",
    "<blockquote>\n",
    " -  [your_display_name]: A human readable name you assign to the output to explain. A common example is \"probability\".<br/>\n",
    " -  \"output_tensor_name\": The key/value field to identify the output layer to explain. <br/>\n",
    " -  [layer]: The output layer to explain. In a single task model, like a tabular regressor, it is the last (topmost) layer in the model.\n",
    "</blockquote>\n",
    "    \n",
    "- `inputs`: The features for attribution -- how they contributed to the output. Consider the following formulae, where `a` and `b` are the features. We have to pick which features to explain how the contributed. Assume that this model is deployed for A/B testing, where `a` are the data_items for the prediction and `b` identifies whether the model instance is A or B. You would want to pick `a` (or some subset of) for the features, and not `b` since it does not contribute to the prediction.\n",
    "\n",
    "    y = f(a,b)\n",
    "    \n",
    "The minimum dictionary format for `inputs` is:\n",
    "\n",
    "    { \"inputs\": { \"<your_display_name>\": \n",
    "                        \"input_tensor_name\": <layer>\n",
    "                 }\n",
    "    }\n",
    "  \n",
    "<blockquote>\n",
    " -  [your_display_name]: A human readable name you assign to the input to explain. A common example is \"features\".<br/>\n",
    " -  \"input_tensor_name\": The key/value field to identify the input layer for the feature attribution. <br/>\n",
    " -  [layer]: The input layer for feature attribution. In a single input tensor model, it is the first (bottom-most) layer in the model.\n",
    "</blockquote>\n",
    "\n",
    "Since the inputs to the model are tabular, you can specify the following two additional fields as reporting/visualization aids:\n",
    "\n",
    "<blockquote>\n",
    " - \"encoding\": \"BAG_OF_FEATURES\" : Indicates that the inputs are set of tabular features.<br/>\n",
    " - \"index_feature_mapping\": [ feature-names ] : A list of human readable names for each feature. For this example, we use the feature names specified in the dataset.<br/>\n",
    " - \"modality\": \"numeric\": Indicates the field values are numeric.\n",
    "</blockquote>"
   ]
  },
  {
   "cell_type": "code",
   "execution_count": null,
   "metadata": {
    "id": "_5omnQ9d46vc"
   },
   "outputs": [],
   "source": [
    "INPUT_METADATA = {'input_tensor_name': serving_input,\n",
    "                  \"encoding\": \"BAG_OF_FEATURES\",\n",
    "                  \"modality\": \"numeric\",\n",
    "                  \"index_feature_mapping\": [\"crim\", \"zn\", \"indus\", \"chas\", \"nox\", \"rm\", \"age\", \n",
    "                                            \"dis\", \"rad\", \"tax\", \"ptratio\", \"b\", \"lstat\"]}\n",
    "\n",
    "OUTPUT_METADATA = {'output_tensor_name': serving_output}\n",
    "\n",
    "input_metadata = aip.ExplanationMetadata.InputMetadata(INPUT_METADATA)\n",
    "output_metadata = aip.ExplanationMetadata.OutputMetadata(OUTPUT_METADATA)\n",
    "\n",
    "metadata = aip.ExplanationMetadata(\n",
    "        inputs={'features': input_metadata},\n",
    "        outputs={'medv' : output_metadata}\n",
    ")\n",
    "\n",
    "explanation_spec = aip.ExplanationSpec(\n",
    "    metadata=metadata,\n",
    "    parameters=parameters\n",
    ")"
   ]
  },
  {
   "cell_type": "markdown",
   "metadata": {
    "id": "jUo8Acyr46vd"
   },
   "source": [
    "### Upload the model\n",
    "\n",
    "Use this helper function `upload_model` to upload your model, stored in SavedModel format, up to the model service, which will instantiate a AI Platform (Unified) model instance for our model. Once you've done that, you can use the model in the same way as any other AI Platform (Unified) model instance, such as deploying to an endpoint for serving predictions.\n",
    "\n",
    "The helper function takes the parameters:\n",
    "\n",
    "- `display_name`: A human readable name for the endpoint.\n",
    "- `image_uri`: The container image for the model deployment.\n",
    "- `model_uri`: The Cloud Storage path to our SavedModel artificat. For this tutorial, this is the Cloud Storage location where the `trainer/task.py` saved the model, which we specified in the variable `MODEL_DIR`.\n",
    "\n",
    "The helper function uses the model client service and calls the method `upload_model`, which takes the parameters:\n",
    "\n",
    "- `parent`: The AI Platform (Unified) location root path for dataset, model and endpoint resources. \n",
    "- `model`: The specification for the AI Platform (Unified) model instance.\n",
    "\n",
    "Let's now dive deeper into the AI Platform (Unified) model specification `model`. This is a dictionary object that consists of the following fields:\n",
    "\n",
    "- `display_name`: A human readable name for the model.\n",
    "- `metadata_schema_uri`: Since our model was built without a AI Platform (Unified) managed dataset, we will leave this blank (`''`).\n",
    "- `artificat_uri`: The Cloud Storage path where the model is stored in SavedModel format. \n",
    "- `container_spec`: This is the specification for the docker container that will be installed on the endpoint, from which the model will serve predictions. Use the variable you set earlier `DEPLOY_GPU != None` to use a GPU; otherwise only a CPU is allocated.\n",
    "- `explanation_spec`: This is the specification for enabling explainability for your model.\n",
    "\n",
    "Uploading a model into a AI Platform (Unified) model resource returns a long running operation, since it may take a few moments. We call `response.result()`, which is a synchronous call and will return when the AI Platform (Unified) model resource is ready. \n",
    "\n",
    "The helper function returns the AI Platform (Unified) fully qualified identifier for the corresponding AI Platform (Unified) model instance `upload_model_response.model`. You will save the identifier for subsequent steps in the variable `model_to_deploy_name`."
   ]
  },
  {
   "cell_type": "code",
   "execution_count": null,
   "metadata": {
    "id": "_zoo2DQk46vd"
   },
   "outputs": [],
   "source": [
    "IMAGE_URI = DEPLOY_IMAGE\n",
    "\n",
    "\n",
    "\n",
    "def upload_model(display_name, image_uri, model_uri):\n",
    "\n",
    "    model = aip.Model(display_name=display_name,\n",
    "                      artifact_uri=model_uri,\n",
    "                      metadata_schema_uri=\"\",\n",
    "                      explanation_spec=explanation_spec,\n",
    "                      container_spec={\n",
    "                        \"image_uri\": image_uri,\n",
    "                        \"command\": [],\n",
    "                        \"args\": [],\n",
    "                        \"env\": [{\"name\": \"env_name\", \"value\": \"env_value\"}],\n",
    "                        \"ports\": [{\"container_port\": 8080}],\n",
    "                        \"predict_route\": \"\",\n",
    "                        \"health_route\": \"\",\n",
    "                     })\n",
    "    \n",
    "    response = clients['model'].upload_model(parent=PARENT, model=model)\n",
    "    print(\"Long running operation:\", response.operation.name)\n",
    "    upload_model_response = response.result(timeout=180)\n",
    "    print(\"upload_model_response\")\n",
    "    print(\" model:\", upload_model_response.model)\n",
    "    return upload_model_response.model\n",
    "\n",
    "\n",
    "model_to_deploy_name = upload_model(\"boston-\" + TIMESTAMP, IMAGE_URI, model_path_to_deploy)"
   ]
  },
  {
   "cell_type": "markdown",
   "metadata": {
    "id": "KcwNNdfU46vd"
   },
   "source": [
    "### List all models\n",
    "\n",
    "Now that your custom model is uploaded as a AI Platform (Unified) managed model, let's get a list of all your AI Platform (Unified) managed models. Use this helper function `list_models`. This helper function uses the AI Platform (Unified) model client service, and calls the method `list_models`, with the parameter:\n",
    "\n",
    "- `parent`: The AI Platform (Unified) location root path for your dataset, model and endpoint resources.\n",
    "\n",
    "The response object from the call is a list, where each element is a AI Platform (Unified) managed model. For each model, you will display a few fields:\n",
    "\n",
    "- `name`: The AI Platform (Unified) unique identifier for the managed model.\n",
    "- `display_name`: The human readable name assigned to the model.\n",
    "- `create_time`': Timestamp when the model resource was created.\n",
    "- `update_time`: Timestamp when the model resource was last updated.\n",
    "- `container`: The container image used for training the model.\n",
    "- `artifact_uri`': The Cloud Storage location of the model artifact."
   ]
  },
  {
   "cell_type": "code",
   "execution_count": null,
   "metadata": {
    "id": "4IsIwJiF46vd"
   },
   "outputs": [],
   "source": [
    "def list_models():\n",
    "    response = clients['model'].list_models(parent=PARENT)\n",
    "    for model in response:\n",
    "        print(\"name\", model.name)\n",
    "        print(\"display_name\", model.display_name)\n",
    "        print(\"create_time\", model.create_time)\n",
    "        print(\"update_time\", model.update_time)\n",
    "        print(\"container\", model.container_spec.image_uri)\n",
    "        print(\"artifact_uri\", model.artifact_uri)\n",
    "        print('\\n')\n",
    "\n",
    "\n",
    "list_models()"
   ]
  },
  {
   "cell_type": "markdown",
   "metadata": {
    "id": "HIIaAo-446vd"
   },
   "source": [
    "### Get model information\n",
    "\n",
    "Now let's get the model information for just your model. Use this helper function `get_model`, with the parameter:\n",
    "\n",
    "- `name`: The AI Platform (Unified) unique identifier for the managed model.\n",
    "\n",
    "This helper function uses the AI Platform (Unified) model client service, and calls the method `get_model`, with the parameter:\n",
    "\n",
    "- `name`: The AI Platform (Unified) unique identifier for the managed model."
   ]
  },
  {
   "cell_type": "code",
   "execution_count": null,
   "metadata": {
    "id": "OTltOT6K46vd"
   },
   "outputs": [],
   "source": [
    "def get_model(name):\n",
    "    response = clients['model'].get_model(name=name)\n",
    "    print(response)\n",
    "\n",
    "\n",
    "get_model(model_to_deploy_name)"
   ]
  },
  {
   "cell_type": "markdown",
   "metadata": {
    "id": "OYOu1heS46vd"
   },
   "source": [
    "### Create an endpoint\n",
    "\n",
    "Use this helper function `create_endpoint` to create an endpoint to deploy the model to for serving predictions, with the parameter:\n",
    "\n",
    "- `display_name`: A human readable name for the endpoint.\n",
    "\n",
    "The helper function uses the endpoint client service and calls the method `create_endpoint`, which takes the parameter:\n",
    "\n",
    "- `display_name`: A human readable name for the endpoint.\n",
    "\n",
    "Creating an endpoint returns a long running operation, since it may take a few moments to provision the endpoint for serving. You will call `response.result()`, which is a synchronous call and will return when the endpoint is ready. The helper function returns the AI Platform (Unified) fully qualified identifier for the endpoint -- `response.name`.\n"
   ]
  },
  {
   "cell_type": "code",
   "execution_count": null,
   "metadata": {
    "id": "Mo945Y-q46vd"
   },
   "outputs": [],
   "source": [
    "ENDPOINT_NAME = \"boston_endpoint-\" + TIMESTAMP\n",
    "\n",
    "\n",
    "def create_endpoint(display_name):\n",
    "    endpoint = {\"display_name\": display_name}\n",
    "    response = clients['endpoint'].create_endpoint(parent=PARENT, endpoint=endpoint)\n",
    "    print(\"Long running operation:\", response.operation.name)\n",
    "\n",
    "    result = response.result(timeout=300)\n",
    "    print(\"result\")\n",
    "    print(\" name:\", result.name)\n",
    "    print(\" display_name:\", result.display_name)\n",
    "    print(\" description:\", result.description)\n",
    "    print(\" labels:\", result.labels)\n",
    "    print(\" create_time:\", result.create_time)\n",
    "    print(\" update_time:\", result.update_time)\n",
    "    return result.name\n",
    "\n",
    "\n",
    "endpoint_name = create_endpoint(ENDPOINT_NAME)"
   ]
  },
  {
   "cell_type": "markdown",
   "metadata": {
    "id": "MmSeGtTn46ve"
   },
   "source": [
    "### Compute instance scaling\n",
    "\n",
    "You have several choices on scaling the compute instances for handling your online prediction requests:\n",
    "\n",
    "- Single Instance: The online prediction requests are processed on a single compute instance.\n",
    "  - Set the minimum (`MIN_NODES`) and maximum (`MAX_NODES`) number of compute instances to one. \n",
    "\n",
    "\n",
    "- Manual Scaling: The online prediction requests are split across a fixed number of compute instances that you manually specified.\n",
    "  - Set the minimum (`MIN_NODES`) and maximum (`MAX_NODES`) number of compute instances to the same number of nodes. When a model is first deployed to the instanxe, the fixed number of compute instances are provisioned and online prediction requests are evenly distributed across them.\n",
    "  \n",
    "  \n",
    "- Auto Scaling: The online prediction requests are streamed across an initial number of compute instances and then based on time and compute tradeoff may be automatically scaled to provision and deprovision compute instances.\n",
    "  - Set the minimum (`MIN_NODES`) to the initial number of compute instances and the maximum (`MAX_NODES`) to the maximum number of nodes the service could auto-scale to.\n",
    "\n",
    "  - If the minimum number of compute instancers is zero, the service will deprovision the compute instance after a period of idleness, and provision the compute instance on next prediction request, which may take several minutes to provision.\n",
    "  \n",
    "The minimum number of compute instances corresponds to the field `min_replica_count` and the maximum number of compute instances corresponds to the field `max_replica_count`, in your subsequent deployment request."
   ]
  },
  {
   "cell_type": "code",
   "execution_count": null,
   "metadata": {
    "id": "Z3s5ad9b46ve"
   },
   "outputs": [],
   "source": [
    "MIN_NODES = 1\n",
    "MAX_NODES = 1"
   ]
  },
  {
   "cell_type": "markdown",
   "metadata": {
    "id": "EqOpV5G_46ve"
   },
   "source": [
    "### Deploy model to the endpoint\n",
    "\n",
    "Use this helper function `deploy_model` to deploy the model to the endpoint you created for serving predictions, with the parameters:\n",
    "\n",
    "- `model`: The AI Platform (Unified) fully qualified model identifier of the model to upload (deploy) from the training pipeline.\n",
    "- `deploy_mopdel_display_name`: A human readable name for the deployed model.\n",
    "- `endpoint`: The AI Platform (Unified) fully qualified endpoint identifier to deploy the model to.\n",
    "\n",
    "The helper function uses the endpoint client service and calls the method `deploy_model`, which takes the parameters:\n",
    "\n",
    "- `endpoint`: The AI Platform (Unified) fully qualified endpoint identifier to deploy the model to.\n",
    "- `deployed_model`: The requirements for deploying the model.\n",
    "- `traffic_split`: Percent of traffic at endpoint that goes to this model, which is specified as a dictionary of one or more key/value pairs.\n",
    "   - If only one model, then specify as **{ \"0\": 100 }**, where \"0\" refers to this model being uploaded and 100 means 100% of the traffic.\n",
    "   - If there are existing models on the endpoint, for which the traffic will be split, then specify as, where `model_id` is the model id of an existing model to the deployed endpoint. The percents must add up to 100.\n",
    "   \n",
    "           { \"0\": percent, model_id: percent, ... }\n",
    "\n",
    "Let's now dive deeper into the `deployed_model` parameter. This parameter is specified as a python dictionary with the minimum required fields:\n",
    "\n",
    "- `model`: The AI Platform (Unified) fully qualified model identifier of the (upload) model to deploy.\n",
    "- `display_name`: A human readable name for the deployed model.\n",
    "- `dedicated_resources`: This refers to how many compute instances (replicas) that are scaled for serving prediction requests. \n",
    "  - `machine_spec`: The compute instance to provision. Use the variable you set earlier `DEPLOY_GPU != None` to use a GPU; otherwise only a CPU is allocated.  \n",
    "  - `min_replica_count`: The number of compute instances to initially provision, which you set earlier as the variable `MIN_NODES`.\n",
    "  - `max_replica_count`: The maximum number of compute instances to scale to, which you set earlier as the variable `MAX_NODES`.\n",
    "- `enable_container_logging`: This enables logging of container events, such as execution failures (default is False). This is typically set to True when debugging the deployment and then set to False when deployed for production.\n",
    "\n",
    "Let's now dive deeper into the `traffic_split` parameter. This parameter is specified as a python dictionary. This might at first be a tad bit confusing. Let me explain, you can deploy more than one instance of your model to an endpoint, and then set how much (percent) goes to each instance. \n",
    "\n",
    "Why would you do that? Perhaps you already have a previous version deployed in production -- let's call that v1. You got better model evaluation on v2, but you don't know for certain that it is really better until you deploy to production. So in the case of traffic split, you might want to deploy v2 to the same endpoint as v1, but it only get's say 10% of the traffic. That way, you can monitor how well it does without disrupting the majority of users -- until you make a final decision."
   ]
  },
  {
   "cell_type": "code",
   "execution_count": null,
   "metadata": {
    "id": "ubXy5_D-46ve"
   },
   "outputs": [],
   "source": [
    "DEPLOYED_NAME = \"boston_deployed-\" + TIMESTAMP\n",
    "\n",
    "\n",
    "def deploy_model(model, deployed_model_display_name, endpoint, traffic_split={\"0\": 100}):\n",
    "\n",
    "    if DEPLOY_GPU:\n",
    "        machine_spec = {\n",
    "            \"machine_type\": DEPLOY_COMPUTE,\n",
    "            \"accelerator_type\": DEPLOY_GPU,\n",
    "            \"accelerator_count\": DEPLOY_NGPU,\n",
    "        }\n",
    "    else:\n",
    "        machine_spec = {\n",
    "            \"machine_type\": DEPLOY_COMPUTE,\n",
    "            \"accelerator_count\": 0,\n",
    "        }\n",
    "\n",
    "    deployed_model = {\n",
    "        \"model\": model,\n",
    "        \"display_name\": deployed_model_display_name,\n",
    "        \"dedicated_resources\": {\n",
    "            \"min_replica_count\": MIN_NODES,\n",
    "            \"max_replica_count\": MAX_NODES,\n",
    "            \"machine_spec\": machine_spec\n",
    "        },\n",
    "        \"enable_container_logging\": False\n",
    "    }\n",
    "\n",
    "    response = clients['endpoint'].deploy_model(\n",
    "        endpoint=endpoint, deployed_model=deployed_model, traffic_split=traffic_split)\n",
    "\n",
    "    print(\"Long running operation:\", response.operation.name)\n",
    "    result = response.result()\n",
    "    print(\"result\")\n",
    "    deployed_model = result.deployed_model\n",
    "    print(\" deployed_model\")\n",
    "    print(\"  id:\", deployed_model.id)\n",
    "    print(\"  model:\", deployed_model.model)\n",
    "    print(\"  display_name:\", deployed_model.display_name)\n",
    "    print(\"  create_time:\", deployed_model.create_time)\n",
    "\n",
    "    return deployed_model.id\n",
    "\n",
    "\n",
    "deployed_model_id = deploy_model(model_to_deploy_name, DEPLOYED_NAME, endpoint_name)"
   ]
  },
  {
   "cell_type": "markdown",
   "metadata": {
    "id": "D9BuL6J246ve"
   },
   "source": [
    "### List all endpoints\n",
    "\n",
    "Let's now get a list of all your endpoints. Use this helper function `list_endpoints`. \n",
    "\n",
    "The helper function uses the endpoint client service and calls the method `list_endpoints`. The returned response object is a list, with an element for each endpoint. The helper function lists a few example fields for each endpoint:\n",
    "\n",
    "- `name`: The AI Platform (Unified) identifier for the managed endpoint.\n",
    "- `display_name`: The human readable name you assigned to the endpoint.\n",
    "- `create_time`: When the endpoint was created.\n",
    "- `deployed_models`: The models and associated information that are deployed to this endpoint."
   ]
  },
  {
   "cell_type": "code",
   "execution_count": null,
   "metadata": {
    "id": "5qGUlHZL46ve"
   },
   "outputs": [],
   "source": [
    "def list_endpoints():\n",
    "    response = clients['endpoint'].list_endpoints(parent=PARENT)\n",
    "    for endpoint in response:\n",
    "        print(\"name:\", endpoint.name)\n",
    "        print(\"display name:\", endpoint.display_name)\n",
    "        print(\"create_time:\", endpoint.create_time)\n",
    "        print(\"deployed_models\", endpoint.deployed_models)\n",
    "        print(\"\\n\")\n",
    "        \n",
    "list_endpoints()"
   ]
  },
  {
   "cell_type": "markdown",
   "metadata": {
    "id": "3XXlP1sQ46ve"
   },
   "source": [
    "### Get information on this endpoint\n",
    "\n",
    "Now let's get the endpoint information for just your endpoint. Use this helper function `get_endpoint`, with the parameter:\n",
    "\n",
    "- `name`: The AI Platform (Unified) unique identifier for the managed endpoint.\n",
    "\n",
    "This helper function uses the AI Platform (Unified) endpoint client service, and calls the method `get_endpoint`, with the parameter:\n",
    "\n",
    "- `name`: The AI Platform (Unified) unique identifier for the managed endpoint."
   ]
  },
  {
   "cell_type": "code",
   "execution_count": null,
   "metadata": {
    "id": "mQB0dAed46ve"
   },
   "outputs": [],
   "source": [
    "def get_endpoint(name):\n",
    "    response = clients['endpoint'].get_endpoint(name=name)\n",
    "    print(response)\n",
    "    \n",
    "get_endpoint(endpoint_name)"
   ]
  },
  {
   "cell_type": "markdown",
   "metadata": {
    "id": "0_idqC_D46vf"
   },
   "source": [
    "## Make a prediction with an explanation request\n",
    "\n",
    "Let's now do a prediction w/explanation to your deployed model. You will use an arbitrary data item out of the test (holdout) portion of the dataset as the test data. "
   ]
  },
  {
   "cell_type": "code",
   "execution_count": null,
   "metadata": {
    "id": "j1mfBORC46vf"
   },
   "outputs": [],
   "source": [
    "test_data = x_test[0]\n",
    "test_label = y_test[0]\n",
    "print(test_data.shape)"
   ]
  },
  {
   "cell_type": "markdown",
   "metadata": {
    "id": "Spxc6Yoz46vf"
   },
   "source": [
    "### Send the prediction w/explanation request\n",
    "\n",
    "Ok, now you have a test data item. Use this helper function `explain_data`, which takes the parameters:\n",
    "\n",
    "- `data_item`: The test data items as a numpy 1D array of floating point values.\n",
    "- `endpoint`: The AI Platform (Unified) fully qualified identifier for the endpoint where the model was deployed.\n",
    "- `parameters_dict`: Additional parameters for serving. \n",
    "\n",
    "This function uses the prediction client service and calls the `explain` method with the parameters:\n",
    "\n",
    "- `endpoint`: The AI Platform (Unified) fully qualified identifier for the endpoint where the model was deployed.\n",
    "- `instances`: A list of instances (data items) to predict.\n",
    "- `parameters`: Additional parameters for serving.  *Note*, custom models do not support additional parameters.\n",
    "- `deployed_model_id`: The AI Platform (Unified) fully qualified identifier for the deployed model, when more than one model is deployed at the endpoint. Otherwise, if only one model deployed, can be set to `None`.\n",
    "\n",
    "To pass the test data to the prediction service, you must package it for transmission to the serving binary as follows:\n",
    "\n",
    "    1. Convert the data item from a 1D numpy array to a 1D Python list.\n",
    "    2. Convert the prediction request to a serialized Google protobuf (`json_format.ParseDict()`)\n",
    "\n",
    "\n",
    "Each instance in the prediction request is a dictionary entry of the form:\n",
    "\n",
    "                        {input_name: content}\n",
    "                        \n",
    "- `input_name`: the name of the input layer of the underlying model.\n",
    "- `content`: The data item as a 1D Python list.\n",
    "\n",
    "Since the `explain()` method can take multiple data items (instances), you will send your single data item as a list of one data item. As a final step, you package the instances list into Google's protobuf format -- which is what we pass to the `explain()` method.\n",
    "\n",
    "The `response` object returns a list, where each element in the list corresponds to the corresponding image in the request. You will see in the output for each prediction:\n",
    "\n",
    "- `deployed_model_id` -- The AI Platform (Unified) fully qualified identifer for the model that did the prediction/explanation.\n",
    "- `predictions` -- The predicated median value of a house in units of 1K USD.\n",
    "- `explanations` -- How each feature contributed to the prediction."
   ]
  },
  {
   "cell_type": "code",
   "execution_count": null,
   "metadata": {
    "id": "EFmYu08T46vf"
   },
   "outputs": [],
   "source": [
    "def explain_data(data_items, endpoint, parameters_dict, deployed_model_id, silent=False):\n",
    "    parameters = json_format.ParseDict(parameters_dict, Value())\n",
    "    \n",
    "    # The format of each instance should conform to the deployed model's prediction input schema.  \n",
    "    instances = [json_format.ParseDict({ serving_input : s.tolist() }, Value()) for s in data_items]\n",
    "\n",
    "    response = clients['prediction'].explain(endpoint=endpoint, instances=instances,\n",
    "                                             parameters=parameters, deployed_model_id=deployed_model_id)\n",
    "    if silent:\n",
    "        return response\n",
    "    \n",
    "    print(\"response\")\n",
    "    print(\" deployed_model_id:\", response.deployed_model_id)\n",
    "    \n",
    "    predictions = response.predictions\n",
    "    print(\"predictions\")\n",
    "    for prediction in predictions:\n",
    "        print(\" prediction:\", dict(prediction))\n",
    "    \n",
    "    explanations = response.explanations\n",
    "    print(\"explanations\")\n",
    "    for explanation in explanations:\n",
    "        print(explanation)\n",
    "    return response\n",
    "\n",
    "\n",
    "response = explain_data([test_data], endpoint_name, None, None)"
   ]
  },
  {
   "cell_type": "markdown",
   "metadata": {
    "id": "YVTFgMnD46vf"
   },
   "source": [
    "### Understanding the explanations response\n",
    "\n",
    "First, let's look at the median house price your model predicted and compare it to the actual value."
   ]
  },
  {
   "cell_type": "code",
   "execution_count": null,
   "metadata": {
    "id": "K-FrxhuY46vf"
   },
   "outputs": [],
   "source": [
    "predictions = response.predictions\n",
    "print(\"Predicted Median House Value:\", predictions[0][serving_output][0], \"1K USD\")\n",
    "print(\"Actual Mean House Value:\", test_label, \"1K USD\")"
   ]
  },
  {
   "cell_type": "markdown",
   "metadata": {
    "id": "kV4lgsw646vf"
   },
   "source": [
    "Next let's look at the feature attributions for this particular example. Positive attribution values mean a particular feature pushed your model prediction up by that amount, and vice versa for negative attribution values."
   ]
  },
  {
   "cell_type": "code",
   "execution_count": null,
   "metadata": {
    "id": "u7jfXGDi46vf"
   },
   "outputs": [],
   "source": [
    "from tabulate import tabulate\n",
    "\n",
    "feature_names = [\"crim\", \"zn\", \"indus\", \"chas\", \"nox\", \"rm\", \"age\", \"dis\", \"rad\", \"tax\", \"ptratio\", \"b\", \"lstat\"]\n",
    "attributions = response.explanations[0].attributions[0].feature_attributions\n",
    "\n",
    "rows = []\n",
    "for i, val in enumerate(feature_names):\n",
    "    rows.append([val, test_data[i], attributions[val]])\n",
    "print(tabulate(rows, headers=['Feature name', 'Feature value', 'Attribution value']))"
   ]
  },
  {
   "cell_type": "markdown",
   "metadata": {
    "id": "qN33q6Pz46vg"
   },
   "source": [
    "## Check your explanations and baselines\n",
    "\n",
    "To better make sense of the feature attributions you're getting, you should compare them with your model's baseline. In most cases, the sum of your attribution values + the baseline should be very close to your model's predicted value for each input. Also note that for regression models, the `baseline_score` returned from AI Explanations will be the same for each example sent to your model. For classification models, each class will have its own baseline.\n",
    "\n",
    "In this section you'll send 10 test examples to your model for prediction in order to compare the feature attributions with the baseline. Then you'll run each test example's attributions through two sanity checks in the `sanity_check_explanations` method."
   ]
  },
  {
   "cell_type": "code",
   "execution_count": null,
   "metadata": {
    "id": "yeytx-F-46vg"
   },
   "outputs": [],
   "source": [
    "# Prepare 10 test examples to your model for prediction\n",
    "pred_batch = []\n",
    "for i in range(10):\n",
    "    pred_batch.append(x_test[i])"
   ]
  },
  {
   "cell_type": "code",
   "execution_count": null,
   "metadata": {
    "id": "gT5e3uE346vg"
   },
   "outputs": [],
   "source": [
    "explain_data(pred_batch, endpoint_name, None, None, silent=True)"
   ]
  },
  {
   "cell_type": "markdown",
   "metadata": {
    "id": "c9ovUcaY46vg"
   },
   "source": [
    "In the function below you perform two sanity checks for models using Integrated Gradient (IG) explanations and one sanity check for models using Sampled Shapley or XRAI."
   ]
  },
  {
   "cell_type": "code",
   "execution_count": null,
   "metadata": {
    "id": "1-ov15v346vg"
   },
   "outputs": [],
   "source": [
    "def sanity_check_explanations(explanation, prediction, mean_tgt_value=None, variance_tgt_value=None):\n",
    "    passed_test = 0\n",
    "    total_test = 1\n",
    "    # `attributions` is a dict where keys are the feature names\n",
    "    # and values are the feature attributions for each feature\n",
    "    baseline_score = explanation.attributions[0].baseline_output_value\n",
    "    print(\"baseline:\", baseline_score)\n",
    "    attribution_vals = [x for x in explanation.attributions[0].feature_attributions.values()]\n",
    "    \n",
    "    # Sanity check 1\n",
    "    # The prediction at the input is equal to that at the baseline.\n",
    "    #  Please use a different baseline. Some suggestions are: random input, training\n",
    "    #  set mean.\n",
    "    if abs(prediction - baseline_score) <= 0.05:\n",
    "        print('Warning: example score and baseline score are too close.')\n",
    "        print('You might not get attributions.')\n",
    "    else:\n",
    "        passed_test += 1\n",
    "        print(\"Sanity Check 1: Passed\")\n",
    "\n",
    "    # Sanity check 2 (only for models using Integrated Gradient explanations)\n",
    "    # Ideally, the sum of the integrated gradients must be equal to the difference\n",
    "    # in the prediction probability at the input and baseline. Any discrepency in\n",
    "    # these two values is due to the errors in approximating the integral.\n",
    "    if XAI == 'ig':\n",
    "        total_test += 1\n",
    "        want_integral = predicted_val - baseline_score\n",
    "        got_integral = sum(attribution_vals)\n",
    "        if abs(want_integral - got_integral) / abs(want_integral) > 0.05:\n",
    "            print('Warning: Integral approximation error exceeds 5%.')\n",
    "            print('Please try increasing the number of integrated gradient steps.')\n",
    "        else:\n",
    "            passed_test += 1\n",
    "\n",
    "    print(passed_test, ' out of ', total_test, ' sanity checks passed.')"
   ]
  },
  {
   "cell_type": "code",
   "execution_count": null,
   "metadata": {
    "id": "D8OLLqRM46vg"
   },
   "outputs": [],
   "source": [
    "prediction = predictions[0][serving_output][0]\n",
    "for explanation in response.explanations:\n",
    "    sanity_check_explanations(explanation, prediction)"
   ]
  },
  {
   "cell_type": "markdown",
   "metadata": {
    "id": "gytDVZd_46vg"
   },
   "source": [
    "## Undeploy the model\n",
    "\n",
    "Let's now undeploy your model from the serving endpoint. Use this helper function `undeploy_model`, which takes the parameters:\n",
    "\n",
    "- `deployed_model_id`: The model deployment identifier returned by the endpoint service when the model was deployed.\n",
    "- `endpoint`: The AI Platform (Unified) fully qualified identifier for the endpoint where the model is deployed.\n",
    "\n",
    "This function uses the endpoint client service and calls the method `undeploy_model`, with the parameters:\n",
    "\n",
    "- `deployed_model_id`: The model deployment identifier returned by the endpoint service when the model was deployed.\n",
    "- `endpoint`: The AI Platform (Unified) fully qualified identifier for the endpoint where the model is deployed.\n",
    "- `traffic_split`: How to split traffic among the remaining deployed models on the endpoint.\n",
    "\n",
    "Since this is the only deployed model on the endpoint, you simply can leave `traffic_split` empty by setting it to {}."
   ]
  },
  {
   "cell_type": "code",
   "execution_count": null,
   "metadata": {
    "id": "W5vmQJHM46vg"
   },
   "outputs": [],
   "source": [
    "def undeploy_model(deployed_model_id, endpoint):\n",
    "    response = clients['endpoint'].undeploy_model(endpoint=endpoint, deployed_model_id=deployed_model_id, traffic_split={})\n",
    "    print(response)\n",
    "\n",
    "\n",
    "undeploy_model(deployed_model_id, endpoint_name)"
   ]
  },
  {
   "cell_type": "markdown",
   "metadata": {
    "id": "TpV-iwP9qw9c"
   },
   "source": [
    "# Cleaning up\n",
    "\n",
    "To clean up all GCP resources used in this project, you can [delete the GCP\n",
    "project](https://cloud.google.com/resource-manager/docs/creating-managing-projects#shutting_down_projects) you used for the tutorial.\n",
    "\n",
    "Otherwise, you can delete the individual resources you created in this tutorial:\n",
    "\n",
    "- Dataset\n",
    "- Model\n",
    "- Endpoint\n",
    "- Cloud Storage Bucket"
   ]
  },
  {
   "cell_type": "code",
   "execution_count": null,
   "metadata": {
    "id": "sx_vKniMq9ZX"
   },
   "outputs": [],
   "source": [
    "delete_dataset = True\n",
    "delete_model = True\n",
    "delete_endpoint = True\n",
    "delete_bucket = True\n",
    "\n",
    "# Delete the dataset using the AI Platform (Unified) fully qualified identifier for the dataset\n",
    "try:\n",
    "    if delete_dataset:\n",
    "        clients['dataset'].delete_dataset(name=dataset['name'])\n",
    "except Exception as e:\n",
    "    print(e)\n",
    "\n",
    "# Delete the model using the AI Platform (Unified) fully qualified identifier for the model\n",
    "try:\n",
    "    if delete_model:\n",
    "        clients['model'].delete_model(name=model_to_deploy_name)\n",
    "except Exception as e:\n",
    "    print(e)\n",
    "\n",
    "# Delete the endpoint using the AI Platform (Unified) fully qualified identifier for the endpoint\n",
    "try:\n",
    "    if delete_endpoint:\n",
    "        clients['endpoint'].delete_endpoint(name=endpoint_name)\n",
    "except Exception as e:\n",
    "    print(e)\n",
    "\n",
    "if delete_bucket and 'BUCKET_NAME' in globals():\n",
    "    ! gsutil rm -r gs://$BUCKET_NAME\n",
    "        \n",
    "# Collect any unclaimed memory\n",
    "import gc\n",
    "gc.collect()"
   ]
  }
 ],
 "metadata": {
  "colab": {
   "collapsed_sections": [],
   "name": "ucaip_customjob_tabular_explain.ipynb",
   "provenance": [],
   "toc_visible": true
  },
  "environment": {
   "name": "tf2-gpu.2-4.mnightly-2021-01-20-debian-10-test",
   "type": "gcloud",
   "uri": "gcr.io/deeplearning-platform-release/tf2-gpu.2-4:mnightly-2021-01-20-debian-10-test"
  },
  "kernelspec": {
   "display_name": "Python 3",
   "language": "python",
   "name": "python3"
  },
  "language_info": {
   "codemirror_mode": {
    "name": "ipython",
    "version": 3
   },
   "file_extension": ".py",
   "mimetype": "text/x-python",
   "name": "python",
   "nbconvert_exporter": "python",
   "pygments_lexer": "ipython3",
   "version": "3.7.9"
  }
 },
 "nbformat": 4,
 "nbformat_minor": 4
}
