{
  "nbformat": 4,
  "nbformat_minor": 0,
  "metadata": {
    "colab": {
      "name": "ucaip_customjob_tabular_batchexplain.ipynb",
      "provenance": [],
      "collapsed_sections": [],
      "toc_visible": true
    },
    "kernelspec": {
      "display_name": "Python 3",
      "language": "python",
      "name": "python3"
    },
    "language_info": {
      "codemirror_mode": {
        "name": "ipython",
        "version": 3
      },
      "file_extension": ".py",
      "mimetype": "text/x-python",
      "name": "python",
      "nbconvert_exporter": "python",
      "pygments_lexer": "ipython3",
      "version": "3.7.6"
    }
  },
  "cells": [
    {
      "cell_type": "code",
      "metadata": {
        "id": "ur8xi4C7S06n"
      },
      "source": [
        "# Copyright 2020 Google LLC\n",
        "#\n",
        "# Licensed under the Apache License, Version 2.0 (the \"License\");\n",
        "# you may not use this file except in compliance with the License.\n",
        "# You may obtain a copy of the License at\n",
        "#\n",
        "#     https://www.apache.org/licenses/LICENSE-2.0\n",
        "#\n",
        "# Unless required by applicable law or agreed to in writing, software\n",
        "# distributed under the License is distributed on an \"AS IS\" BASIS,\n",
        "# WITHOUT WARRANTIES OR CONDITIONS OF ANY KIND, either express or implied.\n",
        "# See the License for the specific language governing permissions and\n",
        "# limitations under the License."
      ],
      "execution_count": null,
      "outputs": []
    },
    {
      "cell_type": "markdown",
      "metadata": {
        "id": "eHLV0D7Y5jtU"
      },
      "source": [
        "# AI Platform (Unified) SDK: Custom tabular classification model for batch prediction with explanations\n",
        "\n",
        "<table align=\"left\">\n",
        "  <td>\n",
        "    <a href=\"https://colab.research.google.com/github/GoogleCloudPlatform/ai-platform-samples/blob/master/notebooks/deepdive/custom/ucaip_customjob_tabular_batchexplain.ipynb\">\n",
        "      <img src=\"https://cloud.google.com/ml-engine/images/colab-logo-32px.png\" alt=\"Colab logo\"> Run in Colab\n",
        "    </a>\n",
        "  </td>\n",
        "  <td>\n",
        "    <a href=\"https://github.com/GoogleCloudPlatform/ai-platform-samples/blob/master/notebooks/deepdive/custom/ucaip_customjob_tabular_batchexplain.ipynb\">\n",
        "      <img src=\"https://cloud.google.com/ml-engine/images/github-logo-32px.png\" alt=\"GitHub logo\">\n",
        "      View on GitHub\n",
        "    </a>\n",
        "  </td>\n",
        "</table>"
      ]
    },
    {
      "cell_type": "markdown",
      "metadata": {
        "id": "tvgnzT1CKxrO"
      },
      "source": [
        "# Overview\n",
        "\n",
        "\n",
        "This tutorial demonstrates how to use the AI Platform (Unified) Python SDK to train and deploy a custom tabular classification model for batch prediction with explanations.\n",
        "\n",
        "### Dataset\n",
        "\n",
        "The dataset used for this tutorial is the [Boston Housing Prices dataset](https://www.cs.toronto.edu/~delve/data/boston/bostonDetail.html). The version of the dataset you will use in this tutorial is built into Tensorflow. The trained model predicts the median price of a house in units of 1K USD.\n",
        "\n",
        "### Objective\n",
        "\n",
        "In this notebook, you will learn how to create a custom model from a Python script in a docker container using the AI Platform (Unified) SDK, and then do a batch prediction with explanations on the uploaded model. You can alternatively create custom models from the command line using `gcloud` or online using Google Cloud Console.\n",
        "\n",
        "The steps performed include: \n",
        "\n",
        "- Create an AI Platform (Unified) custom job for training a model.\n",
        "- Train the model.\n",
        "- View the model evaluation.\n",
        "- Create a batch prediction service for the model.\n",
        "- Make a batch prediction with explainability.\n",
        "\n",
        "### Costs \n",
        "\n",
        "This tutorial uses billable components of Google Cloud Platform (GCP):\n",
        "\n",
        "* Cloud AI Platform\n",
        "* Cloud Storage\n",
        "\n",
        "Learn about [Cloud AI Platform\n",
        "pricing](https://cloud.google.com/ml-engine/docs/pricing) and [Cloud Storage\n",
        "pricing](https://cloud.google.com/storage/pricing), and use the [Pricing\n",
        "Calculator](https://cloud.google.com/products/calculator/)\n",
        "to generate a cost estimate based on your projected usage."
      ]
    },
    {
      "cell_type": "markdown",
      "metadata": {
        "id": "i7EUnXsZhAGF"
      },
      "source": [
        "## Installation\n",
        "\n",
        "Install the latest (preview) version of AI Platform (Unified) SDK."
      ]
    },
    {
      "cell_type": "code",
      "metadata": {
        "id": "wyy5Lbnzg5fi",
        "outputId": "c4116150-7be3-45bb-ed95-7a0cafcf2b0f"
      },
      "source": [
        "! pip3 install google-cloud-aiplatform"
      ],
      "execution_count": null,
      "outputs": [
        {
          "output_type": "stream",
          "text": [
            "Error processing line 1 of /home/jupyter/.local/lib/python3.7/site-packages/google-cloud-aiplatform-nspkg.pth:\n",
            "\n",
            "  Traceback (most recent call last):\n",
            "    File \"/opt/conda/lib/python3.7/site.py\", line 168, in addpackage\n",
            "      exec(line)\n",
            "    File \"<string>\", line 1, in <module>\n",
            "    File \"<frozen importlib._bootstrap>\", line 580, in module_from_spec\n",
            "  AttributeError: 'NoneType' object has no attribute 'loader'\n",
            "\n",
            "Remainder of file ignored\n",
            "Error processing line 1 of /opt/conda/lib/python3.7/site-packages/google-cloud-aiplatform-nspkg.pth:\n",
            "\n",
            "  Traceback (most recent call last):\n",
            "    File \"/opt/conda/lib/python3.7/site.py\", line 168, in addpackage\n",
            "      exec(line)\n",
            "    File \"<string>\", line 1, in <module>\n",
            "    File \"<frozen importlib._bootstrap>\", line 580, in module_from_spec\n",
            "  AttributeError: 'NoneType' object has no attribute 'loader'\n",
            "\n",
            "Remainder of file ignored\n",
            "Requirement already satisfied: google-cloud-aiplatform in ./.local/lib/python3.7/site-packages (0.4.0)\n",
            "Requirement already satisfied: libcst>=0.2.5 in /opt/conda/lib/python3.7/site-packages (from google-cloud-aiplatform) (0.3.12)\n",
            "Requirement already satisfied: proto-plus>=1.10.1 in /opt/conda/lib/python3.7/site-packages (from google-cloud-aiplatform) (1.10.1)\n",
            "Requirement already satisfied: mock>=4.0.2 in /opt/conda/lib/python3.7/site-packages (from google-cloud-aiplatform) (4.0.2)\n",
            "Requirement already satisfied: google-api-core[grpc]<2.0.0dev,>=1.22.2 in /opt/conda/lib/python3.7/site-packages (from google-cloud-aiplatform) (1.22.4)\n",
            "Requirement already satisfied: google-cloud-storage<2.0.0dev,>=1.26.0 in /opt/conda/lib/python3.7/site-packages (from google-cloud-aiplatform) (1.28.0)\n",
            "Requirement already satisfied: typing-inspect>=0.4.0 in /opt/conda/lib/python3.7/site-packages (from libcst>=0.2.5->google-cloud-aiplatform) (0.6.0)\n",
            "Requirement already satisfied: typing-extensions>=3.7.4.2 in ./.local/lib/python3.7/site-packages (from libcst>=0.2.5->google-cloud-aiplatform) (3.7.4.2)\n",
            "Requirement already satisfied: pyyaml>=5.2 in /opt/conda/lib/python3.7/site-packages (from libcst>=0.2.5->google-cloud-aiplatform) (5.3)\n",
            "Requirement already satisfied: protobuf>=3.12.0 in /opt/conda/lib/python3.7/site-packages (from proto-plus>=1.10.1->google-cloud-aiplatform) (3.12.2)\n",
            "Requirement already satisfied: googleapis-common-protos<2.0dev,>=1.6.0 in /opt/conda/lib/python3.7/site-packages (from google-api-core[grpc]<2.0.0dev,>=1.22.2->google-cloud-aiplatform) (1.51.0)\n",
            "Requirement already satisfied: six>=1.13.0 in /opt/conda/lib/python3.7/site-packages (from google-api-core[grpc]<2.0.0dev,>=1.22.2->google-cloud-aiplatform) (1.14.0)\n",
            "Requirement already satisfied: pytz in /opt/conda/lib/python3.7/site-packages (from google-api-core[grpc]<2.0.0dev,>=1.22.2->google-cloud-aiplatform) (2019.3)\n",
            "Requirement already satisfied: google-auth<2.0dev,>=1.21.1 in /opt/conda/lib/python3.7/site-packages (from google-api-core[grpc]<2.0.0dev,>=1.22.2->google-cloud-aiplatform) (1.22.1)\n",
            "Requirement already satisfied: setuptools>=34.0.0 in /opt/conda/lib/python3.7/site-packages (from google-api-core[grpc]<2.0.0dev,>=1.22.2->google-cloud-aiplatform) (45.2.0.post20200209)\n",
            "Requirement already satisfied: requests<3.0.0dev,>=2.18.0 in /opt/conda/lib/python3.7/site-packages (from google-api-core[grpc]<2.0.0dev,>=1.22.2->google-cloud-aiplatform) (2.24.0)\n",
            "Requirement already satisfied: grpcio<2.0dev,>=1.29.0; extra == \"grpc\" in ./.local/lib/python3.7/site-packages (from google-api-core[grpc]<2.0.0dev,>=1.22.2->google-cloud-aiplatform) (1.29.0)\n",
            "Requirement already satisfied: google-resumable-media<0.6dev,>=0.5.0 in /opt/conda/lib/python3.7/site-packages (from google-cloud-storage<2.0.0dev,>=1.26.0->google-cloud-aiplatform) (0.5.1)\n",
            "Requirement already satisfied: google-cloud-core<2.0dev,>=1.2.0 in /opt/conda/lib/python3.7/site-packages (from google-cloud-storage<2.0.0dev,>=1.26.0->google-cloud-aiplatform) (1.3.0)\n",
            "Requirement already satisfied: mypy-extensions>=0.3.0 in /opt/conda/lib/python3.7/site-packages (from typing-inspect>=0.4.0->libcst>=0.2.5->google-cloud-aiplatform) (0.4.3)\n",
            "Requirement already satisfied: cachetools<5.0,>=2.0.0 in ./.local/lib/python3.7/site-packages (from google-auth<2.0dev,>=1.21.1->google-api-core[grpc]<2.0.0dev,>=1.22.2->google-cloud-aiplatform) (3.1.1)\n",
            "Requirement already satisfied: rsa<5,>=3.1.4; python_version >= \"3.5\" in /opt/conda/lib/python3.7/site-packages (from google-auth<2.0dev,>=1.21.1->google-api-core[grpc]<2.0.0dev,>=1.22.2->google-cloud-aiplatform) (4.0)\n",
            "Requirement already satisfied: pyasn1-modules>=0.2.1 in /opt/conda/lib/python3.7/site-packages (from google-auth<2.0dev,>=1.21.1->google-api-core[grpc]<2.0.0dev,>=1.22.2->google-cloud-aiplatform) (0.2.8)\n",
            "Requirement already satisfied: certifi>=2017.4.17 in /opt/conda/lib/python3.7/site-packages (from requests<3.0.0dev,>=2.18.0->google-api-core[grpc]<2.0.0dev,>=1.22.2->google-cloud-aiplatform) (2020.6.20)\n",
            "Requirement already satisfied: idna<3,>=2.5 in /opt/conda/lib/python3.7/site-packages (from requests<3.0.0dev,>=2.18.0->google-api-core[grpc]<2.0.0dev,>=1.22.2->google-cloud-aiplatform) (2.9)\n",
            "Requirement already satisfied: chardet<4,>=3.0.2 in /opt/conda/lib/python3.7/site-packages (from requests<3.0.0dev,>=2.18.0->google-api-core[grpc]<2.0.0dev,>=1.22.2->google-cloud-aiplatform) (3.0.4)\n",
            "Requirement already satisfied: urllib3!=1.25.0,!=1.25.1,<1.26,>=1.21.1 in /opt/conda/lib/python3.7/site-packages (from requests<3.0.0dev,>=2.18.0->google-api-core[grpc]<2.0.0dev,>=1.22.2->google-cloud-aiplatform) (1.25.8)\n",
            "Requirement already satisfied: pyasn1>=0.1.3 in /opt/conda/lib/python3.7/site-packages (from rsa<5,>=3.1.4; python_version >= \"3.5\"->google-auth<2.0dev,>=1.21.1->google-api-core[grpc]<2.0.0dev,>=1.22.2->google-cloud-aiplatform) (0.4.8)\n",
            "\u001b[33mWARNING: You are using pip version 20.1.1; however, version 21.0 is available.\n",
            "You should consider upgrading via the '/opt/conda/bin/python3.7 -m pip install --upgrade pip' command.\u001b[0m\n"
          ],
          "name": "stdout"
        }
      ]
    },
    {
      "cell_type": "markdown",
      "metadata": {
        "id": "hJOJipR45P-E"
      },
      "source": [
        "Install the `cloud-storage` library as well."
      ]
    },
    {
      "cell_type": "code",
      "metadata": {
        "id": "FkGdXt8v5P-E",
        "outputId": "8b76687c-76ab-42f3-ba56-d79938333900"
      },
      "source": [
        "! pip3 install google-cloud-storage"
      ],
      "execution_count": null,
      "outputs": [
        {
          "output_type": "stream",
          "text": [
            "Error processing line 1 of /home/jupyter/.local/lib/python3.7/site-packages/google-cloud-aiplatform-nspkg.pth:\n",
            "\n",
            "  Traceback (most recent call last):\n",
            "    File \"/opt/conda/lib/python3.7/site.py\", line 168, in addpackage\n",
            "      exec(line)\n",
            "    File \"<string>\", line 1, in <module>\n",
            "    File \"<frozen importlib._bootstrap>\", line 580, in module_from_spec\n",
            "  AttributeError: 'NoneType' object has no attribute 'loader'\n",
            "\n",
            "Remainder of file ignored\n",
            "Error processing line 1 of /opt/conda/lib/python3.7/site-packages/google-cloud-aiplatform-nspkg.pth:\n",
            "\n",
            "  Traceback (most recent call last):\n",
            "    File \"/opt/conda/lib/python3.7/site.py\", line 168, in addpackage\n",
            "      exec(line)\n",
            "    File \"<string>\", line 1, in <module>\n",
            "    File \"<frozen importlib._bootstrap>\", line 580, in module_from_spec\n",
            "  AttributeError: 'NoneType' object has no attribute 'loader'\n",
            "\n",
            "Remainder of file ignored\n",
            "Requirement already satisfied: google-cloud-storage in /opt/conda/lib/python3.7/site-packages (1.28.0)\n",
            "Requirement already satisfied: google-cloud-core<2.0dev,>=1.2.0 in /opt/conda/lib/python3.7/site-packages (from google-cloud-storage) (1.3.0)\n",
            "Requirement already satisfied: google-auth<2.0dev,>=1.11.0 in /opt/conda/lib/python3.7/site-packages (from google-cloud-storage) (1.22.1)\n",
            "Requirement already satisfied: google-resumable-media<0.6dev,>=0.5.0 in /opt/conda/lib/python3.7/site-packages (from google-cloud-storage) (0.5.1)\n",
            "Requirement already satisfied: google-api-core<2.0.0dev,>=1.16.0 in /opt/conda/lib/python3.7/site-packages (from google-cloud-core<2.0dev,>=1.2.0->google-cloud-storage) (1.22.4)\n",
            "Requirement already satisfied: six>=1.9.0 in /opt/conda/lib/python3.7/site-packages (from google-auth<2.0dev,>=1.11.0->google-cloud-storage) (1.14.0)\n",
            "Requirement already satisfied: setuptools>=40.3.0 in /opt/conda/lib/python3.7/site-packages (from google-auth<2.0dev,>=1.11.0->google-cloud-storage) (45.2.0.post20200209)\n",
            "Requirement already satisfied: cachetools<5.0,>=2.0.0 in ./.local/lib/python3.7/site-packages (from google-auth<2.0dev,>=1.11.0->google-cloud-storage) (3.1.1)\n",
            "Requirement already satisfied: rsa<5,>=3.1.4; python_version >= \"3.5\" in /opt/conda/lib/python3.7/site-packages (from google-auth<2.0dev,>=1.11.0->google-cloud-storage) (4.0)\n",
            "Requirement already satisfied: pyasn1-modules>=0.2.1 in /opt/conda/lib/python3.7/site-packages (from google-auth<2.0dev,>=1.11.0->google-cloud-storage) (0.2.8)\n",
            "Requirement already satisfied: protobuf>=3.12.0 in /opt/conda/lib/python3.7/site-packages (from google-api-core<2.0.0dev,>=1.16.0->google-cloud-core<2.0dev,>=1.2.0->google-cloud-storage) (3.12.2)\n",
            "Requirement already satisfied: requests<3.0.0dev,>=2.18.0 in /opt/conda/lib/python3.7/site-packages (from google-api-core<2.0.0dev,>=1.16.0->google-cloud-core<2.0dev,>=1.2.0->google-cloud-storage) (2.24.0)\n",
            "Requirement already satisfied: googleapis-common-protos<2.0dev,>=1.6.0 in /opt/conda/lib/python3.7/site-packages (from google-api-core<2.0.0dev,>=1.16.0->google-cloud-core<2.0dev,>=1.2.0->google-cloud-storage) (1.51.0)\n",
            "Requirement already satisfied: pytz in /opt/conda/lib/python3.7/site-packages (from google-api-core<2.0.0dev,>=1.16.0->google-cloud-core<2.0dev,>=1.2.0->google-cloud-storage) (2019.3)\n",
            "Requirement already satisfied: pyasn1>=0.1.3 in /opt/conda/lib/python3.7/site-packages (from rsa<5,>=3.1.4; python_version >= \"3.5\"->google-auth<2.0dev,>=1.11.0->google-cloud-storage) (0.4.8)\n",
            "Requirement already satisfied: urllib3!=1.25.0,!=1.25.1,<1.26,>=1.21.1 in /opt/conda/lib/python3.7/site-packages (from requests<3.0.0dev,>=2.18.0->google-api-core<2.0.0dev,>=1.16.0->google-cloud-core<2.0dev,>=1.2.0->google-cloud-storage) (1.25.8)\n",
            "Requirement already satisfied: idna<3,>=2.5 in /opt/conda/lib/python3.7/site-packages (from requests<3.0.0dev,>=2.18.0->google-api-core<2.0.0dev,>=1.16.0->google-cloud-core<2.0dev,>=1.2.0->google-cloud-storage) (2.9)\n",
            "Requirement already satisfied: chardet<4,>=3.0.2 in /opt/conda/lib/python3.7/site-packages (from requests<3.0.0dev,>=2.18.0->google-api-core<2.0.0dev,>=1.16.0->google-cloud-core<2.0dev,>=1.2.0->google-cloud-storage) (3.0.4)\n",
            "Requirement already satisfied: certifi>=2017.4.17 in /opt/conda/lib/python3.7/site-packages (from requests<3.0.0dev,>=2.18.0->google-api-core<2.0.0dev,>=1.16.0->google-cloud-core<2.0dev,>=1.2.0->google-cloud-storage) (2020.6.20)\n",
            "\u001b[33mWARNING: You are using pip version 20.1.1; however, version 21.0 is available.\n",
            "You should consider upgrading via the '/opt/conda/bin/python3.7 -m pip install --upgrade pip' command.\u001b[0m\n"
          ],
          "name": "stdout"
        }
      ]
    },
    {
      "cell_type": "markdown",
      "metadata": {
        "id": "Vx7Kd9dn5P-F"
      },
      "source": [
        "### Restart the Kernel\n",
        "\n",
        "Once you've installed the AI Platform (Unified) SDK, you need to restart the notebook kernel so it can find the packages."
      ]
    },
    {
      "cell_type": "code",
      "metadata": {
        "id": "9luQpONrzPb6"
      },
      "source": [
        "import os\n",
        "if not os.getenv(\"AUTORUN\"):\n",
        "    # Automatically restart kernel after installs\n",
        "    import IPython\n",
        "    app = IPython.Application.instance()\n",
        "    app.kernel.do_shutdown(True)"
      ],
      "execution_count": null,
      "outputs": []
    },
    {
      "cell_type": "markdown",
      "metadata": {
        "id": "KzhOG8wU5P-F"
      },
      "source": [
        "## Before you begin\n",
        "\n",
        "### GPU run-time\n",
        "\n",
        "**Make sure you're running this notebook in a GPU runtime if you have that option. In Colab, select Runtime --> Change runtime type**"
      ]
    },
    {
      "cell_type": "markdown",
      "metadata": {
        "id": "BF1j6f9HApxa"
      },
      "source": [
        "### Set up your GCP project\n",
        "\n",
        "**The following steps are required, regardless of your notebook environment.**\n",
        "\n",
        "1. [Select or create a GCP project](https://console.cloud.google.com/cloud-resource-manager). When you first create an account, you get a $300 free credit towards your compute/storage costs.\n",
        "\n",
        "2. [Make sure that billing is enabled for your project.](https://cloud.google.com/billing/docs/how-to/modify-project)\n",
        "\n",
        "3. [Enable the AI Platform APIs, Compute Engine APIs and Container Registry API.](https://console.cloud.google.com/flows/enableapi?apiid=ml.googleapis.com,compute_component,containerregistry.googleapis.com)\n",
        "\n",
        "4. [Google Cloud SDK](https://cloud.google.com/sdk) is already installed in AI Platform Notebooks.\n",
        "\n",
        "5. Enter your project ID in the cell below. Then run the  cell to make sure the\n",
        "Cloud SDK uses the right project for all the commands in this notebook.\n",
        "\n",
        "**Note**: Jupyter runs lines prefixed with `!` as shell commands, and it interpolates Python variables prefixed with `$` into these commands."
      ]
    },
    {
      "cell_type": "markdown",
      "metadata": {
        "id": "QC__5uLg5P-G"
      },
      "source": [
        "#### Project ID\n",
        "\n",
        "**If you don't know your project ID**, you might be able to get your project ID using `gcloud` command, by executing the second cell below."
      ]
    },
    {
      "cell_type": "code",
      "metadata": {
        "id": "ekmArZJn5P-G"
      },
      "source": [
        "PROJECT_ID = \"[your-project-id]\" #@param {type:\"string\"}"
      ],
      "execution_count": null,
      "outputs": []
    },
    {
      "cell_type": "code",
      "metadata": {
        "id": "oM1iC_MfAts1",
        "outputId": "e725cb4e-0a1e-494f-ff82-aeae341278fc"
      },
      "source": [
        "if PROJECT_ID == \"\" or PROJECT_ID is None or PROJECT_ID == \"[your-project-id]\":\n",
        "    # Get your GCP project id from gcloud\n",
        "    shell_output = ! gcloud config list --format 'value(core.project)' 2>/dev/null\n",
        "    PROJECT_ID = shell_output[0]\n",
        "    print(\"Project ID:\", PROJECT_ID)"
      ],
      "execution_count": null,
      "outputs": [
        {
          "output_type": "stream",
          "text": [
            "Project ID: andy-1234-221921\n"
          ],
          "name": "stdout"
        }
      ]
    },
    {
      "cell_type": "code",
      "metadata": {
        "id": "Aqi9zh155P-H",
        "outputId": "22686114-46ec-41df-b0d2-ad00a6136f89"
      },
      "source": [
        "! gcloud config set project $PROJECT_ID"
      ],
      "execution_count": null,
      "outputs": [
        {
          "output_type": "stream",
          "text": [
            "Updated property [core/project].\n",
            "\n",
            "\n",
            "To take a quick anonymous survey, run:\n",
            "  $ gcloud survey\n",
            "\n"
          ],
          "name": "stdout"
        }
      ]
    },
    {
      "cell_type": "markdown",
      "metadata": {
        "id": "kCBSFuaH5P-H"
      },
      "source": [
        "#### Region\n",
        "\n",
        "You can also change the `REGION` variable, which is used for operations\n",
        "throughout the rest of this notebook.  Below are regions supported for AI Platform (Unified). We recommend when possible, to choose the region closest to you. \n",
        "\n",
        "- Americas: `us-central1`\n",
        "- Europe: `europe-west4`\n",
        "- Asia Pacific: `asia-east1`\n",
        "\n",
        "You can not use a Multi-Regional Storage bucket for training with AI Platform. Not all regions provide support for all AI Platform services. For the lastest support per region, see [Region support for AI Platform (Unified) services](https://cloud.google.com/ai-platform-unified/docs/general/locations)"
      ]
    },
    {
      "cell_type": "code",
      "metadata": {
        "id": "77iFZtxH5P-H"
      },
      "source": [
        "REGION = 'us-central1' #@param {type: \"string\"}"
      ],
      "execution_count": null,
      "outputs": []
    },
    {
      "cell_type": "markdown",
      "metadata": {
        "id": "7VeP7Cjf5P-I"
      },
      "source": [
        "#### Timestamp\n",
        "\n",
        "If you are in a live tutorial session, you might be using a shared test account or project. To avoid name collisions between users on resources created, you create a timestamp for each instance session, and append onto the name of resources which will be created in this tutorial."
      ]
    },
    {
      "cell_type": "code",
      "metadata": {
        "id": "soajgdNP5P-I"
      },
      "source": [
        "from datetime import datetime\n",
        "\n",
        "TIMESTAMP = datetime.now().strftime(\"%Y%m%d%H%M%S\")"
      ],
      "execution_count": null,
      "outputs": []
    },
    {
      "cell_type": "markdown",
      "metadata": {
        "id": "dr--iN2kAylZ"
      },
      "source": [
        "### Authenticate your GCP account\n",
        "\n",
        "**If you are using AI Platform Notebooks**, your environment is already\n",
        "authenticated. Skip this step."
      ]
    },
    {
      "cell_type": "code",
      "metadata": {
        "id": "mkIBXfBe5P-J"
      },
      "source": [
        "import os\n",
        "import sys\n",
        "\n",
        "# If you are running this notebook in Colab, run this cell and follow the\n",
        "# instructions to authenticate your Google Cloud account. This provides access\n",
        "# to your Cloud Storage bucket and lets you submit training jobs and prediction\n",
        "# requests.\n",
        "\n",
        "# If on AI Platform, then don't execute this code\n",
        "if not os.path.exists('/opt/deeplearning/metadata/env_version'):\n",
        "    if 'google.colab' in sys.modules:\n",
        "        from google.colab import auth as google_auth\n",
        "        google_auth.authenticate_user()\n",
        "\n",
        "    # If you are running this tutorial in a notebook locally, replace the string\n",
        "    # below with the path to your service account key and run this cell to\n",
        "    # authenticate your Google Cloud account.\n",
        "    else:\n",
        "        %env GOOGLE_APPLICATION_CREDENTIALS your_path_to_credentials.json"
      ],
      "execution_count": null,
      "outputs": []
    },
    {
      "cell_type": "markdown",
      "metadata": {
        "id": "zgPO1eR3CYjk"
      },
      "source": [
        "### Create a Cloud Storage bucket\n",
        "\n",
        "**The following steps are required, regardless of your notebook environment.**\n",
        "\n",
        "When you submit a custom training job using the Cloud SDK, you upload a Python package\n",
        "containing your training code to a Cloud Storage bucket. AI Platform runs\n",
        "the code from this package. In this tutorial, AI Platform also saves the\n",
        "trained model that results from your job in the same bucket. You can then\n",
        "create an AI Platform endpoint based on this output in order to serve\n",
        "online predictions.\n",
        "\n",
        "Set the name of your Cloud Storage bucket below. It must be unique across all\n",
        "Cloud Storage buckets. "
      ]
    },
    {
      "cell_type": "code",
      "metadata": {
        "id": "MzGDU7TWdts_"
      },
      "source": [
        "BUCKET_NAME = \"[your-bucket-name]\" #@param {type:\"string\"}"
      ],
      "execution_count": null,
      "outputs": []
    },
    {
      "cell_type": "code",
      "metadata": {
        "id": "iUM1P8ch5P-J"
      },
      "source": [
        "if BUCKET_NAME == \"\" or BUCKET_NAME is None or BUCKET_NAME == \"[your-bucket-name]\":\n",
        "    BUCKET_NAME = PROJECT_ID + \"ucaip-custom-\" + TIMESTAMP"
      ],
      "execution_count": null,
      "outputs": []
    },
    {
      "cell_type": "markdown",
      "metadata": {
        "id": "-EcIXiGsCePi"
      },
      "source": [
        "**Only if your bucket doesn't already exist**: Run the following cell to create your Cloud Storage bucket."
      ]
    },
    {
      "cell_type": "code",
      "metadata": {
        "id": "NIq7R4HZCfIc",
        "outputId": "0bf149e5-9d9d-42f0-ad41-c0893d4e37e2"
      },
      "source": [
        "! gsutil mb -l $REGION gs://$BUCKET_NAME"
      ],
      "execution_count": null,
      "outputs": [
        {
          "output_type": "stream",
          "text": [
            "Creating gs://andy-1234-221921ucaip-custom-20210126173733/...\n"
          ],
          "name": "stdout"
        }
      ]
    },
    {
      "cell_type": "markdown",
      "metadata": {
        "id": "ucvCsknMCims"
      },
      "source": [
        "Finally, validate access to your Cloud Storage bucket by examining its contents:"
      ]
    },
    {
      "cell_type": "code",
      "metadata": {
        "id": "vhOb7YnwClBb"
      },
      "source": [
        "! gsutil ls -al gs://$BUCKET_NAME"
      ],
      "execution_count": null,
      "outputs": []
    },
    {
      "cell_type": "markdown",
      "metadata": {
        "id": "XoEqT2Y4DJmf"
      },
      "source": [
        "### Import libraries and define constants"
      ]
    },
    {
      "cell_type": "markdown",
      "metadata": {
        "id": "Y9Uo3tifg1kx"
      },
      "source": [
        "#### Import AI Plarform (Unified) SDK\n",
        "\n",
        "Import the AI Platform (Unified) SDK into your Python environment."
      ]
    },
    {
      "cell_type": "code",
      "metadata": {
        "id": "pRUOFELefqf1"
      },
      "source": [
        "import os\n",
        "import sys\n",
        "import time\n",
        "import json\n",
        "from google.protobuf import json_format\n",
        "from google.protobuf.struct_pb2 import Value\n",
        "\n",
        "from google.cloud.aiplatform import gapic as aip"
      ],
      "execution_count": null,
      "outputs": []
    },
    {
      "cell_type": "markdown",
      "metadata": {
        "id": "Dd0fQaW35P-L"
      },
      "source": [
        "#### AI Platform (Unified) constants\n",
        "\n",
        "Let's now setup some constants for AI Platform (Unified):\n",
        "\n",
        "1. AI Platform (Unified) API service endpoint.\n",
        "2. AI Platform (Unified) location root path for dataset and model resources."
      ]
    },
    {
      "cell_type": "code",
      "metadata": {
        "id": "ruHwjUju5P-L"
      },
      "source": [
        "# API Endpoint\n",
        "API_ENDPOINT = \"{}-aiplatform.googleapis.com\".format(REGION)\n",
        "\n",
        "# uCAIP location root path for your dataset and model resources\n",
        "PARENT = \"projects/\" + PROJECT_ID + \"/locations/\" + REGION"
      ],
      "execution_count": null,
      "outputs": []
    },
    {
      "cell_type": "markdown",
      "metadata": {
        "id": "myPL7hlO5P-L"
      },
      "source": [
        "#### Hardware Accelerators\n",
        "\n",
        "Let's now set the hardware accelerators (e.g., GPU), if any, for training and prediction.\n",
        "\n",
        "Set the variables `TRAIN_GPU/TRAIN_NGPU` and `DEPLOY_GPU/DEPLOY_NGPU` to use a container image supporting a GPU and the number of GPUs allocated to the compute instance. For example, to use a GPU container image with 4 Nvidia Telsa K80 GPUs allocated to each compute instance, you would specify:\n",
        "\n",
        "    (aip.AcceleratorType.NVIDIA_TESLA_K80, 4)\n",
        "\n",
        "For GPU, available accelerators include:\n",
        "   - aip.AcceleratorType.NVIDIA_TESLA_K80\n",
        "   - aip.AcceleratorType.NVIDIA_TESLA_P100\n",
        "   - aip.AcceleratorType.NVIDIA_TESLA_P4\n",
        "   - aip.AcceleratorType.NVIDIA_TESLA_T4\n",
        "   - aip.AcceleratorType.NVIDIA_TESLA_V100\n",
        "\n",
        "   \n",
        "Otherwise specify `(None, None)` for the container image for a CPU.\n",
        "   "
      ]
    },
    {
      "cell_type": "code",
      "metadata": {
        "id": "oJkA6bmS5P-M"
      },
      "source": [
        "TRAIN_GPU, TRAIN_NGPU = (None, None)\n",
        "DEPLOY_GPU, DEPLOY_NGPU = (aip.AcceleratorType.NVIDIA_TESLA_K80, 1)"
      ],
      "execution_count": null,
      "outputs": []
    },
    {
      "cell_type": "markdown",
      "metadata": {
        "id": "u4lr5Aci5P-M"
      },
      "source": [
        "#### Container (Docker) image\n",
        "\n",
        "Next, we will set the docker container images for training and prediction.\n",
        "\n",
        "- Set the variable `TF` to the Tensorflow version of the container image. For example, `2-1` would be version 2.1, and `1-15` would be version 1.15. Google Cloud continuously adds prebuilt training and prediction container images, below are some of the prebuilt images available:\n",
        "\n",
        " - Tensorflow 1.15\n",
        "   - `gcr.io/cloud-aiplatform/training/tf-cpu.1-15:latest`\n",
        "   - `gcr.io/cloud-aiplatform/training/tf-gpu.1-15:latest`\n",
        "   - `gcr.io/cloud-aiplatform/prediction/tf-cpu.1-15:latest`\n",
        "   - `gcr.io/cloud-aiplatform/prediction/tf-gpu.1-15:latest`\n",
        " - Tensorflow 2.1\n",
        "   - `gcr.io/cloud-aiplatform/training/tf-cpu.2-1:latest`\n",
        "   - `gcr.io/cloud-aiplatform/training/tf-gpu.2-1:latest`\n",
        "   - `gcr.io/cloud-aiplatform/prediction/tf2-cpu.2-1:latest`\n",
        "   - `gcr.io/cloud-aiplatform/prediction/tf2-gpu.2-1:latest`\n",
        " - Tensorflow 2.2\n",
        "   - `gcr.io/cloud-aiplatform/training/tf-cpu.2-2:latest`\n",
        "   - `gcr.io/cloud-aiplatform/training/tf-gpu.2-2:latest`\n",
        "   - `gcr.io/cloud-aiplatform/prediction/tf2-cpu.2-2:latest`\n",
        "   - `gcr.io/cloud-aiplatform/prediction/tf2-gpu.2-2:latest`\n",
        " - XGBoost\n",
        "   - `gcr.io/cloud-aiplatform/training/xgboost-cpu.1-1`\n",
        "   - `gcr.io/cloud-aiplatform/prediction/xgboost-cpu.1-1`\n",
        " - Scikit-learn\n",
        "   - `gcr.io/cloud-aiplatform/training/scikit-learn-cpu.0-23`\n",
        "   - `gcr.io/cloud-aiplatform/prediction/scikit-learn-cpu.0-23`\n",
        " - Pytorch\n",
        "   - `gcr.io/cloud-aiplatform/training/pytorch-cpu.1-4:latest`\n",
        "   - `gcr.io/cloud-aiplatform/training/pytorch-gpu.1-4:latest`\n",
        "   \n",
        "Google Cloud AI continously adds new training and prediction container images. For the lastest list, see [Pre-built containers for training](https://cloud.google.com/ai-platform-unified/docs/training/pre-built-containers) and [Pre-built containers for prediction](https://cloud.google.com/ai-platform-unified/docs/predictions/pre-built-containers)"
      ]
    },
    {
      "cell_type": "code",
      "metadata": {
        "id": "XkVJV9vx5P-M",
        "outputId": "70f57fa2-2144-4f77-db26-6898d832790a"
      },
      "source": [
        "TF = '2-1'\n",
        "if TF[0] == '2':\n",
        "    if TRAIN_GPU:\n",
        "        TRAIN_VERSION = 'tf-gpu.{}'.format(TF)\n",
        "    else:\n",
        "        TRAIN_VERSION = 'tf-cpu.{}'.format(TF)\n",
        "    if DEPLOY_GPU:\n",
        "        DEPLOY_VERSION = 'tf2-gpu.{}'.format(TF)\n",
        "    else:\n",
        "        DEPLOY_VERSION = 'tf2-cpu.{}'.format(TF)\n",
        "else:\n",
        "    if TRAIN_GPU:\n",
        "        TRAIN_VERSION = 'tf-gpu.{}'.format(TF)\n",
        "    else:\n",
        "        TRAIN_VERSION = 'tf-cpu.{}'.format(TF)\n",
        "    if DEPLOY_GPU:\n",
        "        DEPLOY_VERSION = 'tf-gpu.{}'.format(TF)\n",
        "    else:\n",
        "        DEPLOY_VERSION = 'tf-cpu.{}'.format(TF)\n",
        "\n",
        "TRAIN_IMAGE  = \"gcr.io/cloud-aiplatform/training/{}:latest\".format(TRAIN_VERSION)\n",
        "DEPLOY_IMAGE = \"gcr.io/cloud-aiplatform/prediction/{}:latest\".format(DEPLOY_VERSION)\n",
        "\n",
        "print(\"Training:\", TRAIN_IMAGE, TRAIN_GPU, TRAIN_NGPU)\n",
        "print(\"Deployment:\", DEPLOY_IMAGE, DEPLOY_GPU, DEPLOY_NGPU)"
      ],
      "execution_count": null,
      "outputs": [
        {
          "output_type": "stream",
          "text": [
            "Training: gcr.io/cloud-aiplatform/training/tf-cpu.2-1:latest None None\n",
            "Deployment: gcr.io/cloud-aiplatform/prediction/tf2-gpu.2-1:latest AcceleratorType.NVIDIA_TESLA_K80 1\n"
          ],
          "name": "stdout"
        }
      ]
    },
    {
      "cell_type": "markdown",
      "metadata": {
        "id": "k_xJ8Ltt5P-M"
      },
      "source": [
        "#### Machine Type\n",
        "\n",
        "Next, you will set the machine type (compute instance) you will use for training and prediction.\n",
        "\n",
        "- Set the variables `TRAIN_COMPUTE` and `DEPLOY_COMPUTE` to the compute instance you will use for training and prediction.\n",
        " - `machine type`\n",
        "     - `n1-standard`: 3.75GB of memory per vCPU.\n",
        "     - `n1-highmem`: 6.5GB of memory per vCPU\n",
        "     - `n1-highcpu`: 0.9 GB of memory per vCPU\n",
        " - `vCPUs`: number of \\[2, 4, 8, 16, 32, 64, 96 \\]\n",
        "  \n",
        "*Note: The following is not supported for training*\n",
        " \n",
        " - `standard`: 2 vCPUs\n",
        " - `highcpu`: 2, 4 and 8 vCPUs\n",
        " \n",
        "*Note: You may also use n2 and e2 machine types for training and deployment, but they do not support GPUs*"
      ]
    },
    {
      "cell_type": "code",
      "metadata": {
        "id": "t97pJJH35P-N",
        "outputId": "13208f1a-00d5-4ec2-fc65-0e2d5eedbbda"
      },
      "source": [
        "MACHINE_TYPE = 'n1-standard'\n",
        "VCPU = '4'\n",
        "TRAIN_COMPUTE = MACHINE_TYPE + '-' + VCPU\n",
        "print('Train Compute Instance', TRAIN_COMPUTE)\n",
        "\n",
        "MACHINE_TYPE = 'n1-standard'\n",
        "VCPU = '4'\n",
        "DEPLOY_COMPUTE = MACHINE_TYPE + '-' + VCPU\n",
        "print('Deploy Compute Instance', DEPLOY_COMPUTE)"
      ],
      "execution_count": null,
      "outputs": [
        {
          "output_type": "stream",
          "text": [
            "Train Compute Instance n1-standard-4\n",
            "Deploy Compute Instance n1-standard-4\n"
          ],
          "name": "stdout"
        }
      ]
    },
    {
      "cell_type": "markdown",
      "metadata": {
        "id": "E6ppE7imft-y"
      },
      "source": [
        "# Tutorial\n",
        "\n",
        "Now you are ready to start creating your own custom model and training for the Boston Housing data.\n",
        "\n",
        "## Clients\n",
        "\n",
        "The AI Platform (Unified) SDK works as a client/server model. On your side, the Python script, you will create a client that sends requests and receives responses from the server -- AI Platform.\n",
        "\n",
        "You will use several clients in this tutorial, so you will set them all up upfront.\n",
        "\n",
        "- Job Service for managed models.\n",
        "- Model Service for managed models."
      ]
    },
    {
      "cell_type": "code",
      "metadata": {
        "id": "aDgc7Aoz5P-N",
        "outputId": "d3b41db5-2626-46c8-8772-2ff76f37390e"
      },
      "source": [
        "# client options same for all services\n",
        "client_options = {\"api_endpoint\": API_ENDPOINT}\n",
        "\n",
        "\n",
        "def create_job_client():\n",
        "    client = aip.JobServiceClient(\n",
        "        client_options=client_options\n",
        "    )\n",
        "    return client\n",
        "\n",
        "\n",
        "def create_model_client():\n",
        "    client = aip.ModelServiceClient(\n",
        "        client_options=client_options\n",
        "    )\n",
        "    return client\n",
        "\n",
        "\n",
        "clients = {}\n",
        "clients['job'] = create_job_client()\n",
        "clients['model'] = create_model_client()\n",
        "\n",
        "for client in clients.items():\n",
        "    print(client)"
      ],
      "execution_count": null,
      "outputs": [
        {
          "output_type": "stream",
          "text": [
            "('job', <google.cloud.aiplatform_v1beta1.services.job_service.client.JobServiceClient object at 0x7f8b90ab51d0>)\n",
            "('model', <google.cloud.aiplatform_v1beta1.services.model_service.client.ModelServiceClient object at 0x7f8b90ab5190>)\n"
          ],
          "name": "stdout"
        }
      ]
    },
    {
      "cell_type": "markdown",
      "metadata": {
        "id": "OCr6VmMB5P-N"
      },
      "source": [
        "## Prepare your custom job specification\n",
        "\n",
        "Now that your clients are ready, your first step is to create a Job Specification for your custom training job.\n",
        "\n",
        "You are going to start with training what we can call an **empty job**. That is, you will create a job specification that provisions resources for training a job, and initiate the job using the client job service -- but the job itself will be empty. \n",
        "\n",
        "You do this so you can first focus on understanding the basic steps. Afterwards, you repeat again with a focus on adding the Python training package for training a Boston Housing custom model.\n",
        "\n",
        "### Define the container specification\n",
        "\n",
        "Let's first start by defining a job name and then a container specification:\n",
        "\n",
        "- `JOB_NAME`: A unique name for your custom training job. For convenience, we appended the name with the current datetime to make the name unique.\n",
        "- `MODEL_DIR`: A location in your Cloud Storage bucket for storing the model artificats.\n",
        "- `image_uri`: The location of the container image in your local Cloud Storage bucket. This can be either a Google Cloud prebuilt image or your own custom container.\n",
        "- `--model-dir`: A command line parameter to the container indicating the location to store the model."
      ]
    },
    {
      "cell_type": "code",
      "metadata": {
        "id": "mnGf972_5P-N"
      },
      "source": [
        "JOB_NAME = \"custom_job_\" + TIMESTAMP\n",
        "MODEL_DIR = 'gs://{}/{}'.format(BUCKET_NAME, JOB_NAME)\n",
        "CONTAINER_SPEC = {\n",
        "    \"image_uri\": TRAIN_IMAGE, \n",
        "    \"args\": [\n",
        "        \"--model-dir=\" + MODEL_DIR\n",
        "    ],\n",
        "}"
      ],
      "execution_count": null,
      "outputs": []
    },
    {
      "cell_type": "markdown",
      "metadata": {
        "id": "bdbXqunl5P-O"
      },
      "source": [
        "### Define the worker pool specification\n",
        "\n",
        "\n",
        "Next, define the worker pool specification for your custom training job. This tells AI Platform what type and how many instances of machines to provision for the training.\n",
        "\n",
        "For this tutorial, you will use a single instance (node). \n",
        "\n",
        "- `replica_count`: The number of instances to provision of this machine type.\n",
        "- `machine_type`: The type of GCP instance to provision -- e.g., n1-standard-8.\n",
        "- `accelerator_type`: The type, if any, of hardware accelerator.  In this tutorial if you previously set the variable `TRAIN_GPU != None`, you are using a GPU; otherwise you will use a CPU. \n",
        "- `accelerator_count`: The number of accelerators.\n",
        "- `container_spec`: The docker container to install on the instance(s)."
      ]
    },
    {
      "cell_type": "code",
      "metadata": {
        "id": "cx6aIm2P5P-O"
      },
      "source": [
        "if TRAIN_GPU:\n",
        "    machine_spec = {\n",
        "        \"machine_type\": TRAIN_COMPUTE,\n",
        "        \"accelerator_type\": TRAIN_GPU,\n",
        "        \"accelerator_count\": TRAIN_NGPU\n",
        "    }\n",
        "else:\n",
        "    machine_spec = {\n",
        "        \"machine_type\": TRAIN_COMPUTE,\n",
        "        \"accelerator_count\": 0\n",
        "    }\n",
        "\n",
        "WORKER_POOL_SPEC = [\n",
        "    {\n",
        "        \"replica_count\": 1,\n",
        "        \"machine_spec\": machine_spec,\n",
        "        \"container_spec\": CONTAINER_SPEC,\n",
        "    }\n",
        "]"
      ],
      "execution_count": null,
      "outputs": []
    },
    {
      "cell_type": "markdown",
      "metadata": {
        "id": "qCnNI2cA5P-O"
      },
      "source": [
        "If you were doing distributed training, you would add a second machine description and set the replica count accordingly. In the example below, the first machine descrption is the primary (coordinator), and the second ones are the machines the training is distributed to.\n",
        "\n",
        "```\n",
        "WORKER_POOL_SPEC=[\n",
        "     {\n",
        "        \"replica_count\": 1,\n",
        "        \"machine_spec\": {\n",
        "          \"machine_type\": \"n1-standard-8\"\n",
        "        },\n",
        "        \"container_spec\":  CONTAINER_SPEC,\n",
        "      },\n",
        "      {\n",
        "        \"replica_count\": 6,\n",
        "        \"machine_spec\": {\n",
        "          \"machine_type\": \"n1-standard-8\"\n",
        "        },\n",
        "        \"container_spec\": CONTAINER_SPEC\n",
        "      }\n",
        "]\n",
        "```"
      ]
    },
    {
      "cell_type": "markdown",
      "metadata": {
        "id": "EMQ1FJKA5P-O"
      },
      "source": [
        "### Assemble the job specification\n",
        "\n",
        "Let's now assemble the description for the custom job specification.\n",
        "\n",
        "- `display_name`: The human readable name you assign to this custom job.\n",
        "- `job_spec`: The specification for the custom job. Since this is an empty job, you only specified the resource requirements."
      ]
    },
    {
      "cell_type": "code",
      "metadata": {
        "id": "tLfBdv2S5P-O"
      },
      "source": [
        "CUSTOM_JOB = {\n",
        "    \"display_name\": JOB_NAME,\n",
        "    \"job_spec\": {\n",
        "        \"worker_pool_specs\": WORKER_POOL_SPEC\n",
        "    }\n",
        "}"
      ],
      "execution_count": null,
      "outputs": []
    },
    {
      "cell_type": "markdown",
      "metadata": {
        "id": "jEoFBZCa5P-O"
      },
      "source": [
        "## Train the model\n",
        "\n",
        "Let's now start the training of your custom training job on AI Platform. Use this helper function `create_custom_job`, which takes the parameter:\n",
        "\n",
        "-`custom_job`: The specification for the custom job.\n",
        "\n",
        "The helper function uses the job client service and calls the method `create_custom_job`, with the parameters:\n",
        "\n",
        "-`parent`: The AI Platform (Unified) location path to dataset, model and endpoint resources.\n",
        "-`custom_job`: The specification for the custom job.\n",
        "\n",
        "We display a handful of the fields returned in `response` object, with the two that are of most interest are:\n",
        "\n",
        "`response.name`: The AI Platform (Unified) fully qualified identifier assigned to this custom job. This identifier is saved for using in subsequent steps.\n",
        "\n",
        "`response.state`: The current state of the custom job. "
      ]
    },
    {
      "cell_type": "code",
      "metadata": {
        "id": "7VyVgHlY5P-P",
        "outputId": "24db9947-7645-4839-ce03-275a1630cb1c"
      },
      "source": [
        "def create_custom_job(custom_job):\n",
        "    response = clients['job'].create_custom_job(parent=PARENT, custom_job=CUSTOM_JOB)\n",
        "    print(\"name:\", response.name)\n",
        "    print(\"display_name:\", response.display_name)\n",
        "    print(\"state:\", response.state)\n",
        "    print(\"create_time:\", response.create_time)\n",
        "    print(\"update_time:\", response.update_time)\n",
        "    return response.name\n",
        "\n",
        "\n",
        "# Save the job name\n",
        "JOB_ID = create_custom_job(CUSTOM_JOB)"
      ],
      "execution_count": null,
      "outputs": [
        {
          "output_type": "stream",
          "text": [
            "name: projects/759209241365/locations/us-central1/customJobs/5510488395622645760\n",
            "display_name: custom_job_20210126173733\n",
            "state: JobState.JOB_STATE_PENDING\n",
            "create_time: 2021-01-26 17:37:36.885697+00:00\n",
            "update_time: 2021-01-26 17:37:36.885697+00:00\n"
          ],
          "name": "stdout"
        }
      ]
    },
    {
      "cell_type": "markdown",
      "metadata": {
        "id": "pLYeoIk05P-P"
      },
      "source": [
        "### List all custom jobs\n",
        "\n",
        "Now that your custom job is running, let's get a list for all your custom jobs -- specific to your `PROJECT_ID`. This will probably be just one job, unless you've been running this tutorial multiple times or otherwise been using the AI Platform (Unified) job service.\n",
        "\n",
        "Use the helper function `list_custom_jobs`, which uses the job client service and calls the method `list_custom_jobs`. The response object is a list, where each element in the list is a separate job.  \n",
        "\n",
        "The `response` object for each custom job contains:\n",
        "\n",
        "- `name`: The AI Platform (Unified) fully qualified identifier for your custom training job.\n",
        "- `display_name`: The human readable name you assigned to your custom training job.\n",
        "- `job_spec`: The job specification you provided for your custom training job.\n",
        "- `state`: The current status of the custom job:\n",
        "- `start_time`: When the custom training job was created.\n",
        "- `end_time`: When the execution of the custom job ended.\n",
        "- `update_time`: When the last time there was a status update to the custom job."
      ]
    },
    {
      "cell_type": "code",
      "metadata": {
        "id": "AQiWC7jq5P-P",
        "outputId": "13e8085f-7842-46b1-9c1b-cb4179f80578"
      },
      "source": [
        "def list_custom_jobs():\n",
        "    response = clients['job'].list_custom_jobs(parent=PARENT)\n",
        "    for job in response:\n",
        "        print(response)\n",
        "\n",
        "\n",
        "list_custom_jobs()"
      ],
      "execution_count": null,
      "outputs": [
        {
          "output_type": "stream",
          "text": [
            "IOPub data rate exceeded.\n",
            "The notebook server will temporarily stop sending output\n",
            "to the client in order to avoid crashing it.\n",
            "To change this limit, set the config variable\n",
            "`--NotebookApp.iopub_data_rate_limit`.\n",
            "\n",
            "Current values:\n",
            "NotebookApp.iopub_data_rate_limit=1000000.0 (bytes/sec)\n",
            "NotebookApp.rate_limit_window=3.0 (secs)\n",
            "\n"
          ],
          "name": "stderr"
        }
      ]
    },
    {
      "cell_type": "markdown",
      "metadata": {
        "id": "ojsTobv_5P-P"
      },
      "source": [
        "### Get information on a custom Job\n",
        "\n",
        "Next, use this helper function `get_custom_job`, which takes the parameter:\n",
        "\n",
        "- `name`: The AI Platform (Unified) fully qualified identifier for the custom job.\n",
        "\n",
        "The helper function uses the job client service to get the job information for just this job by calling the method `get_custom_job`, with the parameter:\n",
        "\n",
        "- `name`: The AI Platform (Unified) fully qualified identifier for the custom job.\n",
        "\n",
        "If you recall, you got the AI Platform (Unified) fully qualified identifier for the custom job in the `response.name` field when you called the `create_custom_job` method, and saved the identifier in the variable `JOB_ID`."
      ]
    },
    {
      "cell_type": "code",
      "metadata": {
        "id": "1yaNIK7p5P-P",
        "outputId": "fb5ac4d9-0840-4413-a4e9-ac6ca6229ccd"
      },
      "source": [
        "def get_custom_job(name, silent=False):\n",
        "    response = clients['job'].get_custom_job(name=name)\n",
        "    if silent:\n",
        "        return response\n",
        "\n",
        "    print(\"name:\", response.name)\n",
        "    print(\"display_name:\", response.display_name)\n",
        "    print(\"state:\", response.state)\n",
        "    print(\"create_time:\", response.create_time)\n",
        "    print(\"update_time:\", response.update_time)\n",
        "    return response\n",
        "\n",
        "\n",
        "get_custom_job(JOB_ID)"
      ],
      "execution_count": null,
      "outputs": [
        {
          "output_type": "stream",
          "text": [
            "name: projects/759209241365/locations/us-central1/customJobs/5510488395622645760\n",
            "display_name: custom_job_20210126173733\n",
            "state: JobState.JOB_STATE_PENDING\n",
            "create_time: 2021-01-26 17:37:36.885697+00:00\n",
            "update_time: 2021-01-26 17:37:38.668779+00:00\n"
          ],
          "name": "stdout"
        },
        {
          "output_type": "execute_result",
          "data": {
            "text/plain": [
              "name: \"projects/759209241365/locations/us-central1/customJobs/5510488395622645760\"\n",
              "display_name: \"custom_job_20210126173733\"\n",
              "job_spec {\n",
              "  worker_pool_specs {\n",
              "    machine_spec {\n",
              "      machine_type: \"n1-standard-4\"\n",
              "    }\n",
              "    replica_count: 1\n",
              "    disk_spec {\n",
              "      boot_disk_type: \"pd-ssd\"\n",
              "      boot_disk_size_gb: 100\n",
              "    }\n",
              "    container_spec {\n",
              "      image_uri: \"gcr.io/cloud-aiplatform/training/tf-cpu.2-1:latest\"\n",
              "      args: \"--model-dir=gs://andy-1234-221921ucaip-custom-20210126173733/custom_job_20210126173733\"\n",
              "    }\n",
              "  }\n",
              "}\n",
              "state: JOB_STATE_PENDING\n",
              "create_time {\n",
              "  seconds: 1611682656\n",
              "  nanos: 885697000\n",
              "}\n",
              "start_time {\n",
              "  seconds: 1611682657\n",
              "  nanos: 326204000\n",
              "}\n",
              "update_time {\n",
              "  seconds: 1611682658\n",
              "  nanos: 668779000\n",
              "}"
            ]
          },
          "metadata": {
            "tags": []
          },
          "execution_count": 26
        }
      ]
    },
    {
      "cell_type": "markdown",
      "metadata": {
        "id": "yOAoSIQd5P-Q"
      },
      "source": [
        "### View logs\n",
        "\n",
        "In addition to the aforementioned state information on the job information, you could also look at logs associated with the custom job.\n",
        "\n",
        "#### View logs on AI Platform Console\n",
        "\n",
        "Let's first look at logs generated for AI Platform Console. The cell below will display a link. Paste the link in the address bar of another tab in your browser. It will display information about your job."
      ]
    },
    {
      "cell_type": "code",
      "metadata": {
        "id": "iVFfN4E-5P-Q",
        "outputId": "e46396d0-516d-49b0-a9ed-427b713c0fc6"
      },
      "source": [
        "print('https://console.cloud.google.com/ai/platform/locations/{region}/training/{job_id}?project={project_id}'.format(\n",
        "    region=REGION, job_id=JOB_ID.split('/')[-1],\n",
        "    project_id=PROJECT_ID))"
      ],
      "execution_count": null,
      "outputs": [
        {
          "output_type": "stream",
          "text": [
            "https://console.cloud.google.com/ai/platform/locations/us-central1/training/5510488395622645760?project=andy-1234-221921\n"
          ],
          "name": "stdout"
        }
      ]
    },
    {
      "cell_type": "markdown",
      "metadata": {
        "id": "KOKJKXAo5P-Q"
      },
      "source": [
        "#### View logs on Cloud Logging\n",
        "\n",
        "Next, let's look at logs generated for Cloud Logging. The cell below will display a link. Paste the link in the address bar of another tab in your browser. It will display logs for your job."
      ]
    },
    {
      "cell_type": "code",
      "metadata": {
        "id": "QXIlz59g5P-Q",
        "outputId": "814e8fc7-26bd-4f57-af0f-6eaae3f80ef2"
      },
      "source": [
        "print('https://console.cloud.google.com/logs/viewer?resource=ml_job%2Fjob_id%2F{job_id}&project={project_id}'.format(\n",
        "    job_id=JOB_ID.split('/')[-1], project_id=PROJECT_ID))"
      ],
      "execution_count": null,
      "outputs": [
        {
          "output_type": "stream",
          "text": [
            "https://console.cloud.google.com/logs/viewer?resource=ml_job%2Fjob_id%2F5510488395622645760&project=andy-1234-221921\n"
          ],
          "name": "stdout"
        }
      ]
    },
    {
      "cell_type": "markdown",
      "metadata": {
        "id": "R3CnANVM5P-Q"
      },
      "source": [
        "### Cancel a custom job\n",
        "\n",
        "Next, we will show you how to cancel a custom training job. You will go ahead and cancel your \"empty\" training job. Use this helper function `cancel_job`, with the parameter:\n",
        "\n",
        "- `name`: The AI Platform (Unified) fully qualified identifier for your custom training job.\n",
        "\n",
        "The helper function will use the job service client and call the method `cancel_custom_job`, with the parameter:\n",
        "\n",
        "- `name`: The AI Platform (Unified) fully qualified identifier for your custom training job.\n",
        "\n",
        "We put a try/except around the call since it will throw an exception if the job is already completed (succeeded) -- which most likely it is."
      ]
    },
    {
      "cell_type": "code",
      "metadata": {
        "id": "decsJH2P5P-R",
        "outputId": "df438640-3cc2-445d-bc3a-daa6f120c074"
      },
      "source": [
        "def cancel_job(name):\n",
        "    try:\n",
        "        response = clients['job'].cancel_custom_job(name=name)\n",
        "        print(response)\n",
        "    except Exception as e:\n",
        "        print(e)\n",
        "\n",
        "\n",
        "time.sleep(10)\n",
        "cancel_job(JOB_ID)"
      ],
      "execution_count": null,
      "outputs": [
        {
          "output_type": "stream",
          "text": [
            "None\n"
          ],
          "name": "stdout"
        }
      ]
    },
    {
      "cell_type": "markdown",
      "metadata": {
        "id": "-cfx5h_z5P-R"
      },
      "source": [
        "### Delete a custom job\n",
        "\n",
        "Next, we will show you how to delete a custom training job. You will go ahead and delete your \"empty\" training job. Use the helper function `delete_job`, with the parameter:\n",
        "\n",
        "- `name`: The AI Platform (Unified) fully qualified identifier for your custom training job.\n",
        "\n",
        "The helper function will use the job service client and call the method `delete_custom_job`, with the parameter:\n",
        "\n",
        "- `name`: The AI Platform (Unified) fully qualified identifier for your custom training job.\n",
        "\n",
        "Afterwards, we will verify that the job has been deleted by calling the method `get_custom_job` for the same job. We put a try/except around the call since it will throw an exception if the job is already deleted -- which most likely it is."
      ]
    },
    {
      "cell_type": "code",
      "metadata": {
        "id": "jinS-o2P5P-R",
        "outputId": "eb99f54c-56f9-4ec5-e36d-ddf0a326a979"
      },
      "source": [
        "def delete_job(name):\n",
        "    try:\n",
        "        response = clients['job'].delete_custom_job(name=name)\n",
        "        print(\"Delete\", response)\n",
        "    except Exception as e:\n",
        "        print(e)\n",
        "\n",
        "    try:\n",
        "        response = clients['job'].get_custom_job(name=name)\n",
        "    except Exception as e:\n",
        "        print(e)\n",
        "\n",
        "\n",
        "time.sleep(10)\n",
        "delete_job(JOB_ID)"
      ],
      "execution_count": null,
      "outputs": [
        {
          "output_type": "stream",
          "text": [
            "400 The CustomJob \"projects/759209241365/locations/us-central1/customJobs/5510488395622645760\" is in state \"PENDING\", and cannot be deleted. Please cancel it or wait for its completion before trying deleting it again.\n"
          ],
          "name": "stdout"
        }
      ]
    },
    {
      "cell_type": "markdown",
      "metadata": {
        "id": "CKIz6hNb5P-R"
      },
      "source": [
        "## Train a model - Boston Housing\n",
        "\n",
        "Now that you have seen the basic steps for custom training, you will do a new custom job to train a model. There are two ways you can train a custom model using a container image:\n",
        "\n",
        "- **Use a Google Cloud prebuilt container**. If you use a prebuilt container, you will additionally specify a Python package to install into the container image. This Python package contains your code for training a custom model.\n",
        "\n",
        "- **Use your own custom container image**. If you use your own container, the container needs to contain your code for training a custom model.\n",
        "\n",
        "In this tutorial, you will train a Boston Housing model using a Google Cloud prebuilt container.You will need to update the worker pool specification by adding a description for `python_package_spec`. This section will tell the custom job the Python training package to install and which Python module to invoke, along with command line arguments for the Python module.\n",
        "\n",
        "Let's dive deeper now into the Python package specification:\n",
        "\n",
        "-`executor_image_spec`: This is the docker image which is configured for your custom training job. You will continue to use the same one you used earlier for demonstration.\n",
        "\n",
        "-`package_uris`: This is a list of the locations (URIs) of your Python training packages to install on the provisioned instance. The locations need to be in a Cloud Storage bucket. These can be either individual Python files or a zip (archive) of an entire package. In the later case, the job service will unzip (unarchive) the contents into the docker image.\n",
        "\n",
        "-`python_module`: The Python module (script) to invoke for running the custom training job. In this example, you will be invoking `trainer.task.py` -- note that it was not neccessary to append the `.py` suffix.\n",
        "\n",
        "-`args`: The command line arguments to pass to the corresponding pythom module. In this example, you will be:\n",
        "  - `\"--model-dir=\" + MODEL_DIR` : The Cloud Storage location where to store the model artifacts. There are two ways to tell the training script where to save the model artifacts:\n",
        "      - direct: You pass the Cloud Storage location as a command line argument to your training script (set variable `DIRECT = True`), or\n",
        "      - indirect: The service passes the Cloud Storage location as the environment variable `AIP_MODEL_DIR` to your training script (set variable `DIRECT = False`). In this case, you tell the service the model artifact location in the job specification.\n",
        "  - `\"--epochs=\" + EPOCHS`: The number of epochs for training.\n",
        "  - `\"--distribute=\" + TRAIN_STRATEGY\"` : The training distribution strategy to use for single or distributed training.\n",
        "     - `\"single\"`: single device.\n",
        "     - `\"mirror\"`: all GPU devices on a single compute instance.\n",
        "     - `\"multi\"`: all GPU devices on all compute instances."
      ]
    },
    {
      "cell_type": "code",
      "metadata": {
        "id": "wZL_3qeT5P-R"
      },
      "source": [
        "if TRAIN_GPU:\n",
        "    machine_spec = {\n",
        "        \"machine_type\": TRAIN_COMPUTE,\n",
        "        \"accelerator_type\": TRAIN_GPU,\n",
        "        \"accelerator_count\": TRAIN_NGPU\n",
        "    }\n",
        "else:\n",
        "    machine_spec = {\n",
        "        \"machine_type\": TRAIN_COMPUTE,\n",
        "        \"accelerator_count\": 0\n",
        "    }\n",
        "    \n",
        "if not TRAIN_NGPU or TRAIN_NGPU < 2:\n",
        "    TRAIN_STRATEGY = \"single\"\n",
        "else:\n",
        "    TRAIN_STRATEGY = \"mirror\"\n",
        "    \n",
        "EPOCHS = 20\n",
        "\n",
        "DIRECT = True\n",
        "if DIRECT:\n",
        "    CMDARGS = [\n",
        "                \"--model-dir=\" + MODEL_DIR,\n",
        "                \"--epochs=\" + str(EPOCHS),\n",
        "                \"--distribute=\" + TRAIN_STRATEGY\n",
        "              ]\n",
        "else:\n",
        "    CMDARGS = [\n",
        "                \"--epochs=\" + str(EPOCHS),\n",
        "                \"--distribute=\" + TRAIN_STRATEGY\n",
        "              ]\n",
        "\n",
        "\n",
        "WORKER_POOL_SPEC = [\n",
        "    {\n",
        "        \"replica_count\": 1,\n",
        "        \"machine_spec\": machine_spec,\n",
        "        \"python_package_spec\": {\n",
        "            \"executor_image_uri\": TRAIN_IMAGE,\n",
        "            \"package_uris\": [\"gs://\" + BUCKET_NAME + \"/boston_housing.tar.gz\"],\n",
        "            \"python_module\": \"trainer.task\",\n",
        "            \"args\": CMDARGS,\n",
        "        }\n",
        "    }\n",
        "]"
      ],
      "execution_count": null,
      "outputs": []
    },
    {
      "cell_type": "markdown",
      "metadata": {
        "id": "fBEI8E0v5P-R"
      },
      "source": [
        "### Assemble the job specification\n",
        "\n",
        "Let's now assemble the description for the custom job specification:\n",
        "\n",
        "- `display_name`: The human readable name you assign to this custom job.\n",
        "- `job_spec`: The specification for the custom job. \n",
        "    - `base_output_directory`: This tells the service the Cloud Storage location where to save the model artifacts (when variable `DIRECT = False`). The service will then pass the location to the training script as the environment variable `AIP_MODEL_DIR`, and the path will be of the form:\n",
        "    \n",
        "                <output_uri_prefix>/model"
      ]
    },
    {
      "cell_type": "code",
      "metadata": {
        "id": "yXOuQqKc5P-S"
      },
      "source": [
        "if DIRECT:\n",
        "    JOB_SPEC = {\n",
        "        \"worker_pool_specs\": WORKER_POOL_SPEC\n",
        "    }\n",
        "else:\n",
        "    JOB_SPEC = {\n",
        "        \"worker_pool_specs\": WORKER_POOL_SPEC,\n",
        "        \"base_output_directory\": {\"output_uri_prefix\": MODEL_DIR}\n",
        "    }\n",
        "        \n",
        "CUSTOM_JOB = {\n",
        "    \"display_name\": JOB_NAME,\n",
        "    \"job_spec\": JOB_SPEC\n",
        "}"
      ],
      "execution_count": null,
      "outputs": []
    },
    {
      "cell_type": "markdown",
      "metadata": {
        "id": "B374p-ig5P-S"
      },
      "source": [
        "### Examine the training package\n",
        "\n",
        "#### Package layout\n",
        "\n",
        "Before you start the training, let's look at how a Python package is assembled for a custom training job. When unarchived, the package contains the following directory/file layout.\n",
        "\n",
        "- PKG-INFO\n",
        "- README.md\n",
        "- setup.cfg\n",
        "- setup.py\n",
        "- trainer\n",
        "  - \\_\\_init\\_\\_.py\n",
        "  - task.py\n",
        "\n",
        "The files `setup.cfg` and `setup.py` are the instructions for installing the package into the operating environment of the docker image.\n",
        "\n",
        "The file `trainer/task.py` is the Python script for executing the custom job. *Note*, when we referred to it in the worker pool specification, we replace the directory slash with a dot (`trainer.task`) and dropped the file suffix (`.py`)."
      ]
    },
    {
      "cell_type": "markdown",
      "metadata": {
        "id": "u4QsVDHN5P-S"
      },
      "source": [
        "#### Package Assembly\n",
        "\n",
        "In the following cells, you will assemble the training package."
      ]
    },
    {
      "cell_type": "code",
      "metadata": {
        "id": "M0syaqEW5P-S"
      },
      "source": [
        "# Make folder for python training script\n",
        "! rm -rf custom\n",
        "! mkdir custom\n",
        "\n",
        "# Add package information\n",
        "! touch custom/README.md\n",
        "\n",
        "setup_cfg = \"[egg_info]\\n\\\n",
        "tag_build =\\n\\\n",
        "tag_date = 0\"\n",
        "! echo \"$setup_cfg\" > custom/setup.cfg\n",
        "\n",
        "setup_py = \"import setuptools\\n\\\n",
        "# Requires TensorFlow Datasets\\n\\\n",
        "setuptools.setup(\\n\\\n",
        "    install_requires=[\\n\\\n",
        "        'tensorflow_datasets==1.3.0',\\n\\\n",
        "    ],\\n\\\n",
        "    packages=setuptools.find_packages())\" \n",
        "! echo \"$setup_py\" > custom/setup.py\n",
        "\n",
        "pkg_info = \"Metadata-Version: 1.0\\n\\\n",
        "Name: Custom Training Boston Housing\\n\\\n",
        "Version: 0.0.0\\n\\\n",
        "Summary: Demostration training script\\n\\\n",
        "Home-page: www.google.com\\n\\\n",
        "Author: Google\\n\\\n",
        "Author-email: aferlitsch@google.com\\n\\\n",
        "License: Public\\n\\\n",
        "Description: Demo\\n\\\n",
        "Platform: AI Platform (Unified)\"\n",
        "! echo \"$pkg_info\" > custom/PKG-INFO\n",
        "\n",
        "# Make the training subfolder\n",
        "! mkdir custom/trainer\n",
        "! touch custom/trainer/__init__.py"
      ],
      "execution_count": null,
      "outputs": []
    },
    {
      "cell_type": "markdown",
      "metadata": {
        "id": "s-T608ES5P-S"
      },
      "source": [
        "#### Task.py contents\n",
        "\n",
        "In the next cell, you will write the contents of the training script task.py. I won't go into detail, it's just there for you to browse. In summary:\n",
        "\n",
        "- Get the directory where to save the model artifacts from the command line (`--model_dir`), and if not specified, then from the environment variable `AIP_MODEL_DIR`.\n",
        "- Loads Boston Housing Prices dataset from tf.keras builtin datasets\n",
        "- Builds a simple deep neural network model using TF.Keras model API.\n",
        "- Compiles the model (`compile()`).\n",
        "- Sets a training distribution strategy according to the argument `args.distribute`.\n",
        "- Trains the model (`fit()`) with epochs specified by `args.epochs`.\n",
        "- Saves the trained model (`save(args.model_dir)`) to the specified model directory."
      ]
    },
    {
      "cell_type": "code",
      "metadata": {
        "id": "4K0HSwjy5P-S",
        "outputId": "e9388821-39f3-4efe-cdc1-af1c9ec35cdc"
      },
      "source": [
        "%%writefile custom/trainer/task.py\n",
        "# Single, Mirror and Multi-Machine Distributed Training for CIFAR-10\n",
        "  \n",
        "import tensorflow_datasets as tfds\n",
        "import tensorflow as tf\n",
        "from tensorflow.python.client import device_lib\n",
        "import numpy as np\n",
        "import argparse\n",
        "import os\n",
        "import sys\n",
        "tfds.disable_progress_bar()\n",
        "\n",
        "parser = argparse.ArgumentParser()\n",
        "parser.add_argument('--model-dir', dest='model_dir',\n",
        "                    default=os.getenv('AIP_MODEL_DIR'), type=str, help='Model dir.')\n",
        "parser.add_argument('--lr', dest='lr',\n",
        "                    default=0.001, type=float,\n",
        "                    help='Learning rate.')\n",
        "parser.add_argument('--epochs', dest='epochs',\n",
        "                    default=20, type=int,\n",
        "                    help='Number of epochs.')\n",
        "parser.add_argument('--steps', dest='steps',\n",
        "                    default=100, type=int,\n",
        "                    help='Number of steps per epoch.')\n",
        "parser.add_argument('--distribute', dest='distribute', type=str, default='single',\n",
        "                    help='distributed training strategy')\n",
        "args = parser.parse_args()\n",
        "\n",
        "print('Python Version = {}'.format(sys.version))\n",
        "print('TensorFlow Version = {}'.format(tf.__version__))\n",
        "print('TF_CONFIG = {}'.format(os.environ.get('TF_CONFIG', 'Not found')))\n",
        "\n",
        "# Single Machine, single compute device\n",
        "if args.distribute == 'single':\n",
        "    if tf.test.is_gpu_available():\n",
        "        strategy = tf.distribute.OneDeviceStrategy(device=\"/gpu:0\")\n",
        "    else:\n",
        "        strategy = tf.distribute.OneDeviceStrategy(device=\"/cpu:0\")\n",
        "# Single Machine, multiple compute device\n",
        "elif args.distribute == 'mirror':\n",
        "    strategy = tf.distribute.MirroredStrategy()\n",
        "# Multiple Machine, multiple compute device\n",
        "elif args.distribute == 'multi':\n",
        "    strategy = tf.distribute.experimental.MultiWorkerMirroredStrategy()\n",
        "\n",
        "# Multi-worker configuration\n",
        "print('num_replicas_in_sync = {}'.format(strategy.num_replicas_in_sync))\n",
        "\n",
        "def make_dataset():\n",
        "  # Scaling Boston Housing data features\n",
        "  def scale(feature):\n",
        "    max = np.max(feature)\n",
        "    feature = (feature / max).astype(np.float)\n",
        "    return feature\n",
        "\n",
        "  (x_train, y_train), (x_test, y_test) = tf.keras.datasets.boston_housing.load_data(\n",
        "    path=\"boston_housing.npz\", test_split=0.2, seed=113\n",
        "  )\n",
        "  for _ in range(13):\n",
        "    x_train[_] = scale(x_train[_])\n",
        "    x_test[_] = scale(x_test[_])\n",
        "  return (x_train, y_train), (x_test, y_test)\n",
        "\n",
        "# Build the Keras model\n",
        "def build_and_compile_dnn_model():\n",
        "  model = tf.keras.Sequential([\n",
        "      tf.keras.layers.Dense(128, activation='relu', input_shape=(13,)),\n",
        "      tf.keras.layers.Dense(128, activation='relu'),\n",
        "      tf.keras.layers.Dense(1, activation='linear')\n",
        "  ])\n",
        "  model.compile(\n",
        "      loss='mse',\n",
        "      optimizer=tf.keras.optimizers.RMSprop(learning_rate=args.lr))\n",
        "  return model\n",
        "\n",
        "# Train the model\n",
        "NUM_WORKERS = strategy.num_replicas_in_sync\n",
        "# Here the batch size scales up by number of workers since\n",
        "# `tf.data.Dataset.batch` expects the global batch size.\n",
        "BATCH_SIZE = 16\n",
        "GLOBAL_BATCH_SIZE = BATCH_SIZE * NUM_WORKERS\n",
        "\n",
        "with strategy.scope():\n",
        "  # Creation of dataset, and model building/compiling need to be within\n",
        "  # `strategy.scope()`.\n",
        "  model = build_and_compile_dnn_model()\n",
        "\n",
        "# Train the model\n",
        "(x_train, y_train), (x_test, y_test) = make_dataset()\n",
        "model.fit(x_train, y_train, epochs=args.epochs, batch_size=GLOBAL_BATCH_SIZE)\n",
        "model.save(args.model_dir)\n"
      ],
      "execution_count": null,
      "outputs": [
        {
          "output_type": "stream",
          "text": [
            "Writing custom/trainer/task.py\n"
          ],
          "name": "stdout"
        }
      ]
    },
    {
      "cell_type": "markdown",
      "metadata": {
        "id": "UoUlkxa95P-T"
      },
      "source": [
        "#### Store training script on your Cloud Storage bucket\n",
        "\n",
        "Next, we package the training folder into a compressed tar ball, and then store it in your Cloud Storage bucket."
      ]
    },
    {
      "cell_type": "code",
      "metadata": {
        "id": "-L96K9-c5P-T",
        "outputId": "7f6b352b-0efe-4d4e-a09d-b04c694f55d9"
      },
      "source": [
        "! rm -f custom.tar custom.tar.gz\n",
        "! tar cvf custom.tar custom\n",
        "! gzip custom.tar\n",
        "! gsutil cp custom.tar.gz gs://$BUCKET_NAME/boston_housing.tar.gz"
      ],
      "execution_count": null,
      "outputs": [
        {
          "output_type": "stream",
          "text": [
            "custom/\n",
            "custom/PKG-INFO\n",
            "custom/trainer/\n",
            "custom/trainer/task.py\n",
            "custom/trainer/__init__.py\n",
            "custom/setup.cfg\n",
            "custom/README.md\n",
            "custom/setup.py\n",
            "Copying file://custom.tar.gz [Content-Type=application/x-tar]...\n",
            "/ [1 files][  1.8 KiB/  1.8 KiB]                                                \n",
            "Operation completed over 1 objects/1.8 KiB.                                      \n"
          ],
          "name": "stdout"
        }
      ]
    },
    {
      "cell_type": "markdown",
      "metadata": {
        "id": "FfYZKhq65P-T"
      },
      "source": [
        "### Train the model\n",
        "\n",
        "Let's now start the training of your custom training job on AI Platform. Use the helper function defined earlier `create_custom_job`, which will return the AI Platform (Unified) fully qualified identifier assigned to the custom job."
      ]
    },
    {
      "cell_type": "code",
      "metadata": {
        "id": "GI9Dhd3D5P-T",
        "outputId": "db68c586-2c18-4031-9077-3b5b9f87bb58"
      },
      "source": [
        "# Save the job name\n",
        "JOB_ID = create_custom_job(CUSTOM_JOB)"
      ],
      "execution_count": null,
      "outputs": [
        {
          "output_type": "stream",
          "text": [
            "name: projects/759209241365/locations/us-central1/customJobs/159086138399653888\n",
            "display_name: custom_job_20210126173733\n",
            "state: JobState.JOB_STATE_PENDING\n",
            "create_time: 2021-01-26 17:38:03.576114+00:00\n",
            "update_time: 2021-01-26 17:38:03.576114+00:00\n"
          ],
          "name": "stdout"
        }
      ]
    },
    {
      "cell_type": "markdown",
      "metadata": {
        "id": "0P6P9CFL5P-T"
      },
      "source": [
        "### Get information on the custom job\n",
        "\n",
        "Let's get the status on your custom training job for CIFAR10 using the helper function we defined earlier `get_custom_job`. The job most likely will still be either PENDING or RUNNING.\n"
      ]
    },
    {
      "cell_type": "code",
      "metadata": {
        "id": "Ss1lxIJJ5P-T",
        "outputId": "eb86b75d-338b-46db-c93b-aeba0214609c"
      },
      "source": [
        "result = get_custom_job(JOB_ID)"
      ],
      "execution_count": null,
      "outputs": [
        {
          "output_type": "stream",
          "text": [
            "name: projects/759209241365/locations/us-central1/customJobs/159086138399653888\n",
            "display_name: custom_job_20210126173733\n",
            "state: JobState.JOB_STATE_RUNNING\n",
            "create_time: 2021-01-26 17:38:03.576114+00:00\n",
            "update_time: 2021-01-26 17:38:03.806481+00:00\n"
          ],
          "name": "stdout"
        }
      ]
    },
    {
      "cell_type": "markdown",
      "metadata": {
        "id": "f7mgOxNk5P-U"
      },
      "source": [
        "# Deployment\n",
        "\n",
        "## Pre-Cooked\n",
        "\n",
        "Training the above model may take upwards of ~5 minutes time. For expendiency, we have a pre-cooked (already trained) version of this model you can use for the next steps, while you wait for your model to finish training. \n",
        "\n",
        "Once your model is done training, you can repeat these steps for your trained model. You can calcuate the actual time it took to train the model by subtracting `end_time` from `start_time`. For your model, you will need to know the location of the saved model, which the Python script saved in your local Cloud Storage bucket at `MODEL_DIR + '/saved_model.pb'`.\n",
        "\n",
        "\n",
        "You can choose between the precooked model or your trained model with the Python variable `precooked` in the cell below."
      ]
    },
    {
      "cell_type": "code",
      "metadata": {
        "id": "eG0V-yHf5P-U",
        "outputId": "3fe015bb-b47b-4ea9-f9f5-9f70ebd88a77"
      },
      "source": [
        "# Precooked flag\n",
        "precook = False\n",
        "\n",
        "if precook:\n",
        "    model_path_to_deploy = \"[not-implemented-yet]\"\n",
        "else:\n",
        "    while True:\n",
        "        response = get_custom_job(JOB_ID, True)\n",
        "        if response.state != aip.JobState.JOB_STATE_SUCCEEDED: \n",
        "            print(\"Training job has not completed:\", response.state)\n",
        "            model_path_to_deploy = None\n",
        "            if response.state == aip.JobState.JOB_STATE_FAILED:\n",
        "                break\n",
        "        else:\n",
        "            if not DIRECT:\n",
        "                MODEL_DIR = MODEL_DIR + \"/model\"\n",
        "            model_path_to_deploy = MODEL_DIR\n",
        "            print(\"Training Time:\", response.update_time - response.create_time)\n",
        "            break\n",
        "        time.sleep(60)\n",
        "\n",
        "print(\"model_to_deploy:\", model_path_to_deploy)"
      ],
      "execution_count": null,
      "outputs": [
        {
          "output_type": "stream",
          "text": [
            "Training job has not completed: JobState.JOB_STATE_RUNNING\n",
            "Training job has not completed: JobState.JOB_STATE_PENDING\n",
            "Training job has not completed: JobState.JOB_STATE_PENDING\n",
            "Training job has not completed: JobState.JOB_STATE_PENDING\n",
            "Training job has not completed: JobState.JOB_STATE_PENDING\n",
            "Training job has not completed: JobState.JOB_STATE_PENDING\n",
            "Training job has not completed: JobState.JOB_STATE_PENDING\n",
            "Training job has not completed: JobState.JOB_STATE_PENDING\n",
            "Training Time: 0:07:05.592888\n",
            "model_to_deploy: gs://andy-1234-221921ucaip-custom-20210126173733/custom_job_20210126173733\n"
          ],
          "name": "stdout"
        }
      ]
    },
    {
      "cell_type": "markdown",
      "metadata": {
        "id": "MK4xT7bJ5P-U"
      },
      "source": [
        "## Load the saved model\n",
        "\n",
        "Your model is stored in a TF SavedModel format in a Cloud Storage bucket. Let's go ahead and load it from the Cloud Storage bucket, and then you can do some things, like evaluate the model, and do a prediction.\n",
        "\n",
        "To load, you will use the TF.Keras `model.load_model()` method passing it the Cloud Storage path where the model is saved -- specified by `MODEL_DIR`."
      ]
    },
    {
      "cell_type": "code",
      "metadata": {
        "id": "LMhjEvPZ5P-U",
        "outputId": "66c036e4-4fde-4929-be29-87ea9db85e66"
      },
      "source": [
        "import tensorflow as tf\n",
        "\n",
        "model = tf.keras.models.load_model(MODEL_DIR)"
      ],
      "execution_count": null,
      "outputs": [
        {
          "output_type": "stream",
          "text": [
            "WARNING:tensorflow:Inconsistent references when loading the checkpoint into this object graph. Either the Trackable object references in the Python program have changed in an incompatible way, or the checkpoint was generated in an incompatible program.\n",
            "\n",
            "Two checkpoint references resolved to different objects (<tensorflow.python.keras.layers.core.Dense object at 0x7f8b0029d250> and <tensorflow.python.keras.layers.core.Dense object at 0x7f8b00259950>).\n",
            "WARNING:tensorflow:Inconsistent references when loading the checkpoint into this object graph. Either the Trackable object references in the Python program have changed in an incompatible way, or the checkpoint was generated in an incompatible program.\n",
            "\n",
            "Two checkpoint references resolved to different objects (<tensorflow.python.keras.layers.core.Dense object at 0x7f8b00259950> and <tensorflow.python.keras.layers.core.Dense object at 0x7f8b002669d0>).\n"
          ],
          "name": "stdout"
        }
      ]
    },
    {
      "cell_type": "markdown",
      "metadata": {
        "id": "GiBChlCR5P-U"
      },
      "source": [
        "## Evaluate the model\n",
        "\n",
        "Now let's find out how good the model is. \n",
        "\n",
        "### Load evaluation data\n",
        "\n",
        "You will load the Boston Housing test (holdout) data from `tf.keras.datasets`, using the method `load_data()`. This will return the dataset as a tuple of two elements. The first element is the training data and the second is the test data. Each element is also a tuple of two elements: the feature data, and the corresponding labels (median value of owner-occupied home).\n",
        "\n",
        "You don't need the training data, and hence why we loaded it as `(_, _)`.\n",
        "\n",
        "Before you can run the data through evaluation, you need to preprocess it:\n",
        "\n",
        "x_test:\n",
        "1. Normalize (rescaling) the data in each column by dividing each value by the maximum value of that column. This will replace each single value with a 32-bit floating point number between 0 and 1."
      ]
    },
    {
      "cell_type": "code",
      "metadata": {
        "id": "S1JpxdTq5P-U",
        "outputId": "3bffd658-a08f-4476-c727-5b77475a51c0"
      },
      "source": [
        "from tensorflow.keras.datasets import boston_housing\n",
        "import numpy as np\n",
        "\n",
        "(_, _), (x_test, y_test) = boston_housing.load_data(\n",
        "    path=\"boston_housing.npz\", test_split=0.2, seed=113)\n",
        "\n",
        "def scale(feature):\n",
        "    max = np.max(feature)\n",
        "    feature = (feature / max).astype(np.float32)\n",
        "    return feature\n",
        "\n",
        "for _ in range(13):\n",
        "    x_test[_] = scale(x_test[_])\n",
        "x_test = x_test.astype(np.float32)\n",
        "\n",
        "print(x_test.shape, x_test.dtype, y_test.shape)"
      ],
      "execution_count": null,
      "outputs": [
        {
          "output_type": "stream",
          "text": [
            "(102, 13) float32 (102,)\n"
          ],
          "name": "stdout"
        }
      ]
    },
    {
      "cell_type": "markdown",
      "metadata": {
        "id": "ggNfs-vP5P-V"
      },
      "source": [
        "### Evaluate the model\n",
        "\n",
        "Let's evaluate how well the DNN model in the custom job did. "
      ]
    },
    {
      "cell_type": "code",
      "metadata": {
        "id": "9qYCGU0U5P-V",
        "outputId": "61166f78-496c-480e-df17-6dff1f634297"
      },
      "source": [
        "model.evaluate(x_test, y_test)"
      ],
      "execution_count": null,
      "outputs": [
        {
          "output_type": "stream",
          "text": [
            "4/4 [==============================] - 0s 4ms/step - loss: 104.0941\n"
          ],
          "name": "stdout"
        },
        {
          "output_type": "execute_result",
          "data": {
            "text/plain": [
              "104.0941162109375"
            ]
          },
          "metadata": {
            "tags": []
          },
          "execution_count": 41
        }
      ]
    },
    {
      "cell_type": "markdown",
      "metadata": {
        "id": "YyID4eg35P-V"
      },
      "source": [
        "## Upload the model for serving\n",
        "\n",
        "\n",
        "Next, you will upload your TF.Keras model from the custom job to AI Platform (Unified) model service, which will create a AI Platform (Unified) model resource for your custom model. You will also need to know the name (signature) of the model's serving input layer. You will use this subsequently when making a prediction request.\n"
      ]
    },
    {
      "cell_type": "markdown",
      "metadata": {
        "id": "7DuXfpIa5P-V"
      },
      "source": [
        "## Get the serving function signature\n",
        "\n",
        "You can get the signatures of your model's input and output layers by reloading the model into memory, and querying it for the signatures corresponding to each layer.\n",
        "\n",
        "When making a prediction request, you need to route the request to the serving function instead of the model, so you need to know the input layer name of the serving function -- which you will use later when you make a prediction request.\n",
        "\n",
        "You will also need to know the name of the serving function's input and output layer for constructing the explanation metadata -- which is discussed subsequently."
      ]
    },
    {
      "cell_type": "code",
      "metadata": {
        "id": "63ZZZlqC5P-V",
        "outputId": "b03618b7-8fd9-4f29-af19-c369aaa44df3"
      },
      "source": [
        "loaded = tf.saved_model.load(model_path_to_deploy)\n",
        "\n",
        "serving_input = list(loaded.signatures['serving_default'].structured_input_signature[1].keys())[0]\n",
        "print('Serving function input:', serving_input)\n",
        "serving_output = list(loaded.signatures['serving_default'].structured_outputs.keys())[0]\n",
        "print('Serving function output:', serving_output)\n",
        "\n",
        "input_name = model.input.name\n",
        "print('Model input name:', input_name)\n",
        "output_name = model.output.name\n",
        "print('Model output name:', output_name)"
      ],
      "execution_count": null,
      "outputs": [
        {
          "output_type": "stream",
          "text": [
            "Serving function input: dense_input\n",
            "Serving function output: dense_2\n",
            "Model input name: input_1:0\n",
            "Model output name: dense_2/Identity:0\n"
          ],
          "name": "stdout"
        }
      ]
    },
    {
      "cell_type": "markdown",
      "metadata": {
        "id": "UiTHO74N5P-V"
      },
      "source": [
        "### Explanation Specification\n",
        "\n",
        "To get explanations when doing a prediction, you must enable the explanation capability and set corresponding settings when you upload your custom model to a AI Platform (Unified) managed model. These settings are referred to as the explanation metadata, which consists of:\n",
        "\n",
        "- `parameters`: This is the specification for the explainability algorithm to use for explanations on your model. You can choose between:\n",
        "  - Shapley - *Note*, not recommended for image data -- can be very long running\n",
        "  - XRAI\n",
        "  - Integrated Gradients\n",
        "- `metadata`: This is the specification for how the algoithm is applied on your custom model.\n",
        "\n",
        "#### Explanation Parameters\n",
        "\n",
        "Let's first dive deeper into the settings for the explainability algorithm.\n",
        "\n",
        "#### Shapley\n",
        "\n",
        "Assigns credit for the outcome to each feature, and considers different permutations of the features. This method provides a sampling approximation of exact Shapley values.\n",
        "\n",
        "Use Cases: \n",
        "  - Classification and regression on tabular data.\n",
        "\n",
        "Parameters:\n",
        "\n",
        "- `path_count`: This is the number of paths over the features that will be processed by the algorithm. An exact approximation of the Shapley values requires M! paths, where M is the number of features. For the Boston Housing dataset, this would be 13.\n",
        "\n",
        "For any non-trival number of features, this is too compute expensive. You can reduce the number of paths over the features to M * `path_count`.\n",
        "\n",
        "#### Integrated Gradients\n",
        "\n",
        "A gradients-based method to efficiently compute feature attributions with the same axiomatic properties as the Shapley value.\n",
        "\n",
        "Use Cases: \n",
        "  - Classification and regression on tabular data. \n",
        "  - Classification on image data.\n",
        "\n",
        "Parameters:\n",
        "\n",
        "- `step_count`: This is the number of steps to approximate the remaining sum. The more steps, the more accurate the integral approximation. The general rule of thumb is 50 steps, but as you increase so does the compute time.\n",
        "\n",
        "#### XRAI\n",
        "\n",
        "Based on the integrated gradients method, XRAI assesses overlapping regions of the image to create a saliency map, which highlights relevant regions of the image rather than pixels.\n",
        "\n",
        "Use Cases: \n",
        "\n",
        "  - Classification on image data.\n",
        "\n",
        "Parameters:\n",
        "\n",
        "- `step_count`: This is the number of steps to approximate the remaining sum. The more steps, the more accurate the integral approximation. The general rule of thumb is 50 steps, but as you increase so does the compute time.\n",
        "\n",
        "In the next code cell, set the variable `XAI` to which explainabilty algorithm you will use on your custom model."
      ]
    },
    {
      "cell_type": "code",
      "metadata": {
        "id": "yEEK8pQg5P-W"
      },
      "source": [
        "XAI = \"shapley\"  # [ shapley, ig, xrai ]\n",
        "\n",
        "if XAI == \"shapley\":\n",
        "    PARAMETERS = {\n",
        "        \"sampled_shapley_attribution\": { 'path_count': 10 }\n",
        "    }\n",
        "elif XAI == \"ig\":\n",
        "    PARAMETERS = {\n",
        "        \"integratedGradientsAttribution\": { \"step_count\": 50 }\n",
        "    }\n",
        "elif XAI == \"xrai\":\n",
        "    PARAMETERS = {\n",
        "        \"xrai\": { \"step_count\": 50 }\n",
        "    }\n",
        "    \n",
        "parameters = aip.ExplanationParameters(PARAMETERS)"
      ],
      "execution_count": null,
      "outputs": []
    },
    {
      "cell_type": "markdown",
      "metadata": {
        "id": "i4nLdS8i5P-W"
      },
      "source": [
        "#### Explanation Metadata\n",
        "\n",
        "Let's first dive deeper into the explanation metadata, which consists of:\n",
        "\n",
        "- `outputs`: A scalar value in the output to attribute -- what to explain. For example, in a probability output \\[0.1, 0.2, 0.7\\] for classification, one wants an explanation for 0.7. Consider the following formulae, where the output is `y` and that is what we want to explain.\n",
        "\n",
        "    y = f(x)\n",
        "    \n",
        "Consider the following formulae, where the outputs are `y` and `z`. Since we can only do attribution for one scalar value, we have to pick whether we want to explain the output `y` or `z`. Assume in this example the model is object detection and y and z are the bounding box and the object classification. You would want to pick which of the two outputs to explain.\n",
        "\n",
        "    y, z = f(x)\n",
        "    \n",
        "The dictionary format for `outputs` is:\n",
        "\n",
        "    { \"outputs\": { \"<your_display_name>\": \n",
        "                        \"output_tensor_name\": <layer>\n",
        "                 }\n",
        "    }\n",
        "  \n",
        "<blockquote>\n",
        " -  [your_display_name]: A human readable name you assign to the output to explain. A common example is \"probability\".<br/>\n",
        " -  \"output_tensor_name\": The key/value field to identify the output layer to explain. <br/>\n",
        " -  [layer]: The output layer to explain. In a single task model, like a tabular regressor, it is the last (topmost) layer in the model.\n",
        "</blockquote>\n",
        "    \n",
        "- `inputs`: The features for attribution -- how they contributed to the output. Consider the following formulae, where `a` and `b` are the features. We have to pick which features to explain how the contributed. Assume that this model is deployed for A/B testing, where `a` are the data_items for the prediction and `b` identifies whether the model instance is A or B. You would want to pick `a` (or some subset of) for the features, and not `b` since it does not contribute to the prediction.\n",
        "\n",
        "    y = f(a,b)\n",
        "    \n",
        "The minimum dictionary format for `inputs` is:\n",
        "\n",
        "    { \"inputs\": { \"<your_display_name>\": \n",
        "                        \"input_tensor_name\": <layer>\n",
        "                 }\n",
        "    }\n",
        "  \n",
        "<blockquote>\n",
        " -  [your_display_name]: A human readable name you assign to the input to explain. A common example is \"features\".<br/>\n",
        " -  \"input_tensor_name\": The key/value field to identify the input layer for the feature attribution. <br/>\n",
        " -  [layer]: The input layer for feature attribution. In a single input tensor model, it is the first (bottom-most) layer in the model.\n",
        "</blockquote>\n",
        "\n",
        "Since the inputs to the model are tabular, you can specify the following two additional fields as reporting/visualization aids:\n",
        "\n",
        "<blockquote>\n",
        " - \"encoding\": \"BAG_OF_FEATURES\" : Indicates that the inputs are set of tabular features.<br/>\n",
        " - \"index_feature_mapping\": [ feature-names ] : A list of human readable names for each feature. For this example, we use the feature names specified in the dataset.<br/>\n",
        " - \"modality\": \"numeric\": Indicates the field values are numeric.\n",
        "</blockquote>"
      ]
    },
    {
      "cell_type": "code",
      "metadata": {
        "id": "oPd3I-Ss5P-W"
      },
      "source": [
        "INPUT_METADATA = {'input_tensor_name': serving_input,\n",
        "                  \"encoding\": \"BAG_OF_FEATURES\",\n",
        "                  \"modality\": \"numeric\",\n",
        "                  \"index_feature_mapping\": [\"crim\", \"zn\", \"indus\", \"chas\", \"nox\", \"rm\", \"age\", \n",
        "                                            \"dis\", \"rad\", \"tax\", \"ptratio\", \"b\", \"lstat\"]}\n",
        "\n",
        "OUTPUT_METADATA = {'output_tensor_name': serving_output}\n",
        "\n",
        "input_metadata = aip.ExplanationMetadata.InputMetadata(INPUT_METADATA)\n",
        "output_metadata = aip.ExplanationMetadata.OutputMetadata(OUTPUT_METADATA)\n",
        "\n",
        "metadata = aip.ExplanationMetadata(\n",
        "        inputs={'features': input_metadata},\n",
        "        outputs={'medv' : output_metadata}\n",
        ")\n",
        "\n",
        "explanation_spec = aip.ExplanationSpec(\n",
        "    metadata=metadata,\n",
        "    parameters=parameters\n",
        ")"
      ],
      "execution_count": null,
      "outputs": []
    },
    {
      "cell_type": "markdown",
      "metadata": {
        "id": "4r6w-hFN5P-W"
      },
      "source": [
        "## Deploy the model for batch prediction\n",
        "\n",
        "Let's now deploy the trained AI Platform (Unified) model you created with Custom Job for batch prediction. This differs from deploying a model for on-demand prediction.\n",
        "\n",
        "For on-demand prediction, you:\n",
        "\n",
        "1. Create an endpoint for deploying the model to.\n",
        "\n",
        "2. Deploy the model to the endpoint.\n",
        "\n",
        "3. Make on-demand (live) prediction requests to the endpoint.\n",
        "\n",
        "For batch-prediction, you:\n",
        "\n",
        "1. Create a batch prediction job.\n",
        "\n",
        "2. The job service will provision resources for the batch prediction request.\n",
        "\n",
        "3. The results of the batch prediction request are returned to the caller.\n",
        "\n",
        "4. The job service will unprovision the resoures for the batch prediction request.\n",
        "\n",
        "### Upload the model\n",
        "\n",
        "First, use this helper function `upload_model` to upload your model, stored in SavedModel format, up to the model service, which will instantiate a AI Platform (Unified) model instance for our model. Once you've done that, you can use the model in the same way as any other AI Platform (Unified) model instance, such as deploying to an endpoint for serving predictions.\n",
        "\n",
        "The helper function takes the parameters:\n",
        "\n",
        "- `display_name`: A human readable name for the endpoint.\n",
        "- `image_uri`: The container image for the model deployment.\n",
        "- `model_uri`: The Cloud Storage path to our SavedModel artificat. For this tutorial, this is the Cloud Storage location where the `trainer/task.py` saved the model, which you specified in the variable `MODEL_DIR`.\n",
        "\n",
        "The helper function uses the model client service and calls the method `upload_model`, which takes the parameters:\n",
        "\n",
        "- `parent`: The AI Platform (Unified) location root path for dataset, model and endpoint resources. \n",
        "- `model`: The specification for the AI Platform (Unified) model instance.\n",
        "\n",
        "Let's now dive deeper into the AI Platform (Unified) model specification `model`. This is a dictionary object that consists of the following fields:\n",
        "\n",
        "- `display_name`: A human readable name for the model.\n",
        "- `metadata_schema_uri`: Since our model was built without a AI Platform (Unified) managed dataset, you will leave this blank (`''`).\n",
        "- `artificat_uri`: The Cloud Storage path where the model is stored in SavedModel format. \n",
        "- `container_spec`: This is the specification for the docker container that will be installed on the endpoint, from which the model will serve predictions. Use the variable you set earlier `DEPLOY_GPU != None` to use a GPU; otherwise only a CPU is allocated.\n",
        "- `explanation_spec`: This is the specification for enabling explainability for your model.\n",
        "\n",
        "Uploading a model into a AI Platform (Unified) model resource returns a long running operation, since it may take a few moments. You call `response.result()`, which is a synchronous call and will return when the AI Platform (Unified) model resource is ready. \n",
        "\n",
        "The helper function returns the AI Platform (Unified) fully qualified identifier for the corresponding AI Platform (Unified) model instance `upload_model_response.model`. You will save the identifier for subsequent steps in the variable `model_to_upload_name`.\n"
      ]
    },
    {
      "cell_type": "code",
      "metadata": {
        "id": "IbeK0Q4n5P-W",
        "outputId": "25191d16-868d-4d67-fb6a-d09df6e8fb3e"
      },
      "source": [
        "IMAGE_URI = DEPLOY_IMAGE\n",
        "\n",
        "\n",
        "def upload_model(display_name, image_uri, model_uri):\n",
        "    \n",
        "    model = aip.Model(display_name=display_name,\n",
        "                      artifact_uri=model_uri,\n",
        "                      metadata_schema_uri=\"\",\n",
        "                      explanation_spec=explanation_spec,\n",
        "                      container_spec={\n",
        "                        \"image_uri\": image_uri\n",
        "                     })\n",
        "\n",
        "    response = clients['model'].upload_model(parent=PARENT, model=model)\n",
        "    print(\"Long running operation:\", response.operation.name)\n",
        "    upload_model_response = response.result(timeout=180)\n",
        "    print(\"upload_model_response\")\n",
        "    print(\" model:\", upload_model_response.model)\n",
        "    return upload_model_response.model\n",
        "\n",
        "\n",
        "model_to_deploy_name = upload_model(\"boston-\" + TIMESTAMP, IMAGE_URI, model_path_to_deploy)"
      ],
      "execution_count": null,
      "outputs": [
        {
          "output_type": "stream",
          "text": [
            "Long running operation: projects/759209241365/locations/us-central1/models/2003503699854360576/operations/2036372500455096320\n",
            "upload_model_response\n",
            " model: projects/759209241365/locations/us-central1/models/2003503699854360576\n"
          ],
          "name": "stdout"
        }
      ]
    },
    {
      "cell_type": "markdown",
      "metadata": {
        "id": "w9Dm0oAD5P-W"
      },
      "source": [
        "### List all models\n",
        "\n",
        "Now that your custom model is uploaded as a AI Platform (Unified) managed model, let's get a list of all your AI Platform (Unified) managed models. Use this helper function `list_models`. This helper function uses the AI Platform (Unified) model client service, and calls the method `list_models`, with the parameter:\n",
        "\n",
        "- `parent`: The AI Platform (Unified) location root path for your dataset, model and endpoint resources.\n",
        "\n",
        "The response object from the call is a list, where each element is a AI Platform (Unified) managed model. For each model, you will display a few fields:\n",
        "\n",
        "- `name`: The AI Platform (Unified) unique identifier for the managed model.\n",
        "- `display_name`: The human readable name assigned to the model.\n",
        "- `create_time`': Timestamp when the model resource was created.\n",
        "- `update_time`: Timestamp when the model resource was last updated.\n",
        "- `container`: The container image used for training the model.\n",
        "- `artifact_uri`': The Cloud Storage location of the model artifact."
      ]
    },
    {
      "cell_type": "code",
      "metadata": {
        "id": "tnd40qMe5P-X",
        "outputId": "f51f1574-95af-42c0-b434-3b580f4cf494"
      },
      "source": [
        "def list_models():\n",
        "    response = clients['model'].list_models(parent=PARENT)\n",
        "    for model in response:\n",
        "        print(\"name\", model.name)\n",
        "        print(\"display_name\", model.display_name)\n",
        "        print(\"create_time\", model.create_time)\n",
        "        print(\"update_time\", model.update_time)\n",
        "        print(\"container\", model.container_spec.image_uri)\n",
        "        print(\"artifact_uri\", model.artifact_uri)\n",
        "        print('\\n')\n",
        "\n",
        "\n",
        "list_models()"
      ],
      "execution_count": null,
      "outputs": [
        {
          "output_type": "stream",
          "text": [
            "name projects/759209241365/locations/us-central1/models/2003503699854360576\n",
            "display_name boston-20210126173733\n",
            "create_time 2021-01-26 17:47:03.240420+00:00\n",
            "update_time 2021-01-26 17:47:20.022104+00:00\n",
            "container gcr.io/cloud-aiplatform/prediction/tf2-gpu.2-1:latest\n",
            "artifact_uri gs://andy-1234-221921ucaip-custom-20210126173733/custom_job_20210126173733\n",
            "\n",
            "\n",
            "name projects/759209241365/locations/us-central1/models/4579562686710284288\n",
            "display_name cifar10-20210125193549\n",
            "create_time 2021-01-25 19:47:46.729024+00:00\n",
            "update_time 2021-01-25 19:48:06.101088+00:00\n",
            "container gcr.io/cloud-aiplatform/prediction/tf2-cpu.2-3:latest\n",
            "artifact_uri gs://andy-1234-221921ucaip-custom-20210125193549/custom_job_20210125193549\n",
            "\n",
            "\n",
            "name projects/759209241365/locations/us-central1/models/8038327200530825216\n",
            "display_name iris_model-20210125190508\n",
            "create_time 2021-01-25 19:05:47.497398+00:00\n",
            "update_time 2021-01-25 19:36:36.026658+00:00\n",
            "container \n",
            "artifact_uri \n",
            "\n",
            "\n",
            "name projects/759209241365/locations/us-central1/models/7231338442301374464\n",
            "display_name sklearn-20210115185404\n",
            "create_time 2021-01-15 19:14:58.161210+00:00\n",
            "update_time 2021-01-15 19:15:14.070452+00:00\n",
            "container gcr.io/cloud-aiplatform/prediction/sklearn-cpu.0-23:latest\n",
            "artifact_uri gs://andy-1234-221921ucaip-custom-20210115185404/custom_job_20210115185404\n",
            "\n",
            "\n",
            "name projects/759209241365/locations/us-central1/models/9154938433141997568\n",
            "display_name iris-classification-model-mbsdk\n",
            "create_time 2021-01-13 22:15:52.365034+00:00\n",
            "update_time 2021-01-13 22:40:00.674974+00:00\n",
            "container \n",
            "artifact_uri \n",
            "\n",
            "\n",
            "name projects/759209241365/locations/us-central1/models/5727699116713050112\n",
            "display_name cifar10-20210112185145\n",
            "create_time 2021-01-12 19:07:11.273719+00:00\n",
            "update_time 2021-01-12 19:07:30.046442+00:00\n",
            "container gcr.io/cloud-aiplatform/prediction/tf2-cpu.2-1:latest\n",
            "artifact_uri gs://andy-1234-221921ucaip-custom-20210112185145/custom_job_20210112185145\n",
            "\n",
            "\n",
            "name projects/759209241365/locations/us-central1/models/699430132753891328\n",
            "display_name cifar10-20210112180452\n",
            "create_time 2021-01-12 18:36:41.327769+00:00\n",
            "update_time 2021-01-12 18:36:56.223766+00:00\n",
            "container gcr.io/cloud-aiplatform/prediction/tf2-cpu.2-1:latest\n",
            "artifact_uri gs://andy-1234-221921ucaip-custom-20210112180452/custom_job_20210112180452/model\n",
            "\n",
            "\n",
            "name projects/759209241365/locations/us-central1/models/9010823245066141696\n",
            "display_name cifar10-20210112050752\n",
            "create_time 2021-01-12 17:45:05.804320+00:00\n",
            "update_time 2021-01-12 17:45:22.119769+00:00\n",
            "container gcr.io/cloud-aiplatform/prediction/tf2-cpu.2-1:latest\n",
            "artifact_uri gs://andy-1234-221921ucaip-custom-20210112050752/custom_job_20210112050752\n",
            "\n",
            "\n",
            "name projects/759209241365/locations/us-central1/models/763606427443920896\n",
            "display_name cifar10-20210112050752\n",
            "create_time 2021-01-12 05:23:51.230260+00:00\n",
            "update_time 2021-01-12 05:24:08.152221+00:00\n",
            "container gcr.io/cloud-aiplatform/prediction/tf2-cpu.2-1:latest\n",
            "artifact_uri gs://andy-1234-221921ucaip-custom-20210112050752/custom_job_20210112050752\n",
            "\n",
            "\n",
            "name projects/759209241365/locations/us-central1/models/2317348298886742016\n",
            "display_name cifar10-20210112015957\n",
            "create_time 2021-01-12 02:59:07.649079+00:00\n",
            "update_time 2021-01-12 02:59:25.909344+00:00\n",
            "container gcr.io/cloud-aiplatform/prediction/tf2-cpu.2-1:latest\n",
            "artifact_uri gs://andy-1234-221921ucaip-custom-20210112015957/custom_job_20210112015957\n",
            "\n",
            "\n",
            "name projects/759209241365/locations/us-central1/models/3842942672658497536\n",
            "display_name cifar10-20210111223519\n",
            "create_time 2021-01-11 23:13:58.366084+00:00\n",
            "update_time 2021-01-11 23:14:17.658630+00:00\n",
            "container gcr.io/cloud-aiplatform/prediction/tf2-cpu.2-1:latest\n",
            "artifact_uri gs://andy-1234-221921ucaip-custom-20210111223519/custom_job_20210111223519\n",
            "\n",
            "\n",
            "name projects/759209241365/locations/us-central1/models/5992285594821066752\n",
            "display_name cifar10-20210111223519\n",
            "create_time 2021-01-11 23:03:56.233797+00:00\n",
            "update_time 2021-01-11 23:04:11.857296+00:00\n",
            "container gcr.io/cloud-aiplatform/prediction/tf2-cpu.2-1:latest\n",
            "artifact_uri gs://andy-1234-221921ucaip-custom-20210111223519/custom_job_20210111223519\n",
            "\n",
            "\n",
            "name projects/759209241365/locations/us-central1/models/5384299645126049792\n",
            "display_name cifar10-20210111223519\n",
            "create_time 2021-01-11 22:56:35.963019+00:00\n",
            "update_time 2021-01-11 22:56:51.373476+00:00\n",
            "container gcr.io/cloud-aiplatform/prediction/tf2-cpu.2-1:latest\n",
            "artifact_uri gs://andy-1234-221921ucaip-custom-20210111223519/custom_job_20210111223519\n",
            "\n",
            "\n",
            "name projects/759209241365/locations/us-central1/models/9153812533235154944\n",
            "display_name boston-20210111200255\n",
            "create_time 2021-01-11 20:12:00.268958+00:00\n",
            "update_time 2021-01-11 20:12:15.355126+00:00\n",
            "container gcr.io/cloud-aiplatform/prediction/tf2-gpu.2-1:latest\n",
            "artifact_uri gs://andy-1234-221921ucaip-custom-20210111200255/custom_job_20210111200255\n",
            "\n",
            "\n",
            "name projects/759209241365/locations/us-central1/models/7676631855457632256\n",
            "display_name cifar10-20210109023707\n",
            "create_time 2021-01-09 02:53:13.175028+00:00\n",
            "update_time 2021-01-09 02:53:29.777672+00:00\n",
            "container gcr.io/cloud-aiplatform/prediction/tf2-cpu.2-1:latest\n",
            "artifact_uri gs://andy-1234-221921ucaip-custom-20210109023707/custom_job_20210109023707\n",
            "\n",
            "\n",
            "name projects/759209241365/locations/us-central1/models/5262702455187046400\n",
            "display_name iris_model-20210109001443\n",
            "create_time 2021-01-09 00:14:52.333085+00:00\n",
            "update_time 2021-01-09 00:44:06.189360+00:00\n",
            "container \n",
            "artifact_uri \n",
            "\n",
            "\n",
            "name projects/759209241365/locations/us-central1/models/2146211513046663168\n",
            "display_name super-20210108232300\n",
            "create_time 2021-01-08 23:48:41.623405+00:00\n",
            "update_time 2021-01-08 23:48:53.298261+00:00\n",
            "container gcr.io/cloud-aiplatform/prediction/tf2-cpu.2-1:latest\n",
            "artifact_uri gs://andy-1234-221921ucaip-custom-20210108232300/super_custom_job_20210108232300\n",
            "\n",
            "\n",
            "name projects/759209241365/locations/us-central1/models/1569750760743239680\n",
            "display_name iris_model-20210108204021\n",
            "create_time 2021-01-08 20:40:30.053060+00:00\n",
            "update_time 2021-01-08 21:11:41.667691+00:00\n",
            "container \n",
            "artifact_uri \n",
            "\n",
            "\n",
            "name projects/759209241365/locations/us-central1/models/3177535827714506752\n",
            "display_name cifar10-20210108002436\n",
            "create_time 2021-01-08 00:50:15.830089+00:00\n",
            "update_time 2021-01-08 00:50:31.424545+00:00\n",
            "container gcr.io/cloud-aiplatform/prediction/tf2-cpu.2-1:latest\n",
            "artifact_uri gs://andy-1234-221921ucaip-custom-20210108002436/super_custom_job_20210108002436\n",
            "\n",
            "\n",
            "name projects/759209241365/locations/us-central1/models/3765255579086356480\n",
            "display_name cifar10-20210107010801\n",
            "create_time 2021-01-07 01:39:36.629740+00:00\n",
            "update_time 2021-01-07 01:39:52.465414+00:00\n",
            "container gcr.io/cloud-aiplatform/prediction/tf2-cpu.2-1:latest\n",
            "artifact_uri gs://andy-1234-221921ucaip-custom-20210107010801/super_custom_job_20210107010801\n",
            "\n",
            "\n",
            "name projects/759209241365/locations/us-central1/models/5043855660794511360\n",
            "display_name cifar10-20210106195254\n",
            "create_time 2021-01-07 00:10:29.211578+00:00\n",
            "update_time 2021-01-07 00:10:44.650803+00:00\n",
            "container gcr.io/cloud-aiplatform/prediction/tf2-cpu.2-1:latest\n",
            "artifact_uri gs://andy-1234-221921ucaip-custom-20210106195254/super_custom_job_20210106195254\n",
            "\n",
            "\n",
            "name projects/759209241365/locations/us-central1/models/504649448870117376\n",
            "display_name cifar10-20210106195254\n",
            "create_time 2021-01-06 21:51:24.257406+00:00\n",
            "update_time 2021-01-06 21:51:39.747809+00:00\n",
            "container gcr.io/cloud-aiplatform/prediction/tf2-cpu.2-1:latest\n",
            "artifact_uri gs://andy-1234-221921ucaip-custom-20210106195254/super_custom_job_20210106195254\n",
            "\n",
            "\n",
            "name projects/759209241365/locations/us-central1/models/4336790519297343488\n",
            "display_name cifar10-20210106001156\n",
            "create_time 2021-01-06 01:38:24.817224+00:00\n",
            "update_time 2021-01-06 01:38:40.598886+00:00\n",
            "container gcr.io/cloud-aiplatform/prediction/tf2-cpu.2-1:latest\n",
            "artifact_uri gs://andy-1234-221921ucaip-custom-20210106001156/super_custom_job_20210106001156\n",
            "\n",
            "\n",
            "name projects/759209241365/locations/us-central1/models/2449782275429105664\n",
            "display_name iris_model-20210105171436\n",
            "create_time 2021-01-05 17:14:58.529548+00:00\n",
            "update_time 2021-01-05 17:42:23.316631+00:00\n",
            "container \n",
            "artifact_uri \n",
            "\n",
            "\n",
            "name projects/759209241365/locations/us-central1/models/6514280939130978304\n",
            "display_name iris_model-20201229211913\n",
            "create_time 2020-12-29 21:19:20.350681+00:00\n",
            "update_time 2020-12-29 21:41:27.158590+00:00\n",
            "container \n",
            "artifact_uri \n",
            "\n",
            "\n",
            "name projects/759209241365/locations/us-central1/models/2164929598997921792\n",
            "display_name imdb-20201228202435\n",
            "create_time 2020-12-28 23:32:42.159065+00:00\n",
            "update_time 2020-12-28 23:34:45.998954+00:00\n",
            "container gcr.io/andy-1234-221921/tf_serving:gpu\n",
            "artifact_uri gs://andy-1234-221921ucaip-custom-20201228202435/imdb_custom_job_20201228202435\n",
            "\n",
            "\n",
            "name projects/759209241365/locations/us-central1/models/722651818332520448\n",
            "display_name imdb-20201228202435\n",
            "create_time 2020-12-28 23:31:59.063542+00:00\n",
            "update_time 2020-12-28 23:34:28.626293+00:00\n",
            "container gcr.io/andy-1234-221921/tf_serving:gpu\n",
            "artifact_uri gs://andy-1234-221921ucaip-custom-20201228202435/imdb_custom_job_20201228202435\n",
            "\n",
            "\n",
            "name projects/759209241365/locations/us-central1/models/5709262505738502144\n",
            "display_name cifar10-20201228230958\n",
            "create_time 2020-12-28 23:28:37.046071+00:00\n",
            "update_time 2020-12-28 23:28:52.691749+00:00\n",
            "container gcr.io/cloud-aiplatform/prediction/tf2-cpu.2-1:latest\n",
            "artifact_uri gs://andy-1234-221921ucaip-custom-20201228230958/custom_job_20201228230958\n",
            "\n",
            "\n",
            "name projects/759209241365/locations/us-central1/models/8216641598277025792\n",
            "display_name cifar10-20201228221406\n",
            "create_time 2020-12-28 22:42:01.393692+00:00\n",
            "update_time 2020-12-28 22:42:19.350696+00:00\n",
            "container gcr.io/cloud-aiplatform/prediction/tf2-cpu.2-1:latest\n",
            "artifact_uri gs://andy-1234-221921ucaip-custom-20201228221406/custom_job_20201228221406\n",
            "\n",
            "\n",
            "name projects/759209241365/locations/us-central1/models/5518985421482098688\n",
            "display_name happydb_model-20201228182705\n",
            "create_time 2020-12-28 18:42:49.010212+00:00\n",
            "update_time 2020-12-28 22:37:06.397179+00:00\n",
            "container \n",
            "artifact_uri \n",
            "\n",
            "\n",
            "name projects/759209241365/locations/us-central1/models/5910798589063331840\n",
            "display_name boston-20201228174921\n",
            "create_time 2020-12-28 19:31:57.228180+00:00\n",
            "update_time 2020-12-28 19:33:38.684425+00:00\n",
            "container gcr.io/andy-1234-221921/tf_serving\n",
            "artifact_uri gs://andy-1234-221921ucaip-custom-20201228174921/boston_custom_job_20201228174921/1\n",
            "\n",
            "\n",
            "name projects/759209241365/locations/us-central1/models/6193399465680830464\n",
            "display_name boston-20201228174921\n",
            "create_time 2020-12-28 19:12:13.799644+00:00\n",
            "update_time 2020-12-28 19:14:11.058221+00:00\n",
            "container gcr.io/andy-1234-221921/tf_serving\n",
            "artifact_uri gs://andy-1234-221921ucaip-custom-20201228174921/boston_custom_job_20201228174921/1\n",
            "\n",
            "\n",
            "name projects/759209241365/locations/us-central1/models/1299112570635943936\n",
            "display_name boston-20201228174921\n",
            "create_time 2020-12-28 18:39:11.211034+00:00\n",
            "update_time 2020-12-28 18:41:10.205250+00:00\n",
            "container gcr.io/andy-1234-221921/tf_serving\n",
            "artifact_uri gs://andy-1234-221921ucaip-custom-20201228174921/boston_custom_job_20201228174921/1\n",
            "\n",
            "\n",
            "name projects/759209241365/locations/us-central1/models/7438644762648772608\n",
            "display_name boston-20201228174921\n",
            "create_time 2020-12-28 18:00:48.685494+00:00\n",
            "update_time 2020-12-28 18:03:04.162320+00:00\n",
            "container gcr.io/andy-1234-221921/tf_serving\n",
            "artifact_uri gs://andy-1234-221921ucaip-custom-20201228174921/boston_custom_job_20201228174921/1\n",
            "\n",
            "\n",
            "name projects/759209241365/locations/us-central1/models/6997291999166464000\n",
            "display_name boston-20201224191615\n",
            "create_time 2020-12-24 20:47:36.651485+00:00\n",
            "update_time 2020-12-24 20:49:29.927336+00:00\n",
            "container gcr.io/andy-1234-221921/tf_serving\n",
            "artifact_uri gs://andy-1234-221921ucaip-custom-20201224191615/boston_custom_job_20201224191615\n",
            "\n",
            "\n",
            "name projects/759209241365/locations/us-central1/models/2091746105053151232\n",
            "display_name imdb-training-pipeline-20201224073246-model\n",
            "create_time 2020-12-24 07:32:54.246878+00:00\n",
            "update_time 2020-12-24 08:25:26.426963+00:00\n",
            "container gcr.io/cloud-aiplatform/prediction/tf2-cpu.2-1:latest\n",
            "artifact_uri gs://andy-1234-221921ucaip-custom-20201224073246/custom_job_20201224073246\n",
            "\n",
            "\n",
            "name projects/759209241365/locations/us-central1/models/2059095007754715136\n",
            "display_name boston-20201224080954\n",
            "create_time 2020-12-24 08:18:38.076928+00:00\n",
            "update_time 2020-12-24 08:20:31.508865+00:00\n",
            "container gcr.io/andy-1234-221921/tf_serving\n",
            "artifact_uri gs://andy-1234-221921ucaip-custom-20201224080954/boston_custom_job_20201224080954\n",
            "\n",
            "\n",
            "name projects/759209241365/locations/us-central1/models/6488385241273597952\n",
            "display_name cifar10-training-pipeline-20201224073333-model\n",
            "create_time 2020-12-24 07:33:41.270702+00:00\n",
            "update_time 2020-12-24 07:47:30.616672+00:00\n",
            "container gcr.io/cloud-aiplatform/prediction/tf2-cpu.2-1:latest\n",
            "artifact_uri gs://andy-1234-221921ucaip-custom-20201224073333/custom_job_20201224073333\n",
            "\n",
            "\n",
            "name projects/759209241365/locations/us-central1/models/2964318532856184832\n",
            "display_name boston-training-pipeline-20201224073047-model\n",
            "create_time 2020-12-24 07:30:55.083611+00:00\n",
            "update_time 2020-12-24 07:47:15.917704+00:00\n",
            "container gcr.io/cloud-aiplatform/prediction/tf2-cpu.2-1:latest\n",
            "artifact_uri gs://andy-1234-221921ucaip-custom-20201224073047/custom_job_20201224073047\n",
            "\n",
            "\n",
            "name projects/759209241365/locations/us-central1/models/1876699222846210048\n",
            "display_name boston-20201224065232\n",
            "create_time 2020-12-24 07:27:22.884285+00:00\n",
            "update_time 2020-12-24 07:29:20.944874+00:00\n",
            "container gcr.io/andy-1234-221921/tf_serving:gpu\n",
            "artifact_uri gs://andy-1234-221921ucaip-custom-20201224065232/custom_job_20201224065232\n",
            "\n",
            "\n",
            "name projects/759209241365/locations/us-central1/models/1154997382560088064\n",
            "display_name boston-20201223184053\n",
            "create_time 2020-12-24 02:31:41.485883+00:00\n",
            "update_time 2020-12-24 02:31:57.035778+00:00\n",
            "container gcr.io/cloud-aiplatform/prediction/tf2-cpu.2-1:latest\n",
            "artifact_uri gs://andy-1234-221921ucaip-custom-20201223184053/custom_job_20201223184053\n",
            "\n",
            "\n",
            "name projects/759209241365/locations/us-central1/models/5905169089529118720\n",
            "display_name boston-20201223184053\n",
            "create_time 2020-12-24 00:50:27.840819+00:00\n",
            "update_time 2020-12-24 00:52:16.050718+00:00\n",
            "container gcr.io/andy-1234-221921/tf_serving\n",
            "artifact_uri gs://andy-1234-221921ucaip-custom-20201223184053/custom_job_20201223184053\n",
            "\n",
            "\n",
            "name projects/759209241365/locations/us-central1/models/2307918887166935040\n",
            "display_name boston-20201223184053\n",
            "create_time 2020-12-24 00:20:32.981692+00:00\n",
            "update_time 2020-12-24 00:22:14.815600+00:00\n",
            "container gcr.io/andy-1234-221921/tf_serving\n",
            "artifact_uri gs://andy-1234-221921ucaip-custom-20201223184053/custom_job_20201223184053\n",
            "\n",
            "\n",
            "name projects/759209241365/locations/us-central1/models/723777718239363072\n",
            "display_name boston-20201223184053\n",
            "create_time 2020-12-23 22:05:30.271297+00:00\n",
            "update_time 2020-12-23 22:07:20.142927+00:00\n",
            "container gcr.io/andy-1234-221921/tf_serving\n",
            "artifact_uri gs://andy-1234-221921ucaip-custom-20201223184053/custom_job_20201223184053\n",
            "\n",
            "\n",
            "name projects/759209241365/locations/us-central1/models/4974049866570268672\n",
            "display_name boston-20201223184053\n",
            "create_time 2020-12-23 21:29:03.536292+00:00\n",
            "update_time 2020-12-23 21:30:53.819428+00:00\n",
            "container gcr.io/andy-1234-221921/tf_serving\n",
            "artifact_uri gs://andy-1234-221921ucaip-custom-20201223184053/custom_job_20201223184053\n",
            "\n",
            "\n",
            "name projects/759209241365/locations/us-central1/models/2939548734905647104\n",
            "display_name boston-20201223184053\n",
            "create_time 2020-12-23 21:09:44.907560+00:00\n",
            "update_time 2020-12-23 21:11:35.541524+00:00\n",
            "container gcr.io/andy-1234-221921/tf_serving\n",
            "artifact_uri gs://andy-1234-221921ucaip-custom-20201223184053/custom_job_20201223184053\n",
            "\n",
            "\n",
            "name projects/759209241365/locations/us-central1/models/480583338361356288\n",
            "display_name boston-20201223184053\n",
            "create_time 2020-12-23 20:35:04.665511+00:00\n",
            "update_time 2020-12-23 20:36:54.401347+00:00\n",
            "container gcr.io/andy-1234-221921/tf_serving\n",
            "artifact_uri gs://andy-1234-221921ucaip-custom-20201223184053/custom_job_20201223184053\n",
            "\n",
            "\n",
            "name projects/759209241365/locations/us-central1/models/6015507280399695872\n",
            "display_name boston-20201223184053\n",
            "create_time 2020-12-23 19:47:26.033277+00:00\n",
            "update_time 2020-12-23 19:49:19.538020+00:00\n",
            "container gcr.io/andy-1234-221921/tf_serving\n",
            "artifact_uri gs://andy-1234-221921ucaip-custom-20201223184053/custom_job_20201223184053\n",
            "\n",
            "\n",
            "name projects/759209241365/locations/us-central1/models/1579461647439757312\n",
            "display_name boston-20201223184053\n",
            "create_time 2020-12-23 19:01:35.675971+00:00\n",
            "update_time 2020-12-23 19:03:27.035835+00:00\n",
            "container gcr.io/andy-1234-221921/tf_serving\n",
            "artifact_uri gs://andy-1234-221921ucaip-custom-20201223184053/custom_job_20201223184053\n",
            "\n",
            "\n",
            "name projects/759209241365/locations/us-central1/models/4698204389393825792\n",
            "display_name iris_model-20201222155316\n",
            "create_time 2020-12-22 15:53:23.109892+00:00\n",
            "update_time 2020-12-22 16:22:49.139447+00:00\n",
            "container \n",
            "artifact_uri \n",
            "\n",
            "\n",
            "name projects/759209241365/locations/us-central1/models/4650916593306435584\n",
            "display_name boston-training-pipeline-20201221215809-model\n",
            "create_time 2020-12-21 22:52:06.193752+00:00\n",
            "update_time 2020-12-21 23:05:27.141230+00:00\n",
            "container gcr.io/cloud-aiplatform/prediction/tf2-cpu.2-1:latest\n",
            "artifact_uri gs://andy-1234-221921ucaip-custom-20201221215809/custom_job_20201221215809\n",
            "\n",
            "\n",
            "name projects/759209241365/locations/us-central1/models/2421634777758040064\n",
            "display_name boston-training-pipeline-20201221215809-model\n",
            "create_time 2020-12-21 21:58:18.149529+00:00\n",
            "update_time 2020-12-21 22:11:08.448769+00:00\n",
            "container gcr.io/cloud-aiplatform/prediction/tf2-cpu.2-1:latest\n",
            "artifact_uri gs://andy-1234-221921ucaip-custom-20201221215809/custom_job_20201221215809\n",
            "\n",
            "\n",
            "name projects/759209241365/locations/us-central1/models/3905570854976618496\n",
            "display_name boston-training-pipeline-20201221200800-model\n",
            "create_time 2020-12-21 20:08:07.435459+00:00\n",
            "update_time 2020-12-21 20:59:26.222505+00:00\n",
            "container gcr.io/cloud-aiplatform/prediction/tf2-cpu.2-1:latest\n",
            "artifact_uri gs://andy-1234-221921ucaip-custom-20201221200800/custom_job_20201221200800\n",
            "\n",
            "\n",
            "name projects/759209241365/locations/us-central1/models/2236987193035849728\n",
            "display_name boston-training-pipeline-20201221200123-model\n",
            "create_time 2020-12-21 20:01:30.541107+00:00\n",
            "update_time 2020-12-21 20:16:26.900187+00:00\n",
            "container gcr.io/cloud-aiplatform/prediction/tf2-cpu.2-1:latest\n",
            "artifact_uri gs://andy-1234-221921ucaip-custom-20201221200123/custom_job_20201221200123\n",
            "\n",
            "\n",
            "name projects/759209241365/locations/us-central1/models/4869341175233904640\n",
            "display_name boston-20201221192938\n",
            "create_time 2020-12-21 19:43:22.064091+00:00\n",
            "update_time 2020-12-21 19:43:39.781805+00:00\n",
            "container gcr.io/cloud-aiplatform/prediction/tf2-cpu.2-1:latest\n",
            "artifact_uri gs://andy-1234-221921ucaip-custom-20201221192938/custom_job_20201221192938\n",
            "\n",
            "\n",
            "name projects/759209241365/locations/us-central1/models/1599727845762924544\n",
            "display_name boston-training-pipeline-20201221192938-model\n",
            "create_time 2020-12-21 19:29:46.168470+00:00\n",
            "update_time 2020-12-21 19:42:45.319685+00:00\n",
            "container gcr.io/cloud-aiplatform/prediction/tf2-cpu.2-1:latest\n",
            "artifact_uri gs://andy-1234-221921ucaip-custom-20201221192938/custom_job_20201221192938\n",
            "\n",
            "\n",
            "name projects/759209241365/locations/us-central1/models/7713364339918372864\n",
            "display_name boston-training-pipeline-20201219225129-model\n",
            "create_time 2020-12-19 22:51:36.605841+00:00\n",
            "update_time 2020-12-19 23:04:59.915553+00:00\n",
            "container gcr.io/cloud-aiplatform/prediction/tf2-cpu.2-1:latest\n",
            "artifact_uri gs://andy-1234-221921ucaip-custom-20201219225129/custom_job_20201219225129\n",
            "\n",
            "\n",
            "name projects/759209241365/locations/us-central1/models/6803637215189532672\n",
            "display_name boston-training-pipeline-20201219212931-model\n",
            "create_time 2020-12-19 21:29:38.061481+00:00\n",
            "update_time 2020-12-19 21:43:28.187263+00:00\n",
            "container gcr.io/cloud-aiplatform/prediction/tf2-cpu.2-1:latest\n",
            "artifact_uri gs://andy-1234-221921ucaip-custom-20201219212931/custom_job_20201219212931\n",
            "\n",
            "\n",
            "name projects/759209241365/locations/us-central1/models/8368638085700780032\n",
            "display_name cifar10-20201219192106\n",
            "create_time 2020-12-19 19:49:18.024796+00:00\n",
            "update_time 2020-12-19 19:51:59.279538+00:00\n",
            "container gcr.io/deeplearning-platform-release/tf2-cpu\n",
            "artifact_uri gs://andy-1234-221921ucaip-custom-20201219192106/custom_job_20201219192106\n",
            "\n",
            "\n",
            "name projects/759209241365/locations/us-central1/models/5128298153807708160\n",
            "display_name cifar10-training-pipeline-20201219192106-model\n",
            "create_time 2020-12-19 19:21:13.545057+00:00\n",
            "update_time 2020-12-19 19:37:31.739305+00:00\n",
            "container gcr.io/deeplearning-platform-release/tf2-cpu\n",
            "artifact_uri gs://andy-1234-221921ucaip-custom-20201219192106/custom_job_20201219192106\n",
            "\n",
            "\n",
            "name projects/759209241365/locations/us-central1/models/3443951893171142656\n",
            "display_name cifar10-20201219185205\n",
            "create_time 2020-12-19 19:07:08.746179+00:00\n",
            "update_time 2020-12-19 19:07:34.276142+00:00\n",
            "container gcr.io/cloud-aiplatform/prediction/tf2-cpu.2-1:latest\n",
            "artifact_uri gs://andy-1234-221921ucaip-custom-20201219185205/custom_job_20201219185205\n",
            "\n",
            "\n",
            "name projects/759209241365/locations/us-central1/models/8767206652723068928\n",
            "display_name happydb_model-20201219041422\n",
            "create_time 2020-12-19 04:31:51.779844+00:00\n",
            "update_time 2020-12-19 08:42:36.425928+00:00\n",
            "container \n",
            "artifact_uri \n",
            "\n",
            "\n",
            "name projects/759209241365/locations/us-central1/models/354482548794982400\n",
            "display_name bank_model-20201219071717\n",
            "create_time 2020-12-19 07:17:57.115126+00:00\n",
            "update_time 2020-12-19 08:28:39.133643+00:00\n",
            "container \n",
            "artifact_uri \n",
            "\n",
            "\n",
            "name projects/759209241365/locations/us-central1/models/3184994914597339136\n",
            "display_name iris_model-20201219075326\n",
            "create_time 2020-12-19 07:53:34.594149+00:00\n",
            "update_time 2020-12-19 08:24:47.496809+00:00\n",
            "container \n",
            "artifact_uri \n",
            "\n",
            "\n",
            "name projects/759209241365/locations/us-central1/models/944454099980517376\n",
            "display_name iris_model-20201219040951\n",
            "create_time 2020-12-19 04:10:40.413596+00:00\n",
            "update_time 2020-12-19 04:43:14.717659+00:00\n",
            "container \n",
            "artifact_uri \n",
            "\n",
            "\n",
            "name projects/759209241365/locations/us-central1/models/8713163457194622976\n",
            "display_name cifar10-20201218231705\n",
            "create_time 2020-12-18 23:32:10.929495+00:00\n",
            "update_time 2020-12-18 23:32:25.929161+00:00\n",
            "container gcr.io/cloud-aiplatform/prediction/tf2-cpu.2-1:latest\n",
            "artifact_uri gs://andy-1234-221921ucaip-custom-20201218231705/custom_job_20201218231705\n",
            "\n",
            "\n",
            "name projects/759209241365/locations/us-central1/models/11646027161403392\n",
            "display_name mdsk-tabular-bank\n",
            "create_time 2020-12-14 22:01:54.649881+00:00\n",
            "update_time 2020-12-14 23:12:08.675704+00:00\n",
            "container \n",
            "artifact_uri \n",
            "\n",
            "\n"
          ],
          "name": "stdout"
        }
      ]
    },
    {
      "cell_type": "markdown",
      "metadata": {
        "id": "UiuDEsBy5P-X"
      },
      "source": [
        "### Get model information\n",
        "\n",
        "Now let's get the model information for just your model. Use this helper function `get_model`, with the parameter:\n",
        "\n",
        "- `name`: The AI Platform (Unified) unique identifier for the managed model.\n",
        "\n",
        "This helper function uses the AI Platform (Unified) model client service, and calls the method `get_model`, with the parameter:\n",
        "\n",
        "- `name`: The AI Platform (Unified) unique identifier for the managed model."
      ]
    },
    {
      "cell_type": "code",
      "metadata": {
        "id": "x-hl3RAy5P-X",
        "outputId": "7dfc124f-f929-4522-8c26-51945e7900e2"
      },
      "source": [
        "def get_model(name):\n",
        "    response = clients['model'].get_model(name=name)\n",
        "    print(response)\n",
        "\n",
        "\n",
        "get_model(model_to_deploy_name)"
      ],
      "execution_count": null,
      "outputs": [
        {
          "output_type": "stream",
          "text": [
            "name: \"projects/759209241365/locations/us-central1/models/2003503699854360576\"\n",
            "display_name: \"boston-20210126173733\"\n",
            "predict_schemata {\n",
            "}\n",
            "metadata {\n",
            "}\n",
            "container_spec {\n",
            "  image_uri: \"gcr.io/cloud-aiplatform/prediction/tf2-gpu.2-1:latest\"\n",
            "}\n",
            "supported_deployment_resources_types: DEDICATED_RESOURCES\n",
            "supported_input_storage_formats: \"jsonl\"\n",
            "supported_input_storage_formats: \"csv\"\n",
            "supported_input_storage_formats: \"tf-record\"\n",
            "supported_input_storage_formats: \"tf-record-gzip\"\n",
            "supported_input_storage_formats: \"file-list\"\n",
            "supported_output_storage_formats: \"jsonl\"\n",
            "create_time {\n",
            "  seconds: 1611683223\n",
            "  nanos: 240420000\n",
            "}\n",
            "update_time {\n",
            "  seconds: 1611683240\n",
            "  nanos: 22104000\n",
            "}\n",
            "etag: \"AMEw9yPwBFLZJu9tpbMWaarYFfv20qmz0RIQljVarDtMrPgntTK1bWgy5Qb48frpVjk=\"\n",
            "supported_export_formats {\n",
            "  id: \"custom-trained\"\n",
            "  exportable_contents: ARTIFACT\n",
            "}\n",
            "explanation_spec {\n",
            "  parameters {\n",
            "    sampled_shapley_attribution {\n",
            "      path_count: 10\n",
            "    }\n",
            "  }\n",
            "  metadata {\n",
            "    inputs {\n",
            "      key: \"features\"\n",
            "      value {\n",
            "        input_tensor_name: \"dense_input\"\n",
            "        encoding: BAG_OF_FEATURES\n",
            "        modality: \"numeric\"\n",
            "        index_feature_mapping: \"crim\"\n",
            "        index_feature_mapping: \"zn\"\n",
            "        index_feature_mapping: \"indus\"\n",
            "        index_feature_mapping: \"chas\"\n",
            "        index_feature_mapping: \"nox\"\n",
            "        index_feature_mapping: \"rm\"\n",
            "        index_feature_mapping: \"age\"\n",
            "        index_feature_mapping: \"dis\"\n",
            "        index_feature_mapping: \"rad\"\n",
            "        index_feature_mapping: \"tax\"\n",
            "        index_feature_mapping: \"ptratio\"\n",
            "        index_feature_mapping: \"b\"\n",
            "        index_feature_mapping: \"lstat\"\n",
            "      }\n",
            "    }\n",
            "    outputs {\n",
            "      key: \"medv\"\n",
            "      value {\n",
            "        output_tensor_name: \"dense_2\"\n",
            "      }\n",
            "    }\n",
            "  }\n",
            "}\n",
            "artifact_uri: \"gs://andy-1234-221921ucaip-custom-20210126173733/custom_job_20210126173733\"\n",
            "\n"
          ],
          "name": "stdout"
        }
      ]
    },
    {
      "cell_type": "markdown",
      "metadata": {
        "id": "1bzCw2n25P-X"
      },
      "source": [
        "### Get test item(s)\n",
        "\n",
        "Let's now do a prediction to your deployed model. You will use an arbitrary data items out of the test (holdout) portion of the dataset as the test data. "
      ]
    },
    {
      "cell_type": "code",
      "metadata": {
        "id": "WdwhwgCi5P-X",
        "outputId": "a0387709-1dce-457d-9945-ffa29ef31e23"
      },
      "source": [
        "test_item_1 = x_test[0]\n",
        "test_label_1 = y_test[0]\n",
        "test_item_2 = x_test[1]\n",
        "test_label_2 = y_test[1]\n",
        "\n",
        "print(test_item_1.shape)"
      ],
      "execution_count": null,
      "outputs": [
        {
          "output_type": "stream",
          "text": [
            "(13,)\n"
          ],
          "name": "stdout"
        }
      ]
    },
    {
      "cell_type": "markdown",
      "metadata": {
        "id": "PmzIyHHK5P-Y"
      },
      "source": [
        "You then write the prediction request as a JSONL file to a Cloud Storage bucket. Each instance in the prediction request is a dictionary entry of the form:\n",
        "\n",
        "                        {input_name: content}\n",
        "                        \n",
        "- `input_name`: the name of the input layer of the underlying model.\n",
        "- `content`: The feature values of the test item as a list."
      ]
    },
    {
      "cell_type": "code",
      "metadata": {
        "id": "S3RpOk5r5P-Y"
      },
      "source": [
        "gcs_input_uri = \"gs://\" + BUCKET_NAME + \"/\" + \"test.jsonl\"\n",
        "with tf.io.gfile.GFile(gcs_input_uri, 'w') as f:\n",
        "    data = {serving_input: test_item_1.tolist()}\n",
        "    f.write(json.dumps(data) + '\\n')"
      ],
      "execution_count": null,
      "outputs": []
    },
    {
      "cell_type": "markdown",
      "metadata": {
        "id": "_WpNneV85P-Y"
      },
      "source": [
        "### Compute instance scaling\n",
        "\n",
        "You have several choices on scaling the compute instances for handling your batch request:\n",
        "\n",
        "- Single Instance: The batch request is processed on a single compute instance.\n",
        "  - Set the minimum (`MIN_NODES`) and maximum (`MAX_NODES`) number of compute instances to one. \n",
        "\n",
        "\n",
        "- Manual Scaling: The batch request is split across a fixed number of compute instances that you manually specified.\n",
        "  - Set the minimum (`MIN_NODES`) and maximum (`MAX_NODES`) number of compute instances to the same number of nodes. When the batch is processed, the fixed number of compute instances are provisioned and the batch request is evenly distributed across them.\n",
        "  \n",
        "  \n",
        "- Auto Scaling: The batch request is streamed across an initial number of compute instances and then based on time and compute tradeoff may be automatically scaled to additionally compute instances.\n",
        "  - Set the minimum (`MIN_NODES`) to the initial number of compute instances and the maximum (`MAX_NODES`) to the maximum number of nodes the service could auto-scale to.\n",
        "\n",
        "The minimum number of compute instances corresponds to the field `starting_replica_count` and the maximum number of compute instances corresponds to the field `max_replica_count`, in your subsequent batch request.\n",
        "\n",
        "When the batch request is completed, the compute instances are de-provisioned."
      ]
    },
    {
      "cell_type": "code",
      "metadata": {
        "id": "oBUHvzzf5P-Y"
      },
      "source": [
        "MIN_NODES = 1\n",
        "MAX_NODES = 1"
      ],
      "execution_count": null,
      "outputs": []
    },
    {
      "cell_type": "markdown",
      "metadata": {
        "id": "HRVFVSwM5P-Y"
      },
      "source": [
        "### Make batch prediction with explainability request\n",
        "\n",
        "Now that your batch of two image test items is ready, let's do the batch request. Use this helper function `create_batch_prediction_job`, with the parameters:\n",
        "\n",
        "- `display_name`: The human readable name for the prediction job.\n",
        "- `model_name`: The AI Platform (Unified) fully qualified identifier for the model.\n",
        "- `gcs_source_uri`: The Cloud Storage path to the JSONL/CSV input file -- which you created above.\n",
        "- `gcs_destination_output_uri_prefix`: The Cloud Storage path that the service will write the predictions to.\n",
        "\n",
        "The helper function uses the job client service and calls the method `create_batch_prediction_job`, with the parameters:\n",
        "\n",
        "- `parent`: The AI Platform (Unified) location root path for dataset, model and pipeline resources.\n",
        "- `batch_prediction_job`: The specification for the batch prediction job.\n",
        "\n",
        "Let's now dive into the specification for the `batch_prediction_job`:\n",
        "\n",
        "- `display_name`: The human readable name for the prediction batch job.\n",
        "- `model`: The AI Platform (Unified) fully qualified identifier for the model.\n",
        "- `model_parameters`: requirements/constrains on the prediction service.\n",
        " - `confidenceThreshold`: The minimum confidence threshold on doing a prediction.\n",
        " - `maxPredictions`: The maximum size of the batch request.\n",
        "- `input_config`: The input source and format type for the instances to predict.\n",
        " - `instances_format`: The format of the batch prediction request file: `csv` or `jsonl`.\n",
        " - `gcs_source`: A list of one or more Cloud Storage paths to your batch prediction requests.\n",
        "- `output_config`: The output destination and format for the predictions.\n",
        " - `prediction_format`: The format of the batch prediction response file: `csv` or `jsonl`.\n",
        " - `gcs_destination`: The output destination for the predictions.\n",
        "- `dedicated_resources`: The compute resources to provision for the batch prediction job. \n",
        "  - `machine_spec`: The compute instance to provision. Use the variable `DEPLOY_GPU != None` to use a GPU; otherwise only a CPU is allocated.\n",
        "  - `starting_replica_count`: The number of compute instances to initially provision.\n",
        "  - `max_replica_count`: The maximum number of compute instances to scale to. In this tutorial, only one instance is provisioned.\n",
        "- `generate_explanation`: Return explanations with the predictions.\n",
        "\n",
        "This call is an asychronous operation. You will print from the response object a few select fields, including:\n",
        "\n",
        "- `name`: The AI Platform (Unified) fully qualified identifier assigned to the batch prediction job.\n",
        "- `display_name`: The human readable name for the prediction batch job.\n",
        "- `model`: The AI Platform (Unified) fully qualified identifier for the model.\n",
        "- `generate_explanations`: Whether True/False explanations were provided with the predictions (explainability).\n",
        "- `state`: The state of the prediction job (pending, running, etc).\n",
        "\n",
        "Since this call will take a few moments to execute, you will likely get `JobState.JOB_STATE_PENDING` for `state`.\n",
        "\n",
        "The helper function will return and save the AI Platform (Unified) fully qualified identifier assigned to the batch prediction job as `prediction_name`."
      ]
    },
    {
      "cell_type": "code",
      "metadata": {
        "id": "SzUGon3p5P-Y",
        "outputId": "0178e248-44fa-48f7-d269-47a0ad1d974e"
      },
      "source": [
        "BATCH_MODEL = \"boston_batch-\" + TIMESTAMP\n",
        "\n",
        "\n",
        "def create_batch_prediction_job(display_name, model_name, gcs_source_uri, gcs_destination_output_uri_prefix):\n",
        "\n",
        "    model_parameters = {\n",
        "        \"confidenceThreshold\": 0.5,\n",
        "        \"maxPredictions\": 10000,\n",
        "    }\n",
        "\n",
        "    if DEPLOY_GPU:\n",
        "        machine_spec = {\n",
        "            \"machine_type\": DEPLOY_COMPUTE,\n",
        "            \"accelerator_type\": DEPLOY_GPU,\n",
        "            \"accelerator_count\": DEPLOY_NGPU,\n",
        "        }\n",
        "    else:\n",
        "        machine_spec = {\n",
        "            \"machine_type\": DEPLOY_COMPUTE,\n",
        "            \"accelerator_count\": 0,\n",
        "        }\n",
        "\n",
        "    batch_prediction_job = {\n",
        "        \"display_name\": display_name,\n",
        "        # Format: 'projects/{project}/locations/{location}/models/{model_id}'\n",
        "        \"model\": model_name,\n",
        "        \"model_parameters\": json_format.ParseDict(model_parameters, Value()),\n",
        "        \"input_config\": {\n",
        "            \"instances_format\": \"jsonl\",\n",
        "            \"gcs_source\": {\"uris\": [gcs_source_uri]},\n",
        "        },\n",
        "        \"output_config\": {\n",
        "            \"predictions_format\": \"jsonl\",\n",
        "            \"gcs_destination\": {\"output_uri_prefix\": gcs_destination_output_uri_prefix},\n",
        "        },\n",
        "        \"dedicated_resources\": {\n",
        "            \"machine_spec\": machine_spec,\n",
        "            \"starting_replica_count\": MIN_NODES,\n",
        "            \"max_replica_count\": MAX_NODES,\n",
        "        },\n",
        "        \"generate_explanation\": True\n",
        "    }\n",
        "    response = clients['job'].create_batch_prediction_job(\n",
        "        parent=PARENT, batch_prediction_job=batch_prediction_job\n",
        "    )\n",
        "    print(\"response\")\n",
        "    print(\" name:\", response.name)\n",
        "    print(\" display_name:\", response.display_name)\n",
        "    print(\" model:\", response.model)\n",
        "    print(\" generate_explanation:\", response.generate_explanation)\n",
        "    print(\" state:\", response.state)\n",
        "    print(\" create_time:\", response.create_time)\n",
        "    print(\" start_time:\", response.start_time)\n",
        "    print(\" end_time:\", response.end_time)\n",
        "    print(\" update_time:\", response.update_time)\n",
        "    print(\" labels:\", response.labels)\n",
        "    return response\n",
        "\n",
        "\n",
        "response = create_batch_prediction_job(BATCH_MODEL, model_to_deploy_name, gcs_input_uri, \"gs://\" + BUCKET_NAME)\n",
        "\n",
        "prediction_name = response.name"
      ],
      "execution_count": null,
      "outputs": [
        {
          "output_type": "stream",
          "text": [
            "response\n",
            " name: projects/759209241365/locations/us-central1/batchPredictionJobs/3577881205527281664\n",
            " display_name: boston_batch-20210126173733\n",
            " model: projects/759209241365/locations/us-central1/models/2003503699854360576\n",
            " generate_explanation: True\n",
            " state: JobState.JOB_STATE_PENDING\n",
            " create_time: 2021-01-26 22:22:54.982819+00:00\n",
            " start_time: None\n",
            " end_time: None\n",
            " update_time: 2021-01-26 22:22:54.982819+00:00\n",
            " labels: {}\n"
          ],
          "name": "stdout"
        }
      ]
    },
    {
      "cell_type": "markdown",
      "metadata": {
        "id": "nn0a8K8P5P-Z"
      },
      "source": [
        "### List all batch prediction jobs\n",
        "\n",
        "Use this helper function `list_batch_prediction_jobs`. This helper function uses the job client service and calls the method `list_batch_prediction_jobs`, with the parameter:\n",
        "\n",
        "- `parent`: The AI Platform (Unified) location root path to the dataset, model and pipeline resources.\n",
        "\n",
        "The method will return a list, where each element is a single batch prediction job. You will probably only have one, unless you've already been using the service or been experimenting with this tutorial.\n",
        "\n",
        "We will print a couple of additional fields:\n",
        "\n",
        "- `error`: An error description if an error occurred.\n",
        "- `output_uri_prefix`: The Cloud Storage location you gave for outputtng the predictions."
      ]
    },
    {
      "cell_type": "code",
      "metadata": {
        "id": "wGaIskgH5P-Z",
        "outputId": "2f2c1a7e-617b-4422-b706-8242663a1632"
      },
      "source": [
        "def list_batch_prediction_jobs():\n",
        "    response = clients['job'].list_batch_prediction_jobs(parent=PARENT)\n",
        "    for batch in response:\n",
        "        print(\" name:\", batch.name)\n",
        "        print(\" display_name:\", batch.display_name)\n",
        "        print(\" model:\", batch.model)\n",
        "        print(\" generate_explanation:\", batch.generate_explanation)\n",
        "        print(\" state:\", batch.state)\n",
        "        print(\" error:\", batch.error)\n",
        "        gcs_destination = batch.output_config.gcs_destination\n",
        "        print(\" gcs_destination\")\n",
        "        print(\"  output_uri_prefix:\", gcs_destination.output_uri_prefix)\n",
        "\n",
        "\n",
        "list_batch_prediction_jobs()"
      ],
      "execution_count": null,
      "outputs": [
        {
          "output_type": "stream",
          "text": [
            " name: projects/759209241365/locations/us-central1/batchPredictionJobs/3212526685756850176\n",
            " display_name: boston_batch-20210126173733\n",
            " model: projects/759209241365/locations/us-central1/models/2003503699854360576\n",
            " generate_explanation: True\n",
            " state: JobState.JOB_STATE_RUNNING\n",
            " error: \n",
            " gcs_destination\n",
            "  output_uri_prefix: gs://andy-1234-221921ucaip-custom-20210126173733\n",
            " name: projects/759209241365/locations/us-central1/batchPredictionJobs/5276301214999379968\n",
            " display_name: iris_batch-20210125190508\n",
            " model: projects/759209241365/locations/us-central1/models/8038327200530825216\n",
            " generate_explanation: True\n",
            " state: JobState.JOB_STATE_SUCCEEDED\n",
            " error: \n",
            " gcs_destination\n",
            "  output_uri_prefix: gs://andy-1234-221921ucaip-automl-20210125190508\n",
            " name: projects/759209241365/locations/us-central1/batchPredictionJobs/4198146501081300992\n",
            " display_name: cifar10_batch-20210112180452\n",
            " model: projects/759209241365/locations/us-central1/models/699430132753891328\n",
            " generate_explanation: True\n",
            " state: JobState.JOB_STATE_SUCCEEDED\n",
            " error: \n",
            " gcs_destination\n",
            "  output_uri_prefix: gs://andy-1234-221921ucaip-custom-20210112180452\n",
            " name: projects/759209241365/locations/us-central1/batchPredictionJobs/9144365529329303552\n",
            " display_name: boston_batch-20210111200255\n",
            " model: projects/759209241365/locations/us-central1/models/9153812533235154944\n",
            " generate_explanation: True\n",
            " state: JobState.JOB_STATE_SUCCEEDED\n",
            " error: \n",
            " gcs_destination\n",
            "  output_uri_prefix: gs://andy-1234-221921ucaip-custom-20210111200255\n",
            " name: projects/759209241365/locations/us-central1/batchPredictionJobs/3481511210375970816\n",
            " display_name: cifar10_batch-20210109205553\n",
            " model: projects/759209241365/locations/us-central1/models/2092168317518217216\n",
            " generate_explanation: True\n",
            " state: JobState.JOB_STATE_FAILED\n",
            " error: code: 3\n",
            "message: \"Starting model server timeout, please check container spec\"\n",
            "\n",
            " gcs_destination\n",
            "  output_uri_prefix: gs://andy-1234-221921ucaip-custom-20210109205553\n",
            " name: projects/759209241365/locations/us-central1/batchPredictionJobs/7403161323397185536\n",
            " display_name: iris_batch-20210105171436\n",
            " model: projects/759209241365/locations/us-central1/models/2449782275429105664\n",
            " generate_explanation: True\n",
            " state: JobState.JOB_STATE_SUCCEEDED\n",
            " error: \n",
            " gcs_destination\n",
            "  output_uri_prefix: gs://andy-1234-221921ucaip-automl-20210105171436\n",
            " name: projects/759209241365/locations/us-central1/batchPredictionJobs/8365805743747629056\n",
            " display_name: salads_batch-20201229191709\n",
            " model: projects/759209241365/locations/us-central1/models/1749472533372993536\n",
            " generate_explanation: False\n",
            " state: JobState.JOB_STATE_SUCCEEDED\n",
            " error: \n",
            " gcs_destination\n",
            "  output_uri_prefix: gs://andy-1234-221921ucaip-automl-20201229191709\n"
          ],
          "name": "stdout"
        }
      ]
    },
    {
      "cell_type": "markdown",
      "metadata": {
        "id": "hbZyEqZ85P-Z"
      },
      "source": [
        "### Get information on a batch prediction job\n",
        "\n",
        "Use this helper function `get_batch_prediction_job`, with the paramter:\n",
        "\n",
        "- `job_name`: The AI Platform (Unified) fully qualified identifier for the batch prediction job.\n",
        "\n",
        "The helper function uses the job client service and calls the method `get_batch_prediction_job`, with the paramter:\n",
        "\n",
        "- `name`: The AI Platform (Unified) fully qualified identifier for the batch prediction job. In this tutorial, you will pass it the AI Platform (Unified) fully qualified identifier for your batch prediction job -- `prediction_name`\n",
        "\n",
        "The helper function will return the Cloud Storage path to where the predictions are stored -- `gcs_destination`."
      ]
    },
    {
      "cell_type": "code",
      "metadata": {
        "id": "6-Bm3N0M5P-Z",
        "outputId": "3fda7d24-6b27-4a06-ec3b-f9fcc16b5e90"
      },
      "source": [
        "def get_batch_prediction_job(job_name, silent=False):\n",
        "    response = clients['job'].get_batch_prediction_job(name=job_name)\n",
        "    if silent:\n",
        "        return response.output_config.gcs_destination.output_uri_prefix, response.state\n",
        "\n",
        "    print(\"response\")\n",
        "    print(\" name:\", response.name)\n",
        "    print(\" display_name:\", response.display_name)\n",
        "    print(\" model:\", response.model)\n",
        "    print(\" generate_explanation:\", response.generate_explanation)\n",
        "    print(\" state:\", response.state)\n",
        "    print(\" error:\", response.error)\n",
        "    gcs_destination = response.output_config.gcs_destination\n",
        "    print(\" gcs_destination\")\n",
        "    print(\"  output_uri_prefix:\", gcs_destination.output_uri_prefix)\n",
        "    return gcs_destination.output_uri_prefix, response.state\n",
        "\n",
        "\n",
        "predictions, state = get_batch_prediction_job(prediction_name)"
      ],
      "execution_count": null,
      "outputs": [
        {
          "output_type": "stream",
          "text": [
            "response\n",
            " name: projects/759209241365/locations/us-central1/batchPredictionJobs/3577881205527281664\n",
            " display_name: boston_batch-20210126173733\n",
            " model: projects/759209241365/locations/us-central1/models/2003503699854360576\n",
            " generate_explanation: True\n",
            " state: JobState.JOB_STATE_RUNNING\n",
            " error: \n",
            " gcs_destination\n",
            "  output_uri_prefix: gs://andy-1234-221921ucaip-custom-20210126173733\n"
          ],
          "name": "stdout"
        }
      ]
    },
    {
      "cell_type": "markdown",
      "metadata": {
        "id": "fivHvIaO5P-Z"
      },
      "source": [
        "### Get the predictions\n",
        "\n",
        "When the batch prediction is done processing, the job state will be `JOB_STATE_SUCCEEDED`.\n",
        "\n",
        "Finally you view the predictions stored at the Cloud Storage path you set as output. The predictions will be in a JSONL format, which you indicated at the time you made the batch prediction job, under a subfolder starting with the name `prediction`, and under that folder will be a file called `prediction.results-xxxx-of-xxxx`.\n",
        "\n",
        "Let's display (cat) the contents. You will a row for each prediction -- in this case, there is just one row. The row contains:\n",
        "\n",
        "- `dense_input`: The input for the prediction.\n",
        "- `prediction`: The predicted median housing value in 1K USD unit."
      ]
    },
    {
      "cell_type": "code",
      "metadata": {
        "id": "Uma1upWx5P-Z",
        "outputId": "1b1bb6f9-00e3-43e8-faad-765494f95867"
      },
      "source": [
        "def get_lastest_predictions(gcs_out_dir):\n",
        "    ''' Get the latest prediction subfolder using the timestamp in the subfolder name'''\n",
        "    folders = !gsutil ls $gcs_out_dir\n",
        "    latest = \"\"\n",
        "    for folder in folders:\n",
        "        subfolder = folder.split('/')[-2]\n",
        "        if subfolder.startswith('prediction-'):\n",
        "            if subfolder > latest:\n",
        "                latest = folder[:-1]\n",
        "    return latest\n",
        "    \n",
        "while True:\n",
        "    predictions, state = get_batch_prediction_job(prediction_name, True)\n",
        "    if state != aip.JobState.JOB_STATE_SUCCEEDED:\n",
        "        print(\"The job has not completed:\", state)\n",
        "        if state == aip.JobState.JOB_STATE_FAILED:\n",
        "            break\n",
        "    else:\n",
        "        folder = get_lastest_predictions(predictions)\n",
        "        ! gsutil ls $folder/explanation.results*\n",
        "\n",
        "        ! gsutil cat $folder/explanation.results*\n",
        "        break\n",
        "    time.sleep(60)"
      ],
      "execution_count": null,
      "outputs": [
        {
          "output_type": "stream",
          "text": [
            "The job has not completed: JobState.JOB_STATE_RUNNING\n",
            "The job has not completed: JobState.JOB_STATE_RUNNING\n",
            "The job has not completed: JobState.JOB_STATE_RUNNING\n",
            "The job has not completed: JobState.JOB_STATE_RUNNING\n",
            "The job has not completed: JobState.JOB_STATE_RUNNING\n",
            "The job has not completed: JobState.JOB_STATE_RUNNING\n",
            "The job has not completed: JobState.JOB_STATE_RUNNING\n",
            "The job has not completed: JobState.JOB_STATE_RUNNING\n",
            "The job has not completed: JobState.JOB_STATE_RUNNING\n",
            "The job has not completed: JobState.JOB_STATE_RUNNING\n",
            "The job has not completed: JobState.JOB_STATE_RUNNING\n",
            "The job has not completed: JobState.JOB_STATE_RUNNING\n",
            "The job has not completed: JobState.JOB_STATE_RUNNING\n",
            "The job has not completed: JobState.JOB_STATE_RUNNING\n",
            "The job has not completed: JobState.JOB_STATE_RUNNING\n",
            "The job has not completed: JobState.JOB_STATE_RUNNING\n",
            "The job has not completed: JobState.JOB_STATE_RUNNING\n",
            "The job has not completed: JobState.JOB_STATE_RUNNING\n",
            "The job has not completed: JobState.JOB_STATE_RUNNING\n",
            "gs://andy-1234-221921ucaip-custom-20210126173733/prediction-boston-20210126173733-2021_01_26T14_22_54_872Z/explanation.results-00000-of-00001\n",
            "{\"instance\": {\"dense_input\": [0.02715405449271202, 0.0, 0.027177177369594574, 0.0, 0.0010195195209234953, 0.009660660289227962, 0.1501501500606537, 0.0027548049110919237, 0.036036036908626556, 1.0, 0.03033033013343811, 0.04091591760516167, 0.043618619441986084]}, \"prediction\": {\"dense_2\": [0.46104374527931213]}, \"explanation\": {\"attributions\": [{\"outputName\": \"medv\", \"baselineOutputValue\": 0.42005908489227295, \"instanceOutputValue\": 0.46104374527931213, \"outputIndex\": [0], \"featureAttributions\": {\"crim\": [-0.0015876799821853637], \"zn\": [0.0], \"indus\": [-0.0013851970434188843], \"chas\": [0.0], \"nox\": [9.810924530029297e-06], \"rm\": [0.0003984123468399048], \"age\": [0.005103486776351929], \"dis\": [-0.0002291262149810791], \"rad\": [-0.002953660488128662], \"tax\": [0.052024784684181216], \"ptratio\": [-0.0015692532062530518], \"b\": [0.0036439061164855956], \"lstat\": [-0.012470823526382447]}, \"approximationError\": 0.0017894711624381323}]}}\n"
          ],
          "name": "stdout"
        }
      ]
    },
    {
      "cell_type": "markdown",
      "metadata": {
        "id": "TpV-iwP9qw9c"
      },
      "source": [
        "# Cleaning up\n",
        "\n",
        "To clean up all GCP resources used in this project, you can [delete the GCP\n",
        "project](https://cloud.google.com/resource-manager/docs/creating-managing-projects#shutting_down_projects) you used for the tutorial.\n",
        "\n",
        "Otherwise, you can delete the individual resources you created in this tutorial:\n",
        "\n",
        "- Dataset\n",
        "- Model\n",
        "- Endpoint\n",
        "- GCS Bucket"
      ]
    },
    {
      "cell_type": "code",
      "metadata": {
        "id": "sx_vKniMq9ZX"
      },
      "source": [
        "delete_dataset = True\n",
        "delete_model = True\n",
        "delete_batch = True\n",
        "delete_bucket = True\n",
        "\n",
        "# Delete the dataset using the uCAIP fully qualified identifier for the dataset\n",
        "try:\n",
        "    if delete_dataset:\n",
        "        clients['dataset'].delete_dataset(name=dataset['name'])\n",
        "except Exception as e:\n",
        "    print(e)\n",
        "\n",
        "# Delete the model using the uCAIP fully qualified identifier for the model\n",
        "try:\n",
        "    if delete_model:\n",
        "        clients['model'].delete_model(name=model_to_deploy_name)\n",
        "except Exception as e:\n",
        "    print(e)\n",
        "\n",
        "# Delete the batch prediction job using the AI Platform (Unified) fully qualified identifier for the batch job\n",
        "try:\n",
        "    if delete_batch:\n",
        "        clients['job'].delete_batch_prediction_job(name=prediction_name)\n",
        "except Exception as e:\n",
        "    print(e)\n",
        "\n",
        "if delete_bucket and 'BUCKET_NAME' in globals():\n",
        "    ! gsutil rm -r gs://$BUCKET_NAME\n",
        "        \n",
        "# Collect any unclaimed memory\n",
        "import gc\n",
        "gc.collect()"
      ],
      "execution_count": null,
      "outputs": []
    }
  ]
}