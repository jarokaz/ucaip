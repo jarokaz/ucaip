{
  "nbformat": 4,
  "nbformat_minor": 0,
  "metadata": {
    "colab": {
      "name": "ucaip_customjob_image_explain.ipynb",
      "provenance": [],
      "collapsed_sections": [],
      "toc_visible": true
    },
    "kernelspec": {
      "display_name": "Python 3",
      "language": "python",
      "name": "python3"
    },
    "language_info": {
      "codemirror_mode": {
        "name": "ipython",
        "version": 3
      },
      "file_extension": ".py",
      "mimetype": "text/x-python",
      "name": "python",
      "nbconvert_exporter": "python",
      "pygments_lexer": "ipython3",
      "version": "3.7.6"
    }
  },
  "cells": [
    {
      "cell_type": "code",
      "metadata": {
        "id": "ur8xi4C7S06n"
      },
      "source": [
        "# Copyright 2020 Google LLC\n",
        "#\n",
        "# Licensed under the Apache License, Version 2.0 (the \"License\");\n",
        "# you may not use this file except in compliance with the License.\n",
        "# You may obtain a copy of the License at\n",
        "#\n",
        "#     https://www.apache.org/licenses/LICENSE-2.0\n",
        "#\n",
        "# Unless required by applicable law or agreed to in writing, software\n",
        "# distributed under the License is distributed on an \"AS IS\" BASIS,\n",
        "# WITHOUT WARRANTIES OR CONDITIONS OF ANY KIND, either express or implied.\n",
        "# See the License for the specific language governing permissions and\n",
        "# limitations under the License."
      ],
      "execution_count": null,
      "outputs": []
    },
    {
      "cell_type": "markdown",
      "metadata": {
        "id": "eHLV0D7Y5jtU"
      },
      "source": [
        "# AI Platform (Unified) SDK: Custom image classification model for online prediction with explainability\n",
        "\n",
        "<table align=\"left\">\n",
        "  <td>\n",
        "    <a href=\"https://colab.research.google.com/github/GoogleCloudPlatform/ai-platform-samples/master/notebooks/deepdive/custom/ucaip_customjob_image_explain.ipynb\">\n",
        "      <img src=\"https://cloud.google.com/ml-engine/images/colab-logo-32px.png\" alt=\"Colab logo\"> Run in Colab\n",
        "    </a>\n",
        "  </td>\n",
        "  <td>\n",
        "    <a href=\"https://github.com/GoogleCloudPlatform/ai-platform-samples/master/notebooks/deepdive/custom/ucaip_customjob_image_explain.ipynb\">\n",
        "      <img src=\"https://cloud.google.com/ml-engine/images/github-logo-32px.png\" alt=\"GitHub logo\">\n",
        "      View on GitHub\n",
        "    </a>\n",
        "  </td>\n",
        "</table>"
      ]
    },
    {
      "cell_type": "markdown",
      "metadata": {
        "id": "tvgnzT1CKxrO"
      },
      "source": [
        "# Overview\n",
        "\n",
        "\n",
        "This tutorial demonstrates how to use the AI Platform (Unified) Python SDK to train and deploy a custom image classification model for online prediction with explainability.\n",
        "\n",
        "### Dataset\n",
        "\n",
        "The dataset used for this tutorial is the [cifar10 dataset](https://www.tensorflow.org/datasets/catalog/cifar10) from [TensorFlow Datasets](https://www.tensorflow.org/datasets/catalog/overview). The version of the dataset you will use is built into Tensorflow. The trained model predicts which type of class an image is from ten classes: airplane, automobile, bird, cat, deer, dog, frog, horse, ship, truck.\n",
        "\n",
        "### Objective\n",
        "\n",
        "In this notebook, you will learn how to create a custom model from a Python script in a docker container using the AI Platform (Unified) SDK, and then do a prediction with explainability on the deployed model. You can alternatively create custom models from the command line using `gcloud` or online using Google Cloud Console.\n",
        "\n",
        "The steps performed include: \n",
        "\n",
        "- Create an AI Platform (Unified) custom job for training a model.\n",
        "- Train the model.\n",
        "- Retrieve and load the model (artifacts).\n",
        "- View the model evaluation.\n",
        "- Upload the model as a AI Platform (Unified) model for explainability.\n",
        "- Deploy the model to a serving endpoint.\n",
        "- Make a prediction with explanations.\n",
        "- Undeploy the model.\n",
        "\n",
        "### Costs \n",
        "\n",
        "This tutorial uses billable components of Google Cloud Platform (GCP):\n",
        "\n",
        "* Cloud AI Platform\n",
        "* Cloud Storage\n",
        "\n",
        "Learn about [Cloud AI Platform\n",
        "pricing](https://cloud.google.com/ml-engine/docs/pricing) and [Cloud Storage\n",
        "pricing](https://cloud.google.com/storage/pricing), and use the [Pricing\n",
        "Calculator](https://cloud.google.com/products/calculator/)\n",
        "to generate a cost estimate based on your projected usage."
      ]
    },
    {
      "cell_type": "markdown",
      "metadata": {
        "id": "i7EUnXsZhAGF"
      },
      "source": [
        "## Installation\n",
        "\n",
        "Install the latest (version) version of AI Platform (Unified) SDK."
      ]
    },
    {
      "cell_type": "code",
      "metadata": {
        "id": "wyy5Lbnzg5fi"
      },
      "source": [
        "! pip3 install -U google-cloud-aiplatform --user"
      ],
      "execution_count": null,
      "outputs": []
    },
    {
      "cell_type": "markdown",
      "metadata": {
        "id": "DFw_Ru0EhCFM"
      },
      "source": [
        "Install the Google `cloud-storage` library as well."
      ]
    },
    {
      "cell_type": "code",
      "metadata": {
        "id": "OcN0UlfIhCFM"
      },
      "source": [
        "! pip3 install google-cloud-storage"
      ],
      "execution_count": null,
      "outputs": []
    },
    {
      "cell_type": "markdown",
      "metadata": {
        "id": "HKT_-wn2hCFM"
      },
      "source": [
        "Install openCV, which will be used for creating test images."
      ]
    },
    {
      "cell_type": "code",
      "metadata": {
        "id": "yQUzPLQ_hCFM"
      },
      "source": [
        "! pip install opencv-python"
      ],
      "execution_count": null,
      "outputs": []
    },
    {
      "cell_type": "markdown",
      "metadata": {
        "id": "R3gVxvNyhCFN"
      },
      "source": [
        "### Restart the Kernel\n",
        "\n",
        "Once you've installed the AI Platform (Unified) SDK, you need to restart the notebook kernel so it can find the packages."
      ]
    },
    {
      "cell_type": "code",
      "metadata": {
        "id": "9luQpONrzPb6"
      },
      "source": [
        "import os\n",
        "if not os.getenv(\"AUTORUN\"):\n",
        "    # Automatically restart kernel after installs\n",
        "    import IPython\n",
        "    app = IPython.Application.instance()\n",
        "    app.kernel.do_shutdown(True)"
      ],
      "execution_count": null,
      "outputs": []
    },
    {
      "cell_type": "markdown",
      "metadata": {
        "id": "eSJAKKeQhCFN"
      },
      "source": [
        "## Before you begin\n",
        "\n",
        "### GPU run-time\n",
        "\n",
        "**Make sure you're running this notebook in a GPU runtime if you have that option. In Colab, select Runtime > Change runtime type > GPU**"
      ]
    },
    {
      "cell_type": "markdown",
      "metadata": {
        "id": "BF1j6f9HApxa"
      },
      "source": [
        "### Set up your GCP project\n",
        "\n",
        "**The following steps are required, regardless of your notebook environment.**\n",
        "\n",
        "1. [Select or create a GCP project](https://console.cloud.google.com/cloud-resource-manager). When you first create an account, you get a $300 free credit towards your compute/storage costs.\n",
        "\n",
        "2. [Make sure that billing is enabled for your project.](https://cloud.google.com/billing/docs/how-to/modify-project)\n",
        "\n",
        "3. [Enable the AI Platform APIs, Compute Engine APIs and Container Registry API.](https://console.cloud.google.com/flows/enableapi?apiid=ml.googleapis.com,compute_component,containerregistry.googleapis.com)\n",
        "\n",
        "4. [Google Cloud SDK](https://cloud.google.com/sdk) is already installed in AI Platform Notebooks.\n",
        "\n",
        "5. Enter your project ID in the cell below. Then run the  cell to make sure the\n",
        "Cloud SDK uses the right project for all the commands in this notebook.\n",
        "\n",
        "**Note**: Jupyter runs lines prefixed with `!` as shell commands, and it interpolates Python variables prefixed with `$` into these commands."
      ]
    },
    {
      "cell_type": "markdown",
      "metadata": {
        "id": "7S2SS2QdhCFO"
      },
      "source": [
        "#### Project ID\n",
        "\n",
        "**If you don't know your project ID**, you might be able to get your project ID using `gcloud` command by executing the second cell below."
      ]
    },
    {
      "cell_type": "code",
      "metadata": {
        "id": "V2yzZXZZhCFP"
      },
      "source": [
        "PROJECT_ID = \"[your-project-id]\" #@param {type:\"string\"}"
      ],
      "execution_count": null,
      "outputs": []
    },
    {
      "cell_type": "code",
      "metadata": {
        "id": "oM1iC_MfAts1"
      },
      "source": [
        "if PROJECT_ID == \"\" or PROJECT_ID is None or PROJECT_ID == \"[your-project-id]\":\n",
        "    # Get your GCP project id from gcloud\n",
        "    shell_output = !gcloud config list --format 'value(core.project)' 2>/dev/null\n",
        "    PROJECT_ID = shell_output[0]\n",
        "    print(\"Project ID:\", PROJECT_ID)"
      ],
      "execution_count": null,
      "outputs": []
    },
    {
      "cell_type": "code",
      "metadata": {
        "id": "_j2m9Q15hCFP"
      },
      "source": [
        "! gcloud config set project $PROJECT_ID"
      ],
      "execution_count": null,
      "outputs": []
    },
    {
      "cell_type": "markdown",
      "metadata": {
        "id": "H-suJE16hCFP"
      },
      "source": [
        "#### Region\n",
        "\n",
        "You can also change the `REGION` variable, which is used for operations\n",
        "throughout the rest of this notebook.  Below are regions supported for AI Platform (Unified). We recommend when possible, to choose the region closest to you. \n",
        "\n",
        "- Americas: `us-central1`\n",
        "- Europe: `europe-west4`\n",
        "- Asia Pacific: `asia-east1`\n",
        "\n",
        "You can not use a Multi-Regional Storage bucket for training with AI Platform. Not all regions provide support for all AI Platform services. For the lastest support per region, see [Region support for AI Platform (Unified) services](https://cloud.google.com/ai-platform-unified/docs/general/locations)"
      ]
    },
    {
      "cell_type": "code",
      "metadata": {
        "id": "r6ALc1ZJhCFQ"
      },
      "source": [
        "REGION = 'us-central1' #@param {type: \"string\"}"
      ],
      "execution_count": null,
      "outputs": []
    },
    {
      "cell_type": "markdown",
      "metadata": {
        "id": "AobGXpDhhCFQ"
      },
      "source": [
        "#### Timestamp\n",
        "\n",
        "If you are in a live tutorial session, you might be using a shared test account or project. To avoid name collisions between users on resources created, you create a timestamp for each instance session, and append onto the name of resources which will be created in this tutorial."
      ]
    },
    {
      "cell_type": "code",
      "metadata": {
        "id": "1f9Rk9wAhCFQ"
      },
      "source": [
        "from datetime import datetime\n",
        "\n",
        "TIMESTAMP = datetime.now().strftime(\"%Y%m%d%H%M%S\")"
      ],
      "execution_count": null,
      "outputs": []
    },
    {
      "cell_type": "markdown",
      "metadata": {
        "id": "dr--iN2kAylZ"
      },
      "source": [
        "### Authenticate your GCP account\n",
        "\n",
        "**If you are using AI Platform Notebooks**, your environment is already\n",
        "authenticated. Skip this step."
      ]
    },
    {
      "cell_type": "code",
      "metadata": {
        "id": "aOaxBtCZhCFR"
      },
      "source": [
        "import os\n",
        "import sys\n",
        "\n",
        "# If you are running this notebook in Colab, run this cell and follow the\n",
        "# instructions to authenticate your Google Cloud account. This provides access\n",
        "# to your Cloud Storage bucket and lets you submit training jobs and prediction\n",
        "# requests.\n",
        "\n",
        "# If on AI Platform, then don't execute this code\n",
        "if not os.path.exists('/opt/deeplearning/metadata/env_version'):\n",
        "    if 'google.colab' in sys.modules:\n",
        "        from google.colab import auth as google_auth\n",
        "        google_auth.authenticate_user()\n",
        "\n",
        "    # If you are running this tutorial in a notebook locally, replace the string\n",
        "    # below with the path to your service account key and run this cell to\n",
        "    # authenticate your Google Cloud account.\n",
        "    else:\n",
        "        %env GOOGLE_APPLICATION_CREDENTIALS your_path_to_credentials.json"
      ],
      "execution_count": null,
      "outputs": []
    },
    {
      "cell_type": "markdown",
      "metadata": {
        "id": "zgPO1eR3CYjk"
      },
      "source": [
        "### Create a Cloud Storage bucket\n",
        "\n",
        "**The following steps are required, regardless of your notebook environment.**\n",
        "\n",
        "When you submit a custom training job using the Cloud SDK, you upload a Python package\n",
        "containing your training code to a Cloud Storage bucket. AI Platform runs\n",
        "the code from this package. In this tutorial, AI Platform also saves the\n",
        "trained model that results from your job in the same bucket. You can then\n",
        "create an AI Platform endpoint based on this output in order to serve\n",
        "online predictions.\n",
        "\n",
        "Set the name of your Cloud Storage bucket below. It must be unique across all\n",
        "Cloud Storage buckets. "
      ]
    },
    {
      "cell_type": "code",
      "metadata": {
        "id": "MzGDU7TWdts_"
      },
      "source": [
        "BUCKET_NAME = \"[your-bucket-name]\" #@param {type:\"string\"}"
      ],
      "execution_count": null,
      "outputs": []
    },
    {
      "cell_type": "code",
      "metadata": {
        "id": "UwspyrtShCFR"
      },
      "source": [
        "if BUCKET_NAME == \"\" or BUCKET_NAME is None or BUCKET_NAME == \"[your-bucket-name]\":\n",
        "    BUCKET_NAME = PROJECT_ID + \"ucaip-custom-\" + TIMESTAMP"
      ],
      "execution_count": null,
      "outputs": []
    },
    {
      "cell_type": "markdown",
      "metadata": {
        "id": "-EcIXiGsCePi"
      },
      "source": [
        "**Only if your bucket doesn't already exist**: Run the following cell to create your Cloud Storage bucket."
      ]
    },
    {
      "cell_type": "code",
      "metadata": {
        "id": "NIq7R4HZCfIc"
      },
      "source": [
        "! gsutil mb -l $REGION gs://$BUCKET_NAME"
      ],
      "execution_count": null,
      "outputs": []
    },
    {
      "cell_type": "markdown",
      "metadata": {
        "id": "ucvCsknMCims"
      },
      "source": [
        "Finally, validate access to your Cloud Storage bucket by examining its contents:"
      ]
    },
    {
      "cell_type": "code",
      "metadata": {
        "id": "vhOb7YnwClBb"
      },
      "source": [
        "! gsutil ls -al gs://$BUCKET_NAME"
      ],
      "execution_count": null,
      "outputs": []
    },
    {
      "cell_type": "markdown",
      "metadata": {
        "id": "XoEqT2Y4DJmf"
      },
      "source": [
        "### Import libraries and define constants"
      ]
    },
    {
      "cell_type": "markdown",
      "metadata": {
        "id": "Y9Uo3tifg1kx"
      },
      "source": [
        "#### Import AI Platform (Unified) SDK\n",
        "\n",
        "Import the AI Platform (Unified) SDK into your Python environment."
      ]
    },
    {
      "cell_type": "code",
      "metadata": {
        "id": "pRUOFELefqf1"
      },
      "source": [
        "import os\n",
        "import sys\n",
        "import time\n",
        "from google.protobuf import json_format\n",
        "from google.protobuf.struct_pb2 import Value\n",
        "\n",
        "from google.cloud.aiplatform import gapic as aip"
      ],
      "execution_count": null,
      "outputs": []
    },
    {
      "cell_type": "markdown",
      "metadata": {
        "id": "v6Ana-gLhCFT"
      },
      "source": [
        "#### AI Platform (Unified) constants\n",
        "\n",
        "Let's now setup some constants for AI Platform (Unified):\n",
        "\n",
        "- `API_ENDPOINT`: The AI Platform (Unified) API service endpoint for dataset, model, job, pipeline and endpoint services.\n",
        "- `API_PREDICT_ENDPOINT`: The AI Platform (Unified) API service endpoint for prediction.\n",
        "- `PARENT`: The AI Platform (Unified) location root path for dataset, model and endpoint resources."
      ]
    },
    {
      "cell_type": "code",
      "metadata": {
        "id": "Wez3giQwhCFT"
      },
      "source": [
        "# API Endpoint\n",
        "API_ENDPOINT = \"{}-aiplatform.googleapis.com\".format(REGION)\n",
        "API_PREDICT_ENDPOINT = \"{}-prediction-aiplatform.googleapis.com\".format(REGION)\n",
        "\n",
        "# AI Platform (Unified) location root path for your dataset, model and endpoint resources\n",
        "PARENT = \"projects/\" + PROJECT_ID + \"/locations/\" + REGION"
      ],
      "execution_count": null,
      "outputs": []
    },
    {
      "cell_type": "markdown",
      "metadata": {
        "id": "oND9jTXbhCFU"
      },
      "source": [
        "#### Hardware Accelerators\n",
        "\n",
        "Let's now set the hardware accelerators (e.g., GPU), if any, for training and prediction.\n",
        "\n",
        "Set the variables `TRAIN_GPU/TRAIN_NGPU` and `DEPLOY_GPU/DEPLOY_NGPU` to use a container image supporting a GPU and the number of GPUs allocated to the compute instance. For example, to use a GPU container image with 4 Nvidia Telsa K80 GPUs allocated to each compute instance, you would specify:\n",
        "\n",
        "    (aip.AcceleratorType.NVIDIA_TESLA_K80, 4)\n",
        "\n",
        "For GPU, available accelerators include:\n",
        "   - aip.AcceleratorType.NVIDIA_TESLA_K80\n",
        "   - aip.AcceleratorType.NVIDIA_TESLA_P100\n",
        "   - aip.AcceleratorType.NVIDIA_TESLA_P4\n",
        "   - aip.AcceleratorType.NVIDIA_TESLA_T4\n",
        "   - aip.AcceleratorType.NVIDIA_TESLA_V100\n",
        "\n",
        "   \n",
        "Otherwise specify `(None, None)` for the container image for a CPU.\n",
        "   \n",
        "*Note*: TF releases before 2.3 for GPU support will fail to load the custom model in this tutorial. It is a known issue and fixed in TF 2.3 -- which is caused by static graph ops that are generated in the serving function. If you encounter this issue on your own custom models, the workaround is to create your own docker container image for TF 2.3 with GPU support."
      ]
    },
    {
      "cell_type": "code",
      "metadata": {
        "id": "OH0g3K_ZhCFU"
      },
      "source": [
        "TRAIN_GPU, TRAIN_NGPU = (aip.AcceleratorType.NVIDIA_TESLA_K80, 1)\n",
        "DEPLOY_GPU, DEPLOY_NGPU = (None, None)"
      ],
      "execution_count": null,
      "outputs": []
    },
    {
      "cell_type": "markdown",
      "metadata": {
        "id": "pjJLD4DchCFU"
      },
      "source": [
        "#### Container (Docker) image\n",
        "\n",
        "Next, we will set the docker container images for training and prediction.\n",
        "\n",
        "- Set the variable `TF` to the Tensorflow version of the container image. For example, `2-1` would be version 2.1, and `1-15` would be version 1.15. Google Cloud continuously adds prebuilt training and prediction container images, below are some of the prebuilt images available:\n",
        "\n",
        " - Tensorflow 1.15\n",
        "   - `gcr.io/cloud-aiplatform/training/tf-cpu.1-15:latest`\n",
        "   - `gcr.io/cloud-aiplatform/training/tf-gpu.1-15:latest`\n",
        "   - `gcr.io/cloud-aiplatform/prediction/tf-cpu.1-15:latest`\n",
        "   - `gcr.io/cloud-aiplatform/prediction/tf-gpu.1-15:latest`\n",
        " - Tensorflow 2.1\n",
        "   - `gcr.io/cloud-aiplatform/training/tf-cpu.2-1:latest`\n",
        "   - `gcr.io/cloud-aiplatform/training/tf-gpu.2-1:latest`\n",
        "   - `gcr.io/cloud-aiplatform/prediction/tf2-cpu.2-1:latest`\n",
        "   - `gcr.io/cloud-aiplatform/prediction/tf2-gpu.2-1:latest`\n",
        " - Tensorflow 2.2\n",
        "   - `gcr.io/cloud-aiplatform/training/tf-cpu.2-2:latest`\n",
        "   - `gcr.io/cloud-aiplatform/training/tf-gpu.2-2:latest`\n",
        "   - `gcr.io/cloud-aiplatform/prediction/tf2-cpu.2-2:latest`\n",
        "   - `gcr.io/cloud-aiplatform/prediction/tf2-gpu.2-2:latest`\n",
        " - XGBoost\n",
        "   - `gcr.io/cloud-aiplatform/training/xgboost-cpu.1-1`\n",
        "   - `gcr.io/cloud-aiplatform/prediction/xgboost-cpu.1-1`\n",
        " - Scikit-learn\n",
        "   - `gcr.io/cloud-aiplatform/training/scikit-learn-cpu.0-23`\n",
        "   - `gcr.io/cloud-aiplatform/prediction/scikit-learn-cpu.0-23`\n",
        " - Pytorch\n",
        "   - `gcr.io/cloud-aiplatform/training/pytorch-cpu.1-4:latest`\n",
        "   - `gcr.io/cloud-aiplatform/training/pytorch-gpu.1-4:latest`\n",
        "   \n",
        "Google Cloud AI continously adds new training and prediction container images. For the lastest list, see [Pre-built containers for training](https://cloud.google.com/ai-platform-unified/docs/training/pre-built-containers) and [Pre-built containers for prediction](https://cloud.google.com/ai-platform-unified/docs/predictions/pre-built-containers)"
      ]
    },
    {
      "cell_type": "code",
      "metadata": {
        "id": "jeTs_OEqhCFU"
      },
      "source": [
        "TF = '2-1'\n",
        "if TF[0] == '2':\n",
        "    if TRAIN_GPU:\n",
        "        TRAIN_VERSION = 'tf-gpu.{}'.format(TF)\n",
        "    else:\n",
        "        TRAIN_VERSION = 'tf-cpu.{}'.format(TF)\n",
        "    if DEPLOY_GPU:\n",
        "        DEPLOY_VERSION = 'tf2-gpu.{}'.format(TF)\n",
        "    else:\n",
        "        DEPLOY_VERSION = 'tf2-cpu.{}'.format(TF)\n",
        "else:\n",
        "    if TRAIN_GPU:\n",
        "        TRAIN_VERSION = 'tf-gpu.{}'.format(TF)\n",
        "    else:\n",
        "        TRAIN_VERSION = 'tf-cpu.{}'.format(TF)\n",
        "    if DEPLOY_GPU:\n",
        "        DEPLOY_VERSION = 'tf-gpu.{}'.format(TF)\n",
        "    else:\n",
        "        DEPLOY_VERSION = 'tf-cpu.{}'.format(TF)\n",
        "\n",
        "TRAIN_IMAGE  = \"gcr.io/cloud-aiplatform/training/{}:latest\".format(TRAIN_VERSION)\n",
        "DEPLOY_IMAGE = \"gcr.io/cloud-aiplatform/prediction/{}:latest\".format(DEPLOY_VERSION)\n",
        "\n",
        "print(\"Training:\", TRAIN_IMAGE, TRAIN_GPU, TRAIN_NGPU)\n",
        "print(\"Deployment:\", DEPLOY_IMAGE, DEPLOY_GPU, DEPLOY_NGPU)"
      ],
      "execution_count": null,
      "outputs": []
    },
    {
      "cell_type": "markdown",
      "metadata": {
        "id": "fa0ZZrtohCFV"
      },
      "source": [
        "#### Machine Type\n",
        "\n",
        "Next, you will set the machine type (compute instance) you will use for training and prediction.\n",
        "\n",
        "- Set the variables `TRAIN_COMPUTE` and `DEPLOY_COMPUTE` to the compute instance you will use for training and prediction.\n",
        " - `machine type`\n",
        "     - `n1-standard`: 3.75GB of memory per vCPU.\n",
        "     - `n1-highmem`: 6.5GB of memory per vCPU\n",
        "     - `n1-highcpu`: 0.9 GB of memory per vCPU\n",
        " - `vCPUs`: number of \\[2, 4, 8, 16, 32, 64, 96 \\]\n",
        "  \n",
        "*Note: The following is not supported for training*\n",
        " \n",
        " - `standard`: 2 vCPUs\n",
        " - `highcpu`: 2, 4 and 8 vCPUs\n",
        " \n",
        "*Note: You may also use n2 and e2 machine types for training and deployment, but they do not support GPUs*"
      ]
    },
    {
      "cell_type": "code",
      "metadata": {
        "id": "Xxdoa_YqhCFV"
      },
      "source": [
        "MACHINE_TYPE = 'n1-standard'\n",
        "VCPU = '4'\n",
        "TRAIN_COMPUTE = MACHINE_TYPE + '-' + VCPU\n",
        "print('Train Compute Instance', TRAIN_COMPUTE)\n",
        "\n",
        "MACHINE_TYPE = 'n1-standard'\n",
        "VCPU = '4'\n",
        "DEPLOY_COMPUTE = MACHINE_TYPE + '-' + VCPU\n",
        "print('Deploy Compute Instance', DEPLOY_COMPUTE)"
      ],
      "execution_count": null,
      "outputs": []
    },
    {
      "cell_type": "markdown",
      "metadata": {
        "id": "E6ppE7imft-y"
      },
      "source": [
        "# Tutorial\n",
        "\n",
        "Now you are ready to start creating your own custom model and training for CIFAR10.\n",
        "\n",
        "## Clients\n",
        "\n",
        "The AI Platform (Unified) SDK works as a client/server model. On your side, the Python script, you will create a client that sends requests and receives responses from the server -- AI Platform.\n",
        "\n",
        "Use several clients in this tutorial, so you will set them all up upfront.\n",
        "\n",
        "- Job Service for custom jobs.\n",
        "- Model Service for managed models.\n",
        "- Endpoint Service for deployment.\n",
        "- Prediction Service for serving. *Note*, prediction has a different service endpoint."
      ]
    },
    {
      "cell_type": "code",
      "metadata": {
        "id": "sI6TtutBhCFV"
      },
      "source": [
        "# client options same for all services\n",
        "client_options = {\"api_endpoint\": API_ENDPOINT}\n",
        "predict_client_options = {\"api_endpoint\": API_PREDICT_ENDPOINT}\n",
        "\n",
        "\n",
        "def create_job_client():\n",
        "    client = aip.JobServiceClient(\n",
        "        client_options=client_options\n",
        "    )\n",
        "    return client\n",
        "\n",
        "\n",
        "def create_model_client():\n",
        "    client = aip.ModelServiceClient(\n",
        "        client_options=client_options\n",
        "    )\n",
        "    return client\n",
        "\n",
        "\n",
        "def create_endpoint_client():\n",
        "    client = aip.EndpointServiceClient(\n",
        "        client_options=client_options\n",
        "    )\n",
        "    return client\n",
        "\n",
        "\n",
        "def create_prediction_client():\n",
        "    client = aip.PredictionServiceClient(\n",
        "        client_options=predict_client_options\n",
        "    )\n",
        "    return client\n",
        "\n",
        "\n",
        "clients = {}\n",
        "clients['job'] = create_job_client()\n",
        "clients['model'] = create_model_client()\n",
        "clients['endpoint'] = create_endpoint_client()\n",
        "clients['prediction'] = create_prediction_client()\n",
        "\n",
        "for client in clients.items():\n",
        "    print(client)"
      ],
      "execution_count": null,
      "outputs": []
    },
    {
      "cell_type": "markdown",
      "metadata": {
        "id": "Nqr_wVvUhCFW"
      },
      "source": [
        "## Prepare your custom job specification\n",
        "\n",
        "Now that your clients are ready, your first step is to create a Job Specification for your custom training job.\n",
        "\n",
        "You are going to start with training what we can call an **empty job**. That is, you will create a job specification that provisions resources for training a job, and initiate the job using the client job service -- but the job itself will be empty (i.e., no model is being trained). \n",
        "\n",
        "We do this so you can first focus on understanding the basic steps. Afterwards, you will repeat again with a focus on adding the Python training package for training a CIFAR10 custom model.\n",
        "\n",
        "### Define a container specification\n",
        "\n",
        "Let's first start by defining a job name and then a container specification:\n",
        "\n",
        "- `JOB_NAME`: A unique name for your custom training job. For convenience, we appended the name with the current datetime to make the name unique.\n",
        "- `MODEL_DIR`: A location in your Cloud Storage bucket for storing the model artificats.\n",
        "- `image_uri`: The location of the container image in your local Cloud Storage bucket. This can be either Google Cloud prebuilt image or your own container.\n",
        "- `--model-dir`: A command line parameter to the container indicating the location to store the model."
      ]
    },
    {
      "cell_type": "code",
      "metadata": {
        "id": "g-xogX3qhCFW"
      },
      "source": [
        "JOB_NAME = \"custom_job_\" + TIMESTAMP\n",
        "MODEL_DIR = 'gs://{}/{}'.format(BUCKET_NAME, JOB_NAME)\n",
        "CONTAINER_SPEC = {\n",
        "    \"image_uri\": TRAIN_IMAGE, \n",
        "    \"args\": [\n",
        "        \"--model-dir=\" + MODEL_DIR\n",
        "    ],\n",
        "}"
      ],
      "execution_count": null,
      "outputs": []
    },
    {
      "cell_type": "markdown",
      "metadata": {
        "id": "2ZiEBD1VhCFW"
      },
      "source": [
        "### Define the worker pool specification\n",
        "\n",
        "\n",
        "Next, you define the worker pool specification for your custom training job. This tells AI Platform what type and how many instances of machines to provision for the training.\n",
        "\n",
        "For this tutorial, you will use a single instance (node). \n",
        "\n",
        "- `replica_count`: The number of instances to provision of this machine type.\n",
        "- `machine_type`: The type of GCP instance to provision -- e.g., n1-standard-8.\n",
        "- `accelerator_type`: The type, if any, of hardware accelerator. In this tutorial if you previously set the variable `TRAIN_GPU != None`, you are using a GPU; otherwise you will use a CPU. \n",
        "- `accelerator_count`: The number of accelerators.\n",
        "- `container_spec`: The docker container to install on the instance(s)."
      ]
    },
    {
      "cell_type": "code",
      "metadata": {
        "id": "KN-HmO1MhCFW"
      },
      "source": [
        "if TRAIN_GPU:\n",
        "    machine_spec = {\n",
        "        \"machine_type\": TRAIN_COMPUTE,\n",
        "        \"accelerator_type\": TRAIN_GPU,\n",
        "        \"accelerator_count\": TRAIN_NGPU\n",
        "    }\n",
        "else:\n",
        "    machine_spec = {\n",
        "        \"machine_type\": TRAIN_COMPUTE,\n",
        "        \"accelerator_count\": 0\n",
        "    }\n",
        "\n",
        "WORKER_POOL_SPEC = [\n",
        "    {\n",
        "        \"replica_count\": 1,\n",
        "        \"machine_spec\": machine_spec,\n",
        "        \"container_spec\": CONTAINER_SPEC,\n",
        "    }\n",
        "]"
      ],
      "execution_count": null,
      "outputs": []
    },
    {
      "cell_type": "markdown",
      "metadata": {
        "id": "Na_AW9E_hCFX"
      },
      "source": [
        "If you were doing distributed training, you would add a second machine description and set the replica count accordingly. In the example below, the first machine descrption is the primary (coordinator), and the second ones are the machines the training is distributed to.\n",
        "\n",
        "```\n",
        "WORKER_POOL_SPEC=[\n",
        "     {\n",
        "        \"replica_count\": 1,\n",
        "        \"machine_spec\": {\n",
        "          \"machine_type\": \"n1-standard-8\"\n",
        "        },\n",
        "        \"container_spec\":  CONTAINER_SPEC,\n",
        "      },\n",
        "      {\n",
        "        \"replica_count\": 6,\n",
        "        \"machine_spec\": {\n",
        "          \"machine_type\": \"n1-standard-8\"\n",
        "        },\n",
        "        \"container_spec\": CONTAINER_SPEC\n",
        "      }\n",
        "]\n",
        "```"
      ]
    },
    {
      "cell_type": "markdown",
      "metadata": {
        "id": "s1ueypghhCFX"
      },
      "source": [
        "### Assemble the job specification\n",
        "\n",
        "Let's now assemble the description for the custom job specification.\n",
        "\n",
        "- `display_name`: The human readable name you assign to this custom job.\n",
        "- `job_spec`: The specification for the custom job. Since this is an empty job, you only specified the resource requirements."
      ]
    },
    {
      "cell_type": "code",
      "metadata": {
        "id": "h2wqYKH0hCFX"
      },
      "source": [
        "CUSTOM_JOB = {\n",
        "    \"display_name\": JOB_NAME,\n",
        "    \"job_spec\": {\n",
        "        \"worker_pool_specs\": WORKER_POOL_SPEC\n",
        "    }\n",
        "}"
      ],
      "execution_count": null,
      "outputs": []
    },
    {
      "cell_type": "markdown",
      "metadata": {
        "id": "zkjU_nebhCFX"
      },
      "source": [
        "## Train the model\n",
        "\n",
        "Let's now start the training of your custom training job on AI Platform. Use this helper function `create_custom_job`, which takes the parameter:\n",
        "\n",
        "-`custom_job`: The specification for the custom job.\n",
        "\n",
        "The helper function uses the job client service and calls the method `create_custom_job`, with the parameters:\n",
        "\n",
        "-`parent`: The AI Platform (Unified) location path to dataset, model and endpoint resources.\n",
        "-`custom_job`: The specification for the custom job.\n",
        "\n",
        "You will display a handful of the fields returned in `response` object, with the two that are of most interest are:\n",
        "\n",
        "`response.name`: The AI Platform (Unified) fully qualified identifier assigned to this custom job. We will save this identifier for using in subsequent steps.\n",
        "\n",
        "`response.state`: The current state of the custom job. "
      ]
    },
    {
      "cell_type": "code",
      "metadata": {
        "id": "8skQZb4JhCFX"
      },
      "source": [
        "def create_custom_job(custom_job):\n",
        "    response = clients['job'].create_custom_job(parent=PARENT, custom_job=CUSTOM_JOB)\n",
        "    print(\"name:\", response.name)\n",
        "    print(\"display_name:\", response.display_name)\n",
        "    print(\"state:\", response.state)\n",
        "    print(\"create_time:\", response.create_time)\n",
        "    print(\"update_time:\", response.update_time)\n",
        "    return response.name\n",
        "\n",
        "\n",
        "# Save the job name\n",
        "JOB_ID = create_custom_job(CUSTOM_JOB)"
      ],
      "execution_count": null,
      "outputs": []
    },
    {
      "cell_type": "markdown",
      "metadata": {
        "id": "R8rMDPwhhCFY"
      },
      "source": [
        "### List all custom jobs\n",
        "\n",
        "Now that your custom job is running, let's get a list for all your custom jobs -- specific to your `PROJECT_ID`. This will probably be just one job, unless you've been running this tutorial multiple times or otherwise been using the AI Platform (Unified) job service.\n",
        "\n",
        "Use the helper function `list_custom_jobs`, which uses the job client service and calls the method `list_custom_jobs`. The response object is a list, where each element in the list is a separate job.  \n",
        "\n",
        "The `response` object for each custom job contains:\n",
        "\n",
        "- `name`: The AI Platform (Unified) fully qualified identifier for your custom training job.\n",
        "- `display_name`: The human readable name you assigned to your custom training job.\n",
        "- `job_spec`: The job specification you provided for your custom training job.\n",
        "- `state`: The current status of the custom job:\n",
        "- `start_time`: When the custom training job was created.\n",
        "- `end_time`: When the execution of the custom job ended.\n",
        "- `update_time`: When the last time there was a status update to the custom job."
      ]
    },
    {
      "cell_type": "code",
      "metadata": {
        "id": "Y-SnafkchCFY"
      },
      "source": [
        "def list_custom_jobs():\n",
        "    response = clients['job'].list_custom_jobs(parent=PARENT)\n",
        "    for job in response:\n",
        "        print(response)\n",
        "\n",
        "\n",
        "list_custom_jobs()"
      ],
      "execution_count": null,
      "outputs": []
    },
    {
      "cell_type": "markdown",
      "metadata": {
        "id": "es9wPhLYhCFY"
      },
      "source": [
        "### Get information on a custom job\n",
        "\n",
        "Next, use this helper function `get_custom_job`, which takes the parameter:\n",
        "\n",
        "- `name`: The AI Platform (Unified) fully qualified identifier for the custom job.\n",
        "\n",
        "The helper function uses the job client service to get the job information for just this job by calling the method `get_custom_job`, with the parameter:\n",
        "\n",
        "- `name`: The AI Platform (Unified) fully qualified identifier for the custom job.\n",
        "\n",
        "If you recall, you got the AI Platform (Unified) fully qualified identifier for the custom job in the `response.name` field when you called the `create_custom_job` method, and saved the identifier in the variable `JOB_ID`."
      ]
    },
    {
      "cell_type": "code",
      "metadata": {
        "id": "IkvbhmrxhCFY"
      },
      "source": [
        "def get_custom_job(name, silent=False):\n",
        "    response = clients['job'].get_custom_job(name=name)\n",
        "    if silent:\n",
        "        return response\n",
        "\n",
        "    print(\"name:\", response.name)\n",
        "    print(\"display_name:\", response.display_name)\n",
        "    print(\"state:\", response.state)\n",
        "    print(\"create_time:\", response.create_time)\n",
        "    print(\"update_time:\", response.update_time)\n",
        "    return response\n",
        "\n",
        "\n",
        "get_custom_job(JOB_ID)"
      ],
      "execution_count": null,
      "outputs": []
    },
    {
      "cell_type": "markdown",
      "metadata": {
        "id": "mssOXxr8hCFY"
      },
      "source": [
        "### View logs\n",
        "\n",
        "In addition to the aforementioned state information on the job information, you could also look at logs associated with the custom job.\n",
        "\n",
        "#### View logs on AI Platform Console\n",
        "\n",
        "Let's first look at logs generated for AI Platform Console. The cell below will display a link. Paste the link in the address bar of another tab in your browser. It will display information about your job."
      ]
    },
    {
      "cell_type": "code",
      "metadata": {
        "id": "gldWULqWhCFZ"
      },
      "source": [
        "print('https://console.cloud.google.com/ai/platform/locations/{region}/training/{job_id}?project={project_id}'.format(\n",
        "    region=REGION, job_id=JOB_ID.split('/')[-1],\n",
        "    project_id=PROJECT_ID))"
      ],
      "execution_count": null,
      "outputs": []
    },
    {
      "cell_type": "markdown",
      "metadata": {
        "id": "3XE0XL3shCFZ"
      },
      "source": [
        "#### View logs on Cloud Logging\n",
        "\n",
        "Next, let's look at logs generated for Cloud Logging. The cell below will display a link. Paste the link in the address bar of another tab in your browser. It will display logs for your job."
      ]
    },
    {
      "cell_type": "code",
      "metadata": {
        "id": "yBaOMO8WhCFZ"
      },
      "source": [
        "print('https://console.cloud.google.com/logs/viewer?resource=ml_job%2Fjob_id%2F{job_id}&project={project_id}'.format(\n",
        "    job_id=JOB_ID.split('/')[-1], project_id=PROJECT_ID))"
      ],
      "execution_count": null,
      "outputs": []
    },
    {
      "cell_type": "markdown",
      "metadata": {
        "id": "mAEOIX9xhCFZ"
      },
      "source": [
        "### Cancel a custom job\n",
        "\n",
        "Next, we will show you how to cancel a custom training job. You will go ahead and cancel your \"empty\" training job. Use this helper function `cancel_job`, with the parameter:\n",
        "\n",
        "- `name`: The AI Platform (Unified) fully qualified identifier for your custom training job.\n",
        "\n",
        "The helper function will use the job service client and call the method `cancel_custom_job`, with the parameter:\n",
        "\n",
        "- `name`: The AI Platform (Unified) fully qualified identifier for your custom training job.\n",
        "\n",
        "We put a try/except around the call since it will throw an exception if the job is already completed (succeeded) -- which most likely it is."
      ]
    },
    {
      "cell_type": "code",
      "metadata": {
        "id": "VztxCaPQhCFZ"
      },
      "source": [
        "def cancel_job(name):\n",
        "    try:\n",
        "        response = clients['job'].cancel_custom_job(name=name)\n",
        "        print(response)\n",
        "    except Exception as e:\n",
        "        print(e)\n",
        "\n",
        "\n",
        "time.sleep(10)\n",
        "cancel_job(JOB_ID)"
      ],
      "execution_count": null,
      "outputs": []
    },
    {
      "cell_type": "markdown",
      "metadata": {
        "id": "sSHd--qihCFa"
      },
      "source": [
        "### Delete a custom job\n",
        "\n",
        "Next, we will show you how to delete a custom training job. You will go ahead and delete your \"empty\" training job. Use the helper function `delete_job`, with the parameter:\n",
        "\n",
        "- `name`: The AI Platform (Unified) fully qualified identifier for your custom training job.\n",
        "\n",
        "The helper function will use the job service client and call the method `delete_custom_job`, with the parameter:\n",
        "\n",
        "- `name`: The AI Platform (Unified) fully qualified identifier for your custom training job.\n",
        "\n",
        "Afterwards, you will verify that the job has been deleted by calling the method `get_custom_job` for the same job. We put a try/except around the call since it will throw an exception if the job is already deleted -- which most likely it is."
      ]
    },
    {
      "cell_type": "code",
      "metadata": {
        "id": "7n8l9kb_hCFa"
      },
      "source": [
        "def delete_job(name):\n",
        "    try:\n",
        "        response = clients['job'].delete_custom_job(name=name)\n",
        "        print(\"Delete\", response)\n",
        "    except Exception as e:\n",
        "        print(e)\n",
        "\n",
        "    try:\n",
        "        response = clients['job'].get_custom_job(name=name)\n",
        "    except Exception as e:\n",
        "        print(e)\n",
        "\n",
        "\n",
        "time.sleep(10)\n",
        "delete_job(JOB_ID)"
      ],
      "execution_count": null,
      "outputs": []
    },
    {
      "cell_type": "markdown",
      "metadata": {
        "id": "4azTeu9nhCFa"
      },
      "source": [
        "## Train a model - CIFAR10\n",
        "\n",
        "Now that you have seen the basic steps for custom training, you will do a new custom job to train a model. There are two ways you can train a custom model using a container image:\n",
        "\n",
        "- **Use a Google Cloud prebuilt container**. If you use a prebuilt container, you will additionally specify a Python package to install into the container image. This Python package contains your code for training a custom model.\n",
        "\n",
        "- **Use your own custom container image**. If you use your own container, the container needs to contain your code for training a custom model.\n",
        "\n",
        "\n",
        "In this tutorial, you will train a CIFAR10 model using a Google Cloud prebuilt container. You need to update the worker pool specification by adding a description for `python_package_spec`. This section will tell the custom job the Python training package to install and which Python module to invoke, along with command line arguments for the Python module.\n",
        "\n",
        "Let's dive deeper now into the python package specification:\n",
        "\n",
        "-`executor_image_spec`: This is the docker image which is configured for your custom training job. You will continue to use the same one we used earlier for demonstration.\n",
        "\n",
        "-`package_uris`: This is a list of the locations (URIs) of your python training packages to install on the provisioned instance. The locations need to be in a Cloud Storage bucket. These can be either individual python files or a zip (archive) of an entire package. In the later case, the job service will unzip (unarchive) the contents into the docker image.\n",
        "\n",
        "-`python_module`: The python module (script) to invoke for running the custom training job. In this example, you will be invoking `trainer.task.py` -- note that it was not neccessary to append the `.py` suffix.\n",
        "\n",
        "-`args`: The command line arguments to pass to the corresponding pythom module. In this example, you will be:\n",
        "  - `\"--model-dir=\" + MODEL_DIR` : The Cloud Storage location where to store the model artifacts. There are two ways to tell the training script where to save the model artifacts:\n",
        "      - direct: You pass the Cloud Storage location as a command line argument to your training script (set variable `DIRECT = True`), or\n",
        "      - indirect: The service passes the Cloud Storage location as the environment variable `AIP_MODEL_DIR` to your training script (set variable `DIRECT = False`). In this case, you tell the service the model artifact location in the job specification.\n",
        "  - `\"--epochs=\" + EPOCHS`: The number of epochs for training.\n",
        "  - `\"--steps=\" + STEPS`: The number of steps (batches) per epoch.\n",
        "  - `\"--distribute=\" + TRAIN_STRATEGY\"` : The training distribution strategy to use for single or distributed training.\n",
        "     - `\"single\"`: single device.\n",
        "     - `\"mirror\"`: all GPU devices on a single compute instance.\n",
        "     - `\"multi\"`: all GPU devices on all compute instances."
      ]
    },
    {
      "cell_type": "code",
      "metadata": {
        "id": "yEVAVhH7hCFa"
      },
      "source": [
        "if TRAIN_GPU:\n",
        "    machine_spec = {\n",
        "        \"machine_type\": TRAIN_COMPUTE,\n",
        "        \"accelerator_type\": TRAIN_GPU,\n",
        "        \"accelerator_count\": TRAIN_NGPU\n",
        "    }\n",
        "else:\n",
        "    machine_spec = {\n",
        "        \"machine_type\": TRAIN_COMPUTE,\n",
        "        \"accelerator_count\": 0\n",
        "    }\n",
        "    \n",
        "if not TRAIN_NGPU or TRAIN_NGPU < 2:\n",
        "    TRAIN_STRATEGY = \"single\"\n",
        "else:\n",
        "    TRAIN_STRATEGY = \"mirror\"\n",
        "    \n",
        "EPOCHS = 20\n",
        "STEPS = 100\n",
        "\n",
        "DIRECT = True\n",
        "if DIRECT:\n",
        "    CMDARGS = [\n",
        "                \"--model-dir=\" + MODEL_DIR,\n",
        "                \"--epochs=\" + str(EPOCHS),\n",
        "                \"--steps=\" + str(STEPS),\n",
        "                \"--distribute=\" + TRAIN_STRATEGY\n",
        "              ]\n",
        "else:\n",
        "    CMDARGS = [\n",
        "                \"--epochs=\" + str(EPOCHS),\n",
        "                \"--steps=\" + str(STEPS),\n",
        "                \"--distribute=\" + TRAIN_STRATEGY\n",
        "              ]\n",
        "\n",
        "\n",
        "WORKER_POOL_SPEC = [\n",
        "    {\n",
        "        \"replica_count\": 1,\n",
        "        \"machine_spec\": machine_spec,\n",
        "        \"python_package_spec\": {\n",
        "            \"executor_image_uri\": TRAIN_IMAGE,\n",
        "            \"package_uris\": [\"gs://\" + BUCKET_NAME + \"/trainer_cifar.tar.gz\"],\n",
        "            \"python_module\": \"trainer.task\",\n",
        "            \"args\": CMDARGS,\n",
        "        }\n",
        "    }\n",
        "]"
      ],
      "execution_count": null,
      "outputs": []
    },
    {
      "cell_type": "markdown",
      "metadata": {
        "id": "DNc79jrshCFa"
      },
      "source": [
        "### Assemble a job specification\n",
        "\n",
        "Let's now assemble the description for the custom job specification:\n",
        "\n",
        "- `display_name`: The human readable name you assign to this custom job.\n",
        "- `job_spec`: The specification for the custom job. \n",
        "    - `base_output_directory`: This tells the service the Cloud Storage location where to save the model artifacts (when variable `DIRECT = False`). The service will then pass the location to the training script as the environment variable `AIP_MODEL_DIR`, and the path will be of the form:\n",
        "    \n",
        "                <output_uri_prefix>/model"
      ]
    },
    {
      "cell_type": "code",
      "metadata": {
        "id": "Y11vidsihCFb"
      },
      "source": [
        "if DIRECT:\n",
        "    JOB_SPEC = {\n",
        "        \"worker_pool_specs\": WORKER_POOL_SPEC\n",
        "    }\n",
        "else:\n",
        "    JOB_SPEC = {\n",
        "        \"worker_pool_specs\": WORKER_POOL_SPEC,\n",
        "        \"base_output_directory\": {\"output_uri_prefix\": MODEL_DIR}\n",
        "    }\n",
        "        \n",
        "CUSTOM_JOB = {\n",
        "    \"display_name\": JOB_NAME,\n",
        "    \"job_spec\": JOB_SPEC\n",
        "}"
      ],
      "execution_count": null,
      "outputs": []
    },
    {
      "cell_type": "markdown",
      "metadata": {
        "id": "b-k1tQyZhCFb"
      },
      "source": [
        "### Examine the training package\n",
        "\n",
        "#### Package layout\n",
        "\n",
        "Before you start the training, let's look at how a Python package is assembled for a custom training job. When unarchived, the package contains the following directory/file layout.\n",
        "\n",
        "- PKG-INFO\n",
        "- README.md\n",
        "- setup.cfg\n",
        "- setup.py\n",
        "- trainer\n",
        "  - \\_\\_init\\_\\_.py\n",
        "  - task.py\n",
        "\n",
        "The files `setup.cfg` and `setup.py` are the instructions for installing the package into the operating environment of the docker image.\n",
        "\n",
        "The file `trainer/task.py` is the python script for executing the custom job. *Note*, when we referred to it in the worker pool specification, we replace the directory slash with a dot (`trainer.task`) and dropped the file suffix (`.py`)."
      ]
    },
    {
      "cell_type": "markdown",
      "metadata": {
        "id": "GjFkELrQhCFb"
      },
      "source": [
        "#### Package Assembly\n",
        "\n",
        "In the following cells, you will assemble the training package."
      ]
    },
    {
      "cell_type": "code",
      "metadata": {
        "id": "xmfytX4xhCFb"
      },
      "source": [
        "# Make folder for python training script\n",
        "! rm -rf custom\n",
        "! mkdir custom\n",
        "\n",
        "# Add package information\n",
        "! touch custom/README.md\n",
        "\n",
        "setup_cfg = \"[egg_info]\\n\\\n",
        "tag_build =\\n\\\n",
        "tag_date = 0\"\n",
        "! echo \"$setup_cfg\" > custom/setup.cfg\n",
        "\n",
        "setup_py = \"import setuptools\\n\\\n",
        "# Requires TensorFlow Datasets\\n\\\n",
        "setuptools.setup(\\n\\\n",
        "    install_requires=[\\n\\\n",
        "        'tensorflow_datasets==1.3.0',\\n\\\n",
        "    ],\\n\\\n",
        "    packages=setuptools.find_packages())\" \n",
        "! echo \"$setup_py\" > custom/setup.py\n",
        "\n",
        "pkg_info = \"Metadata-Version: 1.0\\n\\\n",
        "Name: UNKNOWN\\n\\\n",
        "Version: 0.0.0\\n\\\n",
        "Summary: Demostration training script\\n\\\n",
        "Home-page: www.google.com\\n\\\n",
        "Author: Google\\n\\\n",
        "Author-email: UNKNOWN\\n\\\n",
        "License: Public\\n\\\n",
        "Description: Demo\\n\\\n",
        "Platform: AI Platform (Unified)\"\n",
        "! echo \"$pkg_info\" > custom/PKG-INFO\n",
        "\n",
        "# Make the training subfolder\n",
        "! mkdir custom/trainer\n",
        "! touch custom/trainer/__init__.py"
      ],
      "execution_count": null,
      "outputs": []
    },
    {
      "cell_type": "markdown",
      "metadata": {
        "id": "A8MhvMwphCFc"
      },
      "source": [
        "#### Task.py contents\n",
        "\n",
        "In the next cell, you will write the contents of the training script task.py. I won't go into detail, it's just there for you to browse. In summary:\n",
        "\n",
        "- Get the directory where to save the model artifacts from the command line (`--model_dir`), and if not specified, then from the environment variable `AIP_MODEL_DIR`.\n",
        "- Loads CIFAR10 dataset from TF Datasets (tfds).\n",
        "- Builds a simple ConvNet model using TF.Keras model API.\n",
        "- Compiles the model (`compile()`).\n",
        "- Sets a training distribution strategy according to the argument `args.distribute`.\n",
        "- Trains the model (`fit()`) with epochs and steps according to the arguments `args.epochs` and `args.steps`\n",
        "- Saves the trained model (`save(args.model_dir)`) to the specified model directory."
      ]
    },
    {
      "cell_type": "code",
      "metadata": {
        "id": "AWw8Ix0RhCFc"
      },
      "source": [
        "%%writefile custom/trainer/task.py\n",
        "# Single, Mirror and Multi-Machine Distributed Training for CIFAR-10\n",
        "\n",
        "import tensorflow_datasets as tfds\n",
        "import tensorflow as tf\n",
        "from tensorflow.python.client import device_lib\n",
        "import argparse\n",
        "import os\n",
        "import sys\n",
        "tfds.disable_progress_bar()\n",
        "\n",
        "parser = argparse.ArgumentParser()\n",
        "parser.add_argument('--model-dir', dest='model_dir',\n",
        "                    default=os.getenv('AIP_MODEL_DIR'), type=str, help='Model dir.')\n",
        "parser.add_argument('--lr', dest='lr',\n",
        "                    default=0.01, type=float,\n",
        "                    help='Learning rate.')\n",
        "parser.add_argument('--epochs', dest='epochs',\n",
        "                    default=10, type=int,\n",
        "                    help='Number of epochs.')\n",
        "parser.add_argument('--steps', dest='steps',\n",
        "                    default=200, type=int,\n",
        "                    help='Number of steps per epoch.')\n",
        "parser.add_argument('--distribute', dest='distribute', type=str, default='single',\n",
        "                    help='distributed training strategy')\n",
        "args = parser.parse_args()\n",
        "\n",
        "print('Python Version = {}'.format(sys.version))\n",
        "print('TensorFlow Version = {}'.format(tf.__version__))\n",
        "print('TF_CONFIG = {}'.format(os.environ.get('TF_CONFIG', 'Not found')))\n",
        "print('DEVICES', device_lib.list_local_devices())\n",
        "\n",
        "# Single Machine, single compute device\n",
        "if args.distribute == 'single':\n",
        "    if tf.test.is_gpu_available():\n",
        "        strategy = tf.distribute.OneDeviceStrategy(device=\"/gpu:0\")\n",
        "    else:\n",
        "        strategy = tf.distribute.OneDeviceStrategy(device=\"/cpu:0\")\n",
        "# Single Machine, multiple compute device\n",
        "elif args.distribute == 'mirror':\n",
        "    strategy = tf.distribute.MirroredStrategy()\n",
        "# Multiple Machine, multiple compute device\n",
        "elif args.distribute == 'multi':\n",
        "    strategy = tf.distribute.experimental.MultiWorkerMirroredStrategy()\n",
        "\n",
        "# Multi-worker configuration\n",
        "print('num_replicas_in_sync = {}'.format(strategy.num_replicas_in_sync))\n",
        "\n",
        "# Preparing dataset\n",
        "BUFFER_SIZE = 10000\n",
        "BATCH_SIZE = 64\n",
        "\n",
        "def make_datasets_unbatched():\n",
        "  # Scaling CIFAR10 data from (0, 255] to (0., 1.]\n",
        "  def scale(image, label):\n",
        "    image = tf.cast(image, tf.float32)\n",
        "    image /= 255.0\n",
        "    return image, label\n",
        "\n",
        "  datasets, info = tfds.load(name='cifar10',\n",
        "                            with_info=True,\n",
        "                            as_supervised=True)\n",
        "  return datasets['train'].map(scale).cache().shuffle(BUFFER_SIZE).repeat()\n",
        "\n",
        "\n",
        "# Build the Keras model\n",
        "def build_and_compile_cnn_model():\n",
        "  model = tf.keras.Sequential([\n",
        "      tf.keras.layers.Conv2D(32, 3, activation='relu', input_shape=(32, 32, 3)),\n",
        "      tf.keras.layers.MaxPooling2D(),\n",
        "      tf.keras.layers.Conv2D(32, 3, activation='relu'),\n",
        "      tf.keras.layers.MaxPooling2D(),\n",
        "      tf.keras.layers.Flatten(),\n",
        "      tf.keras.layers.Dense(10, activation='softmax')\n",
        "  ])\n",
        "  model.compile(\n",
        "      loss=tf.keras.losses.sparse_categorical_crossentropy,\n",
        "      optimizer=tf.keras.optimizers.SGD(learning_rate=args.lr),\n",
        "      metrics=['accuracy'])\n",
        "  return model\n",
        "\n",
        "# Train the model\n",
        "NUM_WORKERS = strategy.num_replicas_in_sync\n",
        "# Here the batch size scales up by number of workers since\n",
        "# `tf.data.Dataset.batch` expects the global batch size.\n",
        "GLOBAL_BATCH_SIZE = BATCH_SIZE * NUM_WORKERS\n",
        "train_dataset = make_datasets_unbatched().batch(GLOBAL_BATCH_SIZE)\n",
        "\n",
        "with strategy.scope():\n",
        "  # Creation of dataset, and model building/compiling need to be within\n",
        "  # `strategy.scope()`.\n",
        "  model = build_and_compile_cnn_model()\n",
        "\n",
        "model.fit(x=train_dataset, epochs=args.epochs, steps_per_epoch=args.steps)\n",
        "model.save(args.model_dir)"
      ],
      "execution_count": null,
      "outputs": []
    },
    {
      "cell_type": "markdown",
      "metadata": {
        "id": "nEUFxk8UhCFc"
      },
      "source": [
        "#### Store training script on your Cloud Storage bucket\n",
        "\n",
        "Next, we package the training folder into a compressed tar ball, and then store it in your Cloud Storage bucket."
      ]
    },
    {
      "cell_type": "code",
      "metadata": {
        "id": "U5qzNOSNhCFc"
      },
      "source": [
        "! rm -f custom.tar custom.tar.gz\n",
        "! tar cvf custom.tar custom\n",
        "! gzip custom.tar\n",
        "! gsutil cp custom.tar.gz gs://$BUCKET_NAME/trainer_cifar.tar.gz"
      ],
      "execution_count": null,
      "outputs": []
    },
    {
      "cell_type": "markdown",
      "metadata": {
        "id": "-UFy7skOhCFc"
      },
      "source": [
        "### Train the model\n",
        "\n",
        "Let's now start the training of your custom training job on AI Platform. Use our helper function we defined earlier `create_custom_job`, which will return the AI Platform (Unified) fully qualified identifier assigned to the custom job."
      ]
    },
    {
      "cell_type": "code",
      "metadata": {
        "id": "PAIDtAoMhCFd"
      },
      "source": [
        "# Save the job name\n",
        "JOB_ID = create_custom_job(CUSTOM_JOB)"
      ],
      "execution_count": null,
      "outputs": []
    },
    {
      "cell_type": "markdown",
      "metadata": {
        "id": "IGnkYwvChCFd"
      },
      "source": [
        "### Get information on a custom job\n",
        "\n",
        "Let's get the status on our custom training job for CIFAR10 using the helper function defined earlier `get_custom_job`. The job most likely will still be either PENDING or RUNNING."
      ]
    },
    {
      "cell_type": "code",
      "metadata": {
        "id": "7R7gu2ZfhCFd"
      },
      "source": [
        "response = get_custom_job(JOB_ID)"
      ],
      "execution_count": null,
      "outputs": []
    },
    {
      "cell_type": "markdown",
      "metadata": {
        "id": "9R_PzH73hCFd"
      },
      "source": [
        "# Deployment\n",
        "\n",
        "## Pre-Cooked\n",
        "\n",
        "Training the above model may take upwards of ~5 minutes time. For expendiency, we have a pre-cooked (already trained) version of this model you can use for the next steps, while you wait for your model to finish training. \n",
        "\n",
        "Once your model is done training, you can repeat these steps for your trained model. You can calcuate the actual time it took to train the model by subtracting `end_time` from `start_time`. For your model, we will need to know the location of the saved model, which the python script saved in your local Cloud Storage bucket at `MODEL_DIR + '/saved_model.pb'`.\n",
        "\n",
        "\n",
        "You can choose between the precooked model or your trained model with the python variable `precooked` in the cell below."
      ]
    },
    {
      "cell_type": "code",
      "metadata": {
        "id": "gwbwjQpMhCFd"
      },
      "source": [
        "# Precooked flag\n",
        "precook = False\n",
        "\n",
        "if precook:\n",
        "    model_path_to_deploy = \"[not-yet-implemented]\"\n",
        "else:\n",
        "    while True:\n",
        "        response = get_custom_job(JOB_ID, True)\n",
        "        if response.state != aip.JobState.JOB_STATE_SUCCEEDED: \n",
        "            print(\"Training job has not completed:\", response.state)\n",
        "            if response.state == aip.JobState.JOB_STATE_FAILED:\n",
        "                break\n",
        "            model_path_to_deploy = None\n",
        "        else:\n",
        "            if not DIRECT:\n",
        "                MODEL_DIR = MODEL_DIR + \"/model\"\n",
        "            model_path_to_deploy = MODEL_DIR\n",
        "            print(\"Training Time:\", response.update_time - response.create_time)\n",
        "            break\n",
        "        time.sleep(60)\n",
        "\n",
        "print(\"model_to_deploy:\", model_path_to_deploy)"
      ],
      "execution_count": null,
      "outputs": []
    },
    {
      "cell_type": "markdown",
      "metadata": {
        "id": "92zQ9cCbhCFe"
      },
      "source": [
        "## Load the saved model\n",
        "\n",
        "Your model is stored in a TF SavedModel format in a Cloud Storage bucket. Let's go ahead and load it from the Cloud Storage bucket, and then you can do some things, like evaluate the model, and do a prediction.\n",
        "\n",
        "To load, you use the TF.Keras `model.load_model()` method passing it the Cloud Storage path where the model is saved -- specified by `MODEL_DIR`."
      ]
    },
    {
      "cell_type": "code",
      "metadata": {
        "id": "dExDlAndhCFe"
      },
      "source": [
        "import tensorflow as tf\n",
        "\n",
        "model = tf.keras.models.load_model(MODEL_DIR)"
      ],
      "execution_count": null,
      "outputs": []
    },
    {
      "cell_type": "markdown",
      "metadata": {
        "id": "1o8dNfMrhCFe"
      },
      "source": [
        "## Evaluate the model\n",
        "\n",
        "Now let's find out how good the model is. \n",
        "\n",
        "### Load evaluation data\n",
        "\n",
        "You will load the CIFAR10 test (holdout) data from `tf.keras.datasets`, using the method `load_data()`. This will return the dataset as a tuple of two elements. The first element is the training data and the second is the test data. Each element is also a tuple of two elements: the image data, and the corresponding labels.\n",
        "\n",
        "You don't need the training data, and hence why we loaded it as `(_, _)`.\n",
        "\n",
        "Before you can run the data through evaluation, you need to preprocess it:\n",
        "\n",
        "x_test:\n",
        "1. Normalize (rescaling) the pixel data by dividing each pixel by 255. This will replace each single byte integer pixel with a 32-bit floating point number between 0 and 1.\n",
        "\n",
        "y_test:<br/>\n",
        "2. The labels are currently scalar (sparse). If you look back at the `compile()` step in the `trainer/task.py` script, you will find that it was compiled for sparse labels. So we don't need to do anything more."
      ]
    },
    {
      "cell_type": "code",
      "metadata": {
        "id": "6vXXieMVhCFe"
      },
      "source": [
        "from tensorflow.keras.datasets import cifar10\n",
        "import numpy as np\n",
        "\n",
        "(_, _), (x_test, y_test) = cifar10.load_data()\n",
        "x_test = (x_test / 255.0).astype(np.float32)\n",
        "\n",
        "print(x_test.shape, y_test.shape)"
      ],
      "execution_count": null,
      "outputs": []
    },
    {
      "cell_type": "markdown",
      "metadata": {
        "id": "DbSIsEeghCFe"
      },
      "source": [
        "### Evaluate the model\n",
        "\n",
        "Let's evaluate how well the ConvNet model in the custom job did. Wahaha -- ~32%, not so good. Well, what does one expect with just 3 epochs and 5 steps per epoch -- see the `task.py fit() call`."
      ]
    },
    {
      "cell_type": "code",
      "metadata": {
        "id": "ftPw3vNehCFe"
      },
      "source": [
        "model.evaluate(x_test, y_test)"
      ],
      "execution_count": null,
      "outputs": []
    },
    {
      "cell_type": "markdown",
      "metadata": {
        "id": "MJeYEONQhCFf"
      },
      "source": [
        "## Upload the model for serving\n",
        "\n",
        "Next, you will upload your TF.Keras model from the custom job to AI Platform (Unified) model service, which will create a AI Platform (Unified) model resource for your custom model. During upload, you need to define a serving function to convert data to the format your model expects. If you send encoded data to AI Platform, your serving function ensures that the data is decoded on the model server before it is passed as input to your model.\n",
        "\n",
        "### How does the serving function work\n",
        "\n",
        "When you send a request to an online prediction server, the request is received by a HTTP server. The HTTP server\n",
        "extracts the prediction request from the HTTP request content body. The extracted prediction request is forwarded to the serving function. For Google pre-built prediction containers, the request content is passed to the serving function as a `tf.string`.\n",
        "\n",
        "The serving function consists of two parts:\n",
        "\n",
        "- `preprocessing function`:  \n",
        "  - Converts the input (`tf.string`) to the input shape and data type of the underlying model (dynamic graph).\n",
        "  - Performs the same preprocessing of the data that was done during training the underlying model -- e.g., normalizing, scaling, etc.\n",
        "- `post-processing function`:  \n",
        "  - Converts the model output to format expected by the receiving application -- e.q., compresses the output.\n",
        "  - Packages the output for the the receiving application -- e.g., add headings, make JSON object, etc.\n",
        "  \n",
        "Both the preprocessing and post-processing functions are converted to static graphs which are fused to the model. The output from the underlying model is passed to the post-processing function. The post-processing function passes the converted/packaged output back to the HTTP server. The HTTP server returns the output as the HTTP response content.\n",
        "\n",
        "One consideration you need to consider when building serving functions for TF.Keras models is that they run as static graphs. That means, you cannot use TF graph operations that require a dynamic graph. If you do, you will get an error during the compile of the serving function which will indicate that you are using an EagerTensor which is not supported.\n",
        "\n",
        "### Serving function for image data\n",
        "\n",
        "To pass images to the prediction service, you encode the compressed (e.g., JPEG) image bytes into base 64 -- which makes the content safe from modification while transmitting binary data over the network. Since this deployed model expects input data as raw (uncompressed) bytes, you need to ensure that the base 64 encoded data gets converted back to raw bytes before it is passed as input to the deployed model.\n",
        "\n",
        "To resolve this, define a serving function (`serving_fn`) and attach it to the model as a preprocessing step. Add a `@tf.function` decorator so the serving function is fused to the underlying model (instead of upstream on a CPU).\n",
        "\n",
        "When you send a prediction or explanation request, the content of the request is base 64 decoded into a Tensorflow string (`tf.string`), which is passed to the serving function (`serving_fn`). The serving function preprocesses the `tf.string` into raw (uncompressed) numpy bytes (`preprocess_fn`) to match the input requirements of the model:\n",
        "- `io.decode_jpeg`- Decompresses the JPG image which is returned as a Tensorflow tensor with three channels (RGB).\n",
        "- `image.convert_image_dtype` - Changes integer pixel values to float 32.\n",
        "- `image.resize` - Resizes the image to match the input shape for the model.\n",
        "- `resized / 255.0` - Rescales (normalization) the pixel data between 0 and 1.\n",
        "\n",
        "At this point, the data can be passed to the model (`m_call`).\n",
        "\n",
        "#### XAI Signatures\n",
        "\n",
        "When the serving function is saved back with the underlying model (`tf.saved_model.save`), you specify the input layer of the serving function as the signature `serving_default`.\n",
        "\n",
        "For XAI image models, you need to save two additional signatures from the serving function:\n",
        "\n",
        "- `xai_preprocess`: The preprocessing function in the serving function.\n",
        "- `xai_model`: The concrete function for calling the model."
      ]
    },
    {
      "cell_type": "code",
      "metadata": {
        "id": "ZznMA68chCFf"
      },
      "source": [
        "CONCRETE_INPUT = \"numpy_inputs\"\n",
        "\n",
        "def _preprocess(bytes_input):\n",
        "    decoded = tf.io.decode_jpeg(bytes_input, channels=3)\n",
        "    decoded = tf.image.convert_image_dtype(decoded, tf.float32)\n",
        "    resized = tf.image.resize(decoded, size=(32, 32))\n",
        "    rescale = tf.cast(resized / 255.0, tf.float32)\n",
        "    return rescale\n",
        "\n",
        "\n",
        "@tf.function(input_signature=[tf.TensorSpec([None], tf.string)])\n",
        "def preprocess_fn(bytes_inputs):\n",
        "    decoded_images = tf.map_fn(_preprocess, bytes_inputs, dtype=tf.float32, back_prop=False)\n",
        "    return {CONCRETE_INPUT: decoded_images}  # User needs to make sure the key matches model's input\n",
        "\n",
        "\n",
        "m_call = tf.function(model.call).get_concrete_function([tf.TensorSpec(shape=[None, 32, 32, 3], dtype=tf.float32, name=CONCRETE_INPUT)])\n",
        "\n",
        "\n",
        "@tf.function(input_signature=[tf.TensorSpec([None], tf.string)])\n",
        "def serving_fn(bytes_inputs):\n",
        "    images = preprocess_fn(bytes_inputs)\n",
        "    prob = m_call(**images)\n",
        "    return prob\n",
        "\n",
        "\n",
        "tf.saved_model.save(model, model_path_to_deploy, signatures={\n",
        "    'serving_default': serving_fn,\n",
        "    # Required by XAI for image models\n",
        "    'xai_preprocess': preprocess_fn, \n",
        "    'xai_model': m_call \n",
        "})"
      ],
      "execution_count": null,
      "outputs": []
    },
    {
      "cell_type": "markdown",
      "metadata": {
        "id": "odFXWwzDhCFf"
      },
      "source": [
        "## Get the serving function signature\n",
        "\n",
        "You can get the signatures of your model's input and output layers by reloading the model into memory, and querying it for the signatures corresponding to each layer.\n",
        "\n",
        "### Serving Function\n",
        "\n",
        "For your purpose, you need the signature of the serving function. Why? Well, when we send our data for prediction as a HTTP request packet, the image data is base 64 encoded, and our TF.Keras model takes numpy input. Your serving function will do the conversion from base 64 to a numpy array. \n",
        "\n",
        "When making a prediction request, you need to route the request to the serving function instead of the model, so you need to know the input layer name of the serving function -- which you will use later when you make a prediction request.\n",
        "\n",
        "You will also need to know the name of the serving function's input and output layer for constructing the explanation metadata -- which is discussed subsequently."
      ]
    },
    {
      "cell_type": "code",
      "metadata": {
        "id": "doMk4XfxhCFf"
      },
      "source": [
        "loaded = tf.saved_model.load(model_path_to_deploy)\n",
        "\n",
        "serving_input = list(loaded.signatures['serving_default'].structured_input_signature[1].keys())[0]\n",
        "print('Serving function input:', serving_input)\n",
        "serving_output = list(loaded.signatures['serving_default'].structured_outputs.keys())[0]\n",
        "print('Serving function output:', serving_output)\n",
        "\n",
        "input_name = model.input.name\n",
        "print('Model input name:', input_name)\n",
        "output_name = model.output.name\n",
        "print('Model output name:', output_name)"
      ],
      "execution_count": null,
      "outputs": []
    },
    {
      "cell_type": "markdown",
      "metadata": {
        "id": "9k9WukumhCFg"
      },
      "source": [
        "### Explanation Specification\n",
        "\n",
        "To get explanations when doing a prediction, you must enable the explanation capability and set corresponding settings when you upload your custom model to a AI Platform (Unified) managed model. These settings are referred to as the explanation metadata, which consists of:\n",
        "\n",
        "- `parameters`: This is the specification for the explainability algorithm to use for explanations on your model. You can choose between:\n",
        "  - Shapley - *Note*, not recommended for image data -- can be very long running\n",
        "  - XRAI\n",
        "  - Integrated Gradients\n",
        "- `metadata`: This is the specification for how the algoithm is applied on your custom model.\n",
        "\n",
        "#### Explanation Parameters\n",
        "\n",
        "Let's first dive deeper into the settings for the explainability algorithm.\n",
        "\n",
        "#### Shapley\n",
        "\n",
        "Assigns credit for the outcome to each feature, and considers different permutations of the features. This method provides a sampling approximation of exact Shapley values.\n",
        "\n",
        "Use Cases: \n",
        "  - Classification and regression on tabular data.\n",
        "\n",
        "Parameters:\n",
        "\n",
        "- `path_count`: This is the number of paths over the features that will be processed by the algorithm. An exact approximation of the Shapley values requires M! paths, where M is the number of features. For the CIFAR10 dataset, this would be 784 (28*28).\n",
        "\n",
        "For any non-trival number of features, this is too compute expensive. You can reduce the number of paths over the features to M * `path_count`.\n",
        "\n",
        "#### Integrated Gradients\n",
        "\n",
        "A gradients-based method to efficiently compute feature attributions with the same axiomatic properties as the Shapley value.\n",
        "\n",
        "Use Cases: \n",
        "  - Classification and regression on tabular data. \n",
        "  - Classification on image data.\n",
        "\n",
        "Parameters:\n",
        "\n",
        "- `step_count`: This is the number of steps to approximate the remaining sum. The more steps, the more accurate the integral approximation. The general rule of thumb is 50 steps, but as you increase so does the compute time.\n",
        "\n",
        "#### XRAI\n",
        "\n",
        "Based on the integrated gradients method, XRAI assesses overlapping regions of the image to create a saliency map, which highlights relevant regions of the image rather than pixels.\n",
        "\n",
        "Use Cases: \n",
        "\n",
        "  - Classification on image data.\n",
        "\n",
        "Parameters:\n",
        "\n",
        "- `step_count`: This is the number of steps to approximate the remaining sum. The more steps, the more accurate the integral approximation. The general rule of thumb is 50 steps, but as you increase so does the compute time.\n",
        "\n",
        "In the next code cell, set the variable `XAI` to which explainabilty algorithm you will use on your custom model."
      ]
    },
    {
      "cell_type": "code",
      "metadata": {
        "id": "ybpgt7MqhCFg"
      },
      "source": [
        "XAI = \"ig\"  # [ shapley, ig, xrai ]\n",
        "\n",
        "if XAI == \"shapley\":\n",
        "    PARAMETERS = {\n",
        "        \"sampled_shapley_attribution\": { 'path_count': 10 }\n",
        "    }\n",
        "elif XAI == \"ig\":\n",
        "    PARAMETERS = {\n",
        "        \"integrated_gradients_attribution\": { \"step_count\": 50 }\n",
        "    }\n",
        "elif XAI == \"xrai\":\n",
        "    PARAMETERS = {\n",
        "        \"xrai_attribution\": { \"step_count\": 50 }\n",
        "    }\n",
        "    \n",
        "parameters = aip.ExplanationParameters(PARAMETERS)"
      ],
      "execution_count": null,
      "outputs": []
    },
    {
      "cell_type": "markdown",
      "metadata": {
        "id": "OyIla-N8hCFg"
      },
      "source": [
        "#### Explanation Metadata\n",
        "\n",
        "Let's first dive deeper into the explanation metadata, which consists of:\n",
        "\n",
        "- `outputs`: A scalar value in the output to attribute -- what to explain. For example, in a probability output \\[0.1, 0.2, 0.7\\] for classification, one wants an explanation for 0.7. Consider the following formulae, where the output is `y` and that is what we want to explain.\n",
        "\n",
        "    y = f(x)\n",
        "    \n",
        "Consider the following formulae, where the outputs are `y` and `z`. Since we can only do attribution for one scalar value, we have to pick whether we want to explain the output `y` or `z`. Assume in this example the model is object detection and y and z are the bounding box and the object classification. You would want to pick which of the two outputs to explain.\n",
        "\n",
        "    y, z = f(x)\n",
        "    \n",
        "The dictionary format for `outputs` is:\n",
        "\n",
        "    { \"outputs\": { \"[your_display_name]\": \n",
        "                        \"output_tensor_name\": [layer]\n",
        "                 }\n",
        "    }\n",
        "  \n",
        "<blockquote>\n",
        " -  [your_display_name]: A human readable name you assign to the output to explain. A common example is \"probability\".<br/>\n",
        " -  \"output_tensor_name\": The key/value field to identify the output layer to explain. <br/>\n",
        " -  [layer]: The output layer to explain. In a single task model, like a tabular regressor, it is the last (topmost) layer in the model.\n",
        "</blockquote>\n",
        "    \n",
        "- `inputs`: The features for attribution -- how they contributed to the output. Consider the following formulae, where `a` and `b` are the features. We have to pick which features to explain how the contributed. Assume that this model is deployed for A/B testing, where `a` are the data_items for the prediction and `b` identifies whether the model instance is A or B. You would want to pick `a` (or some subset of) for the features, and not `b` since it does not contribute to the prediction.\n",
        "\n",
        "    y = f(a,b)\n",
        "    \n",
        "The minimum dictionary format for `inputs` is:\n",
        "\n",
        "    { \"inputs\": { \"[your_display_name]\": \n",
        "                        \"input_tensor_name\": [layer]\n",
        "                 }\n",
        "    }\n",
        "  \n",
        "<blockquote>\n",
        " -  [your_display_name]: A human readable name you assign to the input to explain. A common example is \"features\".<br/>\n",
        " -  \"input_tensor_name\": The key/value field to identify the input layer for the feature attribution. <br/>\n",
        " -  [layer]: The input layer for feature attribution. In a single input tensor model, it is the first (bottom-most) layer in the model.\n",
        "</blockquote>\n",
        "\n",
        "Since the inputs to the model are tabular, you can specify the following two additional fields as reporting/visualization aids:\n",
        "\n",
        "<blockquote>\n",
        " - \"modality\": \"image\": Indicates the field values are image data.\n",
        "</blockquote>"
      ]
    },
    {
      "cell_type": "code",
      "metadata": {
        "id": "soEWtVZFhCFg"
      },
      "source": [
        "random_baseline = np.random.rand(32, 32, 3)\n",
        "input_baselines = [{'number_vaue': x} for x in random_baseline]\n",
        "\n",
        "INPUT_METADATA = {'input_tensor_name': CONCRETE_INPUT,\n",
        "                  \"modality\": \"image\"\n",
        "                 }\n",
        "\n",
        "OUTPUT_METADATA = {'output_tensor_name': serving_output}\n",
        "\n",
        "input_metadata = aip.ExplanationMetadata.InputMetadata(INPUT_METADATA)\n",
        "output_metadata = aip.ExplanationMetadata.OutputMetadata(OUTPUT_METADATA)\n",
        "\n",
        "metadata=aip.ExplanationMetadata(\n",
        "        inputs={'image': input_metadata},\n",
        "        outputs={'class' : output_metadata}\n",
        ")\n",
        "\n",
        "explanation_spec = aip.ExplanationSpec(\n",
        "    metadata=metadata,\n",
        "    parameters=parameters\n",
        ")"
      ],
      "execution_count": null,
      "outputs": []
    },
    {
      "cell_type": "markdown",
      "metadata": {
        "id": "LgQvwRyBhCFg"
      },
      "source": [
        "### Upload the model\n",
        "\n",
        "Use this helper function `upload_model` to upload your model, stored in SavedModel format, up to the model service, which will instantiate a AI Platform (Unified) model instance for your model. Once you've done that, you can use the model in the same way as any other AI Platform (Unified) model instance, such as deploying to an endpoint for serving predictions.\n",
        "\n",
        "The helper function takes the parameters:\n",
        "\n",
        "- `display_name`: A human readable name for the endpoint.\n",
        "- `image_uri`: The container image for the model deployment.\n",
        "- `model_uri`: The Cloud Storage path to our SavedModel artificat. For this tutorial, this is the Cloud Storage location where the `trainer/task.py` saved the model, which we specified in the variable `MODEL_DIR`.\n",
        "\n",
        "The helper function uses the model client service and calls the method `upload_model`, which takes the parameters:\n",
        "\n",
        "- `parent`: The AI Platform (Unified) location root path for dataset, model and endpoint resources. \n",
        "- `model`: The specification for the AI Platform (Unified) model instance.\n",
        "\n",
        "Let's now dive deeper into the AI Platform (Unified) model specification `model`. This is a dictionary object that consists of the following fields:\n",
        "\n",
        "- `display_name`: A human readable name for the model.\n",
        "- `metadata_schema_uri`: Since our model was built without a AI Platform (Unified) managed dataset, we will leave this blank (`''`).\n",
        "- `artificat_uri`: The Cloud Storage path where the model is stored in SavedModel format. \n",
        "- `container_spec`: This is the specification for the docker container that will be installed on the endpoint, from which the model will serve predictions. Use the variable you set earlier `DEPLOY_GPU != None` to use a GPU; otherwise only a CPU is allocated.\n",
        "- `explanation_spec`: This is the specification for enabling explainability for your model.\n",
        "\n",
        "Uploading a model into a AI Platform (Unified) model resource returns a long running operation, since it may take a few moments. You call `response.result()`, which is a synchronous call and will return when the AI Platform (Unified) model resource is ready. \n",
        "\n",
        "The helper function returns the AI Platform (Unified) fully qualified identifier for the corresponding AI Platform (Unified) model instance `upload_model_response.model`. You will save the identifier for subsequent steps in the variable `model_to_deploy_name`."
      ]
    },
    {
      "cell_type": "code",
      "metadata": {
        "id": "P_BhOH1ghCFh"
      },
      "source": [
        "IMAGE_URI = DEPLOY_IMAGE\n",
        "\n",
        "# https://cloud.google.com/ai-platform-unified/docs/reference/rest/v1beta1/ExplanationSpec#ExplanationParameters\n",
        "\n",
        "\n",
        "def upload_model(display_name, image_uri, model_uri):\n",
        "\n",
        "    model = aip.Model(display_name=display_name,\n",
        "                      artifact_uri=model_uri,\n",
        "                      metadata_schema_uri=\"\",\n",
        "                      explanation_spec=explanation_spec,\n",
        "                      container_spec={\n",
        "                        \"image_uri\": image_uri,\n",
        "                        \"command\": [],\n",
        "                        \"args\": [],\n",
        "                        \"env\": [{\"name\": \"env_name\", \"value\": \"env_value\"}],\n",
        "                        \"ports\": [{\"container_port\": 8080}],\n",
        "                        \"predict_route\": \"\",\n",
        "                        \"health_route\": \"\",\n",
        "                      })\n",
        "\n",
        "    response = clients['model'].upload_model(parent=PARENT, model=model)\n",
        "    print(\"Long running operation:\", response.operation.name)\n",
        "    upload_model_response = response.result(timeout=180)\n",
        "    print(\"upload_model_response\")\n",
        "    print(\" model:\", upload_model_response.model)\n",
        "    return upload_model_response.model\n",
        "\n",
        "\n",
        "model_to_deploy_name = upload_model(\"cifar10-\" + TIMESTAMP, IMAGE_URI, model_path_to_deploy)"
      ],
      "execution_count": null,
      "outputs": []
    },
    {
      "cell_type": "markdown",
      "metadata": {
        "id": "g1N4xXhchCFh"
      },
      "source": [
        "### List all models\n",
        "\n",
        "Now that your custom model is uploaded as a AI Platform (Unified) managed model, let's get a list of all your AI Platform (Unified) managed models. Use this helper function `list_models`. This helper function uses the AI Platform (Unified) model client service, and calls the method `list_models`, with the parameter:\n",
        "\n",
        "- `parent`: The AI Platform (Unified) location root path for your dataset, model and endpoint resources.\n",
        "\n",
        "The response object from the call is a list, where each element is a AI Platform (Unified) managed model. For each model, you will display a few fields:\n",
        "\n",
        "- `name`: The AI Platform (Unified) unique identifier for the managed model.\n",
        "- `display_name`: The human readable name assigned to the model.\n",
        "- `create_time`': Timestamp when the model resource was created.\n",
        "- `update_time`: Timestamp when the model resource was last updated.\n",
        "- `container`: The container image used for training the model.\n",
        "- `artifact_uri`': The Cloud Storage location of the model artifact."
      ]
    },
    {
      "cell_type": "code",
      "metadata": {
        "id": "8p5d-C6yhCFh"
      },
      "source": [
        "def list_models():\n",
        "    response = clients['model'].list_models(parent=PARENT)\n",
        "    for model in response:\n",
        "        print(\"name\", model.name)\n",
        "        print(\"display_name\", model.display_name)\n",
        "        print(\"create_time\", model.create_time)\n",
        "        print(\"update_time\", model.update_time)\n",
        "        print(\"container\", model.container_spec.image_uri)\n",
        "        print(\"artifact_uri\", model.artifact_uri)\n",
        "        print('\\n')\n",
        "\n",
        "\n",
        "list_models()"
      ],
      "execution_count": null,
      "outputs": []
    },
    {
      "cell_type": "markdown",
      "metadata": {
        "id": "sD6kd_yyhCFh"
      },
      "source": [
        "### Get model information\n",
        "\n",
        "Now let's get the model information for just your model. Use this helper function `get_model`, with the parameter:\n",
        "\n",
        "- `name`: The AI Platform (Unified) unique identifier for the managed model.\n",
        "\n",
        "This helper function uses the AI Platform (Unified) model client service, and calls the method `get_model`, with the parameter:\n",
        "\n",
        "- `name`: The AI Platform (Unified) unique identifier for the managed model."
      ]
    },
    {
      "cell_type": "code",
      "metadata": {
        "id": "-IF9KL_IhCFi"
      },
      "source": [
        "def get_model(name):\n",
        "    response = clients['model'].get_model(name=name)\n",
        "    print(response)\n",
        "\n",
        "\n",
        "get_model(model_to_deploy_name)"
      ],
      "execution_count": null,
      "outputs": []
    },
    {
      "cell_type": "markdown",
      "metadata": {
        "id": "PZxNeBUuhCFi"
      },
      "source": [
        "### Create an endpoint\n",
        "\n",
        "Use this helper function `create_endpoint` to create an endpoint to deploy the model to for serving predictions, with the parameter:\n",
        "\n",
        "- `display_name`: A human readable name for the endpoint.\n",
        "\n",
        "The helper function uses the endpoint client service and calls the method `create_endpoint`, which takes the parameter:\n",
        "\n",
        "- `display_name`: A human readable name for the endpoint.\n",
        "\n",
        "Creating an endpoint returns a long running operation, since it may take a few moments to provision the endpoint for serving. You will call `response.result()`, which is a synchronous call and will return when the endpoint is ready. The helper function returns the AI Platform (Unified) fully qualified identifier for the endpoint -- `response.name`.\n"
      ]
    },
    {
      "cell_type": "code",
      "metadata": {
        "id": "RGe9aH4chCFi"
      },
      "source": [
        "ENDPOINT_NAME = \"cifar10_endpoint-\" + TIMESTAMP\n",
        "\n",
        "\n",
        "def create_endpoint(display_name):\n",
        "    endpoint = {\"display_name\": display_name}\n",
        "    response = clients['endpoint'].create_endpoint(parent=PARENT, endpoint=endpoint)\n",
        "    print(\"Long running operation:\", response.operation.name)\n",
        "\n",
        "    result = response.result(timeout=300)\n",
        "    print(\"result\")\n",
        "    print(\" name:\", result.name)\n",
        "    print(\" display_name:\", result.display_name)\n",
        "    print(\" description:\", result.description)\n",
        "    print(\" labels:\", result.labels)\n",
        "    print(\" create_time:\", result.create_time)\n",
        "    print(\" update_time:\", result.update_time)\n",
        "    return result.name\n",
        "\n",
        "\n",
        "endpoint_name = create_endpoint(ENDPOINT_NAME)"
      ],
      "execution_count": null,
      "outputs": []
    },
    {
      "cell_type": "markdown",
      "metadata": {
        "id": "jifnGN5jhCFi"
      },
      "source": [
        "### Compute instance scaling\n",
        "\n",
        "You have several choices on scaling the compute instances for handling your online prediction requests:\n",
        "\n",
        "- Single Instance: The online prediction requests are processed on a single compute instance.\n",
        "  - Set the minimum (`MIN_NODES`) and maximum (`MAX_NODES`) number of compute instances to one. \n",
        "\n",
        "\n",
        "- Manual Scaling: The online prediction requests are split across a fixed number of compute instances that you manually specified.\n",
        "  - Set the minimum (`MIN_NODES`) and maximum (`MAX_NODES`) number of compute instances to the same number of nodes. When a model is first deployed to the instanxe, the fixed number of compute instances are provisioned and online prediction requests are evenly distributed across them.\n",
        "  \n",
        "  \n",
        "- Auto Scaling: The online prediction requests are streamed across an initial number of compute instances and then based on time and compute tradeoff may be automatically scaled to provision and deprovision compute instances.\n",
        "  - Set the minimum (`MIN_NODES`) to the initial number of compute instances and the maximum (`MAX_NODES`) to the maximum number of nodes the service could auto-scale to.\n",
        "\n",
        "  - If the minimum number of compute instancers is zero, the service will deprovision the compute instance after a period of idleness, and provision the compute instance on next prediction request, which may take several minutes to provision.\n",
        "  \n",
        "The minimum number of compute instances corresponds to the field `min_replica_count` and the maximum number of compute instances corresponds to the field `max_replica_count`, in your subsequent deployment request."
      ]
    },
    {
      "cell_type": "code",
      "metadata": {
        "id": "0TfSXojvhCFi"
      },
      "source": [
        "MIN_NODES = 1\n",
        "MAX_NODES = 1"
      ],
      "execution_count": null,
      "outputs": []
    },
    {
      "cell_type": "markdown",
      "metadata": {
        "id": "-7FRQSJDhCFj"
      },
      "source": [
        "### Deploy model to the endpoint\n",
        "\n",
        "Use this helper function `deploy_model` to deploy the model to the endpoint you created for serving predictions, with the parameters:\n",
        "\n",
        "- `model`: The AI Platform (Unified) fully qualified model identifier of the model to upload (deploy) from the training pipeline.\n",
        "- `deploy_mopdel_display_name`: A human readable name for the deployed model.\n",
        "- `endpoint`: The AI Platform (Unified) fully qualified endpoint identifier to deploy the model to.\n",
        "\n",
        "The helper function uses the endpoint client service and calls the method `deploy_model`, which takes the parameters:\n",
        "\n",
        "- `endpoint`: The AI Platform (Unified) fully qualified endpoint identifier to deploy the model to.\n",
        "- `deployed_model`: The requirements for deploying the model.\n",
        "- `traffic_split`: Percent of traffic at endpoint that goes to this model, which is specified as a dictionary of one or more key/value pairs.\n",
        "   - If only one model, then specify as **{ \"0\": 100 }**, where \"0\" refers to this model being uploaded and 100 means 100% of the traffic.\n",
        "   - If there are existing models on the endpoint, for which the traffic will be split, then specify as, where `model_id` is the model id of an existing model to the deployed endpoint. The percents must add up to 100.\n",
        "   \n",
        "           { \"0\": percent, model_id: percent, ... }\n",
        "\n",
        "Let's now dive deeper into the `deployed_model` parameter. This parameter is specified as a python dictionary with the minimum required fields:\n",
        "\n",
        "- `model`: The AI Platform (Unified) fully qualified model identifier of the (upload) model to deploy.\n",
        "- `display_name`: A human readable name for the deployed model.\n",
        "- `dedicated_resources`: This refers to how many compute instances (replicas) that are scaled for serving prediction requests. \n",
        "  - `machine_spec`: The compute instance to provision. Use the variable you set earlier `DEPLOY_GPU != None` to use a GPU; otherwise only a CPU is allocated.  \n",
        "  - `min_replica_count`: The number of compute instances to initially provision, which you set earlier as the variable `MIN_NODES`.\n",
        "  - `max_replica_count`: The maximum number of compute instances to scale to, which you set earlier as the variable `MAX_NODES`.\n",
        "- `enable_container_logging`: This enables logging of container events, such as execution failures (default is False). This is typically set to True when debugging the deployment and then set to False when deployed for production.\n",
        "\n",
        "Let's now dive deeper into the `traffic_split` parameter. This parameter is specified as a python dictionary. This might at first be a tad bit confusing. Let me explain, you can deploy more than one instance of your model to an endpoint, and then set how much (percent) goes to each instance. \n",
        "\n",
        "Why would you do that? Perhaps you already have a previous version deployed in production -- let's call that v1. You got better model evaluation on v2, but you don't know for certain that it is really better until you deploy to production. So in the case of traffic split, you might want to deploy v2 to the same endpoint as v1, but it only get's say 10% of the traffic. That way, you can monitor how well it does without disrupting the majority of users -- until you make a final decision."
      ]
    },
    {
      "cell_type": "code",
      "metadata": {
        "id": "FcPPYZZfhCFj"
      },
      "source": [
        "DEPLOYED_NAME = \"cifar10_deployed-\" + TIMESTAMP\n",
        "\n",
        "\n",
        "def deploy_model(model, deployed_model_display_name, endpoint, traffic_split={\"0\": 100}):\n",
        "\n",
        "    if DEPLOY_GPU:\n",
        "        machine_spec = {\n",
        "            \"machine_type\": DEPLOY_COMPUTE,\n",
        "            \"accelerator_type\": DEPLOY_GPU,\n",
        "            \"accelerator_count\": DEPLOY_NGPU,\n",
        "        }\n",
        "    else:\n",
        "        machine_spec = {\n",
        "            \"machine_type\": DEPLOY_COMPUTE,\n",
        "            \"accelerator_count\": 0,\n",
        "        }\n",
        "\n",
        "    deployed_model = {\n",
        "        \"model\": model,\n",
        "        \"display_name\": deployed_model_display_name,\n",
        "        \"dedicated_resources\": {\n",
        "            \"min_replica_count\": MIN_NODES,\n",
        "            \"max_replica_count\": MAX_NODES,\n",
        "            \"machine_spec\": machine_spec\n",
        "        },\n",
        "        \"enable_container_logging\": False\n",
        "    }\n",
        "\n",
        "    response = clients['endpoint'].deploy_model(\n",
        "        endpoint=endpoint, deployed_model=deployed_model, traffic_split=traffic_split)\n",
        "\n",
        "    print(\"Long running operation:\", response.operation.name)\n",
        "    result = response.result()\n",
        "    print(\"result\")\n",
        "    deployed_model = result.deployed_model\n",
        "    print(\" deployed_model\")\n",
        "    print(\"  id:\", deployed_model.id)\n",
        "    print(\"  model:\", deployed_model.model)\n",
        "    print(\"  display_name:\", deployed_model.display_name)\n",
        "    print(\"  create_time:\", deployed_model.create_time)\n",
        "\n",
        "    return deployed_model.id\n",
        "\n",
        "\n",
        "deployed_model_id = deploy_model(model_to_deploy_name, DEPLOYED_NAME, endpoint_name)"
      ],
      "execution_count": null,
      "outputs": []
    },
    {
      "cell_type": "markdown",
      "metadata": {
        "id": "Y4ZtmkPihCFj"
      },
      "source": [
        "### List all endpoints\n",
        "\n",
        "Let's now get a list of all your endpoints. Use this helper function `list_endpoints`. \n",
        "\n",
        "The helper function uses the endpoint client service and calls the method `list_endpoints`. The returned response object is a list, with an element for each endpoint. The helper function lists a few example fields for each endpoint:\n",
        "\n",
        "- `name`: The AI Platform (Unified) identifier for the managed endpoint.\n",
        "- `display_name`: The human readable name you assigned to the endpoint.\n",
        "- `create_time`: When the endpoint was created.\n",
        "- `deployed_models`: The models and associated information that are deployed to this endpoint."
      ]
    },
    {
      "cell_type": "code",
      "metadata": {
        "id": "J3nf5ZmJhCFj"
      },
      "source": [
        "def list_endpoints():\n",
        "    response = clients['endpoint'].list_endpoints(parent=PARENT)\n",
        "    for endpoint in response:\n",
        "        print(\"name:\", endpoint.name)\n",
        "        print(\"display name:\", endpoint.display_name)\n",
        "        print(\"create_time:\", endpoint.create_time)\n",
        "        print(\"deployed_models\", endpoint.deployed_models)\n",
        "        print(\"\\n\")\n",
        "        \n",
        "list_endpoints()"
      ],
      "execution_count": null,
      "outputs": []
    },
    {
      "cell_type": "markdown",
      "metadata": {
        "id": "iRCMN5yOhCFj"
      },
      "source": [
        "### Get information on this endpoint\n",
        "\n",
        "Now let's get the endpoint information for just your endpoint. Use this helper function `get_endpoint`, with the parameter:\n",
        "\n",
        "- `name`: The AI Platform (Unified) unique identifier for the managed endpoint.\n",
        "\n",
        "This helper function uses the AI Platform (Unified) endpoint client service, and calls the method `get_endpoint`, with the parameter:\n",
        "\n",
        "- `name`: The AI Platform (Unified) unique identifier for the managed endpoint."
      ]
    },
    {
      "cell_type": "code",
      "metadata": {
        "id": "7xglDxwyhCFk"
      },
      "source": [
        "def get_endpoint(name):\n",
        "    response = clients['endpoint'].get_endpoint(name=name)\n",
        "    print(response)\n",
        "    \n",
        "get_endpoint(endpoint_name)"
      ],
      "execution_count": null,
      "outputs": []
    },
    {
      "cell_type": "markdown",
      "metadata": {
        "id": "lsz-RhaahCFk"
      },
      "source": [
        "## Make a prediction with explanation request\n",
        "\n",
        "Let's now do a prediction to your deployed model. You will use an arbitrary image out of the test (holdout) portion of the dataset as a test image. "
      ]
    },
    {
      "cell_type": "code",
      "metadata": {
        "id": "3RHtIVS-hCFk"
      },
      "source": [
        "test_image = x_test[0]\n",
        "test_label = y_test[0]\n",
        "print(test_image.shape)"
      ],
      "execution_count": null,
      "outputs": []
    },
    {
      "cell_type": "markdown",
      "metadata": {
        "id": "9aF63WxDhCFk"
      },
      "source": [
        "### Prepare the request content\n",
        "You are going to send the CIFAR10 image as compressed JPG image, instead of the raw uncompressed bytes:\n",
        "\n",
        "- `cv2.imwrite`: Use openCV to write the uncompressed image to disk as a compressed JPEG image.\n",
        "- `tf.io.read_file`: Read the compressed JPG images back into memory as raw bytes.\n",
        "- `base64.b64encode`: Encode the raw bytes into a base 64 encoded string."
      ]
    },
    {
      "cell_type": "code",
      "metadata": {
        "id": "mLyrRPmkhCFl"
      },
      "source": [
        "import base64\n",
        "import cv2\n",
        "cv2.imwrite('tmp.jpg', (test_image * 255).astype(np.uint8))\n",
        "\n",
        "bytes = tf.io.read_file('tmp.jpg')\n",
        "b64str = base64.b64encode(bytes.numpy()).decode('utf-8')"
      ],
      "execution_count": null,
      "outputs": []
    },
    {
      "cell_type": "markdown",
      "metadata": {
        "id": "q_SdjGxdhCFl"
      },
      "source": [
        "### Send the prediction with explanation request\n",
        "\n",
        "Ok, now you have a test image. Use this helper function `explain_image`, which takes the parameters:\n",
        "\n",
        "- `image`: A list of test image data as a numpy array.\n",
        "- `endpoint`: The AI Platform (Unified) fully qualified identifier for the endpoint where the model was deployed.\n",
        "- `parameters_dict`: Additional parameters for serving -- in our case we will pass `None`.\n",
        "- `deployed_model_id`: The AI Platform (Unified) fully qualified identifier for the deployed model, when more than one model is deployed at the endpoint. Otherwise, if only one model deployed, can be set to `None`.\n",
        "\n",
        "This function uses the prediction client service and calls the `explain` method with the parameters:\n",
        "\n",
        "- `endpoint`: The AI Platform (Unified) fully qualified identifier for the endpoint where the model was deployed.\n",
        "- `instances`: A list of instances (encoded images) to predict and explain.\n",
        "- `parameters`: Additional parameters for serving -- in our case we will pass `None`.\n",
        "- `deployed_model_id`: The AI Platform (Unified) fully qualified identifier for the deployed model, when more than one model is deployed at the endpoint. Otherwise, if only one model deployed, can be set to `None`.\n",
        "\n",
        "To pass the image data to the prediction service, in the previous step you encoded the bytes into base 64 -- which makes the content safe from modification when transmitting binary data over the network. You need to tell the serving binary where your model is deployed to, that the content has been base 64 encoded, so it will decode it on the other end in the serving binary. \n",
        "\n",
        "Each instance in the prediction request is a dictionary entry of the form:\n",
        "\n",
        "                        {input_name: {'b64': content}}\n",
        "                        \n",
        "- `input_name`: the name of the input layer of the underlying model.\n",
        "- `'b64'`: A key that indicates the content is base 64 encoded.\n",
        "- `content`: The compressed JPG image bytes as a base 64 encoded string.\n",
        "\n",
        "Since the `predict()` service can take multiple images (instances), you will send your single image as a list of one image. As a final step, you package the instances list into Google's protobuf format -- which is what we pass to the `explain()` service.\n",
        "\n",
        "The `response` object returns a list, where each element in the list corresponds to the corresponding image in the request. You will see in the output for each prediction:\n",
        "\n",
        "- `deployed_model_id` -- The AI Platform (Unified) fully qualified identifer for the model that did the prediction/explanation.\n",
        "- `predictions` -- Confidence level for the prediction (`predictions`), between 0 and 1, for each of the ten classes.\n",
        "- `explanations` -- How each feature contributed to the prediction."
      ]
    },
    {
      "cell_type": "code",
      "metadata": {
        "id": "6TmDB_aUhCFl"
      },
      "source": [
        "def explain_image(image, endpoint, parameters_dict, deployed_model_id):\n",
        "    parameters = json_format.ParseDict(parameters_dict, Value())\n",
        "    \n",
        "    # The format of each instance should conform to the deployed model's prediction input schema.\n",
        "    instances_list = [{serving_input: {'b64': image}}]\n",
        "    instances = [json_format.ParseDict(s, Value()) for s in instances_list]\n",
        "\n",
        "    response = clients['prediction'].explain(endpoint=endpoint, instances=instances, \n",
        "                                             parameters=parameters, deployed_model_id=deployed_model_id)\n",
        "    print(\"response\")\n",
        "    print(\" deployed_model_id:\", response.deployed_model_id)\n",
        "    predictions = response.predictions\n",
        "    print(\"predictions\")\n",
        "    for prediction in predictions:\n",
        "        print(\" prediction:\", dict(prediction))\n",
        "    \n",
        "    explanations = response.explanations\n",
        "    print(\"explanations\")\n",
        "    for explanation in explanations:\n",
        "        print(\" explanation:\", explanation)\n",
        "        \n",
        "    return response\n",
        "\n",
        "\n",
        "response = explain_image(b64str, endpoint_name, None, None)"
      ],
      "execution_count": null,
      "outputs": []
    },
    {
      "cell_type": "markdown",
      "metadata": {
        "id": "Dwu0hGe6hCFl"
      },
      "source": [
        "### View the predicted classes\n",
        "\n",
        "Preview the images and their predicted classes without the explanations. Why did the model predict these classes?\n",
        "\n",
        "You can see the explanations in the next section."
      ]
    },
    {
      "cell_type": "code",
      "metadata": {
        "id": "zEwbSdGThCFl"
      },
      "source": [
        "from io import BytesIO\n",
        "import matplotlib.pyplot as plt\n",
        "import matplotlib.image as mpimg\n",
        "\n",
        "CLASSES=['airplane', 'automobile', 'bird', 'cat', 'deer', 'dog', 'frog', 'horse', 'ship', 'truck']\n",
        "\n",
        "# Note: change the `ig_response` variable below if you didn't deploy an IG model\n",
        "for prediction in response.predictions:\n",
        "    prediction = dict(prediction)\n",
        "    label_index = np.argmax(prediction['output_0'])\n",
        "    class_name = CLASSES[label_index]\n",
        "    confidence_score = prediction['output_0'][label_index]\n",
        "    print('Predicted class: ' + class_name + '\\n' + 'Confidence score: ' + str(confidence_score))\n",
        "\n",
        "    image = base64.b64decode(b64str)\n",
        "    image = BytesIO(image)\n",
        "    img = mpimg.imread(image, format='JPG')\n",
        "\n",
        "    plt.imshow(img, interpolation='nearest')\n",
        "    plt.show()"
      ],
      "execution_count": null,
      "outputs": []
    },
    {
      "cell_type": "markdown",
      "metadata": {
        "id": "sPdkzv2BhCFm"
      },
      "source": [
        "### Visualize the images with AI Explanations\n",
        "\n",
        "The images returned show the explanations for only the top class predicted by the model. This means that if one of the model's predictions is incorrect, the pixels you see highlighted are for the *incorrect class*. For example, if the model predicted \"airplane\" when it should have predicted \"cat\", you can see explanations for why the model classified this image as an airplane.\n",
        "\n",
        "If you deployed an Integrated Gradients model, you can visualize its feature attributions. Currently, the highlighted pixels returned from AI Explanations show the top 60% of pixels that contributed to the model's prediction. The pixels you see after running the cell below show the pixels that most signaled the model's prediction."
      ]
    },
    {
      "cell_type": "code",
      "metadata": {
        "id": "l12BbCefhCFm"
      },
      "source": [
        "import io\n",
        "\n",
        "for explanation in response.explanations:\n",
        "    attributions = dict(explanation.attributions[0].feature_attributions)\n",
        "    label_index = explanation.attributions[0].output_index[0]\n",
        "    class_name = CLASSES[label_index]\n",
        "    b64str = attributions['image']['b64_jpeg']\n",
        "    image = base64.b64decode(b64str)\n",
        "    image = io.BytesIO(image)\n",
        "    img = mpimg.imread(image, format='JPG')\n",
        "\n",
        "    plt.imshow(img, interpolation='nearest')\n",
        "    plt.show()"
      ],
      "execution_count": null,
      "outputs": []
    },
    {
      "cell_type": "markdown",
      "metadata": {
        "id": "4aMXnwOrhCFm"
      },
      "source": [
        "## Undeploy the model\n",
        "\n",
        "Let's now undeploy your model from the serving endpoint. Use this helper function `undeploy_model`, which takes the parameters:\n",
        "\n",
        "- `deployed_model_id`: The model deployment identifier returned by the endpoint service when the model was deployed.\n",
        "- `endpoint`: The AI Platform (Unified) fully qualified identifier for the endpoint where the model is deployed.\n",
        "\n",
        "This function uses the endpoint client service and calls the method `undeploy_model`, with the parameters:\n",
        "\n",
        "- `deployed_model_id`: The model deployment identifier returned by the endpoint service when the model was deployed.\n",
        "- `endpoint`: The AI Platform (Unified) fully qualified identifier for the endpoint where the model is deployed.\n",
        "- `traffic_split`: How to split traffic among the remaining deployed models on the endpoint.\n",
        "\n",
        "Since this is the only deployed model on the endpoint, you simply can leave `traffic_split` empty by setting it to {}."
      ]
    },
    {
      "cell_type": "code",
      "metadata": {
        "id": "WqgUMjBvhCFm"
      },
      "source": [
        "def undeploy_model(deployed_model_id, endpoint):\n",
        "    response = clients['endpoint'].undeploy_model(endpoint=endpoint, deployed_model_id=deployed_model_id, traffic_split={})\n",
        "    print(response)\n",
        "\n",
        "\n",
        "undeploy_model(deployed_model_id, endpoint_name)"
      ],
      "execution_count": null,
      "outputs": []
    },
    {
      "cell_type": "markdown",
      "metadata": {
        "id": "TpV-iwP9qw9c"
      },
      "source": [
        "# Cleaning up\n",
        "\n",
        "To clean up all GCP resources used in this project, you can [delete the GCP\n",
        "project](https://cloud.google.com/resource-manager/docs/creating-managing-projects#shutting_down_projects) you used for the tutorial.\n",
        "\n",
        "Otherwise, you can delete the individual resources you created in this tutorial:\n",
        "\n",
        "- Dataset\n",
        "- Model\n",
        "- Endpoint\n",
        "- Cloud Storage Bucket"
      ]
    },
    {
      "cell_type": "code",
      "metadata": {
        "id": "sx_vKniMq9ZX"
      },
      "source": [
        "delete_dataset = True\n",
        "delete_model = True\n",
        "delete_endpoint = True\n",
        "delete_bucket = True\n",
        "\n",
        "# Delete the dataset using the AI Platform (Unified) fully qualified identifier for the dataset\n",
        "try:\n",
        "    if delete_dataset:\n",
        "        clients['dataset'].delete_dataset(name=dataset['name'])\n",
        "except Exception as e:\n",
        "    print(e)\n",
        "\n",
        "# Delete the model using the AI Platform (Unified) fully qualified identifier for the model\n",
        "try:\n",
        "    if delete_model:\n",
        "        clients['model'].delete_model(name=model_to_deploy_name)\n",
        "except Exception as e:\n",
        "    print(e)\n",
        "\n",
        "# Delete the endpoint using the AI Platform (Unified) fully qualified identifier for the endpoint\n",
        "try:\n",
        "    if delete_endpoint:\n",
        "        clients['endpoint'].delete_endpoint(name=endpoint_name)\n",
        "except Exception as e:\n",
        "    print(e)\n",
        "\n",
        "if delete_bucket and 'BUCKET_NAME' in globals():\n",
        "    ! gsutil rm -r gs://$BUCKET_NAME\n",
        "        \n",
        "# Collect any unclaimed memory\n",
        "import gc\n",
        "gc.collect()"
      ],
      "execution_count": null,
      "outputs": []
    }
  ]
}