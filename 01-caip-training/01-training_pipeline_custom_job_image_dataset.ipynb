{
 "cells": [
  {
   "cell_type": "code",
   "execution_count": null,
   "metadata": {
    "id": "ur8xi4C7S06n"
   },
   "outputs": [],
   "source": [
    "# Copyright 2020 Google LLC\n",
    "#\n",
    "# Licensed under the Apache License, Version 2.0 (the \"License\");\n",
    "# you may not use this file except in compliance with the License.\n",
    "# You may obtain a copy of the License at\n",
    "#\n",
    "#     https://www.apache.org/licenses/LICENSE-2.0\n",
    "#\n",
    "# Unless required by applicable law or agreed to in writing, software\n",
    "# distributed under the License is distributed on an \"AS IS\" BASIS,\n",
    "# WITHOUT WARRANTIES OR CONDITIONS OF ANY KIND, either express or implied.\n",
    "# See the License for the specific language governing permissions and\n",
    "# limitations under the License."
   ]
  },
  {
   "cell_type": "markdown",
   "metadata": {
    "id": "eHLV0D7Y5jtU"
   },
   "source": [
    "# AI Platform (Unified) SDK: Training a custom image classification model using a training pipeline with a managed dataset input\n",
    "\n",
    "<table align=\"left\">\n",
    "  <td>\n",
    "    <a href=\"https://colab.research.google.com/github/GoogleCloudPlatform/ai-platform-samples/blob/master/notebooks/deepdive/custom/ucaip_customjob_image_pipeline.ipynb\">\n",
    "      <img src=\"https://cloud.google.com/ml-engine/images/colab-logo-32px.png\" alt=\"Colab logo\"> Run in Colab\n",
    "    </a>\n",
    "  </td>\n",
    "  <td>\n",
    "    <a href=\"https://github.com/GoogleCloudPlatform/ai-platform-samples/blob/master/notebooks/deepdive/custom/ucaip_customjob_image_pipeline.ipynb\">\n",
    "      <img src=\"https://cloud.google.com/ml-engine/images/github-logo-32px.png\" alt=\"GitHub logo\">\n",
    "      View on GitHub\n",
    "    </a>\n",
    "  </td>\n",
    "</table>"
   ]
  },
  {
   "cell_type": "markdown",
   "metadata": {
    "id": "tvgnzT1CKxrO"
   },
   "source": [
    "# Overview\n",
    "\n",
    "\n",
    "This tutorial demonstrates how to use the AI Platform (Unified) Python SDK to train a custom image classification model using a [training pipeline job](https://cloud.google.com/ai-platform-unified/docs/training/create-training-pipeline) with a managed dataset input.\n",
    "\n",
    "### Dataset\n",
    "\n",
    "The dataset used for this tutorial is the [Flowers dataset](https://www.tensorflow.org/datasets/catalog/tf_flowers) from [TensorFlow Datasets](https://www.tensorflow.org/datasets/catalog/overview). The version of the dataset you will use in this tutorial is stored in a public Cloud Storage bucket. The trained model predicts the type of flower an image is from a class of five flowers: daisy, dandelion, rose, sunflower, tulip.\n",
    "\n",
    "### Objective\n",
    "\n",
    "In this notebook, you will learn how to create a custom image classification model, using a training pipeline that that uses a managed dataset as the input and a custom container for the training step.\n",
    "\n",
    "The steps performed include: \n",
    "\n",
    "- Creating a AI Platform (Unified) datasets.\n",
    "- Creating a AI Platform (Unified) custom job that uses a custom training container.\n",
    "- Creating a training pipeline.\n",
    "- Starting the training pipeline job.\n",
    "- Monitoring the training pipeline job.\n",
    "- Retrieve and load the trained model artifacts.\n",
    "- View the model evaluation.\n",
    "- Deploy the model to a serving endpoint.\n",
    "- Make a prediction(s).\n",
    "- Undeploy the model.\n",
    "\n",
    "### Costs \n",
    "\n",
    "This tutorial uses billable components of Google Cloud Platform (GCP):\n",
    "\n",
    "* Cloud AI Platform\n",
    "* Cloud Storage\n",
    "\n",
    "Learn about [Cloud AI Platform\n",
    "pricing](https://cloud.google.com/ml-engine/docs/pricing) and [Cloud Storage\n",
    "pricing](https://cloud.google.com/storage/pricing), and use the [Pricing\n",
    "Calculator](https://cloud.google.com/products/calculator/)\n",
    "to generate a cost estimate based on your projected usage."
   ]
  },
  {
   "cell_type": "markdown",
   "metadata": {
    "id": "DgswXLrzGKBA"
   },
   "source": [
    "## Before you begin\n",
    "\n",
    "### GPU run-time\n",
    "\n",
    "**Make sure you're running this notebook in a GPU runtime if you have that option. In Colab, select Runtime --> Change runtime type**"
   ]
  },
  {
   "cell_type": "markdown",
   "metadata": {
    "id": "BF1j6f9HApxa"
   },
   "source": [
    "### Set up your GCP project\n",
    "\n",
    "**The following steps are required, regardless of your notebook environment.**\n",
    "\n",
    "1. [Select or create a GCP project](https://console.cloud.google.com/cloud-resource-manager). When you first create an account, you get a $300 free credit towards your compute/storage costs.\n",
    "\n",
    "2. [Make sure that billing is enabled for your project.](https://cloud.google.com/billing/docs/how-to/modify-project)\n",
    "\n",
    "3. [Enable the AI Platform APIs, Compute Engine APIs and Container Registry API.](https://console.cloud.google.com/flows/enableapi?apiid=ml.googleapis.com,compute_component,containerregistry.googleapis.com)\n",
    "\n",
    "4. [Google Cloud SDK](https://cloud.google.com/sdk) is already installed in AI Platform Notebooks.\n",
    "\n",
    "5. Follow the instructions in the repos' [README file](https://github.com/jarokaz/ucaip/blob/main/README.md) to install Cloud AI Platform (Unified), TFX, and KFP SDKs.\n",
    "\n",
    "6. Enter your project ID in the cell below. Then run the  cell to make sure the\n",
    "Cloud SDK uses the right project for all the commands in this notebook.\n",
    "\n",
    "**Note**: Jupyter runs lines prefixed with `!` as shell commands, and it interpolates Python variables prefixed with `$` into these commands."
   ]
  },
  {
   "cell_type": "markdown",
   "metadata": {
    "id": "MnPgkOPYGKBA"
   },
   "source": [
    "#### Project ID\n",
    "\n",
    "**If you don't know your project ID**, you might be able to get your project ID using `gcloud` command by executing the second cell below."
   ]
  },
  {
   "cell_type": "code",
   "execution_count": 1,
   "metadata": {
    "id": "RZwz94fXGKBA"
   },
   "outputs": [],
   "source": [
    "PROJECT_ID = \"jk-mlops-dev\" "
   ]
  },
  {
   "cell_type": "code",
   "execution_count": 2,
   "metadata": {
    "id": "oM1iC_MfAts1"
   },
   "outputs": [],
   "source": [
    "if PROJECT_ID == \"\" or PROJECT_ID is None or PROJECT_ID == \"[your-project-id]\":\n",
    "    # Get your GCP project id from gcloud\n",
    "    shell_output = ! gcloud config list --format 'value(core.project)' 2>/dev/null\n",
    "    PROJECT_ID = shell_output[0]\n",
    "    print(\"Project ID:\", PROJECT_ID)"
   ]
  },
  {
   "cell_type": "code",
   "execution_count": 3,
   "metadata": {
    "id": "zRcWSNx5GKBA"
   },
   "outputs": [
    {
     "name": "stdout",
     "output_type": "stream",
     "text": [
      "Updated property [core/project].\n"
     ]
    }
   ],
   "source": [
    "! gcloud config set project $PROJECT_ID"
   ]
  },
  {
   "cell_type": "markdown",
   "metadata": {
    "id": "v5n9X7yJGKBA"
   },
   "source": [
    "#### Region\n",
    "\n",
    "You can also change the `REGION` variable, which is used for operations\n",
    "throughout the rest of this notebook. Make sure to [choose a region where Cloud\n",
    "AI Platform services are\n",
    "available](https://cloud.google.com/ml-engine/docs/tensorflow/regions). You can\n",
    "not use a Multi-Regional Storage bucket for training with AI Platform."
   ]
  },
  {
   "cell_type": "code",
   "execution_count": 4,
   "metadata": {
    "id": "bgKerUMPGKBA"
   },
   "outputs": [],
   "source": [
    "REGION = 'us-central1' "
   ]
  },
  {
   "cell_type": "markdown",
   "metadata": {
    "id": "zgPO1eR3CYjk"
   },
   "source": [
    "### Create a Cloud Storage bucket\n",
    "\n",
    "**The following steps are required, regardless of your notebook environment.**\n",
    "\n",
    "When you submit a custom training job using the Cloud SDK, you upload a Python package\n",
    "containing your training code to a Cloud Storage bucket. AI Platform runs\n",
    "the code from this package. In this tutorial, AI Platform also saves the\n",
    "trained model that results from your job in the same bucket. You can then\n",
    "create an AI Platform endpoint based on this output in order to serve\n",
    "online predictions.\n",
    "\n",
    "Set the name of your Cloud Storage bucket below. It must be unique across all\n",
    "Cloud Storage buckets. "
   ]
  },
  {
   "cell_type": "code",
   "execution_count": 5,
   "metadata": {
    "id": "MzGDU7TWdts_"
   },
   "outputs": [],
   "source": [
    "BUCKET_NAME = \"jk-ucaip-demos\" "
   ]
  },
  {
   "cell_type": "code",
   "execution_count": 6,
   "metadata": {
    "id": "pOU0WuFyGKBA"
   },
   "outputs": [],
   "source": [
    "if BUCKET_NAME == \"\" or BUCKET_NAME is None or BUCKET_NAME == \"[your-bucket-name]\":\n",
    "    BUCKET_NAME = PROJECT_ID + \"ucaip-custom-\" + TIMESTAMP"
   ]
  },
  {
   "cell_type": "markdown",
   "metadata": {
    "id": "-EcIXiGsCePi"
   },
   "source": [
    "**Only if your bucket doesn't already exist**: Run the following cell to create your Cloud Storage bucket."
   ]
  },
  {
   "cell_type": "code",
   "execution_count": 7,
   "metadata": {
    "id": "NIq7R4HZCfIc"
   },
   "outputs": [
    {
     "name": "stdout",
     "output_type": "stream",
     "text": [
      "Creating gs://jk-ucaip-demos/...\n",
      "ServiceException: 409 Bucket jk-ucaip-demos already exists.\n"
     ]
    }
   ],
   "source": [
    "! gsutil mb -l $REGION gs://$BUCKET_NAME"
   ]
  },
  {
   "cell_type": "markdown",
   "metadata": {
    "id": "ucvCsknMCims"
   },
   "source": [
    "Finally, validate access to your Cloud Storage bucket by examining its contents:"
   ]
  },
  {
   "cell_type": "code",
   "execution_count": 8,
   "metadata": {
    "id": "vhOb7YnwClBb"
   },
   "outputs": [],
   "source": [
    "! gsutil ls -al gs://$BUCKET_NAME"
   ]
  },
  {
   "cell_type": "markdown",
   "metadata": {
    "id": "XoEqT2Y4DJmf"
   },
   "source": [
    "### Import libraries and define constants"
   ]
  },
  {
   "cell_type": "code",
   "execution_count": 9,
   "metadata": {},
   "outputs": [],
   "source": [
    "%load_ext autoreload"
   ]
  },
  {
   "cell_type": "markdown",
   "metadata": {
    "id": "Y9Uo3tifg1kx"
   },
   "source": [
    "#### Import AI Platform (Unified) SDK\n",
    "\n",
    "Import the AI Platform (Unified) SDK into our python environment."
   ]
  },
  {
   "cell_type": "code",
   "execution_count": 10,
   "metadata": {
    "id": "pRUOFELefqf1"
   },
   "outputs": [],
   "source": [
    "import json\n",
    "import os\n",
    "import sys\n",
    "import time\n",
    "\n",
    "import tensorflow as tf\n",
    "import tensorflow_io as tfio\n",
    "\n",
    "from google.cloud.aiplatform import gapic as aip\n",
    "\n",
    "from google.protobuf import json_format\n",
    "from google.protobuf.struct_pb2 import Value\n",
    "\n",
    "from datetime import datetime"
   ]
  },
  {
   "cell_type": "markdown",
   "metadata": {
    "id": "vqKm-raaGKBA"
   },
   "source": [
    "#### AI Platform (Unified) constants\n",
    "\n",
    "Let's now setup some constants for AI Platform (Unified):\n",
    "\n",
    "- `API_ENDPOINT`: The AI Platform (Unified) API service endpoint for dataset, model, job, pipeline and endpoint services.\n",
    "- `API_PREDICT_ENDPOINT`: The AI Platform (Unified) API service endpoint for prediction.\n",
    "- `PARENT`: The AI Platform (Unified) location root path for dataset, model and endpoint resources."
   ]
  },
  {
   "cell_type": "code",
   "execution_count": 11,
   "metadata": {
    "id": "py2v2Ig0GKBA"
   },
   "outputs": [],
   "source": [
    "# API Endpoint\n",
    "API_ENDPOINT = \"us-central1-aiplatform.googleapis.com\"\n",
    "API_PREDICT_ENDPOINT = \"us-central1-prediction-aiplatform.googleapis.com\"\n",
    "\n",
    "# AI Platform (Unified) location root path for your dataset, model and endpoint resources\n",
    "PARENT = \"projects/\" + PROJECT_ID + \"/locations/\" + REGION\n",
    "\n",
    "# Default timeout for API calls\n",
    "TIMEOUT = 60"
   ]
  },
  {
   "cell_type": "markdown",
   "metadata": {
    "id": "E6ppE7imft-y"
   },
   "source": [
    "# Tutorial\n",
    "\n",
    "## Clients\n",
    "\n",
    "The AI Platform (Unified) SDK works as a client/server model. On your side, the python script, you will create a client that sends requests and receives responses from the server -- AI Platform.\n",
    "\n",
    "You will use several clients in this tutorial, so set them all up upfront.\n",
    "\n",
    "- Dataset Service for managed datasets.\n",
    "- Model Service for managed models.\n",
    "- Pipeline Service for training.\n",
    "- Endpoint Service for deployment.\n",
    "- Prediction Service for serving. *Note*, prediction has a different service endpoint.\n"
   ]
  },
  {
   "cell_type": "code",
   "execution_count": 12,
   "metadata": {},
   "outputs": [
    {
     "name": "stdout",
     "output_type": "stream",
     "text": [
      "('dataset', <google.cloud.aiplatform_v1beta1.services.dataset_service.client.DatasetServiceClient object at 0x7ff8dfce9610>)\n",
      "('model', <google.cloud.aiplatform_v1beta1.services.model_service.client.ModelServiceClient object at 0x7ff8dfce95d0>)\n",
      "('pipeline', <google.cloud.aiplatform_v1beta1.services.pipeline_service.client.PipelineServiceClient object at 0x7ff8dfce9650>)\n",
      "('endpoint', <google.cloud.aiplatform_v1beta1.services.endpoint_service.client.EndpointServiceClient object at 0x7ff925f04490>)\n",
      "('prediction', <google.cloud.aiplatform_v1beta1.services.prediction_service.client.PredictionServiceClient object at 0x7ff8dfce99d0>)\n"
     ]
    }
   ],
   "source": [
    "# client options same for all services\n",
    "client_options = {\"api_endpoint\": API_ENDPOINT}\n",
    "predict_client_options = {\"api_endpoint\": API_PREDICT_ENDPOINT}\n",
    "\n",
    "\n",
    "def create_dataset_client():\n",
    "    client = aip.DatasetServiceClient(\n",
    "        client_options=client_options\n",
    "    )\n",
    "    return client\n",
    "\n",
    "\n",
    "def create_model_client():\n",
    "    client = aip.ModelServiceClient(\n",
    "        client_options=client_options\n",
    "    )\n",
    "    return client\n",
    "\n",
    "\n",
    "def create_pipeline_client():\n",
    "    client = aip.PipelineServiceClient(\n",
    "        client_options=client_options\n",
    "    )\n",
    "    return client\n",
    "\n",
    "\n",
    "def create_endpoint_client():\n",
    "    client = aip.EndpointServiceClient(\n",
    "        client_options=client_options\n",
    "    )\n",
    "    return client\n",
    "\n",
    "\n",
    "def create_prediction_client():\n",
    "    client = aip.PredictionServiceClient(\n",
    "        client_options=predict_client_options\n",
    "    )\n",
    "    return client\n",
    "\n",
    "\n",
    "clients = {}\n",
    "clients['dataset'] = create_dataset_client()\n",
    "clients['model'] = create_model_client()\n",
    "clients['pipeline'] = create_pipeline_client()\n",
    "clients['endpoint'] = create_endpoint_client()\n",
    "clients['prediction'] = create_prediction_client()\n",
    "\n",
    "for client in clients.items():\n",
    "    print(client)"
   ]
  },
  {
   "cell_type": "markdown",
   "metadata": {},
   "source": [
    "## Creating an AI Platform dataset\n",
    "\n",
    "AI Platform supports four dataset types: tabular, text, image and video. The same dataset type can be used for multiple ML tasks. For example, the image dataset type can be used for single-label classification, multi-label classification or object detection. In this sample, you will create an image dataset for the single-label classificatin task.\n",
    "\n",
    "Creating an AI Platform dataset is a two-step process. The first step is to create an empty dataset. During the first step you define the dataset type. The second step is to import the data to the dataset. This is when you specify the ML task supported by the imported data.\n",
    "\n",
    "The dataset type and the ML task are specified by a set of pre-defined YAML based schemas provided by AI Platform.\n",
    "\n",
    "### Set the dataset type and the ML task type schemas."
   ]
  },
  {
   "cell_type": "code",
   "execution_count": 13,
   "metadata": {},
   "outputs": [],
   "source": [
    "IMAGE_SCHEMA = 'google-cloud-aiplatform/schema/dataset/metadata/image_1.0.0.yaml' \n",
    "IMPORT_SCHEMA_IMAGE_CLASSIFICATION = 'gs://google-cloud-aiplatform/schema/dataset/ioformat/image_classification_single_label_io_format_1.0.0.yaml'"
   ]
  },
  {
   "cell_type": "markdown",
   "metadata": {},
   "source": [
    "### Create an empty image dataset\n",
    "\n",
    "Both creating a dataset and importing data are long running operations in AI Platform. The long running operations use asynchronous calls. An asynchronous call does not block a caller and returns an `operation` object that can by subsequently used to monitor/control the operation by invoking methods exposed by the object:\n",
    "\n",
    "\n",
    "| Method      | Description |\n",
    "| ----------- | ----------- |\n",
    "| result()    | Waits for the operation to complete and returns a result object in JSON format.      |\n",
    "| running()   | Returns True/False on whether the operation is still running.        |\n",
    "| done()      | Returns True/False on whether the operation is completed. |\n",
    "| canceled()  | Returns True/False on whether the operation was canceled. |\n",
    "| cancel()    | Cancels the operation (this may take up to 30 seconds). |\n",
    "\n"
   ]
  },
  {
   "cell_type": "code",
   "execution_count": 14,
   "metadata": {},
   "outputs": [],
   "source": [
    "display_name = 'flowers'\n",
    "\n",
    "dataset = aip.Dataset(\n",
    "    display_name=display_name,\n",
    "    metadata_schema_uri=f'gs://{IMAGE_SCHEMA}',\n",
    "    labels=None\n",
    ")"
   ]
  },
  {
   "cell_type": "code",
   "execution_count": null,
   "metadata": {},
   "outputs": [],
   "source": [
    "operation = clients['dataset'].create_dataset(parent=PARENT, dataset=dataset)\n",
    "print(\"Long running operation:\", operation.operation.name)\n",
    "response = operation.result(timeout=TIMEOUT)\n",
    "print(response)\n",
    "dataset_name = response.name"
   ]
  },
  {
   "cell_type": "markdown",
   "metadata": {},
   "source": [
    "### Prepare data for import\n",
    "\n",
    "The data to be imported to an AI Platform image dataset must meet the following requirements:\n",
    "\n",
    "- Images must be stored in a Cloud Storage bucket.\n",
    "- Each image file must be in an image format (PNG, JPEG, BMP, ...).\n",
    "- There must be an index file stored in your Cloud Storage bucket that contains the path and annotations for each image.\n",
    "- The index file must be either CSV or JSONL.\n",
    "\n",
    "#### CSV\n",
    "\n",
    "For image classification, the CSV index file must have the following format:\n",
    "\n",
    "- No heading\n",
    "- First column is the Cloud Storage path to the image.\n",
    "- Second column is the label.\n",
    "\n",
    "#### JSONL\n",
    "\n",
    "The format of the JSONL index must be as follows:\n",
    "\n",
    "- Each data item is a separate JSON object, on a separate line.\n",
    "- The key/value pair 'image_gcs_uri' is the Cloud Storage path to the image.\n",
    "- The key/value pair 'classification_annotation' is the label field.\n",
    " - The key/value pair 'display_name' is the label\n",
    "\n",
    "    { 'image_gcs_uri': image, 'classification_annotation': { 'display_name': label } }\n",
    "    \n",
    "*Note*: The dictionary key fields may alternatively be in camelCase. For example, 'image_gcs_uri' can also be 'imageGcsUri'.\n",
    "\n",
    "#### Dataset splitting\n",
    "\n",
    "The index files may include information about data splitting.\n",
    "\n",
    "##### CSV\n",
    "\n",
    "Each row entry in a CSV index file can be preceded by a first column that indicates whether the data is part of the training (TRAINING), test (TEST) or validation (VALIDATION) data. Alternatively, AI Platform (Unified) supports the CAIP (pre-AI Platform (Unified)) version of the tags: TRAIN, TEST and VALIDATE. For example:\n",
    "\n",
    "    TRAINING, \"this is the data item\", \"this is the label\"\n",
    "    TEST, \"this is the data item\", \"this is the label\"\n",
    "    VALIDATION, \"this is the data item\", \"this is the label\"\n",
    "    \n",
    "##### JSONL\n",
    "\n",
    "Each object entry in a JSONL index file can have a 'ml_use' key/value pair that indicates whether the data is part of the training (training), test (test) or validation (validation) data.\n",
    "\n",
    "    { 'image_gcs_uri': image, 'classification_annotation': { 'display_name': label }, 'data_item_resource_labels':{'aiplatform.googleapis.com/ml_use':'training'} }\n",
    "    \n",
    "If the index does not contain data splitting information, AI Platform will automatically split the dataset for you."
   ]
  },
  {
   "cell_type": "markdown",
   "metadata": {},
   "source": [
    "### Import data\n",
    "\n",
    "We have preprocessed the [Flowers dataset](https://www.tensorflow.org/datasets/catalog/tf_flowers) to the import format required by AI Platform.\n"
   ]
  },
  {
   "cell_type": "code",
   "execution_count": 15,
   "metadata": {},
   "outputs": [],
   "source": [
    "IMPORT_FILE = 'gs://cloud-samples-data/vision/automl_classification/flowers/flowers.jsonl'"
   ]
  },
  {
   "cell_type": "code",
   "execution_count": 16,
   "metadata": {},
   "outputs": [
    {
     "name": "stdout",
     "output_type": "stream",
     "text": [
      "{'image_gcs_uri': 'gs://cloud-ml-data/img/flower_photos/daisy/10140303196_b88d3d6cec.jpg', 'classification_annotation': {'display_name': 'daisy'}}\n",
      "{'image_gcs_uri': 'gs://cloud-ml-data/img/flower_photos/daisy/10172379554_b296050f82_n.jpg', 'classification_annotation': {'display_name': 'daisy'}}\n",
      "{'image_gcs_uri': 'gs://cloud-ml-data/img/flower_photos/daisy/10172567486_2748826a8b.jpg', 'classification_annotation': {'display_name': 'daisy'}}"
     ]
    }
   ],
   "source": [
    "!gsutil cat -r 0-441 {IMPORT_FILE}"
   ]
  },
  {
   "cell_type": "markdown",
   "metadata": {},
   "source": [
    "To import the data call the `import_data` method exposed by the dataset client."
   ]
  },
  {
   "cell_type": "code",
   "execution_count": null,
   "metadata": {},
   "outputs": [],
   "source": [
    "config = [{\n",
    "    'gcs_source': {'uris': [IMPORT_FILE]},\n",
    "    'import_schema_uri': IMPORT_SCHEMA_IMAGE_CLASSIFICATION\n",
    "}]\n",
    "\n",
    "operation = clients['dataset'].import_data(name=dataset_name, import_configs=config)\n",
    "print(\"Long running operation:\", operation.operation.name)\n",
    "response = operation.result()\n",
    "print(response)"
   ]
  },
  {
   "cell_type": "markdown",
   "metadata": {},
   "source": [
    "### Get dataset information\n",
    "\n",
    "You can list all datasets in your project and retrieve detailed information about a specific dataset using the `list_datasets` and `get_datasets` methods."
   ]
  },
  {
   "cell_type": "code",
   "execution_count": 17,
   "metadata": {},
   "outputs": [
    {
     "name": "stdout",
     "output_type": "stream",
     "text": [
      "flowers   projects/895222332033/locations/us-central1/datasets/8733200957099212800\n",
      "flowers-full   projects/895222332033/locations/us-central1/datasets/7956470758866157568\n"
     ]
    }
   ],
   "source": [
    "response = clients['dataset'].list_datasets(parent=PARENT)\n",
    "for dataset in response:\n",
    "    print(dataset.display_name, ' ', dataset.name)"
   ]
  },
  {
   "cell_type": "code",
   "execution_count": 19,
   "metadata": {},
   "outputs": [],
   "source": [
    "dataset_name = 'projects/895222332033/locations/us-central1/datasets/8733200957099212800'"
   ]
  },
  {
   "cell_type": "code",
   "execution_count": 20,
   "metadata": {},
   "outputs": [
    {
     "name": "stdout",
     "output_type": "stream",
     "text": [
      "name: \"projects/895222332033/locations/us-central1/datasets/8733200957099212800\"\n",
      "display_name: \"flowers\"\n",
      "metadata_schema_uri: \"gs://google-cloud-aiplatform/schema/dataset/metadata/image_1.0.0.yaml\"\n",
      "create_time {\n",
      "  seconds: 1612197087\n",
      "  nanos: 709678000\n",
      "}\n",
      "update_time {\n",
      "  seconds: 1612197088\n",
      "  nanos: 259187000\n",
      "}\n",
      "etag: \"AMEw9yNSeon3T8RaWPfnWxUQtIFlvPRpAlCU5OOgqp1z6mlG6PDyiZj6KHIDpsxlhlA=\"\n",
      "labels {\n",
      "  key: \"aiplatform.googleapis.com/dataset_metadata_schema\"\n",
      "  value: \"IMAGE\"\n",
      "}\n",
      "metadata {\n",
      "  struct_value {\n",
      "    fields {\n",
      "      key: \"dataItemSchemaUri\"\n",
      "      value {\n",
      "        string_value: \"gs://google-cloud-aiplatform/schema/dataset/dataitem/image_1.0.0.yaml\"\n",
      "      }\n",
      "    }\n",
      "    fields {\n",
      "      key: \"gcsBucket\"\n",
      "      value {\n",
      "        string_value: \"cloud-ai-platform-dd92d61a-4628-4e8c-a94b-43eb3cee0e5f\"\n",
      "      }\n",
      "    }\n",
      "  }\n",
      "}\n",
      "\n"
     ]
    }
   ],
   "source": [
    "response = clients['dataset'].get_dataset(name=dataset_name)\n",
    "print(response)"
   ]
  },
  {
   "cell_type": "markdown",
   "metadata": {},
   "source": [
    "### List data items\n",
    "\n",
    "To retrieve the dataset's data items you can use the `list_data_items` method. "
   ]
  },
  {
   "cell_type": "code",
   "execution_count": 21,
   "metadata": {},
   "outputs": [
    {
     "name": "stdout",
     "output_type": "stream",
     "text": [
      "Number of images: 3666\n",
      "An example of item specification:\n",
      "name: \"projects/895222332033/locations/us-central1/datasets/8733200957099212800/dataItems/9213637801582835345\"\n",
      "create_time {\n",
      "  seconds: 1612200235\n",
      "  nanos: 515030000\n",
      "}\n",
      "payload {\n",
      "  struct_value {\n",
      "    fields {\n",
      "      key: \"gcsUri\"\n",
      "      value {\n",
      "        string_value: \"gs://cloud-ml-data/img/flower_photos/tulips/8722514702_7ecc68691c.jpg\"\n",
      "      }\n",
      "    }\n",
      "    fields {\n",
      "      key: \"mimeType\"\n",
      "      value {\n",
      "        string_value: \"image/jpeg\"\n",
      "      }\n",
      "    }\n",
      "  }\n",
      "}\n",
      "update_time {\n",
      "  seconds: 1612200235\n",
      "  nanos: 515030000\n",
      "}\n",
      "etag: \"AMEw9yNnGIiYVoXWZKSvRNUX-2aQhkajAmEZA3jwYCkG8enOxkfF4HKD7PwCY3uJpyaH\"\n",
      "\n"
     ]
    }
   ],
   "source": [
    "count = 0\n",
    "response = clients['dataset'].list_data_items(parent=dataset_name)\n",
    "    \n",
    "for data_item in response:\n",
    "    count += 1\n",
    "\n",
    "print('Number of images: {}'.format(count))\n",
    "print('An example of item specification:')\n",
    "print(data_item)\n"
   ]
  },
  {
   "cell_type": "markdown",
   "metadata": {
    "id": "NTTuoxOfGKBA"
   },
   "source": [
    "## Training a model \n",
    "\n",
    "The dataset is ready so we can move on to configuring a training job. There are three methods of training a custom model in AI Platform:\n",
    "* [Custom jobs](https://cloud.google.com/ai-platform-unified/docs/training/create-custom-job)\n",
    "* [Hyperparameter tuning jobs](https://cloud.google.com/ai-platform-unified/docs/training/using-hyperparameter-tuning)\n",
    "* [Training pipelines](https://cloud.google.com/ai-platform-unified/docs/training/create-training-pipeline)\n",
    "\n",
    "A training pipeline encapsulates  additional steps in addition to a training step, specifically: accessing data from an AI Platform dataset and uploading the trained model to AI Platform. The training step of a training pipeline can be either a Custom job or a Hyperparameter tuning job. \n",
    "\n",
    "In this sample, we utilize a training pipeline with a custom job training step.\n",
    "\n",
    "There are two ways you can configure a custom training job:\n",
    "\n",
    "- **Use a Google Cloud prebuilt container**. If you use a prebuilt container, you will additionally specify a Python package to install into the container image. This Python package contains your code for training a custom model.\n",
    "\n",
    "- **Use your own custom container image**. If you use your own container, the container needs to contain your code for training a custom model.\n",
    "\n",
    "You will use the second method."
   ]
  },
  {
   "cell_type": "markdown",
   "metadata": {},
   "source": [
    "### Create a training container image\n",
    "#### Create a folder for training images source code and configs"
   ]
  },
  {
   "cell_type": "code",
   "execution_count": 22,
   "metadata": {},
   "outputs": [],
   "source": [
    "! rm -fr trainer; mkdir trainer\n",
    "! touch trainer/__init__.py"
   ]
  },
  {
   "cell_type": "markdown",
   "metadata": {},
   "source": [
    "#### Define the training script. \n",
    "\n",
    "In the next cell, you will write the contents of the training script to the `task.py` file.\n",
    "\n",
    "Review the script. In summary, the script uses transfer learning to train an image classification model. The model uses the pre-trained ResNet50 as a base and a simple FCNN classifiction top. The script builds a `tf.data` data ingestion pipeline using the AI Platform dataset as a source. Notice how the AI Platform dataset is passed to the script.\n",
    "\n",
    "At runtime, AI Platform passes metadata about your dataset to your training application by setting the following environment variables in your training container.\n",
    "\n",
    "* AIP_DATA_FORMAT: The format that your dataset is exported in. Possible values include: jsonl, csv, or bigquery.\n",
    "* AIP_TRAINING_DATA_URI: The location that your training data is stored at.\n",
    "* AIP_VALIDATION_DATA_URI: The location that your validation data is stored at.\n",
    "* AIP_TEST_DATA_URI: The location that your test data is stored at.\n",
    "\n",
    "If the AIP_DATA_FORMAT of your dataset is jsonl or csv, the data URI values refer to Cloud Storage URIs, like `gs://bucket_name/path/training-*`. To keep the size of each data file relatively small, AI Platform splits your dataset into multiple files. Because your training, validation, or test data may be split into multiple files, the URIs are provided in wildcard format.\n",
    "\n",
    "Image datasets are passed to your training application in JSONL format. The schema is virtually the same as the schema of the index used to import the image data.\n",
    "\n",
    "Refer to [AI Platform (Unified)](https://cloud.google.com/ai-platform-unified/docs/training/using-managed-datasets) for more information about using managed datasets in a custom training application."
   ]
  },
  {
   "cell_type": "code",
   "execution_count": 25,
   "metadata": {},
   "outputs": [
    {
     "name": "stdout",
     "output_type": "stream",
     "text": [
      "Overwriting trainer/task.py\n"
     ]
    }
   ],
   "source": [
    "%%writefile trainer/task.py\n",
    "# Copyright 2020 Google Inc. All Rights Reserved.\n",
    "#\n",
    "# Licensed under the Apache License, Version 2.0 (the \"License\");\n",
    "# you may not use this file except in compliance with the License.\n",
    "# You may obtain a copy of the License at\n",
    "#\n",
    "#            http://www.apache.org/licenses/LICENSE-2.0\n",
    "#\n",
    "# Unless required by applicable law or agreed to in writing, software\n",
    "# distributed under the License is distributed on an \"AS IS\" BASIS,\n",
    "# WITHOUT WARRANTIES OR CONDITIONS OF ANY KIND, either express or implied.\n",
    "# See the License for the specific language governing permissions and\n",
    "\n",
    "import argparse\n",
    "import os\n",
    "import time\n",
    "\n",
    "#import hypertune\n",
    "import numpy as np\n",
    "import pandas as pd\n",
    "import tensorflow as tf\n",
    "\n",
    "\n",
    "IMG_HEIGHT = 224\n",
    "IMG_WIDTH = 224\n",
    "AUTOTUNE = tf.data.experimental.AUTOTUNE\n",
    "\n",
    "    \n",
    "def build_model(num_layers, dropout_ratio, num_classes):\n",
    "    \"\"\"\n",
    "    Creates a custom image classificatin model using ResNet50 \n",
    "    as a base model.\n",
    "    \"\"\"\n",
    "    \n",
    "    # Create the base model\n",
    "    IMG_SHAPE = (IMG_HEIGHT, IMG_WIDTH, 3)\n",
    "    base_model = tf.keras.applications.ResNet50(input_shape=IMG_SHAPE,\n",
    "                                                   include_top=False,\n",
    "                                                   weights='imagenet',\n",
    "                                                   pooling='avg')\n",
    "    base_model.trainable = False\n",
    "    \n",
    "    # Add preprocessing and classification head\n",
    "    inputs = tf.keras.Input(shape=IMG_SHAPE)\n",
    "    x = tf.keras.applications.mobilenet_v2.preprocess_input(inputs)\n",
    "    x = base_model(x)\n",
    "    x = tf.keras.layers.Dense(num_layers, activation='relu')(x)\n",
    "    x = tf.keras.layers.Dropout(dropout_ratio)(x)\n",
    "    outputs = tf.keras.layers.Dense(num_classes)(x)\n",
    "    \n",
    "    # Assemble the model\n",
    "    model = tf.keras.Model(inputs, outputs)\n",
    "    \n",
    "    # Compile the model\n",
    "    base_learning_rate = 0.0001\n",
    "    model.compile(optimizer=tf.keras.optimizers.Adam(lr=base_learning_rate),\n",
    "                  loss=tf.keras.losses.SparseCategoricalCrossentropy(from_logits=True),\n",
    "                  metrics=['accuracy'])\n",
    "    \n",
    "    return model\n",
    "\n",
    "\n",
    "def image_dataset_from_aip_jsonl(pattern, class_names=None, img_height=224, img_width=224):\n",
    "        \"\"\"\n",
    "        Generates a `tf.data.Dataset` from a set of JSONL files\n",
    "        in the AI Platform image dataset index format. \n",
    "        \n",
    "        Arguments:\n",
    "            pattern: A wildcard pattern for a list of JSONL files.\n",
    "                E.g. gs://bucket/folder/training-*.\n",
    "            class_names: the list of class names that are expected\n",
    "                in the passed index. \n",
    "            img_height: The height of a generated image\n",
    "            img_width: The width of a generated image\n",
    "            \n",
    "        \"\"\"\n",
    "        \n",
    "        def _get_label(class_name):\n",
    "            \"\"\"\n",
    "            Converts a string class name to an integer label.\n",
    "            \"\"\"\n",
    "            one_hot = class_name == class_names\n",
    "            return tf.argmax(one_hot)\n",
    "        \n",
    "        def _decode_img(file_path):\n",
    "            \"\"\"\n",
    "            Loads an image and converts it to a resized 3D tensor.\n",
    "            \"\"\"\n",
    "            \n",
    "            img = tf.io.read_file(file_path)\n",
    "            img = tf.io.decode_image(img, \n",
    "                                     expand_animations=False)\n",
    "            img = tf.image.resize(img, [img_height, img_width])\n",
    "            \n",
    "            return img\n",
    "            \n",
    "        def _process_example(file_path, class_name):\n",
    "            \"\"\"\n",
    "            Creates a converted image and a class label from\n",
    "            an image path and class name.\n",
    "            \"\"\"\n",
    "            \n",
    "            label = _get_label(class_name)\n",
    "            img = _decode_img(file_path)\n",
    "            \n",
    "            return img, label\n",
    "        \n",
    "        # Read the JSONL index to a pandas DataFrame\n",
    "        df = pd.concat(\n",
    "            [pd.read_json(path, lines=True) for path in tf.io.gfile.glob(pattern)],\n",
    "            ignore_index=True\n",
    "        )\n",
    "        \n",
    "        # Parse classifcationAnnotations field\n",
    "        df = pd.concat(\n",
    "            [df, pd.json_normalize(df['classificationAnnotations'].apply(pd.Series)[0])], axis=1)\n",
    "        \n",
    "        paths = df['imageGcsUri'].values\n",
    "        labels = df['displayName'].values\n",
    "        inferred_class_names = np.unique(labels)\n",
    "        \n",
    "        if class_names is not None:\n",
    "            class_names = np.array(class_names).astype(str)\n",
    "            if set(inferred_class_names) != set(class_names):\n",
    "                raise ValueError(\n",
    "                    'The `class_names` passed does not match the '\n",
    "                    'names in the image index '\n",
    "                    'Expected: %s, received %s' %\n",
    "                    (inferred_class_names, class_names))\n",
    "            \n",
    "        class_names = tf.constant(inferred_class_names)\n",
    "        \n",
    "        dataset = tf.data.Dataset.from_tensor_slices((paths, labels))\n",
    "        dataset = dataset.shuffle(len(labels), reshuffle_each_iteration=False)\n",
    "        dataset = dataset.map(_process_example, num_parallel_calls=AUTOTUNE)\n",
    "        dataset.class_names = class_names\n",
    "        \n",
    "        return dataset\n",
    "\n",
    "\n",
    "def get_datasets(batch_size, img_height, img_width):\n",
    "    \"\"\"\n",
    "    Creates training and validation splits as tf.data datasets\n",
    "    from an AI Platform Dataset passed by the training pipeline.\n",
    "    \"\"\"\n",
    "    \n",
    "    def _configure_for_performance(ds):\n",
    "        \"\"\"\n",
    "        Optimizes the performance of a dataset.\n",
    "        \"\"\"\n",
    "        ds = ds.cache()\n",
    "        ds = ds.prefetch(buffer_size=AUTOTUNE)\n",
    "        return ds\n",
    "    \n",
    "    if  os.environ['AIP_DATA_FORMAT'] != 'jsonl':\n",
    "        raise RuntimeError('Wrong dataset format: {}. Expecting - jsonl'.format(\n",
    "            os.environ['AIP_DATA_FORMAT']))\n",
    "        \n",
    "    train_ds = image_dataset_from_aip_jsonl(\n",
    "        pattern=os.environ['AIP_TRAINING_DATA_URI'],\n",
    "        img_height=img_height,\n",
    "        img_width=img_width)\n",
    "    \n",
    "    class_names = train_ds.class_names.numpy()\n",
    "        \n",
    "    valid_ds = image_dataset_from_aip_jsonl(\n",
    "        pattern=os.environ['AIP_VALIDATION_DATA_URI'],\n",
    "        class_names=class_names,\n",
    "        img_height=img_height,\n",
    "        img_width=img_width)\n",
    "    \n",
    "    train_ds = _configure_for_performance(train_ds.batch(batch_size))\n",
    "    valid_ds = _configure_for_performance(valid_ds.batch(batch_size))\n",
    "    \n",
    "    return train_ds, valid_ds, class_names\n",
    "        \n",
    "    \n",
    "def get_args():\n",
    "    \"\"\"\n",
    "    Returns parsed command line arguments\n",
    "    \"\"\"\n",
    "    \n",
    "    parser = argparse.ArgumentParser()\n",
    "    parser.add_argument(\n",
    "        '--num-epochs',\n",
    "        type=int,\n",
    "        default=20,\n",
    "        help='number of times to go through the data, default=20')\n",
    "    parser.add_argument(\n",
    "        '--batch-size',\n",
    "        default=32,\n",
    "        type=int,\n",
    "        help='number of records to read during each training step, default=32')\n",
    "    parser.add_argument(\n",
    "        '--num-layers',\n",
    "        default=64,\n",
    "        type=int,\n",
    "        help='number of hidden layers in the classification head , default=64')\n",
    "    parser.add_argument(\n",
    "        '--dropout-ratio',\n",
    "        default=0.5,\n",
    "        type=float,\n",
    "        help='dropout ration in the classification head , default=128')\n",
    "    parser.add_argument(\n",
    "        '--model-dir',\n",
    "        type=str,\n",
    "        default='/tmp/saved_model',\n",
    "        help='model dir , default=/tmp/saved_model')\n",
    "\n",
    "    args, _ = parser.parse_known_args()\n",
    "    return args\n",
    "\n",
    "\n",
    "if __name__ == \"__main__\":\n",
    "    \n",
    "    if 'AIP_DATA_FORMAT' not in os.environ:\n",
    "        raise RuntimeError('No dataset information available.')\n",
    "   \n",
    "    args = get_args()\n",
    "    \n",
    "    # Create the datasets and the model\n",
    "    train_ds, valid_ds, class_names = get_datasets(args.batch_size, IMG_HEIGHT, IMG_WIDTH)\n",
    "    model = build_model(args.num_layers, args.dropout_ratio, len(class_names))\n",
    "    print(model.summary())\n",
    "    \n",
    "    # Start training\n",
    "    history = model.fit(x=train_ds, \n",
    "                        validation_data=valid_ds, \n",
    "                        epochs=args.num_epochs)\n",
    "    \n",
    "    # Save the model\n",
    "    if 'AIP_MODEL_DIR' in os.environ:\n",
    "        model_dir = os.environ['AIP_MODEL_DIR']\n",
    "    else:\n",
    "        model_dir = args.model_dir\n",
    "    print('Saving the model to: {}'.format(model_dir))\n",
    "    model.save(model_dir)\n",
    "\n"
   ]
  },
  {
   "cell_type": "markdown",
   "metadata": {},
   "source": [
    "Create a Dockefile"
   ]
  },
  {
   "cell_type": "code",
   "execution_count": 26,
   "metadata": {},
   "outputs": [
    {
     "name": "stdout",
     "output_type": "stream",
     "text": [
      "Overwriting Dockerfile\n"
     ]
    }
   ],
   "source": [
    "%%writefile Dockerfile\n",
    "\n",
    "FROM gcr.io/deeplearning-platform-release/tf2-gpu.2-4\n",
    "\n",
    "RUN pip install -U 'h5py<3.0.0'\n",
    "\n",
    "WORKDIR /\n",
    "\n",
    "# Copies the trainer code to the docker image.\n",
    "COPY trainer /trainer\n",
    "\n",
    "# Sets up the entry point to invoke the trainer.\n",
    "ENTRYPOINT [\"python\", \"-m\", \"trainer.task\"]"
   ]
  },
  {
   "cell_type": "markdown",
   "metadata": {},
   "source": [
    "Build the container image"
   ]
  },
  {
   "cell_type": "code",
   "execution_count": 27,
   "metadata": {},
   "outputs": [],
   "source": [
    "TRAIN_IMAGE = f'gcr.io/{PROJECT_ID}/image_classifier'"
   ]
  },
  {
   "cell_type": "code",
   "execution_count": 28,
   "metadata": {},
   "outputs": [
    {
     "name": "stdout",
     "output_type": "stream",
     "text": [
      "Sending build context to Docker daemon  193.5kB\n",
      "Step 1/5 : FROM gcr.io/deeplearning-platform-release/tf2-gpu.2-4\n",
      " ---> 52966c7cf03a\n",
      "Step 2/5 : RUN pip install -U 'h5py<3.0.0'\n",
      " ---> Using cache\n",
      " ---> f065ab65c161\n",
      "Step 3/5 : WORKDIR /\n",
      " ---> Using cache\n",
      " ---> aae56f883994\n",
      "Step 4/5 : COPY trainer /trainer\n",
      " ---> ad601d7fb22f\n",
      "Step 5/5 : ENTRYPOINT [\"python\", \"-m\", \"trainer.task\"]\n",
      " ---> Running in edbb17d98196\n",
      "Removing intermediate container edbb17d98196\n",
      " ---> f4f98e081960\n",
      "Successfully built f4f98e081960\n",
      "Successfully tagged gcr.io/jk-mlops-dev/image_classifier:latest\n"
     ]
    }
   ],
   "source": [
    "! docker build -t {TRAIN_IMAGE} ."
   ]
  },
  {
   "cell_type": "markdown",
   "metadata": {},
   "source": [
    "Push the image to Container Registry"
   ]
  },
  {
   "cell_type": "code",
   "execution_count": 29,
   "metadata": {},
   "outputs": [
    {
     "name": "stdout",
     "output_type": "stream",
     "text": [
      "The push refers to repository [gcr.io/jk-mlops-dev/image_classifier]\n",
      "\n",
      "\u001b[1Baa580941: Preparing \n",
      "\u001b[1B3a33f712: Preparing \n",
      "\u001b[1B370b39ff: Preparing \n",
      "\u001b[1Bb2ec84eb: Preparing \n",
      "\u001b[1B35f3f472: Preparing \n",
      "\u001b[1B311b54d1: Preparing \n",
      "\u001b[1B37fcf8a7: Preparing \n",
      "\u001b[1Bc5334f43: Preparing \n",
      "\u001b[1B8f1521c3: Preparing \n",
      "\u001b[1B21c79fd1: Preparing \n",
      "\u001b[1B2f63e1cf: Preparing \n",
      "\u001b[1B7d3dd7ec: Preparing \n",
      "\u001b[1B38633fe1: Preparing \n",
      "\u001b[1Bf29b440a: Preparing \n",
      "\u001b[1B4b39f2b3: Preparing \n",
      "\u001b[1B6711628b: Preparing \n",
      "\u001b[1Bf5975ab3: Preparing \n",
      "\u001b[1B17ba195d: Preparing \n",
      "\u001b[1Bbec4097a: Preparing \n",
      "\u001b[1B00c31be3: Preparing \n",
      "\u001b[1B18b890fc: Preparing \n",
      "\u001b[1Ba7c9e3d1: Preparing \n",
      "\u001b[16B5334f43: Waiting g \n",
      "\u001b[1B30bcc944: Preparing \n",
      "\u001b[17Bf1521c3: Waiting g \n",
      "\u001b[1B4df0ad6c: Preparing \n",
      "\u001b[18B1c79fd1: Waiting g \n",
      "\u001b[28Ba580941: Pushed lready exists 6kB\u001b[28A\u001b[2K\u001b[25A\u001b[2K\u001b[23A\u001b[2K\u001b[21A\u001b[2K\u001b[19A\u001b[2K\u001b[16A\u001b[2K\u001b[14A\u001b[2K\u001b[11A\u001b[2K\u001b[8A\u001b[2K\u001b[5A\u001b[2K\u001b[3A\u001b[2K\u001b[28A\u001b[2Klatest: digest: sha256:d2fefd69df44ac565af5e58b5b3d583ac50515f931ac56ecf64a7de721d11bd5 size: 6197\n"
     ]
    }
   ],
   "source": [
    "! docker push {TRAIN_IMAGE}"
   ]
  },
  {
   "cell_type": "markdown",
   "metadata": {},
   "source": [
    "### Define the training pipeline\n",
    "\n",
    "You will define a training pipeline that uses the Flowers dataset as input, runs training as a custom training job, and uploads the trained model to AI Platform. \n",
    "\n",
    "Let's start by assembling the custom training job specification.\n",
    "\n",
    "#### Assemble the job specification\n",
    "\n",
    "Your custom training job will use a custom training container created in the previous step. Recall that the training scripts can be configured through command line parameters. For example you set a number of training epochs.\n"
   ]
  },
  {
   "cell_type": "code",
   "execution_count": 30,
   "metadata": {},
   "outputs": [],
   "source": [
    "epochs = 5\n",
    "\n",
    "container_spec = {\n",
    "    \"image_uri\": TRAIN_IMAGE, \n",
    "    \"args\": [\n",
    "        \"--num-epochs=\" + str(epochs),\n",
    "    ],\n",
    "}"
   ]
  },
  {
   "cell_type": "markdown",
   "metadata": {},
   "source": [
    "Next, you define the worker pool specification for your custom training job. This tells AI Platform what type and how many instances of machines to provision for the training.\n",
    "\n",
    "For this tutorial, you will use a single instance (node). \n",
    "\n",
    "- `replica_count`: The number of instances to provision of this machine type.\n",
    "- `machine_type`: The type of GCP instance to provision -- e.g., n1-standard-8.\n",
    "- `accelerator_type`: The type, if any, of hardware accelerator. \n",
    "- `accelerator_count`: The number of accelerators.\n",
    "- `container_spec`: The docker container to install on the instance(s).\n",
    "\n",
    "Available accelerators include:\n",
    "   - aip.AcceleratorType.NVIDIA_TESLA_K80\n",
    "   - aip.AcceleratorType.NVIDIA_TESLA_P100\n",
    "   - aip.AcceleratorType.NVIDIA_TESLA_P4\n",
    "   - aip.AcceleratorType.NVIDIA_TESLA_T4\n",
    "   - aip.AcceleratorType.NVIDIA_TESLA_V100\n",
    "\n",
    "Available machine types include:\n",
    "- `n1-standard`: 3.75GB of memory per vCPU.\n",
    "- `n1-highmem`: 6.5GB of memory per vCPU\n",
    "- `n1-highcpu`: 0.9 GB of memoryn per vCPU\n",
    " - `vCPUs`: number of \\[2, 4, 8, 16, 32, 64, 96 \\]\n",
    " \n",
    "*Note, the following is not supported for training*\n",
    " \n",
    " - `standard`: 2 vCPUs\n",
    " - `highcpu`: 2, 4 and 8 vCPUs\n",
    " \n",
    "*Note, you may also use n2 and e2 machine types for training and deployment, but they do not support GPUs*"
   ]
  },
  {
   "cell_type": "code",
   "execution_count": 31,
   "metadata": {},
   "outputs": [],
   "source": [
    "worker_pool_spec = [\n",
    "    {\n",
    "        \"replica_count\": 1,\n",
    "        \"machine_spec\": {\n",
    "            \"machine_type\": \"n1-standard-4\",\n",
    "            \"accelerator_type\": aip.AcceleratorType.NVIDIA_TESLA_K80,\n",
    "            \"accelerator_count\": 1\n",
    "        },\n",
    "        \"container_spec\": container_spec,\n",
    "    }\n",
    "]"
   ]
  },
  {
   "cell_type": "markdown",
   "metadata": {},
   "source": [
    "Let's now assemble the custom job specification. \n",
    "\n",
    "After the custom job completes, the training pipeline finds the model artifacts that your training application creates in the output directory you specified for your Cloud Storage bucket. It uses these artifacts to create a model resource, which sets you up for model deployment.\n",
    "\n",
    "There are two different ways to set the location for your model artifacts:\n",
    "\n",
    "* If you set a `baseOutputDirectory` for your training job, make sure your training code saves your model artifacts to that location, using the `AIP_MODEL_DIR` environment variable set by AI Platform. After the training job is completed, AI Platform searches for the resulting model artifacts in `gs://BASE_OUTPUT_DIRECTORY/model`.\n",
    "* If you set the `modelToUpload.artifactUri` field, the training pipeline uploads the model artifacts from that URI. You must set this field if you didn't set `baseOutputDirectory`.\n",
    "\n",
    "If you specify both `baseOutputDirectory` and `modelToUpload.artifactUri`, AI Platform uses `modelToUpload.artifactUri`."
   ]
  },
  {
   "cell_type": "code",
   "execution_count": 32,
   "metadata": {},
   "outputs": [
    {
     "data": {
      "text/plain": [
       "{'worker_pool_specs': [{'replica_count': 1,\n",
       "   'machine_spec': {'machine_type': 'n1-standard-4',\n",
       "    'accelerator_type': <AcceleratorType.NVIDIA_TESLA_K80: 1>,\n",
       "    'accelerator_count': 1},\n",
       "   'container_spec': {'image_uri': 'gcr.io/jk-mlops-dev/image_classifier',\n",
       "    'args': ['--num-epochs=5']}}],\n",
       " 'base_output_directory': {'output_uri_prefix': 'gs://jk-ucaip-demos/image-classifier-pipeline-20210202044657/'}}"
      ]
     },
     "execution_count": 32,
     "metadata": {},
     "output_type": "execute_result"
    }
   ],
   "source": [
    "timestamp = datetime.now().strftime(\"%Y%m%d%H%M%S\")\n",
    "pipeline_display_name = 'image-classifier-pipeline-' + timestamp\n",
    "base_output_dir = 'gs://{}/{}/'.format(BUCKET_NAME, pipeline_display_name)\n",
    "job_spec =  {\n",
    "    \"worker_pool_specs\": worker_pool_spec,\n",
    "    \"base_output_directory\": {\n",
    "        \"output_uri_prefix\": base_output_dir\n",
    "    }\n",
    "}\n",
    "job_spec"
   ]
  },
  {
   "cell_type": "markdown",
   "metadata": {},
   "source": [
    "#### Assemble the pipeline specification\n",
    "\n",
    "You can now assemble the pipeline specification."
   ]
  },
  {
   "cell_type": "code",
   "execution_count": 37,
   "metadata": {},
   "outputs": [
    {
     "data": {
      "text/plain": [
       "{'display_name': 'image-classifier-pipeline-20210202044657',\n",
       " 'input_data_config': {'dataset_id': '7956470758866157568',\n",
       "  'annotation_schema_uri': 'gs://google-cloud-aiplatform/schema/dataset/annotation/image_classification_1.0.0.yaml',\n",
       "  'gcs_destination': {'output_uri_prefix': 'gs://jk-ucaip-demos/image-classifier-pipeline-20210202044657/'},\n",
       "  'fraction_split': {'training_fraction': 0.5, 'validation_fraction': 0.2}},\n",
       " 'training_task_definition': 'gs://google-cloud-aiplatform/schema/trainingjob/definition/custom_task_1.0.0.yaml',\n",
       " 'training_task_inputs': struct_value {\n",
       "   fields {\n",
       "     key: \"base_output_directory\"\n",
       "     value {\n",
       "       struct_value {\n",
       "         fields {\n",
       "           key: \"output_uri_prefix\"\n",
       "           value {\n",
       "             string_value: \"gs://jk-ucaip-demos/image-classifier-pipeline-20210202044657/\"\n",
       "           }\n",
       "         }\n",
       "       }\n",
       "     }\n",
       "   }\n",
       "   fields {\n",
       "     key: \"worker_pool_specs\"\n",
       "     value {\n",
       "       list_value {\n",
       "         values {\n",
       "           struct_value {\n",
       "             fields {\n",
       "               key: \"container_spec\"\n",
       "               value {\n",
       "                 struct_value {\n",
       "                   fields {\n",
       "                     key: \"args\"\n",
       "                     value {\n",
       "                       list_value {\n",
       "                         values {\n",
       "                           string_value: \"--num-epochs=5\"\n",
       "                         }\n",
       "                       }\n",
       "                     }\n",
       "                   }\n",
       "                   fields {\n",
       "                     key: \"image_uri\"\n",
       "                     value {\n",
       "                       string_value: \"gcr.io/jk-mlops-dev/image_classifier\"\n",
       "                     }\n",
       "                   }\n",
       "                 }\n",
       "               }\n",
       "             }\n",
       "             fields {\n",
       "               key: \"machine_spec\"\n",
       "               value {\n",
       "                 struct_value {\n",
       "                   fields {\n",
       "                     key: \"accelerator_count\"\n",
       "                     value {\n",
       "                       number_value: 1.0\n",
       "                     }\n",
       "                   }\n",
       "                   fields {\n",
       "                     key: \"accelerator_type\"\n",
       "                     value {\n",
       "                       number_value: 1.0\n",
       "                     }\n",
       "                   }\n",
       "                   fields {\n",
       "                     key: \"machine_type\"\n",
       "                     value {\n",
       "                       string_value: \"n1-standard-4\"\n",
       "                     }\n",
       "                   }\n",
       "                 }\n",
       "               }\n",
       "             }\n",
       "             fields {\n",
       "               key: \"replica_count\"\n",
       "               value {\n",
       "                 number_value: 1.0\n",
       "               }\n",
       "             }\n",
       "           }\n",
       "         }\n",
       "       }\n",
       "     }\n",
       "   }\n",
       " },\n",
       " 'model_to_upload': {'display_name': 'image-classifier-pipeline-20210202044657-model',\n",
       "  'container_spec': {'image_uri': 'gcr.io/cloud-aiplatform/prediction/tf2-cpu.2-2:latest'}}}"
      ]
     },
     "execution_count": 37,
     "metadata": {},
     "output_type": "execute_result"
    }
   ],
   "source": [
    "ANNOTATION_SCHEMA = 'gs://google-cloud-aiplatform/schema/dataset/annotation/image_classification_1.0.0.yaml'\n",
    "CUSTOM_TRAINING_TASK_DEFINITION = 'gs://google-cloud-aiplatform/schema/trainingjob/definition/custom_task_1.0.0.yaml'\n",
    "DEPLOY_IMAGE = 'gcr.io/cloud-aiplatform/prediction/tf2-cpu.2-2:latest'\n",
    "\n",
    "model_display_name = pipeline_display_name + '-model'\n",
    "dataset_id = dataset.name.split('/')[-1]\n",
    "\n",
    "training_task_inputs = json_format.ParseDict(job_spec,Value())\n",
    "\n",
    "training_pipeline_spec = {\n",
    "    'display_name': pipeline_display_name,\n",
    "    'input_data_config': {\n",
    "        'dataset_id': dataset_id,\n",
    "        'annotation_schema_uri': ANNOTATION_SCHEMA,\n",
    "        'gcs_destination': {\n",
    "            'output_uri_prefix': base_output_dir\n",
    "        },\n",
    "        'fraction_split': {\n",
    "            'training_fraction': 0.5,\n",
    "            'validation_fraction': 0.2\n",
    "        },\n",
    "    },\n",
    "    'training_task_definition': CUSTOM_TRAINING_TASK_DEFINITION,\n",
    "    'training_task_inputs': training_task_inputs,\n",
    "    'model_to_upload': {\n",
    "        'display_name': model_display_name,\n",
    "        'container_spec': {\n",
    "            'image_uri': DEPLOY_IMAGE\n",
    "        }\n",
    "    }\n",
    "}\n",
    "\n",
    "training_pipeline_spec"
   ]
  },
  {
   "cell_type": "markdown",
   "metadata": {},
   "source": [
    "### Start the training pipeline \n"
   ]
  },
  {
   "cell_type": "code",
   "execution_count": 38,
   "metadata": {},
   "outputs": [],
   "source": [
    "pipeline = clients['pipeline'].create_training_pipeline(\n",
    "    parent=PARENT, training_pipeline=training_pipeline_spec)"
   ]
  },
  {
   "cell_type": "markdown",
   "metadata": {},
   "source": [
    "Get pipeline info."
   ]
  },
  {
   "cell_type": "code",
   "execution_count": 39,
   "metadata": {},
   "outputs": [
    {
     "name": "stdout",
     "output_type": "stream",
     "text": [
      "pipeline\n",
      " name: projects/895222332033/locations/us-central1/trainingPipelines/3391404033456472064\n",
      " display_name: image-classifier-pipeline-20210202044657\n",
      " state: PipelineState.PIPELINE_STATE_RUNNING\n",
      " create_time: 2021-02-02 04:57:42.857958+00:00\n",
      " start_time: 2021-02-02 04:57:43.001443+00:00\n",
      " end_time: None\n",
      " update_time: 2021-02-02 04:57:44.485344+00:00\n",
      " labels: {}\n"
     ]
    }
   ],
   "source": [
    "response = clients['pipeline'].get_training_pipeline(name=pipeline.name)\n",
    "print(\"pipeline\")\n",
    "print(\" name:\", response.name)\n",
    "print(\" display_name:\", response.display_name)\n",
    "print(\" state:\", response.state)\n",
    "#print(\" training_task_definition:\", response.training_task_definition)\n",
    "#print(\" training_task_inputs:\", dict(response.training_task_inputs))\n",
    "print(\" create_time:\", response.create_time)\n",
    "print(\" start_time:\", response.start_time)\n",
    "print(\" end_time:\", response.end_time)\n",
    "print(\" update_time:\", response.update_time)\n",
    "print(\" labels:\", dict(response.labels))"
   ]
  },
  {
   "cell_type": "markdown",
   "metadata": {
    "id": "P9NsMP_5GKBA"
   },
   "source": [
    "## Deploying the trained model\n"
   ]
  },
  {
   "cell_type": "markdown",
   "metadata": {
    "id": "r-uJp-FnGKBB"
   },
   "source": [
    "### List all models\n",
    "\n",
    "Now that your custom model is uploaded as a AI Platform (Unified) managed model, let's get a list of all your AI Platform (Unified) managed models. Use this helper function `list_models`. This helper function uses the AI Platform (Unified) model client service, and calls the method `list_models`, with the parameter:\n",
    "\n",
    "- `parent`: The AI Platform (Unified) location root path for your dataset, model and endpoint resources.\n",
    "\n",
    "The response object from the call is a list, where each element is a AI Platform (Unified) managed model. For each model, you will display a few fields:\n",
    "\n",
    "- `name`: The AI Platform (Unified) unique identifier for the managed model.\n",
    "- `display_name`: The human readable name assigned to the model.\n",
    "- `create_time`': Timestamp when the model resource was created.\n",
    "- `update_time`: Timestamp when the model resource was last updated.\n",
    "- `container`: The container image used for training the model.\n",
    "- `artifact_uri`': The Cloud Storage location of the model artifact."
   ]
  },
  {
   "cell_type": "code",
   "execution_count": null,
   "metadata": {},
   "outputs": [],
   "source": [
    "client_options = {\"api_endpoint\": API_ENDPOINT}\n",
    "\n",
    "model_client = aip.ModelServiceClient(\n",
    "    client_options=client_options)"
   ]
  },
  {
   "cell_type": "code",
   "execution_count": null,
   "metadata": {},
   "outputs": [],
   "source": [
    "response = model_client.list_models(parent=PARENT)\n",
    "for model in response:\n",
    "    print(\"name\", model.name)\n",
    "    print(\"display_name\", model.display_name)\n",
    "    print(\"create_time\", model.create_time)\n",
    "    print(\"update_time\", model.update_time)\n",
    "    print(\"container\", model.container_spec.image_uri)\n",
    "    print(\"artifact_uri\", model.artifact_uri)\n",
    "    print('\\n')"
   ]
  },
  {
   "cell_type": "markdown",
   "metadata": {},
   "source": [
    "#### List all models with a given display name"
   ]
  },
  {
   "cell_type": "code",
   "execution_count": null,
   "metadata": {},
   "outputs": [],
   "source": [
    "request = {\n",
    "    'parent': PARENT,\n",
    "    'filter': 'display_name=\"{}\"'.format(model_display_name)\n",
    "}\n",
    "\n",
    "response = model_client.list_models(request)\n",
    "\n",
    "for model in response:\n",
    "    print(model.name)"
   ]
  },
  {
   "cell_type": "markdown",
   "metadata": {
    "id": "pzsPNDORGKBB"
   },
   "source": [
    "### Get model information\n",
    "\n",
    "Now let's get the model information for just your model. Use this helper function `get_model`, with the parameter:\n",
    "\n",
    "- `name`: The AI Platform (Unified) unique identifier for the managed model.\n",
    "\n",
    "This helper function uses the AI Platform (Unified) model client service, and calls the method `get_model`, with the parameter:\n",
    "\n",
    "- `name`: The AI Platform (Unified) unique identifier for the managed model."
   ]
  },
  {
   "cell_type": "code",
   "execution_count": null,
   "metadata": {
    "id": "-wOE_l4FGKBB"
   },
   "outputs": [],
   "source": [
    "model_client.get_model(name=model.name)"
   ]
  },
  {
   "cell_type": "markdown",
   "metadata": {
    "id": "_0GV5MwiGKBB"
   },
   "source": [
    "### Create an endpoint\n",
    "\n",
    "Use this helper function `create_endpoint` to create an endpoint to deploy the model to for serving predictions, with the parameter:\n",
    "\n",
    "- `display_name`: A human readable name for the endpoint.\n",
    "\n",
    "The helper function uses the endpoint client service and calls the method `create_endpoint`, which takes the parameter:\n",
    "\n",
    "- `display_name`: A human readable name for the endpoint.\n",
    "\n",
    "Creating an endpoint returns a long running operation, since it may take a few moments to provision the endpoint for serving. You call `response.result()`, which is a synchronous call and will return when the endpoint is ready. The helper function will return the AI Platform (Unified) fully qualified identifier for the endpoint -- `response.name`.\n"
   ]
  },
  {
   "cell_type": "code",
   "execution_count": null,
   "metadata": {},
   "outputs": [],
   "source": [
    "client_options = {\"api_endpoint\": API_ENDPOINT}\n",
    "\n",
    "endpoint_client = aip.EndpointServiceClient(\n",
    "    client_options=client_options)"
   ]
  },
  {
   "cell_type": "code",
   "execution_count": null,
   "metadata": {},
   "outputs": [],
   "source": [
    "for endpoint in endpoint_client.list_endpoints(parent=PARENT):\n",
    "    print(endpoint)\n",
    "    print('*')"
   ]
  },
  {
   "cell_type": "code",
   "execution_count": null,
   "metadata": {},
   "outputs": [],
   "source": [
    "endpoint_display_name = 'flower_classifier_' + TIMESTAMP\n",
    "\n",
    "endpoint = {\n",
    "    'display_name': endpoint_display_name\n",
    "}"
   ]
  },
  {
   "cell_type": "code",
   "execution_count": null,
   "metadata": {},
   "outputs": [],
   "source": [
    "response = endpoint_client.create_endpoint(parent=PARENT, endpoint=endpoint)\n",
    "response.operation.name"
   ]
  },
  {
   "cell_type": "code",
   "execution_count": null,
   "metadata": {},
   "outputs": [],
   "source": [
    "result = response.result(timeout=300)\n",
    "result"
   ]
  },
  {
   "cell_type": "code",
   "execution_count": null,
   "metadata": {},
   "outputs": [],
   "source": [
    "result.name"
   ]
  },
  {
   "cell_type": "code",
   "execution_count": null,
   "metadata": {},
   "outputs": [],
   "source": []
  },
  {
   "cell_type": "markdown",
   "metadata": {
    "id": "XmlxD_iXGKBB"
   },
   "source": [
    "### Deploy model to the endpoint\n",
    "\n",
    "Use this helper function `deploy_model` to deploy the model to the endpoint you created for serving predictions, with the parameters:\n",
    "\n",
    "- `model`: The AI Platform (Unified) fully qualified model identifier of the model to upload (deploy) from the training pipeline.\n",
    "- `deploy_mopdel_display_name`: A human readable name for the deployed model.\n",
    "- `endpoint`: The AI Platform (Unified) fully qualified endpoint identifier to deploy the model to.\n",
    "\n",
    "The helper function uses the endpoint client service and calls the method `deploy_model`, which takes the parameters:\n",
    "\n",
    "- `endpoint`: The AI Platform (Unified) fully qualified endpoint identifier to deploy the model to.\n",
    "- `deployed_model`: The requirements for deploying the model.\n",
    "- `traffic_split`: Percent of traffic at endpoint that goes to this model, which is specified as a dictioney of one or more key/value pairs.\n",
    "   - If only one model, then specify as { \"0\": 100 }, where \"0\" refers to this model being uploaded and 100 means 100% of the traffic.\n",
    "   - If there are existing models on the endpoint, for which the traffic will be split, then specify as, where `model_id` is the model id of an existing model to the deployed endpoint. The percents must add up to 100.\n",
    "   \n",
    "           { \"0\": percent, model_id: percent, ... }\n",
    "\n",
    "Let's now dive deeper into the `deployed_model` parameter. This parameter is specified as a Python dictionary with the minimum required fields:\n",
    "\n",
    "- `model`: The AI Platform (Unified) fully qualified model identifier of the (upload) model to deploy.\n",
    "- `display_name`: A human readable name for the deployed model.\n",
    "- `dedicated_resources`: This refers to how many redundant compute instances (replicas) and type of compute instance (machine_spec). For this example, we set it to one (no replication). If using a GPU, the corresponding container image must support a GPU.\n",
    "\n",
    "Let's now dive deeper into the `traffic_split` parameter. This parameter is specified as a python dictionary. This might at first be a tad bit confusing. Let me explain, you can deploy more than one instance of your model to an endpoint, and then set how much (percent) goes to each instance. \n",
    "\n",
    "Why would you do that? Perhaps you already have a previous version deployed in production -- let's call that v1. You got better model evaluation on v2, but you don't know for certain that it is really better until you deploy to production. So in the case of traffic split, you might want to deploy v2 to the same endpoint as v1, but it only get's say 10% of the traffic. That way, you can monitor how well it does without disrupting the majority of users -- until you make a final decision."
   ]
  },
  {
   "cell_type": "code",
   "execution_count": null,
   "metadata": {},
   "outputs": [],
   "source": [
    "model.name"
   ]
  },
  {
   "cell_type": "code",
   "execution_count": null,
   "metadata": {
    "id": "0lQPJUtfGKBB"
   },
   "outputs": [],
   "source": [
    "DEPLOYED_NAME = \"flower_classifier_deployed-\" + TIMESTAMP\n",
    "\n",
    "\n",
    "def deploy_model(model, deployed_model_display_name, endpoint, traffic_split={\"0\": 100}):\n",
    "    # Accelerators can be used only if the model specifies a GPU image.\n",
    "    if DEPLOY_GPU:\n",
    "        machine_spec = {\n",
    "            \"machine_type\": DEPLOY_COMPUTE,\n",
    "            \"accelerator_type\": DEPLOY_GPU,\n",
    "            \"accelerator_count\": DEPLOY_NGPU,\n",
    "        }\n",
    "    else:\n",
    "        machine_spec = {\n",
    "            \"machine_type\": DEPLOY_COMPUTE,\n",
    "            \"accelerator_count\": 0,\n",
    "        }\n",
    "\n",
    "    deployed_model = {\n",
    "        \"model\": model,\n",
    "        \"display_name\": deployed_model_display_name,\n",
    "        # `dedicated_resources` must be used for non-AutoML models\n",
    "        \"dedicated_resources\": {\n",
    "            \"min_replica_count\": 1,\n",
    "            \"machine_spec\": machine_spec\n",
    "        },\n",
    "    }\n",
    "\n",
    "    response = endpoint_client.deploy_model(\n",
    "        endpoint=endpoint, deployed_model=deployed_model, traffic_split=traffic_split)\n",
    "\n",
    "    print(\"Long running operation:\", response.operation.name)\n",
    "    result = response.result()\n",
    "    print(\"result\")\n",
    "    deployed_model = result.deployed_model\n",
    "    print(\" deployed_model\")\n",
    "    print(\"  id:\", deployed_model.id)\n",
    "    print(\"  model:\", deployed_model.model)\n",
    "    print(\"  display_name:\", deployed_model.display_name)\n",
    "    print(\"  create_time:\", deployed_model.create_time)\n",
    "\n",
    "    return deployed_model.id\n",
    "\n",
    "\n",
    "deployed_model_id = deploy_model(model.name, DEPLOYED_NAME, result.name)"
   ]
  },
  {
   "cell_type": "markdown",
   "metadata": {
    "id": "JfEQKXKGGKBB"
   },
   "source": [
    "### List all endpoints\n",
    "\n",
    "Let's now get a list of all your endpoints. Use this helper function `list_endpoints`. \n",
    "\n",
    "The helper function uses the endpoint client service and calls the method `list_endpoints`. The returned response object is a list, with an element for each endpoint. The helper function lists a few example fields for each endpoint:\n",
    "\n",
    "- `name`: The AI Platform (Unified) identifier for the managed endpoint.\n",
    "- `display_name`: The human readable name you assigned to the endpoint.\n",
    "- `create_time`: When the endpoint was created.\n",
    "- `deployed_models`: The models and associated information that are deployed to this endpoint."
   ]
  },
  {
   "cell_type": "code",
   "execution_count": null,
   "metadata": {
    "id": "p9yOc0kqGKBB"
   },
   "outputs": [],
   "source": [
    "def list_endpoints():\n",
    "    response = clients['endpoint'].list_endpoints(parent=PARENT)\n",
    "    for endpoint in response:\n",
    "        print(\"name:\", endpoint.name)\n",
    "        print(\"display name:\", endpoint.display_name)\n",
    "        print(\"create_time:\", endpoint.create_time)\n",
    "        print(\"deployed_models\", endpoint.deployed_models)\n",
    "        print(\"\\n\")\n",
    "        \n",
    "list_endpoints()"
   ]
  },
  {
   "cell_type": "markdown",
   "metadata": {
    "id": "7Y2GqCEhGKBB"
   },
   "source": [
    "### Get information on this endpoint\n",
    "\n",
    "Now let's get the endpoint information for just your endpoint. Use this helper function `get_endpoint`, with the parameter:\n",
    "\n",
    "- `name`: The AI Platform (Unified) unique identifier for the managed endpoint.\n",
    "\n",
    "This helper function uses the AI Platform (Unified) endpoint client service, and calls the method `get_endpoint`, with the parameter:\n",
    "\n",
    "- `name`: The AI Platform (Unified) unique identifier for the managed endpoint."
   ]
  },
  {
   "cell_type": "code",
   "execution_count": null,
   "metadata": {
    "id": "cSeRns24GKBB"
   },
   "outputs": [],
   "source": [
    "def get_endpoint(name):\n",
    "    response = clients['endpoint'].get_endpoint(name=name)\n",
    "    print(response)\n",
    "    \n",
    "get_endpoint(endpoint_name)"
   ]
  },
  {
   "cell_type": "markdown",
   "metadata": {
    "id": "-BsM8f53GKBB"
   },
   "source": [
    "## Make a prediction request\n",
    "\n",
    "Let's now do a prediction to your deployed model. You will use an arbitrary image out of the test (holdout) portion of the dataset as a test image. "
   ]
  },
  {
   "cell_type": "code",
   "execution_count": null,
   "metadata": {
    "id": "8MW2KeUTGKBB"
   },
   "outputs": [],
   "source": [
    "test_image = x_test[0]\n",
    "test_label = y_test[0]\n",
    "print(test_image.shape)"
   ]
  },
  {
   "cell_type": "markdown",
   "metadata": {
    "id": "_6g0zre1GKBB"
   },
   "source": [
    "### Prepare the request content\n",
    "You are going to send the CIFAR10 image as compressed JPG image, instead of the raw uncompressed bytes:\n",
    "\n",
    "- `cv2.imwrite`: Use openCV to write the uncompressed image to disk as a compressed JPEG image.\n",
    "- `tf.io.read_file`: Read the compressed JPG images back into memory as raw bytes.\n",
    "- `base64.b64encode`: Encode the raw bytes into a base 64 encoded string."
   ]
  },
  {
   "cell_type": "code",
   "execution_count": null,
   "metadata": {
    "id": "yxeiUGjEGKBB"
   },
   "outputs": [],
   "source": [
    "import base64\n",
    "import cv2\n",
    "cv2.imwrite('tmp.jpg', (test_image * 255).astype(np.uint8))\n",
    "\n",
    "bytes = tf.io.read_file('tmp.jpg')\n",
    "b64str = base64.b64encode(bytes.numpy()).decode('utf-8')"
   ]
  },
  {
   "cell_type": "markdown",
   "metadata": {
    "id": "QwQQGakpGKBB"
   },
   "source": [
    "### Send the prediction request\n",
    "\n",
    "Ok, now you have a test image. Use this helper function `predict_image`, which takes the parameters:\n",
    "\n",
    "- `image`: The test image data as a numpy array.\n",
    "- `endpoint`: The AI Platform (Unified) fully qualified identifier for the endpoint where the model was deployed.\n",
    "- `parameters_dict`: Additional parameters for serving -- in our case we will pass None.\n",
    "\n",
    "This function uses the prediction client service and calls the `predict` method with the parameters:\n",
    "\n",
    "- `endpoint`: The AI Platform (Unified) fully qualified identifier for the endpoint where the model was deployed.\n",
    "- `instances`: A list of instances (encoded images) to predict.\n",
    "- `parameters`: Additional parameters for serving -- in our case we will pass None.\n",
    "\n",
    "To pass the image data to the prediction service, in the previous step you encoded the bytes into base 64 -- which makes the content safe from modification when transmitting binary data over the network. You need to tell the serving binary where your model is deployed to, that the content has been base 64 encoded, so it will decode it on the other end in the serving binary. \n",
    "\n",
    "Each instance in the prediction request is a dictionary entry of the form:\n",
    "\n",
    "                        {input_name: {'b64': content }}\n",
    "                        \n",
    "- `input_name`: the name of the input layer of the underlying model.\n",
    "- `'b64'`: A key that indicates the content is base 64 encoded.\n",
    "- `content`: The compressed JPG image bytes as a base 64 encoded string.\n",
    "\n",
    "Since the `predict()` service can take multiple images (instances), you will send your single image as a list of one image. As a final step, you package the instances list into Google's protobuf format -- which is what we pass to the `predict()` service.\n",
    "\n",
    "The `response` object returns a list, where each element in the list corresponds to the corresponding image in the request. You will see in the output for each prediction:\n",
    "\n",
    "- Confidence level for the prediction (`predictions`, between 0 and 1, for each of the ten classes."
   ]
  },
  {
   "cell_type": "code",
   "execution_count": null,
   "metadata": {
    "id": "NFoHyPjgGKBB"
   },
   "outputs": [],
   "source": [
    "def predict_image(image, endpoint, parameters_dict):\n",
    "    # The format of each instance should conform to the deployed model's prediction input schema.\n",
    "    instances_list = [{input_name: {'b64': image}}]\n",
    "    instances = [json_format.ParseDict(s, Value()) for s in instances_list]\n",
    "\n",
    "    response = clients['prediction'].predict(endpoint=endpoint, instances=instances, parameters=parameters_dict)\n",
    "    print(\"response\")\n",
    "    print(\" deployed_model_id:\", response.deployed_model_id)\n",
    "    predictions = response.predictions\n",
    "    print(\"predictions\")\n",
    "    for prediction in predictions:\n",
    "        # See gs://google-cloud-aiplatform/schema/predict/prediction/classification.yaml for the format of the predictions.\n",
    "        print(\" prediction:\", prediction)\n",
    "\n",
    "\n",
    "predict_image(b64str, endpoint_name, None)"
   ]
  },
  {
   "cell_type": "markdown",
   "metadata": {
    "id": "_4gjQGMSGKBB"
   },
   "source": [
    "## Undeploy the model\n",
    "\n",
    "Let's now undeploy your model from the serving endpoint. Use this helper function `undeploy_model`, which takes the parameters:\n",
    "\n",
    "- `deployed_model_id`: The model deployment identifier returned by the endpoint service when the model was deployed.\n",
    "- `endpoint`: The AI Platform (Unified) fully qualified identifier for the endpoint where the model is deployed.\n",
    "\n",
    "This function uses the endpoint client service and calls the method `undeploy_model`, with the parameters:\n",
    "\n",
    "- `deployed_model_id`: The model deployment identifier returned by the endpoint service when the model was deployed.\n",
    "- `endpoint`: The AI Platform (Unified) fully qualified identifier for the endpoint where the model is deployed.\n",
    "- `traffic_split`: How to split traffic among the remaining deployed models on the endpoint.\n",
    "\n",
    "Since this is the only deployed model on the endpoint, we simply can leave `traffic_split` empty by setting it to {}."
   ]
  },
  {
   "cell_type": "code",
   "execution_count": null,
   "metadata": {
    "id": "VhKWPHgYGKBB"
   },
   "outputs": [],
   "source": [
    "def undeploy_model(deployed_model_id, endpoint):\n",
    "    response = clients['endpoint'].undeploy_model(endpoint=endpoint, deployed_model_id=deployed_model_id, traffic_split={})\n",
    "    print(response)\n",
    "\n",
    "\n",
    "undeploy_model(deployed_model_id, endpoint_name)"
   ]
  },
  {
   "cell_type": "markdown",
   "metadata": {
    "id": "TpV-iwP9qw9c"
   },
   "source": [
    "# Cleaning up\n",
    "\n",
    "To clean up all GCP resources used in this project, you can [delete the GCP\n",
    "project](https://cloud.google.com/resource-manager/docs/creating-managing-projects#shutting_down_projects) you used for the tutorial.\n",
    "\n",
    "Otherwise, you can delete the individual resources you created in this tutorial:\n",
    "\n",
    "- Dataset\n",
    "- Model\n",
    "- Endpoint\n",
    "- Cloud Storage Bucket"
   ]
  },
  {
   "cell_type": "code",
   "execution_count": null,
   "metadata": {
    "id": "sx_vKniMq9ZX"
   },
   "outputs": [],
   "source": [
    "delete_dataset = True\n",
    "delete_model = True\n",
    "delete_endpoint = True\n",
    "delete_bucket = True\n",
    "\n",
    "# Delete the dataset using the AI Platform (Unified) fully qualified identifier for the dataset\n",
    "try:\n",
    "    if delete_dataset:\n",
    "        clients['dataset'].delete_dataset(name=dataset['name'])\n",
    "except Exception as e:\n",
    "    print(e)\n",
    "\n",
    "# Delete the model using the AI Platform (Unified) fully qualified identifier for the model\n",
    "try:\n",
    "    if delete_model:\n",
    "        clients['model'].delete_model(name=model_to_deploy_name)\n",
    "except Exception as e:\n",
    "    print(e)\n",
    "\n",
    "# Delete the endpoint using the AI Platform (Unified) fully qualified identifier for the endpoint\n",
    "try:\n",
    "    if delete_endpoint:\n",
    "        clients['endpoint'].delete_endpoint(name=endpoint_name)\n",
    "except Exception as e:\n",
    "    print(e)\n",
    "\n",
    "if delete_bucket and 'BUCKET_NAME' in globals():\n",
    "    ! gsutil rm -r gs://$BUCKET_NAME"
   ]
  }
 ],
 "metadata": {
  "colab": {
   "collapsed_sections": [],
   "name": "ucaip_customjob_image_pipeline.ipynb",
   "provenance": [],
   "toc_visible": true
  },
  "environment": {
   "name": "tf2-gpu.2-4.mnightly-2021-01-20-debian-10-test",
   "type": "gcloud",
   "uri": "gcr.io/deeplearning-platform-release/tf2-gpu.2-4:mnightly-2021-01-20-debian-10-test"
  },
  "kernelspec": {
   "display_name": "Python 3",
   "language": "python",
   "name": "python3"
  },
  "language_info": {
   "codemirror_mode": {
    "name": "ipython",
    "version": 3
   },
   "file_extension": ".py",
   "mimetype": "text/x-python",
   "name": "python",
   "nbconvert_exporter": "python",
   "pygments_lexer": "ipython3",
   "version": "3.7.9"
  }
 },
 "nbformat": 4,
 "nbformat_minor": 4
}
