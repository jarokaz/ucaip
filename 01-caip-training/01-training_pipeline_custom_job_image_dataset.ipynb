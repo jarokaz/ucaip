{
 "cells": [
  {
   "cell_type": "code",
   "execution_count": null,
   "metadata": {
    "id": "ur8xi4C7S06n"
   },
   "outputs": [],
   "source": [
    "# Copyright 2020 Google LLC\n",
    "#\n",
    "# Licensed under the Apache License, Version 2.0 (the \"License\");\n",
    "# you may not use this file except in compliance with the License.\n",
    "# You may obtain a copy of the License at\n",
    "#\n",
    "#     https://www.apache.org/licenses/LICENSE-2.0\n",
    "#\n",
    "# Unless required by applicable law or agreed to in writing, software\n",
    "# distributed under the License is distributed on an \"AS IS\" BASIS,\n",
    "# WITHOUT WARRANTIES OR CONDITIONS OF ANY KIND, either express or implied.\n",
    "# See the License for the specific language governing permissions and\n",
    "# limitations under the License."
   ]
  },
  {
   "cell_type": "markdown",
   "metadata": {
    "id": "eHLV0D7Y5jtU"
   },
   "source": [
    "# AI Platform (Unified) SDK: Training a custom image classification model using a training pipeline with a managed dataset input\n",
    "\n",
    "<table align=\"left\">\n",
    "  <td>\n",
    "    <a href=\"https://colab.research.google.com/github/GoogleCloudPlatform/ai-platform-samples/blob/master/notebooks/deepdive/custom/ucaip_customjob_image_pipeline.ipynb\">\n",
    "      <img src=\"https://cloud.google.com/ml-engine/images/colab-logo-32px.png\" alt=\"Colab logo\"> Run in Colab\n",
    "    </a>\n",
    "  </td>\n",
    "  <td>\n",
    "    <a href=\"https://github.com/GoogleCloudPlatform/ai-platform-samples/blob/master/notebooks/deepdive/custom/ucaip_customjob_image_pipeline.ipynb\">\n",
    "      <img src=\"https://cloud.google.com/ml-engine/images/github-logo-32px.png\" alt=\"GitHub logo\">\n",
    "      View on GitHub\n",
    "    </a>\n",
    "  </td>\n",
    "</table>"
   ]
  },
  {
   "cell_type": "markdown",
   "metadata": {
    "id": "tvgnzT1CKxrO"
   },
   "source": [
    "# Overview\n",
    "\n",
    "\n",
    "This tutorial demonstrates how to use the AI Platform (Unified) Python SDK to train a custom image classification model using a [training pipeline job](https://cloud.google.com/ai-platform-unified/docs/training/create-training-pipeline) with a managed dataset input.\n",
    "\n",
    "### Dataset\n",
    "\n",
    "The dataset used for this tutorial is the [Flowers dataset](https://www.tensorflow.org/datasets/catalog/tf_flowers) from [TensorFlow Datasets](https://www.tensorflow.org/datasets/catalog/overview). The version of the dataset you will use in this tutorial is stored in a public Cloud Storage bucket. The trained model predicts the type of flower an image is from a class of five flowers: daisy, dandelion, rose, sunflower, tulip.\n",
    "\n",
    "### Objectives\n",
    "\n",
    "\n",
    "- Creating a AI Platform (Unified) dataset.\n",
    "- Creating a training pipeline with a custom job training step and an AI Platform dataset input.\n",
    "- Starting the training pipeline job.\n",
    "- Monitoring the training pipeline job.\n",
    "- Deploy the model to a serving endpoint.\n",
    "- Make a prediction(s).\n",
    "- Undeploy the model.\n",
    "\n",
    "### Costs \n",
    "\n",
    "This tutorial uses billable components of Google Cloud Platform (GCP):\n",
    "\n",
    "* Cloud AI Platform\n",
    "* Cloud Storage\n",
    "\n",
    "Learn about [Cloud AI Platform\n",
    "pricing](https://cloud.google.com/ml-engine/docs/pricing) and [Cloud Storage\n",
    "pricing](https://cloud.google.com/storage/pricing), and use the [Pricing\n",
    "Calculator](https://cloud.google.com/products/calculator/)\n",
    "to generate a cost estimate based on your projected usage.\n",
    "\n",
    "### Environment\n",
    "\n",
    "This notebook was developed and tested using [AI Platform Notebooks](https://cloud.google.com/ai-platform-notebooks) using the TensorFlow 2.3 image."
   ]
  },
  {
   "cell_type": "markdown",
   "metadata": {
    "id": "DgswXLrzGKBA"
   },
   "source": [
    "## Before you begin"
   ]
  },
  {
   "cell_type": "markdown",
   "metadata": {
    "id": "BF1j6f9HApxa"
   },
   "source": [
    "### Set up your GCP project\n",
    "\n",
    "**The following steps are required, regardless of your notebook environment.**\n",
    "\n",
    "1. [Select or create a GCP project](https://console.cloud.google.com/cloud-resource-manager). When you first create an account, you get a $300 free credit towards your compute/storage costs.\n",
    "\n",
    "2. [Make sure that billing is enabled for your project.](https://cloud.google.com/billing/docs/how-to/modify-project)\n",
    "\n",
    "3. [Enable the AI Platform APIs, Compute Engine APIs and Container Registry API.](https://console.cloud.google.com/flows/enableapi?apiid=ml.googleapis.com,compute_component,containerregistry.googleapis.com)\n",
    "\n",
    "4. Follow the instructions in the repos' [README file](https://github.com/jarokaz/ucaip/blob/main/README.md) to provision an instance of AI Platform Notebooks and install Cloud AI Platform (Unified) SDK.\n",
    "\n"
   ]
  },
  {
   "cell_type": "markdown",
   "metadata": {
    "id": "MnPgkOPYGKBA"
   },
   "source": [
    "#### Set your Project ID\n",
    "\n",
    "**If you don't know your project ID**, you might be able to get your project ID using `gcloud` command by executing the second cell below."
   ]
  },
  {
   "cell_type": "code",
   "execution_count": 1,
   "metadata": {
    "id": "RZwz94fXGKBA"
   },
   "outputs": [],
   "source": [
    "PROJECT_ID = \"jk-mlops-dev\" "
   ]
  },
  {
   "cell_type": "code",
   "execution_count": 2,
   "metadata": {
    "id": "zRcWSNx5GKBA"
   },
   "outputs": [
    {
     "name": "stdout",
     "output_type": "stream",
     "text": [
      "Updated property [core/project].\n"
     ]
    }
   ],
   "source": [
    "! gcloud config set project $PROJECT_ID"
   ]
  },
  {
   "cell_type": "markdown",
   "metadata": {
    "id": "v5n9X7yJGKBA"
   },
   "source": [
    "#### Region\n",
    "\n",
    "You can also change the `REGION` variable, which is used for operations\n",
    "throughout the rest of this notebook. Make sure to [choose a region where Cloud\n",
    "AI Platform services are\n",
    "available](https://cloud.google.com/ml-engine/docs/tensorflow/regions). You can\n",
    "not use a Multi-Regional Storage bucket for training with AI Platform."
   ]
  },
  {
   "cell_type": "code",
   "execution_count": 3,
   "metadata": {
    "id": "bgKerUMPGKBA"
   },
   "outputs": [],
   "source": [
    "REGION = 'us-central1' "
   ]
  },
  {
   "cell_type": "markdown",
   "metadata": {
    "id": "zgPO1eR3CYjk"
   },
   "source": [
    "### Create a Cloud Storage bucket\n",
    "\n",
    "Set the name of your Cloud Storage bucket below. It must be unique across all\n",
    "Cloud Storage buckets. "
   ]
  },
  {
   "cell_type": "code",
   "execution_count": 4,
   "metadata": {
    "id": "MzGDU7TWdts_"
   },
   "outputs": [],
   "source": [
    "BUCKET_NAME = \"jk-ucaip-demos\" "
   ]
  },
  {
   "cell_type": "markdown",
   "metadata": {
    "id": "-EcIXiGsCePi"
   },
   "source": [
    "**Only if your bucket doesn't already exist**: Run the following cell to create your Cloud Storage bucket."
   ]
  },
  {
   "cell_type": "code",
   "execution_count": 5,
   "metadata": {
    "id": "NIq7R4HZCfIc"
   },
   "outputs": [
    {
     "name": "stdout",
     "output_type": "stream",
     "text": [
      "Creating gs://jk-ucaip-demos/...\n",
      "ServiceException: 409 Bucket jk-ucaip-demos already exists.\n"
     ]
    }
   ],
   "source": [
    "! gsutil mb -l $REGION gs://$BUCKET_NAME"
   ]
  },
  {
   "cell_type": "markdown",
   "metadata": {
    "id": "ucvCsknMCims"
   },
   "source": [
    "Finally, validate access to your Cloud Storage bucket by examining its contents:"
   ]
  },
  {
   "cell_type": "code",
   "execution_count": 6,
   "metadata": {
    "id": "vhOb7YnwClBb"
   },
   "outputs": [
    {
     "name": "stdout",
     "output_type": "stream",
     "text": [
      "      1897  2021-02-09T06:29:04Z  gs://jk-ucaip-demos/trainer_cifar.tar.gz#1612852144799472  metageneration=1\n",
      "                                 gs://jk-ucaip-demos/custom_job_20210209062832/\n",
      "                                 gs://jk-ucaip-demos/image-classifier-pipeline/\n",
      "TOTAL: 1 objects, 1897 bytes (1.85 KiB)\n"
     ]
    }
   ],
   "source": [
    "! gsutil ls -al gs://$BUCKET_NAME"
   ]
  },
  {
   "cell_type": "markdown",
   "metadata": {
    "id": "XoEqT2Y4DJmf"
   },
   "source": [
    "### Import libraries and define constants"
   ]
  },
  {
   "cell_type": "code",
   "execution_count": 7,
   "metadata": {},
   "outputs": [],
   "source": [
    "%load_ext autoreload"
   ]
  },
  {
   "cell_type": "markdown",
   "metadata": {
    "id": "Y9Uo3tifg1kx"
   },
   "source": [
    "#### Import AI Platform (Unified) SDK\n",
    "\n",
    "Import the AI Platform (Unified) SDK into our python environment."
   ]
  },
  {
   "cell_type": "code",
   "execution_count": 8,
   "metadata": {
    "id": "pRUOFELefqf1"
   },
   "outputs": [],
   "source": [
    "import base64\n",
    "import json\n",
    "import os\n",
    "import sys\n",
    "import time\n",
    "\n",
    "import google.auth\n",
    "import matplotlib.pyplot as plt\n",
    "import tensorflow as tf\n",
    "import tensorflow_io as tfio\n",
    "\n",
    "from google.cloud.aiplatform import gapic as aip\n",
    "\n",
    "from google.protobuf import json_format\n",
    "from google.protobuf.struct_pb2 import Value\n",
    "\n",
    "from datetime import datetime"
   ]
  },
  {
   "cell_type": "markdown",
   "metadata": {
    "id": "vqKm-raaGKBA"
   },
   "source": [
    "### AI Platform (Unified) constants\n",
    "\n",
    "Let's now setup some constants for AI Platform (Unified):\n",
    "\n",
    "#### Endpoints\n",
    "\n",
    "- `API_ENDPOINT`: The AI Platform (Unified) API service endpoint for dataset, model, job, pipeline and endpoint services.\n",
    "- `API_PREDICT_ENDPOINT`: The AI Platform (Unified) API service endpoint for prediction.\n",
    "- `PARENT`: The AI Platform (Unified) location root path for dataset, model and endpoint resources."
   ]
  },
  {
   "cell_type": "code",
   "execution_count": 9,
   "metadata": {
    "id": "py2v2Ig0GKBA"
   },
   "outputs": [],
   "source": [
    "# API Endpoint\n",
    "API_ENDPOINT = \"us-central1-aiplatform.googleapis.com\"\n",
    "API_PREDICT_ENDPOINT = \"us-central1-prediction-aiplatform.googleapis.com\"\n",
    "\n",
    "# AI Platform (Unified) location root path for your dataset, model and endpoint resources\n",
    "PARENT = \"projects/\" + PROJECT_ID + \"/locations/\" + REGION\n",
    "\n",
    "# Default timeout for API calls\n",
    "TIMEOUT = 60"
   ]
  },
  {
   "cell_type": "markdown",
   "metadata": {},
   "source": [
    "#### Dataset schemas\n",
    "\n",
    "AI Platform supports four dataset types: tabular, text, image and video. The same dataset type can be used for multiple ML tasks. For example, the image dataset type can be used for single-label classification, multi-label classification or object detection. In this sample, you will create an image dataset for the single-label classificatin task.\n",
    "\n",
    "The dataset type and the ML task are specified by a set of pre-defined YAML based schemas provided by AI Platform."
   ]
  },
  {
   "cell_type": "code",
   "execution_count": 10,
   "metadata": {},
   "outputs": [],
   "source": [
    "IMAGE_SCHEMA = 'gs://google-cloud-aiplatform/schema/dataset/metadata/image_1.0.0.yaml' \n",
    "IMPORT_SCHEMA_IMAGE_CLASSIFICATION = 'gs://google-cloud-aiplatform/schema/dataset/ioformat/image_classification_single_label_io_format_1.0.0.yaml'"
   ]
  },
  {
   "cell_type": "markdown",
   "metadata": {},
   "source": [
    "#### Training pipeline schemas\n",
    "\n",
    "When configuring a training pipeline you need to specify a type of a training task - a custom job or AutoML training. In addition, if your pipeline uses an AI Platform dataset as input, you have to specify a type of annotations to use for training - an AI Platform dataset can have multiple annotation types attached to the dataset. \n",
    "\n",
    "In our case, we will configure a pipeline with a custom training task and image dataset with image classification annotations."
   ]
  },
  {
   "cell_type": "code",
   "execution_count": 11,
   "metadata": {},
   "outputs": [],
   "source": [
    "ANNOTATION_SCHEMA = 'gs://google-cloud-aiplatform/schema/dataset/annotation/image_classification_1.0.0.yaml'\n",
    "CUSTOM_TRAINING_TASK_DEFINITION = 'gs://google-cloud-aiplatform/schema/trainingjob/definition/custom_task_1.0.0.yaml'"
   ]
  },
  {
   "cell_type": "markdown",
   "metadata": {},
   "source": [
    "#### Training and deployment container images\n",
    "\n",
    "These constants define a base image for a custom training and a serving image."
   ]
  },
  {
   "cell_type": "code",
   "execution_count": 12,
   "metadata": {},
   "outputs": [],
   "source": [
    "TRAIN_BASE_IMAGE = 'gcr.io/deeplearning-platform-release/tf2-gpu.2-3:latest'\n",
    "DEPLOY_IMAGE = 'gcr.io/cloud-aiplatform/prediction/tf2-cpu.2-2:latest'"
   ]
  },
  {
   "cell_type": "markdown",
   "metadata": {},
   "source": [
    "#### Machine configurations for training and deployment"
   ]
  },
  {
   "cell_type": "code",
   "execution_count": 13,
   "metadata": {},
   "outputs": [],
   "source": [
    "TRAIN_GPU, TRAIN_NGPU = (aip.AcceleratorType.NVIDIA_TESLA_K80, 1)\n",
    "DEPLOY_GPU, DEPLOY_NGPU = (None, None)\n",
    "\n",
    "TRAIN_MACHINE_TYPE = 'n1-standard-4'\n",
    "DEPLOY_MACHINE_TYPE = 'n1-standard-4'"
   ]
  },
  {
   "cell_type": "markdown",
   "metadata": {
    "id": "E6ppE7imft-y"
   },
   "source": [
    "# Tutorial\n",
    "\n",
    "## Clients\n",
    "\n",
    "The AI Platform (Unified) SDK works as a client/server model. On your side, the python script, you will create a client that sends requests and receives responses from the server -- AI Platform.\n",
    "\n",
    "You will use several clients in this tutorial, so set them all up upfront.\n",
    "\n",
    "- Dataset Service for managed datasets.\n",
    "- Model Service for managed models.\n",
    "- Pipeline Service for training.\n",
    "- Endpoint Service for deployment.\n",
    "- Prediction Service for serving. *Note*, prediction has a different service endpoint.\n"
   ]
  },
  {
   "cell_type": "code",
   "execution_count": 14,
   "metadata": {},
   "outputs": [],
   "source": [
    "# client options same for all services\n",
    "client_options = {\"api_endpoint\": API_ENDPOINT}\n",
    "predict_client_options = {\"api_endpoint\": API_PREDICT_ENDPOINT}\n",
    "\n",
    "dataset_client = aip.DatasetServiceClient(client_options=client_options)\n",
    "model_client = aip.ModelServiceClient(client_options=client_options)\n",
    "pipeline_client = aip.PipelineServiceClient(client_options=client_options)\n",
    "endpoint_client = aip.EndpointServiceClient(client_options=client_options)\n",
    "prediction_client = aip.PredictionServiceClient(client_options=predict_client_options)"
   ]
  },
  {
   "cell_type": "markdown",
   "metadata": {},
   "source": [
    "## Creating an AI Platform dataset\n",
    "\n",
    "Creating an AI Platform dataset is a two-step process. The first step is to create an empty dataset. During the first step you define the dataset type. The second step is to import the data to the dataset. This is when you specify the ML task supported by the imported data.\n"
   ]
  },
  {
   "cell_type": "markdown",
   "metadata": {},
   "source": [
    "### Create an empty image dataset\n",
    "\n",
    "Both creating a dataset and importing data are long running operations in AI Platform. The long running operations use asynchronous calls. An asynchronous call does not block a caller and returns an `operation` object that can by subsequently used to monitor/control the operation by invoking methods exposed by the object:\n",
    "\n",
    "\n",
    "| Method      | Description |\n",
    "| ----------- | ----------- |\n",
    "| result()    | Waits for the operation to complete and returns a result object in JSON format.      |\n",
    "| running()   | Returns True/False on whether the operation is still running.        |\n",
    "| done()      | Returns True/False on whether the operation is completed. |\n",
    "| canceled()  | Returns True/False on whether the operation was canceled. |\n",
    "| cancel()    | Cancels the operation (this may take up to 30 seconds). |\n",
    "\n"
   ]
  },
  {
   "cell_type": "code",
   "execution_count": null,
   "metadata": {},
   "outputs": [],
   "source": [
    "display_name = 'flowers-dataset'\n",
    "\n",
    "dataset = aip.Dataset(\n",
    "    display_name=display_name,\n",
    "    metadata_schema_uri=IMAGE_SCHEMA,\n",
    "    labels=None\n",
    ")\n",
    "\n",
    "operation = dataset_client.create_dataset(parent=PARENT, dataset=dataset)\n",
    "print(\"Long running operation:\", operation.operation.name)\n",
    "response = operation.result(timeout=TIMEOUT)\n",
    "print(response)\n",
    "dataset_name = response.name"
   ]
  },
  {
   "cell_type": "markdown",
   "metadata": {},
   "source": [
    "### Prepare data for import\n",
    "\n",
    "The data to be imported to an AI Platform image dataset must meet the following requirements:\n",
    "\n",
    "- Images must be stored in a Cloud Storage bucket.\n",
    "- Each image file must be in an image format (PNG, JPEG, BMP, ...).\n",
    "- There must be an index file stored in your Cloud Storage bucket that contains the path and annotations for each image.\n",
    "- The index file must be either CSV or JSONL.\n",
    "\n",
    "#### CSV\n",
    "\n",
    "For image classification, the CSV index file must have the following format:\n",
    "\n",
    "- No heading\n",
    "- First column is the Cloud Storage path to the image.\n",
    "- Second column is the label.\n",
    "\n",
    "#### JSONL\n",
    "\n",
    "The format of the JSONL index must be as follows:\n",
    "\n",
    "- Each data item is a separate JSON object, on a separate line.\n",
    "- The key/value pair 'image_gcs_uri' is the Cloud Storage path to the image.\n",
    "- The key/value pair 'classification_annotation' is the label field.\n",
    " - The key/value pair 'display_name' is the label\n",
    "\n",
    "    { 'image_gcs_uri': image, 'classification_annotation': { 'display_name': label } }\n",
    "    \n",
    "*Note*: The dictionary key fields may alternatively be in camelCase. For example, 'image_gcs_uri' can also be 'imageGcsUri'.\n",
    "\n",
    "#### Dataset splitting\n",
    "\n",
    "The index files may include information about data splitting.\n",
    "\n",
    "##### CSV\n",
    "\n",
    "Each row entry in a CSV index file can be preceded by a first column that indicates whether the data is part of the training (TRAINING), test (TEST) or validation (VALIDATION) data. Alternatively, AI Platform (Unified) supports the CAIP (pre-AI Platform (Unified)) version of the tags: TRAIN, TEST and VALIDATE. For example:\n",
    "\n",
    "    TRAINING, \"this is the data item\", \"this is the label\"\n",
    "    TEST, \"this is the data item\", \"this is the label\"\n",
    "    VALIDATION, \"this is the data item\", \"this is the label\"\n",
    "    \n",
    "##### JSONL\n",
    "\n",
    "Each object entry in a JSONL index file can have a 'ml_use' key/value pair that indicates whether the data is part of the training (training), test (test) or validation (validation) data.\n",
    "\n",
    "    { 'image_gcs_uri': image, 'classification_annotation': { 'display_name': label }, 'data_item_resource_labels':{'aiplatform.googleapis.com/ml_use':'training'} }\n",
    "    \n",
    "If the index does not contain data splitting information, AI Platform will automatically split the dataset for you."
   ]
  },
  {
   "cell_type": "markdown",
   "metadata": {},
   "source": [
    "### Import data\n",
    "\n",
    "We have preprocessed the [Flowers dataset](https://www.tensorflow.org/datasets/catalog/tf_flowers) to the import format required by AI Platform.\n"
   ]
  },
  {
   "cell_type": "code",
   "execution_count": null,
   "metadata": {},
   "outputs": [],
   "source": [
    "IMPORT_FILE = 'gs://cloud-samples-data/vision/automl_classification/flowers/flowers.jsonl'"
   ]
  },
  {
   "cell_type": "code",
   "execution_count": null,
   "metadata": {},
   "outputs": [],
   "source": [
    "!gsutil cat -r 0-441 {IMPORT_FILE}"
   ]
  },
  {
   "cell_type": "markdown",
   "metadata": {},
   "source": [
    "To import the data, call the `import_data` method exposed by the dataset client."
   ]
  },
  {
   "cell_type": "code",
   "execution_count": null,
   "metadata": {},
   "outputs": [],
   "source": [
    "config = [{\n",
    "    'gcs_source': {'uris': [IMPORT_FILE]},\n",
    "    'import_schema_uri': IMPORT_SCHEMA_IMAGE_CLASSIFICATION\n",
    "}]\n",
    "\n",
    "operation = dataset_client.import_data(name=dataset_name, import_configs=config)\n",
    "print(\"Long running operation:\", operation.operation.name)\n",
    "response = operation.result()"
   ]
  },
  {
   "cell_type": "markdown",
   "metadata": {},
   "source": [
    "### Get dataset information\n",
    "\n",
    "You can list all datasets in your project and retrieve detailed information about a specific dataset using the `list_datasets` and `get_datasets` methods."
   ]
  },
  {
   "cell_type": "code",
   "execution_count": 15,
   "metadata": {},
   "outputs": [
    {
     "name": "stdout",
     "output_type": "stream",
     "text": [
      "flowers-dataset   projects/895222332033/locations/us-central1/datasets/1763599058766659584\n"
     ]
    }
   ],
   "source": [
    "response = dataset_client.list_datasets(parent=PARENT)\n",
    "for dataset in response:\n",
    "    print(dataset.display_name, ' ', dataset.name)"
   ]
  },
  {
   "cell_type": "code",
   "execution_count": 16,
   "metadata": {},
   "outputs": [],
   "source": [
    "dataset_name = 'projects/895222332033/locations/us-central1/datasets/1763599058766659584'"
   ]
  },
  {
   "cell_type": "code",
   "execution_count": 17,
   "metadata": {},
   "outputs": [
    {
     "name": "stdout",
     "output_type": "stream",
     "text": [
      "name: \"projects/895222332033/locations/us-central1/datasets/1763599058766659584\"\n",
      "display_name: \"flowers-dataset\"\n",
      "metadata_schema_uri: \"gs://google-cloud-aiplatform/schema/dataset/metadata/image_1.0.0.yaml\"\n",
      "create_time {\n",
      "  seconds: 1612841893\n",
      "  nanos: 678646000\n",
      "}\n",
      "update_time {\n",
      "  seconds: 1612841894\n",
      "  nanos: 184099000\n",
      "}\n",
      "etag: \"AMEw9yOtZ59JwuodHKZisEoDw_D8oXUni8X2_AkXeRz4OBuacL90ktChzlJhIh_T6wc=\"\n",
      "labels {\n",
      "  key: \"aiplatform.googleapis.com/dataset_metadata_schema\"\n",
      "  value: \"IMAGE\"\n",
      "}\n",
      "metadata {\n",
      "  struct_value {\n",
      "    fields {\n",
      "      key: \"dataItemSchemaUri\"\n",
      "      value {\n",
      "        string_value: \"gs://google-cloud-aiplatform/schema/dataset/dataitem/image_1.0.0.yaml\"\n",
      "      }\n",
      "    }\n",
      "    fields {\n",
      "      key: \"gcsBucket\"\n",
      "      value {\n",
      "        string_value: \"cloud-ai-platform-dd92d61a-4628-4e8c-a94b-43eb3cee0e5f\"\n",
      "      }\n",
      "    }\n",
      "  }\n",
      "}\n",
      "\n"
     ]
    }
   ],
   "source": [
    "response = dataset_client.get_dataset(name=dataset_name)\n",
    "print(response)"
   ]
  },
  {
   "cell_type": "markdown",
   "metadata": {},
   "source": [
    "### List data items\n",
    "\n",
    "To retrieve the dataset's data items you can use the `list_data_items` method. "
   ]
  },
  {
   "cell_type": "code",
   "execution_count": 18,
   "metadata": {},
   "outputs": [
    {
     "name": "stdout",
     "output_type": "stream",
     "text": [
      "Number of images: 3666\n",
      "An example of item specification:\n",
      "name: \"projects/895222332033/locations/us-central1/datasets/1763599058766659584/dataItems/9213637801582835345\"\n",
      "create_time {\n",
      "  seconds: 1612842731\n",
      "  nanos: 890435000\n",
      "}\n",
      "payload {\n",
      "  struct_value {\n",
      "    fields {\n",
      "      key: \"gcsUri\"\n",
      "      value {\n",
      "        string_value: \"gs://cloud-ml-data/img/flower_photos/tulips/8722514702_7ecc68691c.jpg\"\n",
      "      }\n",
      "    }\n",
      "    fields {\n",
      "      key: \"mimeType\"\n",
      "      value {\n",
      "        string_value: \"image/jpeg\"\n",
      "      }\n",
      "    }\n",
      "  }\n",
      "}\n",
      "update_time {\n",
      "  seconds: 1612842731\n",
      "  nanos: 890435000\n",
      "}\n",
      "etag: \"AMEw9yNQdwGTg3d0xJXMK04DZ8Jq4l9Hvy7hVJeUJCHRry4vHkQ65ClsJL69iLs4EEgg\"\n",
      "\n"
     ]
    }
   ],
   "source": [
    "count = 0\n",
    "response = dataset_client.list_data_items(parent=dataset_name)\n",
    "    \n",
    "for data_item in response:\n",
    "    count += 1\n",
    "\n",
    "print('Number of images: {}'.format(count))\n",
    "print('An example of item specification:')\n",
    "print(data_item)\n"
   ]
  },
  {
   "cell_type": "markdown",
   "metadata": {
    "id": "NTTuoxOfGKBA"
   },
   "source": [
    "## Training a model \n",
    "\n",
    "The dataset is ready so we can move on to configuring a training job. There are three methods of training a custom model in AI Platform:\n",
    "* [Custom jobs](https://cloud.google.com/ai-platform-unified/docs/training/create-custom-job)\n",
    "* [Hyperparameter tuning jobs](https://cloud.google.com/ai-platform-unified/docs/training/using-hyperparameter-tuning)\n",
    "* [Training pipelines](https://cloud.google.com/ai-platform-unified/docs/training/create-training-pipeline)\n",
    "\n",
    "A training pipeline encapsulates  additional steps in addition to a training step, specifically: accessing data from an AI Platform dataset and uploading the trained model to AI Platform. The training step of a training pipeline can be either a Custom job or a Hyperparameter tuning job. \n",
    "\n",
    "In this sample, we utilize a training pipeline with a custom job training step.\n",
    "\n",
    "There are two ways you can configure a custom training job:\n",
    "\n",
    "- **Use a Google Cloud prebuilt container**. If you use a prebuilt container, you will additionally specify a Python package to install into the container image. This Python package contains your code for training a custom model.\n",
    "\n",
    "- **Use your own custom container image**. If you use your own container, the container needs to contain your code for training a custom model.\n",
    "\n",
    "You will use the second method."
   ]
  },
  {
   "cell_type": "markdown",
   "metadata": {},
   "source": [
    "### Create a training container image\n",
    "#### Create a folder for training images source code and configs"
   ]
  },
  {
   "cell_type": "code",
   "execution_count": 19,
   "metadata": {},
   "outputs": [],
   "source": [
    "! rm -fr trainer; mkdir trainer\n",
    "! touch trainer/__init__.py"
   ]
  },
  {
   "cell_type": "markdown",
   "metadata": {},
   "source": [
    "#### Define the training script. \n",
    "\n",
    "In the next cell, you will write the contents of the training script to the `task.py` file.\n",
    "\n",
    "Review the script. In summary, the script uses transfer learning to train an image classification model. The model uses the pre-trained ResNet50 as a base and a simple FCNN classifiction top. The script builds a `tf.data` data ingestion pipeline using the AI Platform dataset as a source. Notice how the AI Platform dataset is passed to the script.\n",
    "\n",
    "At runtime, AI Platform passes metadata about your dataset to your training application by setting the following environment variables in your training container.\n",
    "\n",
    "* AIP_DATA_FORMAT: The format that your dataset is exported in. Possible values include: jsonl, csv, or bigquery.\n",
    "* AIP_TRAINING_DATA_URI: The location that your training data is stored at.\n",
    "* AIP_VALIDATION_DATA_URI: The location that your validation data is stored at.\n",
    "* AIP_TEST_DATA_URI: The location that your test data is stored at.\n",
    "\n",
    "If the AIP_DATA_FORMAT of your dataset is jsonl or csv, the data URI values refer to Cloud Storage URIs, like `gs://bucket_name/path/training-*`. To keep the size of each data file relatively small, AI Platform splits your dataset into multiple files. Because your training, validation, or test data may be split into multiple files, the URIs are provided in wildcard format.\n",
    "\n",
    "Image datasets are passed to your training application in JSONL format. The schema is the same as the schema of the index used to import the image data.\n",
    "\n",
    "Refer to [AI Platform (Unified)](https://cloud.google.com/ai-platform-unified/docs/training/using-managed-datasets) for more information about using managed datasets in a custom training application."
   ]
  },
  {
   "cell_type": "code",
   "execution_count": 20,
   "metadata": {},
   "outputs": [
    {
     "name": "stdout",
     "output_type": "stream",
     "text": [
      "Writing trainer/task.py\n"
     ]
    }
   ],
   "source": [
    "%%writefile trainer/task.py\n",
    "# Copyright 2020 Google Inc. All Rights Reserved.\n",
    "#\n",
    "# Licensed under the Apache License, Version 2.0 (the \"License\");\n",
    "# you may not use this file except in compliance with the License.\n",
    "# You may obtain a copy of the License at\n",
    "#\n",
    "#            http://www.apache.org/licenses/LICENSE-2.0\n",
    "#\n",
    "# Unless required by applicable law or agreed to in writing, software\n",
    "# distributed under the License is distributed on an \"AS IS\" BASIS,\n",
    "# WITHOUT WARRANTIES OR CONDITIONS OF ANY KIND, either express or implied.\n",
    "# See the License for the specific language governing permissions and\n",
    "\n",
    "import argparse\n",
    "import os\n",
    "import time\n",
    "\n",
    "#import hypertune\n",
    "import numpy as np\n",
    "import pandas as pd\n",
    "import tensorflow as tf\n",
    "\n",
    "\n",
    "IMG_HEIGHT = 224\n",
    "IMG_WIDTH = 224\n",
    "IMG_SHAPE = (IMG_HEIGHT, IMG_WIDTH, 3)\n",
    "AUTOTUNE = tf.data.experimental.AUTOTUNE\n",
    "LOCAL_LOG_DIR = '/tmp/logs'\n",
    "PROBABILITIES_KEY = 'probabilities'\n",
    "LABELS_KEY = 'labels'\n",
    "NUM_LABELS = 3\n",
    "\n",
    "    \n",
    "def build_model(num_layers, dropout_ratio, num_classes):\n",
    "    \"\"\"\n",
    "    Creates a custom image classificatin model using ResNet50 \n",
    "    as a base model.\n",
    "    \"\"\"\n",
    "    \n",
    "    # Create the base model\n",
    "    base_model = tf.keras.applications.ResNet50(input_shape=IMG_SHAPE,\n",
    "                                                   include_top=False,\n",
    "                                                   weights='imagenet',\n",
    "                                                   pooling='avg')\n",
    "    base_model.trainable = False\n",
    "    \n",
    "    # Add preprocessing and classification head\n",
    "    inputs = tf.keras.Input(shape=IMG_SHAPE, dtype = tf.uint8)\n",
    "    x = tf.cast(inputs, tf.float32)\n",
    "    x = tf.keras.applications.resnet50.preprocess_input(x)\n",
    "    x = base_model(x)\n",
    "    x = tf.keras.layers.Dense(num_layers, activation='relu')(x)\n",
    "    x = tf.keras.layers.Dropout(dropout_ratio)(x)\n",
    "    outputs = tf.keras.layers.Dense(num_classes)(x)\n",
    "    \n",
    "    # Assemble the model\n",
    "    model = tf.keras.Model(inputs, outputs)\n",
    "    \n",
    "    # Compile the model\n",
    "    base_learning_rate = 0.0001\n",
    "    model.compile(optimizer=tf.keras.optimizers.Adam(lr=base_learning_rate),\n",
    "                  loss=tf.keras.losses.SparseCategoricalCrossentropy(from_logits=True),\n",
    "                  metrics=['accuracy'])\n",
    "    \n",
    "    return model\n",
    "\n",
    "\n",
    "def image_dataset_from_aip_jsonl(pattern, class_names=None, img_height=224, img_width=224):\n",
    "        \"\"\"\n",
    "        Generates a `tf.data.Dataset` from a set of JSONL files\n",
    "        in the AI Platform image dataset index format. \n",
    "        \n",
    "        Arguments:\n",
    "            pattern: A wildcard pattern for a list of JSONL files.\n",
    "                E.g. gs://bucket/folder/training-*.\n",
    "            class_names: the list of class names that are expected\n",
    "                in the passed index. \n",
    "            img_height: The height of a generated image\n",
    "            img_width: The width of a generated image\n",
    "            \n",
    "        \"\"\"\n",
    "        \n",
    "        def _get_label(class_name):\n",
    "            \"\"\"\n",
    "            Converts a string class name to an integer label.\n",
    "            \"\"\"\n",
    "            one_hot = class_name == class_names\n",
    "            return tf.argmax(one_hot)\n",
    "        \n",
    "        def _decode_img(file_path):\n",
    "            \"\"\"\n",
    "            Loads an image and converts it to a resized 3D tensor.\n",
    "            \"\"\"\n",
    "            \n",
    "            img = tf.io.read_file(file_path)\n",
    "            img = tf.io.decode_image(img, \n",
    "                                     expand_animations=False)\n",
    "            img = tf.image.resize(img, [img_height, img_width])\n",
    "            img = tf.cast(img, tf.uint8)\n",
    "            \n",
    "            return img\n",
    "            \n",
    "        def _process_example(file_path, class_name):\n",
    "            \"\"\"\n",
    "            Creates a converted image and a class label from\n",
    "            an image path and class name.\n",
    "            \"\"\"\n",
    "            \n",
    "            label = _get_label(class_name)\n",
    "            img = _decode_img(file_path)\n",
    "            \n",
    "            return img, label\n",
    "        \n",
    "        # Read the JSONL index to a pandas DataFrame\n",
    "        df = pd.concat(\n",
    "            [pd.read_json(path, lines=True) for path in tf.io.gfile.glob(pattern)],\n",
    "            ignore_index=True\n",
    "        )\n",
    "        \n",
    "        # Parse classifcationAnnotations field\n",
    "        df = pd.concat(\n",
    "            [df, pd.json_normalize(df['classificationAnnotations'].apply(pd.Series)[0])], axis=1)\n",
    "        \n",
    "        paths = df['imageGcsUri'].values\n",
    "        labels = df['displayName'].values\n",
    "        inferred_class_names = np.unique(labels)\n",
    "        \n",
    "        if class_names is not None:\n",
    "            class_names = np.array(class_names).astype(str)\n",
    "            if set(inferred_class_names) != set(class_names):\n",
    "                raise ValueError(\n",
    "                    'The `class_names` passed do not match the '\n",
    "                    'names in the image index '\n",
    "                    'Expected: %s, received %s' %\n",
    "                    (inferred_class_names, class_names))\n",
    "            \n",
    "        class_names = tf.constant(inferred_class_names)\n",
    "        \n",
    "        dataset = tf.data.Dataset.from_tensor_slices((paths, labels))\n",
    "        dataset = dataset.shuffle(len(labels), reshuffle_each_iteration=False)\n",
    "        dataset = dataset.map(_process_example, num_parallel_calls=AUTOTUNE)\n",
    "        dataset.class_names = class_names\n",
    "        \n",
    "        return dataset\n",
    "\n",
    "\n",
    "def get_datasets(batch_size, img_height, img_width):\n",
    "    \"\"\"\n",
    "    Creates training and validation splits as tf.data datasets\n",
    "    from an AI Platform Dataset passed by the training pipeline.\n",
    "    \"\"\"\n",
    "    \n",
    "    def _configure_for_performance(ds):\n",
    "        \"\"\"\n",
    "        Optimizes the performance of a dataset.\n",
    "        \"\"\"\n",
    "        ds = ds.cache()\n",
    "        ds = ds.prefetch(buffer_size=AUTOTUNE)\n",
    "        return ds\n",
    "    \n",
    "    if  os.environ['AIP_DATA_FORMAT'] != 'jsonl':\n",
    "        raise RuntimeError('Wrong dataset format: {}. Expecting - jsonl'.format(\n",
    "            os.environ['AIP_DATA_FORMAT']))\n",
    "        \n",
    "    train_ds = image_dataset_from_aip_jsonl(\n",
    "        pattern=os.environ['AIP_TRAINING_DATA_URI'],\n",
    "        img_height=img_height,\n",
    "        img_width=img_width)\n",
    "    \n",
    "    class_names = train_ds.class_names.numpy()\n",
    "        \n",
    "    valid_ds = image_dataset_from_aip_jsonl(\n",
    "        pattern=os.environ['AIP_VALIDATION_DATA_URI'],\n",
    "        class_names=class_names,\n",
    "        img_height=img_height,\n",
    "        img_width=img_width)\n",
    "    \n",
    "    train_ds = _configure_for_performance(train_ds.batch(batch_size))\n",
    "    valid_ds = _configure_for_performance(valid_ds.batch(batch_size))\n",
    "    \n",
    "    return train_ds, valid_ds, class_names\n",
    "        \n",
    "    \n",
    "class ServingModule(tf.Module):\n",
    "    \"\"\"\n",
    "    A custom tf.Module that adds a serving signature with image preprocessing\n",
    "    and prediction postprocessing to the trained model.\n",
    "    \"\"\"\n",
    "\n",
    "    def __init__(self, base_model, output_labels):\n",
    "        super(ServingModule, self).__init__()\n",
    "        self._model = base_model\n",
    "        self._output_labels = tf.constant(output_labels, dtype=tf.string)\n",
    "\n",
    "    def _decode_and_scale(self, raw_image):\n",
    "        \"\"\"\n",
    "        Decodes, and resizes a single raw image.\n",
    "        \"\"\"\n",
    "        \n",
    "        image = tf.image.decode_image(raw_image, expand_animations=False)\n",
    "        image = tf.image.resize(image, [IMG_HEIGHT, IMG_WIDTH])\n",
    "        image = tf.cast(image, tf.uint8)\n",
    "        return image\n",
    "    \n",
    "    def _preprocess(self, raw_images):\n",
    "        \"\"\"\n",
    "        Preprocesses raw inputs as sent by the client.\n",
    "        \"\"\"\n",
    "        \n",
    "        # A mitigation for https://github.com/tensorflow/tensorflow/issues/28007\n",
    "        with tf.device('/cpu:0'):\n",
    "            images = tf.map_fn(self._decode_and_scale, raw_images, \n",
    "                               dtype=tf.uint8, back_prop=False)\n",
    "        \n",
    "        return images\n",
    "        \n",
    "    def _postprocess(self, model_outputs):\n",
    "        \"\"\"\n",
    "        Postprocesses outputs returned by the base model.\n",
    "        \"\"\"\n",
    "        \n",
    "        probabilities = tf.nn.softmax(model_outputs)\n",
    "        indices = tf.argsort(probabilities, axis=1, direction='DESCENDING')\n",
    "        \n",
    "        return {\n",
    "            LABELS_KEY: tf.gather(self._output_labels, indices, axis=-1)[:,:NUM_LABELS],\n",
    "            PROBABILITIES_KEY: tf.sort(probabilities, direction='DESCENDING')[:,:NUM_LABELS]\n",
    "        }\n",
    "        \n",
    "\n",
    "    @tf.function(input_signature=[tf.TensorSpec([None], tf.string)])\n",
    "    def __call__(self, bytes_inputs):\n",
    "        \"\"\"\n",
    "        Preprocesses inputs, calls the base model \n",
    "        and postprocesses outputs from the base model.\n",
    "        \"\"\"\n",
    "        \n",
    "        images = self._preprocess(bytes_inputs)\n",
    "        logits = self._model(images)\n",
    "        outputs = self._postprocess(logits)                         \n",
    "        return outputs\n",
    "\n",
    "    \n",
    "def get_args():\n",
    "    \"\"\"\n",
    "    Returns parsed command line arguments.\n",
    "    \"\"\"\n",
    "    \n",
    "    parser = argparse.ArgumentParser()\n",
    "    parser.add_argument(\n",
    "        '--num-epochs',\n",
    "        type=int,\n",
    "        default=20,\n",
    "        help='number of times to go through the data, default=20')\n",
    "    parser.add_argument(\n",
    "        '--batch-size',\n",
    "        default=32,\n",
    "        type=int,\n",
    "        help='number of records to read during each training step, default=32')\n",
    "    parser.add_argument(\n",
    "        '--num-layers',\n",
    "        default=64,\n",
    "        type=int,\n",
    "        help='number of hidden layers in the classification head , default=64')\n",
    "    parser.add_argument(\n",
    "        '--dropout-ratio',\n",
    "        default=0.5,\n",
    "        type=float,\n",
    "        help='dropout ration in the classification head , default=128')\n",
    "    parser.add_argument(\n",
    "        '--model-dir',\n",
    "        type=str,\n",
    "        default='/tmp/saved_model',\n",
    "        help='model dir , default=/tmp/saved_model')\n",
    "\n",
    "    args, _ = parser.parse_known_args()\n",
    "    return args\n",
    "\n",
    "\n",
    "def copy_tensorboard_logs(local_path: str, gcs_path: str):\n",
    "    \"\"\"Copies Tensorboard logs from a local dir to a GCS location.\n",
    "    \n",
    "    After training, batch copy Tensorboard logs locally to a GCS location. This can result\n",
    "    in faster pipeline runtimes over streaming logs per batch to GCS that can get bottlenecked\n",
    "    when streaming large volumes.\n",
    "    \n",
    "    Args:\n",
    "      local_path: local filesystem directory uri.\n",
    "      gcs_path: cloud filesystem directory uri.\n",
    "    Returns:\n",
    "      None.\n",
    "    \"\"\"\n",
    "    pattern = '{}/*/events.out.tfevents.*'.format(local_path)\n",
    "    local_files = tf.io.gfile.glob(pattern)\n",
    "    gcs_log_files = [local_file.replace(local_path, gcs_path) for local_file in local_files]\n",
    "    for local_file, gcs_file in zip(local_files, gcs_log_files):\n",
    "        tf.io.gfile.copy(local_file, gcs_file)\n",
    "\n",
    "\n",
    "if __name__ == '__main__':\n",
    "    \n",
    "    if 'AIP_DATA_FORMAT' not in os.environ:\n",
    "        raise RuntimeError('No dataset information available.')\n",
    "        \n",
    "    # Configure TensorBoard callback\n",
    "    callbacks = [tf.keras.callbacks.TensorBoard(log_dir=LOCAL_LOG_DIR, update_freq='batch')]\n",
    "   \n",
    "    args = get_args()\n",
    "    \n",
    "    # Create the datasets and the model\n",
    "    train_ds, valid_ds, class_names = get_datasets(args.batch_size, IMG_HEIGHT, IMG_WIDTH)\n",
    "    model = build_model(args.num_layers, args.dropout_ratio, len(class_names))\n",
    "    print(model.summary())\n",
    "    \n",
    "    # Start training\n",
    "    history = model.fit(x=train_ds, \n",
    "                        validation_data=valid_ds, \n",
    "                        epochs=args.num_epochs,\n",
    "                        callbacks=callbacks)\n",
    "    \n",
    "    # Configure locations for SavedModel and TB logs\n",
    "    if 'AIP_MODEL_DIR' in os.environ:\n",
    "        model_dir = os.environ['AIP_MODEL_DIR']\n",
    "    else:\n",
    "        model_dir = args.model_dir\n",
    "    tb_dir = f'{model_dir}/logs'\n",
    "    \n",
    "    # Save the serving SavedModel\n",
    "    print('Saving the model to: {}'.format(model_dir))\n",
    "    serving_module = ServingModule(model, class_names)\n",
    "    signatures = {\n",
    "        'serving_default': serving_module.__call__.get_concrete_function()\n",
    "    \n",
    "    }\n",
    "    tf.saved_model.save(serving_module, model_dir, signatures=signatures)\n",
    "    \n",
    "    # Copy Tensorboard logs to GCS\n",
    "    copy_tensorboard_logs(LOCAL_LOG_DIR, tb_dir)"
   ]
  },
  {
   "cell_type": "markdown",
   "metadata": {},
   "source": [
    "Create a Dockefile"
   ]
  },
  {
   "cell_type": "code",
   "execution_count": 21,
   "metadata": {},
   "outputs": [],
   "source": [
    "dockerfile = f'''\n",
    "FROM {TRAIN_BASE_IMAGE}\n",
    "\n",
    "RUN pip install -U 'h5py<3.0.0'\n",
    "\n",
    "WORKDIR /\n",
    "\n",
    "# Copies the trainer code to the docker image.\n",
    "COPY trainer /trainer\n",
    "\n",
    "# Sets up the entry point to invoke the trainer.\n",
    "ENTRYPOINT [\"python\", \"-m\", \"trainer.task\"]\n",
    "'''\n",
    "\n",
    "with open('Dockerfile', 'w') as f:\n",
    "    f.write(dockerfile)"
   ]
  },
  {
   "cell_type": "markdown",
   "metadata": {},
   "source": [
    "Build the container image"
   ]
  },
  {
   "cell_type": "code",
   "execution_count": 22,
   "metadata": {},
   "outputs": [],
   "source": [
    "train_image = f'gcr.io/{PROJECT_ID}/image_classifier'"
   ]
  },
  {
   "cell_type": "code",
   "execution_count": 23,
   "metadata": {},
   "outputs": [
    {
     "name": "stdout",
     "output_type": "stream",
     "text": [
      "Sending build context to Docker daemon    321kB\n",
      "Step 1/5 : FROM gcr.io/deeplearning-platform-release/tf2-gpu.2-3:latest\n",
      " ---> 1da8084e22d8\n",
      "Step 2/5 : RUN pip install -U 'h5py<3.0.0'\n",
      " ---> Using cache\n",
      " ---> b122574838a8\n",
      "Step 3/5 : WORKDIR /\n",
      " ---> Using cache\n",
      " ---> 72fe311a9af4\n",
      "Step 4/5 : COPY trainer /trainer\n",
      " ---> 04fc6555aa66\n",
      "Step 5/5 : ENTRYPOINT [\"python\", \"-m\", \"trainer.task\"]\n",
      " ---> Running in 64291cd00595\n",
      "Removing intermediate container 64291cd00595\n",
      " ---> 3d40ca91befc\n",
      "Successfully built 3d40ca91befc\n",
      "Successfully tagged gcr.io/jk-mlops-dev/image_classifier:latest\n"
     ]
    }
   ],
   "source": [
    "! docker build -t {train_image} ."
   ]
  },
  {
   "cell_type": "markdown",
   "metadata": {},
   "source": [
    "Push the image to Container Registry"
   ]
  },
  {
   "cell_type": "code",
   "execution_count": 24,
   "metadata": {},
   "outputs": [
    {
     "name": "stdout",
     "output_type": "stream",
     "text": [
      "The push refers to repository [gcr.io/jk-mlops-dev/image_classifier]\n",
      "\n",
      "\u001b[1B9ac5cba6: Preparing \n",
      "\u001b[1B403b4855: Preparing \n",
      "\u001b[1Bab07d59c: Preparing \n",
      "\u001b[1B178561e2: Preparing \n",
      "\u001b[1B28ecdaf6: Preparing \n",
      "\u001b[1B323505c6: Preparing \n",
      "\u001b[1Bbf178d6b: Preparing \n",
      "\u001b[1Bc5334f43: Preparing \n",
      "\u001b[1B8f1521c3: Preparing \n",
      "\u001b[1B21c79fd1: Preparing \n",
      "\u001b[1B2f63e1cf: Preparing \n",
      "\u001b[1B7d3dd7ec: Preparing \n",
      "\u001b[1B38633fe1: Preparing \n",
      "\u001b[1Bf29b440a: Preparing \n",
      "\u001b[1B4b39f2b3: Preparing \n",
      "\u001b[1B6711628b: Preparing \n",
      "\u001b[1Bf5975ab3: Preparing \n",
      "\u001b[1B17ba195d: Preparing \n",
      "\u001b[14B23505c6: Waiting g \n",
      "\u001b[1B00c31be3: Preparing \n",
      "\u001b[15Bf178d6b: Waiting g \n",
      "\u001b[1Ba7c9e3d1: Preparing \n",
      "\u001b[14B1c79fd1: Waiting g \n",
      "\u001b[1B30bcc944: Preparing \n",
      "\u001b[14Bd3dd7ec: Waiting g \n",
      "\u001b[1B4df0ad6c: Preparing \n",
      "\u001b[1Bdf553184: Preparing \n",
      "\u001b[28Bac5cba6: Pushed lready exists 9kB\u001b[24A\u001b[2K\u001b[23A\u001b[2K\u001b[20A\u001b[2K\u001b[19A\u001b[2K\u001b[15A\u001b[2K\u001b[14A\u001b[2K\u001b[10A\u001b[2K\u001b[9A\u001b[2K\u001b[6A\u001b[2K\u001b[3A\u001b[2K\u001b[28A\u001b[2Klatest: digest: sha256:df2355bb6e54b497192da0a8a0f6cd3430aba6b8ac967ede1fdc80cda0e89d6f size: 6197\n"
     ]
    }
   ],
   "source": [
    "! docker push {train_image}"
   ]
  },
  {
   "cell_type": "markdown",
   "metadata": {},
   "source": [
    "### Define the training pipeline\n",
    "\n",
    "You will define a training pipeline that uses the Flowers dataset as input, runs training as a custom training job, and uploads the trained model to AI Platform. \n",
    "\n",
    "Let's start by assembling the custom training job specification.\n",
    "\n",
    "#### Define container and worker pool specs\n",
    "\n",
    "Your custom training job will use a custom training container created in the previous step. Recall that the training scripts can be configured through command line parameters. For example you can set a number of training epochs.\n",
    "\n",
    "In this sample, we will run training on a single GPU equipped node.\n"
   ]
  },
  {
   "cell_type": "code",
   "execution_count": 25,
   "metadata": {},
   "outputs": [],
   "source": [
    "epochs = 10\n",
    "\n",
    "container_spec = {\n",
    "    \"image_uri\": train_image, \n",
    "    \"args\": [\n",
    "        \"--num-epochs=\" + str(epochs),\n",
    "    ],\n",
    "}\n",
    "\n",
    "worker_pool_spec = [\n",
    "    {\n",
    "        \"replica_count\": 1,\n",
    "        \"machine_spec\": {\n",
    "            \"machine_type\": TRAIN_MACHINE_TYPE,\n",
    "            \"accelerator_type\": TRAIN_GPU,\n",
    "            \"accelerator_count\": TRAIN_NGPU\n",
    "        },\n",
    "        \"container_spec\": container_spec,\n",
    "    }\n",
    "]"
   ]
  },
  {
   "cell_type": "markdown",
   "metadata": {},
   "source": [
    "#### Assemble the job spec\n",
    "\n",
    "Let's now assemble the custom job specification. \n",
    "\n",
    "After the custom job completes, the training pipeline finds the model artifacts that your training application creates in the output directory you specified for your Cloud Storage bucket. It uses these artifacts to create a model resource, which sets you up for model deployment.\n",
    "\n",
    "There are two different ways to set the location for your model artifacts:\n",
    "\n",
    "* If you set a `baseOutputDirectory` for your training job, make sure your training code saves your model artifacts to that location, using the `AIP_MODEL_DIR` environment variable set by AI Platform. After the training job is completed, AI Platform searches for the resulting model artifacts in `gs://BASE_OUTPUT_DIRECTORY/model`.\n",
    "* If you set the `modelToUpload.artifactUri` field, the training pipeline uploads the model artifacts from that URI. You must set this field if you didn't set `baseOutputDirectory`.\n",
    "\n",
    "If you specify both `baseOutputDirectory` and `modelToUpload.artifactUri`, AI Platform uses `modelToUpload.artifactUri`."
   ]
  },
  {
   "cell_type": "code",
   "execution_count": 26,
   "metadata": {},
   "outputs": [
    {
     "data": {
      "text/plain": [
       "{'worker_pool_specs': [{'replica_count': 1,\n",
       "   'machine_spec': {'machine_type': 'n1-standard-4',\n",
       "    'accelerator_type': <AcceleratorType.NVIDIA_TESLA_K80: 1>,\n",
       "    'accelerator_count': 1},\n",
       "   'container_spec': {'image_uri': 'gcr.io/jk-mlops-dev/image_classifier',\n",
       "    'args': ['--num-epochs=10']}}],\n",
       " 'base_output_directory': {'output_uri_prefix': 'gs://jk-ucaip-demos/image-classifier-pipeline/'}}"
      ]
     },
     "execution_count": 26,
     "metadata": {},
     "output_type": "execute_result"
    }
   ],
   "source": [
    "pipeline_display_name = 'image-classifier-pipeline'\n",
    "base_output_dir = 'gs://{}/{}/'.format(BUCKET_NAME, pipeline_display_name)\n",
    "job_spec =  {\n",
    "    \"worker_pool_specs\": worker_pool_spec,\n",
    "    \"base_output_directory\": {\n",
    "        \"output_uri_prefix\": base_output_dir\n",
    "    }\n",
    "}\n",
    "job_spec"
   ]
  },
  {
   "cell_type": "markdown",
   "metadata": {},
   "source": [
    "#### Assemble the pipeline specification\n",
    "\n",
    "You can now assemble the pipeline specification."
   ]
  },
  {
   "cell_type": "code",
   "execution_count": 27,
   "metadata": {},
   "outputs": [
    {
     "data": {
      "text/plain": [
       "{'display_name': 'image-classifier-pipeline',\n",
       " 'input_data_config': {'dataset_id': '1763599058766659584',\n",
       "  'annotation_schema_uri': 'gs://google-cloud-aiplatform/schema/dataset/annotation/image_classification_1.0.0.yaml',\n",
       "  'gcs_destination': {'output_uri_prefix': 'gs://jk-ucaip-demos/image-classifier-pipeline/'},\n",
       "  'fraction_split': {'training_fraction': 0.5, 'validation_fraction': 0.2}},\n",
       " 'training_task_definition': 'gs://google-cloud-aiplatform/schema/trainingjob/definition/custom_task_1.0.0.yaml',\n",
       " 'training_task_inputs': struct_value {\n",
       "   fields {\n",
       "     key: \"base_output_directory\"\n",
       "     value {\n",
       "       struct_value {\n",
       "         fields {\n",
       "           key: \"output_uri_prefix\"\n",
       "           value {\n",
       "             string_value: \"gs://jk-ucaip-demos/image-classifier-pipeline/\"\n",
       "           }\n",
       "         }\n",
       "       }\n",
       "     }\n",
       "   }\n",
       "   fields {\n",
       "     key: \"worker_pool_specs\"\n",
       "     value {\n",
       "       list_value {\n",
       "         values {\n",
       "           struct_value {\n",
       "             fields {\n",
       "               key: \"container_spec\"\n",
       "               value {\n",
       "                 struct_value {\n",
       "                   fields {\n",
       "                     key: \"args\"\n",
       "                     value {\n",
       "                       list_value {\n",
       "                         values {\n",
       "                           string_value: \"--num-epochs=10\"\n",
       "                         }\n",
       "                       }\n",
       "                     }\n",
       "                   }\n",
       "                   fields {\n",
       "                     key: \"image_uri\"\n",
       "                     value {\n",
       "                       string_value: \"gcr.io/jk-mlops-dev/image_classifier\"\n",
       "                     }\n",
       "                   }\n",
       "                 }\n",
       "               }\n",
       "             }\n",
       "             fields {\n",
       "               key: \"machine_spec\"\n",
       "               value {\n",
       "                 struct_value {\n",
       "                   fields {\n",
       "                     key: \"accelerator_count\"\n",
       "                     value {\n",
       "                       number_value: 1.0\n",
       "                     }\n",
       "                   }\n",
       "                   fields {\n",
       "                     key: \"accelerator_type\"\n",
       "                     value {\n",
       "                       number_value: 1.0\n",
       "                     }\n",
       "                   }\n",
       "                   fields {\n",
       "                     key: \"machine_type\"\n",
       "                     value {\n",
       "                       string_value: \"n1-standard-4\"\n",
       "                     }\n",
       "                   }\n",
       "                 }\n",
       "               }\n",
       "             }\n",
       "             fields {\n",
       "               key: \"replica_count\"\n",
       "               value {\n",
       "                 number_value: 1.0\n",
       "               }\n",
       "             }\n",
       "           }\n",
       "         }\n",
       "       }\n",
       "     }\n",
       "   }\n",
       " },\n",
       " 'model_to_upload': {'display_name': 'image-classifier-pipeline-model',\n",
       "  'container_spec': {'image_uri': 'gcr.io/cloud-aiplatform/prediction/tf2-cpu.2-2:latest'}}}"
      ]
     },
     "execution_count": 27,
     "metadata": {},
     "output_type": "execute_result"
    }
   ],
   "source": [
    "model_display_name = pipeline_display_name + '-model'\n",
    "dataset_id = dataset_name.split('/')[-1]\n",
    "\n",
    "training_task_inputs = json_format.ParseDict(job_spec,Value())\n",
    "\n",
    "training_pipeline_spec = {\n",
    "    'display_name': pipeline_display_name,\n",
    "    'input_data_config': {\n",
    "        'dataset_id': dataset_id,\n",
    "        'annotation_schema_uri': ANNOTATION_SCHEMA,\n",
    "        'gcs_destination': {\n",
    "            'output_uri_prefix': base_output_dir\n",
    "        },\n",
    "        'fraction_split': {\n",
    "            'training_fraction': 0.5,\n",
    "            'validation_fraction': 0.2\n",
    "        },\n",
    "    },\n",
    "    'training_task_definition': CUSTOM_TRAINING_TASK_DEFINITION,\n",
    "    'training_task_inputs': training_task_inputs,\n",
    "    'model_to_upload': {\n",
    "        'display_name': model_display_name,\n",
    "        'container_spec': {\n",
    "            'image_uri': DEPLOY_IMAGE\n",
    "        }\n",
    "    }\n",
    "}\n",
    "\n",
    "training_pipeline_spec"
   ]
  },
  {
   "cell_type": "markdown",
   "metadata": {},
   "source": [
    "### Start the training pipeline \n"
   ]
  },
  {
   "cell_type": "code",
   "execution_count": 28,
   "metadata": {},
   "outputs": [],
   "source": [
    "pipeline = pipeline_client.create_training_pipeline(\n",
    "    parent=PARENT, training_pipeline=training_pipeline_spec)"
   ]
  },
  {
   "cell_type": "markdown",
   "metadata": {},
   "source": [
    "Get pipeline info."
   ]
  },
  {
   "cell_type": "code",
   "execution_count": 29,
   "metadata": {},
   "outputs": [
    {
     "name": "stdout",
     "output_type": "stream",
     "text": [
      "name: \"projects/895222332033/locations/us-central1/trainingPipelines/7640831756857245696\"\n",
      "display_name: \"image-classifier-pipeline\"\n",
      "input_data_config {\n",
      "  dataset_id: \"1763599058766659584\"\n",
      "  fraction_split {\n",
      "    training_fraction: 0.5\n",
      "    validation_fraction: 0.2\n",
      "  }\n",
      "  gcs_destination {\n",
      "    output_uri_prefix: \"gs://jk-ucaip-demos/image-classifier-pipeline/\"\n",
      "  }\n",
      "  annotation_schema_uri: \"gs://google-cloud-aiplatform/schema/dataset/annotation/image_classification_1.0.0.yaml\"\n",
      "}\n",
      "training_task_definition: \"gs://google-cloud-aiplatform/schema/trainingjob/definition/custom_task_1.0.0.yaml\"\n",
      "training_task_inputs {\n",
      "  struct_value {\n",
      "    fields {\n",
      "      key: \"baseOutputDirectory\"\n",
      "      value {\n",
      "        struct_value {\n",
      "          fields {\n",
      "            key: \"outputUriPrefix\"\n",
      "            value {\n",
      "              string_value: \"gs://jk-ucaip-demos/image-classifier-pipeline/\"\n",
      "            }\n",
      "          }\n",
      "        }\n",
      "      }\n",
      "    }\n",
      "    fields {\n",
      "      key: \"workerPoolSpecs\"\n",
      "      value {\n",
      "        list_value {\n",
      "          values {\n",
      "            struct_value {\n",
      "              fields {\n",
      "                key: \"containerSpec\"\n",
      "                value {\n",
      "                  struct_value {\n",
      "                    fields {\n",
      "                      key: \"args\"\n",
      "                      value {\n",
      "                        list_value {\n",
      "                          values {\n",
      "                            string_value: \"--num-epochs=10\"\n",
      "                          }\n",
      "                        }\n",
      "                      }\n",
      "                    }\n",
      "                    fields {\n",
      "                      key: \"imageUri\"\n",
      "                      value {\n",
      "                        string_value: \"gcr.io/jk-mlops-dev/image_classifier\"\n",
      "                      }\n",
      "                    }\n",
      "                  }\n",
      "                }\n",
      "              }\n",
      "              fields {\n",
      "                key: \"diskSpec\"\n",
      "                value {\n",
      "                  struct_value {\n",
      "                    fields {\n",
      "                      key: \"bootDiskSizeGb\"\n",
      "                      value {\n",
      "                        number_value: 100.0\n",
      "                      }\n",
      "                    }\n",
      "                    fields {\n",
      "                      key: \"bootDiskType\"\n",
      "                      value {\n",
      "                        string_value: \"pd-ssd\"\n",
      "                      }\n",
      "                    }\n",
      "                  }\n",
      "                }\n",
      "              }\n",
      "              fields {\n",
      "                key: \"machineSpec\"\n",
      "                value {\n",
      "                  struct_value {\n",
      "                    fields {\n",
      "                      key: \"acceleratorCount\"\n",
      "                      value {\n",
      "                        number_value: 1.0\n",
      "                      }\n",
      "                    }\n",
      "                    fields {\n",
      "                      key: \"acceleratorType\"\n",
      "                      value {\n",
      "                        string_value: \"NVIDIA_TESLA_K80\"\n",
      "                      }\n",
      "                    }\n",
      "                    fields {\n",
      "                      key: \"machineType\"\n",
      "                      value {\n",
      "                        string_value: \"n1-standard-4\"\n",
      "                      }\n",
      "                    }\n",
      "                  }\n",
      "                }\n",
      "              }\n",
      "              fields {\n",
      "                key: \"replicaCount\"\n",
      "                value {\n",
      "                  string_value: \"1\"\n",
      "                }\n",
      "              }\n",
      "            }\n",
      "          }\n",
      "        }\n",
      "      }\n",
      "    }\n",
      "  }\n",
      "}\n",
      "model_to_upload {\n",
      "  display_name: \"image-classifier-pipeline-model\"\n",
      "  predict_schemata {\n",
      "  }\n",
      "  container_spec {\n",
      "    image_uri: \"gcr.io/cloud-aiplatform/prediction/tf2-cpu.2-2:latest\"\n",
      "  }\n",
      "}\n",
      "state: PIPELINE_STATE_RUNNING\n",
      "create_time {\n",
      "  seconds: 1612909662\n",
      "  nanos: 341747000\n",
      "}\n",
      "start_time {\n",
      "  seconds: 1612909662\n",
      "  nanos: 445037000\n",
      "}\n",
      "update_time {\n",
      "  seconds: 1612909662\n",
      "  nanos: 445037000\n",
      "}\n",
      "\n"
     ]
    }
   ],
   "source": [
    "response = pipeline_client.get_training_pipeline(name=pipeline.name)\n",
    "print(response)"
   ]
  },
  {
   "cell_type": "markdown",
   "metadata": {},
   "source": [
    "The pipeline will take a few minutes to complete. You can check the status of the pipeline by inspecting the `state` property returned by a call to the `get_training_pipeline` method.\n"
   ]
  },
  {
   "cell_type": "code",
   "execution_count": 33,
   "metadata": {},
   "outputs": [
    {
     "name": "stdout",
     "output_type": "stream",
     "text": [
      "Training pipeline completed\n",
      "Model ready for deployment:\n",
      "name: \"projects/895222332033/locations/us-central1/models/4236778941634838528\"\n",
      "display_name: \"image-classifier-pipeline-model\"\n",
      "predict_schemata {\n",
      "}\n",
      "container_spec {\n",
      "  image_uri: \"gcr.io/cloud-aiplatform/prediction/tf2-cpu.2-2:latest\"\n",
      "}\n",
      "\n"
     ]
    }
   ],
   "source": [
    "response = pipeline_client.get_training_pipeline(name=pipeline.name)\n",
    "model_name = None\n",
    "if response.state != aip.PipelineState.PIPELINE_STATE_SUCCEEDED:\n",
    "    print(\"Training pipeline has not completed yet\")\n",
    "else:\n",
    "    print(\"Training pipeline completed\")\n",
    "    print(\"Model ready for deployment:\")\n",
    "    print(response.model_to_upload)\n",
    "    model_name = response.model_to_upload.name"
   ]
  },
  {
   "cell_type": "markdown",
   "metadata": {},
   "source": [
    "Before proceeding wait till the training pipeline completes."
   ]
  },
  {
   "cell_type": "markdown",
   "metadata": {
    "id": "P9NsMP_5GKBA"
   },
   "source": [
    "## Deploying a model\n",
    "\n",
    "Deploying an uploaded model is a two step process. First you need to create or select an AI Platform Prediction endpoint. After the endpoint is ready, you deploy a model to the endpoint.\n",
    "\n",
    "Refer to AI Platform (Unified) [documentation](https://cloud.google.com/ai-platform-unified/docs/general/deployment) for more information about deploying models.\n"
   ]
  },
  {
   "cell_type": "markdown",
   "metadata": {
    "id": "r-uJp-FnGKBB"
   },
   "source": [
    "### Get model information\n",
    "\n",
    "You can list uploaded models and get detailed information about a specific model using  the `list_model` and `get_model` methods."
   ]
  },
  {
   "cell_type": "code",
   "execution_count": 34,
   "metadata": {},
   "outputs": [
    {
     "name": "stdout",
     "output_type": "stream",
     "text": [
      "projects/895222332033/locations/us-central1/models/4236778941634838528\n"
     ]
    }
   ],
   "source": [
    "request = {\n",
    "    'parent': PARENT,\n",
    "    'filter': 'display_name=\"{}\"'.format(model_display_name)\n",
    "}\n",
    "\n",
    "response = model_client.list_models(request)\n",
    "\n",
    "for model in response:\n",
    "    print(model.name)"
   ]
  },
  {
   "cell_type": "code",
   "execution_count": 35,
   "metadata": {
    "id": "-wOE_l4FGKBB"
   },
   "outputs": [
    {
     "data": {
      "text/plain": [
       "name: \"projects/895222332033/locations/us-central1/models/4236778941634838528\"\n",
       "display_name: \"image-classifier-pipeline-model\"\n",
       "predict_schemata {\n",
       "}\n",
       "metadata {\n",
       "}\n",
       "training_pipeline: \"projects/895222332033/locations/us-central1/trainingPipelines/7640831756857245696\"\n",
       "container_spec {\n",
       "  image_uri: \"gcr.io/cloud-aiplatform/prediction/tf2-cpu.2-2:latest\"\n",
       "}\n",
       "supported_deployment_resources_types: DEDICATED_RESOURCES\n",
       "supported_input_storage_formats: \"jsonl\"\n",
       "supported_input_storage_formats: \"csv\"\n",
       "supported_input_storage_formats: \"tf-record\"\n",
       "supported_input_storage_formats: \"tf-record-gzip\"\n",
       "supported_input_storage_formats: \"file-list\"\n",
       "supported_output_storage_formats: \"jsonl\"\n",
       "create_time {\n",
       "  seconds: 1612909662\n",
       "  nanos: 341747000\n",
       "}\n",
       "update_time {\n",
       "  seconds: 1612910825\n",
       "  nanos: 484993000\n",
       "}\n",
       "etag: \"AMEw9yPAHEdBeJN00cVXOAasMlaUsRa1mB9MhXiF6TZPm408SNV2xWMV7NOHl1tCl6Gm\"\n",
       "supported_export_formats {\n",
       "  id: \"custom-trained\"\n",
       "  exportable_contents: ARTIFACT\n",
       "}\n",
       "artifact_uri: \"gs://jk-ucaip-demos/image-classifier-pipeline/model\""
      ]
     },
     "execution_count": 35,
     "metadata": {},
     "output_type": "execute_result"
    }
   ],
   "source": [
    "model_client.get_model(name=model_name)"
   ]
  },
  {
   "cell_type": "markdown",
   "metadata": {
    "id": "_0GV5MwiGKBB"
   },
   "source": [
    "### Create an endpoint\n",
    "\n",
    "\n",
    "Creating an endpoint returns a long running operation, since it may take a few moments to provision the endpoint for serving. You call `response.result()`, which is a synchronous call and will return when the endpoint is ready. The helper function will return the AI Platform (Unified) fully qualified identifier for the endpoint -- `response.name`.\n"
   ]
  },
  {
   "cell_type": "code",
   "execution_count": 36,
   "metadata": {},
   "outputs": [],
   "source": [
    "endpoint_display_name = 'flower_classifier_endpoint'\n",
    "\n",
    "endpoint = {\n",
    "    'display_name': endpoint_display_name\n",
    "}"
   ]
  },
  {
   "cell_type": "code",
   "execution_count": 37,
   "metadata": {},
   "outputs": [
    {
     "name": "stdout",
     "output_type": "stream",
     "text": [
      "Long running operation:  projects/895222332033/locations/us-central1/endpoints/2999784379921727488/operations/8971502510233616384\n",
      "projects/895222332033/locations/us-central1/endpoints/2999784379921727488\n"
     ]
    }
   ],
   "source": [
    "response = endpoint_client.create_endpoint(parent=PARENT, endpoint=endpoint)\n",
    "print('Long running operation: ',  response.operation.name)\n",
    "result = response.result(timeout=300)\n",
    "endpoint_name = result.name\n",
    "print(endpoint_name)"
   ]
  },
  {
   "cell_type": "markdown",
   "metadata": {},
   "source": [
    "### List endpoints"
   ]
  },
  {
   "cell_type": "code",
   "execution_count": 38,
   "metadata": {},
   "outputs": [
    {
     "name": "stdout",
     "output_type": "stream",
     "text": [
      "name: \"projects/895222332033/locations/us-central1/endpoints/2999784379921727488\"\n",
      "display_name: \"flower_classifier_endpoint\"\n",
      "etag: \"AMEw9yOBqxMz8pbNWMWutaAiqHdurm3jtL-2bu1N4m7d8cPUjaNOe2RZMTR-Dda0pQ8p\"\n",
      "create_time {\n",
      "  seconds: 1612910959\n",
      "  nanos: 719664000\n",
      "}\n",
      "update_time {\n",
      "  seconds: 1612910979\n",
      "  nanos: 524266000\n",
      "}\n",
      "\n",
      "name: \"projects/895222332033/locations/us-central1/endpoints/7178280409191415808\"\n",
      "display_name: \"cifar10_endpoint-20210209062832\"\n",
      "deployed_models {\n",
      "  id: \"9068947827756892160\"\n",
      "  model: \"projects/895222332033/locations/us-central1/models/9213256529879236608\"\n",
      "  display_name: \"cifar10_deployed-20210209062832\"\n",
      "  create_time {\n",
      "    seconds: 1612853371\n",
      "    nanos: 781338000\n",
      "  }\n",
      "  dedicated_resources {\n",
      "    machine_spec {\n",
      "      machine_type: \"n1-standard-4\"\n",
      "    }\n",
      "    min_replica_count: 1\n",
      "    max_replica_count: 1\n",
      "  }\n",
      "}\n",
      "traffic_split {\n",
      "  key: \"9068947827756892160\"\n",
      "  value: 100\n",
      "}\n",
      "etag: \"AMEw9yM3QKCTMw9RIQJXWLlxAWvwLz5rj0Rz6s6XdWhrYZAQtcF0I-4dDI0bCOhz8_0C\"\n",
      "create_time {\n",
      "  seconds: 1612853331\n",
      "  nanos: 641832000\n",
      "}\n",
      "update_time {\n",
      "  seconds: 1612853571\n",
      "  nanos: 570848000\n",
      "}\n",
      "\n"
     ]
    }
   ],
   "source": [
    "for endpoint in endpoint_client.list_endpoints(parent=PARENT):\n",
    "    print(endpoint)"
   ]
  },
  {
   "cell_type": "markdown",
   "metadata": {
    "id": "XmlxD_iXGKBB"
   },
   "source": [
    "### Deploy model to the endpoint\n"
   ]
  },
  {
   "cell_type": "markdown",
   "metadata": {},
   "source": [
    "#### Define model deployment specification"
   ]
  },
  {
   "cell_type": "code",
   "execution_count": 41,
   "metadata": {},
   "outputs": [],
   "source": [
    "display_name = 'flower_classifier'\n",
    "\n",
    "machine_spec = {\n",
    "    'machine_type': DEPLOY_MACHINE_TYPE,\n",
    "    'accelerator_count': 0,\n",
    "}\n",
    "\n",
    "deployed_model_spec = {\n",
    "    'model': model_name,\n",
    "    'display_name': display_name,\n",
    "    'dedicated_resources': {\n",
    "        'min_replica_count': 1,\n",
    "        'machine_spec': machine_spec\n",
    "    },\n",
    "}\n",
    "\n",
    "traffic_split={'0': 100}"
   ]
  },
  {
   "cell_type": "markdown",
   "metadata": {},
   "source": [
    "#### Deploy the model"
   ]
  },
  {
   "cell_type": "code",
   "execution_count": 42,
   "metadata": {},
   "outputs": [
    {
     "name": "stdout",
     "output_type": "stream",
     "text": [
      "Long running operation: projects/895222332033/locations/us-central1/endpoints/2999784379921727488/operations/1364922739604848640\n",
      "deployed_model {\n",
      "  id: \"7618788747743592448\"\n",
      "}\n",
      "\n"
     ]
    }
   ],
   "source": [
    "response = endpoint_client.deploy_model(endpoint=endpoint_name, \n",
    "                                            deployed_model=deployed_model_spec, \n",
    "                                            traffic_split=traffic_split)\n",
    "\n",
    "print(\"Long running operation:\", response.operation.name)\n",
    "result = response.result()\n",
    "deployed_model_id = result.deployed_model.id\n",
    "print(result)"
   ]
  },
  {
   "cell_type": "markdown",
   "metadata": {},
   "source": [
    "#### Inspect the endpoint after deployment"
   ]
  },
  {
   "cell_type": "code",
   "execution_count": 43,
   "metadata": {},
   "outputs": [
    {
     "name": "stdout",
     "output_type": "stream",
     "text": [
      "name: \"projects/895222332033/locations/us-central1/endpoints/2999784379921727488\"\n",
      "display_name: \"flower_classifier_endpoint\"\n",
      "deployed_models {\n",
      "  id: \"7618788747743592448\"\n",
      "  model: \"projects/895222332033/locations/us-central1/models/4236778941634838528\"\n",
      "  display_name: \"flower_classifier\"\n",
      "  create_time {\n",
      "    seconds: 1612911094\n",
      "    nanos: 806618000\n",
      "  }\n",
      "  dedicated_resources {\n",
      "    machine_spec {\n",
      "      machine_type: \"n1-standard-4\"\n",
      "    }\n",
      "    min_replica_count: 1\n",
      "    max_replica_count: 1\n",
      "  }\n",
      "}\n",
      "traffic_split {\n",
      "  key: \"7618788747743592448\"\n",
      "  value: 100\n",
      "}\n",
      "etag: \"AMEw9yPwLe7EwmZ4cYDO6iK4J4fjWvCR_taFoxyTh8zx8Y2J-k47u5OOc6EBEDC5jPUx\"\n",
      "create_time {\n",
      "  seconds: 1612910959\n",
      "  nanos: 719664000\n",
      "}\n",
      "update_time {\n",
      "  seconds: 1612911353\n",
      "  nanos: 398301000\n",
      "}\n",
      "\n"
     ]
    }
   ],
   "source": [
    "response = endpoint_client.get_endpoint(name=endpoint_name)\n",
    "print(response)"
   ]
  },
  {
   "cell_type": "markdown",
   "metadata": {},
   "source": [
    "## Invoking a deployed model"
   ]
  },
  {
   "cell_type": "code",
   "execution_count": null,
   "metadata": {},
   "outputs": [],
   "source": []
  },
  {
   "cell_type": "code",
   "execution_count": 44,
   "metadata": {},
   "outputs": [],
   "source": [
    "dataset_name = 'projects/895222332033/locations/us-central1/datasets/1763599058766659584'\n",
    "model_name = 'projects/895222332033/locations/us-central1/models/4236778941634838528'\n",
    "endpoint_name = 'projects/895222332033/locations/us-central1/endpoints/2999784379921727488'\n",
    "deployed_model_id = '7618788747743592448'"
   ]
  },
  {
   "cell_type": "markdown",
   "metadata": {},
   "source": [
    "### Inspect the model's `serving_default` signature\n",
    "\n",
    "Recall that the training script saved the model with the `serving_default` signature that expects a batch of unprocessed images in their native format as an input. Image preprocessing is embedded in the serving graph."
   ]
  },
  {
   "cell_type": "code",
   "execution_count": 53,
   "metadata": {},
   "outputs": [],
   "source": [
    "response = model_client.get_model(name=model_name)\n",
    "model_artifacts_uri = response.artifact_uri"
   ]
  },
  {
   "cell_type": "code",
   "execution_count": 63,
   "metadata": {},
   "outputs": [
    {
     "name": "stdout",
     "output_type": "stream",
     "text": [
      "2021-02-09 23:54:51.215660: I tensorflow/stream_executor/platform/default/dso_loader.cc:49] Successfully opened dynamic library libcudart.so.11.0\n",
      "The given SavedModel SignatureDef contains the following input(s):\n",
      "  inputs['bytes_inputs'] tensor_info:\n",
      "      dtype: DT_STRING\n",
      "      shape: (-1)\n",
      "      name: serving_default_bytes_inputs:0\n",
      "The given SavedModel SignatureDef contains the following output(s):\n",
      "  outputs['labels'] tensor_info:\n",
      "      dtype: DT_STRING\n",
      "      shape: (-1, -1)\n",
      "      name: StatefulPartitionedCall:0\n",
      "  outputs['probabilities'] tensor_info:\n",
      "      dtype: DT_FLOAT\n",
      "      shape: (-1, -1)\n",
      "      name: StatefulPartitionedCall:1\n",
      "Method name is: tensorflow/serving/predict\n"
     ]
    }
   ],
   "source": [
    "!saved_model_cli show --dir {model_artifacts_uri} --tag_set serve --signature_def serving_default"
   ]
  },
  {
   "cell_type": "markdown",
   "metadata": {},
   "source": [
    "### Prepare the prediction request inputs\n",
    "\n",
    "The `sample_images` folder contains a couple of images of roses and daises. "
   ]
  },
  {
   "cell_type": "code",
   "execution_count": 52,
   "metadata": {},
   "outputs": [
    {
     "data": {
      "image/png": "[encoded data removed]",
      "text/plain": [
       "<Figure size 720x720 with 2 Axes>"
      ]
     },
     "metadata": {
      "needs_background": "light"
     },
     "output_type": "display_data"
    }
   ],
   "source": [
    "images_folder = 'sample_images'\n",
    "raw_images = [tf.io.read_file(os.path.join(images_folder, image_path))\n",
    "              for image_path in os.listdir(images_folder)]\n",
    "\n",
    "fig, axes = plt.subplots(nrows=1, ncols=len(raw_images), figsize=(10,10))\n",
    "for axis, image in zip(axes.flat[0:], raw_images):\n",
    "    decoded_image = tf.image.decode_image(image)\n",
    "    axis.set_title(decoded_image.shape)\n",
    "    axis.imshow(decoded_image.numpy())"
   ]
  },
  {
   "cell_type": "markdown",
   "metadata": {},
   "source": [
    "The prediction client encapsulates gRPC interface to the [Prediction Service](https://cloud.google.com/ai-platform-unified/docs/reference/rpc/google.cloud.aiplatform.v1beta1#google.cloud.aiplatform.v1beta1.PredictionService.Predict). \n",
    "\n",
    "To pass a batch of images to the service, the batch needs to be packaged as a [PredictRequest](https://cloud.google.com/ai-platform-unified/docs/reference/rpc/google.cloud.aiplatform.v1beta1#google.cloud.aiplatform.v1beta1.PredictRequest) protocol buffer. The referenced link provides a detailed description of the schema of the PredictRequest message. On a high level the batch is represented as a list of instances, where each instance is a map of the form:\n",
    "```\n",
    "{input_name: value}\n",
    "```\n",
    "\n",
    "In our case the *input name* - as embedded in the `serving_default` signature - is `bytes_input`. Since we are sending raw binary images the *value* is a base 64 encoded representation of an image. So each instance (image) is represented by the following map\n",
    "\n",
    "```\n",
    "{'bytes_input': {'b64': b64_image}}\n",
    "```\n",
    "                        \n"
   ]
  },
  {
   "cell_type": "code",
   "execution_count": 106,
   "metadata": {},
   "outputs": [],
   "source": [
    "encoded_images = [base64.b64encode(raw_image.numpy()).decode('utf-8') for raw_image in raw_images]\n",
    "instances_list = [{input_name: {'b64': encoded_image}} for encoded_image in encoded_images]\n",
    "instances = [json_format.ParseDict(s, Value()) for s in instances_list]"
   ]
  },
  {
   "cell_type": "markdown",
   "metadata": {},
   "source": [
    "### Invoking the endpoint\n",
    "\n",
    "You can now invoke the endpoint using the `predict` method."
   ]
  },
  {
   "cell_type": "code",
   "execution_count": 107,
   "metadata": {},
   "outputs": [],
   "source": [
    "response = prediction_client.predict(endpoint=endpoint_name, instances=instances, parameters=None)\n"
   ]
  },
  {
   "cell_type": "markdown",
   "metadata": {
    "id": "TpV-iwP9qw9c"
   },
   "source": [
    "## Cleaning up\n",
    "\n",
    "To clean up all GCP resources used in this project, you can [delete the GCP\n",
    "project](https://cloud.google.com/resource-manager/docs/creating-managing-projects#shutting_down_projects) you used for the tutorial.\n",
    "\n",
    "Otherwise, you can delete the individual resources you created in this tutorial:\n",
    "\n",
    "- Dataset\n",
    "- Model\n",
    "- Endpoint\n",
    "- Cloud Storage Bucket"
   ]
  },
  {
   "cell_type": "code",
   "execution_count": null,
   "metadata": {},
   "outputs": [],
   "source": [
    "print(dataset_name)\n",
    "print(model_name)\n",
    "print(endpoint_name)\n",
    "print(deployed_model_id)"
   ]
  },
  {
   "cell_type": "code",
   "execution_count": null,
   "metadata": {
    "id": "sx_vKniMq9ZX"
   },
   "outputs": [],
   "source": [
    "delete_dataset = True\n",
    "delete_model = True\n",
    "undeploy_model = True\n",
    "delete_endpoint = True\n",
    "delete_bucket = True\n",
    "\n",
    "# Undeploye the model\n",
    "try:\n",
    "    if undeploy_model:\n",
    "        endpoint_client.undeploy_model(endpoint=endpoint_name,\n",
    "                                       deployed_model_id=deployed_model_id,\n",
    "                                       traffic_split={})\n",
    "except Exception as e:\n",
    "    print(e)\n",
    "  \n",
    "# Delete the endpoint using the AI Platform (Unified) fully qualified identifier for the endpoint\n",
    "try:\n",
    "    if delete_endpoint:\n",
    "        endpoint_client.delete_endpoint(name=endpoint_name)\n",
    "except Exception as e:\n",
    "    print(e)\n",
    "        \n",
    "# Delete the model using the AI Platform (Unified) fully qualified identifier for the model\n",
    "try:\n",
    "    if delete_model:\n",
    "        model_client.delete_model(name=model_name)\n",
    "except Exception as e:\n",
    "    print(e)\n",
    "    \n",
    "\n",
    "# Delete the dataset using the AI Platform (Unified) fully qualified identifier for the dataset\n",
    "try:\n",
    "    if delete_dataset:\n",
    "        dataset_client.delete_dataset(name=dataset_name)\n",
    "except Exception as e:\n",
    "    print(e)\n",
    "\n",
    "if delete_bucket and 'BUCKET_NAME' in globals():\n",
    "    ! gsutil rm -r gs://$BUCKET_NAME"
   ]
  },
  {
   "cell_type": "code",
   "execution_count": null,
   "metadata": {},
   "outputs": [],
   "source": []
  },
  {
   "cell_type": "markdown",
   "metadata": {},
   "source": [
    "## Code snippets"
   ]
  },
  {
   "cell_type": "raw",
   "metadata": {},
   "source": [
    "display_name = 'test-model'\n",
    "model_uri = 'gs://jk-ucaip-demos/image-classifier-pipeline/model'\n",
    "image_uri = DEPLOY_IMAGE\n",
    "image_uri = 'gcr.io/cloud-aiplatform/prediction/tf2-cpu.2-2:latest'\n",
    "\n",
    "model_spec = {\n",
    "    \"display_name\": display_name,\n",
    "    \"metadata_schema_uri\": \"\",\n",
    "    \"artifact_uri\": model_uri,\n",
    "    \"container_spec\": {\n",
    "            \"image_uri\": image_uri\n",
    "    },\n",
    "}\n",
    "model_spec"
   ]
  },
  {
   "cell_type": "raw",
   "metadata": {},
   "source": [
    "response = clients['model'].upload_model(parent=PARENT, model=model_spec)\n",
    "print(\"Long running operation:\", response.operation.name)\n",
    "response = response.result(timeout=180)\n",
    "print(response)\n",
    "model_name = response.model"
   ]
  }
 ],
 "metadata": {
  "colab": {
   "collapsed_sections": [],
   "name": "ucaip_customjob_image_pipeline.ipynb",
   "provenance": [],
   "toc_visible": true
  },
  "environment": {
   "name": "tf2-gpu.2-4.mnightly-2021-01-20-debian-10-test",
   "type": "gcloud",
   "uri": "gcr.io/deeplearning-platform-release/tf2-gpu.2-4:mnightly-2021-01-20-debian-10-test"
  },
  "kernelspec": {
   "display_name": "Python 3",
   "language": "python",
   "name": "python3"
  },
  "language_info": {
   "codemirror_mode": {
    "name": "ipython",
    "version": 3
   },
   "file_extension": ".py",
   "mimetype": "text/x-python",
   "name": "python",
   "nbconvert_exporter": "python",
   "pygments_lexer": "ipython3",
   "version": "3.7.9"
  }
 },
 "nbformat": 4,
 "nbformat_minor": 4
}
