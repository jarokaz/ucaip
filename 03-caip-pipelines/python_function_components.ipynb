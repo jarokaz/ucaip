{
  "nbformat": 4,
  "nbformat_minor": 0,
  "metadata": {
    "environment": {
      "name": "tf2-2-3-gpu.2-3.m56",
      "type": "gcloud",
      "uri": "gcr.io/deeplearning-platform-release/tf2-2-3-gpu.2-3:m56"
    },
    "kernelspec": {
      "display_name": "Python 3",
      "language": "python",
      "name": "python3"
    },
    "language_info": {
      "codemirror_mode": {
        "name": "ipython",
        "version": 3
      },
      "file_extension": ".py",
      "mimetype": "text/x-python",
      "name": "python",
      "nbconvert_exporter": "python",
      "pygments_lexer": "ipython3",
      "version": "3.7.8"
    },
    "colab": {
      "name": "python-function-components.ipynb",
      "provenance": [],
      "collapsed_sections": [],
      "toc_visible": true
    }
  },
  "cells": [
    {
      "cell_type": "markdown",
      "metadata": {
        "id": "prCLL23TJsjz"
      },
      "source": [
        "# Python function-based components example\n",
        "\n",
        "A Kubeflow Pipelines component is a self-contained set of code that performs one step in your ML workflow. \n",
        "\n",
        "Python function-based components make it easier to iterate quickly by letting you build your component code as a Python function and generating the component specification for you."
      ]
    },
    {
      "cell_type": "markdown",
      "metadata": {
        "id": "RWACue6PW7bk"
      },
      "source": [
        "## Setup\n",
        "\n",
        "Before you run this notebook, ensure that your Google Cloud user account and project are granted access to the Managed Pipelines Experimental. To be granted access to the Managed Pipelines Experimental, fill out this [form](http://go/cloud-mlpipelines-signup) and let your account representative know you have requested access. \n",
        "\n",
        "This notebook is intended to be run on either one of:\n",
        "* [AI Platform Notebooks](https://cloud.google.com/ai-platform-notebooks). See the \"AI Platform Notebooks\" section in the Experimental [User Guide](https://docs.google.com/document/d/1JXtowHwppgyghnj1N1CT73hwD1caKtWkLcm2_0qGBoI/edit?usp=sharing) for more detail on creating a notebook server instance.\n",
        "* [Google Colab](https://colab.research.google.com/notebooks/intro.ipynb)\n",
        "\n",
        "We'll first install some libraries and set up some variables.\n"
      ]
    },
    {
      "cell_type": "markdown",
      "metadata": {
        "id": "GAaCPLjgiJrO"
      },
      "source": [
        "Set `gcloud` to use your project.  **Edit the following cell before running it**."
      ]
    },
    {
      "cell_type": "code",
      "metadata": {
        "id": "0GlP_C9mY3Gq"
      },
      "source": [
        "PROJECT_ID = 'your-project-id'  # <---CHANGE THIS"
      ],
      "execution_count": null,
      "outputs": []
    },
    {
      "cell_type": "code",
      "metadata": {
        "id": "VkWdxe4TXRHk"
      },
      "source": [
        "!gcloud config set project {PROJECT_ID}"
      ],
      "execution_count": null,
      "outputs": []
    },
    {
      "cell_type": "markdown",
      "metadata": {
        "id": "gckGHdW9iPrq"
      },
      "source": [
        "If you're running this notebook on colab, authenticate with your user account:"
      ]
    },
    {
      "cell_type": "code",
      "metadata": {
        "id": "kZQA0KrfXCvU"
      },
      "source": [
        "import sys\n",
        "if 'google.colab' in sys.modules:\n",
        "  from google.colab import auth\n",
        "  auth.authenticate_user()"
      ],
      "execution_count": null,
      "outputs": []
    },
    {
      "cell_type": "markdown",
      "metadata": {
        "id": "NPw5TVfWYLfQ"
      },
      "source": [
        "### Install the KFP SDK and AI Platform Pipelines client library\n",
        "\n",
        "For Managed Pipelines Experimental, you'll need to download a special version of the AI Platform client library."
      ]
    },
    {
      "cell_type": "code",
      "metadata": {
        "id": "9BiozuOQYLfS"
      },
      "source": [
        "!gsutil cp gs://cloud-aiplatform-pipelines/aiplatform_pipelines_client-0.1.0.caip20201109-py3-none-any.whl ."
      ],
      "execution_count": null,
      "outputs": []
    },
    {
      "cell_type": "markdown",
      "metadata": {
        "id": "fX-JOHG_YLfY"
      },
      "source": [
        "Then, install the libraries and restart the kernel."
      ]
    },
    {
      "cell_type": "code",
      "metadata": {
        "id": "4c4l9EWnYLfY"
      },
      "source": [
        "if 'google.colab' in sys.modules:\n",
        "  USER_FLAG = ''\n",
        "else:\n",
        "  USER_FLAG = '--user'"
      ],
      "execution_count": null,
      "outputs": []
    },
    {
      "cell_type": "code",
      "metadata": {
        "id": "JGdU0lEfVwM-"
      },
      "source": [
        "!python3 -m pip install {USER_FLAG} kfp==1.1.1 --upgrade\n",
        "!python3 -m pip install {USER_FLAG} aiplatform_pipelines_client-0.1.0.caip20201109-py3-none-any.whl --upgrade"
      ],
      "execution_count": null,
      "outputs": []
    },
    {
      "cell_type": "code",
      "metadata": {
        "id": "UrQxxf97YLfg"
      },
      "source": [
        "if not 'google.colab' in sys.modules:\n",
        "  # Automatically restart kernel after installs\n",
        "  import IPython\n",
        "  app = IPython.Application.instance()\n",
        "  app.kernel.do_shutdown(True)"
      ],
      "execution_count": null,
      "outputs": []
    },
    {
      "cell_type": "markdown",
      "metadata": {
        "id": "N33S1ikHIOPS"
      },
      "source": [
        "The KFP version should be == 1.1.1.\n",
        "\n"
      ]
    },
    {
      "cell_type": "code",
      "metadata": {
        "id": "a4uvTyimMYOr"
      },
      "source": [
        "# Check the KFP version\n",
        "!python3 -c \"import kfp; print('KFP version: {}'.format(kfp.__version__))\""
      ],
      "execution_count": null,
      "outputs": []
    },
    {
      "cell_type": "markdown",
      "metadata": {
        "id": "tskC13YxW7b3"
      },
      "source": [
        "### Set some variables\n",
        "\n",
        "**Before you run the next cell**, **edit it** to set variables for your project.  See the \"Before you begin\" section of the User Guide for information on creating your API key.  For `BUCKET_NAME`, enter the name of a Cloud Storage (GCS) bucket in your project.  Don't include the `gs://` prefix."
      ]
    },
    {
      "cell_type": "code",
      "metadata": {
        "id": "iXvbCu2CYvoS"
      },
      "source": [
        "PATH=%env PATH\n",
        "%env PATH={PATH}:/home/jupyter/.local/bin\n",
        "\n",
        "# Required Parameters\n",
        "USER = 'your-user-name' # <---CHANGE THIS\n",
        "BUCKET_NAME = 'your-bucket-name'  # <---CHANGE THIS\n",
        "PIPELINE_ROOT = 'gs://{}/pipeline_root/{}'.format(BUCKET_NAME, USER)\n",
        "\n",
        "PROJECT_ID = 'your-project-id'  # <---CHANGE THIS\n",
        "REGION = 'us-central1'\n",
        "API_KEY = 'your-api-key'  # <---CHANGE THIS\n",
        "\n",
        "print('PIPELINE_ROOT: {}'.format(PIPELINE_ROOT))"
      ],
      "execution_count": null,
      "outputs": []
    },
    {
      "cell_type": "markdown",
      "metadata": {
        "id": "oNm8J69cJskJ"
      },
      "source": [
        "\n",
        "## Build components from Python functions\n",
        "\n",
        "\n",
        "First, define your component's code as a standalone python function. Here, we're defining two functions: one to add two numbers, and one to subtract one number from another. \n",
        "\n",
        "The `add` function generates the sum as an output.\n",
        "Note the use of the `OutputPath` type in the `add` definition. A GCS path will automatically be generated, and `add` will write the sum to that path.\n",
        "The `sub` function does the same."
      ]
    },
    {
      "cell_type": "code",
      "metadata": {
        "id": "OiCQLvTHJskK"
      },
      "source": [
        "from kfp.v2.components import OutputPath\n",
        "\n",
        "def add(a: float, \n",
        "        b: float,\n",
        "        sum: OutputPath('Float')\n",
        "):\n",
        "  '''Calculates the sum of two arguments'''\n",
        "  import logging\n",
        "  import subprocess\n",
        "\n",
        "  logging.getLogger().setLevel(logging.INFO)\n",
        "  res = a + b\n",
        "  logging.info('got sum result: %s', res)\n",
        "  logging.info('sum path: %s', sum)\n",
        "\n",
        "  with open('temp.txt', \"w\") as outfile:\n",
        "    subprocess.run(['echo', str(res)], stdout=outfile)\n",
        "  subprocess.run(['gsutil', 'cp', 'temp.txt', sum])\n",
        "\n",
        "\n",
        "def sub(arg1: float, \n",
        "        arg2: float,\n",
        "        diff: OutputPath('Float')\n",
        "        ):\n",
        "  '''Calculates the difference of two arguments'''\n",
        "  import logging\n",
        "  import subprocess\n",
        "  \n",
        "  logging.getLogger().setLevel(logging.INFO)\n",
        "  logging.info(\"got arg1 %s and arg2 %s\", arg1, arg2)\n",
        "  res = arg1 - arg2\n",
        "  logging.info('got diff result: %s', res)\n",
        "  logging.info('diff path: %s', diff)\n",
        "\n",
        "  with open('temp.txt', \"w\") as outfile:\n",
        "    subprocess.run(['echo', str(res)], stdout=outfile)\n",
        "  subprocess.run(['gsutil', 'cp', 'temp.txt', diff])  \n"
      ],
      "execution_count": null,
      "outputs": []
    },
    {
      "cell_type": "markdown",
      "metadata": {
        "id": "eP4R8FhlJskX"
      },
      "source": [
        "Next, use `kfp.v2.components.create_component_from_func` to generate the component specification YAML and return a\n",
        "    factory function that you can use to create `kfp.v2.dsl.ContainerOp` class instances for your pipeline.\n",
        "    The component specification YAML is a reusable and shareable definition of your component.\n",
        "\n",
        "We're using `google/cloud-sdk:latest` as the base image for the components so that they can access the `gsutil` command-line utility. \n"
      ]
    },
    {
      "cell_type": "code",
      "metadata": {
        "id": "Y1k7wUYRJskY"
      },
      "source": [
        "import kfp.v2.components as comp\n",
        "\n",
        "add_op = comp.create_component_from_func(\n",
        "    add, output_component_file='add_component.yaml', base_image='google/cloud-sdk:latest')\n",
        "sub_op = comp.create_component_from_func(\n",
        "    sub, output_component_file='sub_component.yaml', base_image='google/cloud-sdk:latest')"
      ],
      "execution_count": null,
      "outputs": []
    },
    {
      "cell_type": "markdown",
      "metadata": {
        "id": "UIGmd9L4Jskd"
      },
      "source": [
        "## Create and run your pipeline.\n",
        "\n",
        "Now we'll define a pipeline that uses these two components.\n",
        "\n"
      ]
    },
    {
      "cell_type": "code",
      "metadata": {
        "id": "AgGqXU8VJskd"
      },
      "source": [
        "from kfp.v2 import dsl\n",
        "from kfp.v2 import compiler\n",
        "from kfp.v2 import components\n",
        "\n",
        "@dsl.pipeline(\n",
        "  name='arithmetic-pipeline',\n",
        "  description='An example pipeline that performs arithmetic calculations.'\n",
        ")\n",
        "def calc_pipeline(\n",
        "  a: float=10,\n",
        "  b: float=7,\n",
        "):\n",
        "  add_task = add_op(a, 4)\n",
        "  sub_task = sub_op(add_task.outputs['sum'], b)    \n"
      ],
      "execution_count": null,
      "outputs": []
    },
    {
      "cell_type": "markdown",
      "metadata": {
        "id": "3EgeiX4qaXNM"
      },
      "source": [
        "Compile the pipeline to create a job specification."
      ]
    },
    {
      "cell_type": "code",
      "metadata": {
        "id": "6qf9KkkoA1y7"
      },
      "source": [
        "compiler.Compiler().compile(pipeline_func=calc_pipeline, \n",
        "                            pipeline_root=PIPELINE_ROOT,\n",
        "                            output_path='fn_pipeline_job.json')"
      ],
      "execution_count": null,
      "outputs": []
    },
    {
      "cell_type": "markdown",
      "metadata": {
        "id": "mKlXKWCCJskC"
      },
      "source": [
        "Create an instance of the AI Platform client and run the pipeline."
      ]
    },
    {
      "cell_type": "code",
      "metadata": {
        "id": "NSnrYUDAW7cK"
      },
      "source": [
        "from aiplatform.pipelines import client\n",
        "\n",
        "api_client = client.Client(project_id=PROJECT_ID, region=REGION, api_key=API_KEY)\n",
        "\n",
        "response = api_client.create_run_from_job_spec(\n",
        "          job_spec_path='fn_pipeline_job.json',\n",
        "          # pipeline_root=PIPELINE_ROOT,  # optional- use if want to override compile-time value\n",
        "          )"
      ],
      "execution_count": null,
      "outputs": []
    },
    {
      "cell_type": "markdown",
      "metadata": {
        "id": "6Kgtx8-bW7cM"
      },
      "source": [
        "### Monitor the pipeline run in the Cloud Console\n",
        "\n",
        "Once you've deployed the pipeline run, you can monitor it in the [Cloud Console](https://console.cloud.google.com/ai/platform/pipelines) under **AI Platform (Unified)** > **Pipelines**. \n",
        "\n",
        "Click in to the pipeline run to see the run graph (for our simple pipeline, this consists of one step), and click on a step to view the job detail and the logs for that step."
      ]
    },
    {
      "cell_type": "markdown",
      "metadata": {
        "id": "89fYarRLW7cN"
      },
      "source": [
        "-----------------------------\n",
        "Copyright 2020 Google LLC\n",
        "\n",
        "Licensed under the Apache License, Version 2.0 (the \"License\");\n",
        "you may not use this file except in compliance with the License.\n",
        "You may obtain a copy of the License at\n",
        "\n",
        "     http://www.apache.org/licenses/LICENSE-2.0\n",
        "\n",
        "Unless required by applicable law or agreed to in writing, software\n",
        "distributed under the License is distributed on an \"AS IS\" BASIS,\n",
        "WITHOUT WARRANTIES OR CONDITIONS OF ANY KIND, either express or implied.\n",
        "See the License for the specific language governing permissions and\n",
        "limitations under the License."
      ]
    }
  ]
}